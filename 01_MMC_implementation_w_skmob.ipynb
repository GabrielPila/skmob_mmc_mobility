{
 "cells": [
  {
   "cell_type": "markdown",
   "id": "95096085-b860-42d3-8cb0-6612455b2ddf",
   "metadata": {},
   "source": [
    "# MMC Implementation"
   ]
  },
  {
   "cell_type": "markdown",
   "id": "d18b83e5-c0b9-495d-afef-313b031af35b",
   "metadata": {},
   "source": [
    "## Correct Implementation"
   ]
  },
  {
   "cell_type": "markdown",
   "id": "333a7794",
   "metadata": {},
   "source": [
    "!pip install  seaborn"
   ]
  },
  {
   "cell_type": "code",
   "execution_count": 1,
   "id": "30d91280-15df-4e09-8c77-6729023ac420",
   "metadata": {},
   "outputs": [],
   "source": [
    "import numpy as np\n",
    "#import seaborn as sns\n",
    "import matplotlib.pyplot as plt\n",
    "import pandas as pd\n",
    "import warnings\n",
    "import skmob\n",
    "from tqdm import tqdm\n",
    "from skmob.preprocessing import (filtering, \n",
    "                                 detection, \n",
    "                                 compression, \n",
    "                                 clustering)"
   ]
  },
  {
   "cell_type": "code",
   "execution_count": 2,
   "id": "17b8b922-edea-444c-8fc8-68ea1fc498cd",
   "metadata": {},
   "outputs": [],
   "source": [
    "warnings.filterwarnings('ignore')"
   ]
  },
  {
   "cell_type": "code",
   "execution_count": 3,
   "id": "88a1a591-2821-493d-9d19-a6b69cb7272d",
   "metadata": {},
   "outputs": [],
   "source": [
    "def get_clusters_from_tdf(tdf,\n",
    "                          filter_noise=True,\n",
    "                          max_speed_kmh = 50,\n",
    "                          detect_stops=True,\n",
    "                          minutes_for_a_stop = 20,\n",
    "                          compress=True,\n",
    "                          spatial_radius_km = 0.2,\n",
    "                          spatial_radius_compress_km = 0.3,\n",
    "                          cluster_radius_km = 1,\n",
    "                          min_samples=1,\n",
    "                          verbose=True):\n",
    "    '''Get Clusters From TDF\n",
    "    \n",
    "    Generates clusters from a trajectory dataframe.\n",
    "    \n",
    "    Parameters:\n",
    "    -----------\n",
    "        tdf (Trajectory Data Frame): \n",
    "        max_speed_kmh (int):\n",
    "        minutes_for_a_stop (int): \n",
    "        spatial_radius_km (float): \n",
    "        spatial_radius_compress_km (float)\n",
    "        cluster_radius_km (float):\n",
    "        verbose (bool): \n",
    "    \n",
    "    Returns:\n",
    "    --------\n",
    "        clusters (Data Frame): The Dataframe of the clusters with lat and lng.\n",
    "    '''\n",
    "    if filter_noise:\n",
    "        # 1. Noise Filtering\n",
    "        tdf_f = filtering.filter(tdf, \n",
    "                                 max_speed_kmh=max_speed_kmh)\n",
    "        if verbose: print('INFO: Noise Filtering applied')\n",
    "    \n",
    "    if detect_stops:\n",
    "    # 2. Detection Stops\n",
    "        tdf_fs = detection.stops(tdf_f, \n",
    "                                 minutes_for_a_stop=minutes_for_a_stop,\n",
    "                                 spatial_radius_km=spatial_radius_km,\n",
    "                                 leaving_time=True,\n",
    "                                 min_speed_kmh=None)\n",
    "        if verbose: print('INFO: Stops generated applied')\n",
    "    else:\n",
    "        tdf_fs = tdf_f\n",
    "        \n",
    "    # 3. Compression\n",
    "    if compress:\n",
    "        tdf_fsc = compression.compress(tdf_fs, \n",
    "                                       spatial_radius_km=spatial_radius_compress_km)\n",
    "        if verbose: print('INFO: Stops compressed')\n",
    "    else:\n",
    "        tdf_fsc = tdf_fs            \n",
    "\n",
    "    # 4. Clustering\n",
    "    tdf_fsccl = clustering.cluster(tdf_fsc, \n",
    "                                   cluster_radius_km=cluster_radius_km,\n",
    "                                   min_samples=1)\n",
    "    if verbose: print('INFO: Clusters generated')\n",
    "\n",
    "    print(tdf.shape, tdf_f.shape, tdf_fs.shape, tdf_fsc.shape, tdf_fsccl.shape)\n",
    "\n",
    "    clusters = tdf_fsccl.groupby(['cluster'])[['lat','lng']].median().reset_index()\n",
    "    print(f'INFO: {len(clusters)} clusters generated.')\n",
    "\n",
    "    m = tdf_fsccl.plot_stops(zoom=11)\n",
    "        \n",
    "    return clusters, m"
   ]
  },
  {
   "cell_type": "code",
   "execution_count": 4,
   "id": "4f2523b7-c35b-4d36-b270-0d71bdbcc299",
   "metadata": {},
   "outputs": [],
   "source": [
    "def assign_tdf_points_to_clusters(tdf, clusters, \n",
    "                                  max_radius_to_cluster_km=0.2):\n",
    "    '''Assign TDF Points to Clusters\n",
    "    \n",
    "    Attempts to assign the corresponding cluster to each of the rows of the TDF.\n",
    "    \n",
    "    Parameters:\n",
    "    -----------\n",
    "        tdf (Trajectory Data Frame): tdf to be assigned.\n",
    "        clusters (Data Frame): clusters to be assigned.\n",
    "        max_radius_to_cluster_km (float): maximum distance to consider a point part of a cluster.\n",
    "        \n",
    "    Returns:\n",
    "    --------\n",
    "        tdf_ (Trajectory Data Frame): tdf with the clusters assigned (labelled).\n",
    "        cluster_distances (Data Frame): distance from each point to each cluster.\n",
    "    \n",
    "    '''\n",
    "    ########################## CLUSTER LABELLING #########################\n",
    "    # Assign each point to a cluster (where possible)\n",
    "    \n",
    "    def get_distance_from_cluster(row, coord_cluster):\n",
    "        coord_tdf = (row['lat'], row['lng'])\n",
    "        return skmob.utils.utils.distance(coord_tdf, coord_cluster)\n",
    "    \n",
    "    tdf_ = tdf.copy()\n",
    "    cluster_distances = pd.DataFrame(index=tdf_.index)\n",
    "    for i, cluster in tqdm(list(clusters.iterrows())):\n",
    "        cluster_coord = (cluster['lat'], cluster['lng'])\n",
    "        cluster_distances[f'd_cl_{i:02d}'] = tdf_.apply(get_distance_from_cluster, axis=1, args=[cluster_coord])\n",
    "\n",
    "    # We will not consider the distances higher than max_radius_to_cluster_km\n",
    "    cluster_distances_1 = cluster_distances[(cluster_distances <= max_radius_to_cluster_km)]\n",
    "\n",
    "    # We will assign the point to the closer cluster \n",
    "    tdf_['cluster'] = cluster_distances_1.idxmin(axis=1)\n",
    "    return tdf_, cluster_distances"
   ]
  },
  {
   "cell_type": "code",
   "execution_count": 5,
   "id": "9fa4379b-e8ad-4be5-bc86-d4df922f778a",
   "metadata": {
    "tags": []
   },
   "outputs": [],
   "source": [
    "def get_mmc_transitions(tdf):\n",
    "    '''Get MMC Transitions\n",
    "    \n",
    "    Returns the tdf with the transitions ocurred ammong clusters.\n",
    "    \n",
    "    Parameters:\n",
    "    -----------\n",
    "        tdf (Trajectory Data Frame): tdf with the clusters already assigned.\n",
    "    \n",
    "    Returns:\n",
    "    --------\n",
    "        transit_df (Trajectory Data Frame): tdf with different origin and end clusters.\n",
    "    '''\n",
    "    ##################### CLUSTER TRANSITIONS ####################\n",
    "    mmc_df = tdf.dropna(subset=['cluster'])\n",
    "    mmc_df['cluster_next'] = mmc_df['cluster'].shift(-1)\n",
    "\n",
    "    mmc_df = mmc_df.dropna(subset=['cluster_next'])\n",
    "    mmc_df['transition'] = mmc_df['cluster']+'-'+mmc_df['cluster_next']\n",
    "    transit_df = mmc_df[mmc_df['cluster']!=mmc_df['cluster_next']]\n",
    "    return transit_df"
   ]
  },
  {
   "cell_type": "code",
   "execution_count": 6,
   "id": "55838c12",
   "metadata": {},
   "outputs": [],
   "source": [
    "def getStationaryVector(transitMatrix):\n",
    "    n = transitMatrix.shape[0]\n",
    "    A = np.append(transitMatrix.T - np.identity(n), np.ones(n).reshape((1,n)), axis=0)\n",
    "    B = np.zeros(n+1).reshape((n+1,1))\n",
    "    B[n][0]=1\n",
    "    return np.linalg.solve((A.T).dot(A), (A.T).dot(B)) "
   ]
  },
  {
   "cell_type": "code",
   "execution_count": 14,
   "id": "b240f598",
   "metadata": {},
   "outputs": [],
   "source": [
    "P = np.array([[0.2,0.7,0.1],\n",
    "    [0.9,0.0,0.1],\n",
    "    [0.2,0.8,0.0]])"
   ]
  },
  {
   "cell_type": "code",
   "execution_count": 15,
   "id": "a2aa6319",
   "metadata": {},
   "outputs": [
    {
     "data": {
      "text/plain": [
       "array([[0.2, 0.7, 0.1],\n",
       "       [0.9, 0. , 0.1],\n",
       "       [0.2, 0.8, 0. ]])"
      ]
     },
     "execution_count": 15,
     "metadata": {},
     "output_type": "execute_result"
    }
   ],
   "source": [
    "P"
   ]
  },
  {
   "cell_type": "code",
   "execution_count": null,
   "id": "0a75f25c",
   "metadata": {},
   "outputs": [],
   "source": []
  },
  {
   "cell_type": "code",
   "execution_count": 16,
   "id": "4fa449f1",
   "metadata": {},
   "outputs": [
    {
     "data": {
      "text/plain": [
       "array([[0.49197861],\n",
       "       [0.4171123 ],\n",
       "       [0.09090909]])"
      ]
     },
     "execution_count": 16,
     "metadata": {},
     "output_type": "execute_result"
    }
   ],
   "source": [
    "getStationaryVector(P)"
   ]
  },
  {
   "cell_type": "markdown",
   "id": "6031bc59-4736-47d5-bd59-b3c3c46e3462",
   "metadata": {},
   "source": [
    "### Evaluation of Implementation"
   ]
  },
  {
   "cell_type": "code",
   "execution_count": 7,
   "id": "dd7a73bd-11d4-4f54-803e-548f267d3441",
   "metadata": {},
   "outputs": [],
   "source": [
    "url_usr82 = 'https://raw.githubusercontent.com/bitmapup/mmc3/master/data/geolife_82.csv'\n",
    "geo82 = pd.read_csv(url_usr82, header=None)\n",
    "geo82.columns = ['user', 'hour', 'lat', 'lng']"
   ]
  },
  {
   "cell_type": "code",
   "execution_count": 8,
   "id": "dfa0f29c-50ef-4bda-b731-549894944fbd",
   "metadata": {
    "scrolled": true,
    "tags": []
   },
   "outputs": [],
   "source": [
    "trgeo82 = skmob.TrajDataFrame(geo82, \n",
    "                              datetime='hour', \n",
    "                              user_id='user')"
   ]
  },
  {
   "cell_type": "code",
   "execution_count": 24,
   "id": "b1a6cb02-37cf-45c1-92e4-3b0fc945192e",
   "metadata": {
    "tags": []
   },
   "outputs": [
    {
     "name": "stdout",
     "output_type": "stream",
     "text": [
      "INFO: Noise Filtering applied\n",
      "INFO: Clusters generated\n",
      "(172547, 4) (40, 4) (40, 4) (40, 4) (40, 5)\n",
      "INFO: 1 clusters generated.\n"
     ]
    },
    {
     "data": {
      "text/html": [
       "<div style=\"width:100%;\"><div style=\"position:relative;width:100%;height:0;padding-bottom:60%;\"><span style=\"color:#565656\">Make this Notebook Trusted to load map: File -> Trust Notebook</span><iframe src=\"about:blank\" style=\"position:absolute;width:100%;height:100%;left:0;top:0;border:none !important;\" data-html=%3C%21DOCTYPE%20html%3E%0A%3Chead%3E%20%20%20%20%0A%20%20%20%20%3Cmeta%20http-equiv%3D%22content-type%22%20content%3D%22text/html%3B%20charset%3DUTF-8%22%20/%3E%0A%20%20%20%20%0A%20%20%20%20%20%20%20%20%3Cscript%3E%0A%20%20%20%20%20%20%20%20%20%20%20%20L_NO_TOUCH%20%3D%20false%3B%0A%20%20%20%20%20%20%20%20%20%20%20%20L_DISABLE_3D%20%3D%20false%3B%0A%20%20%20%20%20%20%20%20%3C/script%3E%0A%20%20%20%20%0A%20%20%20%20%3Cstyle%3Ehtml%2C%20body%20%7Bwidth%3A%20100%25%3Bheight%3A%20100%25%3Bmargin%3A%200%3Bpadding%3A%200%3B%7D%3C/style%3E%0A%20%20%20%20%3Cstyle%3E%23map%20%7Bposition%3Aabsolute%3Btop%3A0%3Bbottom%3A0%3Bright%3A0%3Bleft%3A0%3B%7D%3C/style%3E%0A%20%20%20%20%3Cscript%20src%3D%22https%3A//cdn.jsdelivr.net/npm/leaflet%401.6.0/dist/leaflet.js%22%3E%3C/script%3E%0A%20%20%20%20%3Cscript%20src%3D%22https%3A//code.jquery.com/jquery-1.12.4.min.js%22%3E%3C/script%3E%0A%20%20%20%20%3Cscript%20src%3D%22https%3A//maxcdn.bootstrapcdn.com/bootstrap/3.2.0/js/bootstrap.min.js%22%3E%3C/script%3E%0A%20%20%20%20%3Cscript%20src%3D%22https%3A//cdnjs.cloudflare.com/ajax/libs/Leaflet.awesome-markers/2.0.2/leaflet.awesome-markers.js%22%3E%3C/script%3E%0A%20%20%20%20%3Clink%20rel%3D%22stylesheet%22%20href%3D%22https%3A//cdn.jsdelivr.net/npm/leaflet%401.6.0/dist/leaflet.css%22/%3E%0A%20%20%20%20%3Clink%20rel%3D%22stylesheet%22%20href%3D%22https%3A//maxcdn.bootstrapcdn.com/bootstrap/3.2.0/css/bootstrap.min.css%22/%3E%0A%20%20%20%20%3Clink%20rel%3D%22stylesheet%22%20href%3D%22https%3A//maxcdn.bootstrapcdn.com/bootstrap/3.2.0/css/bootstrap-theme.min.css%22/%3E%0A%20%20%20%20%3Clink%20rel%3D%22stylesheet%22%20href%3D%22https%3A//maxcdn.bootstrapcdn.com/font-awesome/4.6.3/css/font-awesome.min.css%22/%3E%0A%20%20%20%20%3Clink%20rel%3D%22stylesheet%22%20href%3D%22https%3A//cdnjs.cloudflare.com/ajax/libs/Leaflet.awesome-markers/2.0.2/leaflet.awesome-markers.css%22/%3E%0A%20%20%20%20%3Clink%20rel%3D%22stylesheet%22%20href%3D%22https%3A//cdn.jsdelivr.net/gh/python-visualization/folium/folium/templates/leaflet.awesome.rotate.min.css%22/%3E%0A%20%20%20%20%0A%20%20%20%20%20%20%20%20%20%20%20%20%3Cmeta%20name%3D%22viewport%22%20content%3D%22width%3Ddevice-width%2C%0A%20%20%20%20%20%20%20%20%20%20%20%20%20%20%20%20initial-scale%3D1.0%2C%20maximum-scale%3D1.0%2C%20user-scalable%3Dno%22%20/%3E%0A%20%20%20%20%20%20%20%20%20%20%20%20%3Cstyle%3E%0A%20%20%20%20%20%20%20%20%20%20%20%20%20%20%20%20%23map_bee431e3bb20477a89aab84c9954f2fa%20%7B%0A%20%20%20%20%20%20%20%20%20%20%20%20%20%20%20%20%20%20%20%20position%3A%20relative%3B%0A%20%20%20%20%20%20%20%20%20%20%20%20%20%20%20%20%20%20%20%20width%3A%20100.0%25%3B%0A%20%20%20%20%20%20%20%20%20%20%20%20%20%20%20%20%20%20%20%20height%3A%20100.0%25%3B%0A%20%20%20%20%20%20%20%20%20%20%20%20%20%20%20%20%20%20%20%20left%3A%200.0%25%3B%0A%20%20%20%20%20%20%20%20%20%20%20%20%20%20%20%20%20%20%20%20top%3A%200.0%25%3B%0A%20%20%20%20%20%20%20%20%20%20%20%20%20%20%20%20%7D%0A%20%20%20%20%20%20%20%20%20%20%20%20%3C/style%3E%0A%20%20%20%20%20%20%20%20%0A%20%20%20%20%3Cscript%20src%3D%22https%3A//cdnjs.cloudflare.com/ajax/libs/leaflet-dvf/0.3.0/leaflet-dvf.markers.min.js%22%3E%3C/script%3E%0A%3C/head%3E%0A%3Cbody%3E%20%20%20%20%0A%20%20%20%20%0A%20%20%20%20%20%20%20%20%20%20%20%20%3Cdiv%20class%3D%22folium-map%22%20id%3D%22map_bee431e3bb20477a89aab84c9954f2fa%22%20%3E%3C/div%3E%0A%20%20%20%20%20%20%20%20%0A%3C/body%3E%0A%3Cscript%3E%20%20%20%20%0A%20%20%20%20%0A%20%20%20%20%20%20%20%20%20%20%20%20var%20map_bee431e3bb20477a89aab84c9954f2fa%20%3D%20L.map%28%0A%20%20%20%20%20%20%20%20%20%20%20%20%20%20%20%20%22map_bee431e3bb20477a89aab84c9954f2fa%22%2C%0A%20%20%20%20%20%20%20%20%20%20%20%20%20%20%20%20%7B%0A%20%20%20%20%20%20%20%20%20%20%20%20%20%20%20%20%20%20%20%20center%3A%20%5B39.9755665%2C%20116.3332525%5D%2C%0A%20%20%20%20%20%20%20%20%20%20%20%20%20%20%20%20%20%20%20%20crs%3A%20L.CRS.EPSG3857%2C%0A%20%20%20%20%20%20%20%20%20%20%20%20%20%20%20%20%20%20%20%20zoom%3A%2011%2C%0A%20%20%20%20%20%20%20%20%20%20%20%20%20%20%20%20%20%20%20%20zoomControl%3A%20true%2C%0A%20%20%20%20%20%20%20%20%20%20%20%20%20%20%20%20%20%20%20%20preferCanvas%3A%20false%2C%0A%20%20%20%20%20%20%20%20%20%20%20%20%20%20%20%20%7D%0A%20%20%20%20%20%20%20%20%20%20%20%20%29%3B%0A%20%20%20%20%20%20%20%20%20%20%20%20L.control.scale%28%29.addTo%28map_bee431e3bb20477a89aab84c9954f2fa%29%3B%0A%0A%20%20%20%20%20%20%20%20%20%20%20%20%0A%0A%20%20%20%20%20%20%20%20%0A%20%20%20%20%0A%20%20%20%20%20%20%20%20%20%20%20%20var%20tile_layer_9ee737ee26304d5989b008b73a16d57f%20%3D%20L.tileLayer%28%0A%20%20%20%20%20%20%20%20%20%20%20%20%20%20%20%20%22https%3A//cartodb-basemaps-%7Bs%7D.global.ssl.fastly.net/light_all/%7Bz%7D/%7Bx%7D/%7By%7D.png%22%2C%0A%20%20%20%20%20%20%20%20%20%20%20%20%20%20%20%20%7B%22attribution%22%3A%20%22%5Cu0026copy%3B%20%5Cu003ca%20href%3D%5C%22http%3A//www.openstreetmap.org/copyright%5C%22%5Cu003eOpenStreetMap%5Cu003c/a%5Cu003e%20contributors%20%5Cu0026copy%3B%20%5Cu003ca%20href%3D%5C%22http%3A//cartodb.com/attributions%5C%22%5Cu003eCartoDB%5Cu003c/a%5Cu003e%2C%20CartoDB%20%5Cu003ca%20href%20%3D%5C%22http%3A//cartodb.com/attributions%5C%22%5Cu003eattributions%5Cu003c/a%5Cu003e%22%2C%20%22detectRetina%22%3A%20false%2C%20%22maxNativeZoom%22%3A%2018%2C%20%22maxZoom%22%3A%2018%2C%20%22minZoom%22%3A%200%2C%20%22noWrap%22%3A%20false%2C%20%22opacity%22%3A%201%2C%20%22subdomains%22%3A%20%22abc%22%2C%20%22tms%22%3A%20false%7D%0A%20%20%20%20%20%20%20%20%20%20%20%20%29.addTo%28map_bee431e3bb20477a89aab84c9954f2fa%29%3B%0A%20%20%20%20%20%20%20%20%0A%20%20%20%20%0A%20%20%20%20%20%20%20%20%20%20%20%20var%20regular_polygon_marker_6165c71134a84192ba998bdc832d9208%20%3D%20new%20L.RegularPolygonMarker%28%0A%20%20%20%20%20%20%20%20%20%20%20%20%20%20%20%20%5B39.97575%2C%20116.3313%5D%2C%0A%20%20%20%20%20%20%20%20%20%20%20%20%20%20%20%20%7B%22bubblingMouseEvents%22%3A%20true%2C%20%22color%22%3A%20%22%236A0213%22%2C%20%22dashArray%22%3A%20null%2C%20%22dashOffset%22%3A%20null%2C%20%22fill%22%3A%20true%2C%20%22fillColor%22%3A%20%22%236A0213%22%2C%20%22fillOpacity%22%3A%200.3%2C%20%22fillRule%22%3A%20%22evenodd%22%2C%20%22lineCap%22%3A%20%22round%22%2C%20%22lineJoin%22%3A%20%22round%22%2C%20%22numberOfSides%22%3A%204%2C%20%22opacity%22%3A%201.0%2C%20%22radius%22%3A%206%2C%20%22rotation%22%3A%200%2C%20%22stroke%22%3A%20true%2C%20%22weight%22%3A%203%7D%0A%20%20%20%20%20%20%20%20%20%20%20%20%29.addTo%28map_bee431e3bb20477a89aab84c9954f2fa%29%3B%0A%20%20%20%20%20%20%20%20%0A%20%20%20%20%0A%20%20%20%20%20%20%20%20var%20popup_a465f0a11f754d86b9c6844b16a67ff7%20%3D%20L.popup%28%7B%22maxWidth%22%3A%20300%7D%29%3B%0A%0A%20%20%20%20%20%20%20%20%0A%20%20%20%20%20%20%20%20%20%20%20%20var%20html_3e9963edf8e949789284380a2407db18%20%3D%20%24%28%60%3Cdiv%20id%3D%22html_3e9963edf8e949789284380a2407db18%22%20style%3D%22width%3A%20100.0%25%3B%20height%3A%20100.0%25%3B%22%3EUser%3A%2082.0%3CBR%3ECoord%3A%20%3Ca%20href%3D%22https%3A//www.google.co.uk/maps/place/39.97575%2C116.3313%22%20target%3D%22_blank%22%3E39.9758%2C%20116.3313%3C/a%3E%3CBR%3EArr%3A%202007/05/24%2010%3A39%3CBR%3EDep%3A%202007/05/24%2010%3A39%3CBR%3ECluster%3A%200%3C/div%3E%60%29%5B0%5D%3B%0A%20%20%20%20%20%20%20%20%20%20%20%20popup_a465f0a11f754d86b9c6844b16a67ff7.setContent%28html_3e9963edf8e949789284380a2407db18%29%3B%0A%20%20%20%20%20%20%20%20%0A%0A%20%20%20%20%20%20%20%20regular_polygon_marker_6165c71134a84192ba998bdc832d9208.bindPopup%28popup_a465f0a11f754d86b9c6844b16a67ff7%29%0A%20%20%20%20%20%20%20%20%3B%0A%0A%20%20%20%20%20%20%20%20%0A%20%20%20%20%0A%20%20%20%20%0A%20%20%20%20%20%20%20%20%20%20%20%20var%20regular_polygon_marker_b44bb6af26f84c9991d19592e28110b2%20%3D%20new%20L.RegularPolygonMarker%28%0A%20%20%20%20%20%20%20%20%20%20%20%20%20%20%20%20%5B39.97515%2C%20116.334683333333%5D%2C%0A%20%20%20%20%20%20%20%20%20%20%20%20%20%20%20%20%7B%22bubblingMouseEvents%22%3A%20true%2C%20%22color%22%3A%20%22%236A0213%22%2C%20%22dashArray%22%3A%20null%2C%20%22dashOffset%22%3A%20null%2C%20%22fill%22%3A%20true%2C%20%22fillColor%22%3A%20%22%236A0213%22%2C%20%22fillOpacity%22%3A%200.3%2C%20%22fillRule%22%3A%20%22evenodd%22%2C%20%22lineCap%22%3A%20%22round%22%2C%20%22lineJoin%22%3A%20%22round%22%2C%20%22numberOfSides%22%3A%204%2C%20%22opacity%22%3A%201.0%2C%20%22radius%22%3A%206%2C%20%22rotation%22%3A%200%2C%20%22stroke%22%3A%20true%2C%20%22weight%22%3A%203%7D%0A%20%20%20%20%20%20%20%20%20%20%20%20%29.addTo%28map_bee431e3bb20477a89aab84c9954f2fa%29%3B%0A%20%20%20%20%20%20%20%20%0A%20%20%20%20%0A%20%20%20%20%20%20%20%20var%20popup_97cec0d7246d444689ae4f062c63c46c%20%3D%20L.popup%28%7B%22maxWidth%22%3A%20300%7D%29%3B%0A%0A%20%20%20%20%20%20%20%20%0A%20%20%20%20%20%20%20%20%20%20%20%20var%20html_3c1cd34f28e24c8a9b6fc27fceeeb7b9%20%3D%20%24%28%60%3Cdiv%20id%3D%22html_3c1cd34f28e24c8a9b6fc27fceeeb7b9%22%20style%3D%22width%3A%20100.0%25%3B%20height%3A%20100.0%25%3B%22%3EUser%3A%2082.0%3CBR%3ECoord%3A%20%3Ca%20href%3D%22https%3A//www.google.co.uk/maps/place/39.97515%2C116.334683333333%22%20target%3D%22_blank%22%3E39.9752%2C%20116.3347%3C/a%3E%3CBR%3EArr%3A%202007/06/06%2014%3A30%3CBR%3EDep%3A%202007/06/06%2014%3A30%3CBR%3ECluster%3A%200%3C/div%3E%60%29%5B0%5D%3B%0A%20%20%20%20%20%20%20%20%20%20%20%20popup_97cec0d7246d444689ae4f062c63c46c.setContent%28html_3c1cd34f28e24c8a9b6fc27fceeeb7b9%29%3B%0A%20%20%20%20%20%20%20%20%0A%0A%20%20%20%20%20%20%20%20regular_polygon_marker_b44bb6af26f84c9991d19592e28110b2.bindPopup%28popup_97cec0d7246d444689ae4f062c63c46c%29%0A%20%20%20%20%20%20%20%20%3B%0A%0A%20%20%20%20%20%20%20%20%0A%20%20%20%20%0A%20%20%20%20%0A%20%20%20%20%20%20%20%20%20%20%20%20var%20regular_polygon_marker_4bf5b46543614056a1d108c618870c66%20%3D%20new%20L.RegularPolygonMarker%28%0A%20%20%20%20%20%20%20%20%20%20%20%20%20%20%20%20%5B39.9762%2C%20116.330233333333%5D%2C%0A%20%20%20%20%20%20%20%20%20%20%20%20%20%20%20%20%7B%22bubblingMouseEvents%22%3A%20true%2C%20%22color%22%3A%20%22%236A0213%22%2C%20%22dashArray%22%3A%20null%2C%20%22dashOffset%22%3A%20null%2C%20%22fill%22%3A%20true%2C%20%22fillColor%22%3A%20%22%236A0213%22%2C%20%22fillOpacity%22%3A%200.3%2C%20%22fillRule%22%3A%20%22evenodd%22%2C%20%22lineCap%22%3A%20%22round%22%2C%20%22lineJoin%22%3A%20%22round%22%2C%20%22numberOfSides%22%3A%204%2C%20%22opacity%22%3A%201.0%2C%20%22radius%22%3A%206%2C%20%22rotation%22%3A%200%2C%20%22stroke%22%3A%20true%2C%20%22weight%22%3A%203%7D%0A%20%20%20%20%20%20%20%20%20%20%20%20%29.addTo%28map_bee431e3bb20477a89aab84c9954f2fa%29%3B%0A%20%20%20%20%20%20%20%20%0A%20%20%20%20%0A%20%20%20%20%20%20%20%20var%20popup_fdd88f57f80f42008e8224e91c271e43%20%3D%20L.popup%28%7B%22maxWidth%22%3A%20300%7D%29%3B%0A%0A%20%20%20%20%20%20%20%20%0A%20%20%20%20%20%20%20%20%20%20%20%20var%20html_08d2d4039c844f87893c5121ecfd4085%20%3D%20%24%28%60%3Cdiv%20id%3D%22html_08d2d4039c844f87893c5121ecfd4085%22%20style%3D%22width%3A%20100.0%25%3B%20height%3A%20100.0%25%3B%22%3EUser%3A%2082.0%3CBR%3ECoord%3A%20%3Ca%20href%3D%22https%3A//www.google.co.uk/maps/place/39.9762%2C116.330233333333%22%20target%3D%22_blank%22%3E39.9762%2C%20116.3302%3C/a%3E%3CBR%3EArr%3A%202007/06/23%2012%3A43%3CBR%3EDep%3A%202007/06/23%2012%3A43%3CBR%3ECluster%3A%200%3C/div%3E%60%29%5B0%5D%3B%0A%20%20%20%20%20%20%20%20%20%20%20%20popup_fdd88f57f80f42008e8224e91c271e43.setContent%28html_08d2d4039c844f87893c5121ecfd4085%29%3B%0A%20%20%20%20%20%20%20%20%0A%0A%20%20%20%20%20%20%20%20regular_polygon_marker_4bf5b46543614056a1d108c618870c66.bindPopup%28popup_fdd88f57f80f42008e8224e91c271e43%29%0A%20%20%20%20%20%20%20%20%3B%0A%0A%20%20%20%20%20%20%20%20%0A%20%20%20%20%0A%20%20%20%20%0A%20%20%20%20%20%20%20%20%20%20%20%20var%20regular_polygon_marker_3969cacad1004f77b5e46a7f5017d24b%20%3D%20new%20L.RegularPolygonMarker%28%0A%20%20%20%20%20%20%20%20%20%20%20%20%20%20%20%20%5B39.97656666666671%2C%20116.3301%5D%2C%0A%20%20%20%20%20%20%20%20%20%20%20%20%20%20%20%20%7B%22bubblingMouseEvents%22%3A%20true%2C%20%22color%22%3A%20%22%236A0213%22%2C%20%22dashArray%22%3A%20null%2C%20%22dashOffset%22%3A%20null%2C%20%22fill%22%3A%20true%2C%20%22fillColor%22%3A%20%22%236A0213%22%2C%20%22fillOpacity%22%3A%200.3%2C%20%22fillRule%22%3A%20%22evenodd%22%2C%20%22lineCap%22%3A%20%22round%22%2C%20%22lineJoin%22%3A%20%22round%22%2C%20%22numberOfSides%22%3A%204%2C%20%22opacity%22%3A%201.0%2C%20%22radius%22%3A%206%2C%20%22rotation%22%3A%200%2C%20%22stroke%22%3A%20true%2C%20%22weight%22%3A%203%7D%0A%20%20%20%20%20%20%20%20%20%20%20%20%29.addTo%28map_bee431e3bb20477a89aab84c9954f2fa%29%3B%0A%20%20%20%20%20%20%20%20%0A%20%20%20%20%0A%20%20%20%20%20%20%20%20var%20popup_ebe459cb67e04c44aa7d83572696a9d2%20%3D%20L.popup%28%7B%22maxWidth%22%3A%20300%7D%29%3B%0A%0A%20%20%20%20%20%20%20%20%0A%20%20%20%20%20%20%20%20%20%20%20%20var%20html_43ff575696bc461da6ff30c041056c97%20%3D%20%24%28%60%3Cdiv%20id%3D%22html_43ff575696bc461da6ff30c041056c97%22%20style%3D%22width%3A%20100.0%25%3B%20height%3A%20100.0%25%3B%22%3EUser%3A%2082.0%3CBR%3ECoord%3A%20%3Ca%20href%3D%22https%3A//www.google.co.uk/maps/place/39.97656666666671%2C116.3301%22%20target%3D%22_blank%22%3E39.9766%2C%20116.3301%3C/a%3E%3CBR%3EArr%3A%202007/06/26%2001%3A31%3CBR%3EDep%3A%202007/06/26%2001%3A31%3CBR%3ECluster%3A%200%3C/div%3E%60%29%5B0%5D%3B%0A%20%20%20%20%20%20%20%20%20%20%20%20popup_ebe459cb67e04c44aa7d83572696a9d2.setContent%28html_43ff575696bc461da6ff30c041056c97%29%3B%0A%20%20%20%20%20%20%20%20%0A%0A%20%20%20%20%20%20%20%20regular_polygon_marker_3969cacad1004f77b5e46a7f5017d24b.bindPopup%28popup_ebe459cb67e04c44aa7d83572696a9d2%29%0A%20%20%20%20%20%20%20%20%3B%0A%0A%20%20%20%20%20%20%20%20%0A%20%20%20%20%0A%20%20%20%20%0A%20%20%20%20%20%20%20%20%20%20%20%20var%20regular_polygon_marker_65fad2b374d84dff82e7d8a44545a09c%20%3D%20new%20L.RegularPolygonMarker%28%0A%20%20%20%20%20%20%20%20%20%20%20%20%20%20%20%20%5B39.97532329999999%2C%20116.3300549%5D%2C%0A%20%20%20%20%20%20%20%20%20%20%20%20%20%20%20%20%7B%22bubblingMouseEvents%22%3A%20true%2C%20%22color%22%3A%20%22%236A0213%22%2C%20%22dashArray%22%3A%20null%2C%20%22dashOffset%22%3A%20null%2C%20%22fill%22%3A%20true%2C%20%22fillColor%22%3A%20%22%236A0213%22%2C%20%22fillOpacity%22%3A%200.3%2C%20%22fillRule%22%3A%20%22evenodd%22%2C%20%22lineCap%22%3A%20%22round%22%2C%20%22lineJoin%22%3A%20%22round%22%2C%20%22numberOfSides%22%3A%204%2C%20%22opacity%22%3A%201.0%2C%20%22radius%22%3A%206%2C%20%22rotation%22%3A%200%2C%20%22stroke%22%3A%20true%2C%20%22weight%22%3A%203%7D%0A%20%20%20%20%20%20%20%20%20%20%20%20%29.addTo%28map_bee431e3bb20477a89aab84c9954f2fa%29%3B%0A%20%20%20%20%20%20%20%20%0A%20%20%20%20%0A%20%20%20%20%20%20%20%20var%20popup_b57b076b6e5e4bdd848ab426c62233a7%20%3D%20L.popup%28%7B%22maxWidth%22%3A%20300%7D%29%3B%0A%0A%20%20%20%20%20%20%20%20%0A%20%20%20%20%20%20%20%20%20%20%20%20var%20html_ae6e50d633824af0ac1899d55d696417%20%3D%20%24%28%60%3Cdiv%20id%3D%22html_ae6e50d633824af0ac1899d55d696417%22%20style%3D%22width%3A%20100.0%25%3B%20height%3A%20100.0%25%3B%22%3EUser%3A%2082.0%3CBR%3ECoord%3A%20%3Ca%20href%3D%22https%3A//www.google.co.uk/maps/place/39.97532329999999%2C116.3300549%22%20target%3D%22_blank%22%3E39.9753%2C%20116.3301%3C/a%3E%3CBR%3EArr%3A%202007/11/28%2012%3A30%3CBR%3EDep%3A%202007/11/28%2012%3A30%3CBR%3ECluster%3A%200%3C/div%3E%60%29%5B0%5D%3B%0A%20%20%20%20%20%20%20%20%20%20%20%20popup_b57b076b6e5e4bdd848ab426c62233a7.setContent%28html_ae6e50d633824af0ac1899d55d696417%29%3B%0A%20%20%20%20%20%20%20%20%0A%0A%20%20%20%20%20%20%20%20regular_polygon_marker_65fad2b374d84dff82e7d8a44545a09c.bindPopup%28popup_b57b076b6e5e4bdd848ab426c62233a7%29%0A%20%20%20%20%20%20%20%20%3B%0A%0A%20%20%20%20%20%20%20%20%0A%20%20%20%20%0A%20%20%20%20%0A%20%20%20%20%20%20%20%20%20%20%20%20var%20regular_polygon_marker_3128847f4ec644f8a1626953108fbeb8%20%3D%20new%20L.RegularPolygonMarker%28%0A%20%20%20%20%20%20%20%20%20%20%20%20%20%20%20%20%5B39.98017%2C%20116.32735%5D%2C%0A%20%20%20%20%20%20%20%20%20%20%20%20%20%20%20%20%7B%22bubblingMouseEvents%22%3A%20true%2C%20%22color%22%3A%20%22%236A0213%22%2C%20%22dashArray%22%3A%20null%2C%20%22dashOffset%22%3A%20null%2C%20%22fill%22%3A%20true%2C%20%22fillColor%22%3A%20%22%236A0213%22%2C%20%22fillOpacity%22%3A%200.3%2C%20%22fillRule%22%3A%20%22evenodd%22%2C%20%22lineCap%22%3A%20%22round%22%2C%20%22lineJoin%22%3A%20%22round%22%2C%20%22numberOfSides%22%3A%204%2C%20%22opacity%22%3A%201.0%2C%20%22radius%22%3A%206%2C%20%22rotation%22%3A%200%2C%20%22stroke%22%3A%20true%2C%20%22weight%22%3A%203%7D%0A%20%20%20%20%20%20%20%20%20%20%20%20%29.addTo%28map_bee431e3bb20477a89aab84c9954f2fa%29%3B%0A%20%20%20%20%20%20%20%20%0A%20%20%20%20%0A%20%20%20%20%20%20%20%20var%20popup_10ab6a00b53e487683141aa3f5d5bb4c%20%3D%20L.popup%28%7B%22maxWidth%22%3A%20300%7D%29%3B%0A%0A%20%20%20%20%20%20%20%20%0A%20%20%20%20%20%20%20%20%20%20%20%20var%20html_07d0512232994e64a5db9037e28ffd5a%20%3D%20%24%28%60%3Cdiv%20id%3D%22html_07d0512232994e64a5db9037e28ffd5a%22%20style%3D%22width%3A%20100.0%25%3B%20height%3A%20100.0%25%3B%22%3EUser%3A%2082.0%3CBR%3ECoord%3A%20%3Ca%20href%3D%22https%3A//www.google.co.uk/maps/place/39.98017%2C116.32735%22%20target%3D%22_blank%22%3E39.9802%2C%20116.3274%3C/a%3E%3CBR%3EArr%3A%202008/05/16%2005%3A36%3CBR%3EDep%3A%202008/05/16%2005%3A36%3CBR%3ECluster%3A%200%3C/div%3E%60%29%5B0%5D%3B%0A%20%20%20%20%20%20%20%20%20%20%20%20popup_10ab6a00b53e487683141aa3f5d5bb4c.setContent%28html_07d0512232994e64a5db9037e28ffd5a%29%3B%0A%20%20%20%20%20%20%20%20%0A%0A%20%20%20%20%20%20%20%20regular_polygon_marker_3128847f4ec644f8a1626953108fbeb8.bindPopup%28popup_10ab6a00b53e487683141aa3f5d5bb4c%29%0A%20%20%20%20%20%20%20%20%3B%0A%0A%20%20%20%20%20%20%20%20%0A%20%20%20%20%0A%20%20%20%20%0A%20%20%20%20%20%20%20%20%20%20%20%20var%20regular_polygon_marker_a0d59cb4bc9f4ca6b69c227f27492d4a%20%3D%20new%20L.RegularPolygonMarker%28%0A%20%20%20%20%20%20%20%20%20%20%20%20%20%20%20%20%5B39.975302%2C%20116.334074%5D%2C%0A%20%20%20%20%20%20%20%20%20%20%20%20%20%20%20%20%7B%22bubblingMouseEvents%22%3A%20true%2C%20%22color%22%3A%20%22%236A0213%22%2C%20%22dashArray%22%3A%20null%2C%20%22dashOffset%22%3A%20null%2C%20%22fill%22%3A%20true%2C%20%22fillColor%22%3A%20%22%236A0213%22%2C%20%22fillOpacity%22%3A%200.3%2C%20%22fillRule%22%3A%20%22evenodd%22%2C%20%22lineCap%22%3A%20%22round%22%2C%20%22lineJoin%22%3A%20%22round%22%2C%20%22numberOfSides%22%3A%204%2C%20%22opacity%22%3A%201.0%2C%20%22radius%22%3A%206%2C%20%22rotation%22%3A%200%2C%20%22stroke%22%3A%20true%2C%20%22weight%22%3A%203%7D%0A%20%20%20%20%20%20%20%20%20%20%20%20%29.addTo%28map_bee431e3bb20477a89aab84c9954f2fa%29%3B%0A%20%20%20%20%20%20%20%20%0A%20%20%20%20%0A%20%20%20%20%20%20%20%20var%20popup_7eef3f1168374283b05bf305b89cee38%20%3D%20L.popup%28%7B%22maxWidth%22%3A%20300%7D%29%3B%0A%0A%20%20%20%20%20%20%20%20%0A%20%20%20%20%20%20%20%20%20%20%20%20var%20html_2e2fb148a35e48949293e2357efa3012%20%3D%20%24%28%60%3Cdiv%20id%3D%22html_2e2fb148a35e48949293e2357efa3012%22%20style%3D%22width%3A%20100.0%25%3B%20height%3A%20100.0%25%3B%22%3EUser%3A%2082.0%3CBR%3ECoord%3A%20%3Ca%20href%3D%22https%3A//www.google.co.uk/maps/place/39.975302%2C116.334074%22%20target%3D%22_blank%22%3E39.9753%2C%20116.3341%3C/a%3E%3CBR%3EArr%3A%202008/07/30%2014%3A05%3CBR%3EDep%3A%202008/07/30%2014%3A05%3CBR%3ECluster%3A%200%3C/div%3E%60%29%5B0%5D%3B%0A%20%20%20%20%20%20%20%20%20%20%20%20popup_7eef3f1168374283b05bf305b89cee38.setContent%28html_2e2fb148a35e48949293e2357efa3012%29%3B%0A%20%20%20%20%20%20%20%20%0A%0A%20%20%20%20%20%20%20%20regular_polygon_marker_a0d59cb4bc9f4ca6b69c227f27492d4a.bindPopup%28popup_7eef3f1168374283b05bf305b89cee38%29%0A%20%20%20%20%20%20%20%20%3B%0A%0A%20%20%20%20%20%20%20%20%0A%20%20%20%20%0A%20%20%20%20%0A%20%20%20%20%20%20%20%20%20%20%20%20var%20regular_polygon_marker_f128906e785a433b8f03b4a12d27d29d%20%3D%20new%20L.RegularPolygonMarker%28%0A%20%20%20%20%20%20%20%20%20%20%20%20%20%20%20%20%5B39.975368%2C%20116.333874%5D%2C%0A%20%20%20%20%20%20%20%20%20%20%20%20%20%20%20%20%7B%22bubblingMouseEvents%22%3A%20true%2C%20%22color%22%3A%20%22%236A0213%22%2C%20%22dashArray%22%3A%20null%2C%20%22dashOffset%22%3A%20null%2C%20%22fill%22%3A%20true%2C%20%22fillColor%22%3A%20%22%236A0213%22%2C%20%22fillOpacity%22%3A%200.3%2C%20%22fillRule%22%3A%20%22evenodd%22%2C%20%22lineCap%22%3A%20%22round%22%2C%20%22lineJoin%22%3A%20%22round%22%2C%20%22numberOfSides%22%3A%204%2C%20%22opacity%22%3A%201.0%2C%20%22radius%22%3A%206%2C%20%22rotation%22%3A%200%2C%20%22stroke%22%3A%20true%2C%20%22weight%22%3A%203%7D%0A%20%20%20%20%20%20%20%20%20%20%20%20%29.addTo%28map_bee431e3bb20477a89aab84c9954f2fa%29%3B%0A%20%20%20%20%20%20%20%20%0A%20%20%20%20%0A%20%20%20%20%20%20%20%20var%20popup_6bd39bd31cc64004bbb29313b40d531f%20%3D%20L.popup%28%7B%22maxWidth%22%3A%20300%7D%29%3B%0A%0A%20%20%20%20%20%20%20%20%0A%20%20%20%20%20%20%20%20%20%20%20%20var%20html_b26c7deef5494a4ca6e4c66e0e787b09%20%3D%20%24%28%60%3Cdiv%20id%3D%22html_b26c7deef5494a4ca6e4c66e0e787b09%22%20style%3D%22width%3A%20100.0%25%3B%20height%3A%20100.0%25%3B%22%3EUser%3A%2082.0%3CBR%3ECoord%3A%20%3Ca%20href%3D%22https%3A//www.google.co.uk/maps/place/39.975368%2C116.333874%22%20target%3D%22_blank%22%3E39.9754%2C%20116.3339%3C/a%3E%3CBR%3EArr%3A%202008/07/31%2012%3A42%3CBR%3EDep%3A%202008/07/31%2012%3A42%3CBR%3ECluster%3A%200%3C/div%3E%60%29%5B0%5D%3B%0A%20%20%20%20%20%20%20%20%20%20%20%20popup_6bd39bd31cc64004bbb29313b40d531f.setContent%28html_b26c7deef5494a4ca6e4c66e0e787b09%29%3B%0A%20%20%20%20%20%20%20%20%0A%0A%20%20%20%20%20%20%20%20regular_polygon_marker_f128906e785a433b8f03b4a12d27d29d.bindPopup%28popup_6bd39bd31cc64004bbb29313b40d531f%29%0A%20%20%20%20%20%20%20%20%3B%0A%0A%20%20%20%20%20%20%20%20%0A%20%20%20%20%0A%20%20%20%20%0A%20%20%20%20%20%20%20%20%20%20%20%20var%20regular_polygon_marker_9089e90f5ab243789cde9a7261ebba99%20%3D%20new%20L.RegularPolygonMarker%28%0A%20%20%20%20%20%20%20%20%20%20%20%20%20%20%20%20%5B39.975275%2C%20116.331702%5D%2C%0A%20%20%20%20%20%20%20%20%20%20%20%20%20%20%20%20%7B%22bubblingMouseEvents%22%3A%20true%2C%20%22color%22%3A%20%22%236A0213%22%2C%20%22dashArray%22%3A%20null%2C%20%22dashOffset%22%3A%20null%2C%20%22fill%22%3A%20true%2C%20%22fillColor%22%3A%20%22%236A0213%22%2C%20%22fillOpacity%22%3A%200.3%2C%20%22fillRule%22%3A%20%22evenodd%22%2C%20%22lineCap%22%3A%20%22round%22%2C%20%22lineJoin%22%3A%20%22round%22%2C%20%22numberOfSides%22%3A%204%2C%20%22opacity%22%3A%201.0%2C%20%22radius%22%3A%206%2C%20%22rotation%22%3A%200%2C%20%22stroke%22%3A%20true%2C%20%22weight%22%3A%203%7D%0A%20%20%20%20%20%20%20%20%20%20%20%20%29.addTo%28map_bee431e3bb20477a89aab84c9954f2fa%29%3B%0A%20%20%20%20%20%20%20%20%0A%20%20%20%20%0A%20%20%20%20%20%20%20%20var%20popup_72726709f0ae47ff9c492b4435043414%20%3D%20L.popup%28%7B%22maxWidth%22%3A%20300%7D%29%3B%0A%0A%20%20%20%20%20%20%20%20%0A%20%20%20%20%20%20%20%20%20%20%20%20var%20html_c309486b2f894cb59fc7050b557277ad%20%3D%20%24%28%60%3Cdiv%20id%3D%22html_c309486b2f894cb59fc7050b557277ad%22%20style%3D%22width%3A%20100.0%25%3B%20height%3A%20100.0%25%3B%22%3EUser%3A%2082.0%3CBR%3ECoord%3A%20%3Ca%20href%3D%22https%3A//www.google.co.uk/maps/place/39.975275%2C116.331702%22%20target%3D%22_blank%22%3E39.9753%2C%20116.3317%3C/a%3E%3CBR%3EArr%3A%202009/03/07%2008%3A44%3CBR%3EDep%3A%202009/03/07%2008%3A44%3CBR%3ECluster%3A%200%3C/div%3E%60%29%5B0%5D%3B%0A%20%20%20%20%20%20%20%20%20%20%20%20popup_72726709f0ae47ff9c492b4435043414.setContent%28html_c309486b2f894cb59fc7050b557277ad%29%3B%0A%20%20%20%20%20%20%20%20%0A%0A%20%20%20%20%20%20%20%20regular_polygon_marker_9089e90f5ab243789cde9a7261ebba99.bindPopup%28popup_72726709f0ae47ff9c492b4435043414%29%0A%20%20%20%20%20%20%20%20%3B%0A%0A%20%20%20%20%20%20%20%20%0A%20%20%20%20%0A%20%20%20%20%0A%20%20%20%20%20%20%20%20%20%20%20%20var%20regular_polygon_marker_08de336e8bd04986b1c2cae307f59f7a%20%3D%20new%20L.RegularPolygonMarker%28%0A%20%20%20%20%20%20%20%20%20%20%20%20%20%20%20%20%5B39.974899%2C%20116.332053%5D%2C%0A%20%20%20%20%20%20%20%20%20%20%20%20%20%20%20%20%7B%22bubblingMouseEvents%22%3A%20true%2C%20%22color%22%3A%20%22%236A0213%22%2C%20%22dashArray%22%3A%20null%2C%20%22dashOffset%22%3A%20null%2C%20%22fill%22%3A%20true%2C%20%22fillColor%22%3A%20%22%236A0213%22%2C%20%22fillOpacity%22%3A%200.3%2C%20%22fillRule%22%3A%20%22evenodd%22%2C%20%22lineCap%22%3A%20%22round%22%2C%20%22lineJoin%22%3A%20%22round%22%2C%20%22numberOfSides%22%3A%204%2C%20%22opacity%22%3A%201.0%2C%20%22radius%22%3A%206%2C%20%22rotation%22%3A%200%2C%20%22stroke%22%3A%20true%2C%20%22weight%22%3A%203%7D%0A%20%20%20%20%20%20%20%20%20%20%20%20%29.addTo%28map_bee431e3bb20477a89aab84c9954f2fa%29%3B%0A%20%20%20%20%20%20%20%20%0A%20%20%20%20%0A%20%20%20%20%20%20%20%20var%20popup_4c0940aa74e740e7be48f677ba62fcd0%20%3D%20L.popup%28%7B%22maxWidth%22%3A%20300%7D%29%3B%0A%0A%20%20%20%20%20%20%20%20%0A%20%20%20%20%20%20%20%20%20%20%20%20var%20html_9a5f21e33be54db8a19c289181b97d51%20%3D%20%24%28%60%3Cdiv%20id%3D%22html_9a5f21e33be54db8a19c289181b97d51%22%20style%3D%22width%3A%20100.0%25%3B%20height%3A%20100.0%25%3B%22%3EUser%3A%2082.0%3CBR%3ECoord%3A%20%3Ca%20href%3D%22https%3A//www.google.co.uk/maps/place/39.974899%2C116.332053%22%20target%3D%22_blank%22%3E39.9749%2C%20116.3321%3C/a%3E%3CBR%3EArr%3A%202009/03/09%2012%3A22%3CBR%3EDep%3A%202009/03/09%2012%3A22%3CBR%3ECluster%3A%200%3C/div%3E%60%29%5B0%5D%3B%0A%20%20%20%20%20%20%20%20%20%20%20%20popup_4c0940aa74e740e7be48f677ba62fcd0.setContent%28html_9a5f21e33be54db8a19c289181b97d51%29%3B%0A%20%20%20%20%20%20%20%20%0A%0A%20%20%20%20%20%20%20%20regular_polygon_marker_08de336e8bd04986b1c2cae307f59f7a.bindPopup%28popup_4c0940aa74e740e7be48f677ba62fcd0%29%0A%20%20%20%20%20%20%20%20%3B%0A%0A%20%20%20%20%20%20%20%20%0A%20%20%20%20%0A%20%20%20%20%0A%20%20%20%20%20%20%20%20%20%20%20%20var%20regular_polygon_marker_e2d5017c54674586a42676a7349230c6%20%3D%20new%20L.RegularPolygonMarker%28%0A%20%20%20%20%20%20%20%20%20%20%20%20%20%20%20%20%5B39.97506%2C%20116.331916%5D%2C%0A%20%20%20%20%20%20%20%20%20%20%20%20%20%20%20%20%7B%22bubblingMouseEvents%22%3A%20true%2C%20%22color%22%3A%20%22%236A0213%22%2C%20%22dashArray%22%3A%20null%2C%20%22dashOffset%22%3A%20null%2C%20%22fill%22%3A%20true%2C%20%22fillColor%22%3A%20%22%236A0213%22%2C%20%22fillOpacity%22%3A%200.3%2C%20%22fillRule%22%3A%20%22evenodd%22%2C%20%22lineCap%22%3A%20%22round%22%2C%20%22lineJoin%22%3A%20%22round%22%2C%20%22numberOfSides%22%3A%204%2C%20%22opacity%22%3A%201.0%2C%20%22radius%22%3A%206%2C%20%22rotation%22%3A%200%2C%20%22stroke%22%3A%20true%2C%20%22weight%22%3A%203%7D%0A%20%20%20%20%20%20%20%20%20%20%20%20%29.addTo%28map_bee431e3bb20477a89aab84c9954f2fa%29%3B%0A%20%20%20%20%20%20%20%20%0A%20%20%20%20%0A%20%20%20%20%20%20%20%20var%20popup_2334a2ec891242d4b300293d58ee61ac%20%3D%20L.popup%28%7B%22maxWidth%22%3A%20300%7D%29%3B%0A%0A%20%20%20%20%20%20%20%20%0A%20%20%20%20%20%20%20%20%20%20%20%20var%20html_20f9cfafa1fa4751b8636c76bc5f48c6%20%3D%20%24%28%60%3Cdiv%20id%3D%22html_20f9cfafa1fa4751b8636c76bc5f48c6%22%20style%3D%22width%3A%20100.0%25%3B%20height%3A%20100.0%25%3B%22%3EUser%3A%2082.0%3CBR%3ECoord%3A%20%3Ca%20href%3D%22https%3A//www.google.co.uk/maps/place/39.97506%2C116.331916%22%20target%3D%22_blank%22%3E39.9751%2C%20116.3319%3C/a%3E%3CBR%3EArr%3A%202009/03/10%2013%3A14%3CBR%3EDep%3A%202009/03/10%2013%3A14%3CBR%3ECluster%3A%200%3C/div%3E%60%29%5B0%5D%3B%0A%20%20%20%20%20%20%20%20%20%20%20%20popup_2334a2ec891242d4b300293d58ee61ac.setContent%28html_20f9cfafa1fa4751b8636c76bc5f48c6%29%3B%0A%20%20%20%20%20%20%20%20%0A%0A%20%20%20%20%20%20%20%20regular_polygon_marker_e2d5017c54674586a42676a7349230c6.bindPopup%28popup_2334a2ec891242d4b300293d58ee61ac%29%0A%20%20%20%20%20%20%20%20%3B%0A%0A%20%20%20%20%20%20%20%20%0A%20%20%20%20%0A%20%20%20%20%0A%20%20%20%20%20%20%20%20%20%20%20%20var%20regular_polygon_marker_a69ed1c022964a7882d5b5e21a51adae%20%3D%20new%20L.RegularPolygonMarker%28%0A%20%20%20%20%20%20%20%20%20%20%20%20%20%20%20%20%5B39.975089%2C%20116.332047%5D%2C%0A%20%20%20%20%20%20%20%20%20%20%20%20%20%20%20%20%7B%22bubblingMouseEvents%22%3A%20true%2C%20%22color%22%3A%20%22%236A0213%22%2C%20%22dashArray%22%3A%20null%2C%20%22dashOffset%22%3A%20null%2C%20%22fill%22%3A%20true%2C%20%22fillColor%22%3A%20%22%236A0213%22%2C%20%22fillOpacity%22%3A%200.3%2C%20%22fillRule%22%3A%20%22evenodd%22%2C%20%22lineCap%22%3A%20%22round%22%2C%20%22lineJoin%22%3A%20%22round%22%2C%20%22numberOfSides%22%3A%204%2C%20%22opacity%22%3A%201.0%2C%20%22radius%22%3A%206%2C%20%22rotation%22%3A%200%2C%20%22stroke%22%3A%20true%2C%20%22weight%22%3A%203%7D%0A%20%20%20%20%20%20%20%20%20%20%20%20%29.addTo%28map_bee431e3bb20477a89aab84c9954f2fa%29%3B%0A%20%20%20%20%20%20%20%20%0A%20%20%20%20%0A%20%20%20%20%20%20%20%20var%20popup_fd2582af6d40424a929a9e06105acf86%20%3D%20L.popup%28%7B%22maxWidth%22%3A%20300%7D%29%3B%0A%0A%20%20%20%20%20%20%20%20%0A%20%20%20%20%20%20%20%20%20%20%20%20var%20html_3b5d0ae0b97c4f92918da49d2aeb9c27%20%3D%20%24%28%60%3Cdiv%20id%3D%22html_3b5d0ae0b97c4f92918da49d2aeb9c27%22%20style%3D%22width%3A%20100.0%25%3B%20height%3A%20100.0%25%3B%22%3EUser%3A%2082.0%3CBR%3ECoord%3A%20%3Ca%20href%3D%22https%3A//www.google.co.uk/maps/place/39.975089%2C116.332047%22%20target%3D%22_blank%22%3E39.9751%2C%20116.332%3C/a%3E%3CBR%3EArr%3A%202009/03/11%2010%3A51%3CBR%3EDep%3A%202009/03/11%2010%3A51%3CBR%3ECluster%3A%200%3C/div%3E%60%29%5B0%5D%3B%0A%20%20%20%20%20%20%20%20%20%20%20%20popup_fd2582af6d40424a929a9e06105acf86.setContent%28html_3b5d0ae0b97c4f92918da49d2aeb9c27%29%3B%0A%20%20%20%20%20%20%20%20%0A%0A%20%20%20%20%20%20%20%20regular_polygon_marker_a69ed1c022964a7882d5b5e21a51adae.bindPopup%28popup_fd2582af6d40424a929a9e06105acf86%29%0A%20%20%20%20%20%20%20%20%3B%0A%0A%20%20%20%20%20%20%20%20%0A%20%20%20%20%0A%20%20%20%20%0A%20%20%20%20%20%20%20%20%20%20%20%20var%20regular_polygon_marker_79c9333d58784dcb8c0c983761ce145f%20%3D%20new%20L.RegularPolygonMarker%28%0A%20%20%20%20%20%20%20%20%20%20%20%20%20%20%20%20%5B39.975834000000006%2C%20116.332524%5D%2C%0A%20%20%20%20%20%20%20%20%20%20%20%20%20%20%20%20%7B%22bubblingMouseEvents%22%3A%20true%2C%20%22color%22%3A%20%22%236A0213%22%2C%20%22dashArray%22%3A%20null%2C%20%22dashOffset%22%3A%20null%2C%20%22fill%22%3A%20true%2C%20%22fillColor%22%3A%20%22%236A0213%22%2C%20%22fillOpacity%22%3A%200.3%2C%20%22fillRule%22%3A%20%22evenodd%22%2C%20%22lineCap%22%3A%20%22round%22%2C%20%22lineJoin%22%3A%20%22round%22%2C%20%22numberOfSides%22%3A%204%2C%20%22opacity%22%3A%201.0%2C%20%22radius%22%3A%206%2C%20%22rotation%22%3A%200%2C%20%22stroke%22%3A%20true%2C%20%22weight%22%3A%203%7D%0A%20%20%20%20%20%20%20%20%20%20%20%20%29.addTo%28map_bee431e3bb20477a89aab84c9954f2fa%29%3B%0A%20%20%20%20%20%20%20%20%0A%20%20%20%20%0A%20%20%20%20%20%20%20%20var%20popup_a92e36f4b5cc42f894dc5ed45844a8da%20%3D%20L.popup%28%7B%22maxWidth%22%3A%20300%7D%29%3B%0A%0A%20%20%20%20%20%20%20%20%0A%20%20%20%20%20%20%20%20%20%20%20%20var%20html_733f104074444b6fb374c330449561a4%20%3D%20%24%28%60%3Cdiv%20id%3D%22html_733f104074444b6fb374c330449561a4%22%20style%3D%22width%3A%20100.0%25%3B%20height%3A%20100.0%25%3B%22%3EUser%3A%2082.0%3CBR%3ECoord%3A%20%3Ca%20href%3D%22https%3A//www.google.co.uk/maps/place/39.975834000000006%2C116.332524%22%20target%3D%22_blank%22%3E39.9758%2C%20116.3325%3C/a%3E%3CBR%3EArr%3A%202009/03/16%2013%3A20%3CBR%3EDep%3A%202009/03/16%2013%3A20%3CBR%3ECluster%3A%200%3C/div%3E%60%29%5B0%5D%3B%0A%20%20%20%20%20%20%20%20%20%20%20%20popup_a92e36f4b5cc42f894dc5ed45844a8da.setContent%28html_733f104074444b6fb374c330449561a4%29%3B%0A%20%20%20%20%20%20%20%20%0A%0A%20%20%20%20%20%20%20%20regular_polygon_marker_79c9333d58784dcb8c0c983761ce145f.bindPopup%28popup_a92e36f4b5cc42f894dc5ed45844a8da%29%0A%20%20%20%20%20%20%20%20%3B%0A%0A%20%20%20%20%20%20%20%20%0A%20%20%20%20%0A%20%20%20%20%0A%20%20%20%20%20%20%20%20%20%20%20%20var%20regular_polygon_marker_cf3800283fb4473f829db52c1fbe52ed%20%3D%20new%20L.RegularPolygonMarker%28%0A%20%20%20%20%20%20%20%20%20%20%20%20%20%20%20%20%5B39.975319%2C%20116.33272%5D%2C%0A%20%20%20%20%20%20%20%20%20%20%20%20%20%20%20%20%7B%22bubblingMouseEvents%22%3A%20true%2C%20%22color%22%3A%20%22%236A0213%22%2C%20%22dashArray%22%3A%20null%2C%20%22dashOffset%22%3A%20null%2C%20%22fill%22%3A%20true%2C%20%22fillColor%22%3A%20%22%236A0213%22%2C%20%22fillOpacity%22%3A%200.3%2C%20%22fillRule%22%3A%20%22evenodd%22%2C%20%22lineCap%22%3A%20%22round%22%2C%20%22lineJoin%22%3A%20%22round%22%2C%20%22numberOfSides%22%3A%204%2C%20%22opacity%22%3A%201.0%2C%20%22radius%22%3A%206%2C%20%22rotation%22%3A%200%2C%20%22stroke%22%3A%20true%2C%20%22weight%22%3A%203%7D%0A%20%20%20%20%20%20%20%20%20%20%20%20%29.addTo%28map_bee431e3bb20477a89aab84c9954f2fa%29%3B%0A%20%20%20%20%20%20%20%20%0A%20%20%20%20%0A%20%20%20%20%20%20%20%20var%20popup_61743d64765d40b1b428f36cc2b9cdf3%20%3D%20L.popup%28%7B%22maxWidth%22%3A%20300%7D%29%3B%0A%0A%20%20%20%20%20%20%20%20%0A%20%20%20%20%20%20%20%20%20%20%20%20var%20html_17fb7c4aff2449e3bf0568766e4cd2f3%20%3D%20%24%28%60%3Cdiv%20id%3D%22html_17fb7c4aff2449e3bf0568766e4cd2f3%22%20style%3D%22width%3A%20100.0%25%3B%20height%3A%20100.0%25%3B%22%3EUser%3A%2082.0%3CBR%3ECoord%3A%20%3Ca%20href%3D%22https%3A//www.google.co.uk/maps/place/39.975319%2C116.33272%22%20target%3D%22_blank%22%3E39.9753%2C%20116.3327%3C/a%3E%3CBR%3EArr%3A%202009/03/19%2001%3A08%3CBR%3EDep%3A%202009/03/19%2001%3A08%3CBR%3ECluster%3A%200%3C/div%3E%60%29%5B0%5D%3B%0A%20%20%20%20%20%20%20%20%20%20%20%20popup_61743d64765d40b1b428f36cc2b9cdf3.setContent%28html_17fb7c4aff2449e3bf0568766e4cd2f3%29%3B%0A%20%20%20%20%20%20%20%20%0A%0A%20%20%20%20%20%20%20%20regular_polygon_marker_cf3800283fb4473f829db52c1fbe52ed.bindPopup%28popup_61743d64765d40b1b428f36cc2b9cdf3%29%0A%20%20%20%20%20%20%20%20%3B%0A%0A%20%20%20%20%20%20%20%20%0A%20%20%20%20%0A%20%20%20%20%0A%20%20%20%20%20%20%20%20%20%20%20%20var%20regular_polygon_marker_68c27459d05646bb809983b3373804c3%20%3D%20new%20L.RegularPolygonMarker%28%0A%20%20%20%20%20%20%20%20%20%20%20%20%20%20%20%20%5B39.975356%2C%20116.332807%5D%2C%0A%20%20%20%20%20%20%20%20%20%20%20%20%20%20%20%20%7B%22bubblingMouseEvents%22%3A%20true%2C%20%22color%22%3A%20%22%236A0213%22%2C%20%22dashArray%22%3A%20null%2C%20%22dashOffset%22%3A%20null%2C%20%22fill%22%3A%20true%2C%20%22fillColor%22%3A%20%22%236A0213%22%2C%20%22fillOpacity%22%3A%200.3%2C%20%22fillRule%22%3A%20%22evenodd%22%2C%20%22lineCap%22%3A%20%22round%22%2C%20%22lineJoin%22%3A%20%22round%22%2C%20%22numberOfSides%22%3A%204%2C%20%22opacity%22%3A%201.0%2C%20%22radius%22%3A%206%2C%20%22rotation%22%3A%200%2C%20%22stroke%22%3A%20true%2C%20%22weight%22%3A%203%7D%0A%20%20%20%20%20%20%20%20%20%20%20%20%29.addTo%28map_bee431e3bb20477a89aab84c9954f2fa%29%3B%0A%20%20%20%20%20%20%20%20%0A%20%20%20%20%0A%20%20%20%20%20%20%20%20var%20popup_831a58fb5d124f628c1f5ded56c8438a%20%3D%20L.popup%28%7B%22maxWidth%22%3A%20300%7D%29%3B%0A%0A%20%20%20%20%20%20%20%20%0A%20%20%20%20%20%20%20%20%20%20%20%20var%20html_9b8ef4f65f284fa6be9fa6dfc11a0fc5%20%3D%20%24%28%60%3Cdiv%20id%3D%22html_9b8ef4f65f284fa6be9fa6dfc11a0fc5%22%20style%3D%22width%3A%20100.0%25%3B%20height%3A%20100.0%25%3B%22%3EUser%3A%2082.0%3CBR%3ECoord%3A%20%3Ca%20href%3D%22https%3A//www.google.co.uk/maps/place/39.975356%2C116.332807%22%20target%3D%22_blank%22%3E39.9754%2C%20116.3328%3C/a%3E%3CBR%3EArr%3A%202009/03/19%2013%3A44%3CBR%3EDep%3A%202009/03/19%2013%3A44%3CBR%3ECluster%3A%200%3C/div%3E%60%29%5B0%5D%3B%0A%20%20%20%20%20%20%20%20%20%20%20%20popup_831a58fb5d124f628c1f5ded56c8438a.setContent%28html_9b8ef4f65f284fa6be9fa6dfc11a0fc5%29%3B%0A%20%20%20%20%20%20%20%20%0A%0A%20%20%20%20%20%20%20%20regular_polygon_marker_68c27459d05646bb809983b3373804c3.bindPopup%28popup_831a58fb5d124f628c1f5ded56c8438a%29%0A%20%20%20%20%20%20%20%20%3B%0A%0A%20%20%20%20%20%20%20%20%0A%20%20%20%20%0A%20%20%20%20%0A%20%20%20%20%20%20%20%20%20%20%20%20var%20regular_polygon_marker_71c06c7247074c81b14241bdcdcae847%20%3D%20new%20L.RegularPolygonMarker%28%0A%20%20%20%20%20%20%20%20%20%20%20%20%20%20%20%20%5B39.975474%2C%20116.332031%5D%2C%0A%20%20%20%20%20%20%20%20%20%20%20%20%20%20%20%20%7B%22bubblingMouseEvents%22%3A%20true%2C%20%22color%22%3A%20%22%236A0213%22%2C%20%22dashArray%22%3A%20null%2C%20%22dashOffset%22%3A%20null%2C%20%22fill%22%3A%20true%2C%20%22fillColor%22%3A%20%22%236A0213%22%2C%20%22fillOpacity%22%3A%200.3%2C%20%22fillRule%22%3A%20%22evenodd%22%2C%20%22lineCap%22%3A%20%22round%22%2C%20%22lineJoin%22%3A%20%22round%22%2C%20%22numberOfSides%22%3A%204%2C%20%22opacity%22%3A%201.0%2C%20%22radius%22%3A%206%2C%20%22rotation%22%3A%200%2C%20%22stroke%22%3A%20true%2C%20%22weight%22%3A%203%7D%0A%20%20%20%20%20%20%20%20%20%20%20%20%29.addTo%28map_bee431e3bb20477a89aab84c9954f2fa%29%3B%0A%20%20%20%20%20%20%20%20%0A%20%20%20%20%0A%20%20%20%20%20%20%20%20var%20popup_c411beaaff844c31821340bbf1daf1c2%20%3D%20L.popup%28%7B%22maxWidth%22%3A%20300%7D%29%3B%0A%0A%20%20%20%20%20%20%20%20%0A%20%20%20%20%20%20%20%20%20%20%20%20var%20html_3284cb9975ed4b178a507a18e1a4c412%20%3D%20%24%28%60%3Cdiv%20id%3D%22html_3284cb9975ed4b178a507a18e1a4c412%22%20style%3D%22width%3A%20100.0%25%3B%20height%3A%20100.0%25%3B%22%3EUser%3A%2082.0%3CBR%3ECoord%3A%20%3Ca%20href%3D%22https%3A//www.google.co.uk/maps/place/39.975474%2C116.332031%22%20target%3D%22_blank%22%3E39.9755%2C%20116.332%3C/a%3E%3CBR%3EArr%3A%202009/03/22%2014%3A17%3CBR%3EDep%3A%202009/03/22%2014%3A17%3CBR%3ECluster%3A%200%3C/div%3E%60%29%5B0%5D%3B%0A%20%20%20%20%20%20%20%20%20%20%20%20popup_c411beaaff844c31821340bbf1daf1c2.setContent%28html_3284cb9975ed4b178a507a18e1a4c412%29%3B%0A%20%20%20%20%20%20%20%20%0A%0A%20%20%20%20%20%20%20%20regular_polygon_marker_71c06c7247074c81b14241bdcdcae847.bindPopup%28popup_c411beaaff844c31821340bbf1daf1c2%29%0A%20%20%20%20%20%20%20%20%3B%0A%0A%20%20%20%20%20%20%20%20%0A%20%20%20%20%0A%20%20%20%20%0A%20%20%20%20%20%20%20%20%20%20%20%20var%20regular_polygon_marker_502b35b38d524b95931e7658cef246d6%20%3D%20new%20L.RegularPolygonMarker%28%0A%20%20%20%20%20%20%20%20%20%20%20%20%20%20%20%20%5B39.975548%2C%20116.332117%5D%2C%0A%20%20%20%20%20%20%20%20%20%20%20%20%20%20%20%20%7B%22bubblingMouseEvents%22%3A%20true%2C%20%22color%22%3A%20%22%236A0213%22%2C%20%22dashArray%22%3A%20null%2C%20%22dashOffset%22%3A%20null%2C%20%22fill%22%3A%20true%2C%20%22fillColor%22%3A%20%22%236A0213%22%2C%20%22fillOpacity%22%3A%200.3%2C%20%22fillRule%22%3A%20%22evenodd%22%2C%20%22lineCap%22%3A%20%22round%22%2C%20%22lineJoin%22%3A%20%22round%22%2C%20%22numberOfSides%22%3A%204%2C%20%22opacity%22%3A%201.0%2C%20%22radius%22%3A%206%2C%20%22rotation%22%3A%200%2C%20%22stroke%22%3A%20true%2C%20%22weight%22%3A%203%7D%0A%20%20%20%20%20%20%20%20%20%20%20%20%29.addTo%28map_bee431e3bb20477a89aab84c9954f2fa%29%3B%0A%20%20%20%20%20%20%20%20%0A%20%20%20%20%0A%20%20%20%20%20%20%20%20var%20popup_af23c37a333749d1af9d72a4a895a00e%20%3D%20L.popup%28%7B%22maxWidth%22%3A%20300%7D%29%3B%0A%0A%20%20%20%20%20%20%20%20%0A%20%20%20%20%20%20%20%20%20%20%20%20var%20html_59567cc92a9f4921994f38780ce1c389%20%3D%20%24%28%60%3Cdiv%20id%3D%22html_59567cc92a9f4921994f38780ce1c389%22%20style%3D%22width%3A%20100.0%25%3B%20height%3A%20100.0%25%3B%22%3EUser%3A%2082.0%3CBR%3ECoord%3A%20%3Ca%20href%3D%22https%3A//www.google.co.uk/maps/place/39.975548%2C116.332117%22%20target%3D%22_blank%22%3E39.9755%2C%20116.3321%3C/a%3E%3CBR%3EArr%3A%202009/03/23%2001%3A33%3CBR%3EDep%3A%202009/03/23%2001%3A33%3CBR%3ECluster%3A%200%3C/div%3E%60%29%5B0%5D%3B%0A%20%20%20%20%20%20%20%20%20%20%20%20popup_af23c37a333749d1af9d72a4a895a00e.setContent%28html_59567cc92a9f4921994f38780ce1c389%29%3B%0A%20%20%20%20%20%20%20%20%0A%0A%20%20%20%20%20%20%20%20regular_polygon_marker_502b35b38d524b95931e7658cef246d6.bindPopup%28popup_af23c37a333749d1af9d72a4a895a00e%29%0A%20%20%20%20%20%20%20%20%3B%0A%0A%20%20%20%20%20%20%20%20%0A%20%20%20%20%0A%20%20%20%20%0A%20%20%20%20%20%20%20%20%20%20%20%20var%20regular_polygon_marker_f3cf6fba4e044b87a7aa9c401ec5c111%20%3D%20new%20L.RegularPolygonMarker%28%0A%20%20%20%20%20%20%20%20%20%20%20%20%20%20%20%20%5B39.975378000000006%2C%20116.33225%5D%2C%0A%20%20%20%20%20%20%20%20%20%20%20%20%20%20%20%20%7B%22bubblingMouseEvents%22%3A%20true%2C%20%22color%22%3A%20%22%236A0213%22%2C%20%22dashArray%22%3A%20null%2C%20%22dashOffset%22%3A%20null%2C%20%22fill%22%3A%20true%2C%20%22fillColor%22%3A%20%22%236A0213%22%2C%20%22fillOpacity%22%3A%200.3%2C%20%22fillRule%22%3A%20%22evenodd%22%2C%20%22lineCap%22%3A%20%22round%22%2C%20%22lineJoin%22%3A%20%22round%22%2C%20%22numberOfSides%22%3A%204%2C%20%22opacity%22%3A%201.0%2C%20%22radius%22%3A%206%2C%20%22rotation%22%3A%200%2C%20%22stroke%22%3A%20true%2C%20%22weight%22%3A%203%7D%0A%20%20%20%20%20%20%20%20%20%20%20%20%29.addTo%28map_bee431e3bb20477a89aab84c9954f2fa%29%3B%0A%20%20%20%20%20%20%20%20%0A%20%20%20%20%0A%20%20%20%20%20%20%20%20var%20popup_d2c1a5d9b09b406f9122653ada5d77ba%20%3D%20L.popup%28%7B%22maxWidth%22%3A%20300%7D%29%3B%0A%0A%20%20%20%20%20%20%20%20%0A%20%20%20%20%20%20%20%20%20%20%20%20var%20html_4fbaa6863cc341ca845de52a39cf66c6%20%3D%20%24%28%60%3Cdiv%20id%3D%22html_4fbaa6863cc341ca845de52a39cf66c6%22%20style%3D%22width%3A%20100.0%25%3B%20height%3A%20100.0%25%3B%22%3EUser%3A%2082.0%3CBR%3ECoord%3A%20%3Ca%20href%3D%22https%3A//www.google.co.uk/maps/place/39.975378000000006%2C116.33225%22%20target%3D%22_blank%22%3E39.9754%2C%20116.3322%3C/a%3E%3CBR%3EArr%3A%202009/03/24%2001%3A16%3CBR%3EDep%3A%202009/03/24%2001%3A16%3CBR%3ECluster%3A%200%3C/div%3E%60%29%5B0%5D%3B%0A%20%20%20%20%20%20%20%20%20%20%20%20popup_d2c1a5d9b09b406f9122653ada5d77ba.setContent%28html_4fbaa6863cc341ca845de52a39cf66c6%29%3B%0A%20%20%20%20%20%20%20%20%0A%0A%20%20%20%20%20%20%20%20regular_polygon_marker_f3cf6fba4e044b87a7aa9c401ec5c111.bindPopup%28popup_d2c1a5d9b09b406f9122653ada5d77ba%29%0A%20%20%20%20%20%20%20%20%3B%0A%0A%20%20%20%20%20%20%20%20%0A%20%20%20%20%0A%20%20%20%20%0A%20%20%20%20%20%20%20%20%20%20%20%20var%20regular_polygon_marker_10bd0228f6f14bf3b39aa7061c02f8f9%20%3D%20new%20L.RegularPolygonMarker%28%0A%20%20%20%20%20%20%20%20%20%20%20%20%20%20%20%20%5B39.97537%2C%20116.333423%5D%2C%0A%20%20%20%20%20%20%20%20%20%20%20%20%20%20%20%20%7B%22bubblingMouseEvents%22%3A%20true%2C%20%22color%22%3A%20%22%236A0213%22%2C%20%22dashArray%22%3A%20null%2C%20%22dashOffset%22%3A%20null%2C%20%22fill%22%3A%20true%2C%20%22fillColor%22%3A%20%22%236A0213%22%2C%20%22fillOpacity%22%3A%200.3%2C%20%22fillRule%22%3A%20%22evenodd%22%2C%20%22lineCap%22%3A%20%22round%22%2C%20%22lineJoin%22%3A%20%22round%22%2C%20%22numberOfSides%22%3A%204%2C%20%22opacity%22%3A%201.0%2C%20%22radius%22%3A%206%2C%20%22rotation%22%3A%200%2C%20%22stroke%22%3A%20true%2C%20%22weight%22%3A%203%7D%0A%20%20%20%20%20%20%20%20%20%20%20%20%29.addTo%28map_bee431e3bb20477a89aab84c9954f2fa%29%3B%0A%20%20%20%20%20%20%20%20%0A%20%20%20%20%0A%20%20%20%20%20%20%20%20var%20popup_04e22c555d6246919caa86e5fc36db6a%20%3D%20L.popup%28%7B%22maxWidth%22%3A%20300%7D%29%3B%0A%0A%20%20%20%20%20%20%20%20%0A%20%20%20%20%20%20%20%20%20%20%20%20var%20html_17ea6f9008344431aa327b2f34988375%20%3D%20%24%28%60%3Cdiv%20id%3D%22html_17ea6f9008344431aa327b2f34988375%22%20style%3D%22width%3A%20100.0%25%3B%20height%3A%20100.0%25%3B%22%3EUser%3A%2082.0%3CBR%3ECoord%3A%20%3Ca%20href%3D%22https%3A//www.google.co.uk/maps/place/39.97537%2C116.333423%22%20target%3D%22_blank%22%3E39.9754%2C%20116.3334%3C/a%3E%3CBR%3EArr%3A%202009/03/28%2007%3A59%3CBR%3EDep%3A%202009/03/28%2007%3A59%3CBR%3ECluster%3A%200%3C/div%3E%60%29%5B0%5D%3B%0A%20%20%20%20%20%20%20%20%20%20%20%20popup_04e22c555d6246919caa86e5fc36db6a.setContent%28html_17ea6f9008344431aa327b2f34988375%29%3B%0A%20%20%20%20%20%20%20%20%0A%0A%20%20%20%20%20%20%20%20regular_polygon_marker_10bd0228f6f14bf3b39aa7061c02f8f9.bindPopup%28popup_04e22c555d6246919caa86e5fc36db6a%29%0A%20%20%20%20%20%20%20%20%3B%0A%0A%20%20%20%20%20%20%20%20%0A%20%20%20%20%0A%20%20%20%20%0A%20%20%20%20%20%20%20%20%20%20%20%20var%20regular_polygon_marker_48ccce139b444757ac00eea081f43cce%20%3D%20new%20L.RegularPolygonMarker%28%0A%20%20%20%20%20%20%20%20%20%20%20%20%20%20%20%20%5B39.975585%2C%20116.333786%5D%2C%0A%20%20%20%20%20%20%20%20%20%20%20%20%20%20%20%20%7B%22bubblingMouseEvents%22%3A%20true%2C%20%22color%22%3A%20%22%236A0213%22%2C%20%22dashArray%22%3A%20null%2C%20%22dashOffset%22%3A%20null%2C%20%22fill%22%3A%20true%2C%20%22fillColor%22%3A%20%22%236A0213%22%2C%20%22fillOpacity%22%3A%200.3%2C%20%22fillRule%22%3A%20%22evenodd%22%2C%20%22lineCap%22%3A%20%22round%22%2C%20%22lineJoin%22%3A%20%22round%22%2C%20%22numberOfSides%22%3A%204%2C%20%22opacity%22%3A%201.0%2C%20%22radius%22%3A%206%2C%20%22rotation%22%3A%200%2C%20%22stroke%22%3A%20true%2C%20%22weight%22%3A%203%7D%0A%20%20%20%20%20%20%20%20%20%20%20%20%29.addTo%28map_bee431e3bb20477a89aab84c9954f2fa%29%3B%0A%20%20%20%20%20%20%20%20%0A%20%20%20%20%0A%20%20%20%20%20%20%20%20var%20popup_7f0c903314c8400bb4873682c92adfe8%20%3D%20L.popup%28%7B%22maxWidth%22%3A%20300%7D%29%3B%0A%0A%20%20%20%20%20%20%20%20%0A%20%20%20%20%20%20%20%20%20%20%20%20var%20html_3cf0bdb1fcf6481183915ed2d8a530bf%20%3D%20%24%28%60%3Cdiv%20id%3D%22html_3cf0bdb1fcf6481183915ed2d8a530bf%22%20style%3D%22width%3A%20100.0%25%3B%20height%3A%20100.0%25%3B%22%3EUser%3A%2082.0%3CBR%3ECoord%3A%20%3Ca%20href%3D%22https%3A//www.google.co.uk/maps/place/39.975585%2C116.333786%22%20target%3D%22_blank%22%3E39.9756%2C%20116.3338%3C/a%3E%3CBR%3EArr%3A%202009/03/30%2001%3A09%3CBR%3EDep%3A%202009/03/30%2001%3A09%3CBR%3ECluster%3A%200%3C/div%3E%60%29%5B0%5D%3B%0A%20%20%20%20%20%20%20%20%20%20%20%20popup_7f0c903314c8400bb4873682c92adfe8.setContent%28html_3cf0bdb1fcf6481183915ed2d8a530bf%29%3B%0A%20%20%20%20%20%20%20%20%0A%0A%20%20%20%20%20%20%20%20regular_polygon_marker_48ccce139b444757ac00eea081f43cce.bindPopup%28popup_7f0c903314c8400bb4873682c92adfe8%29%0A%20%20%20%20%20%20%20%20%3B%0A%0A%20%20%20%20%20%20%20%20%0A%20%20%20%20%0A%20%20%20%20%0A%20%20%20%20%20%20%20%20%20%20%20%20var%20regular_polygon_marker_ca40ae0905ba4d139a32386dabdbf36a%20%3D%20new%20L.RegularPolygonMarker%28%0A%20%20%20%20%20%20%20%20%20%20%20%20%20%20%20%20%5B39.975723%2C%20116.333708%5D%2C%0A%20%20%20%20%20%20%20%20%20%20%20%20%20%20%20%20%7B%22bubblingMouseEvents%22%3A%20true%2C%20%22color%22%3A%20%22%236A0213%22%2C%20%22dashArray%22%3A%20null%2C%20%22dashOffset%22%3A%20null%2C%20%22fill%22%3A%20true%2C%20%22fillColor%22%3A%20%22%236A0213%22%2C%20%22fillOpacity%22%3A%200.3%2C%20%22fillRule%22%3A%20%22evenodd%22%2C%20%22lineCap%22%3A%20%22round%22%2C%20%22lineJoin%22%3A%20%22round%22%2C%20%22numberOfSides%22%3A%204%2C%20%22opacity%22%3A%201.0%2C%20%22radius%22%3A%206%2C%20%22rotation%22%3A%200%2C%20%22stroke%22%3A%20true%2C%20%22weight%22%3A%203%7D%0A%20%20%20%20%20%20%20%20%20%20%20%20%29.addTo%28map_bee431e3bb20477a89aab84c9954f2fa%29%3B%0A%20%20%20%20%20%20%20%20%0A%20%20%20%20%0A%20%20%20%20%20%20%20%20var%20popup_5e185e53041046199e1810648378c7f6%20%3D%20L.popup%28%7B%22maxWidth%22%3A%20300%7D%29%3B%0A%0A%20%20%20%20%20%20%20%20%0A%20%20%20%20%20%20%20%20%20%20%20%20var%20html_4b2db56130e04bbfbabe937925e4ebf2%20%3D%20%24%28%60%3Cdiv%20id%3D%22html_4b2db56130e04bbfbabe937925e4ebf2%22%20style%3D%22width%3A%20100.0%25%3B%20height%3A%20100.0%25%3B%22%3EUser%3A%2082.0%3CBR%3ECoord%3A%20%3Ca%20href%3D%22https%3A//www.google.co.uk/maps/place/39.975723%2C116.333708%22%20target%3D%22_blank%22%3E39.9757%2C%20116.3337%3C/a%3E%3CBR%3EArr%3A%202009/03/31%2000%3A54%3CBR%3EDep%3A%202009/03/31%2000%3A54%3CBR%3ECluster%3A%200%3C/div%3E%60%29%5B0%5D%3B%0A%20%20%20%20%20%20%20%20%20%20%20%20popup_5e185e53041046199e1810648378c7f6.setContent%28html_4b2db56130e04bbfbabe937925e4ebf2%29%3B%0A%20%20%20%20%20%20%20%20%0A%0A%20%20%20%20%20%20%20%20regular_polygon_marker_ca40ae0905ba4d139a32386dabdbf36a.bindPopup%28popup_5e185e53041046199e1810648378c7f6%29%0A%20%20%20%20%20%20%20%20%3B%0A%0A%20%20%20%20%20%20%20%20%0A%20%20%20%20%0A%20%20%20%20%0A%20%20%20%20%20%20%20%20%20%20%20%20var%20regular_polygon_marker_ab0e82474abe4022991bf240e452076f%20%3D%20new%20L.RegularPolygonMarker%28%0A%20%20%20%20%20%20%20%20%20%20%20%20%20%20%20%20%5B39.975331%2C%20116.334083%5D%2C%0A%20%20%20%20%20%20%20%20%20%20%20%20%20%20%20%20%7B%22bubblingMouseEvents%22%3A%20true%2C%20%22color%22%3A%20%22%236A0213%22%2C%20%22dashArray%22%3A%20null%2C%20%22dashOffset%22%3A%20null%2C%20%22fill%22%3A%20true%2C%20%22fillColor%22%3A%20%22%236A0213%22%2C%20%22fillOpacity%22%3A%200.3%2C%20%22fillRule%22%3A%20%22evenodd%22%2C%20%22lineCap%22%3A%20%22round%22%2C%20%22lineJoin%22%3A%20%22round%22%2C%20%22numberOfSides%22%3A%204%2C%20%22opacity%22%3A%201.0%2C%20%22radius%22%3A%206%2C%20%22rotation%22%3A%200%2C%20%22stroke%22%3A%20true%2C%20%22weight%22%3A%203%7D%0A%20%20%20%20%20%20%20%20%20%20%20%20%29.addTo%28map_bee431e3bb20477a89aab84c9954f2fa%29%3B%0A%20%20%20%20%20%20%20%20%0A%20%20%20%20%0A%20%20%20%20%20%20%20%20var%20popup_3e2f60ee9fcb4b9ea73b83e3ef71ab56%20%3D%20L.popup%28%7B%22maxWidth%22%3A%20300%7D%29%3B%0A%0A%20%20%20%20%20%20%20%20%0A%20%20%20%20%20%20%20%20%20%20%20%20var%20html_4c27b51045da48e89093afa7b0c152af%20%3D%20%24%28%60%3Cdiv%20id%3D%22html_4c27b51045da48e89093afa7b0c152af%22%20style%3D%22width%3A%20100.0%25%3B%20height%3A%20100.0%25%3B%22%3EUser%3A%2082.0%3CBR%3ECoord%3A%20%3Ca%20href%3D%22https%3A//www.google.co.uk/maps/place/39.975331%2C116.334083%22%20target%3D%22_blank%22%3E39.9753%2C%20116.3341%3C/a%3E%3CBR%3EArr%3A%202009/04/02%2013%3A38%3CBR%3EDep%3A%202009/04/02%2013%3A38%3CBR%3ECluster%3A%200%3C/div%3E%60%29%5B0%5D%3B%0A%20%20%20%20%20%20%20%20%20%20%20%20popup_3e2f60ee9fcb4b9ea73b83e3ef71ab56.setContent%28html_4c27b51045da48e89093afa7b0c152af%29%3B%0A%20%20%20%20%20%20%20%20%0A%0A%20%20%20%20%20%20%20%20regular_polygon_marker_ab0e82474abe4022991bf240e452076f.bindPopup%28popup_3e2f60ee9fcb4b9ea73b83e3ef71ab56%29%0A%20%20%20%20%20%20%20%20%3B%0A%0A%20%20%20%20%20%20%20%20%0A%20%20%20%20%0A%20%20%20%20%0A%20%20%20%20%20%20%20%20%20%20%20%20var%20regular_polygon_marker_89f5325a70ab48e199681cd19bd28ca7%20%3D%20new%20L.RegularPolygonMarker%28%0A%20%20%20%20%20%20%20%20%20%20%20%20%20%20%20%20%5B39.97505%2C%20116.333713%5D%2C%0A%20%20%20%20%20%20%20%20%20%20%20%20%20%20%20%20%7B%22bubblingMouseEvents%22%3A%20true%2C%20%22color%22%3A%20%22%236A0213%22%2C%20%22dashArray%22%3A%20null%2C%20%22dashOffset%22%3A%20null%2C%20%22fill%22%3A%20true%2C%20%22fillColor%22%3A%20%22%236A0213%22%2C%20%22fillOpacity%22%3A%200.3%2C%20%22fillRule%22%3A%20%22evenodd%22%2C%20%22lineCap%22%3A%20%22round%22%2C%20%22lineJoin%22%3A%20%22round%22%2C%20%22numberOfSides%22%3A%204%2C%20%22opacity%22%3A%201.0%2C%20%22radius%22%3A%206%2C%20%22rotation%22%3A%200%2C%20%22stroke%22%3A%20true%2C%20%22weight%22%3A%203%7D%0A%20%20%20%20%20%20%20%20%20%20%20%20%29.addTo%28map_bee431e3bb20477a89aab84c9954f2fa%29%3B%0A%20%20%20%20%20%20%20%20%0A%20%20%20%20%0A%20%20%20%20%20%20%20%20var%20popup_789afe17b30e417b8feb56c9097e73f5%20%3D%20L.popup%28%7B%22maxWidth%22%3A%20300%7D%29%3B%0A%0A%20%20%20%20%20%20%20%20%0A%20%20%20%20%20%20%20%20%20%20%20%20var%20html_65074bed11c845209bca3b18d81b4678%20%3D%20%24%28%60%3Cdiv%20id%3D%22html_65074bed11c845209bca3b18d81b4678%22%20style%3D%22width%3A%20100.0%25%3B%20height%3A%20100.0%25%3B%22%3EUser%3A%2082.0%3CBR%3ECoord%3A%20%3Ca%20href%3D%22https%3A//www.google.co.uk/maps/place/39.97505%2C116.333713%22%20target%3D%22_blank%22%3E39.9751%2C%20116.3337%3C/a%3E%3CBR%3EArr%3A%202009/04/04%2013%3A25%3CBR%3EDep%3A%202009/04/04%2013%3A25%3CBR%3ECluster%3A%200%3C/div%3E%60%29%5B0%5D%3B%0A%20%20%20%20%20%20%20%20%20%20%20%20popup_789afe17b30e417b8feb56c9097e73f5.setContent%28html_65074bed11c845209bca3b18d81b4678%29%3B%0A%20%20%20%20%20%20%20%20%0A%0A%20%20%20%20%20%20%20%20regular_polygon_marker_89f5325a70ab48e199681cd19bd28ca7.bindPopup%28popup_789afe17b30e417b8feb56c9097e73f5%29%0A%20%20%20%20%20%20%20%20%3B%0A%0A%20%20%20%20%20%20%20%20%0A%20%20%20%20%0A%20%20%20%20%0A%20%20%20%20%20%20%20%20%20%20%20%20var%20regular_polygon_marker_fb90169124094ddc8ae321d646935856%20%3D%20new%20L.RegularPolygonMarker%28%0A%20%20%20%20%20%20%20%20%20%20%20%20%20%20%20%20%5B39.97574%2C%20116.333711%5D%2C%0A%20%20%20%20%20%20%20%20%20%20%20%20%20%20%20%20%7B%22bubblingMouseEvents%22%3A%20true%2C%20%22color%22%3A%20%22%236A0213%22%2C%20%22dashArray%22%3A%20null%2C%20%22dashOffset%22%3A%20null%2C%20%22fill%22%3A%20true%2C%20%22fillColor%22%3A%20%22%236A0213%22%2C%20%22fillOpacity%22%3A%200.3%2C%20%22fillRule%22%3A%20%22evenodd%22%2C%20%22lineCap%22%3A%20%22round%22%2C%20%22lineJoin%22%3A%20%22round%22%2C%20%22numberOfSides%22%3A%204%2C%20%22opacity%22%3A%201.0%2C%20%22radius%22%3A%206%2C%20%22rotation%22%3A%200%2C%20%22stroke%22%3A%20true%2C%20%22weight%22%3A%203%7D%0A%20%20%20%20%20%20%20%20%20%20%20%20%29.addTo%28map_bee431e3bb20477a89aab84c9954f2fa%29%3B%0A%20%20%20%20%20%20%20%20%0A%20%20%20%20%0A%20%20%20%20%20%20%20%20var%20popup_0ad24f14b7b1476eb0f62a49777a6970%20%3D%20L.popup%28%7B%22maxWidth%22%3A%20300%7D%29%3B%0A%0A%20%20%20%20%20%20%20%20%0A%20%20%20%20%20%20%20%20%20%20%20%20var%20html_e6c1f8bf7643497db6b2b8fa6a84b440%20%3D%20%24%28%60%3Cdiv%20id%3D%22html_e6c1f8bf7643497db6b2b8fa6a84b440%22%20style%3D%22width%3A%20100.0%25%3B%20height%3A%20100.0%25%3B%22%3EUser%3A%2082.0%3CBR%3ECoord%3A%20%3Ca%20href%3D%22https%3A//www.google.co.uk/maps/place/39.97574%2C116.333711%22%20target%3D%22_blank%22%3E39.9757%2C%20116.3337%3C/a%3E%3CBR%3EArr%3A%202009/04/08%2001%3A18%3CBR%3EDep%3A%202009/04/08%2001%3A18%3CBR%3ECluster%3A%200%3C/div%3E%60%29%5B0%5D%3B%0A%20%20%20%20%20%20%20%20%20%20%20%20popup_0ad24f14b7b1476eb0f62a49777a6970.setContent%28html_e6c1f8bf7643497db6b2b8fa6a84b440%29%3B%0A%20%20%20%20%20%20%20%20%0A%0A%20%20%20%20%20%20%20%20regular_polygon_marker_fb90169124094ddc8ae321d646935856.bindPopup%28popup_0ad24f14b7b1476eb0f62a49777a6970%29%0A%20%20%20%20%20%20%20%20%3B%0A%0A%20%20%20%20%20%20%20%20%0A%20%20%20%20%0A%20%20%20%20%0A%20%20%20%20%20%20%20%20%20%20%20%20var%20regular_polygon_marker_153b852be0114f1ba19b116599b4b500%20%3D%20new%20L.RegularPolygonMarker%28%0A%20%20%20%20%20%20%20%20%20%20%20%20%20%20%20%20%5B39.975883%2C%20116.333647%5D%2C%0A%20%20%20%20%20%20%20%20%20%20%20%20%20%20%20%20%7B%22bubblingMouseEvents%22%3A%20true%2C%20%22color%22%3A%20%22%236A0213%22%2C%20%22dashArray%22%3A%20null%2C%20%22dashOffset%22%3A%20null%2C%20%22fill%22%3A%20true%2C%20%22fillColor%22%3A%20%22%236A0213%22%2C%20%22fillOpacity%22%3A%200.3%2C%20%22fillRule%22%3A%20%22evenodd%22%2C%20%22lineCap%22%3A%20%22round%22%2C%20%22lineJoin%22%3A%20%22round%22%2C%20%22numberOfSides%22%3A%204%2C%20%22opacity%22%3A%201.0%2C%20%22radius%22%3A%206%2C%20%22rotation%22%3A%200%2C%20%22stroke%22%3A%20true%2C%20%22weight%22%3A%203%7D%0A%20%20%20%20%20%20%20%20%20%20%20%20%29.addTo%28map_bee431e3bb20477a89aab84c9954f2fa%29%3B%0A%20%20%20%20%20%20%20%20%0A%20%20%20%20%0A%20%20%20%20%20%20%20%20var%20popup_15698328999d48ca8ee526fbaf66f97d%20%3D%20L.popup%28%7B%22maxWidth%22%3A%20300%7D%29%3B%0A%0A%20%20%20%20%20%20%20%20%0A%20%20%20%20%20%20%20%20%20%20%20%20var%20html_9b21450bcab04bb897a80ff6dad516ea%20%3D%20%24%28%60%3Cdiv%20id%3D%22html_9b21450bcab04bb897a80ff6dad516ea%22%20style%3D%22width%3A%20100.0%25%3B%20height%3A%20100.0%25%3B%22%3EUser%3A%2082.0%3CBR%3ECoord%3A%20%3Ca%20href%3D%22https%3A//www.google.co.uk/maps/place/39.975883%2C116.333647%22%20target%3D%22_blank%22%3E39.9759%2C%20116.3336%3C/a%3E%3CBR%3EArr%3A%202009/04/09%2001%3A18%3CBR%3EDep%3A%202009/04/09%2001%3A18%3CBR%3ECluster%3A%200%3C/div%3E%60%29%5B0%5D%3B%0A%20%20%20%20%20%20%20%20%20%20%20%20popup_15698328999d48ca8ee526fbaf66f97d.setContent%28html_9b21450bcab04bb897a80ff6dad516ea%29%3B%0A%20%20%20%20%20%20%20%20%0A%0A%20%20%20%20%20%20%20%20regular_polygon_marker_153b852be0114f1ba19b116599b4b500.bindPopup%28popup_15698328999d48ca8ee526fbaf66f97d%29%0A%20%20%20%20%20%20%20%20%3B%0A%0A%20%20%20%20%20%20%20%20%0A%20%20%20%20%0A%20%20%20%20%0A%20%20%20%20%20%20%20%20%20%20%20%20var%20regular_polygon_marker_222a90827d574bb5b693292993091ba0%20%3D%20new%20L.RegularPolygonMarker%28%0A%20%20%20%20%20%20%20%20%20%20%20%20%20%20%20%20%5B39.975324%2C%20116.332629%5D%2C%0A%20%20%20%20%20%20%20%20%20%20%20%20%20%20%20%20%7B%22bubblingMouseEvents%22%3A%20true%2C%20%22color%22%3A%20%22%236A0213%22%2C%20%22dashArray%22%3A%20null%2C%20%22dashOffset%22%3A%20null%2C%20%22fill%22%3A%20true%2C%20%22fillColor%22%3A%20%22%236A0213%22%2C%20%22fillOpacity%22%3A%200.3%2C%20%22fillRule%22%3A%20%22evenodd%22%2C%20%22lineCap%22%3A%20%22round%22%2C%20%22lineJoin%22%3A%20%22round%22%2C%20%22numberOfSides%22%3A%204%2C%20%22opacity%22%3A%201.0%2C%20%22radius%22%3A%206%2C%20%22rotation%22%3A%200%2C%20%22stroke%22%3A%20true%2C%20%22weight%22%3A%203%7D%0A%20%20%20%20%20%20%20%20%20%20%20%20%29.addTo%28map_bee431e3bb20477a89aab84c9954f2fa%29%3B%0A%20%20%20%20%20%20%20%20%0A%20%20%20%20%0A%20%20%20%20%20%20%20%20var%20popup_660077d35fea463485eb8e2990820e1b%20%3D%20L.popup%28%7B%22maxWidth%22%3A%20300%7D%29%3B%0A%0A%20%20%20%20%20%20%20%20%0A%20%20%20%20%20%20%20%20%20%20%20%20var%20html_b4df6c08087346318ac8e0f74df5123b%20%3D%20%24%28%60%3Cdiv%20id%3D%22html_b4df6c08087346318ac8e0f74df5123b%22%20style%3D%22width%3A%20100.0%25%3B%20height%3A%20100.0%25%3B%22%3EUser%3A%2082.0%3CBR%3ECoord%3A%20%3Ca%20href%3D%22https%3A//www.google.co.uk/maps/place/39.975324%2C116.332629%22%20target%3D%22_blank%22%3E39.9753%2C%20116.3326%3C/a%3E%3CBR%3EArr%3A%202009/04/13%2012%3A19%3CBR%3EDep%3A%202009/04/13%2012%3A19%3CBR%3ECluster%3A%200%3C/div%3E%60%29%5B0%5D%3B%0A%20%20%20%20%20%20%20%20%20%20%20%20popup_660077d35fea463485eb8e2990820e1b.setContent%28html_b4df6c08087346318ac8e0f74df5123b%29%3B%0A%20%20%20%20%20%20%20%20%0A%0A%20%20%20%20%20%20%20%20regular_polygon_marker_222a90827d574bb5b693292993091ba0.bindPopup%28popup_660077d35fea463485eb8e2990820e1b%29%0A%20%20%20%20%20%20%20%20%3B%0A%0A%20%20%20%20%20%20%20%20%0A%20%20%20%20%0A%20%20%20%20%0A%20%20%20%20%20%20%20%20%20%20%20%20var%20regular_polygon_marker_fb30f17e912c49a7a1ab81d18e990560%20%3D%20new%20L.RegularPolygonMarker%28%0A%20%20%20%20%20%20%20%20%20%20%20%20%20%20%20%20%5B39.975238%2C%20116.333601%5D%2C%0A%20%20%20%20%20%20%20%20%20%20%20%20%20%20%20%20%7B%22bubblingMouseEvents%22%3A%20true%2C%20%22color%22%3A%20%22%236A0213%22%2C%20%22dashArray%22%3A%20null%2C%20%22dashOffset%22%3A%20null%2C%20%22fill%22%3A%20true%2C%20%22fillColor%22%3A%20%22%236A0213%22%2C%20%22fillOpacity%22%3A%200.3%2C%20%22fillRule%22%3A%20%22evenodd%22%2C%20%22lineCap%22%3A%20%22round%22%2C%20%22lineJoin%22%3A%20%22round%22%2C%20%22numberOfSides%22%3A%204%2C%20%22opacity%22%3A%201.0%2C%20%22radius%22%3A%206%2C%20%22rotation%22%3A%200%2C%20%22stroke%22%3A%20true%2C%20%22weight%22%3A%203%7D%0A%20%20%20%20%20%20%20%20%20%20%20%20%29.addTo%28map_bee431e3bb20477a89aab84c9954f2fa%29%3B%0A%20%20%20%20%20%20%20%20%0A%20%20%20%20%0A%20%20%20%20%20%20%20%20var%20popup_4d1c65fa310f4d7c8b6a5000412ddb0b%20%3D%20L.popup%28%7B%22maxWidth%22%3A%20300%7D%29%3B%0A%0A%20%20%20%20%20%20%20%20%0A%20%20%20%20%20%20%20%20%20%20%20%20var%20html_35b5aff26e8e41968574d44502a041ad%20%3D%20%24%28%60%3Cdiv%20id%3D%22html_35b5aff26e8e41968574d44502a041ad%22%20style%3D%22width%3A%20100.0%25%3B%20height%3A%20100.0%25%3B%22%3EUser%3A%2082.0%3CBR%3ECoord%3A%20%3Ca%20href%3D%22https%3A//www.google.co.uk/maps/place/39.975238%2C116.333601%22%20target%3D%22_blank%22%3E39.9752%2C%20116.3336%3C/a%3E%3CBR%3EArr%3A%202009/04/17%2000%3A50%3CBR%3EDep%3A%202009/04/17%2000%3A50%3CBR%3ECluster%3A%200%3C/div%3E%60%29%5B0%5D%3B%0A%20%20%20%20%20%20%20%20%20%20%20%20popup_4d1c65fa310f4d7c8b6a5000412ddb0b.setContent%28html_35b5aff26e8e41968574d44502a041ad%29%3B%0A%20%20%20%20%20%20%20%20%0A%0A%20%20%20%20%20%20%20%20regular_polygon_marker_fb30f17e912c49a7a1ab81d18e990560.bindPopup%28popup_4d1c65fa310f4d7c8b6a5000412ddb0b%29%0A%20%20%20%20%20%20%20%20%3B%0A%0A%20%20%20%20%20%20%20%20%0A%20%20%20%20%0A%20%20%20%20%0A%20%20%20%20%20%20%20%20%20%20%20%20var%20regular_polygon_marker_210907f140174476ad540cdb8d09139d%20%3D%20new%20L.RegularPolygonMarker%28%0A%20%20%20%20%20%20%20%20%20%20%20%20%20%20%20%20%5B39.975705%2C%20116.333679%5D%2C%0A%20%20%20%20%20%20%20%20%20%20%20%20%20%20%20%20%7B%22bubblingMouseEvents%22%3A%20true%2C%20%22color%22%3A%20%22%236A0213%22%2C%20%22dashArray%22%3A%20null%2C%20%22dashOffset%22%3A%20null%2C%20%22fill%22%3A%20true%2C%20%22fillColor%22%3A%20%22%236A0213%22%2C%20%22fillOpacity%22%3A%200.3%2C%20%22fillRule%22%3A%20%22evenodd%22%2C%20%22lineCap%22%3A%20%22round%22%2C%20%22lineJoin%22%3A%20%22round%22%2C%20%22numberOfSides%22%3A%204%2C%20%22opacity%22%3A%201.0%2C%20%22radius%22%3A%206%2C%20%22rotation%22%3A%200%2C%20%22stroke%22%3A%20true%2C%20%22weight%22%3A%203%7D%0A%20%20%20%20%20%20%20%20%20%20%20%20%29.addTo%28map_bee431e3bb20477a89aab84c9954f2fa%29%3B%0A%20%20%20%20%20%20%20%20%0A%20%20%20%20%0A%20%20%20%20%20%20%20%20var%20popup_966d6cee4d5a422ea77493267ad389ed%20%3D%20L.popup%28%7B%22maxWidth%22%3A%20300%7D%29%3B%0A%0A%20%20%20%20%20%20%20%20%0A%20%20%20%20%20%20%20%20%20%20%20%20var%20html_3fe57c8e104940348691f4ce32da5ddc%20%3D%20%24%28%60%3Cdiv%20id%3D%22html_3fe57c8e104940348691f4ce32da5ddc%22%20style%3D%22width%3A%20100.0%25%3B%20height%3A%20100.0%25%3B%22%3EUser%3A%2082.0%3CBR%3ECoord%3A%20%3Ca%20href%3D%22https%3A//www.google.co.uk/maps/place/39.975705%2C116.333679%22%20target%3D%22_blank%22%3E39.9757%2C%20116.3337%3C/a%3E%3CBR%3EArr%3A%202009/04/19%2006%3A17%3CBR%3EDep%3A%202009/04/19%2006%3A17%3CBR%3ECluster%3A%200%3C/div%3E%60%29%5B0%5D%3B%0A%20%20%20%20%20%20%20%20%20%20%20%20popup_966d6cee4d5a422ea77493267ad389ed.setContent%28html_3fe57c8e104940348691f4ce32da5ddc%29%3B%0A%20%20%20%20%20%20%20%20%0A%0A%20%20%20%20%20%20%20%20regular_polygon_marker_210907f140174476ad540cdb8d09139d.bindPopup%28popup_966d6cee4d5a422ea77493267ad389ed%29%0A%20%20%20%20%20%20%20%20%3B%0A%0A%20%20%20%20%20%20%20%20%0A%20%20%20%20%0A%20%20%20%20%0A%20%20%20%20%20%20%20%20%20%20%20%20var%20regular_polygon_marker_a6d042733b4849fc8846e6950b479e54%20%3D%20new%20L.RegularPolygonMarker%28%0A%20%20%20%20%20%20%20%20%20%20%20%20%20%20%20%20%5B39.975489%2C%20116.33388%5D%2C%0A%20%20%20%20%20%20%20%20%20%20%20%20%20%20%20%20%7B%22bubblingMouseEvents%22%3A%20true%2C%20%22color%22%3A%20%22%236A0213%22%2C%20%22dashArray%22%3A%20null%2C%20%22dashOffset%22%3A%20null%2C%20%22fill%22%3A%20true%2C%20%22fillColor%22%3A%20%22%236A0213%22%2C%20%22fillOpacity%22%3A%200.3%2C%20%22fillRule%22%3A%20%22evenodd%22%2C%20%22lineCap%22%3A%20%22round%22%2C%20%22lineJoin%22%3A%20%22round%22%2C%20%22numberOfSides%22%3A%204%2C%20%22opacity%22%3A%201.0%2C%20%22radius%22%3A%206%2C%20%22rotation%22%3A%200%2C%20%22stroke%22%3A%20true%2C%20%22weight%22%3A%203%7D%0A%20%20%20%20%20%20%20%20%20%20%20%20%29.addTo%28map_bee431e3bb20477a89aab84c9954f2fa%29%3B%0A%20%20%20%20%20%20%20%20%0A%20%20%20%20%0A%20%20%20%20%20%20%20%20var%20popup_9dc89ba6c65e43f28c7697505ddbe788%20%3D%20L.popup%28%7B%22maxWidth%22%3A%20300%7D%29%3B%0A%0A%20%20%20%20%20%20%20%20%0A%20%20%20%20%20%20%20%20%20%20%20%20var%20html_6032c7173de2472eb1d99c816bb7b845%20%3D%20%24%28%60%3Cdiv%20id%3D%22html_6032c7173de2472eb1d99c816bb7b845%22%20style%3D%22width%3A%20100.0%25%3B%20height%3A%20100.0%25%3B%22%3EUser%3A%2082.0%3CBR%3ECoord%3A%20%3Ca%20href%3D%22https%3A//www.google.co.uk/maps/place/39.975489%2C116.33388%22%20target%3D%22_blank%22%3E39.9755%2C%20116.3339%3C/a%3E%3CBR%3EArr%3A%202009/04/20%2013%3A48%3CBR%3EDep%3A%202009/04/20%2013%3A48%3CBR%3ECluster%3A%200%3C/div%3E%60%29%5B0%5D%3B%0A%20%20%20%20%20%20%20%20%20%20%20%20popup_9dc89ba6c65e43f28c7697505ddbe788.setContent%28html_6032c7173de2472eb1d99c816bb7b845%29%3B%0A%20%20%20%20%20%20%20%20%0A%0A%20%20%20%20%20%20%20%20regular_polygon_marker_a6d042733b4849fc8846e6950b479e54.bindPopup%28popup_9dc89ba6c65e43f28c7697505ddbe788%29%0A%20%20%20%20%20%20%20%20%3B%0A%0A%20%20%20%20%20%20%20%20%0A%20%20%20%20%0A%20%20%20%20%0A%20%20%20%20%20%20%20%20%20%20%20%20var%20regular_polygon_marker_1b55ab1b55e44c2281610f5d6dd243fc%20%3D%20new%20L.RegularPolygonMarker%28%0A%20%20%20%20%20%20%20%20%20%20%20%20%20%20%20%20%5B39.976%2C%20116.333694%5D%2C%0A%20%20%20%20%20%20%20%20%20%20%20%20%20%20%20%20%7B%22bubblingMouseEvents%22%3A%20true%2C%20%22color%22%3A%20%22%236A0213%22%2C%20%22dashArray%22%3A%20null%2C%20%22dashOffset%22%3A%20null%2C%20%22fill%22%3A%20true%2C%20%22fillColor%22%3A%20%22%236A0213%22%2C%20%22fillOpacity%22%3A%200.3%2C%20%22fillRule%22%3A%20%22evenodd%22%2C%20%22lineCap%22%3A%20%22round%22%2C%20%22lineJoin%22%3A%20%22round%22%2C%20%22numberOfSides%22%3A%204%2C%20%22opacity%22%3A%201.0%2C%20%22radius%22%3A%206%2C%20%22rotation%22%3A%200%2C%20%22stroke%22%3A%20true%2C%20%22weight%22%3A%203%7D%0A%20%20%20%20%20%20%20%20%20%20%20%20%29.addTo%28map_bee431e3bb20477a89aab84c9954f2fa%29%3B%0A%20%20%20%20%20%20%20%20%0A%20%20%20%20%0A%20%20%20%20%20%20%20%20var%20popup_5305f01aa4074772978f188841376136%20%3D%20L.popup%28%7B%22maxWidth%22%3A%20300%7D%29%3B%0A%0A%20%20%20%20%20%20%20%20%0A%20%20%20%20%20%20%20%20%20%20%20%20var%20html_a28f88b0f5734057bd1f323d52d866b4%20%3D%20%24%28%60%3Cdiv%20id%3D%22html_a28f88b0f5734057bd1f323d52d866b4%22%20style%3D%22width%3A%20100.0%25%3B%20height%3A%20100.0%25%3B%22%3EUser%3A%2082.0%3CBR%3ECoord%3A%20%3Ca%20href%3D%22https%3A//www.google.co.uk/maps/place/39.976%2C116.333694%22%20target%3D%22_blank%22%3E39.976%2C%20116.3337%3C/a%3E%3CBR%3EArr%3A%202009/04/23%2001%3A45%3CBR%3EDep%3A%202009/04/23%2001%3A45%3CBR%3ECluster%3A%200%3C/div%3E%60%29%5B0%5D%3B%0A%20%20%20%20%20%20%20%20%20%20%20%20popup_5305f01aa4074772978f188841376136.setContent%28html_a28f88b0f5734057bd1f323d52d866b4%29%3B%0A%20%20%20%20%20%20%20%20%0A%0A%20%20%20%20%20%20%20%20regular_polygon_marker_1b55ab1b55e44c2281610f5d6dd243fc.bindPopup%28popup_5305f01aa4074772978f188841376136%29%0A%20%20%20%20%20%20%20%20%3B%0A%0A%20%20%20%20%20%20%20%20%0A%20%20%20%20%0A%20%20%20%20%0A%20%20%20%20%20%20%20%20%20%20%20%20var%20regular_polygon_marker_467a2434f93c40c8bc267a284321bc53%20%3D%20new%20L.RegularPolygonMarker%28%0A%20%20%20%20%20%20%20%20%20%20%20%20%20%20%20%20%5B39.976784%2C%20116.33356%5D%2C%0A%20%20%20%20%20%20%20%20%20%20%20%20%20%20%20%20%7B%22bubblingMouseEvents%22%3A%20true%2C%20%22color%22%3A%20%22%236A0213%22%2C%20%22dashArray%22%3A%20null%2C%20%22dashOffset%22%3A%20null%2C%20%22fill%22%3A%20true%2C%20%22fillColor%22%3A%20%22%236A0213%22%2C%20%22fillOpacity%22%3A%200.3%2C%20%22fillRule%22%3A%20%22evenodd%22%2C%20%22lineCap%22%3A%20%22round%22%2C%20%22lineJoin%22%3A%20%22round%22%2C%20%22numberOfSides%22%3A%204%2C%20%22opacity%22%3A%201.0%2C%20%22radius%22%3A%206%2C%20%22rotation%22%3A%200%2C%20%22stroke%22%3A%20true%2C%20%22weight%22%3A%203%7D%0A%20%20%20%20%20%20%20%20%20%20%20%20%29.addTo%28map_bee431e3bb20477a89aab84c9954f2fa%29%3B%0A%20%20%20%20%20%20%20%20%0A%20%20%20%20%0A%20%20%20%20%20%20%20%20var%20popup_26f435556ecc456abdf00de7cf00f456%20%3D%20L.popup%28%7B%22maxWidth%22%3A%20300%7D%29%3B%0A%0A%20%20%20%20%20%20%20%20%0A%20%20%20%20%20%20%20%20%20%20%20%20var%20html_d069f278fa0a4592917b37d4d9bac472%20%3D%20%24%28%60%3Cdiv%20id%3D%22html_d069f278fa0a4592917b37d4d9bac472%22%20style%3D%22width%3A%20100.0%25%3B%20height%3A%20100.0%25%3B%22%3EUser%3A%2082.0%3CBR%3ECoord%3A%20%3Ca%20href%3D%22https%3A//www.google.co.uk/maps/place/39.976784%2C116.33356%22%20target%3D%22_blank%22%3E39.9768%2C%20116.3336%3C/a%3E%3CBR%3EArr%3A%202009/04/27%2001%3A20%3CBR%3EDep%3A%202009/04/27%2001%3A20%3CBR%3ECluster%3A%200%3C/div%3E%60%29%5B0%5D%3B%0A%20%20%20%20%20%20%20%20%20%20%20%20popup_26f435556ecc456abdf00de7cf00f456.setContent%28html_d069f278fa0a4592917b37d4d9bac472%29%3B%0A%20%20%20%20%20%20%20%20%0A%0A%20%20%20%20%20%20%20%20regular_polygon_marker_467a2434f93c40c8bc267a284321bc53.bindPopup%28popup_26f435556ecc456abdf00de7cf00f456%29%0A%20%20%20%20%20%20%20%20%3B%0A%0A%20%20%20%20%20%20%20%20%0A%20%20%20%20%0A%20%20%20%20%0A%20%20%20%20%20%20%20%20%20%20%20%20var%20regular_polygon_marker_2c6be6c7e36c4cbb8f60b4a949164c16%20%3D%20new%20L.RegularPolygonMarker%28%0A%20%20%20%20%20%20%20%20%20%20%20%20%20%20%20%20%5B39.978%2C%20116.333236%5D%2C%0A%20%20%20%20%20%20%20%20%20%20%20%20%20%20%20%20%7B%22bubblingMouseEvents%22%3A%20true%2C%20%22color%22%3A%20%22%236A0213%22%2C%20%22dashArray%22%3A%20null%2C%20%22dashOffset%22%3A%20null%2C%20%22fill%22%3A%20true%2C%20%22fillColor%22%3A%20%22%236A0213%22%2C%20%22fillOpacity%22%3A%200.3%2C%20%22fillRule%22%3A%20%22evenodd%22%2C%20%22lineCap%22%3A%20%22round%22%2C%20%22lineJoin%22%3A%20%22round%22%2C%20%22numberOfSides%22%3A%204%2C%20%22opacity%22%3A%201.0%2C%20%22radius%22%3A%206%2C%20%22rotation%22%3A%200%2C%20%22stroke%22%3A%20true%2C%20%22weight%22%3A%203%7D%0A%20%20%20%20%20%20%20%20%20%20%20%20%29.addTo%28map_bee431e3bb20477a89aab84c9954f2fa%29%3B%0A%20%20%20%20%20%20%20%20%0A%20%20%20%20%0A%20%20%20%20%20%20%20%20var%20popup_d23f9d7433544770947c02b4f85e9d79%20%3D%20L.popup%28%7B%22maxWidth%22%3A%20300%7D%29%3B%0A%0A%20%20%20%20%20%20%20%20%0A%20%20%20%20%20%20%20%20%20%20%20%20var%20html_b09a017db2194a52a0d01532b466ca08%20%3D%20%24%28%60%3Cdiv%20id%3D%22html_b09a017db2194a52a0d01532b466ca08%22%20style%3D%22width%3A%20100.0%25%3B%20height%3A%20100.0%25%3B%22%3EUser%3A%2082.0%3CBR%3ECoord%3A%20%3Ca%20href%3D%22https%3A//www.google.co.uk/maps/place/39.978%2C116.333236%22%20target%3D%22_blank%22%3E39.978%2C%20116.3332%3C/a%3E%3CBR%3EArr%3A%202009/05/03%2006%3A15%3CBR%3EDep%3A%202009/05/03%2006%3A15%3CBR%3ECluster%3A%200%3C/div%3E%60%29%5B0%5D%3B%0A%20%20%20%20%20%20%20%20%20%20%20%20popup_d23f9d7433544770947c02b4f85e9d79.setContent%28html_b09a017db2194a52a0d01532b466ca08%29%3B%0A%20%20%20%20%20%20%20%20%0A%0A%20%20%20%20%20%20%20%20regular_polygon_marker_2c6be6c7e36c4cbb8f60b4a949164c16.bindPopup%28popup_d23f9d7433544770947c02b4f85e9d79%29%0A%20%20%20%20%20%20%20%20%3B%0A%0A%20%20%20%20%20%20%20%20%0A%20%20%20%20%0A%20%20%20%20%0A%20%20%20%20%20%20%20%20%20%20%20%20var%20regular_polygon_marker_62a55823859745da8830a16acfa2aea2%20%3D%20new%20L.RegularPolygonMarker%28%0A%20%20%20%20%20%20%20%20%20%20%20%20%20%20%20%20%5B39.978166%2C%20116.333203%5D%2C%0A%20%20%20%20%20%20%20%20%20%20%20%20%20%20%20%20%7B%22bubblingMouseEvents%22%3A%20true%2C%20%22color%22%3A%20%22%236A0213%22%2C%20%22dashArray%22%3A%20null%2C%20%22dashOffset%22%3A%20null%2C%20%22fill%22%3A%20true%2C%20%22fillColor%22%3A%20%22%236A0213%22%2C%20%22fillOpacity%22%3A%200.3%2C%20%22fillRule%22%3A%20%22evenodd%22%2C%20%22lineCap%22%3A%20%22round%22%2C%20%22lineJoin%22%3A%20%22round%22%2C%20%22numberOfSides%22%3A%204%2C%20%22opacity%22%3A%201.0%2C%20%22radius%22%3A%206%2C%20%22rotation%22%3A%200%2C%20%22stroke%22%3A%20true%2C%20%22weight%22%3A%203%7D%0A%20%20%20%20%20%20%20%20%20%20%20%20%29.addTo%28map_bee431e3bb20477a89aab84c9954f2fa%29%3B%0A%20%20%20%20%20%20%20%20%0A%20%20%20%20%0A%20%20%20%20%20%20%20%20var%20popup_5549f492388c4fecb82933eaeea7c097%20%3D%20L.popup%28%7B%22maxWidth%22%3A%20300%7D%29%3B%0A%0A%20%20%20%20%20%20%20%20%0A%20%20%20%20%20%20%20%20%20%20%20%20var%20html_095a945736f946e6925b79afd7120260%20%3D%20%24%28%60%3Cdiv%20id%3D%22html_095a945736f946e6925b79afd7120260%22%20style%3D%22width%3A%20100.0%25%3B%20height%3A%20100.0%25%3B%22%3EUser%3A%2082.0%3CBR%3ECoord%3A%20%3Ca%20href%3D%22https%3A//www.google.co.uk/maps/place/39.978166%2C116.333203%22%20target%3D%22_blank%22%3E39.9782%2C%20116.3332%3C/a%3E%3CBR%3EArr%3A%202009/05/04%2001%3A26%3CBR%3EDep%3A%202009/05/04%2001%3A26%3CBR%3ECluster%3A%200%3C/div%3E%60%29%5B0%5D%3B%0A%20%20%20%20%20%20%20%20%20%20%20%20popup_5549f492388c4fecb82933eaeea7c097.setContent%28html_095a945736f946e6925b79afd7120260%29%3B%0A%20%20%20%20%20%20%20%20%0A%0A%20%20%20%20%20%20%20%20regular_polygon_marker_62a55823859745da8830a16acfa2aea2.bindPopup%28popup_5549f492388c4fecb82933eaeea7c097%29%0A%20%20%20%20%20%20%20%20%3B%0A%0A%20%20%20%20%20%20%20%20%0A%20%20%20%20%0A%20%20%20%20%0A%20%20%20%20%20%20%20%20%20%20%20%20var%20regular_polygon_marker_ac4cbbec8ac14923be640c039665dd24%20%3D%20new%20L.RegularPolygonMarker%28%0A%20%20%20%20%20%20%20%20%20%20%20%20%20%20%20%20%5B39.977908%2C%20116.333388%5D%2C%0A%20%20%20%20%20%20%20%20%20%20%20%20%20%20%20%20%7B%22bubblingMouseEvents%22%3A%20true%2C%20%22color%22%3A%20%22%236A0213%22%2C%20%22dashArray%22%3A%20null%2C%20%22dashOffset%22%3A%20null%2C%20%22fill%22%3A%20true%2C%20%22fillColor%22%3A%20%22%236A0213%22%2C%20%22fillOpacity%22%3A%200.3%2C%20%22fillRule%22%3A%20%22evenodd%22%2C%20%22lineCap%22%3A%20%22round%22%2C%20%22lineJoin%22%3A%20%22round%22%2C%20%22numberOfSides%22%3A%204%2C%20%22opacity%22%3A%201.0%2C%20%22radius%22%3A%206%2C%20%22rotation%22%3A%200%2C%20%22stroke%22%3A%20true%2C%20%22weight%22%3A%203%7D%0A%20%20%20%20%20%20%20%20%20%20%20%20%29.addTo%28map_bee431e3bb20477a89aab84c9954f2fa%29%3B%0A%20%20%20%20%20%20%20%20%0A%20%20%20%20%0A%20%20%20%20%20%20%20%20var%20popup_ab2ec26871c040c89e389a4a4f5592f6%20%3D%20L.popup%28%7B%22maxWidth%22%3A%20300%7D%29%3B%0A%0A%20%20%20%20%20%20%20%20%0A%20%20%20%20%20%20%20%20%20%20%20%20var%20html_6aacb79fccc34863be2039cd9258e07f%20%3D%20%24%28%60%3Cdiv%20id%3D%22html_6aacb79fccc34863be2039cd9258e07f%22%20style%3D%22width%3A%20100.0%25%3B%20height%3A%20100.0%25%3B%22%3EUser%3A%2082.0%3CBR%3ECoord%3A%20%3Ca%20href%3D%22https%3A//www.google.co.uk/maps/place/39.977908%2C116.333388%22%20target%3D%22_blank%22%3E39.9779%2C%20116.3334%3C/a%3E%3CBR%3EArr%3A%202009/05/05%2014%3A18%3CBR%3EDep%3A%202009/05/05%2014%3A18%3CBR%3ECluster%3A%200%3C/div%3E%60%29%5B0%5D%3B%0A%20%20%20%20%20%20%20%20%20%20%20%20popup_ab2ec26871c040c89e389a4a4f5592f6.setContent%28html_6aacb79fccc34863be2039cd9258e07f%29%3B%0A%20%20%20%20%20%20%20%20%0A%0A%20%20%20%20%20%20%20%20regular_polygon_marker_ac4cbbec8ac14923be640c039665dd24.bindPopup%28popup_ab2ec26871c040c89e389a4a4f5592f6%29%0A%20%20%20%20%20%20%20%20%3B%0A%0A%20%20%20%20%20%20%20%20%0A%20%20%20%20%0A%20%20%20%20%0A%20%20%20%20%20%20%20%20%20%20%20%20var%20regular_polygon_marker_4fb1a62081ce41608630effce187a102%20%3D%20new%20L.RegularPolygonMarker%28%0A%20%20%20%20%20%20%20%20%20%20%20%20%20%20%20%20%5B39.977918%2C%20116.333269%5D%2C%0A%20%20%20%20%20%20%20%20%20%20%20%20%20%20%20%20%7B%22bubblingMouseEvents%22%3A%20true%2C%20%22color%22%3A%20%22%236A0213%22%2C%20%22dashArray%22%3A%20null%2C%20%22dashOffset%22%3A%20null%2C%20%22fill%22%3A%20true%2C%20%22fillColor%22%3A%20%22%236A0213%22%2C%20%22fillOpacity%22%3A%200.3%2C%20%22fillRule%22%3A%20%22evenodd%22%2C%20%22lineCap%22%3A%20%22round%22%2C%20%22lineJoin%22%3A%20%22round%22%2C%20%22numberOfSides%22%3A%204%2C%20%22opacity%22%3A%201.0%2C%20%22radius%22%3A%206%2C%20%22rotation%22%3A%200%2C%20%22stroke%22%3A%20true%2C%20%22weight%22%3A%203%7D%0A%20%20%20%20%20%20%20%20%20%20%20%20%29.addTo%28map_bee431e3bb20477a89aab84c9954f2fa%29%3B%0A%20%20%20%20%20%20%20%20%0A%20%20%20%20%0A%20%20%20%20%20%20%20%20var%20popup_5a58efee3a7a4f53ad2958ddfce628b2%20%3D%20L.popup%28%7B%22maxWidth%22%3A%20300%7D%29%3B%0A%0A%20%20%20%20%20%20%20%20%0A%20%20%20%20%20%20%20%20%20%20%20%20var%20html_5a396513f0934a878b2c71e25f174b63%20%3D%20%24%28%60%3Cdiv%20id%3D%22html_5a396513f0934a878b2c71e25f174b63%22%20style%3D%22width%3A%20100.0%25%3B%20height%3A%20100.0%25%3B%22%3EUser%3A%2082.0%3CBR%3ECoord%3A%20%3Ca%20href%3D%22https%3A//www.google.co.uk/maps/place/39.977918%2C116.333269%22%20target%3D%22_blank%22%3E39.9779%2C%20116.3333%3C/a%3E%3CBR%3EArr%3A%202009/05/06%2001%3A29%3CBR%3EDep%3A%202009/05/06%2001%3A29%3CBR%3ECluster%3A%200%3C/div%3E%60%29%5B0%5D%3B%0A%20%20%20%20%20%20%20%20%20%20%20%20popup_5a58efee3a7a4f53ad2958ddfce628b2.setContent%28html_5a396513f0934a878b2c71e25f174b63%29%3B%0A%20%20%20%20%20%20%20%20%0A%0A%20%20%20%20%20%20%20%20regular_polygon_marker_4fb1a62081ce41608630effce187a102.bindPopup%28popup_5a58efee3a7a4f53ad2958ddfce628b2%29%0A%20%20%20%20%20%20%20%20%3B%0A%0A%20%20%20%20%20%20%20%20%0A%20%20%20%20%0A%20%20%20%20%0A%20%20%20%20%20%20%20%20%20%20%20%20var%20regular_polygon_marker_24dbb1905f494ee3bb171e266528a7da%20%3D%20new%20L.RegularPolygonMarker%28%0A%20%20%20%20%20%20%20%20%20%20%20%20%20%20%20%20%5B39.978044%2C%20116.333432%5D%2C%0A%20%20%20%20%20%20%20%20%20%20%20%20%20%20%20%20%7B%22bubblingMouseEvents%22%3A%20true%2C%20%22color%22%3A%20%22%236A0213%22%2C%20%22dashArray%22%3A%20null%2C%20%22dashOffset%22%3A%20null%2C%20%22fill%22%3A%20true%2C%20%22fillColor%22%3A%20%22%236A0213%22%2C%20%22fillOpacity%22%3A%200.3%2C%20%22fillRule%22%3A%20%22evenodd%22%2C%20%22lineCap%22%3A%20%22round%22%2C%20%22lineJoin%22%3A%20%22round%22%2C%20%22numberOfSides%22%3A%204%2C%20%22opacity%22%3A%201.0%2C%20%22radius%22%3A%206%2C%20%22rotation%22%3A%200%2C%20%22stroke%22%3A%20true%2C%20%22weight%22%3A%203%7D%0A%20%20%20%20%20%20%20%20%20%20%20%20%29.addTo%28map_bee431e3bb20477a89aab84c9954f2fa%29%3B%0A%20%20%20%20%20%20%20%20%0A%20%20%20%20%0A%20%20%20%20%20%20%20%20var%20popup_f4db19c4260642e2af26d900b669af78%20%3D%20L.popup%28%7B%22maxWidth%22%3A%20300%7D%29%3B%0A%0A%20%20%20%20%20%20%20%20%0A%20%20%20%20%20%20%20%20%20%20%20%20var%20html_96fb6dfb8c9845bbba1fa1c81da16e7d%20%3D%20%24%28%60%3Cdiv%20id%3D%22html_96fb6dfb8c9845bbba1fa1c81da16e7d%22%20style%3D%22width%3A%20100.0%25%3B%20height%3A%20100.0%25%3B%22%3EUser%3A%2082.0%3CBR%3ECoord%3A%20%3Ca%20href%3D%22https%3A//www.google.co.uk/maps/place/39.978044%2C116.333432%22%20target%3D%22_blank%22%3E39.978%2C%20116.3334%3C/a%3E%3CBR%3EArr%3A%202009/05/07%2001%3A05%3CBR%3EDep%3A%202009/05/07%2001%3A05%3CBR%3ECluster%3A%200%3C/div%3E%60%29%5B0%5D%3B%0A%20%20%20%20%20%20%20%20%20%20%20%20popup_f4db19c4260642e2af26d900b669af78.setContent%28html_96fb6dfb8c9845bbba1fa1c81da16e7d%29%3B%0A%20%20%20%20%20%20%20%20%0A%0A%20%20%20%20%20%20%20%20regular_polygon_marker_24dbb1905f494ee3bb171e266528a7da.bindPopup%28popup_f4db19c4260642e2af26d900b669af78%29%0A%20%20%20%20%20%20%20%20%3B%0A%0A%20%20%20%20%20%20%20%20%0A%20%20%20%20%0A%20%20%20%20%0A%20%20%20%20%20%20%20%20%20%20%20%20var%20regular_polygon_marker_699ab794c05341bc8efe2e7ef02fe662%20%3D%20new%20L.RegularPolygonMarker%28%0A%20%20%20%20%20%20%20%20%20%20%20%20%20%20%20%20%5B39.977424%2C%20116.333506%5D%2C%0A%20%20%20%20%20%20%20%20%20%20%20%20%20%20%20%20%7B%22bubblingMouseEvents%22%3A%20true%2C%20%22color%22%3A%20%22%236A0213%22%2C%20%22dashArray%22%3A%20null%2C%20%22dashOffset%22%3A%20null%2C%20%22fill%22%3A%20true%2C%20%22fillColor%22%3A%20%22%236A0213%22%2C%20%22fillOpacity%22%3A%200.3%2C%20%22fillRule%22%3A%20%22evenodd%22%2C%20%22lineCap%22%3A%20%22round%22%2C%20%22lineJoin%22%3A%20%22round%22%2C%20%22numberOfSides%22%3A%204%2C%20%22opacity%22%3A%201.0%2C%20%22radius%22%3A%206%2C%20%22rotation%22%3A%200%2C%20%22stroke%22%3A%20true%2C%20%22weight%22%3A%203%7D%0A%20%20%20%20%20%20%20%20%20%20%20%20%29.addTo%28map_bee431e3bb20477a89aab84c9954f2fa%29%3B%0A%20%20%20%20%20%20%20%20%0A%20%20%20%20%0A%20%20%20%20%20%20%20%20var%20popup_6204e03ce6de4ef09f51fb1635c3fd0d%20%3D%20L.popup%28%7B%22maxWidth%22%3A%20300%7D%29%3B%0A%0A%20%20%20%20%20%20%20%20%0A%20%20%20%20%20%20%20%20%20%20%20%20var%20html_d342aa4731c547eb97dd510c43056a26%20%3D%20%24%28%60%3Cdiv%20id%3D%22html_d342aa4731c547eb97dd510c43056a26%22%20style%3D%22width%3A%20100.0%25%3B%20height%3A%20100.0%25%3B%22%3EUser%3A%2082.0%3CBR%3ECoord%3A%20%3Ca%20href%3D%22https%3A//www.google.co.uk/maps/place/39.977424%2C116.333506%22%20target%3D%22_blank%22%3E39.9774%2C%20116.3335%3C/a%3E%3CBR%3EArr%3A%202009/05/10%2013%3A18%3CBR%3EDep%3A%202009/05/10%2013%3A18%3CBR%3ECluster%3A%200%3C/div%3E%60%29%5B0%5D%3B%0A%20%20%20%20%20%20%20%20%20%20%20%20popup_6204e03ce6de4ef09f51fb1635c3fd0d.setContent%28html_d342aa4731c547eb97dd510c43056a26%29%3B%0A%20%20%20%20%20%20%20%20%0A%0A%20%20%20%20%20%20%20%20regular_polygon_marker_699ab794c05341bc8efe2e7ef02fe662.bindPopup%28popup_6204e03ce6de4ef09f51fb1635c3fd0d%29%0A%20%20%20%20%20%20%20%20%3B%0A%0A%20%20%20%20%20%20%20%20%0A%20%20%20%20%0A%20%20%20%20%0A%20%20%20%20%20%20%20%20%20%20%20%20var%20regular_polygon_marker_46af8d2856b848abb5a0ba871fe13005%20%3D%20new%20L.RegularPolygonMarker%28%0A%20%20%20%20%20%20%20%20%20%20%20%20%20%20%20%20%5B39.977421%2C%20116.333376%5D%2C%0A%20%20%20%20%20%20%20%20%20%20%20%20%20%20%20%20%7B%22bubblingMouseEvents%22%3A%20true%2C%20%22color%22%3A%20%22%236A0213%22%2C%20%22dashArray%22%3A%20null%2C%20%22dashOffset%22%3A%20null%2C%20%22fill%22%3A%20true%2C%20%22fillColor%22%3A%20%22%236A0213%22%2C%20%22fillOpacity%22%3A%200.3%2C%20%22fillRule%22%3A%20%22evenodd%22%2C%20%22lineCap%22%3A%20%22round%22%2C%20%22lineJoin%22%3A%20%22round%22%2C%20%22numberOfSides%22%3A%204%2C%20%22opacity%22%3A%201.0%2C%20%22radius%22%3A%206%2C%20%22rotation%22%3A%200%2C%20%22stroke%22%3A%20true%2C%20%22weight%22%3A%203%7D%0A%20%20%20%20%20%20%20%20%20%20%20%20%29.addTo%28map_bee431e3bb20477a89aab84c9954f2fa%29%3B%0A%20%20%20%20%20%20%20%20%0A%20%20%20%20%0A%20%20%20%20%20%20%20%20var%20popup_3e0c2d9d48854622b648c7df594f95af%20%3D%20L.popup%28%7B%22maxWidth%22%3A%20300%7D%29%3B%0A%0A%20%20%20%20%20%20%20%20%0A%20%20%20%20%20%20%20%20%20%20%20%20var%20html_2061746c2e394712940041ae413b4526%20%3D%20%24%28%60%3Cdiv%20id%3D%22html_2061746c2e394712940041ae413b4526%22%20style%3D%22width%3A%20100.0%25%3B%20height%3A%20100.0%25%3B%22%3EUser%3A%2082.0%3CBR%3ECoord%3A%20%3Ca%20href%3D%22https%3A//www.google.co.uk/maps/place/39.977421%2C116.333376%22%20target%3D%22_blank%22%3E39.9774%2C%20116.3334%3C/a%3E%3CBR%3EArr%3A%202009/05/11%2001%3A17%3CBR%3EDep%3A%202009/05/11%2001%3A17%3CBR%3ECluster%3A%200%3C/div%3E%60%29%5B0%5D%3B%0A%20%20%20%20%20%20%20%20%20%20%20%20popup_3e0c2d9d48854622b648c7df594f95af.setContent%28html_2061746c2e394712940041ae413b4526%29%3B%0A%20%20%20%20%20%20%20%20%0A%0A%20%20%20%20%20%20%20%20regular_polygon_marker_46af8d2856b848abb5a0ba871fe13005.bindPopup%28popup_3e0c2d9d48854622b648c7df594f95af%29%0A%20%20%20%20%20%20%20%20%3B%0A%0A%20%20%20%20%20%20%20%20%0A%20%20%20%20%0A%20%20%20%20%0A%20%20%20%20%20%20%20%20%20%20%20%20var%20regular_polygon_marker_eabc4139812b4bbba24c1937814f3dd2%20%3D%20new%20L.RegularPolygonMarker%28%0A%20%20%20%20%20%20%20%20%20%20%20%20%20%20%20%20%5B39.978431%2C%20116.333194%5D%2C%0A%20%20%20%20%20%20%20%20%20%20%20%20%20%20%20%20%7B%22bubblingMouseEvents%22%3A%20true%2C%20%22color%22%3A%20%22%236A0213%22%2C%20%22dashArray%22%3A%20null%2C%20%22dashOffset%22%3A%20null%2C%20%22fill%22%3A%20true%2C%20%22fillColor%22%3A%20%22%236A0213%22%2C%20%22fillOpacity%22%3A%200.3%2C%20%22fillRule%22%3A%20%22evenodd%22%2C%20%22lineCap%22%3A%20%22round%22%2C%20%22lineJoin%22%3A%20%22round%22%2C%20%22numberOfSides%22%3A%204%2C%20%22opacity%22%3A%201.0%2C%20%22radius%22%3A%206%2C%20%22rotation%22%3A%200%2C%20%22stroke%22%3A%20true%2C%20%22weight%22%3A%203%7D%0A%20%20%20%20%20%20%20%20%20%20%20%20%29.addTo%28map_bee431e3bb20477a89aab84c9954f2fa%29%3B%0A%20%20%20%20%20%20%20%20%0A%20%20%20%20%0A%20%20%20%20%20%20%20%20var%20popup_78b6b7de42ad480abb12344be95c74ba%20%3D%20L.popup%28%7B%22maxWidth%22%3A%20300%7D%29%3B%0A%0A%20%20%20%20%20%20%20%20%0A%20%20%20%20%20%20%20%20%20%20%20%20var%20html_0463d1c51c874641abf6601a3199ccdb%20%3D%20%24%28%60%3Cdiv%20id%3D%22html_0463d1c51c874641abf6601a3199ccdb%22%20style%3D%22width%3A%20100.0%25%3B%20height%3A%20100.0%25%3B%22%3EUser%3A%2082.0%3CBR%3ECoord%3A%20%3Ca%20href%3D%22https%3A//www.google.co.uk/maps/place/39.978431%2C116.333194%22%20target%3D%22_blank%22%3E39.9784%2C%20116.3332%3C/a%3E%3CBR%3EArr%3A%202009/05/16%2005%3A24%3CBR%3EDep%3A%202009/05/16%2005%3A24%3CBR%3ECluster%3A%200%3C/div%3E%60%29%5B0%5D%3B%0A%20%20%20%20%20%20%20%20%20%20%20%20popup_78b6b7de42ad480abb12344be95c74ba.setContent%28html_0463d1c51c874641abf6601a3199ccdb%29%3B%0A%20%20%20%20%20%20%20%20%0A%0A%20%20%20%20%20%20%20%20regular_polygon_marker_eabc4139812b4bbba24c1937814f3dd2.bindPopup%28popup_78b6b7de42ad480abb12344be95c74ba%29%0A%20%20%20%20%20%20%20%20%3B%0A%0A%20%20%20%20%20%20%20%20%0A%20%20%20%20%0A%20%20%20%20%0A%20%20%20%20%20%20%20%20%20%20%20%20var%20regular_polygon_marker_21a480486f5f492794ab712da53dc28c%20%3D%20new%20L.RegularPolygonMarker%28%0A%20%20%20%20%20%20%20%20%20%20%20%20%20%20%20%20%5B39.975261%2C%20116.330989%5D%2C%0A%20%20%20%20%20%20%20%20%20%20%20%20%20%20%20%20%7B%22bubblingMouseEvents%22%3A%20true%2C%20%22color%22%3A%20%22%236A0213%22%2C%20%22dashArray%22%3A%20null%2C%20%22dashOffset%22%3A%20null%2C%20%22fill%22%3A%20true%2C%20%22fillColor%22%3A%20%22%236A0213%22%2C%20%22fillOpacity%22%3A%200.3%2C%20%22fillRule%22%3A%20%22evenodd%22%2C%20%22lineCap%22%3A%20%22round%22%2C%20%22lineJoin%22%3A%20%22round%22%2C%20%22numberOfSides%22%3A%204%2C%20%22opacity%22%3A%201.0%2C%20%22radius%22%3A%206%2C%20%22rotation%22%3A%200%2C%20%22stroke%22%3A%20true%2C%20%22weight%22%3A%203%7D%0A%20%20%20%20%20%20%20%20%20%20%20%20%29.addTo%28map_bee431e3bb20477a89aab84c9954f2fa%29%3B%0A%20%20%20%20%20%20%20%20%0A%20%20%20%20%0A%20%20%20%20%20%20%20%20var%20popup_5633fa82d7cb46aaa30ecc31a538caa5%20%3D%20L.popup%28%7B%22maxWidth%22%3A%20300%7D%29%3B%0A%0A%20%20%20%20%20%20%20%20%0A%20%20%20%20%20%20%20%20%20%20%20%20var%20html_8e1d36009978413682b87182e15d76fd%20%3D%20%24%28%60%3Cdiv%20id%3D%22html_8e1d36009978413682b87182e15d76fd%22%20style%3D%22width%3A%20100.0%25%3B%20height%3A%20100.0%25%3B%22%3EUser%3A%2082.0%3CBR%3ECoord%3A%20%3Ca%20href%3D%22https%3A//www.google.co.uk/maps/place/39.975261%2C116.330989%22%20target%3D%22_blank%22%3E39.9753%2C%20116.331%3C/a%3E%3CBR%3EArr%3A%202009/05/16%2005%3A29%3CBR%3EDep%3A%202009/05/16%2005%3A29%3CBR%3ECluster%3A%200%3C/div%3E%60%29%5B0%5D%3B%0A%20%20%20%20%20%20%20%20%20%20%20%20popup_5633fa82d7cb46aaa30ecc31a538caa5.setContent%28html_8e1d36009978413682b87182e15d76fd%29%3B%0A%20%20%20%20%20%20%20%20%0A%0A%20%20%20%20%20%20%20%20regular_polygon_marker_21a480486f5f492794ab712da53dc28c.bindPopup%28popup_5633fa82d7cb46aaa30ecc31a538caa5%29%0A%20%20%20%20%20%20%20%20%3B%0A%0A%20%20%20%20%20%20%20%20%0A%20%20%20%20%0A%3C/script%3E onload=\"this.contentDocument.open();this.contentDocument.write(    decodeURIComponent(this.getAttribute('data-html')));this.contentDocument.close();\" allowfullscreen webkitallowfullscreen mozallowfullscreen></iframe></div></div>"
      ],
      "text/plain": [
       "<folium.folium.Map at 0x7f69a9121750>"
      ]
     },
     "execution_count": 24,
     "metadata": {},
     "output_type": "execute_result"
    }
   ],
   "source": [
    "clusters, m = get_clusters_from_tdf(trgeo82,\n",
    "                                    verbose=True,\n",
    "                                    max_speed_kmh= 0.001,\n",
    "                                    detect_stops=False,\n",
    "                                    compress=False ,\n",
    "                                    minutes_for_a_stop=2,\n",
    "                                    spatial_radius_km=0.2,\n",
    "                                    spatial_radius_compress_km=.2,\n",
    "                                    cluster_radius_km=0.5,\n",
    "                                    min_samples=2)\n",
    "m"
   ]
  },
  {
   "cell_type": "code",
   "execution_count": 10,
   "id": "ee9d6768-9373-4beb-aae3-c9a9ca2626a8",
   "metadata": {},
   "outputs": [
    {
     "name": "stderr",
     "output_type": "stream",
     "text": [
      "100%|██████████| 8/8 [00:29<00:00,  3.69s/it]\n"
     ]
    }
   ],
   "source": [
    "trgeo82_cl, distances = assign_tdf_points_to_clusters(tdf=trgeo82, clusters=clusters)"
   ]
  },
  {
   "cell_type": "code",
   "execution_count": 11,
   "id": "083f516d-8bfd-4a45-a0c7-e635b2c50f5e",
   "metadata": {},
   "outputs": [],
   "source": [
    "transit_df = get_mmc_transitions(trgeo82_cl)"
   ]
  },
  {
   "cell_type": "markdown",
   "id": "335a3c81",
   "metadata": {},
   "source": [
    "tdf_['cluster'].value_counts().to_frame().T"
   ]
  },
  {
   "cell_type": "markdown",
   "id": "1866605d",
   "metadata": {},
   "source": [
    "pd.crosstab(transit_df['cluster'], transit_df['cluster_next'], normalize='index')"
   ]
  },
  {
   "cell_type": "code",
   "execution_count": 12,
   "id": "f835bc39-4a4a-46c1-81a7-6a3e4b070a17",
   "metadata": {},
   "outputs": [],
   "source": [
    "transitMatrix = pd.crosstab(transit_df['cluster'], transit_df['cluster_next'], normalize='index').values"
   ]
  },
  {
   "cell_type": "code",
   "execution_count": 13,
   "id": "1c36f351-a4c4-4219-8506-ba2da1c2c808",
   "metadata": {},
   "outputs": [
    {
     "data": {
      "text/plain": [
       "array([[0.15706366],\n",
       "       [0.16937648],\n",
       "       [0.17242702],\n",
       "       [0.17157506],\n",
       "       [0.0041741 ],\n",
       "       [0.15026744],\n",
       "       [0.17087127],\n",
       "       [0.00424496]])"
      ]
     },
     "execution_count": 13,
     "metadata": {},
     "output_type": "execute_result"
    }
   ],
   "source": [
    "staVector = getStationaryVector(transitMatrix)\n",
    "\n",
    "staVector"
   ]
  },
  {
   "cell_type": "code",
   "execution_count": null,
   "id": "1341681c",
   "metadata": {},
   "outputs": [],
   "source": []
  },
  {
   "cell_type": "code",
   "execution_count": null,
   "id": "d6b2e4ef",
   "metadata": {},
   "outputs": [],
   "source": []
  },
  {
   "cell_type": "code",
   "execution_count": null,
   "id": "8978891b",
   "metadata": {},
   "outputs": [],
   "source": []
  },
  {
   "cell_type": "code",
   "execution_count": null,
   "id": "cf05a570",
   "metadata": {},
   "outputs": [],
   "source": []
  },
  {
   "cell_type": "code",
   "execution_count": null,
   "id": "a383d963",
   "metadata": {},
   "outputs": [],
   "source": []
  },
  {
   "cell_type": "code",
   "execution_count": null,
   "id": "c3169ebc",
   "metadata": {},
   "outputs": [],
   "source": []
  },
  {
   "cell_type": "markdown",
   "id": "68d0819c-c816-4822-8d1d-ca8156e869b7",
   "metadata": {},
   "source": [
    "## TESTS"
   ]
  },
  {
   "cell_type": "code",
   "execution_count": null,
   "id": "5259877f",
   "metadata": {},
   "outputs": [],
   "source": []
  },
  {
   "cell_type": "code",
   "execution_count": null,
   "id": "ea350f6f",
   "metadata": {},
   "outputs": [],
   "source": []
  },
  {
   "cell_type": "code",
   "execution_count": null,
   "id": "fdefa3ae-b820-4d73-bd4b-3f31ec934679",
   "metadata": {},
   "outputs": [],
   "source": [
    "############################### CLUSTER LABELLING ###############################\n",
    "# Assign each point to a cluster (where possible)\n",
    "\n",
    "# We will calculate the distance from each point to each cluster\n",
    "cluster_distances = pd.DataFrame(index=trgeo82.index)\n",
    "cols_d_cluster = []\n",
    "for i, cluster in tqdm(clusters.iterrows()):\n",
    "    cluster_coord = (cluster['lat'], cluster['lng'])\n",
    "    \n",
    "    cluster_distances[f'd_cl_{i:02d}'] = trgeo82.apply(get_distance_from_cluster, axis=1, args=[cluster_coord])\n",
    "    cols_d_cluster.append(f'd_cl_{i:02d}')\n",
    "    if i >3:\n",
    "        break\n",
    "\n",
    "# We will not consider the distances higher than max_radius_to_cluster_km\n",
    "cluster_distances_1 = cluster_distances.copy()\n",
    "\n",
    "max_radius_to_cluster_km = 0.2\n",
    "cluster_distances = cluster_distances[(cluster_distances <= max_radius_to_cluster_km)]\n",
    "\n",
    "# We will assign the point to the closer cluster \n",
    "trgeo82['cluster'] = cluster_distances[cols_d_cluster].idxmin(axis=1)\n",
    "\n",
    "############################### CLUSTER TRANSITIONS ###############################\n",
    "mmc_df = trgeo82.dropna(subset=['cluster'])\n",
    "mmc_df['cluster_next'] = mmc_df['cluster'].shift(-1)\n",
    "\n",
    "mmc_df = mmc_df.dropna(subset=['cluster_next'])\n",
    "transit_df = mmc_df[mmc_df['cluster']!=mmc_df['cluster_next']]"
   ]
  },
  {
   "cell_type": "code",
   "execution_count": null,
   "id": "c49736a2-7f5a-453c-9b9a-d47594b09430",
   "metadata": {},
   "outputs": [],
   "source": [
    "clusters = trgeo82_fsccl.groupby(['cluster'])[['lat','lng']].median().reset_index()\n",
    "print(clusters.shape)\n",
    "clusters.head()"
   ]
  },
  {
   "cell_type": "code",
   "execution_count": null,
   "id": "6cf2acc2-02a0-42e7-a609-df69dca915c3",
   "metadata": {},
   "outputs": [],
   "source": [
    "from tqdm import tqdm"
   ]
  },
  {
   "cell_type": "code",
   "execution_count": null,
   "id": "45c3ba71-9ad9-4531-9fd0-82f5cbd3991d",
   "metadata": {},
   "outputs": [],
   "source": [
    "def get_distance_from_cluster(row, coord_cluster):\n",
    "    coord_tdf = (row['lat'], row['lng'])\n",
    "    return skmob.utils.utils.distance(coord_tdf, coord_cluster)"
   ]
  },
  {
   "cell_type": "code",
   "execution_count": null,
   "id": "79619cb8-060e-4cb9-85c2-52c7b33eab27",
   "metadata": {},
   "outputs": [],
   "source": [
    "############################### CLUSTER LABELLING ###############################\n",
    "# Assign each point to a cluster (where possible)\n",
    "\n",
    "# We will calculate the distance from each point to each cluster\n",
    "cluster_distances = pd.DataFrame(index=trgeo82.index)\n",
    "cols_d_cluster = []\n",
    "for i, cluster in tqdm(clusters.iterrows()):\n",
    "    cluster_coord = (cluster['lat'], cluster['lng'])\n",
    "    \n",
    "    cluster_distances[f'd_cl_{i}'] = trgeo82.apply(get_distance_from_cluster, axis=1, args=[cluster_coord])\n",
    "    cols_d_cluster.append(f'd_cl_{i}')\n",
    "    if i >3:\n",
    "        break\n",
    "\n",
    "# We will not consider the distances higher than max_radius_to_cluster_km\n",
    "cluster_distances_1 = cluster_distances.copy()\n",
    "\n",
    "max_radius_to_cluster_km = 0.2\n",
    "cluster_distances = cluster_distances[(cluster_distances <= max_radius_to_cluster_km)]\n",
    "\n",
    "# We will assign the point to the closer cluster \n",
    "trgeo82['cluster'] = cluster_distances[cols_d_cluster].idxmin(axis=1)\n",
    "\n",
    "############################### CLUSTER TRANSITIONS ###############################\n",
    "mmc_df = trgeo82.dropna(subset=['cluster'])\n",
    "mmc_df['cluster_next'] = mmc_df['cluster'].shift(-1)\n",
    "\n",
    "mmc_df = mmc_df.dropna(subset=['cluster_next'])\n",
    "transit_df = mmc_df[mmc_df['cluster']!=mmc_df['cluster_next']]"
   ]
  },
  {
   "cell_type": "code",
   "execution_count": null,
   "id": "639c4cd8-28e1-487d-801d-f664d558fb78",
   "metadata": {},
   "outputs": [],
   "source": [
    "pd.crosstab(transit_df['cluster'], transit_df['cluster_next'], normalize='index')"
   ]
  },
  {
   "cell_type": "code",
   "execution_count": null,
   "id": "525a76d2-1998-4f91-a36f-2675db9d1625",
   "metadata": {},
   "outputs": [],
   "source": [
    "mmc_df['transition'] = mmc_df['cluster']+'-'+mmc_df['cluster_next']"
   ]
  },
  {
   "cell_type": "code",
   "execution_count": null,
   "id": "091d1931-7f00-4040-890c-1bd09bc386bd",
   "metadata": {},
   "outputs": [],
   "source": [
    "mmc_df['transition'].value_counts()"
   ]
  },
  {
   "cell_type": "code",
   "execution_count": null,
   "id": "6476ed5d-c073-4ace-8203-df14f98aaffe",
   "metadata": {},
   "outputs": [],
   "source": []
  },
  {
   "cell_type": "code",
   "execution_count": null,
   "id": "c32701b3-3d3a-4819-951a-e21ad45d8c39",
   "metadata": {},
   "outputs": [],
   "source": []
  },
  {
   "cell_type": "markdown",
   "id": "a78eaf8b-5686-430a-9387-26efa918c6a1",
   "metadata": {},
   "source": [
    "__2 métodos de POIs a probar:__\n",
    "- stop detection\n",
    "- noise filtering + clustering (dbscan)"
   ]
  },
  {
   "cell_type": "code",
   "execution_count": null,
   "id": "9c913794-454e-4878-a3a0-ff06b7bdb9f4",
   "metadata": {},
   "outputs": [],
   "source": []
  },
  {
   "cell_type": "code",
   "execution_count": null,
   "id": "dd9106d7-461d-45b4-9d88-2fee7ef56940",
   "metadata": {},
   "outputs": [],
   "source": []
  },
  {
   "cell_type": "code",
   "execution_count": null,
   "id": "3e1c8630-0ed0-4e7c-8dee-49b0186f0024",
   "metadata": {},
   "outputs": [],
   "source": []
  },
  {
   "cell_type": "code",
   "execution_count": null,
   "id": "fdbe5854-86f8-4826-9916-359e44dd28f2",
   "metadata": {},
   "outputs": [],
   "source": []
  },
  {
   "cell_type": "markdown",
   "id": "bd28fa0d-f182-46d9-b61b-9628e06ac221",
   "metadata": {},
   "source": [
    "### Clustering.cluster"
   ]
  },
  {
   "cell_type": "code",
   "execution_count": null,
   "id": "a1ea2b9c-555f-4978-8bbe-c6d046e9f7d9",
   "metadata": {},
   "outputs": [],
   "source": [
    "from skmob.preprocessing import clustering"
   ]
  },
  {
   "cell_type": "code",
   "execution_count": null,
   "id": "3308afe5-2055-4d6e-98d5-e1dea5155764",
   "metadata": {},
   "outputs": [],
   "source": [
    "trgeo82cluster_1 = clustering.cluster(trgeo82, \n",
    "                                      cluster_radius_km=10, \n",
    "                                      min_samples=100)\n",
    "print(trgeo82cluster_1.shape)\n",
    "trgeo82cluster_1.head(3)"
   ]
  },
  {
   "cell_type": "code",
   "execution_count": null,
   "id": "ce74859d-5583-4b03-aadc-84c4318a9028",
   "metadata": {},
   "outputs": [],
   "source": []
  },
  {
   "cell_type": "code",
   "execution_count": null,
   "id": "3eb8458b-ad90-4801-bffd-2b8f56143587",
   "metadata": {},
   "outputs": [],
   "source": []
  },
  {
   "cell_type": "code",
   "execution_count": null,
   "id": "632ddd10-227b-49a9-bfa5-a2160b85c71b",
   "metadata": {},
   "outputs": [],
   "source": []
  },
  {
   "cell_type": "code",
   "execution_count": null,
   "id": "92a98038-dc63-4a2e-92d6-8fab54469fae",
   "metadata": {},
   "outputs": [],
   "source": []
  },
  {
   "cell_type": "code",
   "execution_count": null,
   "id": "a34bf880-7d1d-4ead-b4e4-3424fa1876dd",
   "metadata": {},
   "outputs": [],
   "source": []
  },
  {
   "cell_type": "code",
   "execution_count": null,
   "id": "68498985-c7e0-412d-9ea7-04d747f0ca4b",
   "metadata": {},
   "outputs": [],
   "source": []
  }
 ],
 "metadata": {
  "kernelspec": {
   "display_name": "Python [conda env:skmob]",
   "language": "python",
   "name": "skmob"
  },
  "language_info": {
   "codemirror_mode": {
    "name": "ipython",
    "version": 3
   },
   "file_extension": ".py",
   "mimetype": "text/x-python",
   "name": "python",
   "nbconvert_exporter": "python",
   "pygments_lexer": "ipython3",
   "version": "3.7.10"
  }
 },
 "nbformat": 4,
 "nbformat_minor": 5
}
