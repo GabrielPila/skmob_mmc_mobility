{
 "cells": [
  {
   "cell_type": "markdown",
   "id": "95096085-b860-42d3-8cb0-6612455b2ddf",
   "metadata": {},
   "source": [
    "# MMC Implementation"
   ]
  },
  {
   "cell_type": "markdown",
   "id": "d18b83e5-c0b9-495d-afef-313b031af35b",
   "metadata": {},
   "source": [
    "## Correct Implementation"
   ]
  },
  {
   "cell_type": "code",
   "execution_count": 1,
   "id": "30d91280-15df-4e09-8c77-6729023ac420",
   "metadata": {},
   "outputs": [],
   "source": [
    "import numpy as np\n",
    "import seaborn as sns\n",
    "import matplotlib.pyplot as plt\n",
    "import pandas as pd\n",
    "import warnings\n",
    "import skmob\n",
    "from tqdm import tqdm\n",
    "import sys\n",
    "sys.path.append('../')\n",
    "from src.geo_utils import (get_clusters_from_tdf,\n",
    "                            assign_tdf_points_to_clusters,\n",
    "                            get_mmc_transitions,\n",
    "                            get_stationary_vector)\n",
    "import os"
   ]
  },
  {
   "cell_type": "code",
   "execution_count": 2,
   "id": "9b8f5af4-6600-4bb8-b984-841bfc689264",
   "metadata": {},
   "outputs": [],
   "source": [
    "from src.geo_utils import (analyze_dates_with_events,\n",
    "                           analyze_number_of_events, \n",
    "                           analyze_number_of_events_per_day, \n",
    "                           analyze_space_drift, \n",
    "                           analyze_speed_drift,\n",
    "                           analyze_time_drift)"
   ]
  },
  {
   "cell_type": "code",
   "execution_count": 3,
   "id": "17b8b922-edea-444c-8fc8-68ea1fc498cd",
   "metadata": {},
   "outputs": [],
   "source": [
    "warnings.filterwarnings('ignore')"
   ]
  },
  {
   "cell_type": "code",
   "execution_count": 4,
   "id": "4214bf7e-0f5c-44fa-a1c2-5e2a2e1b327b",
   "metadata": {},
   "outputs": [],
   "source": [
    "def get_distance(row):\n",
    "    lat, lng, lat_last, lng_last = row['lat'], row['lng'], row['lat_last'], row['lng_last']\n",
    "    return skmob.utils.utils.distance((lat, lng), (lat_last, lng_last))"
   ]
  },
  {
   "cell_type": "markdown",
   "id": "6031bc59-4736-47d5-bd59-b3c3c46e3462",
   "metadata": {},
   "source": [
    "### Evaluation of Implementation"
   ]
  },
  {
   "cell_type": "code",
   "execution_count": null,
   "id": "87c3a7df-6a6d-49b1-b774-3def0b90051d",
   "metadata": {},
   "outputs": [],
   "source": []
  },
  {
   "cell_type": "code",
   "execution_count": null,
   "id": "efe0121c-d96f-4730-b80f-6e7438d38642",
   "metadata": {},
   "outputs": [],
   "source": [
    "# Reading all the DataFrames and consolidating it into one\n",
    "data_files = sorted([x for x in os.listdir('../data/') if 'geo_' in x])\n",
    "\n",
    "data = pd.DataFrame()\n",
    "for data_file in tqdm(data_files):\n",
    "    data_i = pd.read_csv(f'../data/{data_file}')\n",
    "    data = data.append(data_i)\n",
    "data = data.reset_index(drop=True)"
   ]
  },
  {
   "cell_type": "code",
   "execution_count": null,
   "id": "3971c63f-560a-4020-9759-80ce692771c9",
   "metadata": {},
   "outputs": [],
   "source": [
    "# Homogenizing the dataset format\n",
    "\n",
    "geo_columns = ['user', 'hour', 'lat', 'lng']\n",
    "\n",
    "data['hour'] = data['date'] + ' ' + data['time']\n",
    "data['hour'] = pd.to_datetime(data['hour'])\n",
    "data['user'] = data['user_id'].map(int)\n",
    "\n",
    "data = data[geo_columns]\n",
    "data = data.drop_duplicates()\n",
    "data = data.groupby(['user','hour'], as_index=False).nth(0)\n",
    "data = data.reset_index(drop=True)\n",
    "\n",
    "\n",
    "# Estimating distance and time differences\n",
    "\n",
    "data[['lat_last','lng_last']] = data.groupby('user').shift(1)[['lat','lng']]\n",
    "data['seconds_diff'] = data.groupby('user')['hour'].diff(1).dt.seconds\n",
    "\n",
    "data['distance_to_last_km'] = data.apply(get_distance, axis=1) \n",
    "data['speed_mps'] = data['distance_to_last_km'] / data['seconds_diff'] * 1000"
   ]
  },
  {
   "cell_type": "code",
   "execution_count": null,
   "id": "1f35c83b-ae90-416f-9bb5-87530f3c66b7",
   "metadata": {},
   "outputs": [],
   "source": [
    "data.info()"
   ]
  },
  {
   "cell_type": "code",
   "execution_count": null,
   "id": "6914b5bb-ada3-4d53-a499-e6b1c6c7b2e3",
   "metadata": {},
   "outputs": [],
   "source": [
    "del data['lat_last'], data['lng_last']"
   ]
  },
  {
   "cell_type": "code",
   "execution_count": null,
   "id": "6c97f105-8b9d-4e6d-a989-e3ee1d850998",
   "metadata": {},
   "outputs": [],
   "source": [
    "data.head()"
   ]
  },
  {
   "cell_type": "markdown",
   "id": "c15c3ce9-f1a5-4d67-8ed4-c8bdb5fbd38f",
   "metadata": {},
   "source": [
    "- El 99% de los registros están distanciados entre 0 y 5 segundos"
   ]
  },
  {
   "cell_type": "markdown",
   "id": "0a67ea4d-5bfa-499c-ab76-4520a00696aa",
   "metadata": {},
   "source": [
    "#### Saving Data"
   ]
  },
  {
   "cell_type": "code",
   "execution_count": null,
   "id": "da16efcb-75f5-4208-98a2-6ec103675d72",
   "metadata": {},
   "outputs": [],
   "source": [
    "# Saving Data\n",
    "data.to_parquet('../data/geolife_consolidated.parquet', index=False)"
   ]
  },
  {
   "cell_type": "markdown",
   "id": "401dbe29-adbc-4e83-be1c-7eaaa4c0a246",
   "metadata": {},
   "source": [
    "#### Loading Data (backup)"
   ]
  },
  {
   "cell_type": "code",
   "execution_count": 5,
   "id": "1e97ad34-bfae-49a2-9413-790e4362751a",
   "metadata": {},
   "outputs": [],
   "source": [
    "# Loading Data\n",
    "data = pd.read_parquet('../data/geolife_consolidated.parquet')"
   ]
  },
  {
   "cell_type": "code",
   "execution_count": 6,
   "id": "b5dc9f40-68b0-499c-a4a1-5bf7ac7469b0",
   "metadata": {},
   "outputs": [],
   "source": [
    "data['date'] = data['hour'].dt.date"
   ]
  },
  {
   "cell_type": "code",
   "execution_count": 7,
   "id": "d6286104-3b89-41d2-ba5d-9b3ee523fe12",
   "metadata": {},
   "outputs": [],
   "source": [
    "def analyze_time_drift(data):\n",
    "    '''Analiza la distribución de la variación de tiempo (segundos) entre evento y evento'''\n",
    "    \n",
    "    # Distribución de número de eventos\n",
    "    serie_seconds_events = data['seconds_diff'].value_counts()\n",
    "    serie_seconds_events_log = np.log10(serie_seconds_events)\n",
    "\n",
    "    print(serie_seconds_events)\n",
    "    print()\n",
    "    print(serie_seconds_events.quantile([0, 0.1, 0.2, 0.3, 0.4, 0.5, 0.6, 0.7, 0.8, 0.9, 0.95, 0.99, 1]))\n",
    "\n",
    "    fig = plt.figure(figsize=(15,4))\n",
    "    fig.add_subplot(1,2,1)\n",
    "    data['seconds_diff'].hist(bins=100)\n",
    "    plt.ylabel('Numero de Eventos')\n",
    "    plt.xlabel('Delta de Segundos')\n",
    "    \n",
    "    fig.add_subplot(1,2,2)\n",
    "\n",
    "    serie_seconds_events_log.hist(bins=30)\n",
    "    plt.title('Distribución de eventos según drift en segundos (log10)');\n",
    "    plt.ylabel('Numero de Eventos')\n",
    "    plt.xlabel('Delta de Segundos (log10 scale)');\n",
    "    \n",
    "\n",
    "def analyze_space_drift(data):\n",
    "    '''Analiza la distribución de la variación de distancia (Km) entre evento y evento'''\n",
    "\n",
    "    serie_distance_events = data['distance_to_last_km'].value_counts()\n",
    "    serie_distance_events_log = np.log10(serie_distance_events)\n",
    "    \n",
    "    print(serie_distance_events)\n",
    "    print()\n",
    "    print(serie_distance_events.quantile([0, 0.1, 0.2, 0.3, 0.4, 0.5, 0.6, 0.7, 0.8, 0.9, 0.95, 0.99, 1]))\n",
    "\n",
    "    fig = plt.figure(figsize=(15,4))\n",
    "    fig.add_subplot(1,2,1)\n",
    "    data['distance_to_last_km'].hist(bins=100)\n",
    "    plt.ylabel('Numero de Eventos')\n",
    "    plt.xlabel('Delta de KM');\n",
    "    \n",
    "    fig.add_subplot(1,2,2)\n",
    "\n",
    "    serie_distance_events_log.hist(bins=30)\n",
    "    plt.title('Distribución de eventos según drift de distancia (log10)');\n",
    "    plt.ylabel('Numero de Eventos')\n",
    "    plt.xlabel('Delta de KM (log10 scale)');\n",
    "    \n",
    "    \n",
    "def analyze_speed_drift(data):\n",
    "    '''Analiza la velocidad (metros por segundo) de cada evento'''\n",
    "\n",
    "    serie_speed = data['speed_mps']\n",
    "    serie_speed_log = np.log10(serie_speed+1)\n",
    "    \n",
    "    print(serie_speed.quantile([0, 0.1, 0.2, 0.3, 0.4, 0.5, 0.6, 0.7, 0.8, 0.9, 0.95, 0.99, 1]))\n",
    "\n",
    "    fig = plt.figure(figsize=(15,4))\n",
    "    \n",
    "    fig.add_subplot(1,2,1)\n",
    "    serie_speed.hist(bins=100)\n",
    "    plt.title('Distribución de eventos según velocidad');\n",
    "    plt.ylabel('Numero de Eventos')\n",
    "    plt.xlabel('Velocidad');\n",
    "    \n",
    "    fig.add_subplot(1,2,2)\n",
    "    serie_speed_log.hist(bins=30)\n",
    "    plt.title('Distribución de eventos según velocidad (log10)');\n",
    "    plt.ylabel('Numero de Eventos')\n",
    "    plt.xlabel('Velocidad (log10 scale)');\n",
    "    \n",
    "    \n",
    "def analyze_number_of_events_per_day(data):\n",
    "    '''Analiza la distribución de la variación de tiempo (segundos) entre evento y evento'''\n",
    "\n",
    "    # Distribución de número de eventos\n",
    "    df_events_per_day = data.groupby(['date','user'], as_index=False).size()\n",
    "    \n",
    "    serie_user_events_per_day = df_events_per_day['size']\n",
    "    serie_user_events_per_day_log = np.log10(serie_user_events_per_day)\n",
    "\n",
    "    print(serie_user_events_per_day)\n",
    "    print()\n",
    "    print(df_events_per_day['size'].quantile([0, 0.1, 0.2, 0.3, 0.4, 0.5, 0.6, 0.7, 0.8, 0.9, 0.95, 0.99, 1]))\n",
    "\n",
    "    fig = plt.figure(figsize=(15,4))\n",
    "\n",
    "    fig.add_subplot(1,2,1)\n",
    "    serie_user_events_per_day.hist(bins=30)\n",
    "    plt.title('Distribución de número de eventos por usuarios por día');\n",
    "    plt.ylabel('Numero de Usuarios')\n",
    "    plt.xlabel('Número de eventos en un día')    \n",
    "    \n",
    "    fig.add_subplot(1,2,2)\n",
    "    serie_user_events_per_day_log.hist(bins=30)\n",
    "    plt.title('Distribución de número de eventos por usuarios por día (log10)');\n",
    "    plt.ylabel('Numero de Usuarios')\n",
    "    plt.xlabel('Número de eventos en un día (log10 scale)')\n",
    "    \n",
    "def analyze_number_of_events(data):\n",
    "    # Distribución de número de eventos\n",
    "    serie_user_events = data['user'].value_counts()\n",
    "    serie_user_events_log = np.log10(serie_user_events)\n",
    "\n",
    "    print(serie_user_events)\n",
    "    print()\n",
    "    print(serie_user_events.quantile([0.1, 0.2, 0.3, 0.4, 0.5, 0.6, 0.7, 0.8, 0.9, 0.95, 0.99, 1]))\n",
    "\n",
    "    fig = plt.figure(figsize=(15,4))\n",
    "\n",
    "    fig.add_subplot(1,2,1)\n",
    "    serie_user_events.hist(bins=30)\n",
    "    plt.title('Distribución de usuarios según Nro de Eventos');\n",
    "    plt.ylabel('Numero de Usuarios')\n",
    "    plt.xlabel('Número de eventos')    \n",
    "    \n",
    "    fig.add_subplot(1,2,2)\n",
    "    serie_user_events_log.hist(bins=30)\n",
    "    plt.title('Distribución de usuarios según Nro de Eventos (log10)');\n",
    "    plt.ylabel('Numero de Usuarios')\n",
    "    plt.xlabel('Número de eventos (log10 scale)')\n",
    "    \n",
    "\n",
    "def analyze_dates_with_events(data):\n",
    "    # Distribución de número de eventos\n",
    "    serie_user_events = data[['user','date']].drop_duplicates()['user'].value_counts()\n",
    "    serie_user_events_log = np.log10(serie_user_events)\n",
    "\n",
    "    print(serie_user_events)\n",
    "\n",
    "    fig = plt.figure(figsize=(15,4))\n",
    "    fig.add_subplot(1,2,1)\n",
    "    serie_user_events.hist(bins=30)\n",
    "    plt.title('Distribución de usuarios según Nro de Días con Eventos');\n",
    "    plt.ylabel('Numero de Usuarios')\n",
    "    plt.xlabel('Número de Días con eventos')\n",
    "    \n",
    "    fig.add_subplot(1,2,2)\n",
    "\n",
    "    serie_user_events_log.hist(bins=30)\n",
    "    plt.title('Distribución de usuarios según Nro de Días con Eventos (log10)');\n",
    "    plt.ylabel('Numero de Usuarios')\n",
    "    plt.xlabel('Número de eventos (log10 scale)')"
   ]
  },
  {
   "cell_type": "code",
   "execution_count": 8,
   "id": "16043be0-62a9-4cbe-826b-a70244c75a43",
   "metadata": {},
   "outputs": [
    {
     "name": "stdout",
     "output_type": "stream",
     "text": [
      "153    2156964\n",
      "128    1208309\n",
      "41     1057038\n",
      "17     1026176\n",
      "163     969084\n",
      "        ...   \n",
      "171        177\n",
      "87         152\n",
      "178         84\n",
      "72          81\n",
      "60          17\n",
      "Name: user, Length: 182, dtype: int64\n",
      "\n",
      "0.10        718.90\n",
      "0.20       2534.00\n",
      "0.30       6851.40\n",
      "0.40      14677.40\n",
      "0.50      35181.50\n",
      "0.60      55863.80\n",
      "0.70      90573.50\n",
      "0.80     175329.20\n",
      "0.90     386695.30\n",
      "0.95     608317.60\n",
      "0.99    1085779.49\n",
      "1.00    2156964.00\n",
      "Name: user, dtype: float64\n"
     ]
    },
    {
     "data": {
      "image/png": "[encoded data removed]",
      "text/plain": [
       "<Figure size 1080x288 with 2 Axes>"
      ]
     },
     "metadata": {
      "needs_background": "light"
     },
     "output_type": "display_data"
    }
   ],
   "source": [
    "analyze_number_of_events(data)"
   ]
  },
  {
   "cell_type": "code",
   "execution_count": 9,
   "id": "447b733f-1fe8-4f37-ac3b-fa42c5c40286",
   "metadata": {},
   "outputs": [
    {
     "name": "stdout",
     "output_type": "stream",
     "text": [
      "0          3\n",
      "1         28\n",
      "2         58\n",
      "3          9\n",
      "4         55\n",
      "        ... \n",
      "11142    730\n",
      "11143    789\n",
      "11144    871\n",
      "11145    319\n",
      "11146    296\n",
      "Name: size, Length: 11147, dtype: int64\n",
      "\n",
      "0.00        1.0\n",
      "0.10      133.6\n",
      "0.20      352.0\n",
      "0.30      565.0\n",
      "0.40      818.0\n",
      "0.50     1168.0\n",
      "0.60     1629.0\n",
      "0.70     2306.0\n",
      "0.80     3273.0\n",
      "0.90     5099.4\n",
      "0.95     7094.4\n",
      "0.99    14375.0\n",
      "1.00    59767.0\n",
      "Name: size, dtype: float64\n"
     ]
    },
    {
     "data": {
      "image/png": "[encoded data removed]",
      "text/plain": [
       "<Figure size 1080x288 with 2 Axes>"
      ]
     },
     "metadata": {
      "needs_background": "light"
     },
     "output_type": "display_data"
    }
   ],
   "source": [
    "analyze_number_of_events_per_day(data)"
   ]
  },
  {
   "cell_type": "code",
   "execution_count": 10,
   "id": "b05cc1b1-143f-4da0-b7b3-e16064f0fc32",
   "metadata": {},
   "outputs": [
    {
     "name": "stdout",
     "output_type": "stream",
     "text": [
      "153    1273\n",
      "128     909\n",
      "163     552\n",
      "144     341\n",
      "68      297\n",
      "       ... \n",
      "49        1\n",
      "143       1\n",
      "151       1\n",
      "178       1\n",
      "149       1\n",
      "Name: user, Length: 182, dtype: int64\n"
     ]
    },
    {
     "data": {
      "image/png": "[encoded data removed]",
      "text/plain": [
       "<Figure size 1080x288 with 2 Axes>"
      ]
     },
     "metadata": {
      "needs_background": "light"
     },
     "output_type": "display_data"
    }
   ],
   "source": [
    "analyze_dates_with_events(data)"
   ]
  },
  {
   "cell_type": "code",
   "execution_count": 11,
   "id": "006444e2-1a63-4f1d-975a-399253ea7ad8",
   "metadata": {
    "scrolled": true
   },
   "outputs": [
    {
     "ename": "KeyError",
     "evalue": "'distance_to_last_km'",
     "output_type": "error",
     "traceback": [
      "\u001b[0;31m---------------------------------------------------------------------------\u001b[0m",
      "\u001b[0;31mKeyError\u001b[0m                                  Traceback (most recent call last)",
      "\u001b[0;32m~/anaconda3/envs/skmob/lib/python3.7/site-packages/pandas/core/indexes/base.py\u001b[0m in \u001b[0;36mget_loc\u001b[0;34m(self, key, method, tolerance)\u001b[0m\n\u001b[1;32m   3080\u001b[0m             \u001b[0;32mtry\u001b[0m\u001b[0;34m:\u001b[0m\u001b[0;34m\u001b[0m\u001b[0;34m\u001b[0m\u001b[0m\n\u001b[0;32m-> 3081\u001b[0;31m                 \u001b[0;32mreturn\u001b[0m \u001b[0mself\u001b[0m\u001b[0;34m.\u001b[0m\u001b[0m_engine\u001b[0m\u001b[0;34m.\u001b[0m\u001b[0mget_loc\u001b[0m\u001b[0;34m(\u001b[0m\u001b[0mcasted_key\u001b[0m\u001b[0;34m)\u001b[0m\u001b[0;34m\u001b[0m\u001b[0;34m\u001b[0m\u001b[0m\n\u001b[0m\u001b[1;32m   3082\u001b[0m             \u001b[0;32mexcept\u001b[0m \u001b[0mKeyError\u001b[0m \u001b[0;32mas\u001b[0m \u001b[0merr\u001b[0m\u001b[0;34m:\u001b[0m\u001b[0;34m\u001b[0m\u001b[0;34m\u001b[0m\u001b[0m\n",
      "\u001b[0;32mpandas/_libs/index.pyx\u001b[0m in \u001b[0;36mpandas._libs.index.IndexEngine.get_loc\u001b[0;34m()\u001b[0m\n",
      "\u001b[0;32mpandas/_libs/index.pyx\u001b[0m in \u001b[0;36mpandas._libs.index.IndexEngine.get_loc\u001b[0;34m()\u001b[0m\n",
      "\u001b[0;32mpandas/_libs/hashtable_class_helper.pxi\u001b[0m in \u001b[0;36mpandas._libs.hashtable.PyObjectHashTable.get_item\u001b[0;34m()\u001b[0m\n",
      "\u001b[0;32mpandas/_libs/hashtable_class_helper.pxi\u001b[0m in \u001b[0;36mpandas._libs.hashtable.PyObjectHashTable.get_item\u001b[0;34m()\u001b[0m\n",
      "\u001b[0;31mKeyError\u001b[0m: 'distance_to_last_km'",
      "\nThe above exception was the direct cause of the following exception:\n",
      "\u001b[0;31mKeyError\u001b[0m                                  Traceback (most recent call last)",
      "\u001b[0;32m/tmp/ipykernel_15222/2338111542.py\u001b[0m in \u001b[0;36m<module>\u001b[0;34m\u001b[0m\n\u001b[0;32m----> 1\u001b[0;31m \u001b[0manalyze_space_drift\u001b[0m\u001b[0;34m(\u001b[0m\u001b[0mdata\u001b[0m\u001b[0;34m)\u001b[0m\u001b[0;34m\u001b[0m\u001b[0;34m\u001b[0m\u001b[0m\n\u001b[0m",
      "\u001b[0;32m/tmp/ipykernel_15222/74324461.py\u001b[0m in \u001b[0;36manalyze_space_drift\u001b[0;34m(data)\u001b[0m\n\u001b[1;32m     27\u001b[0m     \u001b[0;34m'''Analiza la distribución de la variación de distancia (Km) entre evento y evento'''\u001b[0m\u001b[0;34m\u001b[0m\u001b[0;34m\u001b[0m\u001b[0m\n\u001b[1;32m     28\u001b[0m \u001b[0;34m\u001b[0m\u001b[0m\n\u001b[0;32m---> 29\u001b[0;31m     \u001b[0mserie_distance_events\u001b[0m \u001b[0;34m=\u001b[0m \u001b[0mdata\u001b[0m\u001b[0;34m[\u001b[0m\u001b[0;34m'distance_to_last_km'\u001b[0m\u001b[0;34m]\u001b[0m\u001b[0;34m.\u001b[0m\u001b[0mvalue_counts\u001b[0m\u001b[0;34m(\u001b[0m\u001b[0;34m)\u001b[0m\u001b[0;34m\u001b[0m\u001b[0;34m\u001b[0m\u001b[0m\n\u001b[0m\u001b[1;32m     30\u001b[0m     \u001b[0mserie_distance_events_log\u001b[0m \u001b[0;34m=\u001b[0m \u001b[0mnp\u001b[0m\u001b[0;34m.\u001b[0m\u001b[0mlog10\u001b[0m\u001b[0;34m(\u001b[0m\u001b[0mserie_distance_events\u001b[0m\u001b[0;34m)\u001b[0m\u001b[0;34m\u001b[0m\u001b[0;34m\u001b[0m\u001b[0m\n\u001b[1;32m     31\u001b[0m \u001b[0;34m\u001b[0m\u001b[0m\n",
      "\u001b[0;32m~/anaconda3/envs/skmob/lib/python3.7/site-packages/pandas/core/frame.py\u001b[0m in \u001b[0;36m__getitem__\u001b[0;34m(self, key)\u001b[0m\n\u001b[1;32m   3022\u001b[0m             \u001b[0;32mif\u001b[0m \u001b[0mself\u001b[0m\u001b[0;34m.\u001b[0m\u001b[0mcolumns\u001b[0m\u001b[0;34m.\u001b[0m\u001b[0mnlevels\u001b[0m \u001b[0;34m>\u001b[0m \u001b[0;36m1\u001b[0m\u001b[0;34m:\u001b[0m\u001b[0;34m\u001b[0m\u001b[0;34m\u001b[0m\u001b[0m\n\u001b[1;32m   3023\u001b[0m                 \u001b[0;32mreturn\u001b[0m \u001b[0mself\u001b[0m\u001b[0;34m.\u001b[0m\u001b[0m_getitem_multilevel\u001b[0m\u001b[0;34m(\u001b[0m\u001b[0mkey\u001b[0m\u001b[0;34m)\u001b[0m\u001b[0;34m\u001b[0m\u001b[0;34m\u001b[0m\u001b[0m\n\u001b[0;32m-> 3024\u001b[0;31m             \u001b[0mindexer\u001b[0m \u001b[0;34m=\u001b[0m \u001b[0mself\u001b[0m\u001b[0;34m.\u001b[0m\u001b[0mcolumns\u001b[0m\u001b[0;34m.\u001b[0m\u001b[0mget_loc\u001b[0m\u001b[0;34m(\u001b[0m\u001b[0mkey\u001b[0m\u001b[0;34m)\u001b[0m\u001b[0;34m\u001b[0m\u001b[0;34m\u001b[0m\u001b[0m\n\u001b[0m\u001b[1;32m   3025\u001b[0m             \u001b[0;32mif\u001b[0m \u001b[0mis_integer\u001b[0m\u001b[0;34m(\u001b[0m\u001b[0mindexer\u001b[0m\u001b[0;34m)\u001b[0m\u001b[0;34m:\u001b[0m\u001b[0;34m\u001b[0m\u001b[0;34m\u001b[0m\u001b[0m\n\u001b[1;32m   3026\u001b[0m                 \u001b[0mindexer\u001b[0m \u001b[0;34m=\u001b[0m \u001b[0;34m[\u001b[0m\u001b[0mindexer\u001b[0m\u001b[0;34m]\u001b[0m\u001b[0;34m\u001b[0m\u001b[0;34m\u001b[0m\u001b[0m\n",
      "\u001b[0;32m~/anaconda3/envs/skmob/lib/python3.7/site-packages/pandas/core/indexes/base.py\u001b[0m in \u001b[0;36mget_loc\u001b[0;34m(self, key, method, tolerance)\u001b[0m\n\u001b[1;32m   3081\u001b[0m                 \u001b[0;32mreturn\u001b[0m \u001b[0mself\u001b[0m\u001b[0;34m.\u001b[0m\u001b[0m_engine\u001b[0m\u001b[0;34m.\u001b[0m\u001b[0mget_loc\u001b[0m\u001b[0;34m(\u001b[0m\u001b[0mcasted_key\u001b[0m\u001b[0;34m)\u001b[0m\u001b[0;34m\u001b[0m\u001b[0;34m\u001b[0m\u001b[0m\n\u001b[1;32m   3082\u001b[0m             \u001b[0;32mexcept\u001b[0m \u001b[0mKeyError\u001b[0m \u001b[0;32mas\u001b[0m \u001b[0merr\u001b[0m\u001b[0;34m:\u001b[0m\u001b[0;34m\u001b[0m\u001b[0;34m\u001b[0m\u001b[0m\n\u001b[0;32m-> 3083\u001b[0;31m                 \u001b[0;32mraise\u001b[0m \u001b[0mKeyError\u001b[0m\u001b[0;34m(\u001b[0m\u001b[0mkey\u001b[0m\u001b[0;34m)\u001b[0m \u001b[0;32mfrom\u001b[0m \u001b[0merr\u001b[0m\u001b[0;34m\u001b[0m\u001b[0;34m\u001b[0m\u001b[0m\n\u001b[0m\u001b[1;32m   3084\u001b[0m \u001b[0;34m\u001b[0m\u001b[0m\n\u001b[1;32m   3085\u001b[0m         \u001b[0;32mif\u001b[0m \u001b[0mtolerance\u001b[0m \u001b[0;32mis\u001b[0m \u001b[0;32mnot\u001b[0m \u001b[0;32mNone\u001b[0m\u001b[0;34m:\u001b[0m\u001b[0;34m\u001b[0m\u001b[0;34m\u001b[0m\u001b[0m\n",
      "\u001b[0;31mKeyError\u001b[0m: 'distance_to_last_km'"
     ]
    }
   ],
   "source": [
    "analyze_space_drift(data)"
   ]
  },
  {
   "cell_type": "code",
   "execution_count": 12,
   "id": "39f641ef-0c7e-4324-b233-a59161c71a12",
   "metadata": {
    "scrolled": true
   },
   "outputs": [
    {
     "ename": "KeyError",
     "evalue": "'distance_to_last_km'",
     "output_type": "error",
     "traceback": [
      "\u001b[0;31m---------------------------------------------------------------------------\u001b[0m",
      "\u001b[0;31mKeyError\u001b[0m                                  Traceback (most recent call last)",
      "\u001b[0;32m~/anaconda3/envs/skmob/lib/python3.7/site-packages/pandas/core/indexes/base.py\u001b[0m in \u001b[0;36mget_loc\u001b[0;34m(self, key, method, tolerance)\u001b[0m\n\u001b[1;32m   3080\u001b[0m             \u001b[0;32mtry\u001b[0m\u001b[0;34m:\u001b[0m\u001b[0;34m\u001b[0m\u001b[0;34m\u001b[0m\u001b[0m\n\u001b[0;32m-> 3081\u001b[0;31m                 \u001b[0;32mreturn\u001b[0m \u001b[0mself\u001b[0m\u001b[0;34m.\u001b[0m\u001b[0m_engine\u001b[0m\u001b[0;34m.\u001b[0m\u001b[0mget_loc\u001b[0m\u001b[0;34m(\u001b[0m\u001b[0mcasted_key\u001b[0m\u001b[0;34m)\u001b[0m\u001b[0;34m\u001b[0m\u001b[0;34m\u001b[0m\u001b[0m\n\u001b[0m\u001b[1;32m   3082\u001b[0m             \u001b[0;32mexcept\u001b[0m \u001b[0mKeyError\u001b[0m \u001b[0;32mas\u001b[0m \u001b[0merr\u001b[0m\u001b[0;34m:\u001b[0m\u001b[0;34m\u001b[0m\u001b[0;34m\u001b[0m\u001b[0m\n",
      "\u001b[0;32mpandas/_libs/index.pyx\u001b[0m in \u001b[0;36mpandas._libs.index.IndexEngine.get_loc\u001b[0;34m()\u001b[0m\n",
      "\u001b[0;32mpandas/_libs/index.pyx\u001b[0m in \u001b[0;36mpandas._libs.index.IndexEngine.get_loc\u001b[0;34m()\u001b[0m\n",
      "\u001b[0;32mpandas/_libs/hashtable_class_helper.pxi\u001b[0m in \u001b[0;36mpandas._libs.hashtable.PyObjectHashTable.get_item\u001b[0;34m()\u001b[0m\n",
      "\u001b[0;32mpandas/_libs/hashtable_class_helper.pxi\u001b[0m in \u001b[0;36mpandas._libs.hashtable.PyObjectHashTable.get_item\u001b[0;34m()\u001b[0m\n",
      "\u001b[0;31mKeyError\u001b[0m: 'distance_to_last_km'",
      "\nThe above exception was the direct cause of the following exception:\n",
      "\u001b[0;31mKeyError\u001b[0m                                  Traceback (most recent call last)",
      "\u001b[0;32m/tmp/ipykernel_15222/2338111542.py\u001b[0m in \u001b[0;36m<module>\u001b[0;34m\u001b[0m\n\u001b[0;32m----> 1\u001b[0;31m \u001b[0manalyze_space_drift\u001b[0m\u001b[0;34m(\u001b[0m\u001b[0mdata\u001b[0m\u001b[0;34m)\u001b[0m\u001b[0;34m\u001b[0m\u001b[0;34m\u001b[0m\u001b[0m\n\u001b[0m",
      "\u001b[0;32m/tmp/ipykernel_15222/74324461.py\u001b[0m in \u001b[0;36manalyze_space_drift\u001b[0;34m(data)\u001b[0m\n\u001b[1;32m     27\u001b[0m     \u001b[0;34m'''Analiza la distribución de la variación de distancia (Km) entre evento y evento'''\u001b[0m\u001b[0;34m\u001b[0m\u001b[0;34m\u001b[0m\u001b[0m\n\u001b[1;32m     28\u001b[0m \u001b[0;34m\u001b[0m\u001b[0m\n\u001b[0;32m---> 29\u001b[0;31m     \u001b[0mserie_distance_events\u001b[0m \u001b[0;34m=\u001b[0m \u001b[0mdata\u001b[0m\u001b[0;34m[\u001b[0m\u001b[0;34m'distance_to_last_km'\u001b[0m\u001b[0;34m]\u001b[0m\u001b[0;34m.\u001b[0m\u001b[0mvalue_counts\u001b[0m\u001b[0;34m(\u001b[0m\u001b[0;34m)\u001b[0m\u001b[0;34m\u001b[0m\u001b[0;34m\u001b[0m\u001b[0m\n\u001b[0m\u001b[1;32m     30\u001b[0m     \u001b[0mserie_distance_events_log\u001b[0m \u001b[0;34m=\u001b[0m \u001b[0mnp\u001b[0m\u001b[0;34m.\u001b[0m\u001b[0mlog10\u001b[0m\u001b[0;34m(\u001b[0m\u001b[0mserie_distance_events\u001b[0m\u001b[0;34m)\u001b[0m\u001b[0;34m\u001b[0m\u001b[0;34m\u001b[0m\u001b[0m\n\u001b[1;32m     31\u001b[0m \u001b[0;34m\u001b[0m\u001b[0m\n",
      "\u001b[0;32m~/anaconda3/envs/skmob/lib/python3.7/site-packages/pandas/core/frame.py\u001b[0m in \u001b[0;36m__getitem__\u001b[0;34m(self, key)\u001b[0m\n\u001b[1;32m   3022\u001b[0m             \u001b[0;32mif\u001b[0m \u001b[0mself\u001b[0m\u001b[0;34m.\u001b[0m\u001b[0mcolumns\u001b[0m\u001b[0;34m.\u001b[0m\u001b[0mnlevels\u001b[0m \u001b[0;34m>\u001b[0m \u001b[0;36m1\u001b[0m\u001b[0;34m:\u001b[0m\u001b[0;34m\u001b[0m\u001b[0;34m\u001b[0m\u001b[0m\n\u001b[1;32m   3023\u001b[0m                 \u001b[0;32mreturn\u001b[0m \u001b[0mself\u001b[0m\u001b[0;34m.\u001b[0m\u001b[0m_getitem_multilevel\u001b[0m\u001b[0;34m(\u001b[0m\u001b[0mkey\u001b[0m\u001b[0;34m)\u001b[0m\u001b[0;34m\u001b[0m\u001b[0;34m\u001b[0m\u001b[0m\n\u001b[0;32m-> 3024\u001b[0;31m             \u001b[0mindexer\u001b[0m \u001b[0;34m=\u001b[0m \u001b[0mself\u001b[0m\u001b[0;34m.\u001b[0m\u001b[0mcolumns\u001b[0m\u001b[0;34m.\u001b[0m\u001b[0mget_loc\u001b[0m\u001b[0;34m(\u001b[0m\u001b[0mkey\u001b[0m\u001b[0;34m)\u001b[0m\u001b[0;34m\u001b[0m\u001b[0;34m\u001b[0m\u001b[0m\n\u001b[0m\u001b[1;32m   3025\u001b[0m             \u001b[0;32mif\u001b[0m \u001b[0mis_integer\u001b[0m\u001b[0;34m(\u001b[0m\u001b[0mindexer\u001b[0m\u001b[0;34m)\u001b[0m\u001b[0;34m:\u001b[0m\u001b[0;34m\u001b[0m\u001b[0;34m\u001b[0m\u001b[0m\n\u001b[1;32m   3026\u001b[0m                 \u001b[0mindexer\u001b[0m \u001b[0;34m=\u001b[0m \u001b[0;34m[\u001b[0m\u001b[0mindexer\u001b[0m\u001b[0;34m]\u001b[0m\u001b[0;34m\u001b[0m\u001b[0;34m\u001b[0m\u001b[0m\n",
      "\u001b[0;32m~/anaconda3/envs/skmob/lib/python3.7/site-packages/pandas/core/indexes/base.py\u001b[0m in \u001b[0;36mget_loc\u001b[0;34m(self, key, method, tolerance)\u001b[0m\n\u001b[1;32m   3081\u001b[0m                 \u001b[0;32mreturn\u001b[0m \u001b[0mself\u001b[0m\u001b[0;34m.\u001b[0m\u001b[0m_engine\u001b[0m\u001b[0;34m.\u001b[0m\u001b[0mget_loc\u001b[0m\u001b[0;34m(\u001b[0m\u001b[0mcasted_key\u001b[0m\u001b[0;34m)\u001b[0m\u001b[0;34m\u001b[0m\u001b[0;34m\u001b[0m\u001b[0m\n\u001b[1;32m   3082\u001b[0m             \u001b[0;32mexcept\u001b[0m \u001b[0mKeyError\u001b[0m \u001b[0;32mas\u001b[0m \u001b[0merr\u001b[0m\u001b[0;34m:\u001b[0m\u001b[0;34m\u001b[0m\u001b[0;34m\u001b[0m\u001b[0m\n\u001b[0;32m-> 3083\u001b[0;31m                 \u001b[0;32mraise\u001b[0m \u001b[0mKeyError\u001b[0m\u001b[0;34m(\u001b[0m\u001b[0mkey\u001b[0m\u001b[0;34m)\u001b[0m \u001b[0;32mfrom\u001b[0m \u001b[0merr\u001b[0m\u001b[0;34m\u001b[0m\u001b[0;34m\u001b[0m\u001b[0m\n\u001b[0m\u001b[1;32m   3084\u001b[0m \u001b[0;34m\u001b[0m\u001b[0m\n\u001b[1;32m   3085\u001b[0m         \u001b[0;32mif\u001b[0m \u001b[0mtolerance\u001b[0m \u001b[0;32mis\u001b[0m \u001b[0;32mnot\u001b[0m \u001b[0;32mNone\u001b[0m\u001b[0;34m:\u001b[0m\u001b[0;34m\u001b[0m\u001b[0;34m\u001b[0m\u001b[0m\n",
      "\u001b[0;31mKeyError\u001b[0m: 'distance_to_last_km'"
     ]
    }
   ],
   "source": [
    "analyze_space_drift(data)"
   ]
  },
  {
   "cell_type": "code",
   "execution_count": 13,
   "id": "10779bc4-0022-494b-90bc-e43aca27db38",
   "metadata": {
    "scrolled": true
   },
   "outputs": [
    {
     "ename": "KeyError",
     "evalue": "'speed_mps'",
     "output_type": "error",
     "traceback": [
      "\u001b[0;31m---------------------------------------------------------------------------\u001b[0m",
      "\u001b[0;31mKeyError\u001b[0m                                  Traceback (most recent call last)",
      "\u001b[0;32m~/anaconda3/envs/skmob/lib/python3.7/site-packages/pandas/core/indexes/base.py\u001b[0m in \u001b[0;36mget_loc\u001b[0;34m(self, key, method, tolerance)\u001b[0m\n\u001b[1;32m   3080\u001b[0m             \u001b[0;32mtry\u001b[0m\u001b[0;34m:\u001b[0m\u001b[0;34m\u001b[0m\u001b[0;34m\u001b[0m\u001b[0m\n\u001b[0;32m-> 3081\u001b[0;31m                 \u001b[0;32mreturn\u001b[0m \u001b[0mself\u001b[0m\u001b[0;34m.\u001b[0m\u001b[0m_engine\u001b[0m\u001b[0;34m.\u001b[0m\u001b[0mget_loc\u001b[0m\u001b[0;34m(\u001b[0m\u001b[0mcasted_key\u001b[0m\u001b[0;34m)\u001b[0m\u001b[0;34m\u001b[0m\u001b[0;34m\u001b[0m\u001b[0m\n\u001b[0m\u001b[1;32m   3082\u001b[0m             \u001b[0;32mexcept\u001b[0m \u001b[0mKeyError\u001b[0m \u001b[0;32mas\u001b[0m \u001b[0merr\u001b[0m\u001b[0;34m:\u001b[0m\u001b[0;34m\u001b[0m\u001b[0;34m\u001b[0m\u001b[0m\n",
      "\u001b[0;32mpandas/_libs/index.pyx\u001b[0m in \u001b[0;36mpandas._libs.index.IndexEngine.get_loc\u001b[0;34m()\u001b[0m\n",
      "\u001b[0;32mpandas/_libs/index.pyx\u001b[0m in \u001b[0;36mpandas._libs.index.IndexEngine.get_loc\u001b[0;34m()\u001b[0m\n",
      "\u001b[0;32mpandas/_libs/hashtable_class_helper.pxi\u001b[0m in \u001b[0;36mpandas._libs.hashtable.PyObjectHashTable.get_item\u001b[0;34m()\u001b[0m\n",
      "\u001b[0;32mpandas/_libs/hashtable_class_helper.pxi\u001b[0m in \u001b[0;36mpandas._libs.hashtable.PyObjectHashTable.get_item\u001b[0;34m()\u001b[0m\n",
      "\u001b[0;31mKeyError\u001b[0m: 'speed_mps'",
      "\nThe above exception was the direct cause of the following exception:\n",
      "\u001b[0;31mKeyError\u001b[0m                                  Traceback (most recent call last)",
      "\u001b[0;32m/tmp/ipykernel_15222/2450849871.py\u001b[0m in \u001b[0;36m<module>\u001b[0;34m\u001b[0m\n\u001b[0;32m----> 1\u001b[0;31m \u001b[0manalyze_speed_drift\u001b[0m\u001b[0;34m(\u001b[0m\u001b[0mdata\u001b[0m\u001b[0;34m)\u001b[0m\u001b[0;34m\u001b[0m\u001b[0;34m\u001b[0m\u001b[0m\n\u001b[0m",
      "\u001b[0;32m/tmp/ipykernel_15222/74324461.py\u001b[0m in \u001b[0;36manalyze_speed_drift\u001b[0;34m(data)\u001b[0m\n\u001b[1;32m     51\u001b[0m     \u001b[0;34m'''Analiza la velocidad (metros por segundo) de cada evento'''\u001b[0m\u001b[0;34m\u001b[0m\u001b[0;34m\u001b[0m\u001b[0m\n\u001b[1;32m     52\u001b[0m \u001b[0;34m\u001b[0m\u001b[0m\n\u001b[0;32m---> 53\u001b[0;31m     \u001b[0mserie_speed\u001b[0m \u001b[0;34m=\u001b[0m \u001b[0mdata\u001b[0m\u001b[0;34m[\u001b[0m\u001b[0;34m'speed_mps'\u001b[0m\u001b[0;34m]\u001b[0m\u001b[0;34m\u001b[0m\u001b[0;34m\u001b[0m\u001b[0m\n\u001b[0m\u001b[1;32m     54\u001b[0m     \u001b[0mserie_speed_log\u001b[0m \u001b[0;34m=\u001b[0m \u001b[0mnp\u001b[0m\u001b[0;34m.\u001b[0m\u001b[0mlog10\u001b[0m\u001b[0;34m(\u001b[0m\u001b[0mserie_speed\u001b[0m\u001b[0;34m+\u001b[0m\u001b[0;36m1\u001b[0m\u001b[0;34m)\u001b[0m\u001b[0;34m\u001b[0m\u001b[0;34m\u001b[0m\u001b[0m\n\u001b[1;32m     55\u001b[0m \u001b[0;34m\u001b[0m\u001b[0m\n",
      "\u001b[0;32m~/anaconda3/envs/skmob/lib/python3.7/site-packages/pandas/core/frame.py\u001b[0m in \u001b[0;36m__getitem__\u001b[0;34m(self, key)\u001b[0m\n\u001b[1;32m   3022\u001b[0m             \u001b[0;32mif\u001b[0m \u001b[0mself\u001b[0m\u001b[0;34m.\u001b[0m\u001b[0mcolumns\u001b[0m\u001b[0;34m.\u001b[0m\u001b[0mnlevels\u001b[0m \u001b[0;34m>\u001b[0m \u001b[0;36m1\u001b[0m\u001b[0;34m:\u001b[0m\u001b[0;34m\u001b[0m\u001b[0;34m\u001b[0m\u001b[0m\n\u001b[1;32m   3023\u001b[0m                 \u001b[0;32mreturn\u001b[0m \u001b[0mself\u001b[0m\u001b[0;34m.\u001b[0m\u001b[0m_getitem_multilevel\u001b[0m\u001b[0;34m(\u001b[0m\u001b[0mkey\u001b[0m\u001b[0;34m)\u001b[0m\u001b[0;34m\u001b[0m\u001b[0;34m\u001b[0m\u001b[0m\n\u001b[0;32m-> 3024\u001b[0;31m             \u001b[0mindexer\u001b[0m \u001b[0;34m=\u001b[0m \u001b[0mself\u001b[0m\u001b[0;34m.\u001b[0m\u001b[0mcolumns\u001b[0m\u001b[0;34m.\u001b[0m\u001b[0mget_loc\u001b[0m\u001b[0;34m(\u001b[0m\u001b[0mkey\u001b[0m\u001b[0;34m)\u001b[0m\u001b[0;34m\u001b[0m\u001b[0;34m\u001b[0m\u001b[0m\n\u001b[0m\u001b[1;32m   3025\u001b[0m             \u001b[0;32mif\u001b[0m \u001b[0mis_integer\u001b[0m\u001b[0;34m(\u001b[0m\u001b[0mindexer\u001b[0m\u001b[0;34m)\u001b[0m\u001b[0;34m:\u001b[0m\u001b[0;34m\u001b[0m\u001b[0;34m\u001b[0m\u001b[0m\n\u001b[1;32m   3026\u001b[0m                 \u001b[0mindexer\u001b[0m \u001b[0;34m=\u001b[0m \u001b[0;34m[\u001b[0m\u001b[0mindexer\u001b[0m\u001b[0;34m]\u001b[0m\u001b[0;34m\u001b[0m\u001b[0;34m\u001b[0m\u001b[0m\n",
      "\u001b[0;32m~/anaconda3/envs/skmob/lib/python3.7/site-packages/pandas/core/indexes/base.py\u001b[0m in \u001b[0;36mget_loc\u001b[0;34m(self, key, method, tolerance)\u001b[0m\n\u001b[1;32m   3081\u001b[0m                 \u001b[0;32mreturn\u001b[0m \u001b[0mself\u001b[0m\u001b[0;34m.\u001b[0m\u001b[0m_engine\u001b[0m\u001b[0;34m.\u001b[0m\u001b[0mget_loc\u001b[0m\u001b[0;34m(\u001b[0m\u001b[0mcasted_key\u001b[0m\u001b[0;34m)\u001b[0m\u001b[0;34m\u001b[0m\u001b[0;34m\u001b[0m\u001b[0m\n\u001b[1;32m   3082\u001b[0m             \u001b[0;32mexcept\u001b[0m \u001b[0mKeyError\u001b[0m \u001b[0;32mas\u001b[0m \u001b[0merr\u001b[0m\u001b[0;34m:\u001b[0m\u001b[0;34m\u001b[0m\u001b[0;34m\u001b[0m\u001b[0m\n\u001b[0;32m-> 3083\u001b[0;31m                 \u001b[0;32mraise\u001b[0m \u001b[0mKeyError\u001b[0m\u001b[0;34m(\u001b[0m\u001b[0mkey\u001b[0m\u001b[0;34m)\u001b[0m \u001b[0;32mfrom\u001b[0m \u001b[0merr\u001b[0m\u001b[0;34m\u001b[0m\u001b[0;34m\u001b[0m\u001b[0m\n\u001b[0m\u001b[1;32m   3084\u001b[0m \u001b[0;34m\u001b[0m\u001b[0m\n\u001b[1;32m   3085\u001b[0m         \u001b[0;32mif\u001b[0m \u001b[0mtolerance\u001b[0m \u001b[0;32mis\u001b[0m \u001b[0;32mnot\u001b[0m \u001b[0;32mNone\u001b[0m\u001b[0;34m:\u001b[0m\u001b[0;34m\u001b[0m\u001b[0;34m\u001b[0m\u001b[0m\n",
      "\u001b[0;31mKeyError\u001b[0m: 'speed_mps'"
     ]
    }
   ],
   "source": [
    "analyze_speed_drift(data)"
   ]
  },
  {
   "cell_type": "code",
   "execution_count": null,
   "id": "15bbafc3-7670-47cf-8c49-a5fe73be2678",
   "metadata": {},
   "outputs": [],
   "source": []
  },
  {
   "cell_type": "code",
   "execution_count": null,
   "id": "566a5e10-a3e5-4d98-a7f3-16d53dfe9852",
   "metadata": {},
   "outputs": [],
   "source": []
  },
  {
   "cell_type": "code",
   "execution_count": null,
   "id": "ddf26984-92b2-450f-aa45-5a887e167a0b",
   "metadata": {},
   "outputs": [],
   "source": []
  },
  {
   "cell_type": "code",
   "execution_count": null,
   "id": "0a06936c-3810-416c-8143-f5db3ef915b7",
   "metadata": {},
   "outputs": [],
   "source": []
  },
  {
   "cell_type": "code",
   "execution_count": null,
   "id": "2fc638d7-932d-47f8-9d44-f065cd2f1d65",
   "metadata": {},
   "outputs": [],
   "source": []
  },
  {
   "cell_type": "markdown",
   "id": "fd57d87a-478f-46d4-b623-d9e67e3fb234",
   "metadata": {},
   "source": [
    "#### Latitud y Longitud"
   ]
  },
  {
   "cell_type": "code",
   "execution_count": 14,
   "id": "d9ea5720-4e1e-4f5f-a119-951bc1ade214",
   "metadata": {},
   "outputs": [
    {
     "data": {
      "text/plain": [
       "<AxesSubplot:>"
      ]
     },
     "execution_count": 14,
     "metadata": {},
     "output_type": "execute_result"
    },
    {
     "data": {
      "image/png": "[encoded data removed]",
      "text/plain": [
       "<Figure size 432x288 with 1 Axes>"
      ]
     },
     "metadata": {
      "needs_background": "light"
     },
     "output_type": "display_data"
    }
   ],
   "source": [
    "data['lat'].hist(bins=50)"
   ]
  },
  {
   "cell_type": "code",
   "execution_count": 15,
   "id": "789e7d1d-45e9-412f-abfd-978f3d922da1",
   "metadata": {},
   "outputs": [
    {
     "data": {
      "text/plain": [
       "<AxesSubplot:>"
      ]
     },
     "execution_count": 15,
     "metadata": {},
     "output_type": "execute_result"
    },
    {
     "data": {
      "image/png": "[encoded data removed]",
      "text/plain": [
       "<Figure size 432x288 with 1 Axes>"
      ]
     },
     "metadata": {
      "needs_background": "light"
     },
     "output_type": "display_data"
    }
   ],
   "source": [
    "data['lng'].hist(bins=50)"
   ]
  },
  {
   "cell_type": "code",
   "execution_count": 16,
   "id": "559b2fd3-467c-47ba-a379-a38657697682",
   "metadata": {},
   "outputs": [
    {
     "data": {
      "text/plain": [
       "(24178078, 5)"
      ]
     },
     "execution_count": 16,
     "metadata": {},
     "output_type": "execute_result"
    }
   ],
   "source": [
    "data.shape"
   ]
  },
  {
   "cell_type": "markdown",
   "id": "4a228125-cca9-46d2-b89b-ad7f30591353",
   "metadata": {},
   "source": [
    "- Datashader"
   ]
  },
  {
   "cell_type": "code",
   "execution_count": 17,
   "id": "0146b4f9-26be-4e05-90c0-fee50914bbee",
   "metadata": {},
   "outputs": [],
   "source": [
    "dd = data.sample(20000)"
   ]
  },
  {
   "cell_type": "code",
   "execution_count": 18,
   "id": "02275c8f-2dac-4f37-b3ea-283571a3666a",
   "metadata": {},
   "outputs": [],
   "source": [
    "import seaborn as sns"
   ]
  },
  {
   "cell_type": "code",
   "execution_count": 19,
   "id": "77976066-feb0-40ba-aa6b-72ffa2f85303",
   "metadata": {},
   "outputs": [
    {
     "data": {
      "text/plain": [
       "<AxesSubplot:xlabel='lng', ylabel='lat'>"
      ]
     },
     "execution_count": 19,
     "metadata": {},
     "output_type": "execute_result"
    },
    {
     "data": {
      "image/png": "[encoded data removed]",
      "text/plain": [
       "<Figure size 432x288 with 1 Axes>"
      ]
     },
     "metadata": {
      "needs_background": "light"
     },
     "output_type": "display_data"
    }
   ],
   "source": [
    "sns.scatterplot(data=dd, x='lng', y='lat')"
   ]
  },
  {
   "cell_type": "code",
   "execution_count": 20,
   "id": "7f59e65e-8945-4076-a369-e9fa8661f541",
   "metadata": {},
   "outputs": [
    {
     "data": {
      "text/plain": [
       "<AxesSubplot:xlabel='lat', ylabel='lng'>"
      ]
     },
     "execution_count": 20,
     "metadata": {},
     "output_type": "execute_result"
    },
    {
     "data": {
      "image/png": "[encoded data removed]",
      "text/plain": [
       "<Figure size 432x288 with 1 Axes>"
      ]
     },
     "metadata": {
      "needs_background": "light"
     },
     "output_type": "display_data"
    }
   ],
   "source": [
    "sns.kdeplot(data=dd, x='lat', y='lng', fill=True)"
   ]
  },
  {
   "cell_type": "markdown",
   "id": "61610ec1-8d49-4f24-8a6e-0cb89a1438b7",
   "metadata": {},
   "source": [
    "__Escenarios:__\n",
    "- Base\n",
    "- Filtro por país\n",
    "- Filtro por tiempo en lugar"
   ]
  },
  {
   "cell_type": "markdown",
   "id": "fef5f4b9-6235-49e5-aaf8-0b8bcebe9e1b",
   "metadata": {},
   "source": [
    "__Acuerdos__\n",
    "- Quitar usuarios con menos de 1000 eventos\n",
    "- Probar los 3 escenarios"
   ]
  },
  {
   "cell_type": "code",
   "execution_count": 21,
   "id": "5499a310",
   "metadata": {},
   "outputs": [],
   "source": [
    "def filter_min_events_per_user(_df, min_events, user_col = 'user'):\n",
    "    print('Datos iniciales:')\n",
    "    print('# Registros: {:,}'.format(_df.shape[0]), '\\t|', '# Usuarios: {}'.format(_df[user_col].nunique()))\n",
    "    print('-'*70)\n",
    "    users_to_del = _df.groupby(user_col)[user_col].count()[_df.groupby(user_col)[user_col].count()<min_events].index\n",
    "    _df = _df[~_df[user_col].isin(users_to_del)]\n",
    "    \n",
    "    print('Datos finales:')\n",
    "    print('# Registros: {:,}'.format(_df.shape[0]), '\\t|', '# Usuarios: {}'.format(_df[user_col].nunique()))\n",
    "    print('-'*70)\n",
    "    return _df "
   ]
  },
  {
   "cell_type": "code",
   "execution_count": 22,
   "id": "4b8d494f",
   "metadata": {},
   "outputs": [
    {
     "name": "stdout",
     "output_type": "stream",
     "text": [
      "Datos iniciales:\n",
      "# Registros: 24,178,078 \t| # Usuarios: 182\n",
      "----------------------------------------------------------------------\n",
      "Datos finales:\n",
      "# Registros: 24,167,443 \t| # Usuarios: 158\n",
      "----------------------------------------------------------------------\n"
     ]
    }
   ],
   "source": [
    "data = filter_min_events_per_user(data, 1000)"
   ]
  },
  {
   "cell_type": "code",
   "execution_count": 23,
   "id": "c9670ecc",
   "metadata": {},
   "outputs": [],
   "source": [
    "def filter_min_days_per_user(_df, min_days, user_col = 'user', date_col  = 'date'):\n",
    "    print('Datos iniciales:')\n",
    "    print('# Registros: {:,}'.format(_df.shape[0]), '\\t|', '# Usuarios: {}'.format(_df[user_col].nunique()))\n",
    "    print('-'*70)\n",
    "    users_to_del = _df.groupby(user_col)[date_col].nunique()[_df.groupby(user_col)[date_col].nunique()<min_days].index\n",
    "    _df = _df[~_df[user_col].isin(users_to_del)]\n",
    "    \n",
    "    print('Datos finales:')\n",
    "    print('# Registros: {:,}'.format(_df.shape[0]), '\\t|', '# Usuarios: {}'.format(_df[user_col].nunique()))\n",
    "    print('-'*70)\n",
    "    return _df "
   ]
  },
  {
   "cell_type": "code",
   "execution_count": 24,
   "id": "ad20288e-0444-435f-b38b-7ca4a2bb2d26",
   "metadata": {
    "scrolled": true
   },
   "outputs": [
    {
     "name": "stdout",
     "output_type": "stream",
     "text": [
      "Datos iniciales:\n",
      "# Registros: 24,167,443 \t| # Usuarios: 158\n",
      "----------------------------------------------------------------------\n",
      "Datos finales:\n",
      "# Registros: 23,576,497 \t| # Usuarios: 120\n",
      "----------------------------------------------------------------------\n"
     ]
    }
   ],
   "source": [
    "data = filter_min_days_per_user(data, 10)"
   ]
  },
  {
   "cell_type": "code",
   "execution_count": 27,
   "id": "2d876946",
   "metadata": {},
   "outputs": [
    {
     "name": "stdout",
     "output_type": "stream",
     "text": [
      "0          3\n",
      "1         28\n",
      "2         58\n",
      "3         55\n",
      "4         30\n",
      "        ... \n",
      "10820    730\n",
      "10821    789\n",
      "10822    871\n",
      "10823    319\n",
      "10824    296\n",
      "Name: size, Length: 10825, dtype: int64\n",
      "\n",
      "0.00        1.00\n",
      "0.10      155.40\n",
      "0.20      375.00\n",
      "0.30      585.00\n",
      "0.40      844.60\n",
      "0.50     1196.00\n",
      "0.60     1655.00\n",
      "0.70     2325.00\n",
      "0.80     3305.40\n",
      "0.90     5108.40\n",
      "0.95     7079.40\n",
      "0.99    14280.08\n",
      "1.00    59767.00\n",
      "Name: size, dtype: float64\n"
     ]
    },
    {
     "data": {
      "image/png": "[encoded data removed]",
      "text/plain": [
       "<Figure size 1080x288 with 2 Axes>"
      ]
     },
     "metadata": {
      "needs_background": "light"
     },
     "output_type": "display_data"
    }
   ],
   "source": [
    "analyze_number_of_events_per_day(data)"
   ]
  },
  {
   "cell_type": "code",
   "execution_count": 29,
   "id": "3a92ec39",
   "metadata": {},
   "outputs": [],
   "source": [
    "from skmob.preprocessing import (filtering, \n",
    "                                 detection, \n",
    "                                 compression, \n",
    "                                 clustering)"
   ]
  },
  {
   "cell_type": "code",
   "execution_count": 34,
   "id": "2d41cb66",
   "metadata": {},
   "outputs": [],
   "source": [
    "# Creating a Trajectory DF to analyze the impact of filtering by velocity\n",
    "trgeo = skmob.TrajDataFrame(\n",
    "    data, \n",
    "    datetime='hour',\n",
    "    user_id='user'\n",
    ")"
   ]
  },
  {
   "cell_type": "code",
   "execution_count": 35,
   "id": "04ef7984",
   "metadata": {},
   "outputs": [
    {
     "ename": "KeyboardInterrupt",
     "evalue": "",
     "output_type": "error",
     "traceback": [
      "\u001b[0;31m---------------------------------------------------------------------------\u001b[0m",
      "\u001b[0;31mKeyboardInterrupt\u001b[0m                         Traceback (most recent call last)",
      "\u001b[0;32m/tmp/ipykernel_15222/186805868.py\u001b[0m in \u001b[0;36m<module>\u001b[0;34m\u001b[0m\n\u001b[1;32m      1\u001b[0m \u001b[0;31m# 1. Noise Filtering\u001b[0m\u001b[0;34m\u001b[0m\u001b[0;34m\u001b[0m\u001b[0;34m\u001b[0m\u001b[0m\n\u001b[0;32m----> 2\u001b[0;31m \u001b[0manalyze_number_of_events_per_day\u001b[0m\u001b[0;34m(\u001b[0m\u001b[0mfiltering\u001b[0m\u001b[0;34m.\u001b[0m\u001b[0mfilter\u001b[0m\u001b[0;34m(\u001b[0m\u001b[0mtrgeo\u001b[0m\u001b[0;34m,\u001b[0m \u001b[0mmax_speed_kmh\u001b[0m\u001b[0;34m=\u001b[0m\u001b[0;36m0.1\u001b[0m\u001b[0;34m)\u001b[0m\u001b[0;34m)\u001b[0m\u001b[0;34m\u001b[0m\u001b[0;34m\u001b[0m\u001b[0m\n\u001b[0m",
      "\u001b[0;32m~/anaconda3/envs/skmob/lib/python3.7/site-packages/skmob/preprocessing/filtering.py\u001b[0m in \u001b[0;36mfilter\u001b[0;34m(tdf, max_speed_kmh, include_loops, speed_kmh, max_loop, ratio_max)\u001b[0m\n\u001b[1;32m     85\u001b[0m         ftdf = tdf.groupby(groupby, group_keys=False).apply(_filter_trajectory, max_speed=max_speed_kmh,\n\u001b[1;32m     86\u001b[0m                                                             \u001b[0minclude_loops\u001b[0m\u001b[0;34m=\u001b[0m\u001b[0minclude_loops\u001b[0m\u001b[0;34m,\u001b[0m \u001b[0mspeed\u001b[0m\u001b[0;34m=\u001b[0m\u001b[0mspeed_kmh\u001b[0m\u001b[0;34m,\u001b[0m\u001b[0;34m\u001b[0m\u001b[0;34m\u001b[0m\u001b[0m\n\u001b[0;32m---> 87\u001b[0;31m                                                              max_loop=max_loop, ratio_max=ratio_max)\n\u001b[0m\u001b[1;32m     88\u001b[0m     \u001b[0;32melse\u001b[0m\u001b[0;34m:\u001b[0m\u001b[0;34m\u001b[0m\u001b[0;34m\u001b[0m\u001b[0m\n\u001b[1;32m     89\u001b[0m         ftdf = _filter_trajectory(tdf, speed=speed_kmh, max_speed=max_speed_kmh,\n",
      "\u001b[0;32m~/anaconda3/envs/skmob/lib/python3.7/site-packages/pandas/core/groupby/groupby.py\u001b[0m in \u001b[0;36mapply\u001b[0;34m(self, func, *args, **kwargs)\u001b[0m\n\u001b[1;32m    892\u001b[0m         \u001b[0;32mwith\u001b[0m \u001b[0moption_context\u001b[0m\u001b[0;34m(\u001b[0m\u001b[0;34m\"mode.chained_assignment\"\u001b[0m\u001b[0;34m,\u001b[0m \u001b[0;32mNone\u001b[0m\u001b[0;34m)\u001b[0m\u001b[0;34m:\u001b[0m\u001b[0;34m\u001b[0m\u001b[0;34m\u001b[0m\u001b[0m\n\u001b[1;32m    893\u001b[0m             \u001b[0;32mtry\u001b[0m\u001b[0;34m:\u001b[0m\u001b[0;34m\u001b[0m\u001b[0;34m\u001b[0m\u001b[0m\n\u001b[0;32m--> 894\u001b[0;31m                 \u001b[0mresult\u001b[0m \u001b[0;34m=\u001b[0m \u001b[0mself\u001b[0m\u001b[0;34m.\u001b[0m\u001b[0m_python_apply_general\u001b[0m\u001b[0;34m(\u001b[0m\u001b[0mf\u001b[0m\u001b[0;34m,\u001b[0m \u001b[0mself\u001b[0m\u001b[0;34m.\u001b[0m\u001b[0m_selected_obj\u001b[0m\u001b[0;34m)\u001b[0m\u001b[0;34m\u001b[0m\u001b[0;34m\u001b[0m\u001b[0m\n\u001b[0m\u001b[1;32m    895\u001b[0m             \u001b[0;32mexcept\u001b[0m \u001b[0mTypeError\u001b[0m\u001b[0;34m:\u001b[0m\u001b[0;34m\u001b[0m\u001b[0;34m\u001b[0m\u001b[0m\n\u001b[1;32m    896\u001b[0m                 \u001b[0;31m# gh-20949\u001b[0m\u001b[0;34m\u001b[0m\u001b[0;34m\u001b[0m\u001b[0;34m\u001b[0m\u001b[0m\n",
      "\u001b[0;32m~/anaconda3/envs/skmob/lib/python3.7/site-packages/pandas/core/groupby/groupby.py\u001b[0m in \u001b[0;36m_python_apply_general\u001b[0;34m(self, f, data)\u001b[0m\n\u001b[1;32m    926\u001b[0m             \u001b[0mdata\u001b[0m \u001b[0mafter\u001b[0m \u001b[0mapplying\u001b[0m \u001b[0mf\u001b[0m\u001b[0;34m\u001b[0m\u001b[0;34m\u001b[0m\u001b[0m\n\u001b[1;32m    927\u001b[0m         \"\"\"\n\u001b[0;32m--> 928\u001b[0;31m         \u001b[0mkeys\u001b[0m\u001b[0;34m,\u001b[0m \u001b[0mvalues\u001b[0m\u001b[0;34m,\u001b[0m \u001b[0mmutated\u001b[0m \u001b[0;34m=\u001b[0m \u001b[0mself\u001b[0m\u001b[0;34m.\u001b[0m\u001b[0mgrouper\u001b[0m\u001b[0;34m.\u001b[0m\u001b[0mapply\u001b[0m\u001b[0;34m(\u001b[0m\u001b[0mf\u001b[0m\u001b[0;34m,\u001b[0m \u001b[0mdata\u001b[0m\u001b[0;34m,\u001b[0m \u001b[0mself\u001b[0m\u001b[0;34m.\u001b[0m\u001b[0maxis\u001b[0m\u001b[0;34m)\u001b[0m\u001b[0;34m\u001b[0m\u001b[0;34m\u001b[0m\u001b[0m\n\u001b[0m\u001b[1;32m    929\u001b[0m \u001b[0;34m\u001b[0m\u001b[0m\n\u001b[1;32m    930\u001b[0m         return self._wrap_applied_output(\n",
      "\u001b[0;32m~/anaconda3/envs/skmob/lib/python3.7/site-packages/pandas/core/groupby/ops.py\u001b[0m in \u001b[0;36mapply\u001b[0;34m(self, f, data, axis)\u001b[0m\n\u001b[1;32m    202\u001b[0m         ):\n\u001b[1;32m    203\u001b[0m             \u001b[0;32mtry\u001b[0m\u001b[0;34m:\u001b[0m\u001b[0;34m\u001b[0m\u001b[0;34m\u001b[0m\u001b[0m\n\u001b[0;32m--> 204\u001b[0;31m                 \u001b[0mresult_values\u001b[0m\u001b[0;34m,\u001b[0m \u001b[0mmutated\u001b[0m \u001b[0;34m=\u001b[0m \u001b[0msplitter\u001b[0m\u001b[0;34m.\u001b[0m\u001b[0mfast_apply\u001b[0m\u001b[0;34m(\u001b[0m\u001b[0mf\u001b[0m\u001b[0;34m,\u001b[0m \u001b[0msdata\u001b[0m\u001b[0;34m,\u001b[0m \u001b[0mgroup_keys\u001b[0m\u001b[0;34m)\u001b[0m\u001b[0;34m\u001b[0m\u001b[0;34m\u001b[0m\u001b[0m\n\u001b[0m\u001b[1;32m    205\u001b[0m \u001b[0;34m\u001b[0m\u001b[0m\n\u001b[1;32m    206\u001b[0m             \u001b[0;32mexcept\u001b[0m \u001b[0mlibreduction\u001b[0m\u001b[0;34m.\u001b[0m\u001b[0mInvalidApply\u001b[0m \u001b[0;32mas\u001b[0m \u001b[0merr\u001b[0m\u001b[0;34m:\u001b[0m\u001b[0;34m\u001b[0m\u001b[0;34m\u001b[0m\u001b[0m\n",
      "\u001b[0;32m~/anaconda3/envs/skmob/lib/python3.7/site-packages/pandas/core/groupby/ops.py\u001b[0m in \u001b[0;36mfast_apply\u001b[0;34m(self, f, sdata, names)\u001b[0m\n\u001b[1;32m    999\u001b[0m         \u001b[0;31m# must return keys::list, values::list, mutated::bool\u001b[0m\u001b[0;34m\u001b[0m\u001b[0;34m\u001b[0m\u001b[0;34m\u001b[0m\u001b[0m\n\u001b[1;32m   1000\u001b[0m         \u001b[0mstarts\u001b[0m\u001b[0;34m,\u001b[0m \u001b[0mends\u001b[0m \u001b[0;34m=\u001b[0m \u001b[0mlib\u001b[0m\u001b[0;34m.\u001b[0m\u001b[0mgenerate_slices\u001b[0m\u001b[0;34m(\u001b[0m\u001b[0mself\u001b[0m\u001b[0;34m.\u001b[0m\u001b[0mslabels\u001b[0m\u001b[0;34m,\u001b[0m \u001b[0mself\u001b[0m\u001b[0;34m.\u001b[0m\u001b[0mngroups\u001b[0m\u001b[0;34m)\u001b[0m\u001b[0;34m\u001b[0m\u001b[0;34m\u001b[0m\u001b[0m\n\u001b[0;32m-> 1001\u001b[0;31m         \u001b[0;32mreturn\u001b[0m \u001b[0mlibreduction\u001b[0m\u001b[0;34m.\u001b[0m\u001b[0mapply_frame_axis0\u001b[0m\u001b[0;34m(\u001b[0m\u001b[0msdata\u001b[0m\u001b[0;34m,\u001b[0m \u001b[0mf\u001b[0m\u001b[0;34m,\u001b[0m \u001b[0mnames\u001b[0m\u001b[0;34m,\u001b[0m \u001b[0mstarts\u001b[0m\u001b[0;34m,\u001b[0m \u001b[0mends\u001b[0m\u001b[0;34m)\u001b[0m\u001b[0;34m\u001b[0m\u001b[0;34m\u001b[0m\u001b[0m\n\u001b[0m\u001b[1;32m   1002\u001b[0m \u001b[0;34m\u001b[0m\u001b[0m\n\u001b[1;32m   1003\u001b[0m     \u001b[0;32mdef\u001b[0m \u001b[0m_chop\u001b[0m\u001b[0;34m(\u001b[0m\u001b[0mself\u001b[0m\u001b[0;34m,\u001b[0m \u001b[0msdata\u001b[0m\u001b[0;34m:\u001b[0m \u001b[0mDataFrame\u001b[0m\u001b[0;34m,\u001b[0m \u001b[0mslice_obj\u001b[0m\u001b[0;34m:\u001b[0m \u001b[0mslice\u001b[0m\u001b[0;34m)\u001b[0m \u001b[0;34m->\u001b[0m \u001b[0mDataFrame\u001b[0m\u001b[0;34m:\u001b[0m\u001b[0;34m\u001b[0m\u001b[0;34m\u001b[0m\u001b[0m\n",
      "\u001b[0;32mpandas/_libs/reduction.pyx\u001b[0m in \u001b[0;36mpandas._libs.reduction.apply_frame_axis0\u001b[0;34m()\u001b[0m\n",
      "\u001b[0;32m~/anaconda3/envs/skmob/lib/python3.7/site-packages/pandas/core/groupby/groupby.py\u001b[0m in \u001b[0;36mf\u001b[0;34m(g)\u001b[0m\n\u001b[1;32m    876\u001b[0m                 \u001b[0;32mdef\u001b[0m \u001b[0mf\u001b[0m\u001b[0;34m(\u001b[0m\u001b[0mg\u001b[0m\u001b[0;34m)\u001b[0m\u001b[0;34m:\u001b[0m\u001b[0;34m\u001b[0m\u001b[0;34m\u001b[0m\u001b[0m\n\u001b[1;32m    877\u001b[0m                     \u001b[0;32mwith\u001b[0m \u001b[0mnp\u001b[0m\u001b[0;34m.\u001b[0m\u001b[0merrstate\u001b[0m\u001b[0;34m(\u001b[0m\u001b[0mall\u001b[0m\u001b[0;34m=\u001b[0m\u001b[0;34m\"ignore\"\u001b[0m\u001b[0;34m)\u001b[0m\u001b[0;34m:\u001b[0m\u001b[0;34m\u001b[0m\u001b[0;34m\u001b[0m\u001b[0m\n\u001b[0;32m--> 878\u001b[0;31m                         \u001b[0;32mreturn\u001b[0m \u001b[0mfunc\u001b[0m\u001b[0;34m(\u001b[0m\u001b[0mg\u001b[0m\u001b[0;34m,\u001b[0m \u001b[0;34m*\u001b[0m\u001b[0margs\u001b[0m\u001b[0;34m,\u001b[0m \u001b[0;34m**\u001b[0m\u001b[0mkwargs\u001b[0m\u001b[0;34m)\u001b[0m\u001b[0;34m\u001b[0m\u001b[0;34m\u001b[0m\u001b[0m\n\u001b[0m\u001b[1;32m    879\u001b[0m \u001b[0;34m\u001b[0m\u001b[0m\n\u001b[1;32m    880\u001b[0m             \u001b[0;32melif\u001b[0m \u001b[0mhasattr\u001b[0m\u001b[0;34m(\u001b[0m\u001b[0mnanops\u001b[0m\u001b[0;34m,\u001b[0m \u001b[0;34m\"nan\"\u001b[0m \u001b[0;34m+\u001b[0m \u001b[0mfunc\u001b[0m\u001b[0;34m)\u001b[0m\u001b[0;34m:\u001b[0m\u001b[0;34m\u001b[0m\u001b[0;34m\u001b[0m\u001b[0m\n",
      "\u001b[0;32m~/anaconda3/envs/skmob/lib/python3.7/site-packages/skmob/preprocessing/filtering.py\u001b[0m in \u001b[0;36m_filter_trajectory\u001b[0;34m(tdf, max_speed, include_loops, speed, max_loop, ratio_max)\u001b[0m\n\u001b[1;32m    104\u001b[0m     \u001b[0mcolumns_order\u001b[0m \u001b[0;34m=\u001b[0m \u001b[0mlist\u001b[0m\u001b[0;34m(\u001b[0m\u001b[0mtdf\u001b[0m\u001b[0;34m.\u001b[0m\u001b[0mcolumns\u001b[0m\u001b[0;34m)\u001b[0m\u001b[0;34m\u001b[0m\u001b[0;34m\u001b[0m\u001b[0m\n\u001b[1;32m    105\u001b[0m \u001b[0;34m\u001b[0m\u001b[0m\n\u001b[0;32m--> 106\u001b[0;31m     \u001b[0mtrajectory\u001b[0m \u001b[0;34m=\u001b[0m \u001b[0m_filter_array\u001b[0m\u001b[0;34m(\u001b[0m\u001b[0mlat_lng_dtime_other\u001b[0m\u001b[0;34m,\u001b[0m \u001b[0mmax_speed\u001b[0m\u001b[0;34m,\u001b[0m \u001b[0minclude_loops\u001b[0m\u001b[0;34m,\u001b[0m \u001b[0mspeed\u001b[0m\u001b[0;34m,\u001b[0m \u001b[0mmax_loop\u001b[0m\u001b[0;34m,\u001b[0m \u001b[0mratio_max\u001b[0m\u001b[0;34m)\u001b[0m\u001b[0;34m\u001b[0m\u001b[0;34m\u001b[0m\u001b[0m\n\u001b[0m\u001b[1;32m    107\u001b[0m \u001b[0;34m\u001b[0m\u001b[0m\n\u001b[1;32m    108\u001b[0m     \u001b[0mfiltered_traj\u001b[0m \u001b[0;34m=\u001b[0m \u001b[0mnparray_to_trajdataframe\u001b[0m\u001b[0;34m(\u001b[0m\u001b[0mtrajectory\u001b[0m\u001b[0;34m,\u001b[0m \u001b[0mutils\u001b[0m\u001b[0;34m.\u001b[0m\u001b[0mget_columns\u001b[0m\u001b[0;34m(\u001b[0m\u001b[0mtdf\u001b[0m\u001b[0;34m)\u001b[0m\u001b[0;34m,\u001b[0m \u001b[0;34m{\u001b[0m\u001b[0;34m}\u001b[0m\u001b[0;34m)\u001b[0m\u001b[0;34m\u001b[0m\u001b[0;34m\u001b[0m\u001b[0m\n",
      "\u001b[0;32m~/anaconda3/envs/skmob/lib/python3.7/site-packages/skmob/preprocessing/filtering.py\u001b[0m in \u001b[0;36m_filter_array\u001b[0;34m(lat_lng_dtime_other, max_speed, include_loops, speed, max_loop, ratio_max)\u001b[0m\n\u001b[1;32m    138\u001b[0m         \u001b[0;32mtry\u001b[0m\u001b[0;34m:\u001b[0m\u001b[0;34m\u001b[0m\u001b[0;34m\u001b[0m\u001b[0m\n\u001b[1;32m    139\u001b[0m             \u001b[0;32mif\u001b[0m \u001b[0mdistfunc\u001b[0m\u001b[0;34m(\u001b[0m\u001b[0mlat_lng_dtime_other\u001b[0m\u001b[0;34m[\u001b[0m\u001b[0mi\u001b[0m\u001b[0;34m]\u001b[0m\u001b[0;34m[\u001b[0m\u001b[0;34m:\u001b[0m\u001b[0;36m2\u001b[0m\u001b[0;34m]\u001b[0m\u001b[0;34m,\u001b[0m \u001b[0mlat_lng_dtime_other\u001b[0m\u001b[0;34m[\u001b[0m\u001b[0mi\u001b[0m \u001b[0;34m+\u001b[0m \u001b[0;36m1\u001b[0m\u001b[0;34m]\u001b[0m\u001b[0;34m[\u001b[0m\u001b[0;34m:\u001b[0m\u001b[0;36m2\u001b[0m\u001b[0;34m]\u001b[0m\u001b[0;34m)\u001b[0m \u001b[0;34m/\u001b[0m \u001b[0mdt\u001b[0m \u001b[0;34m*\u001b[0m \u001b[0;36m3600.\u001b[0m \u001b[0;34m>\u001b[0m \u001b[0mmax_speed\u001b[0m\u001b[0;34m:\u001b[0m\u001b[0;34m\u001b[0m\u001b[0;34m\u001b[0m\u001b[0m\n\u001b[0;32m--> 140\u001b[0;31m                 \u001b[0;32mdel\u001b[0m \u001b[0mlat_lng_dtime_other\u001b[0m\u001b[0;34m[\u001b[0m\u001b[0mi\u001b[0m \u001b[0;34m+\u001b[0m \u001b[0;36m1\u001b[0m\u001b[0;34m]\u001b[0m\u001b[0;34m\u001b[0m\u001b[0;34m\u001b[0m\u001b[0m\n\u001b[0m\u001b[1;32m    141\u001b[0m                 \u001b[0mlX\u001b[0m \u001b[0;34m=\u001b[0m \u001b[0mlen\u001b[0m\u001b[0;34m(\u001b[0m\u001b[0mlat_lng_dtime_other\u001b[0m\u001b[0;34m)\u001b[0m\u001b[0;34m\u001b[0m\u001b[0;34m\u001b[0m\u001b[0m\n\u001b[1;32m    142\u001b[0m                 \u001b[0;32mcontinue\u001b[0m\u001b[0;34m\u001b[0m\u001b[0;34m\u001b[0m\u001b[0m\n",
      "\u001b[0;31mKeyboardInterrupt\u001b[0m: "
     ]
    }
   ],
   "source": [
    "# 1. Noise Filtering\n",
    "analyze_number_of_events_per_day(filtering.filter(trgeo, max_speed_kmh=0.1))"
   ]
  },
  {
   "cell_type": "code",
   "execution_count": null,
   "id": "e3b9dc28",
   "metadata": {},
   "outputs": [],
   "source": [
    "print('a')"
   ]
  },
  {
   "cell_type": "code",
   "execution_count": null,
   "id": "24bad7ed-bb1c-4fc4-96c1-7b20e39dd119",
   "metadata": {},
   "outputs": [],
   "source": []
  },
  {
   "cell_type": "code",
   "execution_count": null,
   "id": "d4f82b17-203d-4331-80e6-eb780cfc7745",
   "metadata": {},
   "outputs": [],
   "source": []
  },
  {
   "cell_type": "code",
   "execution_count": null,
   "id": "3e583198-89d1-427e-942e-207fdef000b6",
   "metadata": {},
   "outputs": [],
   "source": []
  },
  {
   "cell_type": "code",
   "execution_count": null,
   "id": "986bff69",
   "metadata": {},
   "outputs": [],
   "source": [
    "aux_dict = {}\n",
    "aux_dict['user'] = []\n",
    "aux_dict['number_points'] = []\n",
    "aux_dict['min_tmstmp'] = []\n",
    "aux_dict['max_tmstmp'] = []\n",
    "for usr in data['user'].unique():\n",
    "    aux_dict['user'].append(usr)\n",
    "    aux_dict['number_points'].append(data[data['user']==usr].shape[0])\n",
    "    aux_dict['min_tmstmp'].append(data[data['user']==usr]['hour'].min())\n",
    "    aux_dict['max_tmstmp'].append(data[data['user']==usr]['hour'].max())\n",
    "aux_dict = pd.DataFrame(aux_dict)\n",
    "aux_dict['duracion'] = (aux_dict['max_tmstmp'] - aux_dict['min_tmstmp']).dt.total_seconds()/ 60\n",
    "aux_dict.sort_values(by='duracion', ascending=True, inplace=True)\n",
    "display(aux_dict)"
   ]
  },
  {
   "cell_type": "code",
   "execution_count": null,
   "id": "479f373e",
   "metadata": {},
   "outputs": [],
   "source": [
    "fig,ax = plt.subplots(figsize=(6,4))\n",
    "ax.set_xscale('log')\n",
    "plt.scatter(aux_dict['duracion'].values, aux_dict['number_points'].values, color='r')\n",
    "plt.plot(aux_dict['duracion'].values, aux_dict['number_points'].values , color='r', linestyle='--')\n",
    "\"\"\"\n",
    "plt.axvline(60,0)\n",
    "plt.text(60,0, 'H')\n",
    "plt.axvline(60*24,0)\n",
    "plt.text(60*24,0, 'D')\n",
    "\"\"\"\n",
    "plt.axvline(60*24*7,0)\n",
    "plt.text(60*24*7,0, 'S')\n",
    "plt.axvline(60*24*7*30,0)\n",
    "plt.text(60*24*7*30,0, 'M')\n",
    "ax.set_xlabel('Tiempo en minutos - log')\n",
    "ax.set_ylabel('Cantidad de puntos')\n",
    "#plt.axvline(60*24*7*30*365,0)\n",
    "#plt.text(60*24*7*30*365,0, 'Y')\n",
    "#plt.show()"
   ]
  },
  {
   "cell_type": "code",
   "execution_count": null,
   "id": "0ebb046a",
   "metadata": {},
   "outputs": [],
   "source": [
    "fig,ax = plt.subplots(figsize=(12,6))\n",
    "#ax.set_xscale('log')\n",
    "plt.scatter(aux_dict['duracion'].values, aux_dict['number_points'].values)\n",
    "plt.plot(aux_dict['duracion'].values, aux_dict['number_points'].values )\n",
    "\n",
    "#plt.show()"
   ]
  },
  {
   "cell_type": "code",
   "execution_count": null,
   "id": "565f7c9f",
   "metadata": {},
   "outputs": [],
   "source": []
  },
  {
   "cell_type": "code",
   "execution_count": null,
   "id": "e89a3f6d",
   "metadata": {},
   "outputs": [],
   "source": []
  },
  {
   "cell_type": "code",
   "execution_count": null,
   "id": "2f060c80-3953-4808-a706-5c092d9af2a5",
   "metadata": {},
   "outputs": [],
   "source": []
  },
  {
   "cell_type": "code",
   "execution_count": null,
   "id": "3bbb2b46-b1e6-48b2-96a0-88a80e0cd2eb",
   "metadata": {},
   "outputs": [],
   "source": []
  },
  {
   "cell_type": "code",
   "execution_count": null,
   "id": "b7072988-6068-445f-9840-4005c655b3d4",
   "metadata": {},
   "outputs": [],
   "source": []
  },
  {
   "cell_type": "code",
   "execution_count": null,
   "id": "a1c036f0-9478-43a7-9455-aa79e2a05c18",
   "metadata": {},
   "outputs": [],
   "source": []
  },
  {
   "cell_type": "code",
   "execution_count": null,
   "id": "57bc93d3-b741-4ddc-8db6-02c5a5d75fb0",
   "metadata": {},
   "outputs": [],
   "source": []
  },
  {
   "cell_type": "code",
   "execution_count": null,
   "id": "99f193ea-f9dc-4407-8438-9337a9d3fee9",
   "metadata": {},
   "outputs": [],
   "source": []
  },
  {
   "cell_type": "code",
   "execution_count": null,
   "id": "33539a8d-6504-4737-abe0-efb83c512e6c",
   "metadata": {},
   "outputs": [],
   "source": []
  },
  {
   "cell_type": "code",
   "execution_count": null,
   "id": "861dd5e9-1f00-443b-99ee-cc7f1c5c3ff6",
   "metadata": {},
   "outputs": [],
   "source": []
  },
  {
   "cell_type": "code",
   "execution_count": null,
   "id": "cc167e4a-3d8e-49aa-9bea-bfd3d1fd4bb8",
   "metadata": {},
   "outputs": [],
   "source": []
  },
  {
   "cell_type": "code",
   "execution_count": null,
   "id": "2f73e418",
   "metadata": {},
   "outputs": [],
   "source": []
  },
  {
   "cell_type": "code",
   "execution_count": null,
   "id": "62bd3bad-f4ec-45d8-95f8-84b6908dc9bf",
   "metadata": {},
   "outputs": [],
   "source": []
  },
  {
   "cell_type": "code",
   "execution_count": null,
   "id": "862921c8-2cca-4dc3-aa17-1425f00e5240",
   "metadata": {},
   "outputs": [],
   "source": [
    "data['seconds_diff'].nlargest(30)"
   ]
  },
  {
   "cell_type": "markdown",
   "id": "8d4f4623-e595-4e14-bb73-643ac8f0f893",
   "metadata": {},
   "source": [
    "-------|-----|-----------|---------|\n",
    "\n",
    "--xxXx--|--xX-x--|--x--xX--|"
   ]
  },
  {
   "cell_type": "code",
   "execution_count": null,
   "id": "7ceb033c-129b-4f63-97a8-b1d57e209e96",
   "metadata": {},
   "outputs": [],
   "source": [
    "data['distance_to_last_km'].nlargest(30)"
   ]
  },
  {
   "cell_type": "code",
   "execution_count": null,
   "id": "bc36b2f0-01c7-4451-b7e2-01e7dc4ade24",
   "metadata": {},
   "outputs": [],
   "source": []
  }
 ],
 "metadata": {
  "kernelspec": {
   "display_name": "Python [conda env:skmob]",
   "language": "python",
   "name": "skmob"
  },
  "language_info": {
   "codemirror_mode": {
    "name": "ipython",
    "version": 3
   },
   "file_extension": ".py",
   "mimetype": "text/x-python",
   "name": "python",
   "nbconvert_exporter": "python",
   "pygments_lexer": "ipython3",
   "version": "3.7.10"
  }
 },
 "nbformat": 4,
 "nbformat_minor": 5
}
