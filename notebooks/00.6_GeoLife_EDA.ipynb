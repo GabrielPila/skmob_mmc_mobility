{
 "cells": [
  {
   "cell_type": "markdown",
   "id": "95096085-b860-42d3-8cb0-6612455b2ddf",
   "metadata": {},
   "source": [
    "# MMC Implementation"
   ]
  },
  {
   "cell_type": "markdown",
   "id": "d18b83e5-c0b9-495d-afef-313b031af35b",
   "metadata": {},
   "source": [
    "## Correct Implementation"
   ]
  },
  {
   "cell_type": "code",
   "execution_count": 1,
   "id": "30d91280-15df-4e09-8c77-6729023ac420",
   "metadata": {},
   "outputs": [],
   "source": [
    "import numpy as np\n",
    "import seaborn as sns\n",
    "import matplotlib.pyplot as plt\n",
    "import pandas as pd\n",
    "import warnings\n",
    "import skmob\n",
    "from tqdm import tqdm\n",
    "import sys\n",
    "sys.path.append('../')\n",
    "from src.geo_utils import (get_clusters_from_tdf,\n",
    "                            assign_tdf_points_to_clusters,\n",
    "                            get_mmc_transitions,\n",
    "                            get_stationary_vector)\n",
    "import os"
   ]
  },
  {
   "cell_type": "code",
   "execution_count": 2,
   "id": "9b8f5af4-6600-4bb8-b984-841bfc689264",
   "metadata": {},
   "outputs": [],
   "source": [
    "from src.geo_utils import (analyze_dates_with_events,\n",
    "                           analyze_number_of_events, \n",
    "                           analyze_number_of_events_per_day, \n",
    "                           analyze_space_drift, \n",
    "                           analyze_speed_drift,\n",
    "                           analyze_time_drift)"
   ]
  },
  {
   "cell_type": "code",
   "execution_count": 3,
   "id": "17b8b922-edea-444c-8fc8-68ea1fc498cd",
   "metadata": {},
   "outputs": [],
   "source": [
    "warnings.filterwarnings('ignore')"
   ]
  },
  {
   "cell_type": "code",
   "execution_count": 4,
   "id": "4214bf7e-0f5c-44fa-a1c2-5e2a2e1b327b",
   "metadata": {},
   "outputs": [],
   "source": [
    "def get_distance(row):\n",
    "    lat, lng, lat_last, lng_last = row['lat'], row['lng'], row['lat_last'], row['lng_last']\n",
    "    return skmob.utils.utils.distance((lat, lng), (lat_last, lng_last))"
   ]
  },
  {
   "cell_type": "markdown",
   "id": "6031bc59-4736-47d5-bd59-b3c3c46e3462",
   "metadata": {},
   "source": [
    "### Evaluation of Implementation"
   ]
  },
  {
   "cell_type": "code",
   "execution_count": null,
   "id": "87c3a7df-6a6d-49b1-b774-3def0b90051d",
   "metadata": {},
   "outputs": [],
   "source": []
  },
  {
   "cell_type": "code",
   "execution_count": null,
   "id": "efe0121c-d96f-4730-b80f-6e7438d38642",
   "metadata": {},
   "outputs": [],
   "source": [
    "# Reading all the DataFrames and consolidating it into one\n",
    "data_files = sorted([x for x in os.listdir('../data/') if 'geo_' in x])\n",
    "\n",
    "data = pd.DataFrame()\n",
    "for data_file in tqdm(data_files):\n",
    "    data_i = pd.read_csv(f'../data/{data_file}')\n",
    "    data = data.append(data_i)\n",
    "data = data.reset_index(drop=True)"
   ]
  },
  {
   "cell_type": "code",
   "execution_count": null,
   "id": "3971c63f-560a-4020-9759-80ce692771c9",
   "metadata": {},
   "outputs": [],
   "source": [
    "# Homogenizing the dataset format\n",
    "\n",
    "geo_columns = ['user', 'hour', 'lat', 'lng']\n",
    "\n",
    "data['hour'] = data['date'] + ' ' + data['time']\n",
    "data['hour'] = pd.to_datetime(data['hour'])\n",
    "data['user'] = data['user_id'].map(int)\n",
    "\n",
    "data = data[geo_columns]\n",
    "data = data.drop_duplicates()\n",
    "data = data.groupby(['user','hour'], as_index=False).nth(0)\n",
    "data = data.reset_index(drop=True)\n",
    "\n",
    "\n",
    "# Estimating distance and time differences\n",
    "\n",
    "data[['lat_last','lng_last']] = data.groupby('user').shift(1)[['lat','lng']]\n",
    "data['seconds_diff'] = data.groupby('user')['hour'].diff(1).dt.seconds\n",
    "\n",
    "data['distance_to_last_km'] = data.apply(get_distance, axis=1) \n",
    "data['speed_mps'] = data['distance_to_last_km'] / data['seconds_diff'] * 1000"
   ]
  },
  {
   "cell_type": "code",
   "execution_count": null,
   "id": "1f35c83b-ae90-416f-9bb5-87530f3c66b7",
   "metadata": {},
   "outputs": [],
   "source": [
    "data.info()"
   ]
  },
  {
   "cell_type": "code",
   "execution_count": null,
   "id": "6914b5bb-ada3-4d53-a499-e6b1c6c7b2e3",
   "metadata": {},
   "outputs": [],
   "source": [
    "del data['lat_last'], data['lng_last']"
   ]
  },
  {
   "cell_type": "code",
   "execution_count": null,
   "id": "6c97f105-8b9d-4e6d-a989-e3ee1d850998",
   "metadata": {},
   "outputs": [],
   "source": [
    "data.head()"
   ]
  },
  {
   "cell_type": "markdown",
   "id": "c15c3ce9-f1a5-4d67-8ed4-c8bdb5fbd38f",
   "metadata": {},
   "source": [
    "- El 99% de los registros están distanciados entre 0 y 5 segundos"
   ]
  },
  {
   "cell_type": "markdown",
   "id": "0a67ea4d-5bfa-499c-ab76-4520a00696aa",
   "metadata": {},
   "source": [
    "#### Saving Data"
   ]
  },
  {
   "cell_type": "code",
   "execution_count": null,
   "id": "da16efcb-75f5-4208-98a2-6ec103675d72",
   "metadata": {},
   "outputs": [],
   "source": [
    "# Saving Data\n",
    "data.to_parquet('../data/geolife_consolidated.parquet', index=False)"
   ]
  },
  {
   "cell_type": "markdown",
   "id": "401dbe29-adbc-4e83-be1c-7eaaa4c0a246",
   "metadata": {},
   "source": [
    "#### Loading Data (backup)"
   ]
  },
  {
   "cell_type": "code",
   "execution_count": 5,
   "id": "1e97ad34-bfae-49a2-9413-790e4362751a",
   "metadata": {},
   "outputs": [],
   "source": [
    "# Loading Data\n",
    "data = pd.read_parquet('../data/geolife_consolidated.parquet')"
   ]
  },
  {
   "cell_type": "code",
   "execution_count": 6,
   "id": "b5dc9f40-68b0-499c-a4a1-5bf7ac7469b0",
   "metadata": {},
   "outputs": [],
   "source": [
    "data['date'] = data['hour'].dt.date"
   ]
  },
  {
   "cell_type": "code",
   "execution_count": 7,
   "id": "d6286104-3b89-41d2-ba5d-9b3ee523fe12",
   "metadata": {},
   "outputs": [],
   "source": [
    "def analyze_time_drift(data):\n",
    "    '''Analiza la distribución de la variación de tiempo (segundos) entre evento y evento'''\n",
    "    \n",
    "    # Distribución de número de eventos\n",
    "    serie_seconds_events = data['seconds_diff'].value_counts()\n",
    "    serie_seconds_events_log = np.log10(serie_seconds_events)\n",
    "\n",
    "    print(serie_seconds_events)\n",
    "    print()\n",
    "    print(serie_seconds_events.quantile([0, 0.1, 0.2, 0.3, 0.4, 0.5, 0.6, 0.7, 0.8, 0.9, 0.95, 0.99, 1]))\n",
    "\n",
    "    fig = plt.figure(figsize=(15,4))\n",
    "    fig.add_subplot(1,2,1)\n",
    "    data['seconds_diff'].hist(bins=100)\n",
    "    plt.ylabel('Numero de Eventos')\n",
    "    plt.xlabel('Delta de Segundos')\n",
    "    \n",
    "    fig.add_subplot(1,2,2)\n",
    "\n",
    "    serie_seconds_events_log.hist(bins=30)\n",
    "    plt.title('Distribución de eventos según drift en segundos (log10)');\n",
    "    plt.ylabel('Numero de Eventos')\n",
    "    plt.xlabel('Delta de Segundos (log10 scale)');\n",
    "    \n",
    "\n",
    "def analyze_space_drift(data):\n",
    "    '''Analiza la distribución de la variación de distancia (Km) entre evento y evento'''\n",
    "\n",
    "    serie_distance_events = data['distance_to_last_km'].value_counts()\n",
    "    serie_distance_events_log = np.log10(serie_distance_events)\n",
    "    \n",
    "    print(serie_distance_events)\n",
    "    print()\n",
    "    print(serie_distance_events.quantile([0, 0.1, 0.2, 0.3, 0.4, 0.5, 0.6, 0.7, 0.8, 0.9, 0.95, 0.99, 1]))\n",
    "\n",
    "    fig = plt.figure(figsize=(15,4))\n",
    "    fig.add_subplot(1,2,1)\n",
    "    data['distance_to_last_km'].hist(bins=100)\n",
    "    plt.ylabel('Numero de Eventos')\n",
    "    plt.xlabel('Delta de KM');\n",
    "    \n",
    "    fig.add_subplot(1,2,2)\n",
    "\n",
    "    serie_distance_events_log.hist(bins=30)\n",
    "    plt.title('Distribución de eventos según drift de distancia (log10)');\n",
    "    plt.ylabel('Numero de Eventos')\n",
    "    plt.xlabel('Delta de KM (log10 scale)');\n",
    "    \n",
    "    \n",
    "def analyze_speed_drift(data):\n",
    "    '''Analiza la velocidad (metros por segundo) de cada evento'''\n",
    "\n",
    "    serie_speed = data['speed_mps']\n",
    "    serie_speed_log = np.log10(serie_speed+1)\n",
    "    \n",
    "    print(serie_speed.quantile([0, 0.1, 0.2, 0.3, 0.4, 0.5, 0.6, 0.7, 0.8, 0.9, 0.95, 0.99, 1]))\n",
    "\n",
    "    fig = plt.figure(figsize=(15,4))\n",
    "    \n",
    "    fig.add_subplot(1,2,1)\n",
    "    serie_speed.hist(bins=100)\n",
    "    plt.title('Distribución de eventos según velocidad');\n",
    "    plt.ylabel('Numero de Eventos')\n",
    "    plt.xlabel('Velocidad');\n",
    "    \n",
    "    fig.add_subplot(1,2,2)\n",
    "    serie_speed_log.hist(bins=30)\n",
    "    plt.title('Distribución de eventos según velocidad (log10)');\n",
    "    plt.ylabel('Numero de Eventos')\n",
    "    plt.xlabel('Velocidad (log10 scale)');\n",
    "    \n",
    "    \n",
    "def analyze_number_of_events_per_day(data):\n",
    "    '''Analiza la distribución de la variación de tiempo (segundos) entre evento y evento'''\n",
    "\n",
    "    # Distribución de número de eventos\n",
    "    df_events_per_day = data.groupby(['date','user'], as_index=False).size()\n",
    "    \n",
    "    serie_user_events_per_day = df_events_per_day['size']\n",
    "    serie_user_events_per_day_log = np.log10(serie_user_events_per_day)\n",
    "\n",
    "    print(serie_user_events_per_day)\n",
    "    print()\n",
    "    print(df_events_per_day['size'].quantile([0, 0.1, 0.2, 0.3, 0.4, 0.5, 0.6, 0.7, 0.8, 0.9, 0.95, 0.99, 1]))\n",
    "\n",
    "    fig = plt.figure(figsize=(15,4))\n",
    "\n",
    "    fig.add_subplot(1,2,1)\n",
    "    serie_user_events_per_day.hist(bins=30)\n",
    "    plt.title('Distribución de número de eventos por usuarios por día');\n",
    "    plt.ylabel('Numero de Usuarios')\n",
    "    plt.xlabel('Número de eventos en un día')    \n",
    "    \n",
    "    fig.add_subplot(1,2,2)\n",
    "    serie_user_events_per_day_log.hist(bins=30)\n",
    "    plt.title('Distribución de número de eventos por usuarios por día (log10)');\n",
    "    plt.ylabel('Numero de Usuarios')\n",
    "    plt.xlabel('Número de eventos en un día (log10 scale)')\n",
    "    \n",
    "def analyze_number_of_events(data):\n",
    "    # Distribución de número de eventos\n",
    "    serie_user_events = data['user'].value_counts()\n",
    "    serie_user_events_log = np.log10(serie_user_events)\n",
    "\n",
    "    print(serie_user_events)\n",
    "    print()\n",
    "    print(serie_user_events.quantile([0.1, 0.2, 0.3, 0.4, 0.5, 0.6, 0.7, 0.8, 0.9, 0.95, 0.99, 1]))\n",
    "\n",
    "    fig = plt.figure(figsize=(15,4))\n",
    "\n",
    "    fig.add_subplot(1,2,1)\n",
    "    serie_user_events.hist(bins=30)\n",
    "    plt.title('Distribución de usuarios según Nro de Eventos');\n",
    "    plt.ylabel('Numero de Usuarios')\n",
    "    plt.xlabel('Número de eventos')    \n",
    "    \n",
    "    fig.add_subplot(1,2,2)\n",
    "    serie_user_events_log.hist(bins=30)\n",
    "    plt.title('Distribución de usuarios según Nro de Eventos (log10)');\n",
    "    plt.ylabel('Numero de Usuarios')\n",
    "    plt.xlabel('Número de eventos (log10 scale)')\n",
    "    \n",
    "\n",
    "def analyze_dates_with_events(data):\n",
    "    # Distribución de número de eventos\n",
    "    serie_user_events = data[['user','date']].drop_duplicates()['user'].value_counts()\n",
    "    serie_user_events_log = np.log10(serie_user_events)\n",
    "\n",
    "    print(serie_user_events)\n",
    "\n",
    "    fig = plt.figure(figsize=(15,4))\n",
    "    fig.add_subplot(1,2,1)\n",
    "    serie_user_events.hist(bins=30)\n",
    "    plt.title('Distribución de usuarios según Nro de Días con Eventos');\n",
    "    plt.ylabel('Numero de Usuarios')\n",
    "    plt.xlabel('Número de Días con eventos')\n",
    "    \n",
    "    fig.add_subplot(1,2,2)\n",
    "\n",
    "    serie_user_events_log.hist(bins=30)\n",
    "    plt.title('Distribución de usuarios según Nro de Días con Eventos (log10)');\n",
    "    plt.ylabel('Numero de Usuarios')\n",
    "    plt.xlabel('Número de eventos (log10 scale)')"
   ]
  },
  {
   "cell_type": "code",
   "execution_count": null,
   "id": "16043be0-62a9-4cbe-826b-a70244c75a43",
   "metadata": {},
   "outputs": [],
   "source": [
    "analyze_number_of_events(data)"
   ]
  },
  {
   "cell_type": "code",
   "execution_count": null,
   "id": "447b733f-1fe8-4f37-ac3b-fa42c5c40286",
   "metadata": {},
   "outputs": [],
   "source": [
    "analyze_number_of_events_per_day(data)"
   ]
  },
  {
   "cell_type": "code",
   "execution_count": null,
   "id": "b05cc1b1-143f-4da0-b7b3-e16064f0fc32",
   "metadata": {},
   "outputs": [],
   "source": [
    "analyze_dates_with_events(data)"
   ]
  },
  {
   "cell_type": "code",
   "execution_count": null,
   "id": "006444e2-1a63-4f1d-975a-399253ea7ad8",
   "metadata": {
    "scrolled": true
   },
   "outputs": [],
   "source": [
    "analyze_space_drift(data)"
   ]
  },
  {
   "cell_type": "code",
   "execution_count": null,
   "id": "39f641ef-0c7e-4324-b233-a59161c71a12",
   "metadata": {
    "scrolled": true
   },
   "outputs": [],
   "source": [
    "analyze_space_drift(data)"
   ]
  },
  {
   "cell_type": "code",
   "execution_count": null,
   "id": "10779bc4-0022-494b-90bc-e43aca27db38",
   "metadata": {
    "scrolled": true
   },
   "outputs": [],
   "source": [
    "analyze_speed_drift(data)"
   ]
  },
  {
   "cell_type": "code",
   "execution_count": null,
   "id": "15bbafc3-7670-47cf-8c49-a5fe73be2678",
   "metadata": {},
   "outputs": [],
   "source": []
  },
  {
   "cell_type": "code",
   "execution_count": null,
   "id": "566a5e10-a3e5-4d98-a7f3-16d53dfe9852",
   "metadata": {},
   "outputs": [],
   "source": []
  },
  {
   "cell_type": "code",
   "execution_count": null,
   "id": "ddf26984-92b2-450f-aa45-5a887e167a0b",
   "metadata": {},
   "outputs": [],
   "source": []
  },
  {
   "cell_type": "code",
   "execution_count": null,
   "id": "0a06936c-3810-416c-8143-f5db3ef915b7",
   "metadata": {},
   "outputs": [],
   "source": []
  },
  {
   "cell_type": "code",
   "execution_count": null,
   "id": "2fc638d7-932d-47f8-9d44-f065cd2f1d65",
   "metadata": {},
   "outputs": [],
   "source": []
  },
  {
   "cell_type": "markdown",
   "id": "fd57d87a-478f-46d4-b623-d9e67e3fb234",
   "metadata": {},
   "source": [
    "#### Latitud y Longitud"
   ]
  },
  {
   "cell_type": "code",
   "execution_count": null,
   "id": "d9ea5720-4e1e-4f5f-a119-951bc1ade214",
   "metadata": {},
   "outputs": [],
   "source": [
    "data['lat'].hist(bins=50)"
   ]
  },
  {
   "cell_type": "code",
   "execution_count": null,
   "id": "789e7d1d-45e9-412f-abfd-978f3d922da1",
   "metadata": {},
   "outputs": [],
   "source": [
    "data['lng'].hist(bins=50)"
   ]
  },
  {
   "cell_type": "code",
   "execution_count": null,
   "id": "559b2fd3-467c-47ba-a379-a38657697682",
   "metadata": {},
   "outputs": [],
   "source": [
    "data.shape"
   ]
  },
  {
   "cell_type": "markdown",
   "id": "4a228125-cca9-46d2-b89b-ad7f30591353",
   "metadata": {},
   "source": [
    "- Datashader"
   ]
  },
  {
   "cell_type": "code",
   "execution_count": null,
   "id": "0146b4f9-26be-4e05-90c0-fee50914bbee",
   "metadata": {},
   "outputs": [],
   "source": [
    "dd = data.sample(20000)"
   ]
  },
  {
   "cell_type": "code",
   "execution_count": null,
   "id": "02275c8f-2dac-4f37-b3ea-283571a3666a",
   "metadata": {},
   "outputs": [],
   "source": [
    "import seaborn as sns"
   ]
  },
  {
   "cell_type": "code",
   "execution_count": null,
   "id": "77976066-feb0-40ba-aa6b-72ffa2f85303",
   "metadata": {},
   "outputs": [],
   "source": [
    "sns.scatterplot(data=dd, x='lng', y='lat')"
   ]
  },
  {
   "cell_type": "code",
   "execution_count": null,
   "id": "7f59e65e-8945-4076-a369-e9fa8661f541",
   "metadata": {},
   "outputs": [],
   "source": [
    "sns.kdeplot(data=dd, x='lat', y='lng', fill=True)"
   ]
  },
  {
   "cell_type": "markdown",
   "id": "61610ec1-8d49-4f24-8a6e-0cb89a1438b7",
   "metadata": {},
   "source": [
    "__Escenarios:__\n",
    "- Base\n",
    "- Filtro por país\n",
    "- Filtro por tiempo en lugar"
   ]
  },
  {
   "cell_type": "markdown",
   "id": "fef5f4b9-6235-49e5-aaf8-0b8bcebe9e1b",
   "metadata": {},
   "source": [
    "__Acuerdos__\n",
    "- Quitar usuarios con menos de 1000 eventos\n",
    "- Probar los 3 escenarios"
   ]
  },
  {
   "cell_type": "code",
   "execution_count": 8,
   "id": "5499a310",
   "metadata": {},
   "outputs": [],
   "source": [
    "def filter_min_events_per_user(_df, min_events, user_col = 'user'):\n",
    "    print('Datos iniciales:')\n",
    "    print('# Registros: {:,}'.format(_df.shape[0]), '\\t|', '# Usuarios: {}'.format(_df[user_col].nunique()))\n",
    "    print('-'*70)\n",
    "    users_to_del = _df.groupby(user_col)[user_col].count()[_df.groupby(user_col)[user_col].count()<min_events].index\n",
    "    _df = _df[~_df[user_col].isin(users_to_del)]\n",
    "    \n",
    "    print('Datos finales:')\n",
    "    print('# Registros: {:,}'.format(_df.shape[0]), '\\t|', '# Usuarios: {}'.format(_df[user_col].nunique()))\n",
    "    print('-'*70)\n",
    "    return _df "
   ]
  },
  {
   "cell_type": "code",
   "execution_count": 9,
   "id": "4b8d494f",
   "metadata": {},
   "outputs": [
    {
     "name": "stdout",
     "output_type": "stream",
     "text": [
      "Datos iniciales:\n",
      "# Registros: 24,178,078 \t| # Usuarios: 182\n",
      "----------------------------------------------------------------------\n",
      "Datos finales:\n",
      "# Registros: 24,167,443 \t| # Usuarios: 158\n",
      "----------------------------------------------------------------------\n"
     ]
    }
   ],
   "source": [
    "data = filter_min_events_per_user(data, 1000)"
   ]
  },
  {
   "cell_type": "code",
   "execution_count": 10,
   "id": "c9670ecc",
   "metadata": {},
   "outputs": [],
   "source": [
    "def filter_min_days_per_user(_df, min_days, user_col = 'user', date_col  = 'date'):\n",
    "    print('Datos iniciales:')\n",
    "    print('# Registros: {:,}'.format(_df.shape[0]), '\\t|', '# Usuarios: {}'.format(_df[user_col].nunique()))\n",
    "    print('-'*70)\n",
    "    users_to_del = _df.groupby(user_col)[date_col].nunique()[_df.groupby(user_col)[date_col].nunique()<min_days].index\n",
    "    _df = _df[~_df[user_col].isin(users_to_del)]\n",
    "    \n",
    "    print('Datos finales:')\n",
    "    print('# Registros: {:,}'.format(_df.shape[0]), '\\t|', '# Usuarios: {}'.format(_df[user_col].nunique()))\n",
    "    print('-'*70)\n",
    "    return _df "
   ]
  },
  {
   "cell_type": "code",
   "execution_count": 11,
   "id": "ad20288e-0444-435f-b38b-7ca4a2bb2d26",
   "metadata": {
    "scrolled": true
   },
   "outputs": [
    {
     "name": "stdout",
     "output_type": "stream",
     "text": [
      "Datos iniciales:\n",
      "# Registros: 24,167,443 \t| # Usuarios: 158\n",
      "----------------------------------------------------------------------\n",
      "Datos finales:\n",
      "# Registros: 23,576,497 \t| # Usuarios: 120\n",
      "----------------------------------------------------------------------\n"
     ]
    }
   ],
   "source": [
    "data = filter_min_days_per_user(data, 10)"
   ]
  },
  {
   "cell_type": "code",
   "execution_count": null,
   "id": "2d876946",
   "metadata": {},
   "outputs": [],
   "source": [
    "analyze_number_of_events_per_day(data)"
   ]
  },
  {
   "cell_type": "code",
   "execution_count": null,
   "id": "3a92ec39",
   "metadata": {},
   "outputs": [],
   "source": [
    "from skmob.preprocessing import (filtering, \n",
    "                                 detection, \n",
    "                                 compression, \n",
    "                                 clustering)"
   ]
  },
  {
   "cell_type": "code",
   "execution_count": null,
   "id": "2d41cb66",
   "metadata": {},
   "outputs": [],
   "source": [
    "# Creating a Trajectory DF to analyze the impact of filtering by velocity\n",
    "trgeo = skmob.TrajDataFrame(\n",
    "    data[data['user']==1], \n",
    "    datetime='hour',\n",
    "    user_id='user'\n",
    ")"
   ]
  },
  {
   "cell_type": "code",
   "execution_count": null,
   "id": "d4318c4e",
   "metadata": {},
   "outputs": [],
   "source": []
  },
  {
   "cell_type": "code",
   "execution_count": null,
   "id": "1316e555",
   "metadata": {},
   "outputs": [],
   "source": [
    "del trgeo\n",
    "gc.collect()"
   ]
  },
  {
   "cell_type": "code",
   "execution_count": null,
   "id": "094315f1",
   "metadata": {},
   "outputs": [],
   "source": [
    "#Aproximadamente reducir a 10%"
   ]
  },
  {
   "cell_type": "code",
   "execution_count": 12,
   "id": "53ffa73f",
   "metadata": {},
   "outputs": [],
   "source": [
    "def get_mmc_clusters_stavectors(geo):\n",
    "    '''Get MMC Clusters and Stationary Vectors\n",
    "    \n",
    "    Parameters\n",
    "    ----------\n",
    "        geo (pd.Dataframe): Dataframe of 1 user_id. Must contain only the columns: ['user', 'hour', 'lat', 'lng']\n",
    "    \n",
    "    Returns\n",
    "    -------\n",
    "        clusters (pd.Dataframe): Dataframe with the clusters and the stationary value\n",
    "        m (folium.folium.Map): Map generated with the clusters on it.\n",
    "    '''\n",
    "    # TDF Definition\n",
    "    trgeo = skmob.TrajDataFrame(\n",
    "        geo, \n",
    "        datetime='hour',\n",
    "        user_id='user'\n",
    "    )\n",
    "\n",
    "    # Cluster Generation\n",
    "    clusters, m = get_clusters_from_tdf(\n",
    "        trgeo,\n",
    "        verbose=True,\n",
    "        max_speed_kmh= 0.1,\n",
    "        detect_stops=False,\n",
    "        compress=False ,\n",
    "        minutes_for_a_stop=2,\n",
    "        spatial_radius_km=0.2,\n",
    "        spatial_radius_compress_km=.2,\n",
    "        cluster_radius_km=0.5,\n",
    "        min_samples=2\n",
    "    )\n",
    "\n",
    "    # Cluster Assignation\n",
    "    trgeo_cl, distances = assign_tdf_points_to_clusters(\n",
    "        tdf=trgeo, \n",
    "        clusters=clusters\n",
    "    )\n",
    "\n",
    "    # Generation of Transit Dataframe\n",
    "    transit_df = get_mmc_transitions(trgeo_cl)\n",
    "\n",
    "    # Generation of Transit Matrix\n",
    "    transit_matrix = pd.crosstab(transit_df['cluster'], \n",
    "                                 transit_df['cluster_next'],\n",
    "                                 normalize='index').values\n",
    "    display(transit_matrix)\n",
    "    \n",
    "################################## START FIX ANTHONY ################################\n",
    "\n",
    "    #Lógica adicional para remover clusters sin salida o entrada\n",
    "    ##Retiramos las filas que tienen solo ceros y una columna con 1\n",
    "#    if ((transit_matrix.shape[0]>2 )& (transit_matrix.shape[1]>2)):\n",
    "#        print('Revisando filas de la Matriz de transición...')\n",
    "#        print('mostrando clusters iniciales')\n",
    "#        display(clusters)\n",
    "#        rows_to_drop = (transit_matrix==0).sum(axis=1)==(transit_matrix.shape[1]-1)#todos los valores en 0 excepto 1\n",
    "#        rows_to_drop = [idx for idx,row in enumerate(rows_to_drop) if row]\n",
    "#        if len(rows_to_drop)>0: \n",
    "#            transit_matrix = np.delete(transit_matrix,rows_to_drop,0)\n",
    "#            clusters=clusters.drop(rows_to_drop, axis=0  )\n",
    "#            print('clusters {} eliminados'.format(rows_to_drop))\n",
    "#            print('Transit matrix actual:')\n",
    "#            display(transit_matrix)\n",
    "            \n",
    "        ##Retiramos las columnas que tienen solo ceros una fila con 1\n",
    "#        print('Revisando columnas de la Matriz de transición...')\n",
    "#        print('mostrando clusters iniciales')\n",
    "#        display(clusters)\n",
    "#        cols_to_drop = (transit_matrix==0).sum(axis=0)==(transit_matrix.shape[0]-1)\n",
    "#        cols_to_drop = [idx for idx,col in enumerate(cols_to_drop) if col]\n",
    "#        if len(cols_to_drop)>0: \n",
    "#            transit_matrix = np.delete(transit_matrix,cols_to_drop,1)\n",
    "#            clusters=clusters.drop(cols_to_drop, axis=0  )\n",
    "#            print('clusters {} eliminados'.format(cols_to_drop))\n",
    "#            print('Transit matrix actual:')\n",
    "#            display(transit_matrix)\n",
    "#    display(transit_matrix)\n",
    "\n",
    "################################## END FIX ANTHONY ################################\n",
    "\n",
    "\n",
    "    \n",
    "    return clusters, m, transit_matrix, transit_df"
   ]
  },
  {
   "cell_type": "code",
   "execution_count": 13,
   "id": "8f9b3511",
   "metadata": {},
   "outputs": [
    {
     "name": "stderr",
     "output_type": "stream",
     "text": [
      "\r",
      "  0%|                                                   | 0/120 [00:00<?, ?it/s]"
     ]
    },
    {
     "name": "stdout",
     "output_type": "stream",
     "text": [
      "INFO: Noise Filtering applied\n",
      "INFO: Clusters generated\n",
      "(173870, 5) (379, 5) (379, 5) (379, 5) (379, 6)\n",
      "INFO: 12 clusters generated.\n"
     ]
    },
    {
     "name": "stderr",
     "output_type": "stream",
     "text": [
      "\n",
      "  0%|                                                    | 0/12 [00:00<?, ?it/s]\u001b[A\n",
      "  8%|███▋                                        | 1/12 [00:02<00:29,  2.68s/it]\u001b[A\n",
      " 17%|███████▎                                    | 2/12 [00:05<00:26,  2.67s/it]\u001b[A\n",
      " 25%|███████████                                 | 3/12 [00:07<00:23,  2.66s/it]\u001b[A\n",
      " 33%|██████████████▋                             | 4/12 [00:10<00:21,  2.66s/it]\u001b[A\n",
      " 42%|██████████████████▎                         | 5/12 [00:13<00:18,  2.65s/it]\u001b[A\n",
      " 50%|██████████████████████                      | 6/12 [00:15<00:15,  2.64s/it]\u001b[A\n",
      " 58%|█████████████████████████▋                  | 7/12 [00:18<00:13,  2.64s/it]\u001b[A\n",
      " 67%|█████████████████████████████▎              | 8/12 [00:21<00:10,  2.65s/it]\u001b[A\n",
      " 75%|█████████████████████████████████           | 9/12 [00:23<00:07,  2.66s/it]\u001b[A\n",
      " 83%|███████████████████████████████████▊       | 10/12 [00:26<00:05,  2.65s/it]\u001b[A\n",
      " 92%|███████████████████████████████████████▍   | 11/12 [00:29<00:02,  2.64s/it]\u001b[A\n",
      "100%|███████████████████████████████████████████| 12/12 [00:31<00:00,  2.65s/it]\u001b[A\n"
     ]
    },
    {
     "data": {
      "text/plain": [
       "array([[0.        , 0.04347826, 0.26086957, 0.        , 0.04347826,\n",
       "        0.30434783, 0.04347826, 0.13043478, 0.        , 0.        ,\n",
       "        0.        , 0.17391304],\n",
       "       [1.        , 0.        , 0.        , 0.        , 0.        ,\n",
       "        0.        , 0.        , 0.        , 0.        , 0.        ,\n",
       "        0.        , 0.        ],\n",
       "       [0.5       , 0.125     , 0.        , 0.        , 0.        ,\n",
       "        0.        , 0.125     , 0.        , 0.        , 0.25      ,\n",
       "        0.        , 0.        ],\n",
       "       [0.        , 0.        , 0.        , 0.        , 0.        ,\n",
       "        0.        , 1.        , 0.        , 0.        , 0.        ,\n",
       "        0.        , 0.        ],\n",
       "       [1.        , 0.        , 0.        , 0.        , 0.        ,\n",
       "        0.        , 0.        , 0.        , 0.        , 0.        ,\n",
       "        0.        , 0.        ],\n",
       "       [0.5       , 0.        , 0.        , 0.        , 0.        ,\n",
       "        0.        , 0.27777778, 0.        , 0.05555556, 0.16666667,\n",
       "        0.        , 0.        ],\n",
       "       [0.06666667, 0.        , 0.        , 0.46666667, 0.        ,\n",
       "        0.33333333, 0.        , 0.        , 0.        , 0.        ,\n",
       "        0.        , 0.13333333],\n",
       "       [1.        , 0.        , 0.        , 0.        , 0.        ,\n",
       "        0.        , 0.        , 0.        , 0.        , 0.        ,\n",
       "        0.        , 0.        ],\n",
       "       [0.25      , 0.        , 0.25      , 0.        , 0.        ,\n",
       "        0.5       , 0.        , 0.        , 0.        , 0.        ,\n",
       "        0.        , 0.        ],\n",
       "       [0.        , 0.        , 0.2       , 0.        , 0.        ,\n",
       "        0.4       , 0.        , 0.        , 0.4       , 0.        ,\n",
       "        0.        , 0.        ],\n",
       "       [0.        , 0.        , 0.        , 0.        , 0.        ,\n",
       "        0.        , 0.        , 0.        , 1.        , 0.        ,\n",
       "        0.        , 0.        ],\n",
       "       [0.28571429, 0.        , 0.        , 0.        , 0.        ,\n",
       "        0.42857143, 0.14285714, 0.        , 0.        , 0.        ,\n",
       "        0.14285714, 0.        ]])"
      ]
     },
     "metadata": {},
     "output_type": "display_data"
    },
    {
     "name": "stderr",
     "output_type": "stream",
     "text": [
      "\r",
      "  1%|▎                                        | 1/120 [00:38<1:16:10, 38.41s/it]"
     ]
    },
    {
     "name": "stdout",
     "output_type": "stream",
     "text": [
      "INFO: Noise Filtering applied\n",
      "INFO: Clusters generated\n",
      "(108607, 5) (3305, 5) (3305, 5) (3305, 5) (3305, 6)\n",
      "INFO: 5 clusters generated.\n"
     ]
    },
    {
     "name": "stderr",
     "output_type": "stream",
     "text": [
      "\n",
      "  0%|                                                     | 0/5 [00:00<?, ?it/s]\u001b[A\n",
      " 20%|█████████                                    | 1/5 [00:01<00:06,  1.75s/it]\u001b[A\n",
      " 40%|██████████████████                           | 2/5 [00:03<00:05,  1.73s/it]\u001b[A\n",
      " 60%|███████████████████████████                  | 3/5 [00:05<00:03,  1.70s/it]\u001b[A\n",
      " 80%|████████████████████████████████████         | 4/5 [00:06<00:01,  1.68s/it]\u001b[A\n",
      "100%|█████████████████████████████████████████████| 5/5 [00:08<00:00,  1.69s/it]\u001b[A\n"
     ]
    },
    {
     "data": {
      "text/plain": [
       "array([[0.        , 0.47619048, 0.52380952, 0.        ],\n",
       "       [0.88888889, 0.        , 0.        , 0.11111111],\n",
       "       [0.41666667, 0.5       , 0.        , 0.08333333],\n",
       "       [0.        , 0.66666667, 0.33333333, 0.        ],\n",
       "       [1.        , 0.        , 0.        , 0.        ]])"
      ]
     },
     "metadata": {},
     "output_type": "display_data"
    },
    {
     "name": "stderr",
     "output_type": "stream",
     "text": [
      "\r",
      "  2%|▋                                          | 2/120 [00:51<45:42, 23.24s/it]"
     ]
    },
    {
     "name": "stdout",
     "output_type": "stream",
     "text": [
      "INFO: Noise Filtering applied\n",
      "INFO: Clusters generated\n",
      "(248214, 5) (229, 5) (229, 5) (229, 5) (229, 6)\n",
      "INFO: 8 clusters generated.\n"
     ]
    },
    {
     "name": "stderr",
     "output_type": "stream",
     "text": [
      "\n",
      "  0%|                                                     | 0/8 [00:00<?, ?it/s]\u001b[A\n",
      " 12%|█████▋                                       | 1/8 [00:04<00:31,  4.55s/it]\u001b[A\n",
      " 25%|███████████▎                                 | 2/8 [00:08<00:25,  4.18s/it]\u001b[A\n",
      " 38%|████████████████▉                            | 3/8 [00:12<00:20,  4.04s/it]\u001b[A\n",
      " 50%|██████████████████████▌                      | 4/8 [00:16<00:16,  4.03s/it]\u001b[A\n",
      " 62%|████████████████████████████▏                | 5/8 [00:20<00:12,  4.01s/it]\u001b[A\n",
      " 75%|█████████████████████████████████▊           | 6/8 [00:24<00:07,  3.98s/it]\u001b[A\n",
      " 88%|███████████████████████████████████████▍     | 7/8 [00:28<00:03,  3.96s/it]\u001b[A\n",
      "100%|█████████████████████████████████████████████| 8/8 [00:31<00:00,  4.00s/it]\u001b[A\n"
     ]
    },
    {
     "data": {
      "text/plain": [
       "array([[0.        , 0.11538462, 0.73076923, 0.07692308, 0.        ,\n",
       "        0.01282051, 0.05128205, 0.01282051],\n",
       "       [0.73958333, 0.        , 0.09375   , 0.0625    , 0.01041667,\n",
       "        0.        , 0.01041667, 0.08333333],\n",
       "       [0.04545455, 0.95454545, 0.        , 0.        , 0.        ,\n",
       "        0.        , 0.        , 0.        ],\n",
       "       [0.07692308, 0.76923077, 0.        , 0.        , 0.        ,\n",
       "        0.        , 0.07692308, 0.07692308],\n",
       "       [0.5       , 0.5       , 0.        , 0.        , 0.        ,\n",
       "        0.        , 0.        , 0.        ],\n",
       "       [0.33333333, 0.        , 0.        , 0.16666667, 0.        ,\n",
       "        0.16666667, 0.        , 0.33333333],\n",
       "       [0.        , 1.        , 0.        , 0.        , 0.        ,\n",
       "        0.        , 0.        , 0.        ]])"
      ]
     },
     "metadata": {},
     "output_type": "display_data"
    },
    {
     "name": "stderr",
     "output_type": "stream",
     "text": [
      "\r",
      "  2%|█                                        | 3/120 [01:34<1:02:56, 32.28s/it]"
     ]
    },
    {
     "name": "stdout",
     "output_type": "stream",
     "text": [
      "INFO: Noise Filtering applied\n",
      "INFO: Clusters generated\n",
      "(485226, 5) (757, 5) (757, 5) (757, 5) (757, 6)\n",
      "INFO: 13 clusters generated.\n"
     ]
    },
    {
     "name": "stderr",
     "output_type": "stream",
     "text": [
      "\n",
      "  0%|                                                    | 0/13 [00:00<?, ?it/s]\u001b[A\n",
      "  8%|███▍                                        | 1/13 [00:07<01:29,  7.45s/it]\u001b[A\n",
      " 15%|██████▊                                     | 2/13 [00:14<01:21,  7.40s/it]\u001b[A\n",
      " 23%|██████████▏                                 | 3/13 [00:22<01:14,  7.43s/it]\u001b[A\n",
      " 31%|█████████████▌                              | 4/13 [00:29<01:06,  7.44s/it]\u001b[A\n",
      " 38%|████████████████▉                           | 5/13 [00:37<00:59,  7.47s/it]\u001b[A\n",
      " 46%|████████████████████▎                       | 6/13 [00:44<00:52,  7.52s/it]\u001b[A\n",
      " 54%|███████████████████████▋                    | 7/13 [00:52<00:45,  7.52s/it]\u001b[A\n",
      " 62%|███████████████████████████                 | 8/13 [00:59<00:37,  7.51s/it]\u001b[A\n",
      " 69%|██████████████████████████████▍             | 9/13 [01:07<00:29,  7.48s/it]\u001b[A\n",
      " 77%|█████████████████████████████████          | 10/13 [01:14<00:22,  7.46s/it]\u001b[A\n",
      " 85%|████████████████████████████████████▍      | 11/13 [01:22<00:14,  7.48s/it]\u001b[A\n",
      " 92%|███████████████████████████████████████▋   | 12/13 [01:29<00:07,  7.54s/it]\u001b[A\n",
      "100%|███████████████████████████████████████████| 13/13 [01:37<00:00,  7.50s/it]\u001b[A\n"
     ]
    },
    {
     "data": {
      "text/plain": [
       "array([[0.        , 0.17567568, 0.22972973, 0.        , 0.04054054,\n",
       "        0.10810811, 0.        , 0.        , 0.08108108, 0.02702703,\n",
       "        0.27027027, 0.        , 0.06756757],\n",
       "       [0.66666667, 0.        , 0.22222222, 0.        , 0.        ,\n",
       "        0.        , 0.        , 0.05555556, 0.05555556, 0.        ,\n",
       "        0.        , 0.        , 0.        ],\n",
       "       [0.65384615, 0.11538462, 0.        , 0.        , 0.        ,\n",
       "        0.        , 0.        , 0.07692308, 0.03846154, 0.        ,\n",
       "        0.03846154, 0.03846154, 0.03846154],\n",
       "       [0.        , 0.        , 0.        , 0.        , 0.        ,\n",
       "        1.        , 0.        , 0.        , 0.        , 0.        ,\n",
       "        0.        , 0.        , 0.        ],\n",
       "       [0.5       , 0.        , 0.25      , 0.        , 0.        ,\n",
       "        0.        , 0.        , 0.        , 0.        , 0.25      ,\n",
       "        0.        , 0.        , 0.        ],\n",
       "       [0.4       , 0.        , 0.        , 0.45      , 0.        ,\n",
       "        0.        , 0.        , 0.        , 0.        , 0.        ,\n",
       "        0.1       , 0.        , 0.05      ],\n",
       "       [0.        , 0.        , 0.        , 0.        , 0.        ,\n",
       "        0.        , 0.        , 0.        , 1.        , 0.        ,\n",
       "        0.        , 0.        , 0.        ],\n",
       "       [0.33333333, 0.33333333, 0.33333333, 0.        , 0.        ,\n",
       "        0.        , 0.        , 0.        , 0.        , 0.        ,\n",
       "        0.        , 0.        , 0.        ],\n",
       "       [0.07142857, 0.        , 0.03571429, 0.        , 0.        ,\n",
       "        0.        , 0.14285714, 0.        , 0.        , 0.71428571,\n",
       "        0.03571429, 0.        , 0.        ],\n",
       "       [0.10526316, 0.        , 0.        , 0.        , 0.        ,\n",
       "        0.        , 0.        , 0.        , 0.34210526, 0.        ,\n",
       "        0.47368421, 0.        , 0.07894737],\n",
       "       [0.53488372, 0.02325581, 0.04651163, 0.        , 0.        ,\n",
       "        0.02325581, 0.        , 0.        , 0.02325581, 0.34883721,\n",
       "        0.        , 0.        , 0.        ],\n",
       "       [1.        , 0.        , 0.        , 0.        , 0.        ,\n",
       "        0.        , 0.        , 0.        , 0.        , 0.        ,\n",
       "        0.        , 0.        , 0.        ],\n",
       "       [0.4       , 0.        , 0.        , 0.        , 0.1       ,\n",
       "        0.2       , 0.        , 0.        , 0.2       , 0.        ,\n",
       "        0.1       , 0.        , 0.        ]])"
      ]
     },
     "metadata": {},
     "output_type": "display_data"
    },
    {
     "name": "stderr",
     "output_type": "stream",
     "text": [
      "\r",
      "  3%|█▎                                       | 4/120 [03:44<2:17:22, 71.06s/it]"
     ]
    },
    {
     "name": "stdout",
     "output_type": "stream",
     "text": [
      "INFO: Noise Filtering applied\n",
      "INFO: Clusters generated\n",
      "(439397, 5) (800, 5) (800, 5) (800, 5) (800, 6)\n",
      "INFO: 7 clusters generated.\n"
     ]
    },
    {
     "name": "stderr",
     "output_type": "stream",
     "text": [
      "\n",
      "  0%|                                                     | 0/7 [00:00<?, ?it/s]\u001b[A\n",
      " 14%|██████▍                                      | 1/7 [00:06<00:41,  6.94s/it]\u001b[A\n",
      " 29%|████████████▊                                | 2/7 [00:13<00:34,  6.91s/it]\u001b[A\n",
      " 43%|███████████████████▎                         | 3/7 [00:20<00:27,  6.90s/it]\u001b[A\n",
      " 57%|█████████████████████████▋                   | 4/7 [00:27<00:20,  6.89s/it]\u001b[A\n",
      " 71%|████████████████████████████████▏            | 5/7 [00:34<00:13,  6.91s/it]\u001b[A\n",
      " 86%|██████████████████████████████████████▌      | 6/7 [00:41<00:06,  6.89s/it]\u001b[A\n",
      "100%|█████████████████████████████████████████████| 7/7 [00:48<00:00,  6.90s/it]\u001b[A\n"
     ]
    },
    {
     "data": {
      "text/plain": [
       "array([[0.        , 0.25925926, 0.03703704, 0.59259259, 0.08641975,\n",
       "        0.        , 0.02469136],\n",
       "       [0.53125   , 0.        , 0.        , 0.0625    , 0.        ,\n",
       "        0.        , 0.40625   ],\n",
       "       [1.        , 0.        , 0.        , 0.        , 0.        ,\n",
       "        0.        , 0.        ],\n",
       "       [0.88461538, 0.05769231, 0.        , 0.        , 0.03846154,\n",
       "        0.        , 0.01923077],\n",
       "       [0.8       , 0.1       , 0.        , 0.1       , 0.        ,\n",
       "        0.        , 0.        ],\n",
       "       [0.        , 0.        , 0.        , 0.        , 1.        ,\n",
       "        0.        , 0.        ],\n",
       "       [0.4375    , 0.4375    , 0.        , 0.0625    , 0.        ,\n",
       "        0.0625    , 0.        ]])"
      ]
     },
     "metadata": {},
     "output_type": "display_data"
    },
    {
     "name": "stderr",
     "output_type": "stream",
     "text": [
      "\r",
      "  4%|█▋                                       | 5/120 [05:01<2:19:59, 73.04s/it]"
     ]
    },
    {
     "name": "stdout",
     "output_type": "stream",
     "text": [
      "INFO: Noise Filtering applied\n",
      "INFO: Clusters generated\n",
      "(109046, 5) (314, 5) (314, 5) (314, 5) (314, 6)\n",
      "INFO: 2 clusters generated.\n"
     ]
    },
    {
     "name": "stderr",
     "output_type": "stream",
     "text": [
      "\n",
      "  0%|                                                     | 0/2 [00:00<?, ?it/s]\u001b[A\n",
      " 50%|██████████████████████▌                      | 1/2 [00:01<00:01,  1.75s/it]\u001b[A\n",
      "100%|█████████████████████████████████████████████| 2/2 [00:03<00:00,  1.82s/it]\u001b[A\n"
     ]
    },
    {
     "data": {
      "text/plain": [
       "array([[0., 1.],\n",
       "       [1., 0.]])"
      ]
     },
     "metadata": {},
     "output_type": "display_data"
    },
    {
     "name": "stderr",
     "output_type": "stream",
     "text": [
      "\r",
      "  5%|██                                       | 6/120 [05:08<1:36:03, 50.55s/it]"
     ]
    },
    {
     "name": "stdout",
     "output_type": "stream",
     "text": [
      "INFO: Noise Filtering applied\n",
      "INFO: Clusters generated\n",
      "(31830, 5) (76, 5) (76, 5) (76, 5) (76, 6)\n",
      "INFO: 4 clusters generated.\n"
     ]
    },
    {
     "name": "stderr",
     "output_type": "stream",
     "text": [
      "\n",
      "  0%|                                                     | 0/4 [00:00<?, ?it/s]\u001b[A\n",
      " 25%|███████████▎                                 | 1/4 [00:00<00:01,  2.02it/s]\u001b[A\n",
      " 50%|██████████████████████▌                      | 2/4 [00:00<00:00,  2.05it/s]\u001b[A\n",
      " 75%|█████████████████████████████████▊           | 3/4 [00:01<00:00,  1.87it/s]\u001b[A\n",
      "100%|█████████████████████████████████████████████| 4/4 [00:02<00:00,  1.95it/s]\u001b[A\n"
     ]
    },
    {
     "data": {
      "text/plain": [
       "array([[0. , 0.5, 0.5],\n",
       "       [1. , 0. , 0. ],\n",
       "       [1. , 0. , 0. ],\n",
       "       [1. , 0. , 0. ]])"
      ]
     },
     "metadata": {},
     "output_type": "display_data"
    },
    {
     "name": "stderr",
     "output_type": "stream",
     "text": [
      "\r",
      "  6%|██▍                                      | 7/120 [05:10<1:05:47, 34.94s/it]"
     ]
    },
    {
     "name": "stdout",
     "output_type": "stream",
     "text": [
      "INFO: Noise Filtering applied\n",
      "INFO: Clusters generated\n",
      "(85531, 5) (168, 5) (168, 5) (168, 5) (168, 6)\n",
      "INFO: 3 clusters generated.\n"
     ]
    },
    {
     "name": "stderr",
     "output_type": "stream",
     "text": [
      "\n",
      "  0%|                                                     | 0/3 [00:00<?, ?it/s]\u001b[A\n",
      " 33%|███████████████                              | 1/3 [00:01<00:02,  1.37s/it]\u001b[A\n",
      " 67%|██████████████████████████████               | 2/3 [00:02<00:01,  1.38s/it]\u001b[A\n",
      "100%|█████████████████████████████████████████████| 3/3 [00:04<00:00,  1.34s/it]\u001b[A\n"
     ]
    },
    {
     "data": {
      "text/plain": [
       "array([[0.        , 0.25      , 0.75      ],\n",
       "       [1.        , 0.        , 0.        ],\n",
       "       [0.83333333, 0.16666667, 0.        ]])"
      ]
     },
     "metadata": {},
     "output_type": "display_data"
    },
    {
     "name": "stderr",
     "output_type": "stream",
     "text": [
      "\r",
      "  7%|██▊                                        | 8/120 [05:17<48:17, 25.87s/it]"
     ]
    },
    {
     "name": "stdout",
     "output_type": "stream",
     "text": [
      "INFO: Noise Filtering applied\n",
      "INFO: Clusters generated\n",
      "(77908, 5) (60, 5) (60, 5) (60, 5) (60, 6)\n",
      "INFO: 7 clusters generated.\n"
     ]
    },
    {
     "name": "stderr",
     "output_type": "stream",
     "text": [
      "\n",
      "  0%|                                                     | 0/7 [00:00<?, ?it/s]\u001b[A\n",
      " 14%|██████▍                                      | 1/7 [00:01<00:07,  1.29s/it]\u001b[A\n",
      " 29%|████████████▊                                | 2/7 [00:02<00:06,  1.26s/it]\u001b[A\n",
      " 43%|███████████████████▎                         | 3/7 [00:03<00:05,  1.26s/it]\u001b[A\n",
      " 57%|█████████████████████████▋                   | 4/7 [00:04<00:03,  1.22s/it]\u001b[A\n",
      " 71%|████████████████████████████████▏            | 5/7 [00:06<00:02,  1.23s/it]\u001b[A\n",
      " 86%|██████████████████████████████████████▌      | 6/7 [00:07<00:01,  1.24s/it]\u001b[A\n",
      "100%|█████████████████████████████████████████████| 7/7 [00:08<00:00,  1.25s/it]\u001b[A\n"
     ]
    },
    {
     "data": {
      "text/plain": [
       "array([[0.        , 0.        , 0.08695652, 0.04347826, 0.26086957,\n",
       "        0.08695652, 0.52173913],\n",
       "       [0.14285714, 0.        , 0.14285714, 0.        , 0.14285714,\n",
       "        0.        , 0.57142857],\n",
       "       [0.38095238, 0.        , 0.        , 0.        , 0.19047619,\n",
       "        0.42857143, 0.        ],\n",
       "       [0.5       , 0.        , 0.        , 0.        , 0.        ,\n",
       "        0.5       , 0.        ],\n",
       "       [0.45454545, 0.        , 0.54545455, 0.        , 0.        ,\n",
       "        0.        , 0.        ],\n",
       "       [0.25      , 0.08333333, 0.58333333, 0.08333333, 0.        ,\n",
       "        0.        , 0.        ],\n",
       "       [0.3125    , 0.375     , 0.3125    , 0.        , 0.        ,\n",
       "        0.        , 0.        ]])"
      ]
     },
     "metadata": {},
     "output_type": "display_data"
    },
    {
     "name": "stderr",
     "output_type": "stream",
     "text": [
      "\r",
      "  8%|███▏                                       | 9/120 [05:28<39:09, 21.17s/it]"
     ]
    },
    {
     "name": "stdout",
     "output_type": "stream",
     "text": [
      "INFO: Noise Filtering applied\n",
      "INFO: Clusters generated\n",
      "(84615, 5) (184, 5) (184, 5) (184, 5) (184, 6)\n",
      "INFO: 2 clusters generated.\n"
     ]
    },
    {
     "name": "stderr",
     "output_type": "stream",
     "text": [
      "\n",
      "  0%|                                                     | 0/2 [00:00<?, ?it/s]\u001b[A\n",
      " 50%|██████████████████████▌                      | 1/2 [00:01<00:01,  1.35s/it]\u001b[A\n",
      "100%|█████████████████████████████████████████████| 2/2 [00:02<00:00,  1.36s/it]\u001b[A\n"
     ]
    },
    {
     "data": {
      "text/plain": [
       "array([[1.]])"
      ]
     },
     "metadata": {},
     "output_type": "display_data"
    },
    {
     "name": "stderr",
     "output_type": "stream",
     "text": [
      "\r",
      "  8%|███▌                                      | 10/120 [05:33<29:41, 16.19s/it]"
     ]
    },
    {
     "name": "stdout",
     "output_type": "stream",
     "text": [
      "INFO: Noise Filtering applied\n",
      "INFO: Clusters generated\n",
      "(931815, 5) (85, 5) (85, 5) (85, 5) (85, 6)\n",
      "INFO: 35 clusters generated.\n"
     ]
    },
    {
     "name": "stderr",
     "output_type": "stream",
     "text": [
      "\n",
      "  0%|                                                    | 0/35 [00:00<?, ?it/s]\u001b[A\n",
      "  3%|█▎                                          | 1/35 [00:14<08:23, 14.80s/it]\u001b[A\n",
      "  6%|██▌                                         | 2/35 [00:29<08:00, 14.57s/it]\u001b[A\n",
      "  9%|███▊                                        | 3/35 [00:43<07:48, 14.63s/it]\u001b[A\n",
      " 11%|█████                                       | 4/35 [00:58<07:34, 14.65s/it]\u001b[A\n",
      " 14%|██████▎                                     | 5/35 [01:13<07:20, 14.67s/it]\u001b[A\n",
      " 17%|███████▌                                    | 6/35 [01:27<07:04, 14.64s/it]\u001b[A\n",
      " 20%|████████▊                                   | 7/35 [01:42<06:48, 14.58s/it]\u001b[A\n",
      " 23%|██████████                                  | 8/35 [01:57<06:34, 14.62s/it]\u001b[A\n",
      " 26%|███████████▎                                | 9/35 [02:11<06:21, 14.66s/it]\u001b[A\n",
      " 29%|████████████▎                              | 10/35 [02:26<06:05, 14.64s/it]\u001b[A\n",
      " 31%|█████████████▌                             | 11/35 [02:41<05:51, 14.66s/it]\u001b[A\n",
      " 34%|██████████████▋                            | 12/35 [02:55<05:37, 14.67s/it]\u001b[A\n",
      " 37%|███████████████▉                           | 13/35 [03:10<05:22, 14.67s/it]\u001b[A\n",
      " 40%|█████████████████▏                         | 14/35 [03:25<05:07, 14.66s/it]\u001b[A\n",
      " 43%|██████████████████▍                        | 15/35 [03:39<04:52, 14.63s/it]\u001b[A\n",
      " 46%|███████████████████▋                       | 16/35 [03:54<04:36, 14.55s/it]\u001b[A\n",
      " 49%|████████████████████▉                      | 17/35 [04:08<04:22, 14.59s/it]\u001b[A\n",
      " 51%|██████████████████████                     | 18/35 [04:23<04:08, 14.62s/it]\u001b[A\n",
      " 54%|███████████████████████▎                   | 19/35 [04:37<03:53, 14.62s/it]\u001b[A\n",
      " 57%|████████████████████████▌                  | 20/35 [04:52<03:40, 14.68s/it]\u001b[A\n",
      " 60%|█████████████████████████▊                 | 21/35 [05:07<03:25, 14.64s/it]\u001b[A\n",
      " 63%|███████████████████████████                | 22/35 [05:21<03:09, 14.58s/it]\u001b[A\n",
      " 66%|████████████████████████████▎              | 23/35 [05:36<02:55, 14.61s/it]\u001b[A\n",
      " 69%|█████████████████████████████▍             | 24/35 [05:51<02:40, 14.62s/it]\u001b[A\n",
      " 71%|██████████████████████████████▋            | 25/35 [06:05<02:26, 14.62s/it]\u001b[A\n",
      " 74%|███████████████████████████████▉           | 26/35 [06:20<02:12, 14.72s/it]\u001b[A\n",
      " 77%|█████████████████████████████████▏         | 27/35 [06:35<01:57, 14.66s/it]\u001b[A\n",
      " 80%|██████████████████████████████████▍        | 28/35 [06:49<01:42, 14.60s/it]\u001b[A\n",
      " 83%|███████████████████████████████████▋       | 29/35 [07:04<01:27, 14.67s/it]\u001b[A\n",
      " 86%|████████████████████████████████████▊      | 30/35 [07:18<01:13, 14.61s/it]\u001b[A\n",
      " 89%|██████████████████████████████████████     | 31/35 [07:33<00:57, 14.50s/it]\u001b[A\n",
      " 91%|███████████████████████████████████████▎   | 32/35 [07:47<00:43, 14.41s/it]\u001b[A\n",
      " 94%|████████████████████████████████████████▌  | 33/35 [08:01<00:28, 14.42s/it]\u001b[A\n",
      " 97%|█████████████████████████████████████████▊ | 34/35 [08:16<00:14, 14.43s/it]\u001b[A\n",
      "100%|███████████████████████████████████████████| 35/35 [08:30<00:00, 14.60s/it]\u001b[A\n"
     ]
    },
    {
     "data": {
      "text/plain": [
       "array([[0.        , 0.        , 0.47142857, ..., 0.        , 0.        ,\n",
       "        0.        ],\n",
       "       [0.        , 0.        , 0.        , ..., 0.        , 0.        ,\n",
       "        0.02631579],\n",
       "       [0.49253731, 0.        , 0.        , ..., 0.        , 0.        ,\n",
       "        0.        ],\n",
       "       ...,\n",
       "       [0.        , 0.2       , 0.        , ..., 0.        , 0.        ,\n",
       "        0.2       ],\n",
       "       [0.        , 0.        , 0.        , ..., 0.        , 0.        ,\n",
       "        0.        ],\n",
       "       [0.        , 0.18181818, 0.        , ..., 0.09090909, 0.        ,\n",
       "        0.        ]])"
      ]
     },
     "metadata": {},
     "output_type": "display_data"
    },
    {
     "name": "stderr",
     "output_type": "stream",
     "text": [
      "\r",
      "  9%|███▌                                   | 11/120 [17:17<6:51:47, 226.68s/it]"
     ]
    },
    {
     "name": "stdout",
     "output_type": "stream",
     "text": [
      "INFO: Noise Filtering applied\n",
      "INFO: Clusters generated\n",
      "(90796, 5) (103, 5) (103, 5) (103, 5) (103, 6)\n",
      "INFO: 15 clusters generated.\n"
     ]
    },
    {
     "name": "stderr",
     "output_type": "stream",
     "text": [
      "\n",
      "  0%|                                                    | 0/15 [00:00<?, ?it/s]\u001b[A\n",
      "  7%|██▉                                         | 1/15 [00:01<00:18,  1.34s/it]\u001b[A\n",
      " 13%|█████▊                                      | 2/15 [00:02<00:17,  1.34s/it]\u001b[A\n",
      " 20%|████████▊                                   | 3/15 [00:04<00:16,  1.38s/it]\u001b[A\n",
      " 27%|███████████▋                                | 4/15 [00:05<00:15,  1.40s/it]\u001b[A\n",
      " 33%|██████████████▋                             | 5/15 [00:07<00:14,  1.42s/it]\u001b[A\n",
      " 40%|█████████████████▌                          | 6/15 [00:08<00:12,  1.39s/it]\u001b[A\n",
      " 47%|████████████████████▌                       | 7/15 [00:09<00:11,  1.42s/it]\u001b[A\n",
      " 53%|███████████████████████▍                    | 8/15 [00:11<00:09,  1.42s/it]\u001b[A\n",
      " 60%|██████████████████████████▍                 | 9/15 [00:12<00:08,  1.43s/it]\u001b[A\n",
      " 67%|████████████████████████████▋              | 10/15 [00:14<00:07,  1.43s/it]\u001b[A\n",
      " 73%|███████████████████████████████▌           | 11/15 [00:15<00:05,  1.43s/it]\u001b[A\n",
      " 80%|██████████████████████████████████▍        | 12/15 [00:16<00:04,  1.43s/it]\u001b[A\n",
      " 87%|█████████████████████████████████████▎     | 13/15 [00:18<00:02,  1.43s/it]\u001b[A\n",
      " 93%|████████████████████████████████████████▏  | 14/15 [00:19<00:01,  1.43s/it]\u001b[A\n",
      "100%|███████████████████████████████████████████| 15/15 [00:21<00:00,  1.41s/it]\u001b[A\n"
     ]
    },
    {
     "data": {
      "text/plain": [
       "array([[0.        , 0.        , 0.        , 0.16666667, 0.16666667,\n",
       "        0.        , 0.        , 0.        , 0.        , 0.        ,\n",
       "        0.        , 0.05555556, 0.61111111, 0.        , 0.        ],\n",
       "       [0.2       , 0.        , 0.        , 0.        , 0.2       ,\n",
       "        0.        , 0.2       , 0.        , 0.        , 0.        ,\n",
       "        0.        , 0.        , 0.        , 0.        , 0.4       ],\n",
       "       [0.        , 1.        , 0.        , 0.        , 0.        ,\n",
       "        0.        , 0.        , 0.        , 0.        , 0.        ,\n",
       "        0.        , 0.        , 0.        , 0.        , 0.        ],\n",
       "       [0.        , 0.11111111, 0.        , 0.        , 0.11111111,\n",
       "        0.22222222, 0.11111111, 0.        , 0.        , 0.        ,\n",
       "        0.        , 0.11111111, 0.33333333, 0.        , 0.        ],\n",
       "       [0.03333333, 0.        , 0.03333333, 0.1       , 0.        ,\n",
       "        0.53333333, 0.1       , 0.        , 0.        , 0.06666667,\n",
       "        0.        , 0.        , 0.1       , 0.03333333, 0.        ],\n",
       "       [0.02564103, 0.        , 0.        , 0.        , 0.58974359,\n",
       "        0.        , 0.35897436, 0.        , 0.        , 0.        ,\n",
       "        0.        , 0.02564103, 0.        , 0.        , 0.        ],\n",
       "       [0.        , 0.        , 0.        , 0.        , 0.        ,\n",
       "        0.51282051, 0.        , 0.        , 0.        , 0.        ,\n",
       "        0.        , 0.        , 0.        , 0.48717949, 0.        ],\n",
       "       [0.        , 0.        , 0.        , 0.        , 0.        ,\n",
       "        0.5       , 0.        , 0.        , 0.        , 0.5       ,\n",
       "        0.        , 0.        , 0.        , 0.        , 0.        ],\n",
       "       [0.        , 0.        , 0.        , 0.        , 0.        ,\n",
       "        0.        , 0.        , 0.        , 0.        , 0.42857143,\n",
       "        0.        , 0.57142857, 0.        , 0.        , 0.        ],\n",
       "       [0.        , 0.        , 0.        , 0.        , 0.        ,\n",
       "        0.        , 0.        , 0.33333333, 0.66666667, 0.        ,\n",
       "        0.        , 0.        , 0.        , 0.        , 0.        ],\n",
       "       [0.        , 0.        , 0.        , 0.        , 0.        ,\n",
       "        0.        , 0.        , 0.        , 0.        , 0.        ,\n",
       "        0.        , 1.        , 0.        , 0.        , 0.        ],\n",
       "       [0.45454545, 0.        , 0.        , 0.        , 0.09090909,\n",
       "        0.        , 0.        , 0.        , 0.27272727, 0.        ,\n",
       "        0.        , 0.        , 0.18181818, 0.        , 0.        ],\n",
       "       [0.28947368, 0.        , 0.        , 0.07894737, 0.02631579,\n",
       "        0.        , 0.        , 0.        , 0.        , 0.        ,\n",
       "        0.02631579, 0.05263158, 0.        , 0.52631579, 0.        ],\n",
       "       [0.        , 0.        , 0.        , 0.        , 0.        ,\n",
       "        0.        , 0.5       , 0.        , 0.        , 0.        ,\n",
       "        0.        , 0.025     , 0.475     , 0.        , 0.        ],\n",
       "       [0.        , 1.        , 0.        , 0.        , 0.        ,\n",
       "        0.        , 0.        , 0.        , 0.        , 0.        ,\n",
       "        0.        , 0.        , 0.        , 0.        , 0.        ]])"
      ]
     },
     "metadata": {},
     "output_type": "display_data"
    },
    {
     "name": "stderr",
     "output_type": "stream",
     "text": [
      "\r",
      " 10%|███▉                                   | 12/120 [17:40<4:56:50, 164.91s/it]"
     ]
    },
    {
     "name": "stdout",
     "output_type": "stream",
     "text": [
      "INFO: Noise Filtering applied\n",
      "INFO: Clusters generated\n",
      "(147088, 5) (98, 5) (98, 5) (98, 5) (98, 6)\n",
      "INFO: 6 clusters generated.\n"
     ]
    },
    {
     "name": "stderr",
     "output_type": "stream",
     "text": [
      "\n",
      "  0%|                                                     | 0/6 [00:00<?, ?it/s]\u001b[A\n",
      " 17%|███████▌                                     | 1/6 [00:02<00:11,  2.25s/it]\u001b[A\n",
      " 33%|███████████████                              | 2/6 [00:04<00:09,  2.31s/it]\u001b[A\n",
      " 50%|██████████████████████▌                      | 3/6 [00:06<00:06,  2.31s/it]\u001b[A\n",
      " 67%|██████████████████████████████               | 4/6 [00:09<00:04,  2.29s/it]\u001b[A\n",
      " 83%|█████████████████████████████████████▌       | 5/6 [00:11<00:02,  2.32s/it]\u001b[A\n",
      "100%|█████████████████████████████████████████████| 6/6 [00:13<00:00,  2.30s/it]\u001b[A\n"
     ]
    },
    {
     "data": {
      "text/plain": [
       "array([[0.        , 0.25      , 0.16666667, 0.16666667, 0.08333333,\n",
       "        0.33333333],\n",
       "       [0.2       , 0.        , 0.6       , 0.        , 0.        ,\n",
       "        0.2       ],\n",
       "       [0.2       , 0.4       , 0.        , 0.        , 0.4       ,\n",
       "        0.        ],\n",
       "       [1.        , 0.        , 0.        , 0.        , 0.        ,\n",
       "        0.        ],\n",
       "       [1.        , 0.        , 0.        , 0.        , 0.        ,\n",
       "        0.        ],\n",
       "       [1.        , 0.        , 0.        , 0.        , 0.        ,\n",
       "        0.        ]])"
      ]
     },
     "metadata": {},
     "output_type": "display_data"
    },
    {
     "name": "stderr",
     "output_type": "stream",
     "text": [
      "\r",
      " 11%|████▏                                  | 13/120 [17:59<3:35:04, 120.60s/it]"
     ]
    },
    {
     "name": "stdout",
     "output_type": "stream",
     "text": [
      "INFO: Noise Filtering applied\n",
      "INFO: Clusters generated\n",
      "(291173, 5) (250, 5) (250, 5) (250, 5) (250, 6)\n",
      "INFO: 13 clusters generated.\n"
     ]
    },
    {
     "name": "stderr",
     "output_type": "stream",
     "text": [
      "\n",
      "  0%|                                                    | 0/13 [00:00<?, ?it/s]\u001b[A\n",
      "  8%|███▍                                        | 1/13 [00:04<00:53,  4.45s/it]\u001b[A\n",
      " 15%|██████▊                                     | 2/13 [00:09<00:50,  4.55s/it]\u001b[A\n",
      " 23%|██████████▏                                 | 3/13 [00:13<00:45,  4.52s/it]\u001b[A\n",
      " 31%|█████████████▌                              | 4/13 [00:18<00:40,  4.52s/it]\u001b[A\n",
      " 38%|████████████████▉                           | 5/13 [00:22<00:36,  4.51s/it]\u001b[A\n",
      " 46%|████████████████████▎                       | 6/13 [00:27<00:31,  4.53s/it]\u001b[A\n",
      " 54%|███████████████████████▋                    | 7/13 [00:31<00:27,  4.55s/it]\u001b[A\n",
      " 62%|███████████████████████████                 | 8/13 [00:36<00:22,  4.57s/it]\u001b[A\n",
      " 69%|██████████████████████████████▍             | 9/13 [00:40<00:18,  4.56s/it]\u001b[A\n",
      " 77%|█████████████████████████████████          | 10/13 [00:45<00:13,  4.58s/it]\u001b[A\n",
      " 85%|████████████████████████████████████▍      | 11/13 [00:50<00:09,  4.57s/it]\u001b[A\n",
      " 92%|███████████████████████████████████████▋   | 12/13 [00:54<00:04,  4.59s/it]\u001b[A\n",
      "100%|███████████████████████████████████████████| 13/13 [00:59<00:00,  4.56s/it]\u001b[A\n"
     ]
    },
    {
     "data": {
      "text/plain": [
       "array([[0.        , 0.13043478, 0.        , 0.2826087 , 0.        ,\n",
       "        0.        , 0.04347826, 0.02173913, 0.        , 0.02173913,\n",
       "        0.10869565, 0.36956522, 0.02173913],\n",
       "       [0.05882353, 0.        , 0.        , 0.60784314, 0.        ,\n",
       "        0.01960784, 0.        , 0.        , 0.01960784, 0.        ,\n",
       "        0.        , 0.29411765, 0.        ],\n",
       "       [0.        , 1.        , 0.        , 0.        , 0.        ,\n",
       "        0.        , 0.        , 0.        , 0.        , 0.        ,\n",
       "        0.        , 0.        , 0.        ],\n",
       "       [0.55102041, 0.40816327, 0.        , 0.        , 0.        ,\n",
       "        0.        , 0.        , 0.        , 0.        , 0.        ,\n",
       "        0.02040816, 0.02040816, 0.        ],\n",
       "       [0.        , 0.        , 0.        , 0.        , 0.        ,\n",
       "        0.        , 0.        , 0.        , 0.        , 0.        ,\n",
       "        0.        , 1.        , 0.        ],\n",
       "       [0.        , 0.        , 0.        , 0.        , 0.        ,\n",
       "        0.        , 0.        , 0.        , 0.        , 0.        ,\n",
       "        0.        , 1.        , 0.        ],\n",
       "       [0.5       , 0.        , 0.        , 0.        , 0.        ,\n",
       "        0.5       , 0.        , 0.        , 0.        , 0.        ,\n",
       "        0.        , 0.        , 0.        ],\n",
       "       [0.        , 0.        , 0.        , 1.        , 0.        ,\n",
       "        0.        , 0.        , 0.        , 0.        , 0.        ,\n",
       "        0.        , 0.        , 0.        ],\n",
       "       [0.        , 0.        , 0.        , 1.        , 0.        ,\n",
       "        0.        , 0.        , 0.        , 0.        , 0.        ,\n",
       "        0.        , 0.        , 0.        ],\n",
       "       [0.        , 1.        , 0.        , 0.        , 0.        ,\n",
       "        0.        , 0.        , 0.        , 0.        , 0.        ,\n",
       "        0.        , 0.        , 0.        ],\n",
       "       [0.16666667, 0.        , 0.        , 0.16666667, 0.66666667,\n",
       "        0.        , 0.        , 0.        , 0.        , 0.        ,\n",
       "        0.        , 0.        , 0.        ],\n",
       "       [0.35      , 0.55      , 0.025     , 0.05      , 0.        ,\n",
       "        0.025     , 0.        , 0.        , 0.        , 0.        ,\n",
       "        0.        , 0.        , 0.        ],\n",
       "       [0.        , 0.        , 0.        , 0.        , 0.        ,\n",
       "        0.        , 0.        , 0.        , 0.        , 0.        ,\n",
       "        0.        , 1.        , 0.        ]])"
      ]
     },
     "metadata": {},
     "output_type": "display_data"
    },
    {
     "name": "stderr",
     "output_type": "stream",
     "text": [
      "\r",
      " 12%|████▌                                  | 14/120 [19:12<3:07:35, 106.19s/it]"
     ]
    },
    {
     "name": "stdout",
     "output_type": "stream",
     "text": [
      "INFO: Noise Filtering applied\n",
      "INFO: Clusters generated\n",
      "(388212, 5) (241, 5) (241, 5) (241, 5) (241, 6)\n",
      "INFO: 24 clusters generated.\n"
     ]
    },
    {
     "name": "stderr",
     "output_type": "stream",
     "text": [
      "\n",
      "  0%|                                                    | 0/24 [00:00<?, ?it/s]\u001b[A\n",
      "  4%|█▊                                          | 1/24 [00:06<02:20,  6.11s/it]\u001b[A\n",
      "  8%|███▋                                        | 2/24 [00:12<02:16,  6.18s/it]\u001b[A\n",
      " 12%|█████▌                                      | 3/24 [00:18<02:10,  6.23s/it]\u001b[A\n",
      " 17%|███████▎                                    | 4/24 [00:24<02:03,  6.15s/it]\u001b[A\n",
      " 21%|█████████▏                                  | 5/24 [00:30<01:56,  6.14s/it]\u001b[A\n",
      " 25%|███████████                                 | 6/24 [00:37<01:50,  6.17s/it]\u001b[A\n",
      " 29%|████████████▊                               | 7/24 [00:43<01:44,  6.16s/it]\u001b[A\n",
      " 33%|██████████████▋                             | 8/24 [00:49<01:38,  6.18s/it]\u001b[A\n",
      " 38%|████████████████▌                           | 9/24 [00:55<01:32,  6.19s/it]\u001b[A\n",
      " 42%|█████████████████▉                         | 10/24 [01:01<01:26,  6.15s/it]\u001b[A\n",
      " 46%|███████████████████▋                       | 11/24 [01:07<01:20,  6.17s/it]\u001b[A\n",
      " 50%|█████████████████████▌                     | 12/24 [01:14<01:14,  6.18s/it]\u001b[A\n",
      " 54%|███████████████████████▎                   | 13/24 [01:20<01:07,  6.14s/it]\u001b[A\n",
      " 58%|█████████████████████████                  | 14/24 [01:26<01:01,  6.17s/it]\u001b[A\n",
      " 62%|██████████████████████████▉                | 15/24 [01:32<00:55,  6.16s/it]\u001b[A\n",
      " 67%|████████████████████████████▋              | 16/24 [01:38<00:49,  6.14s/it]\u001b[A\n",
      " 71%|██████████████████████████████▍            | 17/24 [01:44<00:43,  6.15s/it]\u001b[A\n",
      " 75%|████████████████████████████████▎          | 18/24 [01:50<00:36,  6.14s/it]\u001b[A\n",
      " 79%|██████████████████████████████████         | 19/24 [01:57<00:30,  6.14s/it]\u001b[A\n",
      " 83%|███████████████████████████████████▊       | 20/24 [02:03<00:24,  6.15s/it]\u001b[A\n",
      " 88%|█████████████████████████████████████▋     | 21/24 [02:09<00:18,  6.16s/it]\u001b[A\n",
      " 92%|███████████████████████████████████████▍   | 22/24 [02:15<00:12,  6.15s/it]\u001b[A\n",
      " 96%|█████████████████████████████████████████▏ | 23/24 [02:21<00:06,  6.15s/it]\u001b[A\n",
      "100%|███████████████████████████████████████████| 24/24 [02:27<00:00,  6.16s/it]\u001b[A\n"
     ]
    },
    {
     "data": {
      "text/plain": [
       "array([[0.        , 0.48275862, 0.        , 0.02298851, 0.        ,\n",
       "        0.01149425, 0.01149425, 0.        , 0.        , 0.        ,\n",
       "        0.        , 0.        , 0.        , 0.        , 0.        ,\n",
       "        0.        , 0.02298851, 0.        , 0.01149425, 0.        ,\n",
       "        0.4137931 , 0.        , 0.02298851, 0.        ],\n",
       "       [0.14534884, 0.        , 0.00581395, 0.38372093, 0.02325581,\n",
       "        0.00581395, 0.04069767, 0.01162791, 0.        , 0.        ,\n",
       "        0.        , 0.        , 0.        , 0.06395349, 0.00581395,\n",
       "        0.01162791, 0.        , 0.00581395, 0.01162791, 0.09883721,\n",
       "        0.03488372, 0.        , 0.13953488, 0.01162791],\n",
       "       [0.        , 0.        , 0.        , 0.        , 0.        ,\n",
       "        0.        , 0.63333333, 0.        , 0.36666667, 0.        ,\n",
       "        0.        , 0.        , 0.        , 0.        , 0.        ,\n",
       "        0.        , 0.        , 0.        , 0.        , 0.        ,\n",
       "        0.        , 0.        , 0.        , 0.        ],\n",
       "       [0.        , 0.47058824, 0.        , 0.        , 0.01176471,\n",
       "        0.        , 0.        , 0.        , 0.        , 0.        ,\n",
       "        0.        , 0.01176471, 0.        , 0.02352941, 0.        ,\n",
       "        0.        , 0.        , 0.        , 0.        , 0.09411765,\n",
       "        0.01176471, 0.        , 0.        , 0.37647059],\n",
       "       [0.        , 0.        , 0.        , 0.0125    , 0.        ,\n",
       "        0.        , 0.        , 0.        , 0.        , 0.375     ,\n",
       "        0.        , 0.        , 0.        , 0.        , 0.        ,\n",
       "        0.        , 0.        , 0.        , 0.        , 0.        ,\n",
       "        0.        , 0.        , 0.        , 0.6125    ],\n",
       "       [0.        , 0.        , 0.        , 0.        , 0.        ,\n",
       "        0.        , 0.        , 0.        , 0.        , 0.5       ,\n",
       "        0.        , 0.        , 0.        , 0.        , 0.        ,\n",
       "        0.        , 0.0375    , 0.        , 0.        , 0.        ,\n",
       "        0.4625    , 0.        , 0.        , 0.        ],\n",
       "       [0.60714286, 0.03571429, 0.35714286, 0.        , 0.        ,\n",
       "        0.        , 0.        , 0.        , 0.        , 0.        ,\n",
       "        0.        , 0.        , 0.        , 0.        , 0.        ,\n",
       "        0.        , 0.        , 0.        , 0.        , 0.        ,\n",
       "        0.        , 0.        , 0.        , 0.        ],\n",
       "       [0.        , 0.        , 0.        , 0.        , 0.        ,\n",
       "        0.        , 0.        , 0.        , 0.58333333, 0.        ,\n",
       "        0.        , 0.        , 0.41666667, 0.        , 0.        ,\n",
       "        0.        , 0.        , 0.        , 0.        , 0.        ,\n",
       "        0.        , 0.        , 0.        , 0.        ],\n",
       "       [0.03030303, 0.03030303, 0.57575758, 0.        , 0.        ,\n",
       "        0.        , 0.        , 0.36363636, 0.        , 0.        ,\n",
       "        0.        , 0.        , 0.        , 0.        , 0.        ,\n",
       "        0.        , 0.        , 0.        , 0.        , 0.        ,\n",
       "        0.        , 0.        , 0.        , 0.        ],\n",
       "       [0.        , 0.        , 0.        , 0.        , 0.46341463,\n",
       "        0.48780488, 0.        , 0.        , 0.        , 0.        ,\n",
       "        0.        , 0.        , 0.        , 0.        , 0.        ,\n",
       "        0.        , 0.        , 0.        , 0.        , 0.        ,\n",
       "        0.        , 0.        , 0.        , 0.04878049],\n",
       "       [0.        , 0.        , 0.        , 0.        , 0.        ,\n",
       "        0.        , 0.        , 0.        , 0.        , 0.        ,\n",
       "        0.        , 0.        , 0.        , 0.        , 0.        ,\n",
       "        0.        , 0.41666667, 0.        , 0.        , 0.        ,\n",
       "        0.        , 0.58333333, 0.        , 0.        ],\n",
       "       [0.        , 1.        , 0.        , 0.        , 0.        ,\n",
       "        0.        , 0.        , 0.        , 0.        , 0.        ,\n",
       "        0.        , 0.        , 0.        , 0.        , 0.        ,\n",
       "        0.        , 0.        , 0.        , 0.        , 0.        ,\n",
       "        0.        , 0.        , 0.        , 0.        ],\n",
       "       [0.        , 0.        , 0.        , 0.        , 0.        ,\n",
       "        0.        , 0.        , 0.58333333, 0.        , 0.        ,\n",
       "        0.        , 0.        , 0.        , 0.        , 0.        ,\n",
       "        0.        , 0.        , 0.        , 0.        , 0.        ,\n",
       "        0.        , 0.41666667, 0.        , 0.        ],\n",
       "       [0.46153846, 0.07692308, 0.        , 0.        , 0.        ,\n",
       "        0.        , 0.03846154, 0.        , 0.        , 0.        ,\n",
       "        0.        , 0.        , 0.        , 0.        , 0.34615385,\n",
       "        0.        , 0.        , 0.        , 0.07692308, 0.        ,\n",
       "        0.        , 0.        , 0.        , 0.        ],\n",
       "       [0.        , 0.        , 0.        , 0.        , 0.        ,\n",
       "        0.        , 0.        , 0.        , 0.        , 0.        ,\n",
       "        0.        , 0.        , 0.        , 0.70588235, 0.        ,\n",
       "        0.        , 0.23529412, 0.05882353, 0.        , 0.        ,\n",
       "        0.        , 0.        , 0.        , 0.        ],\n",
       "       [0.06896552, 0.06896552, 0.        , 0.        , 0.        ,\n",
       "        0.        , 0.        , 0.        , 0.        , 0.        ,\n",
       "        0.        , 0.        , 0.        , 0.        , 0.        ,\n",
       "        0.        , 0.86206897, 0.        , 0.        , 0.        ,\n",
       "        0.        , 0.        , 0.        , 0.        ],\n",
       "       [0.        , 0.        , 0.        , 0.        , 0.        ,\n",
       "        0.        , 0.        , 0.        , 0.        , 0.        ,\n",
       "        0.42857143, 0.        , 0.        , 0.        , 0.08163265,\n",
       "        0.48979592, 0.        , 0.        , 0.        , 0.        ,\n",
       "        0.        , 0.        , 0.        , 0.        ],\n",
       "       [0.        , 0.        , 0.        , 0.        , 0.        ,\n",
       "        0.        , 0.        , 0.        , 0.        , 0.        ,\n",
       "        0.        , 0.        , 0.        , 0.        , 0.66666667,\n",
       "        0.33333333, 0.        , 0.        , 0.        , 0.        ,\n",
       "        0.        , 0.        , 0.        , 0.        ],\n",
       "       [0.8       , 0.        , 0.        , 0.        , 0.        ,\n",
       "        0.        , 0.        , 0.        , 0.        , 0.        ,\n",
       "        0.        , 0.        , 0.        , 0.2       , 0.        ,\n",
       "        0.        , 0.        , 0.        , 0.        , 0.        ,\n",
       "        0.        , 0.        , 0.        , 0.        ],\n",
       "       [0.        , 0.80769231, 0.        , 0.07692308, 0.        ,\n",
       "        0.        , 0.        , 0.        , 0.03846154, 0.        ,\n",
       "        0.        , 0.        , 0.        , 0.        , 0.        ,\n",
       "        0.07692308, 0.        , 0.        , 0.        , 0.        ,\n",
       "        0.        , 0.        , 0.        , 0.        ],\n",
       "       [0.3125    , 0.1       , 0.        , 0.0125    , 0.0375    ,\n",
       "        0.4625    , 0.        , 0.0125    , 0.        , 0.025     ,\n",
       "        0.        , 0.        , 0.        , 0.        , 0.0125    ,\n",
       "        0.        , 0.        , 0.        , 0.        , 0.0125    ,\n",
       "        0.        , 0.        , 0.0125    , 0.        ],\n",
       "       [0.        , 0.        , 0.        , 0.        , 0.        ,\n",
       "        0.        , 0.        , 0.        , 0.        , 0.        ,\n",
       "        0.41666667, 0.        , 0.58333333, 0.        , 0.        ,\n",
       "        0.        , 0.        , 0.        , 0.        , 0.        ,\n",
       "        0.        , 0.        , 0.        , 0.        ],\n",
       "       [0.        , 0.58139535, 0.        , 0.11627907, 0.        ,\n",
       "        0.        , 0.        , 0.        , 0.        , 0.        ,\n",
       "        0.        , 0.        , 0.        , 0.        , 0.        ,\n",
       "        0.        , 0.        , 0.        , 0.        , 0.        ,\n",
       "        0.        , 0.        , 0.        , 0.30232558],\n",
       "       [0.00884956, 0.02654867, 0.        , 0.03539823, 0.30088496,\n",
       "        0.00884956, 0.        , 0.        , 0.        , 0.08849558,\n",
       "        0.        , 0.        , 0.        , 0.        , 0.        ,\n",
       "        0.        , 0.        , 0.00884956, 0.        , 0.        ,\n",
       "        0.        , 0.        , 0.52212389, 0.        ]])"
      ]
     },
     "metadata": {},
     "output_type": "display_data"
    },
    {
     "name": "stderr",
     "output_type": "stream",
     "text": [
      "\r",
      " 12%|████▉                                  | 15/120 [22:02<3:39:43, 125.56s/it]"
     ]
    },
    {
     "name": "stdout",
     "output_type": "stream",
     "text": [
      "INFO: Noise Filtering applied\n",
      "INFO: Clusters generated\n",
      "(87735, 5) (92, 5) (92, 5) (92, 5) (92, 6)\n",
      "INFO: 9 clusters generated.\n"
     ]
    },
    {
     "name": "stderr",
     "output_type": "stream",
     "text": [
      "\n",
      "  0%|                                                     | 0/9 [00:00<?, ?it/s]\u001b[A\n",
      " 11%|█████                                        | 1/9 [00:01<00:11,  1.40s/it]\u001b[A\n",
      " 22%|██████████                                   | 2/9 [00:02<00:09,  1.40s/it]\u001b[A\n",
      " 33%|███████████████                              | 3/9 [00:04<00:08,  1.36s/it]\u001b[A\n",
      " 44%|████████████████████                         | 4/9 [00:05<00:06,  1.38s/it]\u001b[A\n",
      " 56%|█████████████████████████                    | 5/9 [00:07<00:05,  1.39s/it]\u001b[A\n",
      " 67%|██████████████████████████████               | 6/9 [00:08<00:04,  1.37s/it]\u001b[A\n",
      " 78%|███████████████████████████████████          | 7/9 [00:09<00:02,  1.39s/it]\u001b[A\n",
      " 89%|████████████████████████████████████████     | 8/9 [00:11<00:01,  1.40s/it]\u001b[A\n",
      "100%|█████████████████████████████████████████████| 9/9 [00:12<00:00,  1.40s/it]\u001b[A\n"
     ]
    },
    {
     "data": {
      "text/plain": [
       "array([[0.        , 0.04      , 0.32      , 0.08      , 0.        ,\n",
       "        0.08      , 0.        , 0.08      , 0.4       ],\n",
       "       [0.14285714, 0.        , 0.        , 0.        , 0.        ,\n",
       "        0.85714286, 0.        , 0.        , 0.        ],\n",
       "       [0.29411765, 0.        , 0.        , 0.05882353, 0.        ,\n",
       "        0.        , 0.        , 0.11764706, 0.52941176],\n",
       "       [0.15625   , 0.        , 0.0625    , 0.        , 0.15625   ,\n",
       "        0.        , 0.        , 0.625     , 0.        ],\n",
       "       [0.        , 0.        , 0.        , 0.7826087 , 0.        ,\n",
       "        0.        , 0.2173913 , 0.        , 0.        ],\n",
       "       [0.125     , 0.875     , 0.        , 0.        , 0.        ,\n",
       "        0.        , 0.        , 0.        , 0.        ],\n",
       "       [0.        , 0.        , 0.        , 0.        , 0.77272727,\n",
       "        0.        , 0.        , 0.        , 0.22727273],\n",
       "       [0.4       , 0.        , 0.16      , 0.44      , 0.        ,\n",
       "        0.        , 0.        , 0.        , 0.        ],\n",
       "       [0.08333333, 0.        , 0.125     , 0.        , 0.04166667,\n",
       "        0.        , 0.70833333, 0.04166667, 0.        ]])"
      ]
     },
     "metadata": {},
     "output_type": "display_data"
    },
    {
     "name": "stderr",
     "output_type": "stream",
     "text": [
      "\r",
      " 13%|█████▎                                  | 16/120 [22:17<2:39:54, 92.26s/it]"
     ]
    },
    {
     "name": "stdout",
     "output_type": "stream",
     "text": [
      "INFO: Noise Filtering applied\n",
      "INFO: Clusters generated\n",
      "(89270, 5) (74, 5) (74, 5) (74, 5) (74, 6)\n",
      "INFO: 12 clusters generated.\n"
     ]
    },
    {
     "name": "stderr",
     "output_type": "stream",
     "text": [
      "\n",
      "  0%|                                                    | 0/12 [00:00<?, ?it/s]\u001b[A\n",
      "  8%|███▋                                        | 1/12 [00:01<00:14,  1.35s/it]\u001b[A\n",
      " 17%|███████▎                                    | 2/12 [00:02<00:13,  1.40s/it]\u001b[A\n",
      " 25%|███████████                                 | 3/12 [00:04<00:12,  1.42s/it]\u001b[A\n",
      " 33%|██████████████▋                             | 4/12 [00:05<00:11,  1.43s/it]\u001b[A\n",
      " 42%|██████████████████▎                         | 5/12 [00:07<00:10,  1.44s/it]\u001b[A\n",
      " 50%|██████████████████████                      | 6/12 [00:08<00:08,  1.44s/it]\u001b[A\n",
      " 58%|█████████████████████████▋                  | 7/12 [00:09<00:07,  1.41s/it]\u001b[A\n",
      " 67%|█████████████████████████████▎              | 8/12 [00:11<00:05,  1.42s/it]\u001b[A\n",
      " 75%|█████████████████████████████████           | 9/12 [00:12<00:04,  1.44s/it]\u001b[A\n",
      " 83%|███████████████████████████████████▊       | 10/12 [00:14<00:02,  1.44s/it]\u001b[A\n",
      " 92%|███████████████████████████████████████▍   | 11/12 [00:15<00:01,  1.44s/it]\u001b[A\n",
      "100%|███████████████████████████████████████████| 12/12 [00:17<00:00,  1.43s/it]\u001b[A\n"
     ]
    },
    {
     "data": {
      "text/plain": [
       "array([[0.        , 0.08695652, 0.        , 0.04347826, 0.        ,\n",
       "        0.        , 0.        , 0.        , 0.        , 0.26086957,\n",
       "        0.26086957, 0.34782609],\n",
       "       [1.        , 0.        , 0.        , 0.        , 0.        ,\n",
       "        0.        , 0.        , 0.        , 0.        , 0.        ,\n",
       "        0.        , 0.        ],\n",
       "       [0.        , 0.        , 0.        , 0.54545455, 0.45454545,\n",
       "        0.        , 0.        , 0.        , 0.        , 0.        ,\n",
       "        0.        , 0.        ],\n",
       "       [0.        , 0.        , 0.45454545, 0.        , 0.        ,\n",
       "        0.        , 0.27272727, 0.18181818, 0.09090909, 0.        ,\n",
       "        0.        , 0.        ],\n",
       "       [0.        , 0.        , 0.54545455, 0.        , 0.        ,\n",
       "        0.        , 0.        , 0.        , 0.        , 0.45454545,\n",
       "        0.        , 0.        ],\n",
       "       [1.        , 0.        , 0.        , 0.        , 0.        ,\n",
       "        0.        , 0.        , 0.        , 0.        , 0.        ,\n",
       "        0.        , 0.        ],\n",
       "       [0.        , 0.        , 0.        , 0.57142857, 0.        ,\n",
       "        0.        , 0.        , 0.42857143, 0.        , 0.        ,\n",
       "        0.        , 0.        ],\n",
       "       [0.        , 0.        , 0.        , 0.        , 0.        ,\n",
       "        0.        , 0.8       , 0.        , 0.2       , 0.        ,\n",
       "        0.        , 0.        ],\n",
       "       [0.66666667, 0.        , 0.        , 0.        , 0.        ,\n",
       "        0.33333333, 0.        , 0.        , 0.        , 0.        ,\n",
       "        0.        , 0.        ],\n",
       "       [0.5       , 0.        , 0.        , 0.        , 0.5       ,\n",
       "        0.        , 0.        , 0.        , 0.        , 0.        ,\n",
       "        0.        , 0.        ],\n",
       "       [1.        , 0.        , 0.        , 0.        , 0.        ,\n",
       "        0.        , 0.        , 0.        , 0.        , 0.        ,\n",
       "        0.        , 0.        ],\n",
       "       [0.75      , 0.        , 0.        , 0.        , 0.        ,\n",
       "        0.        , 0.        , 0.        , 0.125     , 0.125     ,\n",
       "        0.        , 0.        ]])"
      ]
     },
     "metadata": {},
     "output_type": "display_data"
    },
    {
     "name": "stderr",
     "output_type": "stream",
     "text": [
      "\r",
      " 14%|█████▋                                  | 17/120 [22:37<2:00:59, 70.48s/it]"
     ]
    },
    {
     "name": "stdout",
     "output_type": "stream",
     "text": [
      "INFO: Noise Filtering applied\n",
      "INFO: Clusters generated\n",
      "(1026176, 5) (532, 5) (532, 5) (532, 5) (532, 6)\n",
      "INFO: 16 clusters generated.\n"
     ]
    },
    {
     "name": "stderr",
     "output_type": "stream",
     "text": [
      "\n",
      "  0%|                                                    | 0/16 [00:00<?, ?it/s]\u001b[A\n",
      "  6%|██▊                                         | 1/16 [00:16<04:02, 16.18s/it]\u001b[A\n",
      " 12%|█████▌                                      | 2/16 [00:32<03:45, 16.12s/it]\u001b[A\n",
      " 19%|████████▎                                   | 3/16 [00:48<03:29, 16.10s/it]\u001b[A\n",
      " 25%|███████████                                 | 4/16 [01:04<03:12, 16.01s/it]\u001b[A\n",
      " 31%|█████████████▊                              | 5/16 [01:20<02:55, 15.98s/it]\u001b[A\n",
      " 38%|████████████████▌                           | 6/16 [01:36<02:39, 15.99s/it]\u001b[A\n",
      " 44%|███████████████████▎                        | 7/16 [01:52<02:23, 15.98s/it]\u001b[A\n",
      " 50%|██████████████████████                      | 8/16 [02:07<02:07, 15.91s/it]\u001b[A\n",
      " 56%|████████████████████████▊                   | 9/16 [02:23<01:51, 15.89s/it]\u001b[A\n",
      " 62%|█████████████████████▎            | 10/16 [18:05:18<33:27:01, 20070.19s/it]\u001b[A\n",
      " 69%|███████████████████████▍          | 11/16 [18:05:34<19:21:02, 13932.52s/it]\u001b[A\n",
      " 75%|██████████████████████████▎        | 12/16 [18:05:50<10:46:35, 9698.88s/it]\u001b[A\n",
      " 81%|█████████████████████████████▎      | 13/16 [18:06:06<5:38:16, 6765.55s/it]\u001b[A\n",
      " 88%|███████████████████████████████▌    | 14/16 [18:06:22<2:37:33, 4726.83s/it]\u001b[A\n",
      " 94%|███████████████████████████████████▋  | 15/16 [18:06:38<55:06, 3306.84s/it]\u001b[A\n",
      "100%|██████████████████████████████████████| 16/16 [18:06:54<00:00, 4075.89s/it]\u001b[A\n"
     ]
    },
    {
     "data": {
      "text/plain": [
       "array([[0.        , 0.05909091, 0.1       , 0.54545455, 0.11363636,\n",
       "        0.00454545, 0.00454545, 0.00909091, 0.01363636, 0.06818182,\n",
       "        0.05454545, 0.01363636, 0.        , 0.        , 0.00454545,\n",
       "        0.00909091],\n",
       "       [0.53571429, 0.        , 0.03571429, 0.07142857, 0.03571429,\n",
       "        0.25      , 0.        , 0.03571429, 0.        , 0.03571429,\n",
       "        0.        , 0.        , 0.        , 0.        , 0.        ,\n",
       "        0.        ],\n",
       "       [0.48314607, 0.        , 0.        , 0.02247191, 0.        ,\n",
       "        0.        , 0.        , 0.        , 0.12359551, 0.34831461,\n",
       "        0.        , 0.        , 0.02247191, 0.        , 0.        ,\n",
       "        0.        ],\n",
       "       [0.46927374, 0.00558659, 0.        , 0.        , 0.03351955,\n",
       "        0.06703911, 0.00558659, 0.01675978, 0.00558659, 0.        ,\n",
       "        0.38547486, 0.        , 0.        , 0.00558659, 0.        ,\n",
       "        0.00558659],\n",
       "       [0.4125    , 0.0125    , 0.        , 0.15      , 0.        ,\n",
       "        0.        , 0.        , 0.        , 0.025     , 0.        ,\n",
       "        0.0375    , 0.        , 0.        , 0.325     , 0.0375    ,\n",
       "        0.        ],\n",
       "       [0.04761905, 0.61904762, 0.        , 0.28571429, 0.04761905,\n",
       "        0.        , 0.        , 0.        , 0.        , 0.        ,\n",
       "        0.        , 0.        , 0.        , 0.        , 0.        ,\n",
       "        0.        ],\n",
       "       [0.16666667, 0.        , 0.        , 0.        , 0.08333333,\n",
       "        0.        , 0.        , 0.        , 0.16666667, 0.        ,\n",
       "        0.58333333, 0.        , 0.        , 0.        , 0.        ,\n",
       "        0.        ],\n",
       "       [0.58333333, 0.        , 0.        , 0.08333333, 0.        ,\n",
       "        0.        , 0.08333333, 0.        , 0.16666667, 0.        ,\n",
       "        0.        , 0.        , 0.        , 0.        , 0.08333333,\n",
       "        0.        ],\n",
       "       [0.71428571, 0.        , 0.0952381 , 0.        , 0.        ,\n",
       "        0.        , 0.0952381 , 0.0952381 , 0.        , 0.        ,\n",
       "        0.        , 0.        , 0.        , 0.        , 0.        ,\n",
       "        0.        ],\n",
       "       [0.01204819, 0.        , 0.69879518, 0.01204819, 0.01204819,\n",
       "        0.        , 0.        , 0.        , 0.        , 0.        ,\n",
       "        0.12048193, 0.        , 0.01204819, 0.        , 0.01204819,\n",
       "        0.12048193],\n",
       "       [0.05970149, 0.        , 0.02238806, 0.24626866, 0.02985075,\n",
       "        0.        , 0.05223881, 0.00746269, 0.        , 0.11940299,\n",
       "        0.        , 0.        , 0.        , 0.02985075, 0.04477612,\n",
       "        0.3880597 ],\n",
       "       [0.66666667, 0.        , 0.        , 0.        , 0.        ,\n",
       "        0.        , 0.        , 0.33333333, 0.        , 0.        ,\n",
       "        0.        , 0.        , 0.        , 0.        , 0.        ,\n",
       "        0.        ],\n",
       "       [0.        , 0.        , 1.        , 0.        , 0.        ,\n",
       "        0.        , 0.        , 0.        , 0.        , 0.        ,\n",
       "        0.        , 0.        , 0.        , 0.        , 0.        ,\n",
       "        0.        ],\n",
       "       [0.05      , 0.        , 0.        , 0.        , 0.63333333,\n",
       "        0.01666667, 0.        , 0.01666667, 0.        , 0.        ,\n",
       "        0.01666667, 0.        , 0.        , 0.        , 0.11666667,\n",
       "        0.15      ],\n",
       "       [0.01492537, 0.        , 0.        , 0.01492537, 0.        ,\n",
       "        0.        , 0.        , 0.        , 0.        , 0.        ,\n",
       "        0.02985075, 0.        , 0.        , 0.37313433, 0.        ,\n",
       "        0.56716418],\n",
       "       [0.04464286, 0.        , 0.        , 0.00892857, 0.02678571,\n",
       "        0.        , 0.        , 0.00892857, 0.        , 0.17857143,\n",
       "        0.26785714, 0.        , 0.        , 0.03571429, 0.42857143,\n",
       "        0.        ]])"
      ]
     },
     "metadata": {},
     "output_type": "display_data"
    },
    {
     "name": "stderr",
     "output_type": "stream",
     "text": [
      "\r",
      " 15%|████▊                           | 18/120 [18:33:41<558:44:48, 19720.47s/it]"
     ]
    },
    {
     "name": "stdout",
     "output_type": "stream",
     "text": [
      "INFO: Noise Filtering applied\n",
      "INFO: Clusters generated\n",
      "(47279, 5) (119, 5) (119, 5) (119, 5) (119, 6)\n",
      "INFO: 10 clusters generated.\n"
     ]
    },
    {
     "name": "stderr",
     "output_type": "stream",
     "text": [
      "\n",
      "  0%|                                                    | 0/10 [00:00<?, ?it/s]\u001b[A\n",
      " 10%|████▍                                       | 1/10 [00:00<00:06,  1.44it/s]\u001b[A\n",
      " 20%|████████▊                                   | 2/10 [00:01<00:05,  1.42it/s]\u001b[A\n",
      " 30%|█████████████▏                              | 3/10 [00:02<00:04,  1.42it/s]\u001b[A\n",
      " 40%|█████████████████▌                          | 4/10 [00:02<00:04,  1.42it/s]\u001b[A\n",
      " 50%|██████████████████████                      | 5/10 [00:03<00:03,  1.42it/s]\u001b[A\n",
      " 60%|██████████████████████████▍                 | 6/10 [00:04<00:02,  1.34it/s]\u001b[A\n",
      " 70%|██████████████████████████████▊             | 7/10 [00:05<00:02,  1.35it/s]\u001b[A\n",
      " 80%|███████████████████████████████████▏        | 8/10 [00:05<00:01,  1.31it/s]\u001b[A\n",
      " 90%|███████████████████████████████████████▌    | 9/10 [00:06<00:00,  1.34it/s]\u001b[A\n",
      "100%|███████████████████████████████████████████| 10/10 [00:07<00:00,  1.35it/s]\u001b[A\n"
     ]
    },
    {
     "data": {
      "text/plain": [
       "array([[0.        , 0.16666667, 0.16666667, 0.08333333, 0.16666667,\n",
       "        0.08333333, 0.16666667, 0.        , 0.        , 0.16666667],\n",
       "       [0.33333333, 0.        , 0.        , 0.        , 0.        ,\n",
       "        0.33333333, 0.        , 0.        , 0.33333333, 0.        ],\n",
       "       [0.66666667, 0.        , 0.        , 0.        , 0.        ,\n",
       "        0.        , 0.        , 0.        , 0.        , 0.33333333],\n",
       "       [0.66666667, 0.        , 0.        , 0.        , 0.        ,\n",
       "        0.        , 0.        , 0.33333333, 0.        , 0.        ],\n",
       "       [0.6       , 0.        , 0.2       , 0.        , 0.        ,\n",
       "        0.        , 0.        , 0.        , 0.        , 0.2       ],\n",
       "       [0.5       , 0.5       , 0.        , 0.        , 0.        ,\n",
       "        0.        , 0.        , 0.        , 0.        , 0.        ],\n",
       "       [0.4       , 0.        , 0.        , 0.        , 0.        ,\n",
       "        0.        , 0.        , 0.        , 0.6       , 0.        ],\n",
       "       [0.        , 0.        , 0.        , 0.        , 0.        ,\n",
       "        0.        , 0.        , 0.        , 1.        , 0.        ],\n",
       "       [0.2       , 0.        , 0.        , 0.2       , 0.        ,\n",
       "        0.        , 0.6       , 0.        , 0.        , 0.        ],\n",
       "       [0.        , 0.        , 0.        , 0.25      , 0.75      ,\n",
       "        0.        , 0.        , 0.        , 0.        , 0.        ]])"
      ]
     },
     "metadata": {},
     "output_type": "display_data"
    },
    {
     "name": "stderr",
     "output_type": "stream",
     "text": [
      "\r",
      " 16%|█████                           | 19/120 [18:33:49<387:10:15, 13800.15s/it]"
     ]
    },
    {
     "name": "stdout",
     "output_type": "stream",
     "text": [
      "INFO: Noise Filtering applied\n",
      "INFO: Clusters generated\n",
      "(47823, 5) (76, 5) (76, 5) (76, 5) (76, 6)\n",
      "INFO: 5 clusters generated.\n"
     ]
    },
    {
     "name": "stderr",
     "output_type": "stream",
     "text": [
      "\n",
      "  0%|                                                     | 0/5 [00:00<?, ?it/s]\u001b[A\n",
      " 20%|█████████                                    | 1/5 [00:00<00:03,  1.22it/s]\u001b[A\n",
      " 40%|██████████████████                           | 2/5 [00:01<00:02,  1.21it/s]\u001b[A\n",
      " 60%|███████████████████████████                  | 3/5 [00:02<00:01,  1.21it/s]\u001b[A\n",
      " 80%|████████████████████████████████████         | 4/5 [00:03<00:00,  1.28it/s]\u001b[A\n",
      "100%|█████████████████████████████████████████████| 5/5 [00:03<00:00,  1.28it/s]\u001b[A\n"
     ]
    },
    {
     "data": {
      "text/plain": [
       "array([[0.        , 0.1       , 0.45      , 0.05      , 0.4       ],\n",
       "       [0.18181818, 0.        , 0.09090909, 0.        , 0.72727273],\n",
       "       [0.46666667, 0.        , 0.        , 0.53333333, 0.        ],\n",
       "       [0.33333333, 0.22222222, 0.44444444, 0.        , 0.        ],\n",
       "       [0.5       , 0.4375    , 0.0625    , 0.        , 0.        ]])"
      ]
     },
     "metadata": {},
     "output_type": "display_data"
    },
    {
     "name": "stderr",
     "output_type": "stream",
     "text": [
      "\r",
      " 17%|█████▌                           | 20/120 [18:33:54<268:17:12, 9658.33s/it]"
     ]
    },
    {
     "name": "stdout",
     "output_type": "stream",
     "text": [
      "INFO: Noise Filtering applied\n",
      "INFO: Clusters generated\n",
      "(177678, 5) (155, 5) (155, 5) (155, 5) (155, 6)\n",
      "INFO: 2 clusters generated.\n"
     ]
    },
    {
     "name": "stderr",
     "output_type": "stream",
     "text": [
      "\n",
      "  0%|                                                     | 0/2 [00:00<?, ?it/s]\u001b[A\n",
      " 50%|██████████████████████▌                      | 1/2 [00:02<00:02,  2.84s/it]\u001b[A\n",
      "100%|█████████████████████████████████████████████| 2/2 [00:05<00:00,  2.82s/it]\u001b[A\n"
     ]
    },
    {
     "data": {
      "text/plain": [
       "array([[0., 1.],\n",
       "       [1., 0.]])"
      ]
     },
     "metadata": {},
     "output_type": "display_data"
    },
    {
     "name": "stderr",
     "output_type": "stream",
     "text": [
      "\r",
      " 18%|█████▊                           | 21/120 [18:34:06<185:58:37, 6762.81s/it]"
     ]
    },
    {
     "name": "stdout",
     "output_type": "stream",
     "text": [
      "INFO: Noise Filtering applied\n",
      "INFO: Clusters generated\n",
      "(471437, 5) (933, 5) (933, 5) (933, 5) (933, 6)\n",
      "INFO: 26 clusters generated.\n"
     ]
    },
    {
     "name": "stderr",
     "output_type": "stream",
     "text": [
      "\n",
      "  0%|                                                    | 0/26 [00:00<?, ?it/s]\u001b[A\n",
      "  4%|█▋                                          | 1/26 [00:07<03:03,  7.34s/it]\u001b[A\n",
      "  8%|███▍                                        | 2/26 [00:14<02:55,  7.32s/it]\u001b[A\n",
      " 12%|█████                                       | 3/26 [00:21<02:48,  7.33s/it]\u001b[A\n",
      " 15%|██████▊                                     | 4/26 [00:29<02:41,  7.35s/it]\u001b[A\n",
      " 19%|████████▍                                   | 5/26 [00:36<02:34,  7.35s/it]\u001b[A\n",
      " 23%|██████████▏                                 | 6/26 [00:44<02:27,  7.36s/it]\u001b[A\n",
      " 27%|███████████▊                                | 7/26 [00:51<02:19,  7.35s/it]\u001b[A\n",
      " 31%|█████████████▌                              | 8/26 [00:58<02:12,  7.36s/it]\u001b[A\n",
      " 35%|███████████████▏                            | 9/26 [01:06<02:07,  7.52s/it]\u001b[A\n",
      " 38%|████████████████▌                          | 10/26 [01:14<02:02,  7.65s/it]\u001b[A\n",
      " 42%|██████████████████▏                        | 11/26 [01:22<01:55,  7.72s/it]\u001b[A\n",
      " 46%|███████████████████▊                       | 12/26 [01:30<01:48,  7.73s/it]\u001b[A\n",
      " 50%|█████████████████████▌                     | 13/26 [01:37<01:39,  7.66s/it]\u001b[A\n",
      " 54%|███████████████████████▏                   | 14/26 [01:45<01:31,  7.60s/it]\u001b[A\n",
      " 58%|████████████████████████▊                  | 15/26 [01:52<01:22,  7.54s/it]\u001b[A\n",
      " 62%|██████████████████████████▍                | 16/26 [02:00<01:15,  7.53s/it]\u001b[A\n",
      " 65%|████████████████████████████               | 17/26 [02:07<01:07,  7.49s/it]\u001b[A\n",
      " 69%|█████████████████████████████▊             | 18/26 [02:15<01:00,  7.53s/it]\u001b[A\n",
      " 73%|███████████████████████████████▍           | 19/26 [02:22<00:52,  7.49s/it]\u001b[A\n",
      " 77%|█████████████████████████████████          | 20/26 [02:30<00:45,  7.50s/it]\u001b[A\n",
      " 81%|██████████████████████████████████▋        | 21/26 [02:37<00:37,  7.44s/it]\u001b[A\n",
      " 85%|████████████████████████████████████▍      | 22/26 [02:44<00:29,  7.42s/it]\u001b[A\n",
      " 88%|██████████████████████████████████████     | 23/26 [02:52<00:22,  7.46s/it]\u001b[A\n",
      " 92%|███████████████████████████████████████▋   | 24/26 [02:59<00:14,  7.49s/it]\u001b[A\n",
      " 96%|█████████████████████████████████████████▎ | 25/26 [03:07<00:07,  7.42s/it]\u001b[A\n",
      "100%|███████████████████████████████████████████| 26/26 [03:14<00:00,  7.48s/it]\u001b[A\n"
     ]
    },
    {
     "data": {
      "text/plain": [
       "array([[0.        , 0.02040816, 0.53061224, 0.        , 0.01020408,\n",
       "        0.        , 0.        , 0.01020408, 0.        , 0.        ,\n",
       "        0.        , 0.19387755, 0.15306122, 0.        , 0.        ,\n",
       "        0.        , 0.        , 0.02040816, 0.        , 0.02040816,\n",
       "        0.        , 0.01020408, 0.        , 0.        , 0.        ,\n",
       "        0.03061224],\n",
       "       [0.2       , 0.        , 0.06666667, 0.        , 0.        ,\n",
       "        0.        , 0.        , 0.66666667, 0.        , 0.        ,\n",
       "        0.        , 0.        , 0.        , 0.        , 0.        ,\n",
       "        0.        , 0.        , 0.        , 0.06666667, 0.        ,\n",
       "        0.        , 0.        , 0.        , 0.        , 0.        ,\n",
       "        0.        ],\n",
       "       [0.54285714, 0.01904762, 0.        , 0.        , 0.03809524,\n",
       "        0.        , 0.        , 0.        , 0.        , 0.        ,\n",
       "        0.        , 0.        , 0.00952381, 0.02857143, 0.        ,\n",
       "        0.        , 0.01904762, 0.00952381, 0.00952381, 0.        ,\n",
       "        0.18095238, 0.        , 0.        , 0.        , 0.08571429,\n",
       "        0.05714286],\n",
       "       [0.25      , 0.        , 0.        , 0.        , 0.        ,\n",
       "        0.        , 0.25      , 0.        , 0.        , 0.        ,\n",
       "        0.25      , 0.        , 0.        , 0.        , 0.25      ,\n",
       "        0.        , 0.        , 0.        , 0.        , 0.        ,\n",
       "        0.        , 0.        , 0.        , 0.        , 0.        ,\n",
       "        0.        ],\n",
       "       [0.0212766 , 0.        , 0.08510638, 0.        , 0.        ,\n",
       "        0.        , 0.        , 0.        , 0.        , 0.        ,\n",
       "        0.        , 0.42553191, 0.        , 0.31914894, 0.        ,\n",
       "        0.06382979, 0.        , 0.        , 0.        , 0.        ,\n",
       "        0.        , 0.        , 0.        , 0.        , 0.        ,\n",
       "        0.08510638],\n",
       "       [0.        , 0.        , 0.        , 0.        , 0.        ,\n",
       "        0.        , 0.        , 0.        , 0.        , 0.55555556,\n",
       "        0.44444444, 0.        , 0.        , 0.        , 0.        ,\n",
       "        0.        , 0.        , 0.        , 0.        , 0.        ,\n",
       "        0.        , 0.        , 0.        , 0.        , 0.        ,\n",
       "        0.        ],\n",
       "       [0.        , 0.        , 0.        , 0.        , 0.        ,\n",
       "        0.        , 0.        , 1.        , 0.        , 0.        ,\n",
       "        0.        , 0.        , 0.        , 0.        , 0.        ,\n",
       "        0.        , 0.        , 0.        , 0.        , 0.        ,\n",
       "        0.        , 0.        , 0.        , 0.        , 0.        ,\n",
       "        0.        ],\n",
       "       [0.        , 0.40740741, 0.        , 0.        , 0.03703704,\n",
       "        0.        , 0.        , 0.        , 0.51851852, 0.03703704,\n",
       "        0.        , 0.        , 0.        , 0.        , 0.        ,\n",
       "        0.        , 0.        , 0.        , 0.        , 0.        ,\n",
       "        0.        , 0.        , 0.        , 0.        , 0.        ,\n",
       "        0.        ],\n",
       "       [0.        , 0.        , 0.        , 0.        , 0.03448276,\n",
       "        0.        , 0.        , 0.51724138, 0.        , 0.4137931 ,\n",
       "        0.        , 0.        , 0.        , 0.03448276, 0.        ,\n",
       "        0.        , 0.        , 0.        , 0.        , 0.        ,\n",
       "        0.        , 0.        , 0.        , 0.        , 0.        ,\n",
       "        0.        ],\n",
       "       [0.        , 0.        , 0.        , 0.        , 0.03571429,\n",
       "        0.42857143, 0.        , 0.        , 0.53571429, 0.        ,\n",
       "        0.        , 0.        , 0.        , 0.        , 0.        ,\n",
       "        0.        , 0.        , 0.        , 0.        , 0.        ,\n",
       "        0.        , 0.        , 0.        , 0.        , 0.        ,\n",
       "        0.        ],\n",
       "       [0.        , 0.        , 0.        , 0.03448276, 0.        ,\n",
       "        0.51724138, 0.        , 0.        , 0.        , 0.        ,\n",
       "        0.        , 0.        , 0.        , 0.44827586, 0.        ,\n",
       "        0.        , 0.        , 0.        , 0.        , 0.        ,\n",
       "        0.        , 0.        , 0.        , 0.        , 0.        ,\n",
       "        0.        ],\n",
       "       [0.38461538, 0.        , 0.02564103, 0.        , 0.56410256,\n",
       "        0.        , 0.        , 0.        , 0.        , 0.        ,\n",
       "        0.        , 0.        , 0.        , 0.02564103, 0.        ,\n",
       "        0.        , 0.        , 0.        , 0.        , 0.        ,\n",
       "        0.        , 0.        , 0.        , 0.        , 0.        ,\n",
       "        0.        ],\n",
       "       [0.2       , 0.        , 0.04      , 0.        , 0.        ,\n",
       "        0.        , 0.        , 0.        , 0.        , 0.        ,\n",
       "        0.        , 0.        , 0.        , 0.        , 0.        ,\n",
       "        0.        , 0.        , 0.12      , 0.        , 0.6       ,\n",
       "        0.        , 0.        , 0.        , 0.04      , 0.        ,\n",
       "        0.        ],\n",
       "       [0.        , 0.        , 0.06060606, 0.03030303, 0.42424242,\n",
       "        0.        , 0.        , 0.        , 0.        , 0.        ,\n",
       "        0.48484848, 0.        , 0.        , 0.        , 0.        ,\n",
       "        0.        , 0.        , 0.        , 0.        , 0.        ,\n",
       "        0.        , 0.        , 0.        , 0.        , 0.        ,\n",
       "        0.        ],\n",
       "       [0.        , 0.        , 0.        , 1.        , 0.        ,\n",
       "        0.        , 0.        , 0.        , 0.        , 0.        ,\n",
       "        0.        , 0.        , 0.        , 0.        , 0.        ,\n",
       "        0.        , 0.        , 0.        , 0.        , 0.        ,\n",
       "        0.        , 0.        , 0.        , 0.        , 0.        ,\n",
       "        0.        ],\n",
       "       [0.25      , 0.        , 0.        , 0.25      , 0.        ,\n",
       "        0.        , 0.        , 0.        , 0.        , 0.        ,\n",
       "        0.        , 0.        , 0.        , 0.        , 0.        ,\n",
       "        0.        , 0.        , 0.        , 0.        , 0.        ,\n",
       "        0.        , 0.5       , 0.        , 0.        , 0.        ,\n",
       "        0.        ],\n",
       "       [0.        , 0.        , 0.52941176, 0.        , 0.        ,\n",
       "        0.        , 0.        , 0.        , 0.        , 0.        ,\n",
       "        0.        , 0.        , 0.        , 0.        , 0.        ,\n",
       "        0.        , 0.        , 0.        , 0.        , 0.        ,\n",
       "        0.        , 0.        , 0.41176471, 0.        , 0.05882353,\n",
       "        0.        ],\n",
       "       [0.5       , 0.        , 0.        , 0.        , 0.        ,\n",
       "        0.        , 0.        , 0.        , 0.        , 0.        ,\n",
       "        0.        , 0.        , 0.5       , 0.        , 0.        ,\n",
       "        0.        , 0.        , 0.        , 0.        , 0.        ,\n",
       "        0.        , 0.        , 0.        , 0.        , 0.        ,\n",
       "        0.        ],\n",
       "       [1.        , 0.        , 0.        , 0.        , 0.        ,\n",
       "        0.        , 0.        , 0.        , 0.        , 0.        ,\n",
       "        0.        , 0.        , 0.        , 0.        , 0.        ,\n",
       "        0.        , 0.        , 0.        , 0.        , 0.        ,\n",
       "        0.        , 0.        , 0.        , 0.        , 0.        ,\n",
       "        0.        ],\n",
       "       [0.04347826, 0.        , 0.30434783, 0.        , 0.        ,\n",
       "        0.        , 0.        , 0.        , 0.        , 0.        ,\n",
       "        0.        , 0.        , 0.26086957, 0.        , 0.        ,\n",
       "        0.        , 0.        , 0.        , 0.        , 0.        ,\n",
       "        0.2173913 , 0.        , 0.        , 0.17391304, 0.        ,\n",
       "        0.        ],\n",
       "       [0.08333333, 0.        , 0.30555556, 0.        , 0.        ,\n",
       "        0.        , 0.        , 0.        , 0.        , 0.        ,\n",
       "        0.        , 0.        , 0.        , 0.        , 0.        ,\n",
       "        0.        , 0.        , 0.        , 0.        , 0.16666667,\n",
       "        0.        , 0.        , 0.44444444, 0.        , 0.        ,\n",
       "        0.        ],\n",
       "       [0.4       , 0.        , 0.        , 0.        , 0.        ,\n",
       "        0.        , 0.        , 0.        , 0.        , 0.        ,\n",
       "        0.        , 0.        , 0.        , 0.        , 0.        ,\n",
       "        0.        , 0.        , 0.        , 0.        , 0.        ,\n",
       "        0.        , 0.        , 0.        , 0.        , 0.        ,\n",
       "        0.6       ],\n",
       "       [0.04166667, 0.        , 0.08333333, 0.        , 0.        ,\n",
       "        0.        , 0.        , 0.        , 0.        , 0.        ,\n",
       "        0.        , 0.        , 0.        , 0.        , 0.        ,\n",
       "        0.        , 0.33333333, 0.        , 0.        , 0.        ,\n",
       "        0.5       , 0.        , 0.        , 0.        , 0.04166667,\n",
       "        0.        ],\n",
       "       [0.        , 0.        , 0.        , 0.        , 0.        ,\n",
       "        0.        , 0.        , 0.        , 0.        , 0.        ,\n",
       "        0.        , 0.        , 0.        , 0.        , 0.        ,\n",
       "        0.        , 1.        , 0.        , 0.        , 0.        ,\n",
       "        0.        , 0.        , 0.        , 0.        , 0.        ,\n",
       "        0.        ],\n",
       "       [0.        , 0.        , 0.63636364, 0.        , 0.        ,\n",
       "        0.        , 0.        , 0.        , 0.        , 0.        ,\n",
       "        0.        , 0.        , 0.        , 0.        , 0.        ,\n",
       "        0.09090909, 0.18181818, 0.        , 0.        , 0.        ,\n",
       "        0.        , 0.        , 0.09090909, 0.        , 0.        ,\n",
       "        0.        ],\n",
       "       [0.23529412, 0.        , 0.47058824, 0.        , 0.17647059,\n",
       "        0.        , 0.        , 0.        , 0.        , 0.        ,\n",
       "        0.        , 0.        , 0.        , 0.        , 0.        ,\n",
       "        0.        , 0.        , 0.        , 0.        , 0.        ,\n",
       "        0.        , 0.11764706, 0.        , 0.        , 0.        ,\n",
       "        0.        ]])"
      ]
     },
     "metadata": {},
     "output_type": "display_data"
    },
    {
     "name": "stderr",
     "output_type": "stream",
     "text": [
      "\r",
      " 18%|██████                           | 22/120 [18:37:52<130:41:36, 4800.99s/it]"
     ]
    },
    {
     "name": "stdout",
     "output_type": "stream",
     "text": [
      "INFO: Noise Filtering applied\n",
      "INFO: Clusters generated\n",
      "(120350, 5) (14, 5) (14, 5) (14, 5) (14, 6)\n",
      "INFO: 4 clusters generated.\n"
     ]
    },
    {
     "name": "stderr",
     "output_type": "stream",
     "text": [
      "\n",
      "  0%|                                                     | 0/4 [00:00<?, ?it/s]\u001b[A\n",
      " 25%|███████████▎                                 | 1/4 [00:01<00:05,  1.95s/it]\u001b[A\n",
      " 50%|██████████████████████▌                      | 2/4 [00:03<00:03,  1.94s/it]\u001b[A\n",
      " 75%|█████████████████████████████████▊           | 3/4 [00:05<00:01,  1.94s/it]\u001b[A\n",
      "100%|█████████████████████████████████████████████| 4/4 [00:07<00:00,  1.93s/it]\u001b[A\n"
     ]
    },
    {
     "data": {
      "text/plain": [
       "array([[0. , 0.5, 0. , 0.5],\n",
       "       [1. , 0. , 0. , 0. ],\n",
       "       [0. , 0. , 1. , 0. ]])"
      ]
     },
     "metadata": {},
     "output_type": "display_data"
    },
    {
     "name": "stderr",
     "output_type": "stream",
     "text": [
      "\r",
      " 19%|██████▌                           | 23/120 [18:38:04<90:38:00, 3363.71s/it]"
     ]
    },
    {
     "name": "stdout",
     "output_type": "stream",
     "text": [
      "INFO: Noise Filtering applied\n",
      "INFO: Clusters generated\n",
      "(263482, 5) (1177, 5) (1177, 5) (1177, 5) (1177, 6)\n",
      "INFO: 18 clusters generated.\n"
     ]
    },
    {
     "name": "stderr",
     "output_type": "stream",
     "text": [
      "\n",
      "  0%|                                                    | 0/18 [00:00<?, ?it/s]\u001b[A\n",
      "  6%|██▍                                         | 1/18 [00:04<01:10,  4.17s/it]\u001b[A\n",
      " 11%|████▉                                       | 2/18 [00:08<01:06,  4.17s/it]\u001b[A\n",
      " 17%|███████▎                                    | 3/18 [00:12<01:03,  4.21s/it]\u001b[A\n",
      " 22%|█████████▊                                  | 4/18 [00:16<00:58,  4.15s/it]\u001b[A\n",
      " 28%|████████████▏                               | 5/18 [00:20<00:53,  4.14s/it]\u001b[A\n",
      " 33%|██████████████▋                             | 6/18 [00:24<00:49,  4.15s/it]\u001b[A\n",
      " 39%|█████████████████                           | 7/18 [00:29<00:45,  4.15s/it]\u001b[A\n",
      " 44%|███████████████████▌                        | 8/18 [00:33<00:41,  4.15s/it]\u001b[A\n",
      " 50%|██████████████████████                      | 9/18 [00:37<00:37,  4.16s/it]\u001b[A\n",
      " 56%|███████████████████████▉                   | 10/18 [00:41<00:33,  4.16s/it]\u001b[A\n",
      " 61%|██████████████████████████▎                | 11/18 [00:45<00:28,  4.13s/it]\u001b[A\n",
      " 67%|████████████████████████████▋              | 12/18 [00:49<00:25,  4.18s/it]\u001b[A\n",
      " 72%|███████████████████████████████            | 13/18 [00:54<00:20,  4.14s/it]\u001b[A\n",
      " 78%|█████████████████████████████████▍         | 14/18 [00:58<00:16,  4.19s/it]\u001b[A\n",
      " 83%|███████████████████████████████████▊       | 15/18 [01:02<00:12,  4.14s/it]\u001b[A\n",
      " 89%|██████████████████████████████████████▏    | 16/18 [01:06<00:08,  4.17s/it]\u001b[A\n",
      " 94%|████████████████████████████████████████▌  | 17/18 [01:10<00:04,  4.24s/it]\u001b[A\n",
      "100%|███████████████████████████████████████████| 18/18 [01:15<00:00,  4.17s/it]\u001b[A\n"
     ]
    },
    {
     "data": {
      "text/plain": [
       "array([[0.        , 0.25333333, 0.21333333, 0.02666667, 0.        ,\n",
       "        0.12      , 0.        , 0.01333333, 0.01333333, 0.2       ,\n",
       "        0.01333333, 0.01333333, 0.01333333, 0.02666667, 0.        ,\n",
       "        0.02666667, 0.06666667],\n",
       "       [0.        , 0.        , 0.        , 0.        , 0.        ,\n",
       "        0.        , 0.        , 0.        , 1.        , 0.        ,\n",
       "        0.        , 0.        , 0.        , 0.        , 0.        ,\n",
       "        0.        , 0.        ],\n",
       "       [0.42222222, 0.        , 0.        , 0.        , 0.48888889,\n",
       "        0.06666667, 0.        , 0.        , 0.        , 0.02222222,\n",
       "        0.        , 0.        , 0.        , 0.        , 0.        ,\n",
       "        0.        , 0.        ],\n",
       "       [0.42857143, 0.        , 0.        , 0.04761905, 0.        ,\n",
       "        0.0952381 , 0.        , 0.        , 0.        , 0.        ,\n",
       "        0.23809524, 0.        , 0.        , 0.        , 0.        ,\n",
       "        0.14285714, 0.04761905],\n",
       "       [0.125     , 0.        , 0.        , 0.        , 0.        ,\n",
       "        0.        , 0.        , 0.        , 0.45833333, 0.08333333,\n",
       "        0.        , 0.08333333, 0.        , 0.        , 0.        ,\n",
       "        0.16666667, 0.08333333],\n",
       "       [0.        , 0.52380952, 0.        , 0.        , 0.        ,\n",
       "        0.        , 0.        , 0.        , 0.        , 0.        ,\n",
       "        0.        , 0.        , 0.        , 0.47619048, 0.        ,\n",
       "        0.        , 0.        ],\n",
       "       [0.58823529, 0.05882353, 0.05882353, 0.        , 0.        ,\n",
       "        0.        , 0.        , 0.        , 0.        , 0.        ,\n",
       "        0.05882353, 0.        , 0.05882353, 0.        , 0.        ,\n",
       "        0.11764706, 0.05882353],\n",
       "       [0.        , 0.        , 0.        , 0.        , 0.        ,\n",
       "        0.        , 0.        , 0.        , 0.        , 0.        ,\n",
       "        0.        , 0.        , 0.48076923, 0.        , 0.51923077,\n",
       "        0.        , 0.        ],\n",
       "       [0.75      , 0.        , 0.        , 0.        , 0.        ,\n",
       "        0.        , 0.        , 0.        , 0.        , 0.        ,\n",
       "        0.        , 0.25      , 0.        , 0.        , 0.        ,\n",
       "        0.        , 0.        ],\n",
       "       [0.08333333, 0.        , 0.        , 0.16666667, 0.        ,\n",
       "        0.        , 0.        , 0.        , 0.        , 0.75      ,\n",
       "        0.        , 0.        , 0.        , 0.        , 0.        ,\n",
       "        0.        , 0.        ],\n",
       "       [0.55555556, 0.        , 0.02222222, 0.        , 0.        ,\n",
       "        0.        , 0.        , 0.        , 0.22222222, 0.        ,\n",
       "        0.        , 0.        , 0.        , 0.        , 0.        ,\n",
       "        0.2       , 0.        ],\n",
       "       [0.14285714, 0.42857143, 0.14285714, 0.        , 0.        ,\n",
       "        0.28571429, 0.        , 0.        , 0.        , 0.        ,\n",
       "        0.        , 0.        , 0.        , 0.        , 0.        ,\n",
       "        0.        , 0.        ],\n",
       "       [0.33333333, 0.        , 0.        , 0.        , 0.        ,\n",
       "        0.        , 0.        , 0.5       , 0.        , 0.        ,\n",
       "        0.        , 0.        , 0.        , 0.16666667, 0.        ,\n",
       "        0.        , 0.        ],\n",
       "       [0.        , 0.        , 0.        , 0.        , 0.        ,\n",
       "        0.03448276, 0.93103448, 0.        , 0.        , 0.03448276,\n",
       "        0.        , 0.        , 0.        , 0.        , 0.        ,\n",
       "        0.        , 0.        ],\n",
       "       [0.02040816, 0.        , 0.        , 0.        , 0.40816327,\n",
       "        0.        , 0.        , 0.        , 0.        , 0.04081633,\n",
       "        0.        , 0.04081633, 0.        , 0.        , 0.48979592,\n",
       "        0.        , 0.        ],\n",
       "       [0.        , 0.        , 0.        , 0.        , 0.        ,\n",
       "        0.        , 0.49019608, 0.        , 0.        , 0.        ,\n",
       "        0.        , 0.        , 0.        , 0.50980392, 0.        ,\n",
       "        0.        , 0.        ],\n",
       "       [0.        , 0.        , 0.1       , 0.8       , 0.        ,\n",
       "        0.        , 0.        , 0.        , 0.        , 0.        ,\n",
       "        0.        , 0.        , 0.1       , 0.        , 0.        ,\n",
       "        0.        , 0.        ],\n",
       "       [0.11111111, 0.        , 0.        , 0.11111111, 0.        ,\n",
       "        0.        , 0.        , 0.        , 0.11111111, 0.66666667,\n",
       "        0.        , 0.        , 0.        , 0.        , 0.        ,\n",
       "        0.        , 0.        ]])"
      ]
     },
     "metadata": {},
     "output_type": "display_data"
    },
    {
     "name": "stderr",
     "output_type": "stream",
     "text": [
      "\r",
      " 20%|██████▊                           | 24/120 [18:39:31<63:28:53, 2380.56s/it]"
     ]
    },
    {
     "name": "stdout",
     "output_type": "stream",
     "text": [
      "INFO: Noise Filtering applied\n",
      "INFO: Clusters generated\n",
      "(629891, 5) (359, 5) (359, 5) (359, 5) (359, 6)\n",
      "INFO: 22 clusters generated.\n"
     ]
    },
    {
     "name": "stderr",
     "output_type": "stream",
     "text": [
      "\n",
      "  0%|                                                    | 0/22 [00:00<?, ?it/s]\u001b[A\n",
      "  5%|██                                          | 1/22 [00:09<03:27,  9.87s/it]\u001b[A\n",
      "  9%|████                                        | 2/22 [00:19<03:17,  9.90s/it]\u001b[A\n",
      " 14%|██████                                      | 3/22 [00:29<03:10, 10.02s/it]\u001b[A\n",
      " 18%|████████                                    | 4/22 [00:39<02:59,  9.97s/it]\u001b[A\n",
      " 23%|██████████                                  | 5/22 [00:49<02:48,  9.94s/it]\u001b[A\n",
      " 27%|████████████                                | 6/22 [00:59<02:39,  9.94s/it]\u001b[A\n",
      " 32%|██████████████                              | 7/22 [01:09<02:29,  9.95s/it]\u001b[A\n",
      " 36%|████████████████                            | 8/22 [01:19<02:19,  9.97s/it]\u001b[A\n",
      " 41%|██████████████████                          | 9/22 [01:29<02:10, 10.06s/it]\u001b[A\n",
      " 45%|███████████████████▌                       | 10/22 [01:39<02:00, 10.00s/it]\u001b[A\n",
      " 50%|█████████████████████▌                     | 11/22 [01:49<01:49,  9.97s/it]\u001b[A\n",
      " 55%|███████████████████████▍                   | 12/22 [01:59<01:39,  9.96s/it]\u001b[A\n",
      " 59%|█████████████████████████▍                 | 13/22 [02:09<01:29,  9.95s/it]\u001b[A\n",
      " 64%|███████████████████████████▎               | 14/22 [02:19<01:19,  9.95s/it]\u001b[A\n",
      " 68%|█████████████████████████████▎             | 15/22 [02:29<01:09,  9.89s/it]\u001b[A\n",
      " 73%|███████████████████████████████▎           | 16/22 [02:39<00:59,  9.85s/it]\u001b[A\n",
      " 77%|█████████████████████████████████▏         | 17/22 [02:48<00:49,  9.83s/it]\u001b[A\n",
      " 82%|███████████████████████████████████▏       | 18/22 [02:58<00:39,  9.84s/it]\u001b[A\n",
      " 86%|█████████████████████████████████████▏     | 19/22 [03:08<00:29,  9.82s/it]\u001b[A\n",
      " 91%|███████████████████████████████████████    | 20/22 [03:18<00:19,  9.81s/it]\u001b[A\n",
      " 95%|█████████████████████████████████████████  | 21/22 [03:27<00:09,  9.79s/it]\u001b[A\n",
      "100%|███████████████████████████████████████████| 22/22 [03:37<00:00,  9.90s/it]\u001b[A\n"
     ]
    },
    {
     "data": {
      "text/plain": [
       "array([[0.        , 0.28571429, 0.15037594, 0.15789474, 0.16541353,\n",
       "        0.        , 0.02255639, 0.01503759, 0.0075188 , 0.02255639,\n",
       "        0.0075188 , 0.0075188 , 0.        , 0.        , 0.08270677,\n",
       "        0.0075188 , 0.01503759, 0.03007519, 0.01503759, 0.        ,\n",
       "        0.        , 0.0075188 ],\n",
       "       [0.68627451, 0.        , 0.        , 0.        , 0.        ,\n",
       "        0.        , 0.1372549 , 0.03921569, 0.01960784, 0.        ,\n",
       "        0.        , 0.        , 0.        , 0.03921569, 0.05882353,\n",
       "        0.        , 0.        , 0.01960784, 0.        , 0.        ,\n",
       "        0.        , 0.        ],\n",
       "       [0.69230769, 0.        , 0.        , 0.        , 0.        ,\n",
       "        0.        , 0.        , 0.        , 0.        , 0.        ,\n",
       "        0.        , 0.        , 0.        , 0.        , 0.03846154,\n",
       "        0.11538462, 0.        , 0.15384615, 0.        , 0.        ,\n",
       "        0.        , 0.        ],\n",
       "       [0.46938776, 0.        , 0.        , 0.        , 0.02040816,\n",
       "        0.        , 0.        , 0.26530612, 0.        , 0.02040816,\n",
       "        0.        , 0.02040816, 0.        , 0.        , 0.04081633,\n",
       "        0.        , 0.        , 0.        , 0.06122449, 0.        ,\n",
       "        0.        , 0.10204082],\n",
       "       [0.49090909, 0.01818182, 0.        , 0.01818182, 0.        ,\n",
       "        0.01818182, 0.        , 0.        , 0.        , 0.        ,\n",
       "        0.        , 0.        , 0.        , 0.        , 0.01818182,\n",
       "        0.05454545, 0.29090909, 0.09090909, 0.        , 0.        ,\n",
       "        0.        , 0.        ],\n",
       "       [0.        , 0.        , 0.        , 0.        , 0.        ,\n",
       "        0.        , 0.25      , 0.        , 0.        , 0.        ,\n",
       "        0.        , 0.        , 0.        , 0.        , 0.5       ,\n",
       "        0.        , 0.        , 0.25      , 0.        , 0.        ,\n",
       "        0.        , 0.        ],\n",
       "       [0.08333333, 0.83333333, 0.        , 0.        , 0.        ,\n",
       "        0.        , 0.        , 0.        , 0.        , 0.        ,\n",
       "        0.08333333, 0.        , 0.        , 0.        , 0.        ,\n",
       "        0.        , 0.        , 0.        , 0.        , 0.        ,\n",
       "        0.        , 0.        ],\n",
       "       [0.07142857, 0.        , 0.        , 0.57142857, 0.        ,\n",
       "        0.        , 0.        , 0.        , 0.        , 0.        ,\n",
       "        0.28571429, 0.        , 0.        , 0.07142857, 0.        ,\n",
       "        0.        , 0.        , 0.        , 0.        , 0.        ,\n",
       "        0.        , 0.        ],\n",
       "       [0.        , 0.        , 0.        , 0.        , 0.        ,\n",
       "        0.        , 0.        , 0.        , 0.        , 0.        ,\n",
       "        0.        , 0.        , 0.5       , 0.        , 0.        ,\n",
       "        0.        , 0.        , 0.        , 0.        , 0.5       ,\n",
       "        0.        , 0.        ],\n",
       "       [0.75      , 0.        , 0.        , 0.25      , 0.        ,\n",
       "        0.        , 0.        , 0.        , 0.        , 0.        ,\n",
       "        0.        , 0.        , 0.        , 0.        , 0.        ,\n",
       "        0.        , 0.        , 0.        , 0.        , 0.        ,\n",
       "        0.        , 0.        ],\n",
       "       [0.08333333, 0.        , 0.        , 0.        , 0.        ,\n",
       "        0.        , 0.08333333, 0.66666667, 0.08333333, 0.        ,\n",
       "        0.        , 0.        , 0.        , 0.        , 0.        ,\n",
       "        0.        , 0.        , 0.        , 0.        , 0.        ,\n",
       "        0.        , 0.08333333],\n",
       "       [0.5       , 0.5       , 0.        , 0.        , 0.        ,\n",
       "        0.        , 0.        , 0.        , 0.        , 0.        ,\n",
       "        0.        , 0.        , 0.        , 0.        , 0.        ,\n",
       "        0.        , 0.        , 0.        , 0.        , 0.        ,\n",
       "        0.        , 0.        ],\n",
       "       [0.        , 1.        , 0.        , 0.        , 0.        ,\n",
       "        0.        , 0.        , 0.        , 0.        , 0.        ,\n",
       "        0.        , 0.        , 0.        , 0.        , 0.        ,\n",
       "        0.        , 0.        , 0.        , 0.        , 0.        ,\n",
       "        0.        , 0.        ],\n",
       "       [0.        , 0.        , 0.        , 0.        , 0.        ,\n",
       "        0.        , 0.        , 0.33333333, 0.        , 0.        ,\n",
       "        0.22222222, 0.        , 0.        , 0.        , 0.11111111,\n",
       "        0.        , 0.        , 0.        , 0.        , 0.        ,\n",
       "        0.11111111, 0.22222222],\n",
       "       [0.56521739, 0.        , 0.04347826, 0.17391304, 0.13043478,\n",
       "        0.04347826, 0.        , 0.        , 0.        , 0.        ,\n",
       "        0.        , 0.        , 0.        , 0.        , 0.        ,\n",
       "        0.        , 0.04347826, 0.        , 0.        , 0.        ,\n",
       "        0.        , 0.        ],\n",
       "       [0.        , 0.        , 0.28571429, 0.        , 0.14285714,\n",
       "        0.        , 0.        , 0.        , 0.        , 0.        ,\n",
       "        0.        , 0.        , 0.        , 0.        , 0.        ,\n",
       "        0.        , 0.57142857, 0.        , 0.        , 0.        ,\n",
       "        0.        , 0.        ],\n",
       "       [0.01960784, 0.        , 0.        , 0.        , 0.47058824,\n",
       "        0.        , 0.        , 0.        , 0.        , 0.        ,\n",
       "        0.        , 0.        , 0.        , 0.        , 0.01960784,\n",
       "        0.        , 0.        , 0.49019608, 0.        , 0.        ,\n",
       "        0.        , 0.        ],\n",
       "       [0.05      , 0.        , 0.075     , 0.        , 0.1       ,\n",
       "        0.05      , 0.        , 0.        , 0.        , 0.        ,\n",
       "        0.        , 0.        , 0.        , 0.        , 0.025     ,\n",
       "        0.        , 0.7       , 0.        , 0.        , 0.        ,\n",
       "        0.        , 0.        ],\n",
       "       [0.6       , 0.        , 0.        , 0.        , 0.        ,\n",
       "        0.        , 0.        , 0.        , 0.        , 0.        ,\n",
       "        0.        , 0.        , 0.        , 0.        , 0.        ,\n",
       "        0.        , 0.        , 0.        , 0.        , 0.        ,\n",
       "        0.2       , 0.2       ],\n",
       "       [0.        , 0.        , 0.        , 0.        , 0.        ,\n",
       "        0.        , 0.        , 0.        , 0.        , 0.        ,\n",
       "        0.        , 0.        , 0.        , 0.        , 0.        ,\n",
       "        0.        , 0.        , 0.        , 0.        , 0.        ,\n",
       "        1.        , 0.        ],\n",
       "       [0.25      , 0.        , 0.        , 0.        , 0.        ,\n",
       "        0.        , 0.        , 0.        , 0.        , 0.        ,\n",
       "        0.        , 0.        , 0.        , 0.75      , 0.        ,\n",
       "        0.        , 0.        , 0.        , 0.        , 0.        ,\n",
       "        0.        , 0.        ],\n",
       "       [0.1       , 0.        , 0.        , 0.6       , 0.        ,\n",
       "        0.        , 0.        , 0.        , 0.        , 0.        ,\n",
       "        0.        , 0.        , 0.        , 0.2       , 0.        ,\n",
       "        0.        , 0.        , 0.        , 0.        , 0.        ,\n",
       "        0.1       , 0.        ]])"
      ]
     },
     "metadata": {},
     "output_type": "display_data"
    },
    {
     "name": "stderr",
     "output_type": "stream",
     "text": [
      "\r",
      " 21%|███████                           | 25/120 [18:44:10<46:10:58, 1750.08s/it]"
     ]
    },
    {
     "name": "stdout",
     "output_type": "stream",
     "text": [
      "INFO: Noise Filtering applied\n",
      "INFO: Clusters generated\n",
      "(148411, 5) (34, 5) (34, 5) (34, 5) (34, 6)\n",
      "INFO: 6 clusters generated.\n"
     ]
    },
    {
     "name": "stderr",
     "output_type": "stream",
     "text": [
      "\n",
      "  0%|                                                     | 0/6 [00:00<?, ?it/s]\u001b[A\n",
      " 17%|███████▌                                     | 1/6 [00:02<00:11,  2.36s/it]\u001b[A\n",
      " 33%|███████████████                              | 2/6 [00:04<00:09,  2.34s/it]\u001b[A\n",
      " 50%|██████████████████████▌                      | 3/6 [00:07<00:07,  2.35s/it]\u001b[A\n",
      " 67%|██████████████████████████████               | 4/6 [00:09<00:04,  2.34s/it]\u001b[A\n",
      " 83%|█████████████████████████████████████▌       | 5/6 [00:11<00:02,  2.35s/it]\u001b[A\n",
      "100%|█████████████████████████████████████████████| 6/6 [00:14<00:00,  2.35s/it]\u001b[A\n"
     ]
    },
    {
     "data": {
      "text/plain": [
       "array([[0.        , 0.59090909, 0.04545455, 0.36363636, 0.        ,\n",
       "        0.        ],\n",
       "       [0.84210526, 0.        , 0.10526316, 0.        , 0.        ,\n",
       "        0.05263158],\n",
       "       [0.        , 1.        , 0.        , 0.        , 0.        ,\n",
       "        0.        ],\n",
       "       [0.625     , 0.125     , 0.125     , 0.        , 0.125     ,\n",
       "        0.        ],\n",
       "       [1.        , 0.        , 0.        , 0.        , 0.        ,\n",
       "        0.        ],\n",
       "       [0.        , 1.        , 0.        , 0.        , 0.        ,\n",
       "        0.        ]])"
      ]
     },
     "metadata": {},
     "output_type": "display_data"
    },
    {
     "name": "stderr",
     "output_type": "stream",
     "text": [
      "\r",
      " 22%|███████▎                          | 26/120 [18:44:29<32:08:09, 1230.74s/it]"
     ]
    },
    {
     "name": "stdout",
     "output_type": "stream",
     "text": [
      "INFO: Noise Filtering applied\n",
      "INFO: Clusters generated\n",
      "(123826, 5) (52, 5) (52, 5) (52, 5) (52, 6)\n",
      "INFO: 22 clusters generated.\n"
     ]
    },
    {
     "name": "stderr",
     "output_type": "stream",
     "text": [
      "\n",
      "  0%|                                                    | 0/22 [00:00<?, ?it/s]\u001b[A\n",
      "  5%|██                                          | 1/22 [00:01<00:41,  1.97s/it]\u001b[A\n",
      "  9%|████                                        | 2/22 [00:03<00:39,  1.96s/it]\u001b[A\n",
      " 14%|██████                                      | 3/22 [00:05<00:37,  1.98s/it]\u001b[A\n",
      " 18%|████████                                    | 4/22 [00:07<00:35,  1.98s/it]\u001b[A\n",
      " 23%|██████████                                  | 5/22 [00:10<00:34,  2.04s/it]\u001b[A\n",
      " 27%|████████████                                | 6/22 [00:11<00:31,  2.00s/it]\u001b[A\n",
      " 32%|██████████████                              | 7/22 [00:14<00:30,  2.04s/it]\u001b[A\n",
      " 36%|████████████████                            | 8/22 [00:15<00:27,  1.99s/it]\u001b[A\n",
      " 41%|██████████████████                          | 9/22 [00:17<00:25,  1.98s/it]\u001b[A\n",
      " 45%|███████████████████▌                       | 10/22 [00:20<00:24,  2.02s/it]\u001b[A\n",
      " 50%|█████████████████████▌                     | 11/22 [00:21<00:21,  1.96s/it]\u001b[A\n",
      " 55%|███████████████████████▍                   | 12/22 [00:24<00:20,  2.00s/it]\u001b[A\n",
      " 59%|█████████████████████████▍                 | 13/22 [00:25<00:17,  1.96s/it]\u001b[A\n",
      " 64%|███████████████████████████▎               | 14/22 [00:27<00:15,  1.96s/it]\u001b[A\n",
      " 68%|█████████████████████████████▎             | 15/22 [00:30<00:14,  2.01s/it]\u001b[A\n",
      " 73%|███████████████████████████████▎           | 16/22 [00:31<00:11,  1.97s/it]\u001b[A\n",
      " 77%|█████████████████████████████████▏         | 17/22 [00:33<00:10,  2.00s/it]\u001b[A\n",
      " 82%|███████████████████████████████████▏       | 18/22 [00:35<00:07,  1.96s/it]\u001b[A\n",
      " 86%|█████████████████████████████████████▏     | 19/22 [00:37<00:05,  1.96s/it]\u001b[A\n",
      " 91%|███████████████████████████████████████    | 20/22 [00:39<00:03,  2.00s/it]\u001b[A\n",
      " 95%|█████████████████████████████████████████  | 21/22 [00:41<00:01,  1.95s/it]\u001b[A\n",
      "100%|███████████████████████████████████████████| 22/22 [00:43<00:00,  1.99s/it]\u001b[A\n"
     ]
    },
    {
     "data": {
      "text/plain": [
       "array([[0.        , 0.42307692, 0.        , 0.03846154, 0.        ,\n",
       "        0.        , 0.        , 0.        , 0.        , 0.        ,\n",
       "        0.        , 0.        , 0.        , 0.5       , 0.        ,\n",
       "        0.        , 0.        , 0.        , 0.        , 0.03846154,\n",
       "        0.        ],\n",
       "       [0.84375   , 0.        , 0.        , 0.09375   , 0.        ,\n",
       "        0.03125   , 0.        , 0.        , 0.        , 0.        ,\n",
       "        0.        , 0.03125   , 0.        , 0.        , 0.        ,\n",
       "        0.        , 0.        , 0.        , 0.        , 0.        ,\n",
       "        0.        ],\n",
       "       [0.        , 0.        , 0.        , 0.        , 0.        ,\n",
       "        0.42857143, 0.52380952, 0.        , 0.        , 0.        ,\n",
       "        0.        , 0.02380952, 0.        , 0.        , 0.        ,\n",
       "        0.        , 0.        , 0.        , 0.02380952, 0.        ,\n",
       "        0.        ],\n",
       "       [0.        , 0.28947368, 0.        , 0.        , 0.        ,\n",
       "        0.        , 0.        , 0.        , 0.        , 0.        ,\n",
       "        0.        , 0.71052632, 0.        , 0.        , 0.        ,\n",
       "        0.        , 0.        , 0.        , 0.        , 0.        ,\n",
       "        0.        ],\n",
       "       [0.        , 0.        , 0.        , 0.        , 0.        ,\n",
       "        0.        , 0.        , 0.525     , 0.        , 0.        ,\n",
       "        0.        , 0.        , 0.        , 0.        , 0.475     ,\n",
       "        0.        , 0.        , 0.        , 0.        , 0.        ,\n",
       "        0.        ],\n",
       "       [0.        , 0.        , 0.51219512, 0.        , 0.        ,\n",
       "        0.        , 0.        , 0.48780488, 0.        , 0.        ,\n",
       "        0.        , 0.        , 0.        , 0.        , 0.        ,\n",
       "        0.        , 0.        , 0.        , 0.        , 0.        ,\n",
       "        0.        ],\n",
       "       [0.        , 0.        , 0.41304348, 0.        , 0.        ,\n",
       "        0.02173913, 0.        , 0.04347826, 0.        , 0.        ,\n",
       "        0.        , 0.04347826, 0.45652174, 0.        , 0.        ,\n",
       "        0.        , 0.        , 0.        , 0.02173913, 0.        ,\n",
       "        0.        ],\n",
       "       [0.        , 0.        , 0.        , 0.        , 0.44186047,\n",
       "        0.48837209, 0.        , 0.        , 0.        , 0.04651163,\n",
       "        0.        , 0.        , 0.        , 0.        , 0.        ,\n",
       "        0.02325581, 0.        , 0.        , 0.        , 0.        ,\n",
       "        0.        ],\n",
       "       [0.        , 0.        , 0.2       , 0.        , 0.        ,\n",
       "        0.        , 0.        , 0.        , 0.        , 0.        ,\n",
       "        0.4       , 0.2       , 0.        , 0.        , 0.        ,\n",
       "        0.        , 0.        , 0.        , 0.        , 0.2       ,\n",
       "        0.        ],\n",
       "       [0.        , 0.        , 0.        , 0.        , 0.        ,\n",
       "        0.        , 0.        , 0.        , 0.06818182, 0.        ,\n",
       "        0.        , 0.45454545, 0.        , 0.        , 0.        ,\n",
       "        0.47727273, 0.        , 0.        , 0.        , 0.        ,\n",
       "        0.        ],\n",
       "       [0.        , 0.        , 0.2       , 0.        , 0.        ,\n",
       "        0.        , 0.        , 0.        , 0.4       , 0.        ,\n",
       "        0.        , 0.        , 0.        , 0.        , 0.        ,\n",
       "        0.        , 0.        , 0.        , 0.        , 0.4       ,\n",
       "        0.        ],\n",
       "       [0.        , 0.        , 0.        , 0.56140351, 0.        ,\n",
       "        0.        , 0.        , 0.        , 0.        , 0.40350877,\n",
       "        0.        , 0.        , 0.        , 0.        , 0.        ,\n",
       "        0.        , 0.        , 0.03508772, 0.        , 0.        ,\n",
       "        0.        ],\n",
       "       [0.        , 0.        , 0.        , 0.        , 0.        ,\n",
       "        0.        , 0.5       , 0.        , 0.        , 0.        ,\n",
       "        0.        , 0.02083333, 0.        , 0.45833333, 0.        ,\n",
       "        0.        , 0.        , 0.        , 0.02083333, 0.        ,\n",
       "        0.        ],\n",
       "       [0.45833333, 0.        , 0.        , 0.        , 0.        ,\n",
       "        0.        , 0.        , 0.        , 0.        , 0.        ,\n",
       "        0.        , 0.        , 0.54166667, 0.        , 0.        ,\n",
       "        0.        , 0.        , 0.        , 0.        , 0.        ,\n",
       "        0.        ],\n",
       "       [0.        , 0.        , 0.        , 0.        , 0.525     ,\n",
       "        0.        , 0.        , 0.        , 0.        , 0.        ,\n",
       "        0.        , 0.        , 0.        , 0.        , 0.        ,\n",
       "        0.475     , 0.        , 0.        , 0.        , 0.        ,\n",
       "        0.        ],\n",
       "       [0.        , 0.        , 0.        , 0.        , 0.        ,\n",
       "        0.        , 0.        , 0.        , 0.        , 0.46341463,\n",
       "        0.        , 0.02439024, 0.        , 0.        , 0.51219512,\n",
       "        0.        , 0.        , 0.        , 0.        , 0.        ,\n",
       "        0.        ],\n",
       "       [0.        , 0.        , 0.        , 0.        , 0.        ,\n",
       "        0.        , 0.        , 0.        , 0.        , 0.        ,\n",
       "        0.        , 0.        , 0.        , 0.        , 0.        ,\n",
       "        0.        , 0.        , 0.6       , 0.4       , 0.        ,\n",
       "        0.        ],\n",
       "       [0.        , 0.        , 0.        , 0.        , 0.        ,\n",
       "        0.        , 0.        , 0.        , 0.        , 0.        ,\n",
       "        0.        , 0.6       , 0.        , 0.        , 0.        ,\n",
       "        0.        , 0.4       , 0.        , 0.        , 0.        ,\n",
       "        0.        ],\n",
       "       [0.        , 0.        , 0.        , 0.2       , 0.        ,\n",
       "        0.        , 0.        , 0.        , 0.        , 0.        ,\n",
       "        0.        , 0.        , 0.2       , 0.        , 0.        ,\n",
       "        0.        , 0.6       , 0.        , 0.        , 0.        ,\n",
       "        0.        ],\n",
       "       [0.6       , 0.        , 0.        , 0.        , 0.        ,\n",
       "        0.        , 0.        , 0.        , 0.        , 0.        ,\n",
       "        0.4       , 0.        , 0.        , 0.        , 0.        ,\n",
       "        0.        , 0.        , 0.        , 0.        , 0.        ,\n",
       "        0.        ],\n",
       "       [0.        , 0.        , 0.        , 0.        , 0.        ,\n",
       "        0.        , 0.        , 0.        , 0.        , 0.        ,\n",
       "        1.        , 0.        , 0.        , 0.        , 0.        ,\n",
       "        0.        , 0.        , 0.        , 0.        , 0.        ,\n",
       "        0.        ],\n",
       "       [0.        , 0.        , 0.        , 0.        , 0.        ,\n",
       "        0.        , 0.        , 0.        , 0.        , 0.        ,\n",
       "        0.        , 0.        , 0.        , 0.        , 0.        ,\n",
       "        0.        , 0.        , 0.        , 0.        , 0.        ,\n",
       "        1.        ]])"
      ]
     },
     "metadata": {},
     "output_type": "display_data"
    },
    {
     "name": "stderr",
     "output_type": "stream",
     "text": [
      "\r",
      " 22%|███████▉                           | 27/120 [18:45:17<22:37:36, 875.88s/it]"
     ]
    },
    {
     "name": "stdout",
     "output_type": "stream",
     "text": [
      "INFO: Noise Filtering applied\n",
      "INFO: Clusters generated\n",
      "(83844, 5) (40, 5) (40, 5) (40, 5) (40, 6)\n",
      "INFO: 16 clusters generated.\n"
     ]
    },
    {
     "name": "stderr",
     "output_type": "stream",
     "text": [
      "\n",
      "  0%|                                                    | 0/16 [00:00<?, ?it/s]\u001b[A\n",
      "  6%|██▊                                         | 1/16 [00:01<00:20,  1.35s/it]\u001b[A\n",
      " 12%|█████▌                                      | 2/16 [00:02<00:18,  1.29s/it]\u001b[A\n",
      " 19%|████████▎                                   | 3/16 [00:03<00:17,  1.32s/it]\u001b[A\n",
      " 25%|███████████                                 | 4/16 [00:05<00:16,  1.35s/it]\u001b[A\n",
      " 31%|█████████████▊                              | 5/16 [00:06<00:14,  1.35s/it]\u001b[A\n",
      " 38%|████████████████▌                           | 6/16 [00:07<00:13,  1.32s/it]\u001b[A\n",
      " 44%|███████████████████▎                        | 7/16 [00:09<00:12,  1.33s/it]\u001b[A\n",
      " 50%|██████████████████████                      | 8/16 [00:10<00:10,  1.35s/it]\u001b[A\n",
      " 56%|████████████████████████▊                   | 9/16 [00:11<00:09,  1.32s/it]\u001b[A\n",
      " 62%|██████████████████████████▉                | 10/16 [00:13<00:08,  1.33s/it]\u001b[A\n",
      " 69%|█████████████████████████████▌             | 11/16 [00:14<00:06,  1.36s/it]\u001b[A\n",
      " 75%|████████████████████████████████▎          | 12/16 [00:16<00:05,  1.34s/it]\u001b[A\n",
      " 81%|██████████████████████████████████▉        | 13/16 [00:17<00:04,  1.36s/it]\u001b[A\n",
      " 88%|█████████████████████████████████████▋     | 14/16 [00:18<00:02,  1.34s/it]\u001b[A\n",
      " 94%|████████████████████████████████████████▎  | 15/16 [00:20<00:01,  1.35s/it]\u001b[A\n",
      "100%|███████████████████████████████████████████| 16/16 [00:21<00:00,  1.34s/it]\u001b[A\n"
     ]
    },
    {
     "data": {
      "text/plain": [
       "array([[0.        , 0.30434783, 0.52173913, 0.        , 0.        ,\n",
       "        0.        , 0.04347826, 0.        , 0.        , 0.        ,\n",
       "        0.        , 0.        , 0.08695652, 0.        , 0.04347826],\n",
       "       [0.        , 0.        , 0.38888889, 0.02777778, 0.        ,\n",
       "        0.58333333, 0.        , 0.        , 0.        , 0.        ,\n",
       "        0.        , 0.        , 0.        , 0.        , 0.        ],\n",
       "       [0.51851852, 0.48148148, 0.        , 0.        , 0.        ,\n",
       "        0.        , 0.        , 0.        , 0.        , 0.        ,\n",
       "        0.        , 0.        , 0.        , 0.        , 0.        ],\n",
       "       [0.        , 1.        , 0.        , 0.        , 0.        ,\n",
       "        0.        , 0.        , 0.        , 0.        , 0.        ,\n",
       "        0.        , 0.        , 0.        , 0.        , 0.        ],\n",
       "       [0.        , 0.        , 0.        , 0.37142857, 0.        ,\n",
       "        0.05714286, 0.        , 0.57142857, 0.        , 0.        ,\n",
       "        0.        , 0.        , 0.        , 0.        , 0.        ],\n",
       "       [0.08333333, 0.        , 0.        , 0.04166667, 0.83333333,\n",
       "        0.        , 0.        , 0.        , 0.        , 0.04166667,\n",
       "        0.        , 0.        , 0.        , 0.        , 0.        ],\n",
       "       [0.        , 0.        , 0.        , 0.        , 0.        ,\n",
       "        0.        , 0.        , 0.        , 0.        , 0.        ,\n",
       "        0.        , 0.        , 0.        , 1.        , 0.        ],\n",
       "       [0.        , 0.        , 0.        , 0.        , 0.42857143,\n",
       "        0.        , 0.        , 0.        , 0.        , 0.57142857,\n",
       "        0.        , 0.        , 0.        , 0.        , 0.        ],\n",
       "       [0.        , 0.        , 0.        , 0.        , 0.        ,\n",
       "        0.        , 0.        , 0.        , 0.        , 1.        ,\n",
       "        0.        , 0.        , 0.        , 0.        , 0.        ],\n",
       "       [0.        , 0.        , 0.        , 0.        , 0.        ,\n",
       "        0.        , 0.        , 0.41666667, 0.        , 0.        ,\n",
       "        0.        , 0.58333333, 0.        , 0.        , 0.        ],\n",
       "       [0.        , 0.        , 0.        , 0.        , 0.        ,\n",
       "        0.        , 0.        , 0.        , 0.        , 0.        ,\n",
       "        0.        , 0.38235294, 0.61764706, 0.        , 0.        ],\n",
       "       [0.        , 0.        , 0.        , 0.        , 0.        ,\n",
       "        0.        , 0.        , 0.        , 0.        , 0.38235294,\n",
       "        0.61764706, 0.        , 0.        , 0.        , 0.        ],\n",
       "       [0.2173913 , 0.04347826, 0.04347826, 0.        , 0.        ,\n",
       "        0.04347826, 0.        , 0.        , 0.08695652, 0.        ,\n",
       "        0.56521739, 0.        , 0.        , 0.        , 0.        ],\n",
       "       [1.        , 0.        , 0.        , 0.        , 0.        ,\n",
       "        0.        , 0.        , 0.        , 0.        , 0.        ,\n",
       "        0.        , 0.        , 0.        , 0.        , 0.        ],\n",
       "       [0.        , 0.        , 0.        , 0.        , 0.        ,\n",
       "        0.        , 1.        , 0.        , 0.        , 0.        ,\n",
       "        0.        , 0.        , 0.        , 0.        , 0.        ],\n",
       "       [1.        , 0.        , 0.        , 0.        , 0.        ,\n",
       "        0.        , 0.        , 0.        , 0.        , 0.        ,\n",
       "        0.        , 0.        , 0.        , 0.        , 0.        ]])"
      ]
     },
     "metadata": {},
     "output_type": "display_data"
    },
    {
     "name": "stderr",
     "output_type": "stream",
     "text": [
      "\r",
      " 23%|████████▏                          | 28/120 [18:45:41<15:51:06, 620.29s/it]"
     ]
    },
    {
     "name": "stdout",
     "output_type": "stream",
     "text": [
      "INFO: Noise Filtering applied\n",
      "INFO: Clusters generated\n",
      "(615940, 5) (534, 5) (534, 5) (534, 5) (534, 6)\n",
      "INFO: 11 clusters generated.\n"
     ]
    },
    {
     "name": "stderr",
     "output_type": "stream",
     "text": [
      "\n",
      "  0%|                                                    | 0/11 [00:00<?, ?it/s]\u001b[A\n",
      "  9%|████                                        | 1/11 [00:09<01:35,  9.57s/it]\u001b[A\n",
      " 18%|████████                                    | 2/11 [00:19<01:27,  9.70s/it]\u001b[A\n",
      " 27%|████████████                                | 3/11 [00:28<01:17,  9.65s/it]\u001b[A\n",
      " 36%|████████████████                            | 4/11 [00:38<01:07,  9.67s/it]\u001b[A\n",
      " 45%|████████████████████                        | 5/11 [00:48<00:57,  9.66s/it]\u001b[A\n",
      " 55%|████████████████████████                    | 6/11 [00:57<00:48,  9.63s/it]\u001b[A\n",
      " 64%|████████████████████████████                | 7/11 [01:07<00:38,  9.65s/it]\u001b[A\n",
      " 73%|████████████████████████████████            | 8/11 [01:17<00:29,  9.68s/it]\u001b[A\n",
      " 82%|████████████████████████████████████        | 9/11 [01:26<00:19,  9.63s/it]\u001b[A\n",
      " 91%|███████████████████████████████████████    | 10/11 [01:36<00:09,  9.65s/it]\u001b[A\n",
      "100%|███████████████████████████████████████████| 11/11 [01:46<00:00,  9.65s/it]\u001b[A\n"
     ]
    },
    {
     "data": {
      "text/plain": [
       "array([[0.        , 0.39655172, 0.10344828, 0.01724138, 0.01724138,\n",
       "        0.05172414, 0.01724138, 0.25862069, 0.12068966, 0.01724138,\n",
       "        0.        ],\n",
       "       [0.4047619 , 0.        , 0.        , 0.        , 0.02380952,\n",
       "        0.        , 0.16666667, 0.        , 0.02380952, 0.38095238,\n",
       "        0.        ],\n",
       "       [0.875     , 0.        , 0.        , 0.        , 0.        ,\n",
       "        0.        , 0.        , 0.125     , 0.        , 0.        ,\n",
       "        0.        ],\n",
       "       [0.18181818, 0.        , 0.        , 0.        , 0.        ,\n",
       "        0.        , 0.63636364, 0.        , 0.        , 0.18181818,\n",
       "        0.        ],\n",
       "       [0.66666667, 0.33333333, 0.        , 0.        , 0.        ,\n",
       "        0.        , 0.        , 0.        , 0.        , 0.        ,\n",
       "        0.        ],\n",
       "       [0.17647059, 0.35294118, 0.        , 0.        , 0.35294118,\n",
       "        0.        , 0.        , 0.        , 0.11764706, 0.        ,\n",
       "        0.        ],\n",
       "       [0.63157895, 0.        , 0.10526316, 0.        , 0.        ,\n",
       "        0.        , 0.        , 0.        , 0.21052632, 0.05263158,\n",
       "        0.        ],\n",
       "       [0.57142857, 0.        , 0.        , 0.        , 0.        ,\n",
       "        0.        , 0.14285714, 0.21428571, 0.        , 0.07142857,\n",
       "        0.        ],\n",
       "       [0.27272727, 0.54545455, 0.        , 0.        , 0.13636364,\n",
       "        0.        , 0.        , 0.        , 0.        , 0.        ,\n",
       "        0.04545455],\n",
       "       [0.        , 0.        , 0.        , 0.        , 0.        ,\n",
       "        0.        , 0.        , 0.        , 0.        , 1.        ,\n",
       "        0.        ]])"
      ]
     },
     "metadata": {},
     "output_type": "display_data"
    },
    {
     "name": "stderr",
     "output_type": "stream",
     "text": [
      "\r",
      " 24%|████████▍                          | 29/120 [18:48:20<12:10:48, 481.86s/it]"
     ]
    },
    {
     "name": "stdout",
     "output_type": "stream",
     "text": [
      "INFO: Noise Filtering applied\n",
      "INFO: Clusters generated\n",
      "(26468, 5) (75, 5) (75, 5) (75, 5) (75, 6)\n",
      "INFO: 6 clusters generated.\n"
     ]
    },
    {
     "name": "stderr",
     "output_type": "stream",
     "text": [
      "\n",
      "  0%|                                                     | 0/6 [00:00<?, ?it/s]\u001b[A\n",
      " 17%|███████▌                                     | 1/6 [00:00<00:02,  2.46it/s]\u001b[A\n",
      " 33%|███████████████                              | 2/6 [00:00<00:01,  2.50it/s]\u001b[A\n",
      " 50%|██████████████████████▌                      | 3/6 [00:01<00:01,  2.48it/s]\u001b[A\n",
      " 67%|██████████████████████████████               | 4/6 [00:01<00:00,  2.48it/s]\u001b[A\n",
      " 83%|█████████████████████████████████████▌       | 5/6 [00:02<00:00,  2.49it/s]\u001b[A\n",
      "100%|█████████████████████████████████████████████| 6/6 [00:02<00:00,  2.48it/s]\u001b[A\n"
     ]
    },
    {
     "data": {
      "text/plain": [
       "array([[0.        , 0.33333333, 0.5       , 0.        , 0.        ,\n",
       "        0.16666667],\n",
       "       [0.42857143, 0.        , 0.57142857, 0.        , 0.        ,\n",
       "        0.        ],\n",
       "       [0.42857143, 0.57142857, 0.        , 0.        , 0.        ,\n",
       "        0.        ],\n",
       "       [0.        , 0.        , 0.        , 0.        , 0.        ,\n",
       "        1.        ],\n",
       "       [0.        , 0.        , 0.        , 0.5       , 0.5       ,\n",
       "        0.        ]])"
      ]
     },
     "metadata": {},
     "output_type": "display_data"
    },
    {
     "name": "stderr",
     "output_type": "stream",
     "text": [
      "\r",
      " 25%|█████████                           | 30/120 [18:48:23<8:27:19, 338.21s/it]"
     ]
    },
    {
     "name": "stdout",
     "output_type": "stream",
     "text": [
      "INFO: Noise Filtering applied\n",
      "INFO: Clusters generated\n",
      "(69973, 5) (116, 5) (116, 5) (116, 5) (116, 6)\n",
      "INFO: 6 clusters generated.\n"
     ]
    },
    {
     "name": "stderr",
     "output_type": "stream",
     "text": [
      "\n",
      "  0%|                                                     | 0/6 [00:00<?, ?it/s]\u001b[A\n",
      " 17%|███████▌                                     | 1/6 [00:01<00:05,  1.07s/it]\u001b[A\n",
      " 33%|███████████████                              | 2/6 [00:02<00:04,  1.14s/it]\u001b[A\n",
      " 50%|██████████████████████▌                      | 3/6 [00:03<00:03,  1.10s/it]\u001b[A\n",
      " 67%|██████████████████████████████               | 4/6 [00:04<00:02,  1.12s/it]\u001b[A\n",
      " 83%|█████████████████████████████████████▌       | 5/6 [00:05<00:01,  1.10s/it]\u001b[A\n",
      "100%|█████████████████████████████████████████████| 6/6 [00:06<00:00,  1.11s/it]\u001b[A\n"
     ]
    },
    {
     "data": {
      "text/plain": [
       "array([[0.        , 0.        , 0.33333333, 0.        , 0.        ,\n",
       "        0.66666667],\n",
       "       [0.5       , 0.        , 0.        , 0.        , 0.        ,\n",
       "        0.5       ],\n",
       "       [0.        , 0.        , 0.        , 0.5       , 0.5       ,\n",
       "        0.        ],\n",
       "       [0.        , 0.        , 1.        , 0.        , 0.        ,\n",
       "        0.        ],\n",
       "       [0.33333333, 0.66666667, 0.        , 0.        , 0.        ,\n",
       "        0.        ]])"
      ]
     },
     "metadata": {},
     "output_type": "display_data"
    },
    {
     "name": "stderr",
     "output_type": "stream",
     "text": [
      "\r",
      " 26%|█████████▎                          | 31/120 [18:48:32<5:55:00, 239.33s/it]"
     ]
    },
    {
     "name": "stdout",
     "output_type": "stream",
     "text": [
      "INFO: Noise Filtering applied\n",
      "INFO: Clusters generated\n",
      "(166667, 5) (139, 5) (139, 5) (139, 5) (139, 6)\n",
      "INFO: 20 clusters generated.\n"
     ]
    },
    {
     "name": "stderr",
     "output_type": "stream",
     "text": [
      "\n",
      "  0%|                                                    | 0/20 [00:00<?, ?it/s]\u001b[A\n",
      "  5%|██▏                                         | 1/20 [00:02<00:51,  2.70s/it]\u001b[A\n",
      " 10%|████▍                                       | 2/20 [00:05<00:47,  2.65s/it]\u001b[A\n",
      " 15%|██████▌                                     | 3/20 [00:07<00:44,  2.64s/it]\u001b[A\n",
      " 20%|████████▊                                   | 4/20 [00:10<00:41,  2.62s/it]\u001b[A\n",
      " 25%|███████████                                 | 5/20 [00:13<00:40,  2.67s/it]\u001b[A\n",
      " 30%|█████████████▏                              | 6/20 [00:15<00:37,  2.65s/it]\u001b[A\n",
      " 35%|███████████████▍                            | 7/20 [00:18<00:34,  2.63s/it]\u001b[A\n",
      " 40%|█████████████████▌                          | 8/20 [00:21<00:31,  2.63s/it]\u001b[A\n",
      " 45%|███████████████████▊                        | 9/20 [00:23<00:29,  2.65s/it]\u001b[A\n",
      " 50%|█████████████████████▌                     | 10/20 [00:26<00:26,  2.64s/it]\u001b[A\n",
      " 55%|███████████████████████▋                   | 11/20 [00:29<00:23,  2.62s/it]\u001b[A\n",
      " 60%|█████████████████████████▊                 | 12/20 [00:31<00:21,  2.63s/it]\u001b[A\n",
      " 65%|███████████████████████████▉               | 13/20 [00:34<00:18,  2.65s/it]\u001b[A\n",
      " 70%|██████████████████████████████             | 14/20 [00:36<00:15,  2.65s/it]\u001b[A\n",
      " 75%|████████████████████████████████▎          | 15/20 [00:39<00:13,  2.63s/it]\u001b[A\n",
      " 80%|██████████████████████████████████▍        | 16/20 [00:42<00:10,  2.67s/it]\u001b[A\n",
      " 85%|████████████████████████████████████▌      | 17/20 [00:45<00:08,  2.67s/it]\u001b[A\n",
      " 90%|██████████████████████████████████████▋    | 18/20 [00:47<00:05,  2.68s/it]\u001b[A\n",
      " 95%|████████████████████████████████████████▊  | 19/20 [00:50<00:02,  2.67s/it]\u001b[A\n",
      "100%|███████████████████████████████████████████| 20/20 [00:53<00:00,  2.66s/it]\u001b[A\n"
     ]
    },
    {
     "data": {
      "text/plain": [
       "array([[0.        , 0.        , 0.        , 0.02325581, 0.3255814 ,\n",
       "        0.1627907 , 0.        , 0.        , 0.        , 0.        ,\n",
       "        0.        , 0.        , 0.11627907, 0.11627907, 0.02325581,\n",
       "        0.18604651, 0.02325581, 0.        , 0.        , 0.02325581],\n",
       "       [0.        , 0.        , 0.4       , 0.        , 0.        ,\n",
       "        0.        , 0.        , 0.3       , 0.1       , 0.1       ,\n",
       "        0.1       , 0.        , 0.        , 0.        , 0.        ,\n",
       "        0.        , 0.        , 0.        , 0.        , 0.        ],\n",
       "       [0.        , 0.5       , 0.        , 0.        , 0.        ,\n",
       "        0.        , 0.2       , 0.        , 0.        , 0.1       ,\n",
       "        0.        , 0.        , 0.        , 0.1       , 0.        ,\n",
       "        0.1       , 0.        , 0.        , 0.        , 0.        ],\n",
       "       [0.        , 0.5       , 0.        , 0.        , 0.        ,\n",
       "        0.        , 0.        , 0.        , 0.        , 0.        ,\n",
       "        0.        , 0.5       , 0.        , 0.        , 0.        ,\n",
       "        0.        , 0.        , 0.        , 0.        , 0.        ],\n",
       "       [0.53846154, 0.        , 0.        , 0.        , 0.        ,\n",
       "        0.07692308, 0.02564103, 0.        , 0.        , 0.        ,\n",
       "        0.        , 0.        , 0.07692308, 0.07692308, 0.02564103,\n",
       "        0.        , 0.07692308, 0.02564103, 0.02564103, 0.05128205],\n",
       "       [0.15384615, 0.        , 0.        , 0.        , 0.69230769,\n",
       "        0.        , 0.        , 0.        , 0.        , 0.        ,\n",
       "        0.        , 0.        , 0.        , 0.        , 0.        ,\n",
       "        0.        , 0.        , 0.        , 0.07692308, 0.07692308],\n",
       "       [0.        , 0.        , 0.4       , 0.        , 0.6       ,\n",
       "        0.        , 0.        , 0.        , 0.        , 0.        ,\n",
       "        0.        , 0.        , 0.        , 0.        , 0.        ,\n",
       "        0.        , 0.        , 0.        , 0.        , 0.        ],\n",
       "       [0.        , 0.2       , 0.2       , 0.        , 0.        ,\n",
       "        0.        , 0.2       , 0.        , 0.4       , 0.        ,\n",
       "        0.        , 0.        , 0.        , 0.        , 0.        ,\n",
       "        0.        , 0.        , 0.        , 0.        , 0.        ],\n",
       "       [0.        , 0.33333333, 0.        , 0.        , 0.        ,\n",
       "        0.        , 0.        , 0.66666667, 0.        , 0.        ,\n",
       "        0.        , 0.        , 0.        , 0.        , 0.        ,\n",
       "        0.        , 0.        , 0.        , 0.        , 0.        ],\n",
       "       [0.        , 0.5       , 0.5       , 0.        , 0.        ,\n",
       "        0.        , 0.        , 0.        , 0.        , 0.        ,\n",
       "        0.        , 0.        , 0.        , 0.        , 0.        ,\n",
       "        0.        , 0.        , 0.        , 0.        , 0.        ],\n",
       "       [0.        , 1.        , 0.        , 0.        , 0.        ,\n",
       "        0.        , 0.        , 0.        , 0.        , 0.        ,\n",
       "        0.        , 0.        , 0.        , 0.        , 0.        ,\n",
       "        0.        , 0.        , 0.        , 0.        , 0.        ],\n",
       "       [0.        , 0.        , 0.        , 0.5       , 0.5       ,\n",
       "        0.        , 0.        , 0.        , 0.        , 0.        ,\n",
       "        0.        , 0.        , 0.        , 0.        , 0.        ,\n",
       "        0.        , 0.        , 0.        , 0.        , 0.        ],\n",
       "       [0.69230769, 0.        , 0.        , 0.        , 0.15384615,\n",
       "        0.        , 0.        , 0.        , 0.        , 0.        ,\n",
       "        0.        , 0.        , 0.        , 0.        , 0.        ,\n",
       "        0.07692308, 0.07692308, 0.        , 0.        , 0.        ],\n",
       "       [0.2       , 0.        , 0.        , 0.        , 0.3       ,\n",
       "        0.        , 0.1       , 0.        , 0.        , 0.        ,\n",
       "        0.        , 0.        , 0.3       , 0.        , 0.        ,\n",
       "        0.        , 0.        , 0.1       , 0.        , 0.        ],\n",
       "       [0.33333333, 0.        , 0.        , 0.        , 0.33333333,\n",
       "        0.33333333, 0.        , 0.        , 0.        , 0.        ,\n",
       "        0.        , 0.        , 0.        , 0.        , 0.        ,\n",
       "        0.        , 0.        , 0.        , 0.        , 0.        ],\n",
       "       [0.26666667, 0.        , 0.06666667, 0.        , 0.06666667,\n",
       "        0.        , 0.        , 0.        , 0.        , 0.        ,\n",
       "        0.        , 0.        , 0.        , 0.        , 0.06666667,\n",
       "        0.        , 0.        , 0.        , 0.        , 0.53333333],\n",
       "       [0.2       , 0.        , 0.        , 0.        , 0.        ,\n",
       "        0.4       , 0.        , 0.        , 0.        , 0.        ,\n",
       "        0.        , 0.        , 0.2       , 0.2       , 0.        ,\n",
       "        0.        , 0.        , 0.        , 0.        , 0.        ],\n",
       "       [0.5       , 0.        , 0.        , 0.        , 0.        ,\n",
       "        0.        , 0.        , 0.        , 0.        , 0.        ,\n",
       "        0.        , 0.        , 0.5       , 0.        , 0.        ,\n",
       "        0.        , 0.        , 0.        , 0.        , 0.        ],\n",
       "       [0.33333333, 0.        , 0.33333333, 0.        , 0.        ,\n",
       "        0.        , 0.        , 0.        , 0.        , 0.        ,\n",
       "        0.        , 0.        , 0.        , 0.        , 0.        ,\n",
       "        0.33333333, 0.        , 0.        , 0.        , 0.        ],\n",
       "       [0.        , 0.        , 0.        , 0.        , 0.41666667,\n",
       "        0.        , 0.08333333, 0.        , 0.        , 0.        ,\n",
       "        0.        , 0.08333333, 0.        , 0.        , 0.        ,\n",
       "        0.33333333, 0.        , 0.        , 0.08333333, 0.        ]])"
      ]
     },
     "metadata": {},
     "output_type": "display_data"
    },
    {
     "name": "stderr",
     "output_type": "stream",
     "text": [
      "\r",
      " 27%|█████████▌                          | 32/120 [18:49:31<4:31:40, 185.23s/it]"
     ]
    },
    {
     "name": "stdout",
     "output_type": "stream",
     "text": [
      "INFO: Noise Filtering applied\n",
      "INFO: Clusters generated\n",
      "(312042, 5) (2736, 5) (2736, 5) (2736, 5) (2736, 6)\n",
      "INFO: 5 clusters generated.\n"
     ]
    },
    {
     "name": "stderr",
     "output_type": "stream",
     "text": [
      "\n",
      "  0%|                                                     | 0/5 [00:00<?, ?it/s]\u001b[A\n",
      " 20%|█████████                                    | 1/5 [00:04<00:19,  4.90s/it]\u001b[A\n",
      " 40%|██████████████████                           | 2/5 [00:09<00:14,  4.91s/it]\u001b[A\n",
      " 60%|███████████████████████████                  | 3/5 [00:14<00:09,  4.92s/it]\u001b[A\n",
      " 80%|████████████████████████████████████         | 4/5 [00:19<00:04,  4.93s/it]\u001b[A\n",
      "100%|█████████████████████████████████████████████| 5/5 [00:24<00:00,  4.93s/it]\u001b[A\n"
     ]
    },
    {
     "data": {
      "text/plain": [
       "array([[0.        , 0.14102564, 0.53846154, 0.        , 0.32051282],\n",
       "       [0.74285714, 0.        , 0.05714286, 0.18571429, 0.01428571],\n",
       "       [0.01694915, 0.88135593, 0.        , 0.10169492, 0.        ],\n",
       "       [0.        , 0.31578947, 0.68421053, 0.        , 0.        ],\n",
       "       [0.96      , 0.04      , 0.        , 0.        , 0.        ]])"
      ]
     },
     "metadata": {},
     "output_type": "display_data"
    },
    {
     "name": "stderr",
     "output_type": "stream",
     "text": [
      "\r",
      " 28%|█████████▉                          | 33/120 [18:50:11<3:25:43, 141.88s/it]"
     ]
    },
    {
     "name": "stdout",
     "output_type": "stream",
     "text": [
      "INFO: Noise Filtering applied\n",
      "INFO: Clusters generated\n",
      "(251967, 5) (5, 5) (5, 5) (5, 5) (5, 6)\n",
      "INFO: 3 clusters generated.\n"
     ]
    },
    {
     "name": "stderr",
     "output_type": "stream",
     "text": [
      "\n",
      "  0%|                                                     | 0/3 [00:00<?, ?it/s]\u001b[A\n",
      " 33%|███████████████                              | 1/3 [00:04<00:08,  4.02s/it]\u001b[A\n",
      " 67%|██████████████████████████████               | 2/3 [00:08<00:04,  4.07s/it]\u001b[A\n",
      "100%|█████████████████████████████████████████████| 3/3 [00:12<00:00,  4.02s/it]\u001b[A\n"
     ]
    },
    {
     "data": {
      "text/plain": [
       "array([[0., 1.],\n",
       "       [1., 0.]])"
      ]
     },
     "metadata": {},
     "output_type": "display_data"
    },
    {
     "name": "stderr",
     "output_type": "stream",
     "text": [
      "\r",
      " 28%|██████████▏                         | 34/120 [18:50:34<2:32:12, 106.20s/it]"
     ]
    },
    {
     "name": "stdout",
     "output_type": "stream",
     "text": [
      "INFO: Noise Filtering applied\n",
      "INFO: Clusters generated\n",
      "(191324, 5) (308, 5) (308, 5) (308, 5) (308, 6)\n",
      "INFO: 18 clusters generated.\n"
     ]
    },
    {
     "name": "stderr",
     "output_type": "stream",
     "text": [
      "\n",
      "  0%|                                                    | 0/18 [00:00<?, ?it/s]\u001b[A\n",
      "  6%|██▍                                         | 1/18 [00:03<00:53,  3.15s/it]\u001b[A\n",
      " 11%|████▉                                       | 2/18 [00:06<00:49,  3.07s/it]\u001b[A\n",
      " 17%|███████▎                                    | 3/18 [00:09<00:45,  3.04s/it]\u001b[A\n",
      " 22%|█████████▊                                  | 4/18 [00:12<00:42,  3.04s/it]\u001b[A\n",
      " 28%|████████████▏                               | 5/18 [00:15<00:39,  3.02s/it]\u001b[A\n",
      " 33%|██████████████▋                             | 6/18 [00:18<00:36,  3.07s/it]\u001b[A\n",
      " 39%|█████████████████                           | 7/18 [00:21<00:33,  3.06s/it]\u001b[A\n",
      " 44%|███████████████████▌                        | 8/18 [00:24<00:30,  3.04s/it]\u001b[A\n",
      " 50%|██████████████████████                      | 9/18 [00:27<00:27,  3.02s/it]\u001b[A\n",
      " 56%|███████████████████████▉                   | 10/18 [00:30<00:24,  3.05s/it]\u001b[A\n",
      " 61%|██████████████████████████▎                | 11/18 [00:33<00:21,  3.07s/it]\u001b[A\n",
      " 67%|████████████████████████████▋              | 12/18 [00:36<00:18,  3.07s/it]\u001b[A\n",
      " 72%|███████████████████████████████            | 13/18 [00:39<00:15,  3.07s/it]\u001b[A\n",
      " 78%|█████████████████████████████████▍         | 14/18 [00:42<00:12,  3.06s/it]\u001b[A\n",
      " 83%|███████████████████████████████████▊       | 15/18 [00:45<00:09,  3.08s/it]\u001b[A\n",
      " 89%|██████████████████████████████████████▏    | 16/18 [00:48<00:06,  3.05s/it]\u001b[A\n",
      " 94%|████████████████████████████████████████▌  | 17/18 [00:51<00:03,  3.04s/it]\u001b[A\n",
      "100%|███████████████████████████████████████████| 18/18 [00:55<00:00,  3.06s/it]\u001b[A\n"
     ]
    },
    {
     "data": {
      "text/plain": [
       "array([[0.        , 0.29032258, 0.        , 0.35483871, 0.        ,\n",
       "        0.        , 0.        , 0.03225806, 0.16129032, 0.12903226,\n",
       "        0.        , 0.        , 0.        , 0.        , 0.        ,\n",
       "        0.        , 0.        , 0.03225806],\n",
       "       [0.10204082, 0.        , 0.        , 0.08163265, 0.        ,\n",
       "        0.02040816, 0.        , 0.        , 0.28571429, 0.24489796,\n",
       "        0.        , 0.        , 0.        , 0.04081633, 0.        ,\n",
       "        0.02040816, 0.04081633, 0.16326531],\n",
       "       [0.        , 0.        , 0.        , 0.        , 0.125     ,\n",
       "        0.        , 0.375     , 0.        , 0.        , 0.        ,\n",
       "        0.25      , 0.125     , 0.125     , 0.        , 0.        ,\n",
       "        0.        , 0.        , 0.        ],\n",
       "       [0.33333333, 0.02564103, 0.        , 0.        , 0.02564103,\n",
       "        0.02564103, 0.        , 0.        , 0.02564103, 0.56410256,\n",
       "        0.        , 0.        , 0.        , 0.        , 0.        ,\n",
       "        0.        , 0.        , 0.        ],\n",
       "       [0.        , 0.        , 0.25      , 0.        , 0.        ,\n",
       "        0.        , 0.        , 0.75      , 0.        , 0.        ,\n",
       "        0.        , 0.        , 0.        , 0.        , 0.        ,\n",
       "        0.        , 0.        , 0.        ],\n",
       "       [0.        , 0.        , 0.        , 0.        , 0.        ,\n",
       "        0.        , 0.        , 0.        , 0.14285714, 0.        ,\n",
       "        0.        , 0.        , 0.        , 0.        , 0.        ,\n",
       "        0.07142857, 0.        , 0.78571429],\n",
       "       [0.        , 0.        , 0.66666667, 0.        , 0.33333333,\n",
       "        0.        , 0.        , 0.        , 0.        , 0.        ,\n",
       "        0.        , 0.        , 0.        , 0.        , 0.        ,\n",
       "        0.        , 0.        , 0.        ],\n",
       "       [0.1       , 0.        , 0.2       , 0.        , 0.1       ,\n",
       "        0.        , 0.        , 0.        , 0.6       , 0.        ,\n",
       "        0.        , 0.        , 0.        , 0.        , 0.        ,\n",
       "        0.        , 0.        , 0.        ],\n",
       "       [0.13888889, 0.38888889, 0.        , 0.11111111, 0.        ,\n",
       "        0.08333333, 0.        , 0.16666667, 0.        , 0.02777778,\n",
       "        0.        , 0.        , 0.        , 0.        , 0.        ,\n",
       "        0.        , 0.02777778, 0.05555556],\n",
       "       [0.06976744, 0.25581395, 0.        , 0.46511628, 0.        ,\n",
       "        0.02325581, 0.        , 0.        , 0.04651163, 0.        ,\n",
       "        0.        , 0.        , 0.02325581, 0.        , 0.02325581,\n",
       "        0.02325581, 0.        , 0.06976744],\n",
       "       [0.        , 0.        , 1.        , 0.        , 0.        ,\n",
       "        0.        , 0.        , 0.        , 0.        , 0.        ,\n",
       "        0.        , 0.        , 0.        , 0.        , 0.        ,\n",
       "        0.        , 0.        , 0.        ],\n",
       "       [0.        , 0.        , 1.        , 0.        , 0.        ,\n",
       "        0.        , 0.        , 0.        , 0.        , 0.        ,\n",
       "        0.        , 0.        , 0.        , 0.        , 0.        ,\n",
       "        0.        , 0.        , 0.        ],\n",
       "       [0.        , 0.        , 0.5       , 0.        , 0.        ,\n",
       "        0.        , 0.        , 0.        , 0.5       , 0.        ,\n",
       "        0.        , 0.        , 0.        , 0.        , 0.        ,\n",
       "        0.        , 0.        , 0.        ],\n",
       "       [0.33333333, 0.        , 0.        , 0.        , 0.        ,\n",
       "        0.        , 0.        , 0.        , 0.33333333, 0.33333333,\n",
       "        0.        , 0.        , 0.        , 0.        , 0.        ,\n",
       "        0.        , 0.        , 0.        ],\n",
       "       [0.        , 1.        , 0.        , 0.        , 0.        ,\n",
       "        0.        , 0.        , 0.        , 0.        , 0.        ,\n",
       "        0.        , 0.        , 0.        , 0.        , 0.        ,\n",
       "        0.        , 0.        , 0.        ],\n",
       "       [0.        , 0.33333333, 0.        , 0.        , 0.        ,\n",
       "        0.        , 0.        , 0.        , 0.33333333, 0.        ,\n",
       "        0.        , 0.        , 0.        , 0.        , 0.        ,\n",
       "        0.        , 0.        , 0.33333333],\n",
       "       [0.        , 0.33333333, 0.        , 0.        , 0.        ,\n",
       "        0.        , 0.        , 0.        , 0.        , 0.        ,\n",
       "        0.        , 0.        , 0.        , 0.        , 0.33333333,\n",
       "        0.        , 0.        , 0.33333333],\n",
       "       [0.11111111, 0.2962963 , 0.        , 0.        , 0.        ,\n",
       "        0.2962963 , 0.        , 0.        , 0.07407407, 0.11111111,\n",
       "        0.        , 0.        , 0.        , 0.03703704, 0.07407407,\n",
       "        0.        , 0.        , 0.        ]])"
      ]
     },
     "metadata": {},
     "output_type": "display_data"
    },
    {
     "name": "stderr",
     "output_type": "stream",
     "text": [
      "\r",
      " 29%|██████████▊                          | 35/120 [18:51:37<2:11:56, 93.13s/it]"
     ]
    },
    {
     "name": "stdout",
     "output_type": "stream",
     "text": [
      "INFO: Noise Filtering applied\n",
      "INFO: Clusters generated\n",
      "(250391, 5) (1200, 5) (1200, 5) (1200, 5) (1200, 6)\n",
      "INFO: 14 clusters generated.\n"
     ]
    },
    {
     "name": "stderr",
     "output_type": "stream",
     "text": [
      "\n",
      "  0%|                                                    | 0/14 [00:00<?, ?it/s]\u001b[A\n",
      "  7%|███▏                                        | 1/14 [00:04<00:52,  4.06s/it]\u001b[A\n",
      " 14%|██████▎                                     | 2/14 [00:08<00:49,  4.10s/it]\u001b[A\n",
      " 21%|█████████▍                                  | 3/14 [00:12<00:44,  4.06s/it]\u001b[A\n",
      " 29%|████████████▌                               | 4/14 [00:16<00:40,  4.06s/it]\u001b[A\n",
      " 36%|███████████████▋                            | 5/14 [00:20<00:36,  4.00s/it]\u001b[A\n",
      " 43%|██████████████████▊                         | 6/14 [00:24<00:31,  3.97s/it]\u001b[A\n",
      " 50%|██████████████████████                      | 7/14 [00:28<00:27,  4.00s/it]\u001b[A\n",
      " 57%|█████████████████████████▏                  | 8/14 [00:32<00:24,  4.02s/it]\u001b[A\n",
      " 64%|████████████████████████████▎               | 9/14 [00:36<00:19,  3.99s/it]\u001b[A\n",
      " 71%|██████████████████████████████▋            | 10/14 [00:40<00:15,  3.99s/it]\u001b[A\n",
      " 79%|█████████████████████████████████▊         | 11/14 [00:44<00:12,  4.03s/it]\u001b[A\n",
      " 86%|████████████████████████████████████▊      | 12/14 [00:48<00:08,  4.05s/it]\u001b[A\n",
      " 93%|███████████████████████████████████████▉   | 13/14 [00:52<00:04,  4.04s/it]\u001b[A\n",
      "100%|███████████████████████████████████████████| 14/14 [00:56<00:00,  4.03s/it]\u001b[A\n"
     ]
    },
    {
     "data": {
      "text/plain": [
       "array([[0.        , 0.07692308, 0.        , 0.53846154, 0.        ,\n",
       "        0.        , 0.        , 0.23076923, 0.        , 0.15384615,\n",
       "        0.        , 0.        , 0.        ],\n",
       "       [0.        , 0.        , 0.        , 0.        , 0.5       ,\n",
       "        0.        , 0.        , 0.        , 0.125     , 0.        ,\n",
       "        0.375     , 0.        , 0.        ],\n",
       "       [0.        , 0.        , 0.        , 0.2       , 0.        ,\n",
       "        0.        , 0.        , 0.        , 0.        , 0.        ,\n",
       "        0.        , 0.        , 0.8       ],\n",
       "       [0.38461538, 0.        , 0.        , 0.        , 0.        ,\n",
       "        0.        , 0.53846154, 0.        , 0.        , 0.        ,\n",
       "        0.        , 0.07692308, 0.        ],\n",
       "       [0.16666667, 0.16666667, 0.        , 0.        , 0.        ,\n",
       "        0.        , 0.        , 0.66666667, 0.        , 0.        ,\n",
       "        0.        , 0.        , 0.        ],\n",
       "       [0.        , 0.        , 0.        , 0.09090909, 0.        ,\n",
       "        0.        , 0.36363636, 0.        , 0.        , 0.        ,\n",
       "        0.        , 0.        , 0.54545455],\n",
       "       [0.09090909, 0.        , 0.        , 0.36363636, 0.        ,\n",
       "        0.54545455, 0.        , 0.        , 0.        , 0.        ,\n",
       "        0.        , 0.        , 0.        ],\n",
       "       [0.57142857, 0.        , 0.        , 0.        , 0.28571429,\n",
       "        0.        , 0.        , 0.        , 0.        , 0.14285714,\n",
       "        0.        , 0.        , 0.        ],\n",
       "       [0.        , 0.        , 0.        , 0.        , 0.        ,\n",
       "        0.        , 0.        , 0.        , 0.        , 1.        ,\n",
       "        0.        , 0.        , 0.        ],\n",
       "       [0.        , 0.16666667, 0.        , 0.        , 0.        ,\n",
       "        0.        , 0.        , 0.        , 0.        , 0.        ,\n",
       "        0.66666667, 0.        , 0.16666667],\n",
       "       [0.        , 0.71428571, 0.        , 0.        , 0.        ,\n",
       "        0.        , 0.        , 0.        , 0.        , 0.28571429,\n",
       "        0.        , 0.        , 0.        ],\n",
       "       [0.        , 0.        , 0.        , 0.        , 0.        ,\n",
       "        0.        , 0.        , 0.        , 0.        , 0.        ,\n",
       "        0.        , 0.        , 1.        ],\n",
       "       [0.16666667, 0.08333333, 0.41666667, 0.        , 0.        ,\n",
       "        0.33333333, 0.        , 0.        , 0.        , 0.        ,\n",
       "        0.        , 0.        , 0.        ],\n",
       "       [0.        , 0.        , 0.        , 0.        , 0.        ,\n",
       "        1.        , 0.        , 0.        , 0.        , 0.        ,\n",
       "        0.        , 0.        , 0.        ]])"
      ]
     },
     "metadata": {},
     "output_type": "display_data"
    },
    {
     "name": "stderr",
     "output_type": "stream",
     "text": [
      "\r",
      " 30%|███████████                          | 36/120 [18:52:45<1:59:39, 85.47s/it]"
     ]
    },
    {
     "name": "stdout",
     "output_type": "stream",
     "text": [
      "INFO: Noise Filtering applied\n",
      "INFO: Clusters generated\n",
      "(267737, 5) (189, 5) (189, 5) (189, 5) (189, 6)\n",
      "INFO: 10 clusters generated.\n"
     ]
    },
    {
     "name": "stderr",
     "output_type": "stream",
     "text": [
      "\n",
      "  0%|                                                    | 0/10 [00:00<?, ?it/s]\u001b[A\n",
      " 10%|████▍                                       | 1/10 [00:04<00:38,  4.32s/it]\u001b[A\n",
      " 20%|████████▊                                   | 2/10 [00:08<00:34,  4.26s/it]\u001b[A\n",
      " 30%|█████████████▏                              | 3/10 [00:12<00:29,  4.27s/it]\u001b[A\n",
      " 40%|█████████████████▌                          | 4/10 [00:16<00:25,  4.21s/it]\u001b[A\n",
      " 50%|██████████████████████                      | 5/10 [00:21<00:21,  4.24s/it]\u001b[A\n",
      " 60%|██████████████████████████▍                 | 6/10 [00:25<00:16,  4.21s/it]\u001b[A\n",
      " 70%|██████████████████████████████▊             | 7/10 [00:29<00:12,  4.24s/it]\u001b[A\n",
      " 80%|███████████████████████████████████▏        | 8/10 [00:34<00:08,  4.28s/it]\u001b[A\n",
      " 90%|███████████████████████████████████████▌    | 9/10 [00:38<00:04,  4.23s/it]\u001b[A\n",
      "100%|███████████████████████████████████████████| 10/10 [00:42<00:00,  4.27s/it]\u001b[A\n"
     ]
    },
    {
     "data": {
      "text/plain": [
       "array([[0.        , 0.59375   , 0.03125   , 0.0625    , 0.        ,\n",
       "        0.        , 0.03125   , 0.03125   , 0.25      , 0.        ],\n",
       "       [0.70967742, 0.        , 0.        , 0.        , 0.        ,\n",
       "        0.        , 0.        , 0.        , 0.25806452, 0.03225806],\n",
       "       [0.        , 0.        , 0.        , 0.        , 0.        ,\n",
       "        0.        , 0.        , 0.        , 1.        , 0.        ],\n",
       "       [0.5       , 0.        , 0.        , 0.        , 0.5       ,\n",
       "        0.        , 0.        , 0.        , 0.        , 0.        ],\n",
       "       [0.5       , 0.5       , 0.        , 0.        , 0.        ,\n",
       "        0.        , 0.        , 0.        , 0.        , 0.        ],\n",
       "       [0.        , 0.        , 0.        , 0.        , 0.        ,\n",
       "        0.        , 1.        , 0.        , 0.        , 0.        ],\n",
       "       [0.        , 0.        , 0.        , 0.        , 0.5       ,\n",
       "        0.5       , 0.        , 0.        , 0.        , 0.        ],\n",
       "       [0.        , 0.        , 0.        , 0.        , 0.        ,\n",
       "        0.        , 0.        , 0.        , 1.        , 0.        ],\n",
       "       [0.44444444, 0.55555556, 0.        , 0.        , 0.        ,\n",
       "        0.        , 0.        , 0.        , 0.        , 0.        ],\n",
       "       [0.        , 1.        , 0.        , 0.        , 0.        ,\n",
       "        0.        , 0.        , 0.        , 0.        , 0.        ]])"
      ]
     },
     "metadata": {},
     "output_type": "display_data"
    },
    {
     "name": "stderr",
     "output_type": "stream",
     "text": [
      "\r",
      " 31%|███████████▍                         | 37/120 [18:53:39<1:45:28, 76.25s/it]"
     ]
    },
    {
     "name": "stdout",
     "output_type": "stream",
     "text": [
      "INFO: Noise Filtering applied\n",
      "INFO: Clusters generated\n",
      "(56013, 5) (40, 5) (40, 5) (40, 5) (40, 6)\n",
      "INFO: 8 clusters generated.\n"
     ]
    },
    {
     "name": "stderr",
     "output_type": "stream",
     "text": [
      "\n",
      "  0%|                                                     | 0/8 [00:00<?, ?it/s]\u001b[A\n",
      " 12%|█████▋                                       | 1/8 [00:00<00:06,  1.02it/s]\u001b[A\n",
      " 25%|███████████▎                                 | 2/8 [00:01<00:05,  1.11it/s]\u001b[A\n",
      " 38%|████████████████▉                            | 3/8 [00:02<00:04,  1.07it/s]\u001b[A\n",
      " 50%|██████████████████████▌                      | 4/8 [00:03<00:03,  1.11it/s]\u001b[A\n",
      " 62%|████████████████████████████▏                | 5/8 [00:04<00:02,  1.14it/s]\u001b[A\n",
      " 75%|█████████████████████████████████▊           | 6/8 [00:05<00:01,  1.10it/s]\u001b[A\n",
      " 88%|███████████████████████████████████████▍     | 7/8 [00:06<00:00,  1.13it/s]\u001b[A\n",
      "100%|█████████████████████████████████████████████| 8/8 [00:07<00:00,  1.10it/s]\u001b[A\n"
     ]
    },
    {
     "data": {
      "text/plain": [
       "array([[0.        , 0.        , 0.        , 1.        , 0.        ,\n",
       "        0.        , 0.        , 0.        ],\n",
       "       [0.09090909, 0.        , 0.        , 0.09090909, 0.18181818,\n",
       "        0.36363636, 0.18181818, 0.09090909],\n",
       "       [0.        , 0.9       , 0.        , 0.        , 0.        ,\n",
       "        0.        , 0.1       , 0.        ],\n",
       "       [0.        , 0.5       , 0.5       , 0.        , 0.        ,\n",
       "        0.        , 0.        , 0.        ],\n",
       "       [0.        , 0.        , 0.1       , 0.        , 0.        ,\n",
       "        0.8       , 0.        , 0.1       ],\n",
       "       [0.        , 0.        , 0.66666667, 0.        , 0.33333333,\n",
       "        0.        , 0.        , 0.        ],\n",
       "       [0.        , 0.        , 0.        , 0.        , 1.        ,\n",
       "        0.        , 0.        , 0.        ],\n",
       "       [0.        , 0.        , 0.        , 0.        , 1.        ,\n",
       "        0.        , 0.        , 0.        ]])"
      ]
     },
     "metadata": {},
     "output_type": "display_data"
    },
    {
     "name": "stderr",
     "output_type": "stream",
     "text": [
      "\r",
      " 32%|███████████▋                         | 38/120 [18:53:48<1:16:29, 55.96s/it]"
     ]
    },
    {
     "name": "stdout",
     "output_type": "stream",
     "text": [
      "INFO: Noise Filtering applied\n",
      "INFO: Clusters generated\n",
      "(1057038, 5) (289, 5) (289, 5) (289, 5) (289, 6)\n",
      "INFO: 11 clusters generated.\n"
     ]
    },
    {
     "name": "stderr",
     "output_type": "stream",
     "text": [
      "\n",
      "  0%|                                                    | 0/11 [00:00<?, ?it/s]\u001b[A\n",
      "  9%|████                                        | 1/11 [00:16<02:45, 16.59s/it]\u001b[A\n",
      " 18%|████████                                    | 2/11 [00:33<02:29, 16.61s/it]\u001b[A\n",
      " 27%|████████████                                | 3/11 [00:50<02:13, 16.74s/it]\u001b[A\n",
      " 36%|████████████████                            | 4/11 [01:06<01:56, 16.71s/it]\u001b[A\n",
      " 45%|████████████████████                        | 5/11 [01:23<01:39, 16.64s/it]\u001b[A\n",
      " 55%|████████████████████████                    | 6/11 [01:39<01:22, 16.59s/it]\u001b[A\n",
      " 64%|████████████████████████████                | 7/11 [01:56<01:06, 16.60s/it]\u001b[A\n",
      " 73%|████████████████████████████████            | 8/11 [02:12<00:49, 16.59s/it]\u001b[A\n",
      " 82%|████████████████████████████████████        | 9/11 [02:29<00:33, 16.61s/it]\u001b[A\n",
      " 91%|███████████████████████████████████████    | 10/11 [02:46<00:16, 16.57s/it]\u001b[A\n",
      "100%|███████████████████████████████████████████| 11/11 [03:02<00:00, 16.61s/it]\u001b[A\n"
     ]
    },
    {
     "data": {
      "text/plain": [
       "array([[0.        , 0.11428571, 0.15238095, 0.40952381, 0.00952381,\n",
       "        0.01904762, 0.16190476, 0.        , 0.08571429, 0.01904762,\n",
       "        0.02857143],\n",
       "       [0.23076923, 0.        , 0.        , 0.07692308, 0.        ,\n",
       "        0.        , 0.        , 0.61538462, 0.03846154, 0.        ,\n",
       "        0.03846154],\n",
       "       [0.13461538, 0.        , 0.        , 0.375     , 0.00961538,\n",
       "        0.        , 0.40384615, 0.03846154, 0.00961538, 0.        ,\n",
       "        0.02884615],\n",
       "       [0.46808511, 0.0212766 , 0.10638298, 0.        , 0.        ,\n",
       "        0.0070922 , 0.0141844 , 0.0070922 , 0.30496454, 0.        ,\n",
       "        0.07092199],\n",
       "       [1.        , 0.        , 0.        , 0.        , 0.        ,\n",
       "        0.        , 0.        , 0.        , 0.        , 0.        ,\n",
       "        0.        ],\n",
       "       [0.        , 0.        , 0.        , 0.5       , 0.        ,\n",
       "        0.        , 0.        , 0.        , 0.5       , 0.        ,\n",
       "        0.        ],\n",
       "       [0.01388889, 0.        , 0.86111111, 0.08333333, 0.        ,\n",
       "        0.        , 0.        , 0.02777778, 0.        , 0.        ,\n",
       "        0.01388889],\n",
       "       [0.04      , 0.36      , 0.12      , 0.2       , 0.        ,\n",
       "        0.        , 0.2       , 0.        , 0.        , 0.        ,\n",
       "        0.08      ],\n",
       "       [0.09090909, 0.01818182, 0.05454545, 0.69090909, 0.03636364,\n",
       "        0.        , 0.05454545, 0.01818182, 0.        , 0.        ,\n",
       "        0.03636364],\n",
       "       [0.        , 0.        , 0.        , 0.        , 0.        ,\n",
       "        0.        , 1.        , 0.        , 0.        , 0.        ,\n",
       "        0.        ],\n",
       "       [0.36363636, 0.04545455, 0.22727273, 0.31818182, 0.        ,\n",
       "        0.        , 0.        , 0.04545455, 0.        , 0.        ,\n",
       "        0.        ]])"
      ]
     },
     "metadata": {},
     "output_type": "display_data"
    },
    {
     "name": "stderr",
     "output_type": "stream",
     "text": [
      "\r",
      " 32%|███████████▋                        | 39/120 [19:00:45<3:41:54, 164.38s/it]"
     ]
    },
    {
     "name": "stdout",
     "output_type": "stream",
     "text": [
      "INFO: Noise Filtering applied\n",
      "INFO: Clusters generated\n",
      "(239372, 5) (120, 5) (120, 5) (120, 5) (120, 6)\n",
      "INFO: 37 clusters generated.\n"
     ]
    },
    {
     "name": "stderr",
     "output_type": "stream",
     "text": [
      "\n",
      "  0%|                                                    | 0/37 [00:00<?, ?it/s]\u001b[A\n",
      "  3%|█▏                                          | 1/37 [00:03<02:17,  3.83s/it]\u001b[A\n",
      "  5%|██▍                                         | 2/37 [00:07<02:11,  3.77s/it]\u001b[A\n",
      "  8%|███▌                                        | 3/37 [00:11<02:07,  3.74s/it]\u001b[A\n",
      " 11%|████▊                                       | 4/37 [00:15<02:06,  3.82s/it]\u001b[A\n",
      " 14%|█████▉                                      | 5/37 [00:18<02:00,  3.78s/it]\u001b[A\n",
      " 16%|███████▏                                    | 6/37 [00:22<01:58,  3.81s/it]\u001b[A\n",
      " 19%|████████▎                                   | 7/37 [00:26<01:53,  3.78s/it]\u001b[A\n",
      " 22%|█████████▌                                  | 8/37 [00:30<01:48,  3.76s/it]\u001b[A\n",
      " 24%|██████████▋                                 | 9/37 [00:34<01:45,  3.78s/it]\u001b[A\n",
      " 27%|███████████▌                               | 10/37 [00:37<01:41,  3.76s/it]\u001b[A\n",
      " 30%|████████████▊                              | 11/37 [00:41<01:38,  3.79s/it]\u001b[A\n",
      " 32%|█████████████▉                             | 12/37 [00:45<01:34,  3.76s/it]\u001b[A\n",
      " 35%|███████████████                            | 13/37 [00:49<01:29,  3.75s/it]\u001b[A\n",
      " 38%|████████████████▎                          | 14/37 [00:52<01:27,  3.78s/it]\u001b[A\n",
      " 41%|█████████████████▍                         | 15/37 [00:56<01:22,  3.76s/it]\u001b[A\n",
      " 43%|██████████████████▌                        | 16/37 [01:00<01:19,  3.79s/it]\u001b[A\n",
      " 46%|███████████████████▊                       | 17/37 [01:04<01:15,  3.77s/it]\u001b[A\n",
      " 49%|████████████████████▉                      | 18/37 [01:07<01:11,  3.74s/it]\u001b[A\n",
      " 51%|██████████████████████                     | 19/37 [01:11<01:07,  3.75s/it]\u001b[A\n",
      " 54%|███████████████████████▏                   | 20/37 [01:15<01:03,  3.73s/it]\u001b[A\n",
      " 57%|████████████████████████▍                  | 21/37 [01:19<00:59,  3.72s/it]\u001b[A\n",
      " 59%|█████████████████████████▌                 | 22/37 [01:22<00:56,  3.74s/it]\u001b[A\n",
      " 62%|██████████████████████████▋                | 23/37 [01:26<00:52,  3.72s/it]\u001b[A\n",
      " 65%|███████████████████████████▉               | 24/37 [01:30<00:48,  3.75s/it]\u001b[A\n",
      " 68%|█████████████████████████████              | 25/37 [01:33<00:44,  3.72s/it]\u001b[A\n",
      " 70%|██████████████████████████████▏            | 26/37 [01:37<00:40,  3.72s/it]\u001b[A\n",
      " 73%|███████████████████████████████▍           | 27/37 [01:41<00:37,  3.75s/it]\u001b[A\n",
      " 76%|████████████████████████████████▌          | 28/37 [01:45<00:33,  3.74s/it]\u001b[A\n",
      " 78%|█████████████████████████████████▋         | 29/37 [01:49<00:30,  3.77s/it]\u001b[A\n",
      " 81%|██████████████████████████████████▊        | 30/37 [01:52<00:26,  3.76s/it]\u001b[A\n",
      " 84%|████████████████████████████████████       | 31/37 [01:56<00:22,  3.73s/it]\u001b[A\n",
      " 86%|█████████████████████████████████████▏     | 32/37 [02:00<00:18,  3.76s/it]\u001b[A\n",
      " 89%|██████████████████████████████████████▎    | 33/37 [02:03<00:14,  3.73s/it]\u001b[A\n",
      " 92%|███████████████████████████████████████▌   | 34/37 [02:07<00:11,  3.76s/it]\u001b[A\n",
      " 95%|████████████████████████████████████████▋  | 35/37 [02:11<00:07,  3.74s/it]\u001b[A\n",
      " 97%|█████████████████████████████████████████▊ | 36/37 [02:15<00:03,  3.72s/it]\u001b[A\n",
      "100%|███████████████████████████████████████████| 37/37 [02:18<00:00,  3.75s/it]\u001b[A\n"
     ]
    },
    {
     "data": {
      "text/plain": [
       "array([[0.        , 0.        , 0.        , ..., 0.        , 0.        ,\n",
       "        1.        ],\n",
       "       [0.        , 0.11111111, 0.13888889, ..., 0.        , 0.05555556,\n",
       "        0.        ],\n",
       "       [0.41176471, 0.        , 0.05882353, ..., 0.05882353, 0.05882353,\n",
       "        0.        ],\n",
       "       ...,\n",
       "       [0.        , 1.        , 0.        , ..., 0.        , 0.        ,\n",
       "        0.        ],\n",
       "       [0.25      , 0.        , 0.        , ..., 0.        , 0.        ,\n",
       "        0.        ],\n",
       "       [0.        , 0.        , 0.        , ..., 0.        , 0.5       ,\n",
       "        0.        ]])"
      ]
     },
     "metadata": {},
     "output_type": "display_data"
    },
    {
     "name": "stderr",
     "output_type": "stream",
     "text": [
      "\r",
      " 33%|████████████                        | 40/120 [19:03:14<3:33:00, 159.76s/it]"
     ]
    },
    {
     "name": "stdout",
     "output_type": "stream",
     "text": [
      "INFO: Noise Filtering applied\n",
      "INFO: Clusters generated\n",
      "(96245, 5) (511, 5) (511, 5) (511, 5) (511, 6)\n",
      "INFO: 16 clusters generated.\n"
     ]
    },
    {
     "name": "stderr",
     "output_type": "stream",
     "text": [
      "\n",
      "  0%|                                                    | 0/16 [00:00<?, ?it/s]\u001b[A\n",
      "  6%|██▊                                         | 1/16 [00:01<00:21,  1.43s/it]\u001b[A\n",
      " 12%|█████▌                                      | 2/16 [00:02<00:21,  1.51s/it]\u001b[A\n",
      " 19%|████████▎                                   | 3/16 [00:04<00:19,  1.47s/it]\u001b[A\n",
      " 25%|███████████                                 | 4/16 [00:05<00:18,  1.51s/it]\u001b[A\n",
      " 31%|█████████████▊                              | 5/16 [00:07<00:16,  1.52s/it]\u001b[A\n",
      " 38%|████████████████▌                           | 6/16 [00:08<00:14,  1.49s/it]\u001b[A\n",
      " 44%|███████████████████▎                        | 7/16 [00:10<00:13,  1.50s/it]\u001b[A\n",
      " 50%|██████████████████████                      | 8/16 [00:12<00:12,  1.52s/it]\u001b[A\n",
      " 56%|████████████████████████▊                   | 9/16 [00:13<00:10,  1.49s/it]\u001b[A\n",
      " 62%|██████████████████████████▉                | 10/16 [00:15<00:09,  1.52s/it]\u001b[A\n",
      " 69%|█████████████████████████████▌             | 11/16 [00:16<00:07,  1.54s/it]\u001b[A\n",
      " 75%|████████████████████████████████▎          | 12/16 [00:18<00:05,  1.50s/it]\u001b[A\n",
      " 81%|██████████████████████████████████▉        | 13/16 [00:19<00:04,  1.52s/it]\u001b[A\n",
      " 88%|█████████████████████████████████████▋     | 14/16 [00:21<00:02,  1.50s/it]\u001b[A\n",
      " 94%|████████████████████████████████████████▎  | 15/16 [00:22<00:01,  1.52s/it]\u001b[A\n",
      "100%|███████████████████████████████████████████| 16/16 [00:24<00:00,  1.51s/it]\u001b[A\n"
     ]
    },
    {
     "data": {
      "text/plain": [
       "array([[0.        , 0.        , 0.        , 0.        , 0.11111111,\n",
       "        0.77777778, 0.        , 0.11111111, 0.        , 0.        ,\n",
       "        0.        , 0.        , 0.        , 0.        , 0.        ,\n",
       "        0.        ],\n",
       "       [0.        , 0.        , 0.        , 0.5       , 0.        ,\n",
       "        0.        , 0.        , 0.        , 0.        , 0.        ,\n",
       "        0.        , 0.        , 0.        , 0.        , 0.5       ,\n",
       "        0.        ],\n",
       "       [0.        , 0.08333333, 0.        , 0.66666667, 0.        ,\n",
       "        0.        , 0.        , 0.        , 0.        , 0.        ,\n",
       "        0.        , 0.        , 0.        , 0.08333333, 0.08333333,\n",
       "        0.08333333],\n",
       "       [0.        , 0.08333333, 0.83333333, 0.        , 0.        ,\n",
       "        0.        , 0.        , 0.        , 0.        , 0.        ,\n",
       "        0.        , 0.        , 0.        , 0.        , 0.08333333,\n",
       "        0.        ],\n",
       "       [0.8       , 0.        , 0.        , 0.        , 0.        ,\n",
       "        0.        , 0.        , 0.        , 0.2       , 0.        ,\n",
       "        0.        , 0.        , 0.        , 0.        , 0.        ,\n",
       "        0.        ],\n",
       "       [0.33333333, 0.        , 0.        , 0.        , 0.        ,\n",
       "        0.        , 0.08333333, 0.08333333, 0.5       , 0.        ,\n",
       "        0.        , 0.        , 0.        , 0.        , 0.        ,\n",
       "        0.        ],\n",
       "       [0.        , 0.        , 0.        , 0.        , 0.        ,\n",
       "        1.        , 0.        , 0.        , 0.        , 0.        ,\n",
       "        0.        , 0.        , 0.        , 0.        , 0.        ,\n",
       "        0.        ],\n",
       "       [0.        , 0.        , 0.        , 0.        , 0.        ,\n",
       "        0.33333333, 0.        , 0.        , 0.66666667, 0.        ,\n",
       "        0.        , 0.        , 0.        , 0.        , 0.        ,\n",
       "        0.        ],\n",
       "       [0.        , 0.        , 0.        , 0.        , 0.26666667,\n",
       "        0.06666667, 0.        , 0.06666667, 0.        , 0.        ,\n",
       "        0.6       , 0.        , 0.        , 0.        , 0.        ,\n",
       "        0.        ],\n",
       "       [0.        , 0.        , 0.        , 0.        , 0.        ,\n",
       "        0.        , 0.        , 0.        , 0.        , 0.        ,\n",
       "        1.        , 0.        , 0.        , 0.        , 0.        ,\n",
       "        0.        ],\n",
       "       [0.        , 0.        , 0.        , 0.        , 0.        ,\n",
       "        0.        , 0.        , 0.        , 0.4       , 0.        ,\n",
       "        0.        , 0.        , 0.6       , 0.        , 0.        ,\n",
       "        0.        ],\n",
       "       [0.2       , 0.        , 0.        , 0.        , 0.        ,\n",
       "        0.1       , 0.1       , 0.        , 0.        , 0.1       ,\n",
       "        0.        , 0.        , 0.5       , 0.        , 0.        ,\n",
       "        0.        ],\n",
       "       [0.        , 0.        , 0.        , 0.        , 0.        ,\n",
       "        0.        , 0.        , 0.        , 0.        , 0.        ,\n",
       "        0.33333333, 0.66666667, 0.        , 0.        , 0.        ,\n",
       "        0.        ],\n",
       "       [0.        , 0.        , 0.        , 0.        , 0.        ,\n",
       "        0.        , 0.        , 0.        , 0.        , 0.        ,\n",
       "        0.        , 0.        , 0.        , 0.        , 0.        ,\n",
       "        1.        ],\n",
       "       [0.        , 0.        , 0.5       , 0.25      , 0.        ,\n",
       "        0.        , 0.        , 0.        , 0.        , 0.        ,\n",
       "        0.        , 0.        , 0.25      , 0.        , 0.        ,\n",
       "        0.        ],\n",
       "       [0.        , 0.        , 0.        , 0.5       , 0.        ,\n",
       "        0.        , 0.        , 0.        , 0.        , 0.        ,\n",
       "        0.        , 0.        , 0.        , 0.        , 0.5       ,\n",
       "        0.        ]])"
      ]
     },
     "metadata": {},
     "output_type": "display_data"
    },
    {
     "name": "stderr",
     "output_type": "stream",
     "text": [
      "\r",
      " 34%|████████████▎                       | 41/120 [19:03:41<2:37:55, 119.94s/it]"
     ]
    },
    {
     "name": "stdout",
     "output_type": "stream",
     "text": [
      "INFO: Noise Filtering applied\n",
      "INFO: Clusters generated\n",
      "(76846, 5) (118, 5) (118, 5) (118, 5) (118, 6)\n",
      "INFO: 18 clusters generated.\n"
     ]
    },
    {
     "name": "stderr",
     "output_type": "stream",
     "text": [
      "\n",
      "  0%|                                                    | 0/18 [00:00<?, ?it/s]\u001b[A\n",
      "  6%|██▍                                         | 1/18 [00:01<00:19,  1.15s/it]\u001b[A\n",
      " 11%|████▉                                       | 2/18 [00:02<00:19,  1.21s/it]\u001b[A\n",
      " 17%|███████▎                                    | 3/18 [00:03<00:17,  1.19s/it]\u001b[A\n",
      " 22%|█████████▊                                  | 4/18 [00:04<00:17,  1.22s/it]\u001b[A\n",
      " 28%|████████████▏                               | 5/18 [00:06<00:15,  1.20s/it]\u001b[A\n",
      " 33%|██████████████▋                             | 6/18 [00:07<00:14,  1.22s/it]\u001b[A\n",
      " 39%|█████████████████                           | 7/18 [00:08<00:13,  1.20s/it]\u001b[A\n",
      " 44%|███████████████████▌                        | 8/18 [00:09<00:12,  1.23s/it]\u001b[A\n",
      " 50%|██████████████████████                      | 9/18 [00:10<00:11,  1.25s/it]\u001b[A\n",
      " 56%|███████████████████████▉                   | 10/18 [00:12<00:09,  1.22s/it]\u001b[A\n",
      " 61%|██████████████████████████▎                | 11/18 [00:13<00:08,  1.24s/it]\u001b[A\n",
      " 67%|████████████████████████████▋              | 12/18 [00:14<00:07,  1.21s/it]\u001b[A\n",
      " 72%|███████████████████████████████            | 13/18 [00:15<00:06,  1.23s/it]\u001b[A\n",
      " 78%|█████████████████████████████████▍         | 14/18 [00:16<00:04,  1.20s/it]\u001b[A\n",
      " 83%|███████████████████████████████████▊       | 15/18 [00:18<00:03,  1.22s/it]\u001b[A\n",
      " 89%|██████████████████████████████████████▏    | 16/18 [00:19<00:02,  1.20s/it]\u001b[A\n",
      " 94%|████████████████████████████████████████▌  | 17/18 [00:20<00:01,  1.23s/it]\u001b[A\n",
      "100%|███████████████████████████████████████████| 18/18 [00:21<00:00,  1.21s/it]\u001b[A\n"
     ]
    },
    {
     "data": {
      "text/plain": [
       "array([[0.        , 0.31707317, 0.        , 0.        , 0.        ,\n",
       "        0.        , 0.        , 0.        , 0.        , 0.        ,\n",
       "        0.        , 0.02439024, 0.        , 0.        , 0.51219512,\n",
       "        0.02439024, 0.        , 0.12195122],\n",
       "       [0.56410256, 0.        , 0.        , 0.        , 0.        ,\n",
       "        0.05128205, 0.12820513, 0.        , 0.        , 0.        ,\n",
       "        0.        , 0.05128205, 0.02564103, 0.02564103, 0.        ,\n",
       "        0.        , 0.02564103, 0.12820513],\n",
       "       [0.        , 0.        , 0.        , 0.        , 0.        ,\n",
       "        0.        , 0.        , 0.        , 1.        , 0.        ,\n",
       "        0.        , 0.        , 0.        , 0.        , 0.        ,\n",
       "        0.        , 0.        , 0.        ],\n",
       "       [0.        , 0.5       , 0.        , 0.        , 0.        ,\n",
       "        0.5       , 0.        , 0.        , 0.        , 0.        ,\n",
       "        0.        , 0.        , 0.        , 0.        , 0.        ,\n",
       "        0.        , 0.        , 0.        ],\n",
       "       [0.        , 0.        , 0.2       , 0.2       , 0.        ,\n",
       "        0.2       , 0.        , 0.4       , 0.        , 0.        ,\n",
       "        0.        , 0.        , 0.        , 0.        , 0.        ,\n",
       "        0.        , 0.        , 0.        ],\n",
       "       [0.16666667, 0.        , 0.        , 0.        , 0.5       ,\n",
       "        0.        , 0.        , 0.        , 0.        , 0.        ,\n",
       "        0.        , 0.        , 0.        , 0.        , 0.        ,\n",
       "        0.        , 0.        , 0.33333333],\n",
       "       [0.        , 0.13333333, 0.        , 0.        , 0.        ,\n",
       "        0.        , 0.        , 0.        , 0.        , 0.02222222,\n",
       "        0.73333333, 0.        , 0.        , 0.02222222, 0.04444444,\n",
       "        0.02222222, 0.02222222, 0.        ],\n",
       "       [0.        , 0.        , 0.        , 0.        , 0.        ,\n",
       "        0.        , 0.        , 0.        , 1.        , 0.        ,\n",
       "        0.        , 0.        , 0.        , 0.        , 0.        ,\n",
       "        0.        , 0.        , 0.        ],\n",
       "       [0.33333333, 0.        , 0.        , 0.        , 0.66666667,\n",
       "        0.        , 0.        , 0.        , 0.        , 0.        ,\n",
       "        0.        , 0.        , 0.        , 0.        , 0.        ,\n",
       "        0.        , 0.        , 0.        ],\n",
       "       [0.        , 0.03333333, 0.        , 0.        , 0.        ,\n",
       "        0.        , 0.03333333, 0.        , 0.        , 0.        ,\n",
       "        0.66666667, 0.        , 0.        , 0.        , 0.26666667,\n",
       "        0.        , 0.        , 0.        ],\n",
       "       [0.03773585, 0.05660377, 0.        , 0.        , 0.        ,\n",
       "        0.        , 0.69811321, 0.        , 0.01886792, 0.1509434 ,\n",
       "        0.        , 0.01886792, 0.        , 0.        , 0.01886792,\n",
       "        0.        , 0.        , 0.        ],\n",
       "       [0.25      , 0.25      , 0.        , 0.        , 0.        ,\n",
       "        0.        , 0.        , 0.        , 0.        , 0.        ,\n",
       "        0.        , 0.        , 0.        , 0.        , 0.25      ,\n",
       "        0.        , 0.        , 0.25      ],\n",
       "       [1.        , 0.        , 0.        , 0.        , 0.        ,\n",
       "        0.        , 0.        , 0.        , 0.        , 0.        ,\n",
       "        0.        , 0.        , 0.        , 0.        , 0.        ,\n",
       "        0.        , 0.        , 0.        ],\n",
       "       [0.        , 1.        , 0.        , 0.        , 0.        ,\n",
       "        0.        , 0.        , 0.        , 0.        , 0.        ,\n",
       "        0.        , 0.        , 0.        , 0.        , 0.        ,\n",
       "        0.        , 0.        , 0.        ],\n",
       "       [0.27272727, 0.06060606, 0.        , 0.        , 0.        ,\n",
       "        0.        , 0.03030303, 0.        , 0.        , 0.63636364,\n",
       "        0.        , 0.        , 0.        , 0.        , 0.        ,\n",
       "        0.        , 0.        , 0.        ],\n",
       "       [0.        , 0.5       , 0.        , 0.        , 0.        ,\n",
       "        0.        , 0.5       , 0.        , 0.        , 0.        ,\n",
       "        0.        , 0.        , 0.        , 0.        , 0.        ,\n",
       "        0.        , 0.        , 0.        ],\n",
       "       [0.5       , 0.5       , 0.        , 0.        , 0.        ,\n",
       "        0.        , 0.        , 0.        , 0.        , 0.        ,\n",
       "        0.        , 0.        , 0.        , 0.        , 0.        ,\n",
       "        0.        , 0.        , 0.        ],\n",
       "       [0.23076923, 0.53846154, 0.        , 0.07692308, 0.        ,\n",
       "        0.15384615, 0.        , 0.        , 0.        , 0.        ,\n",
       "        0.        , 0.        , 0.        , 0.        , 0.        ,\n",
       "        0.        , 0.        , 0.        ]])"
      ]
     },
     "metadata": {},
     "output_type": "display_data"
    },
    {
     "name": "stderr",
     "output_type": "stream",
     "text": [
      "\r",
      " 35%|████████████▉                        | 42/120 [19:04:05<1:58:26, 91.11s/it]"
     ]
    },
    {
     "name": "stdout",
     "output_type": "stream",
     "text": [
      "INFO: Noise Filtering applied\n",
      "INFO: Clusters generated\n",
      "(21818, 5) (31, 5) (31, 5) (31, 5) (31, 6)\n",
      "INFO: 6 clusters generated.\n"
     ]
    },
    {
     "name": "stderr",
     "output_type": "stream",
     "text": [
      "\n",
      "  0%|                                                     | 0/6 [00:00<?, ?it/s]\u001b[A\n",
      " 17%|███████▌                                     | 1/6 [00:00<00:01,  3.11it/s]\u001b[A\n",
      " 33%|███████████████                              | 2/6 [00:00<00:01,  2.51it/s]\u001b[A\n",
      " 50%|██████████████████████▌                      | 3/6 [00:01<00:01,  2.73it/s]\u001b[A\n",
      " 67%|██████████████████████████████               | 4/6 [00:01<00:00,  2.87it/s]\u001b[A\n",
      " 83%|█████████████████████████████████████▌       | 5/6 [00:01<00:00,  2.94it/s]\u001b[A\n",
      "100%|█████████████████████████████████████████████| 6/6 [00:02<00:00,  2.89it/s]\u001b[A\n"
     ]
    },
    {
     "data": {
      "text/plain": [
       "array([[0.        , 0.25      , 0.        , 0.16666667, 0.58333333,\n",
       "        0.        ],\n",
       "       [0.7       , 0.        , 0.        , 0.2       , 0.1       ,\n",
       "        0.        ],\n",
       "       [0.        , 0.        , 0.        , 0.        , 0.        ,\n",
       "        1.        ],\n",
       "       [0.125     , 0.875     , 0.        , 0.        , 0.        ,\n",
       "        0.        ],\n",
       "       [0.55555556, 0.        , 0.        , 0.44444444, 0.        ,\n",
       "        0.        ],\n",
       "       [0.        , 0.        , 0.5       , 0.        , 0.5       ,\n",
       "        0.        ]])"
      ]
     },
     "metadata": {},
     "output_type": "display_data"
    },
    {
     "name": "stderr",
     "output_type": "stream",
     "text": [
      "\r",
      " 36%|█████████████▎                       | 43/120 [19:04:08<1:22:50, 64.55s/it]"
     ]
    },
    {
     "name": "stdout",
     "output_type": "stream",
     "text": [
      "INFO: Noise Filtering applied\n",
      "INFO: Clusters generated\n",
      "(336859, 5) (135, 5) (135, 5) (135, 5) (135, 6)\n",
      "INFO: 18 clusters generated.\n"
     ]
    },
    {
     "name": "stderr",
     "output_type": "stream",
     "text": [
      "\n",
      "  0%|                                                    | 0/18 [00:00<?, ?it/s]\u001b[A\n",
      "  6%|██▍                                         | 1/18 [00:05<01:29,  5.25s/it]\u001b[A\n",
      " 11%|████▉                                       | 2/18 [00:10<01:24,  5.27s/it]\u001b[A\n",
      " 17%|███████▎                                    | 3/18 [00:15<01:18,  5.24s/it]\u001b[A\n",
      " 22%|█████████▊                                  | 4/18 [00:20<01:12,  5.21s/it]\u001b[A\n",
      " 28%|████████████▏                               | 5/18 [00:26<01:08,  5.24s/it]\u001b[A\n",
      " 33%|██████████████▋                             | 6/18 [00:31<01:03,  5.25s/it]\u001b[A\n",
      " 39%|█████████████████                           | 7/18 [00:36<00:58,  5.30s/it]\u001b[A\n",
      " 44%|███████████████████▌                        | 8/18 [00:42<00:52,  5.25s/it]\u001b[A\n",
      " 50%|██████████████████████                      | 9/18 [00:47<00:47,  5.24s/it]\u001b[A\n",
      " 56%|███████████████████████▉                   | 10/18 [00:52<00:41,  5.24s/it]\u001b[A\n",
      " 61%|██████████████████████████▎                | 11/18 [00:57<00:36,  5.28s/it]\u001b[A\n",
      " 67%|████████████████████████████▋              | 12/18 [01:02<00:31,  5.23s/it]\u001b[A\n",
      " 72%|███████████████████████████████            | 13/18 [01:08<00:26,  5.26s/it]\u001b[A\n",
      " 78%|█████████████████████████████████▍         | 14/18 [01:13<00:21,  5.31s/it]\u001b[A\n",
      " 83%|███████████████████████████████████▊       | 15/18 [01:18<00:15,  5.28s/it]\u001b[A\n",
      " 89%|██████████████████████████████████████▏    | 16/18 [01:24<00:10,  5.27s/it]\u001b[A\n",
      " 94%|████████████████████████████████████████▌  | 17/18 [01:29<00:05,  5.29s/it]\u001b[A\n",
      "100%|███████████████████████████████████████████| 18/18 [01:34<00:00,  5.27s/it]\u001b[A\n"
     ]
    },
    {
     "data": {
      "text/plain": [
       "array([[0.        , 0.15384615, 0.23076923, 0.        , 0.        ,\n",
       "        0.        , 0.03846154, 0.        , 0.        , 0.03846154,\n",
       "        0.        , 0.        , 0.19230769, 0.11538462, 0.23076923,\n",
       "        0.        , 0.        , 0.        ],\n",
       "       [0.        , 0.        , 0.26923077, 0.5       , 0.        ,\n",
       "        0.        , 0.        , 0.03846154, 0.        , 0.        ,\n",
       "        0.        , 0.        , 0.        , 0.07692308, 0.11538462,\n",
       "        0.        , 0.        , 0.        ],\n",
       "       [0.06666667, 0.73333333, 0.        , 0.        , 0.06666667,\n",
       "        0.        , 0.        , 0.        , 0.        , 0.        ,\n",
       "        0.        , 0.        , 0.        , 0.        , 0.13333333,\n",
       "        0.        , 0.        , 0.        ],\n",
       "       [0.        , 0.45833333, 0.        , 0.        , 0.        ,\n",
       "        0.        , 0.        , 0.        , 0.        , 0.        ,\n",
       "        0.        , 0.        , 0.        , 0.        , 0.54166667,\n",
       "        0.        , 0.        , 0.        ],\n",
       "       [0.        , 0.        , 0.        , 0.        , 0.        ,\n",
       "        0.        , 0.        , 0.        , 0.        , 0.        ,\n",
       "        0.        , 0.        , 0.        , 0.        , 0.        ,\n",
       "        0.        , 0.75      , 0.25      ],\n",
       "       [0.        , 0.        , 0.        , 0.        , 0.5       ,\n",
       "        0.        , 0.        , 0.        , 0.        , 0.        ,\n",
       "        0.        , 0.        , 0.        , 0.        , 0.        ,\n",
       "        0.        , 0.5       , 0.        ],\n",
       "       [0.        , 0.        , 0.        , 0.        , 0.        ,\n",
       "        0.        , 0.        , 0.        , 1.        , 0.        ,\n",
       "        0.        , 0.        , 0.        , 0.        , 0.        ,\n",
       "        0.        , 0.        , 0.        ],\n",
       "       [0.5       , 0.        , 0.        , 0.        , 0.        ,\n",
       "        0.        , 0.        , 0.5       , 0.        , 0.        ,\n",
       "        0.        , 0.        , 0.        , 0.        , 0.        ,\n",
       "        0.        , 0.        , 0.        ],\n",
       "       [0.        , 0.        , 0.        , 0.        , 0.        ,\n",
       "        0.        , 0.        , 0.        , 0.        , 0.        ,\n",
       "        1.        , 0.        , 0.        , 0.        , 0.        ,\n",
       "        0.        , 0.        , 0.        ],\n",
       "       [0.        , 0.        , 0.        , 0.        , 0.        ,\n",
       "        0.        , 0.        , 0.        , 0.        , 0.33333333,\n",
       "        0.        , 0.66666667, 0.        , 0.        , 0.        ,\n",
       "        0.        , 0.        , 0.        ],\n",
       "       [0.66666667, 0.        , 0.        , 0.        , 0.        ,\n",
       "        0.        , 0.        , 0.        , 0.        , 0.        ,\n",
       "        0.33333333, 0.        , 0.        , 0.        , 0.        ,\n",
       "        0.        , 0.        , 0.        ],\n",
       "       [0.45454545, 0.        , 0.        , 0.        , 0.        ,\n",
       "        0.        , 0.        , 0.        , 0.        , 0.        ,\n",
       "        0.        , 0.        , 0.        , 0.        , 0.        ,\n",
       "        0.54545455, 0.        , 0.        ],\n",
       "       [0.        , 0.        , 0.09090909, 0.        , 0.18181818,\n",
       "        0.        , 0.        , 0.        , 0.        , 0.        ,\n",
       "        0.        , 0.09090909, 0.09090909, 0.        , 0.        ,\n",
       "        0.54545455, 0.        , 0.        ],\n",
       "       [0.54166667, 0.        , 0.        , 0.45833333, 0.        ,\n",
       "        0.        , 0.        , 0.        , 0.        , 0.        ,\n",
       "        0.        , 0.        , 0.        , 0.        , 0.        ,\n",
       "        0.        , 0.        , 0.        ],\n",
       "       [0.08333333, 0.        , 0.        , 0.        , 0.        ,\n",
       "        0.        , 0.        , 0.        , 0.        , 0.        ,\n",
       "        0.        , 0.        , 0.41666667, 0.5       , 0.        ,\n",
       "        0.        , 0.        , 0.        ],\n",
       "       [0.        , 0.        , 0.16666667, 0.        , 0.        ,\n",
       "        0.16666667, 0.        , 0.        , 0.        , 0.        ,\n",
       "        0.        , 0.        , 0.        , 0.        , 0.        ,\n",
       "        0.        , 0.        , 0.66666667],\n",
       "       [0.6       , 0.        , 0.        , 0.        , 0.        ,\n",
       "        0.        , 0.        , 0.        , 0.        , 0.        ,\n",
       "        0.        , 0.        , 0.        , 0.        , 0.        ,\n",
       "        0.        , 0.4       , 0.        ]])"
      ]
     },
     "metadata": {},
     "output_type": "display_data"
    },
    {
     "name": "stderr",
     "output_type": "stream",
     "text": [
      "\r",
      " 37%|█████████████▌                       | 44/120 [19:06:00<1:39:50, 78.82s/it]"
     ]
    },
    {
     "name": "stdout",
     "output_type": "stream",
     "text": [
      "INFO: Noise Filtering applied\n",
      "INFO: Clusters generated\n",
      "(17017, 5) (65, 5) (65, 5) (65, 5) (65, 6)\n",
      "INFO: 6 clusters generated.\n"
     ]
    },
    {
     "name": "stderr",
     "output_type": "stream",
     "text": [
      "\n",
      "  0%|                                                     | 0/6 [00:00<?, ?it/s]\u001b[A\n",
      " 17%|███████▌                                     | 1/6 [00:00<00:01,  3.89it/s]\u001b[A\n",
      " 33%|███████████████                              | 2/6 [00:00<00:01,  3.89it/s]\u001b[A\n",
      " 50%|██████████████████████▌                      | 3/6 [00:00<00:00,  3.92it/s]\u001b[A\n",
      " 67%|██████████████████████████████               | 4/6 [00:01<00:00,  3.92it/s]\u001b[A\n",
      " 83%|█████████████████████████████████████▌       | 5/6 [00:01<00:00,  3.93it/s]\u001b[A\n",
      "100%|█████████████████████████████████████████████| 6/6 [00:01<00:00,  3.90it/s]\u001b[A\n"
     ]
    },
    {
     "data": {
      "text/plain": [
       "array([[0.        , 0.        , 0.        , 0.23076923, 0.69230769,\n",
       "        0.07692308],\n",
       "       [0.        , 0.        , 0.        , 0.5       , 0.        ,\n",
       "        0.5       ],\n",
       "       [0.        , 0.        , 0.        , 0.        , 0.        ,\n",
       "        1.        ],\n",
       "       [1.        , 0.        , 0.        , 0.        , 0.        ,\n",
       "        0.        ],\n",
       "       [0.25      , 0.08333333, 0.08333333, 0.25      , 0.        ,\n",
       "        0.33333333],\n",
       "       [0.42857143, 0.14285714, 0.        , 0.        , 0.42857143,\n",
       "        0.        ]])"
      ]
     },
     "metadata": {},
     "output_type": "display_data"
    },
    {
     "name": "stderr",
     "output_type": "stream",
     "text": [
      "\r",
      " 38%|█████████████▉                       | 45/120 [19:06:02<1:09:41, 55.75s/it]"
     ]
    },
    {
     "name": "stdout",
     "output_type": "stream",
     "text": [
      "INFO: Noise Filtering applied\n",
      "INFO: Clusters generated\n",
      "(373045, 5) (1615, 5) (1615, 5) (1615, 5) (1615, 6)\n",
      "INFO: 13 clusters generated.\n"
     ]
    },
    {
     "name": "stderr",
     "output_type": "stream",
     "text": [
      "\n",
      "  0%|                                                    | 0/13 [00:00<?, ?it/s]\u001b[A\n",
      "  8%|███▍                                        | 1/13 [00:05<01:08,  5.73s/it]\u001b[A\n",
      " 15%|██████▊                                     | 2/13 [00:11<01:02,  5.69s/it]\u001b[A\n",
      " 23%|██████████▏                                 | 3/13 [00:17<00:57,  5.73s/it]\u001b[A\n",
      " 31%|█████████████▌                              | 4/13 [00:23<00:52,  5.81s/it]\u001b[A\n",
      " 38%|████████████████▉                           | 5/13 [00:28<00:46,  5.78s/it]\u001b[A\n",
      " 46%|████████████████████▎                       | 6/13 [00:34<00:40,  5.82s/it]\u001b[A\n",
      " 54%|███████████████████████▋                    | 7/13 [00:40<00:34,  5.79s/it]\u001b[A\n",
      " 62%|███████████████████████████                 | 8/13 [00:46<00:29,  5.82s/it]\u001b[A\n",
      " 69%|██████████████████████████████▍             | 9/13 [00:52<00:23,  5.90s/it]\u001b[A\n",
      " 77%|█████████████████████████████████          | 10/13 [00:58<00:17,  5.82s/it]\u001b[A\n",
      " 85%|████████████████████████████████████▍      | 11/13 [01:03<00:11,  5.81s/it]\u001b[A\n",
      " 92%|███████████████████████████████████████▋   | 12/13 [01:09<00:05,  5.84s/it]\u001b[A\n",
      "100%|███████████████████████████████████████████| 13/13 [01:15<00:00,  5.81s/it]\u001b[A\n"
     ]
    },
    {
     "data": {
      "text/plain": [
       "array([[0.        , 0.16      , 0.        , 0.        , 0.28      ,\n",
       "        0.06      , 0.02      , 0.        , 0.06      , 0.16      ,\n",
       "        0.2       , 0.02      , 0.04      ],\n",
       "       [0.4       , 0.        , 0.1       , 0.        , 0.        ,\n",
       "        0.35      , 0.        , 0.05      , 0.        , 0.        ,\n",
       "        0.1       , 0.        , 0.        ],\n",
       "       [0.        , 0.        , 0.        , 0.16666667, 0.83333333,\n",
       "        0.        , 0.        , 0.        , 0.        , 0.        ,\n",
       "        0.        , 0.        , 0.        ],\n",
       "       [0.        , 0.        , 1.        , 0.        , 0.        ,\n",
       "        0.        , 0.        , 0.        , 0.        , 0.        ,\n",
       "        0.        , 0.        , 0.        ],\n",
       "       [0.7       , 0.        , 0.2       , 0.        , 0.        ,\n",
       "        0.05      , 0.        , 0.        , 0.05      , 0.        ,\n",
       "        0.        , 0.        , 0.        ],\n",
       "       [0.27272727, 0.72727273, 0.        , 0.        , 0.        ,\n",
       "        0.        , 0.        , 0.        , 0.        , 0.        ,\n",
       "        0.        , 0.        , 0.        ],\n",
       "       [0.        , 0.        , 0.        , 0.        , 1.        ,\n",
       "        0.        , 0.        , 0.        , 0.        , 0.        ,\n",
       "        0.        , 0.        , 0.        ],\n",
       "       [0.        , 0.        , 0.        , 0.        , 0.        ,\n",
       "        0.        , 0.        , 0.        , 0.        , 0.        ,\n",
       "        1.        , 0.        , 0.        ],\n",
       "       [0.55555556, 0.        , 0.        , 0.        , 0.        ,\n",
       "        0.        , 0.        , 0.        , 0.        , 0.22222222,\n",
       "        0.11111111, 0.        , 0.11111111],\n",
       "       [0.44444444, 0.        , 0.        , 0.        , 0.        ,\n",
       "        0.        , 0.        , 0.        , 0.27777778, 0.        ,\n",
       "        0.05555556, 0.        , 0.22222222],\n",
       "       [0.5       , 0.22222222, 0.        , 0.        , 0.        ,\n",
       "        0.        , 0.        , 0.11111111, 0.        , 0.05555556,\n",
       "        0.        , 0.11111111, 0.        ],\n",
       "       [0.66666667, 0.        , 0.        , 0.        , 0.        ,\n",
       "        0.        , 0.        , 0.        , 0.        , 0.        ,\n",
       "        0.33333333, 0.        , 0.        ],\n",
       "       [0.125     , 0.        , 0.        , 0.        , 0.        ,\n",
       "        0.        , 0.        , 0.        , 0.        , 0.875     ,\n",
       "        0.        , 0.        , 0.        ]])"
      ]
     },
     "metadata": {},
     "output_type": "display_data"
    },
    {
     "name": "stderr",
     "output_type": "stream",
     "text": [
      "\r",
      " 38%|██████████████▏                      | 46/120 [19:07:38<1:23:49, 67.96s/it]"
     ]
    },
    {
     "name": "stdout",
     "output_type": "stream",
     "text": [
      "INFO: Noise Filtering applied\n",
      "INFO: Clusters generated\n",
      "(37784, 5) (48, 5) (48, 5) (48, 5) (48, 6)\n",
      "INFO: 3 clusters generated.\n"
     ]
    },
    {
     "name": "stderr",
     "output_type": "stream",
     "text": [
      "\n",
      "  0%|                                                     | 0/3 [00:00<?, ?it/s]\u001b[A\n",
      " 33%|███████████████                              | 1/3 [00:00<00:01,  1.42it/s]\u001b[A\n",
      " 67%|██████████████████████████████               | 2/3 [00:01<00:00,  1.61it/s]\u001b[A\n",
      "100%|█████████████████████████████████████████████| 3/3 [00:01<00:00,  1.64it/s]\u001b[A\n"
     ]
    },
    {
     "data": {
      "text/plain": [
       "array([[0. , 0.5, 0.5],\n",
       "       [1. , 0. , 0. ]])"
      ]
     },
     "metadata": {},
     "output_type": "display_data"
    },
    {
     "name": "stderr",
     "output_type": "stream",
     "text": [
      "\r",
      " 39%|███████████████▎                       | 47/120 [19:07:41<58:51, 48.38s/it]"
     ]
    },
    {
     "name": "stdout",
     "output_type": "stream",
     "text": [
      "INFO: Noise Filtering applied\n",
      "INFO: Clusters generated\n",
      "(4004, 5) (35, 5) (35, 5) (35, 5) (35, 6)\n",
      "INFO: 3 clusters generated.\n"
     ]
    },
    {
     "name": "stderr",
     "output_type": "stream",
     "text": [
      "\n",
      "  0%|                                                     | 0/3 [00:00<?, ?it/s]\u001b[A\n",
      "100%|█████████████████████████████████████████████| 3/3 [00:00<00:00, 16.17it/s]\u001b[A\n"
     ]
    },
    {
     "data": {
      "text/plain": [
       "array([[0.        , 0.93333333, 0.06666667],\n",
       "       [0.93333333, 0.        , 0.06666667],\n",
       "       [1.        , 0.        , 0.        ]])"
      ]
     },
     "metadata": {},
     "output_type": "display_data"
    },
    {
     "name": "stderr",
     "output_type": "stream",
     "text": [
      "\r",
      " 40%|███████████████▌                       | 48/120 [19:07:41<40:45, 33.97s/it]"
     ]
    },
    {
     "name": "stdout",
     "output_type": "stream",
     "text": [
      "INFO: Noise Filtering applied\n",
      "INFO: Clusters generated\n",
      "(2793, 5) (32, 5) (32, 5) (32, 5) (32, 6)\n",
      "INFO: 2 clusters generated.\n"
     ]
    },
    {
     "name": "stderr",
     "output_type": "stream",
     "text": [
      "\n",
      "100%|█████████████████████████████████████████████| 2/2 [00:00<00:00, 22.50it/s]\u001b[A\n"
     ]
    },
    {
     "data": {
      "text/plain": [
       "array([[0., 1.],\n",
       "       [1., 0.]])"
      ]
     },
     "metadata": {},
     "output_type": "display_data"
    },
    {
     "name": "stderr",
     "output_type": "stream",
     "text": [
      "\r",
      " 41%|███████████████▉                       | 49/120 [19:07:41<28:12, 23.84s/it]"
     ]
    },
    {
     "name": "stdout",
     "output_type": "stream",
     "text": [
      "INFO: Noise Filtering applied\n",
      "INFO: Clusters generated\n",
      "(13769, 5) (28, 5) (28, 5) (28, 5) (28, 6)\n",
      "INFO: 9 clusters generated.\n"
     ]
    },
    {
     "name": "stderr",
     "output_type": "stream",
     "text": [
      "\n",
      "  0%|                                                     | 0/9 [00:00<?, ?it/s]\u001b[A\n",
      " 11%|█████                                        | 1/9 [00:00<00:01,  4.91it/s]\u001b[A\n",
      " 22%|██████████                                   | 2/9 [00:00<00:01,  4.78it/s]\u001b[A\n",
      " 33%|███████████████                              | 3/9 [00:00<00:01,  3.64it/s]\u001b[A\n",
      " 44%|████████████████████                         | 4/9 [00:00<00:01,  3.99it/s]\u001b[A\n",
      " 56%|█████████████████████████                    | 5/9 [00:01<00:00,  4.22it/s]\u001b[A\n",
      " 67%|██████████████████████████████               | 6/9 [00:01<00:00,  4.36it/s]\u001b[A\n",
      " 78%|███████████████████████████████████          | 7/9 [00:01<00:00,  4.47it/s]\u001b[A\n",
      " 89%|████████████████████████████████████████     | 8/9 [00:01<00:00,  4.58it/s]\u001b[A\n",
      "100%|█████████████████████████████████████████████| 9/9 [00:02<00:00,  4.42it/s]\u001b[A\n"
     ]
    },
    {
     "data": {
      "text/plain": [
       "array([[0.        , 0.        , 0.        , 0.22222222, 0.22222222,\n",
       "        0.11111111, 0.11111111, 0.11111111, 0.22222222],\n",
       "       [0.5       , 0.        , 0.        , 0.        , 0.        ,\n",
       "        0.        , 0.        , 0.        , 0.5       ],\n",
       "       [0.        , 0.        , 0.        , 0.        , 0.        ,\n",
       "        1.        , 0.        , 0.        , 0.        ],\n",
       "       [0.5       , 0.        , 0.        , 0.        , 0.5       ,\n",
       "        0.        , 0.        , 0.        , 0.        ],\n",
       "       [0.        , 0.        , 0.        , 0.5       , 0.        ,\n",
       "        0.        , 0.        , 0.        , 0.5       ],\n",
       "       [1.        , 0.        , 0.        , 0.        , 0.        ,\n",
       "        0.        , 0.        , 0.        , 0.        ],\n",
       "       [0.        , 0.        , 0.        , 0.        , 0.        ,\n",
       "        0.        , 0.        , 0.        , 1.        ],\n",
       "       [0.        , 1.        , 0.        , 0.        , 0.        ,\n",
       "        0.        , 0.        , 0.        , 0.        ],\n",
       "       [0.33333333, 0.55555556, 0.11111111, 0.        , 0.        ,\n",
       "        0.        , 0.        , 0.        , 0.        ]])"
      ]
     },
     "metadata": {},
     "output_type": "display_data"
    },
    {
     "name": "stderr",
     "output_type": "stream",
     "text": [
      "\r",
      " 42%|████████████████▎                      | 50/120 [19:07:44<20:18, 17.41s/it]"
     ]
    },
    {
     "name": "stdout",
     "output_type": "stream",
     "text": [
      "INFO: Noise Filtering applied\n",
      "INFO: Clusters generated\n",
      "(2800, 5) (17, 5) (17, 5) (17, 5) (17, 6)\n",
      "INFO: 6 clusters generated.\n"
     ]
    },
    {
     "name": "stderr",
     "output_type": "stream",
     "text": [
      "\n",
      "  0%|                                                     | 0/6 [00:00<?, ?it/s]\u001b[A\n",
      " 50%|██████████████████████▌                      | 3/6 [00:00<00:00, 21.99it/s]\u001b[A\n",
      "100%|█████████████████████████████████████████████| 6/6 [00:00<00:00, 22.09it/s]\u001b[A\n"
     ]
    },
    {
     "data": {
      "text/plain": [
       "array([[0.        , 0.14285714, 0.        , 0.71428571, 0.        ,\n",
       "        0.14285714],\n",
       "       [0.        , 0.        , 0.3       , 0.        , 0.2       ,\n",
       "        0.5       ],\n",
       "       [0.14285714, 0.42857143, 0.        , 0.        , 0.42857143,\n",
       "        0.        ],\n",
       "       [0.5       , 0.        , 0.1       , 0.        , 0.        ,\n",
       "        0.4       ],\n",
       "       [0.        , 0.4       , 0.6       , 0.        , 0.        ,\n",
       "        0.        ],\n",
       "       [0.1       , 0.4       , 0.        , 0.5       , 0.        ,\n",
       "        0.        ]])"
      ]
     },
     "metadata": {},
     "output_type": "display_data"
    },
    {
     "name": "stderr",
     "output_type": "stream",
     "text": [
      "\r",
      " 42%|████████████████▌                      | 51/120 [19:07:44<14:08, 12.30s/it]"
     ]
    },
    {
     "name": "stdout",
     "output_type": "stream",
     "text": [
      "INFO: Noise Filtering applied\n",
      "INFO: Clusters generated\n",
      "(330249, 5) (302, 5) (302, 5) (302, 5) (302, 6)\n",
      "INFO: 19 clusters generated.\n"
     ]
    },
    {
     "name": "stderr",
     "output_type": "stream",
     "text": [
      "\n",
      "  0%|                                                    | 0/19 [00:00<?, ?it/s]\u001b[A\n",
      "  5%|██▎                                         | 1/19 [00:05<01:34,  5.23s/it]\u001b[A\n",
      " 11%|████▋                                       | 2/19 [00:10<01:27,  5.14s/it]\u001b[A\n",
      " 16%|██████▉                                     | 3/19 [00:15<01:22,  5.17s/it]\u001b[A\n",
      " 21%|█████████▎                                  | 4/19 [00:20<01:17,  5.19s/it]\u001b[A\n",
      " 26%|███████████▌                                | 5/19 [00:25<01:11,  5.13s/it]\u001b[A\n",
      " 32%|█████████████▉                              | 6/19 [00:31<01:07,  5.19s/it]\u001b[A\n",
      " 37%|████████████████▏                           | 7/19 [00:36<01:02,  5.18s/it]\u001b[A\n",
      " 42%|██████████████████▌                         | 8/19 [00:41<00:56,  5.14s/it]\u001b[A\n",
      " 47%|████████████████████▊                       | 9/19 [00:46<00:51,  5.15s/it]\u001b[A\n",
      " 53%|██████████████████████▋                    | 10/19 [00:51<00:46,  5.18s/it]\u001b[A\n",
      " 58%|████████████████████████▉                  | 11/19 [00:56<00:41,  5.20s/it]\u001b[A\n",
      " 63%|███████████████████████████▏               | 12/19 [01:02<00:36,  5.17s/it]\u001b[A\n",
      " 68%|█████████████████████████████▍             | 13/19 [01:07<00:31,  5.17s/it]\u001b[A\n",
      " 74%|███████████████████████████████▋           | 14/19 [01:12<00:25,  5.17s/it]\u001b[A\n",
      " 79%|█████████████████████████████████▉         | 15/19 [01:17<00:20,  5.14s/it]\u001b[A\n",
      " 84%|████████████████████████████████████▏      | 16/19 [01:22<00:15,  5.15s/it]\u001b[A\n",
      " 89%|██████████████████████████████████████▍    | 17/19 [01:27<00:10,  5.15s/it]\u001b[A\n",
      " 95%|████████████████████████████████████████▋  | 18/19 [01:32<00:05,  5.12s/it]\u001b[A\n",
      "100%|███████████████████████████████████████████| 19/19 [01:38<00:00,  5.16s/it]\u001b[A\n"
     ]
    },
    {
     "data": {
      "text/plain": [
       "array([[0.        , 0.08080808, 0.31313131, 0.02020202, 0.06060606,\n",
       "        0.03030303, 0.06060606, 0.03030303, 0.        , 0.02020202,\n",
       "        0.13131313, 0.        , 0.04040404, 0.19191919, 0.        ,\n",
       "        0.        , 0.        , 0.        , 0.02020202],\n",
       "       [0.05263158, 0.        , 0.01754386, 0.50877193, 0.        ,\n",
       "        0.01754386, 0.        , 0.        , 0.01754386, 0.        ,\n",
       "        0.        , 0.        , 0.28070175, 0.0877193 , 0.        ,\n",
       "        0.        , 0.        , 0.        , 0.01754386],\n",
       "       [0.51388889, 0.01388889, 0.        , 0.38888889, 0.        ,\n",
       "        0.        , 0.        , 0.        , 0.        , 0.        ,\n",
       "        0.01388889, 0.        , 0.01388889, 0.01388889, 0.        ,\n",
       "        0.        , 0.        , 0.01388889, 0.02777778],\n",
       "       [0.04761905, 0.38095238, 0.53968254, 0.        , 0.        ,\n",
       "        0.        , 0.        , 0.        , 0.        , 0.        ,\n",
       "        0.01587302, 0.        , 0.        , 0.01587302, 0.        ,\n",
       "        0.        , 0.        , 0.        , 0.        ],\n",
       "       [0.625     , 0.        , 0.        , 0.        , 0.        ,\n",
       "        0.        , 0.        , 0.        , 0.        , 0.        ,\n",
       "        0.125     , 0.        , 0.125     , 0.125     , 0.        ,\n",
       "        0.        , 0.        , 0.        , 0.        ],\n",
       "       [0.        , 0.        , 0.11111111, 0.        , 0.        ,\n",
       "        0.        , 0.        , 0.        , 0.        , 0.        ,\n",
       "        0.        , 0.        , 0.        , 0.11111111, 0.55555556,\n",
       "        0.        , 0.22222222, 0.        , 0.        ],\n",
       "       [0.45833333, 0.        , 0.        , 0.        , 0.        ,\n",
       "        0.        , 0.        , 0.        , 0.        , 0.        ,\n",
       "        0.04166667, 0.        , 0.04166667, 0.45833333, 0.        ,\n",
       "        0.        , 0.        , 0.        , 0.        ],\n",
       "       [0.6       , 0.        , 0.        , 0.        , 0.4       ,\n",
       "        0.        , 0.        , 0.        , 0.        , 0.        ,\n",
       "        0.        , 0.        , 0.        , 0.        , 0.        ,\n",
       "        0.        , 0.        , 0.        , 0.        ],\n",
       "       [0.        , 0.        , 0.        , 0.        , 0.        ,\n",
       "        0.        , 0.        , 0.        , 0.        , 0.        ,\n",
       "        0.        , 0.        , 0.        , 0.        , 0.        ,\n",
       "        1.        , 0.        , 0.        , 0.        ],\n",
       "       [0.        , 0.5       , 0.5       , 0.        , 0.        ,\n",
       "        0.        , 0.        , 0.        , 0.        , 0.        ,\n",
       "        0.        , 0.        , 0.        , 0.        , 0.        ,\n",
       "        0.        , 0.        , 0.        , 0.        ],\n",
       "       [0.54545455, 0.09090909, 0.04545455, 0.        , 0.        ,\n",
       "        0.04545455, 0.        , 0.04545455, 0.        , 0.        ,\n",
       "        0.        , 0.        , 0.        , 0.        , 0.22727273,\n",
       "        0.        , 0.        , 0.        , 0.        ],\n",
       "       [0.        , 0.        , 0.        , 0.        , 0.        ,\n",
       "        0.        , 0.        , 0.        , 0.        , 0.        ,\n",
       "        0.        , 0.        , 1.        , 0.        , 0.        ,\n",
       "        0.        , 0.        , 0.        , 0.        ],\n",
       "       [0.2       , 0.5       , 0.        , 0.06666667, 0.        ,\n",
       "        0.        , 0.        , 0.        , 0.        , 0.        ,\n",
       "        0.        , 0.        , 0.        , 0.06666667, 0.        ,\n",
       "        0.16666667, 0.        , 0.        , 0.        ],\n",
       "       [0.26530612, 0.12244898, 0.        , 0.02040816, 0.        ,\n",
       "        0.        , 0.36734694, 0.02040816, 0.        , 0.        ,\n",
       "        0.        , 0.        , 0.10204082, 0.        , 0.        ,\n",
       "        0.10204082, 0.        , 0.        , 0.        ],\n",
       "       [0.08333333, 0.        , 0.        , 0.08333333, 0.        ,\n",
       "        0.16666667, 0.08333333, 0.        , 0.        , 0.        ,\n",
       "        0.41666667, 0.08333333, 0.        , 0.        , 0.        ,\n",
       "        0.        , 0.08333333, 0.        , 0.        ],\n",
       "       [0.16666667, 0.        , 0.08333333, 0.        , 0.        ,\n",
       "        0.        , 0.        , 0.        , 0.        , 0.        ,\n",
       "        0.        , 0.        , 0.        , 0.66666667, 0.08333333,\n",
       "        0.        , 0.        , 0.        , 0.        ],\n",
       "       [0.        , 0.        , 0.        , 0.        , 0.        ,\n",
       "        0.66666667, 0.        , 0.        , 0.        , 0.        ,\n",
       "        0.        , 0.        , 0.        , 0.        , 0.33333333,\n",
       "        0.        , 0.        , 0.        , 0.        ],\n",
       "       [0.        , 0.        , 0.        , 0.        , 0.        ,\n",
       "        0.        , 0.        , 0.        , 0.        , 0.        ,\n",
       "        0.        , 0.        , 0.        , 0.        , 0.        ,\n",
       "        1.        , 0.        , 0.        , 0.        ],\n",
       "       [0.5       , 0.        , 0.33333333, 0.        , 0.        ,\n",
       "        0.        , 0.        , 0.        , 0.        , 0.        ,\n",
       "        0.        , 0.        , 0.16666667, 0.        , 0.        ,\n",
       "        0.        , 0.        , 0.        , 0.        ]])"
      ]
     },
     "metadata": {},
     "output_type": "display_data"
    },
    {
     "name": "stderr",
     "output_type": "stream",
     "text": [
      "\r",
      " 43%|████████████████▉                      | 52/120 [19:09:40<49:00, 43.25s/it]"
     ]
    },
    {
     "name": "stdout",
     "output_type": "stream",
     "text": [
      "INFO: Noise Filtering applied\n",
      "INFO: Clusters generated\n",
      "(12490, 5) (4, 5) (4, 5) (4, 5) (4, 6)\n",
      "INFO: 4 clusters generated.\n"
     ]
    },
    {
     "name": "stderr",
     "output_type": "stream",
     "text": [
      "\n",
      "  0%|                                                     | 0/4 [00:00<?, ?it/s]\u001b[A\n",
      " 25%|███████████▎                                 | 1/4 [00:00<00:00,  5.39it/s]\u001b[A\n",
      " 50%|██████████████████████▌                      | 2/4 [00:00<00:00,  5.24it/s]\u001b[A\n",
      " 75%|█████████████████████████████████▊           | 3/4 [00:00<00:00,  3.99it/s]\u001b[A\n",
      "100%|█████████████████████████████████████████████| 4/4 [00:00<00:00,  4.48it/s]\u001b[A\n"
     ]
    },
    {
     "data": {
      "text/plain": [
       "array([[0. , 0. , 1. , 0. ],\n",
       "       [0. , 0.5, 0. , 0.5],\n",
       "       [0.5, 0. , 0.5, 0. ]])"
      ]
     },
     "metadata": {},
     "output_type": "display_data"
    },
    {
     "name": "stderr",
     "output_type": "stream",
     "text": [
      "\r",
      " 44%|█████████████████▏                     | 53/120 [19:09:41<34:11, 30.63s/it]"
     ]
    },
    {
     "name": "stdout",
     "output_type": "stream",
     "text": [
      "INFO: Noise Filtering applied\n",
      "INFO: Clusters generated\n",
      "(58754, 5) (36, 5) (36, 5) (36, 5) (36, 6)\n",
      "INFO: 10 clusters generated.\n"
     ]
    },
    {
     "name": "stderr",
     "output_type": "stream",
     "text": [
      "\n",
      "  0%|                                                    | 0/10 [00:00<?, ?it/s]\u001b[A\n",
      " 10%|████▍                                       | 1/10 [00:00<00:07,  1.16it/s]\u001b[A\n",
      " 20%|████████▊                                   | 2/10 [00:01<00:07,  1.05it/s]\u001b[A\n",
      " 30%|█████████████▏                              | 3/10 [00:02<00:06,  1.09it/s]\u001b[A\n",
      " 40%|█████████████████▌                          | 4/10 [00:03<00:05,  1.11it/s]\u001b[A\n",
      " 50%|██████████████████████                      | 5/10 [00:04<00:04,  1.06it/s]\u001b[A\n",
      " 60%|██████████████████████████▍                 | 6/10 [00:05<00:03,  1.08it/s]\u001b[A\n",
      " 70%|██████████████████████████████▊             | 7/10 [00:06<00:02,  1.10it/s]\u001b[A\n",
      " 80%|███████████████████████████████████▏        | 8/10 [00:07<00:01,  1.07it/s]\u001b[A\n",
      " 90%|███████████████████████████████████████▌    | 9/10 [00:08<00:00,  1.10it/s]\u001b[A\n",
      "100%|███████████████████████████████████████████| 10/10 [00:09<00:00,  1.09it/s]\u001b[A\n"
     ]
    },
    {
     "data": {
      "text/plain": [
       "array([[0.        , 0.        , 0.        , 0.1       , 0.1       ,\n",
       "        0.1       , 0.        , 0.1       , 0.        , 0.6       ],\n",
       "       [1.        , 0.        , 0.        , 0.        , 0.        ,\n",
       "        0.        , 0.        , 0.        , 0.        , 0.        ],\n",
       "       [0.5       , 0.        , 0.        , 0.        , 0.        ,\n",
       "        0.        , 0.        , 0.        , 0.        , 0.5       ],\n",
       "       [1.        , 0.        , 0.        , 0.        , 0.        ,\n",
       "        0.        , 0.        , 0.        , 0.        , 0.        ],\n",
       "       [0.4       , 0.        , 0.        , 0.        , 0.        ,\n",
       "        0.6       , 0.        , 0.        , 0.        , 0.        ],\n",
       "       [0.        , 0.        , 0.        , 0.        , 0.        ,\n",
       "        0.        , 0.        , 1.        , 0.        , 0.        ],\n",
       "       [0.16666667, 0.        , 0.        , 0.        , 0.        ,\n",
       "        0.16666667, 0.        , 0.5       , 0.16666667, 0.        ],\n",
       "       [0.        , 0.        , 0.        , 0.        , 0.        ,\n",
       "        0.1       , 0.6       , 0.        , 0.3       , 0.        ],\n",
       "       [0.25      , 0.        , 0.        , 0.        , 0.75      ,\n",
       "        0.        , 0.        , 0.        , 0.        , 0.        ],\n",
       "       [0.5       , 0.125     , 0.25      , 0.        , 0.125     ,\n",
       "        0.        , 0.        , 0.        , 0.        , 0.        ]])"
      ]
     },
     "metadata": {},
     "output_type": "display_data"
    },
    {
     "name": "stderr",
     "output_type": "stream",
     "text": [
      "\r",
      " 45%|█████████████████▌                     | 54/120 [19:09:52<27:07, 24.66s/it]"
     ]
    },
    {
     "name": "stdout",
     "output_type": "stream",
     "text": [
      "INFO: Noise Filtering applied\n",
      "INFO: Clusters generated\n",
      "(118928, 5) (139, 5) (139, 5) (139, 5) (139, 6)\n",
      "INFO: 7 clusters generated.\n"
     ]
    },
    {
     "name": "stderr",
     "output_type": "stream",
     "text": [
      "\n",
      "  0%|                                                     | 0/7 [00:00<?, ?it/s]\u001b[A\n",
      " 14%|██████▍                                      | 1/7 [00:01<00:11,  1.89s/it]\u001b[A\n",
      " 29%|████████████▊                                | 2/7 [00:03<00:09,  1.90s/it]\u001b[A\n",
      " 43%|███████████████████▎                         | 3/7 [00:05<00:07,  1.83s/it]\u001b[A\n",
      " 57%|█████████████████████████▋                   | 4/7 [00:07<00:05,  1.86s/it]\u001b[A\n",
      " 71%|████████████████████████████████▏            | 5/7 [00:09<00:03,  1.88s/it]\u001b[A\n",
      " 86%|██████████████████████████████████████▌      | 6/7 [00:11<00:01,  1.90s/it]\u001b[A\n",
      "100%|█████████████████████████████████████████████| 7/7 [00:13<00:00,  1.87s/it]\u001b[A\n"
     ]
    },
    {
     "data": {
      "text/plain": [
       "array([[0.        , 0.16666667, 0.16666667, 0.33333333, 0.16666667,\n",
       "        0.        , 0.16666667],\n",
       "       [0.5       , 0.        , 0.        , 0.25      , 0.        ,\n",
       "        0.25      , 0.        ],\n",
       "       [0.33333333, 0.33333333, 0.        , 0.33333333, 0.        ,\n",
       "        0.        , 0.        ],\n",
       "       [0.4       , 0.2       , 0.2       , 0.        , 0.        ,\n",
       "        0.        , 0.2       ],\n",
       "       [0.        , 0.5       , 0.5       , 0.        , 0.        ,\n",
       "        0.        , 0.        ],\n",
       "       [0.        , 0.        , 0.        , 0.        , 1.        ,\n",
       "        0.        , 0.        ],\n",
       "       [0.5       , 0.        , 0.5       , 0.        , 0.        ,\n",
       "        0.        , 0.        ]])"
      ]
     },
     "metadata": {},
     "output_type": "display_data"
    },
    {
     "name": "stderr",
     "output_type": "stream",
     "text": [
      "\r",
      " 46%|█████████████████▉                     | 55/120 [19:10:09<24:13, 22.36s/it]"
     ]
    },
    {
     "name": "stdout",
     "output_type": "stream",
     "text": [
      "INFO: Noise Filtering applied\n",
      "INFO: Clusters generated\n",
      "(61013, 5) (12, 5) (12, 5) (12, 5) (12, 6)\n",
      "INFO: 9 clusters generated.\n"
     ]
    },
    {
     "name": "stderr",
     "output_type": "stream",
     "text": [
      "\n",
      "  0%|                                                     | 0/9 [00:00<?, ?it/s]\u001b[A\n",
      " 11%|█████                                        | 1/9 [00:00<00:07,  1.12it/s]\u001b[A\n",
      " 22%|██████████                                   | 2/9 [00:01<00:06,  1.12it/s]\u001b[A\n",
      " 33%|███████████████                              | 3/9 [00:02<00:05,  1.04it/s]\u001b[A\n",
      " 44%|████████████████████                         | 4/9 [00:03<00:04,  1.06it/s]\u001b[A\n",
      " 56%|█████████████████████████                    | 5/9 [00:04<00:03,  1.07it/s]\u001b[A\n",
      " 67%|██████████████████████████████               | 6/9 [00:05<00:02,  1.04it/s]\u001b[A\n",
      " 78%|███████████████████████████████████          | 7/9 [00:06<00:01,  1.06it/s]\u001b[A\n",
      " 89%|████████████████████████████████████████     | 8/9 [00:07<00:00,  1.07it/s]\u001b[A\n",
      "100%|█████████████████████████████████████████████| 9/9 [00:08<00:00,  1.05it/s]\u001b[A\n"
     ]
    },
    {
     "data": {
      "text/plain": [
       "array([[0.        , 1.        , 0.        , 0.        , 0.        ,\n",
       "        0.        , 0.        , 0.        , 0.        ],\n",
       "       [0.5       , 0.        , 0.        , 0.        , 0.        ,\n",
       "        0.        , 0.        , 0.        , 0.5       ],\n",
       "       [0.        , 0.        , 0.        , 0.        , 0.5       ,\n",
       "        0.        , 0.        , 0.        , 0.5       ],\n",
       "       [0.        , 0.        , 0.5       , 0.5       , 0.        ,\n",
       "        0.        , 0.        , 0.        , 0.        ],\n",
       "       [0.        , 0.        , 0.        , 0.        , 1.        ,\n",
       "        0.        , 0.        , 0.        , 0.        ],\n",
       "       [0.        , 0.        , 0.        , 0.        , 0.        ,\n",
       "        1.        , 0.        , 0.        , 0.        ],\n",
       "       [0.        , 0.        , 1.        , 0.        , 0.        ,\n",
       "        0.        , 0.        , 0.        , 0.        ],\n",
       "       [0.        , 0.        , 0.        , 0.33333333, 0.        ,\n",
       "        0.        , 0.33333333, 0.33333333, 0.        ]])"
      ]
     },
     "metadata": {},
     "output_type": "display_data"
    },
    {
     "name": "stderr",
     "output_type": "stream",
     "text": [
      "\r",
      " 47%|██████████████████▏                    | 56/120 [19:10:19<19:57, 18.72s/it]"
     ]
    },
    {
     "name": "stdout",
     "output_type": "stream",
     "text": [
      "INFO: Noise Filtering applied\n",
      "INFO: Clusters generated\n",
      "(391199, 5) (2456, 5) (2456, 5) (2456, 5) (2456, 6)\n",
      "INFO: 9 clusters generated.\n"
     ]
    },
    {
     "name": "stderr",
     "output_type": "stream",
     "text": [
      "\n",
      "  0%|                                                     | 0/9 [00:00<?, ?it/s]\u001b[A\n",
      " 11%|█████                                        | 1/9 [00:06<00:48,  6.09s/it]\u001b[A\n",
      " 22%|██████████                                   | 2/9 [00:12<00:42,  6.09s/it]\u001b[A\n",
      " 33%|███████████████                              | 3/9 [00:18<00:36,  6.08s/it]\u001b[A\n",
      " 44%|████████████████████                         | 4/9 [00:24<00:30,  6.10s/it]\u001b[A\n",
      " 56%|█████████████████████████                    | 5/9 [00:30<00:24,  6.03s/it]\u001b[A\n",
      " 67%|██████████████████████████████               | 6/9 [00:36<00:18,  6.05s/it]\u001b[A\n",
      " 78%|███████████████████████████████████          | 7/9 [00:42<00:12,  6.05s/it]\u001b[A\n",
      " 89%|████████████████████████████████████████     | 8/9 [00:48<00:06,  6.10s/it]\u001b[A\n",
      "100%|█████████████████████████████████████████████| 9/9 [00:54<00:00,  6.08s/it]\u001b[A\n"
     ]
    },
    {
     "data": {
      "text/plain": [
       "array([[0.        , 0.38461538, 0.        , 0.        , 0.23076923,\n",
       "        0.07692308, 0.07692308, 0.07692308, 0.15384615],\n",
       "       [1.        , 0.        , 0.        , 0.        , 0.        ,\n",
       "        0.        , 0.        , 0.        , 0.        ],\n",
       "       [1.        , 0.        , 0.        , 0.        , 0.        ,\n",
       "        0.        , 0.        , 0.        , 0.        ],\n",
       "       [0.5       , 0.        , 0.        , 0.        , 0.        ,\n",
       "        0.5       , 0.        , 0.        , 0.        ],\n",
       "       [0.        , 0.2       , 0.2       , 0.        , 0.        ,\n",
       "        0.        , 0.        , 0.4       , 0.2       ],\n",
       "       [0.5       , 0.        , 0.        , 0.5       , 0.        ,\n",
       "        0.        , 0.        , 0.        , 0.        ],\n",
       "       [0.        , 0.        , 0.        , 0.        , 0.        ,\n",
       "        0.        , 0.        , 1.        , 0.        ],\n",
       "       [0.4       , 0.        , 0.        , 0.2       , 0.4       ,\n",
       "        0.        , 0.        , 0.        , 0.        ],\n",
       "       [0.33333333, 0.33333333, 0.        , 0.        , 0.        ,\n",
       "        0.        , 0.        , 0.33333333, 0.        ]])"
      ]
     },
     "metadata": {},
     "output_type": "display_data"
    },
    {
     "name": "stderr",
     "output_type": "stream",
     "text": [
      "\r",
      " 48%|██████████████████▌                    | 57/120 [19:11:36<38:11, 36.38s/it]"
     ]
    },
    {
     "name": "stdout",
     "output_type": "stream",
     "text": [
      "INFO: Noise Filtering applied\n",
      "INFO: Clusters generated\n",
      "(937876, 5) (665, 5) (665, 5) (665, 5) (665, 6)\n",
      "INFO: 20 clusters generated.\n"
     ]
    },
    {
     "name": "stderr",
     "output_type": "stream",
     "text": [
      "\n",
      "  0%|                                                    | 0/20 [00:00<?, ?it/s]\u001b[A\n",
      "  5%|██▏                                         | 1/20 [00:14<04:37, 14.59s/it]\u001b[A\n",
      " 10%|████▍                                       | 2/20 [00:29<04:21, 14.51s/it]\u001b[A\n",
      " 15%|██████▌                                     | 3/20 [00:44<04:13, 14.92s/it]\u001b[A\n",
      " 20%|████████▊                                   | 4/20 [00:59<03:59, 14.98s/it]\u001b[A\n",
      " 25%|███████████                                 | 5/20 [01:14<03:42, 14.84s/it]\u001b[A\n",
      " 30%|█████████████▏                              | 6/20 [01:28<03:25, 14.68s/it]\u001b[A\n",
      " 35%|███████████████▍                            | 7/20 [01:42<03:10, 14.63s/it]\u001b[A\n",
      " 40%|█████████████████▌                          | 8/20 [01:57<02:55, 14.61s/it]\u001b[A\n",
      " 45%|███████████████████▊                        | 9/20 [02:12<02:40, 14.55s/it]\u001b[A\n",
      " 50%|█████████████████████▌                     | 10/20 [02:26<02:24, 14.44s/it]\u001b[A\n",
      " 55%|███████████████████████▋                   | 11/20 [02:40<02:10, 14.51s/it]\u001b[A\n",
      " 60%|█████████████████████████▊                 | 12/20 [02:55<01:55, 14.43s/it]\u001b[A\n",
      " 65%|███████████████████████████▉               | 13/20 [03:09<01:41, 14.44s/it]\u001b[A\n",
      " 70%|██████████████████████████████             | 14/20 [03:23<01:26, 14.39s/it]\u001b[A\n",
      " 75%|████████████████████████████████▎          | 15/20 [03:38<01:11, 14.40s/it]\u001b[A\n",
      " 80%|██████████████████████████████████▍        | 16/20 [03:52<00:57, 14.38s/it]\u001b[A\n",
      " 85%|████████████████████████████████████▌      | 17/20 [04:06<00:43, 14.35s/it]\u001b[A\n",
      " 90%|██████████████████████████████████████▋    | 18/20 [04:21<00:28, 14.40s/it]\u001b[A\n",
      " 95%|████████████████████████████████████████▊  | 19/20 [04:35<00:14, 14.41s/it]\u001b[A\n",
      "100%|███████████████████████████████████████████| 20/20 [04:50<00:00, 14.52s/it]\u001b[A\n"
     ]
    },
    {
     "data": {
      "text/plain": [
       "array([[0.        , 0.66129032, 0.        , 0.        , 0.05645161,\n",
       "        0.        , 0.02419355, 0.08870968, 0.08064516, 0.        ,\n",
       "        0.        , 0.        , 0.03225806, 0.        , 0.        ,\n",
       "        0.02419355, 0.        , 0.02419355, 0.        , 0.00806452],\n",
       "       [0.57857143, 0.        , 0.        , 0.        , 0.00714286,\n",
       "        0.        , 0.33571429, 0.00714286, 0.02142857, 0.00714286,\n",
       "        0.01428571, 0.        , 0.        , 0.        , 0.        ,\n",
       "        0.        , 0.00714286, 0.        , 0.02142857, 0.        ],\n",
       "       [0.        , 0.        , 0.        , 0.05555556, 0.        ,\n",
       "        0.05555556, 0.        , 0.        , 0.05555556, 0.        ,\n",
       "        0.        , 0.55555556, 0.        , 0.27777778, 0.        ,\n",
       "        0.        , 0.        , 0.        , 0.        , 0.        ],\n",
       "       [0.        , 0.        , 0.26666667, 0.        , 0.        ,\n",
       "        0.        , 0.        , 0.6       , 0.        , 0.        ,\n",
       "        0.        , 0.        , 0.        , 0.13333333, 0.        ,\n",
       "        0.        , 0.        , 0.        , 0.        , 0.        ],\n",
       "       [0.5       , 0.        , 0.        , 0.        , 0.        ,\n",
       "        0.        , 0.        , 0.2       , 0.1       , 0.        ,\n",
       "        0.        , 0.        , 0.        , 0.        , 0.        ,\n",
       "        0.1       , 0.        , 0.1       , 0.        , 0.        ],\n",
       "       [0.        , 0.        , 0.        , 0.125     , 0.        ,\n",
       "        0.        , 0.        , 0.        , 0.        , 0.        ,\n",
       "        0.0625    , 0.6875    , 0.        , 0.        , 0.        ,\n",
       "        0.        , 0.125     , 0.        , 0.        , 0.        ],\n",
       "       [0.        , 0.98113208, 0.        , 0.        , 0.        ,\n",
       "        0.01886792, 0.        , 0.        , 0.        , 0.        ,\n",
       "        0.        , 0.        , 0.        , 0.        , 0.        ,\n",
       "        0.        , 0.        , 0.        , 0.        , 0.        ],\n",
       "       [0.48275862, 0.        , 0.        , 0.20689655, 0.06896552,\n",
       "        0.        , 0.        , 0.        , 0.        , 0.20689655,\n",
       "        0.        , 0.        , 0.        , 0.        , 0.        ,\n",
       "        0.03448276, 0.        , 0.        , 0.        , 0.        ],\n",
       "       [0.34782609, 0.13043478, 0.        , 0.04347826, 0.04347826,\n",
       "        0.        , 0.        , 0.        , 0.        , 0.04347826,\n",
       "        0.17391304, 0.        , 0.        , 0.        , 0.2173913 ,\n",
       "        0.        , 0.        , 0.        , 0.        , 0.        ],\n",
       "       [0.        , 0.1       , 0.        , 0.1       , 0.        ,\n",
       "        0.        , 0.1       , 0.4       , 0.1       , 0.        ,\n",
       "        0.1       , 0.        , 0.        , 0.        , 0.1       ,\n",
       "        0.        , 0.        , 0.        , 0.        , 0.        ],\n",
       "       [0.125     , 0.        , 0.125     , 0.        , 0.        ,\n",
       "        0.        , 0.        , 0.125     , 0.5       , 0.125     ,\n",
       "        0.        , 0.        , 0.        , 0.        , 0.        ,\n",
       "        0.        , 0.        , 0.        , 0.        , 0.        ],\n",
       "       [0.        , 0.        , 0.52380952, 0.        , 0.        ,\n",
       "        0.47619048, 0.        , 0.        , 0.        , 0.        ,\n",
       "        0.        , 0.        , 0.        , 0.        , 0.        ,\n",
       "        0.        , 0.        , 0.        , 0.        , 0.        ],\n",
       "       [0.2       , 0.        , 0.        , 0.        , 0.        ,\n",
       "        0.6       , 0.        , 0.        , 0.        , 0.        ,\n",
       "        0.        , 0.        , 0.        , 0.2       , 0.        ,\n",
       "        0.        , 0.        , 0.        , 0.        , 0.        ],\n",
       "       [0.        , 0.        , 0.25      , 0.5       , 0.        ,\n",
       "        0.125     , 0.        , 0.        , 0.        , 0.        ,\n",
       "        0.        , 0.        , 0.125     , 0.        , 0.        ,\n",
       "        0.        , 0.        , 0.        , 0.        , 0.        ],\n",
       "       [0.16666667, 0.        , 0.        , 0.        , 0.        ,\n",
       "        0.        , 0.16666667, 0.        , 0.5       , 0.16666667,\n",
       "        0.        , 0.        , 0.        , 0.        , 0.        ,\n",
       "        0.        , 0.        , 0.        , 0.        , 0.        ],\n",
       "       [0.66666667, 0.        , 0.        , 0.        , 0.        ,\n",
       "        0.        , 0.        , 0.16666667, 0.        , 0.        ,\n",
       "        0.        , 0.        , 0.        , 0.        , 0.        ,\n",
       "        0.        , 0.        , 0.        , 0.        , 0.16666667],\n",
       "       [0.66666667, 0.        , 0.        , 0.        , 0.        ,\n",
       "        0.        , 0.        , 0.        , 0.        , 0.        ,\n",
       "        0.        , 0.        , 0.        , 0.        , 0.        ,\n",
       "        0.33333333, 0.        , 0.        , 0.        , 0.        ],\n",
       "       [0.75      , 0.25      , 0.        , 0.        , 0.        ,\n",
       "        0.        , 0.        , 0.        , 0.        , 0.        ,\n",
       "        0.        , 0.        , 0.        , 0.        , 0.        ,\n",
       "        0.        , 0.        , 0.        , 0.        , 0.        ],\n",
       "       [0.66666667, 0.33333333, 0.        , 0.        , 0.        ,\n",
       "        0.        , 0.        , 0.        , 0.        , 0.        ,\n",
       "        0.        , 0.        , 0.        , 0.        , 0.        ,\n",
       "        0.        , 0.        , 0.        , 0.        , 0.        ],\n",
       "       [1.        , 0.        , 0.        , 0.        , 0.        ,\n",
       "        0.        , 0.        , 0.        , 0.        , 0.        ,\n",
       "        0.        , 0.        , 0.        , 0.        , 0.        ,\n",
       "        0.        , 0.        , 0.        , 0.        , 0.        ]])"
      ]
     },
     "metadata": {},
     "output_type": "display_data"
    },
    {
     "name": "stderr",
     "output_type": "stream",
     "text": [
      "\r",
      " 48%|█████████████████▍                  | 58/120 [19:18:50<2:40:52, 155.69s/it]"
     ]
    },
    {
     "name": "stdout",
     "output_type": "stream",
     "text": [
      "INFO: Noise Filtering applied\n",
      "INFO: Clusters generated\n",
      "(123850, 5) (84, 5) (84, 5) (84, 5) (84, 6)\n",
      "INFO: 5 clusters generated.\n"
     ]
    },
    {
     "name": "stderr",
     "output_type": "stream",
     "text": [
      "\n",
      "  0%|                                                     | 0/5 [00:00<?, ?it/s]\u001b[A\n",
      " 20%|█████████                                    | 1/5 [00:01<00:07,  2.00s/it]\u001b[A\n",
      " 40%|██████████████████                           | 2/5 [00:03<00:05,  1.90s/it]\u001b[A\n",
      " 60%|███████████████████████████                  | 3/5 [00:05<00:03,  1.94s/it]\u001b[A\n",
      " 80%|████████████████████████████████████         | 4/5 [00:07<00:01,  1.96s/it]\u001b[A\n",
      "100%|█████████████████████████████████████████████| 5/5 [00:09<00:00,  1.93s/it]\u001b[A\n"
     ]
    },
    {
     "data": {
      "text/plain": [
       "array([[0.        , 0.        , 0.33333333, 0.        , 0.66666667],\n",
       "       [1.        , 0.        , 0.        , 0.        , 0.        ],\n",
       "       [0.        , 0.        , 0.        , 0.        , 1.        ],\n",
       "       [1.        , 0.        , 0.        , 0.        , 0.        ],\n",
       "       [0.33333333, 0.33333333, 0.        , 0.33333333, 0.        ]])"
      ]
     },
     "metadata": {},
     "output_type": "display_data"
    },
    {
     "name": "stderr",
     "output_type": "stream",
     "text": [
      "\r",
      " 49%|█████████████████▋                  | 59/120 [19:19:04<1:54:51, 112.97s/it]"
     ]
    },
    {
     "name": "stdout",
     "output_type": "stream",
     "text": [
      "INFO: Noise Filtering applied\n",
      "INFO: Clusters generated\n",
      "(43135, 5) (203, 5) (203, 5) (203, 5) (203, 6)\n",
      "INFO: 4 clusters generated.\n"
     ]
    },
    {
     "name": "stderr",
     "output_type": "stream",
     "text": [
      "\n",
      "  0%|                                                     | 0/4 [00:00<?, ?it/s]\u001b[A\n",
      " 25%|███████████▎                                 | 1/4 [00:00<00:01,  1.54it/s]\u001b[A\n",
      " 50%|██████████████████████▌                      | 2/4 [00:01<00:01,  1.53it/s]\u001b[A\n",
      " 75%|█████████████████████████████████▊           | 3/4 [00:01<00:00,  1.53it/s]\u001b[A\n",
      "100%|█████████████████████████████████████████████| 4/4 [00:02<00:00,  1.54it/s]\u001b[A\n"
     ]
    },
    {
     "data": {
      "text/plain": [
       "array([[0.        , 0.5       , 0.16666667, 0.33333333],\n",
       "       [1.        , 0.        , 0.        , 0.        ],\n",
       "       [1.        , 0.        , 0.        , 0.        ],\n",
       "       [0.        , 1.        , 0.        , 0.        ]])"
      ]
     },
     "metadata": {},
     "output_type": "display_data"
    },
    {
     "name": "stderr",
     "output_type": "stream",
     "text": [
      "\r",
      " 50%|██████████████████▌                  | 60/120 [19:19:08<1:20:12, 80.20s/it]"
     ]
    },
    {
     "name": "stdout",
     "output_type": "stream",
     "text": [
      "INFO: Noise Filtering applied\n",
      "INFO: Clusters generated\n",
      "(175694, 5) (67, 5) (67, 5) (67, 5) (67, 6)\n",
      "INFO: 7 clusters generated.\n"
     ]
    },
    {
     "name": "stderr",
     "output_type": "stream",
     "text": [
      "\n",
      "  0%|                                                     | 0/7 [00:00<?, ?it/s]\u001b[A\n",
      " 14%|██████▍                                      | 1/7 [00:02<00:15,  2.61s/it]\u001b[A\n",
      " 29%|████████████▊                                | 2/7 [00:05<00:13,  2.72s/it]\u001b[A\n",
      " 43%|███████████████████▎                         | 3/7 [00:08<00:11,  2.76s/it]\u001b[A\n",
      " 57%|█████████████████████████▋                   | 4/7 [00:11<00:08,  2.78s/it]\u001b[A\n",
      " 71%|████████████████████████████████▏            | 5/7 [00:13<00:05,  2.79s/it]\u001b[A\n",
      " 86%|██████████████████████████████████████▌      | 6/7 [00:16<00:02,  2.79s/it]\u001b[A\n",
      "100%|█████████████████████████████████████████████| 7/7 [00:19<00:00,  2.78s/it]\u001b[A\n"
     ]
    },
    {
     "data": {
      "text/plain": [
       "array([[0.        , 0.16666667, 0.16666667, 0.16666667, 0.16666667,\n",
       "        0.16666667, 0.16666667],\n",
       "       [1.        , 0.        , 0.        , 0.        , 0.        ,\n",
       "        0.        , 0.        ],\n",
       "       [1.        , 0.        , 0.        , 0.        , 0.        ,\n",
       "        0.        , 0.        ],\n",
       "       [1.        , 0.        , 0.        , 0.        , 0.        ,\n",
       "        0.        , 0.        ],\n",
       "       [1.        , 0.        , 0.        , 0.        , 0.        ,\n",
       "        0.        , 0.        ],\n",
       "       [1.        , 0.        , 0.        , 0.        , 0.        ,\n",
       "        0.        , 0.        ],\n",
       "       [1.        , 0.        , 0.        , 0.        , 0.        ,\n",
       "        0.        , 0.        ]])"
      ]
     },
     "metadata": {},
     "output_type": "display_data"
    },
    {
     "name": "stderr",
     "output_type": "stream",
     "text": [
      "\r",
      " 51%|██████████████████▊                  | 61/120 [19:19:33<1:02:49, 63.89s/it]"
     ]
    },
    {
     "name": "stdout",
     "output_type": "stream",
     "text": [
      "INFO: Noise Filtering applied\n",
      "INFO: Clusters generated\n",
      "(37493, 5) (33, 5) (33, 5) (33, 5) (33, 6)\n",
      "INFO: 4 clusters generated.\n"
     ]
    },
    {
     "name": "stderr",
     "output_type": "stream",
     "text": [
      "\n",
      "  0%|                                                     | 0/4 [00:00<?, ?it/s]\u001b[A\n",
      " 25%|███████████▎                                 | 1/4 [00:00<00:02,  1.42it/s]\u001b[A\n",
      " 50%|██████████████████████▌                      | 2/4 [00:01<00:01,  1.63it/s]\u001b[A\n",
      " 75%|█████████████████████████████████▊           | 3/4 [00:01<00:00,  1.70it/s]\u001b[A\n",
      "100%|█████████████████████████████████████████████| 4/4 [00:02<00:00,  1.70it/s]\u001b[A\n"
     ]
    },
    {
     "data": {
      "text/plain": [
       "array([[0.   , 0.625, 0.25 , 0.125],\n",
       "       [0.5  , 0.   , 0.5  , 0.   ],\n",
       "       [0.8  , 0.2  , 0.   , 0.   ]])"
      ]
     },
     "metadata": {},
     "output_type": "display_data"
    },
    {
     "name": "stderr",
     "output_type": "stream",
     "text": [
      "\r",
      " 52%|████████████████████▏                  | 62/120 [19:19:37<44:11, 45.71s/it]"
     ]
    },
    {
     "name": "stdout",
     "output_type": "stream",
     "text": [
      "INFO: Noise Filtering applied\n",
      "INFO: Clusters generated\n",
      "(75491, 5) (137, 5) (137, 5) (137, 5) (137, 6)\n",
      "INFO: 3 clusters generated.\n"
     ]
    },
    {
     "name": "stderr",
     "output_type": "stream",
     "text": [
      "\n",
      "  0%|                                                     | 0/3 [00:00<?, ?it/s]\u001b[A\n",
      " 33%|███████████████                              | 1/3 [00:01<00:02,  1.11s/it]\u001b[A\n",
      " 67%|██████████████████████████████               | 2/3 [00:02<00:01,  1.11s/it]\u001b[A\n",
      "100%|█████████████████████████████████████████████| 3/3 [00:03<00:00,  1.16s/it]\u001b[A\n"
     ]
    },
    {
     "data": {
      "text/plain": [
       "array([[0. , 0.5, 0.5],\n",
       "       [1. , 0. , 0. ],\n",
       "       [1. , 0. , 0. ]])"
      ]
     },
     "metadata": {},
     "output_type": "display_data"
    },
    {
     "name": "stderr",
     "output_type": "stream",
     "text": [
      "\r",
      " 52%|████████████████████▍                  | 63/120 [19:19:42<31:58, 33.66s/it]"
     ]
    },
    {
     "name": "stdout",
     "output_type": "stream",
     "text": [
      "INFO: Noise Filtering applied\n",
      "INFO: Clusters generated\n",
      "(11243, 5) (18, 5) (18, 5) (18, 5) (18, 6)\n",
      "INFO: 11 clusters generated.\n"
     ]
    },
    {
     "name": "stderr",
     "output_type": "stream",
     "text": [
      "\n",
      "  0%|                                                    | 0/11 [00:00<?, ?it/s]\u001b[A\n",
      "  9%|████                                        | 1/11 [00:00<00:01,  5.85it/s]\u001b[A\n",
      " 18%|████████                                    | 2/11 [00:00<00:01,  5.77it/s]\u001b[A\n",
      " 27%|████████████                                | 3/11 [00:00<00:01,  6.49it/s]\u001b[A\n",
      " 36%|████████████████                            | 4/11 [00:00<00:01,  6.27it/s]\u001b[A\n",
      " 45%|████████████████████                        | 5/11 [00:00<00:00,  6.16it/s]\u001b[A\n",
      " 55%|████████████████████████                    | 6/11 [00:01<00:00,  5.95it/s]\u001b[A\n",
      " 64%|████████████████████████████                | 7/11 [00:01<00:00,  5.92it/s]\u001b[A\n",
      " 73%|████████████████████████████████            | 8/11 [00:01<00:00,  5.94it/s]\u001b[A\n",
      " 82%|████████████████████████████████████        | 9/11 [00:01<00:00,  5.89it/s]\u001b[A\n",
      " 91%|███████████████████████████████████████    | 10/11 [00:01<00:00,  5.92it/s]\u001b[A\n",
      "100%|███████████████████████████████████████████| 11/11 [00:01<00:00,  5.84it/s]\u001b[A\n"
     ]
    },
    {
     "data": {
      "text/plain": [
       "array([[0.        , 0.        , 0.        , 0.47368421, 0.        ,\n",
       "        0.        , 0.        , 0.        , 0.        , 0.        ,\n",
       "        0.52631579],\n",
       "       [0.        , 0.        , 0.05882353, 0.52941176, 0.        ,\n",
       "        0.        , 0.41176471, 0.        , 0.        , 0.        ,\n",
       "        0.        ],\n",
       "       [0.        , 0.2       , 0.        , 0.        , 0.        ,\n",
       "        0.        , 0.2       , 0.        , 0.        , 0.        ,\n",
       "        0.6       ],\n",
       "       [0.52631579, 0.47368421, 0.        , 0.        , 0.        ,\n",
       "        0.        , 0.        , 0.        , 0.        , 0.        ,\n",
       "        0.        ],\n",
       "       [0.        , 0.        , 0.        , 0.        , 0.        ,\n",
       "        0.66666667, 0.        , 0.        , 0.        , 0.        ,\n",
       "        0.33333333],\n",
       "       [0.        , 0.        , 0.        , 0.        , 0.44444444,\n",
       "        0.        , 0.11111111, 0.11111111, 0.11111111, 0.        ,\n",
       "        0.22222222],\n",
       "       [0.        , 0.75      , 0.125     , 0.        , 0.        ,\n",
       "        0.        , 0.        , 0.        , 0.        , 0.125     ,\n",
       "        0.        ],\n",
       "       [0.        , 1.        , 0.        , 0.        , 0.        ,\n",
       "        0.        , 0.        , 0.        , 0.        , 0.        ,\n",
       "        0.        ],\n",
       "       [0.        , 0.        , 0.        , 1.        , 0.        ,\n",
       "        0.        , 0.        , 0.        , 0.        , 0.        ,\n",
       "        0.        ],\n",
       "       [0.        , 0.        , 0.        , 0.        , 1.        ,\n",
       "        0.        , 0.        , 0.        , 0.        , 0.        ,\n",
       "        0.        ],\n",
       "       [0.47368421, 0.        , 0.15789474, 0.        , 0.36842105,\n",
       "        0.        , 0.        , 0.        , 0.        , 0.        ,\n",
       "        0.        ]])"
      ]
     },
     "metadata": {},
     "output_type": "display_data"
    },
    {
     "name": "stderr",
     "output_type": "stream",
     "text": [
      "\r",
      " 53%|████████████████████▊                  | 64/120 [19:19:44<22:35, 24.21s/it]"
     ]
    },
    {
     "name": "stdout",
     "output_type": "stream",
     "text": [
      "INFO: Noise Filtering applied\n",
      "INFO: Clusters generated\n",
      "(44252, 5) (54, 5) (54, 5) (54, 5) (54, 6)\n",
      "INFO: 6 clusters generated.\n"
     ]
    },
    {
     "name": "stderr",
     "output_type": "stream",
     "text": [
      "\n",
      "  0%|                                                     | 0/6 [00:00<?, ?it/s]\u001b[A\n",
      " 17%|███████▌                                     | 1/6 [00:00<00:03,  1.53it/s]\u001b[A\n",
      " 33%|███████████████                              | 2/6 [00:01<00:02,  1.53it/s]\u001b[A\n",
      " 50%|██████████████████████▌                      | 3/6 [00:01<00:01,  1.53it/s]\u001b[A\n",
      " 67%|██████████████████████████████               | 4/6 [00:02<00:01,  1.40it/s]\u001b[A\n",
      " 83%|█████████████████████████████████████▌       | 5/6 [00:03<00:00,  1.45it/s]\u001b[A\n",
      "100%|█████████████████████████████████████████████| 6/6 [00:04<00:00,  1.47it/s]\u001b[A\n"
     ]
    },
    {
     "data": {
      "text/plain": [
       "array([[0.        , 0.30769231, 0.15384615, 0.46153846, 0.07692308,\n",
       "        0.        ],\n",
       "       [0.23076923, 0.        , 0.38461538, 0.23076923, 0.07692308,\n",
       "        0.07692308],\n",
       "       [0.28571429, 0.35714286, 0.        , 0.28571429, 0.07142857,\n",
       "        0.        ],\n",
       "       [0.46153846, 0.07692308, 0.46153846, 0.        , 0.        ,\n",
       "        0.        ],\n",
       "       [0.        , 0.5       , 0.5       , 0.        , 0.        ,\n",
       "        0.        ],\n",
       "       [0.        , 1.        , 0.        , 0.        , 0.        ,\n",
       "        0.        ]])"
      ]
     },
     "metadata": {},
     "output_type": "display_data"
    },
    {
     "name": "stderr",
     "output_type": "stream",
     "text": [
      "\r",
      " 54%|█████████████████████▏                 | 65/120 [19:19:50<16:58, 18.51s/it]"
     ]
    },
    {
     "name": "stdout",
     "output_type": "stream",
     "text": [
      "INFO: Noise Filtering applied\n",
      "INFO: Clusters generated\n",
      "(172543, 5) (94, 5) (94, 5) (94, 5) (94, 6)\n",
      "INFO: 17 clusters generated.\n"
     ]
    },
    {
     "name": "stderr",
     "output_type": "stream",
     "text": [
      "\n",
      "  0%|                                                    | 0/17 [00:00<?, ?it/s]\u001b[A\n",
      "  6%|██▌                                         | 1/17 [00:02<00:43,  2.71s/it]\u001b[A\n",
      " 12%|█████▏                                      | 2/17 [00:05<00:40,  2.70s/it]\u001b[A\n",
      " 18%|███████▊                                    | 3/17 [00:08<00:37,  2.69s/it]\u001b[A\n",
      " 24%|██████████▎                                 | 4/17 [00:10<00:34,  2.64s/it]\u001b[A\n",
      " 29%|████████████▉                               | 5/17 [00:13<00:32,  2.67s/it]\u001b[A\n",
      " 35%|███████████████▌                            | 6/17 [00:16<00:29,  2.72s/it]\u001b[A\n",
      " 41%|██████████████████                          | 7/17 [00:18<00:27,  2.71s/it]\u001b[A\n",
      " 47%|████████████████████▋                       | 8/17 [00:21<00:24,  2.71s/it]\u001b[A\n",
      " 53%|███████████████████████▎                    | 9/17 [00:24<00:21,  2.71s/it]\u001b[A\n",
      " 59%|█████████████████████████▎                 | 10/17 [00:27<00:18,  2.71s/it]\u001b[A\n",
      " 65%|███████████████████████████▊               | 11/17 [00:29<00:16,  2.70s/it]\u001b[A\n",
      " 71%|██████████████████████████████▎            | 12/17 [00:32<00:13,  2.70s/it]\u001b[A\n",
      " 76%|████████████████████████████████▉          | 13/17 [00:35<00:10,  2.71s/it]\u001b[A\n",
      " 82%|███████████████████████████████████▍       | 14/17 [00:37<00:08,  2.71s/it]\u001b[A\n",
      " 88%|█████████████████████████████████████▉     | 15/17 [00:40<00:05,  2.71s/it]\u001b[A\n",
      " 94%|████████████████████████████████████████▍  | 16/17 [00:43<00:02,  2.71s/it]\u001b[A\n",
      "100%|███████████████████████████████████████████| 17/17 [00:45<00:00,  2.70s/it]\u001b[A\n"
     ]
    },
    {
     "data": {
      "text/plain": [
       "array([[0.        , 0.        , 0.        , 0.        , 0.        ,\n",
       "        0.03030303, 0.        , 0.        , 0.51515152, 0.27272727,\n",
       "        0.06060606, 0.03030303, 0.        , 0.        , 0.        ,\n",
       "        0.        , 0.09090909],\n",
       "       [1.        , 0.        , 0.        , 0.        , 0.        ,\n",
       "        0.        , 0.        , 0.        , 0.        , 0.        ,\n",
       "        0.        , 0.        , 0.        , 0.        , 0.        ,\n",
       "        0.        , 0.        ],\n",
       "       [0.02325581, 0.        , 0.        , 0.        , 0.41860465,\n",
       "        0.        , 0.        , 0.        , 0.        , 0.        ,\n",
       "        0.02325581, 0.        , 0.53488372, 0.        , 0.        ,\n",
       "        0.        , 0.        ],\n",
       "       [0.        , 0.        , 0.        , 0.        , 0.        ,\n",
       "        0.53488372, 0.        , 0.        , 0.        , 0.        ,\n",
       "        0.        , 0.        , 0.        , 0.46511628, 0.        ,\n",
       "        0.        , 0.        ],\n",
       "       [0.        , 0.        , 0.56097561, 0.        , 0.        ,\n",
       "        0.        , 0.        , 0.        , 0.        , 0.        ,\n",
       "        0.43902439, 0.        , 0.        , 0.        , 0.        ,\n",
       "        0.        , 0.        ],\n",
       "       [0.        , 0.        , 0.        , 0.45238095, 0.        ,\n",
       "        0.        , 0.        , 0.        , 0.54761905, 0.        ,\n",
       "        0.        , 0.        , 0.        , 0.        , 0.        ,\n",
       "        0.        , 0.        ],\n",
       "       [0.        , 0.        , 0.        , 0.        , 0.        ,\n",
       "        0.        , 0.        , 0.        , 0.        , 0.02325581,\n",
       "        0.        , 0.        , 0.44186047, 0.        , 0.        ,\n",
       "        0.53488372, 0.        ],\n",
       "       [1.        , 0.        , 0.        , 0.        , 0.        ,\n",
       "        0.        , 0.        , 0.        , 0.        , 0.        ,\n",
       "        0.        , 0.        , 0.        , 0.        , 0.        ,\n",
       "        0.        , 0.        ],\n",
       "       [0.575     , 0.        , 0.        , 0.        , 0.        ,\n",
       "        0.425     , 0.        , 0.        , 0.        , 0.        ,\n",
       "        0.        , 0.        , 0.        , 0.        , 0.        ,\n",
       "        0.        , 0.        ],\n",
       "       [0.19354839, 0.03225806, 0.03225806, 0.03225806, 0.        ,\n",
       "        0.03225806, 0.        , 0.        , 0.        , 0.        ,\n",
       "        0.        , 0.64516129, 0.        , 0.        , 0.03225806,\n",
       "        0.        , 0.        ],\n",
       "       [0.        , 0.        , 0.        , 0.        , 0.54761905,\n",
       "        0.        , 0.        , 0.        , 0.        , 0.        ,\n",
       "        0.        , 0.45238095, 0.        , 0.        , 0.        ,\n",
       "        0.        , 0.        ],\n",
       "       [0.        , 0.        , 0.        , 0.        , 0.        ,\n",
       "        0.        , 0.        , 0.        , 0.        , 0.475     ,\n",
       "        0.525     , 0.        , 0.        , 0.        , 0.        ,\n",
       "        0.        , 0.        ],\n",
       "       [0.        , 0.        , 0.45238095, 0.        , 0.        ,\n",
       "        0.        , 0.54761905, 0.        , 0.        , 0.        ,\n",
       "        0.        , 0.        , 0.        , 0.        , 0.        ,\n",
       "        0.        , 0.        ],\n",
       "       [0.        , 0.        , 0.        , 0.53488372, 0.        ,\n",
       "        0.        , 0.        , 0.        , 0.        , 0.        ,\n",
       "        0.        , 0.        , 0.        , 0.        , 0.        ,\n",
       "        0.46511628, 0.        ],\n",
       "       [0.        , 0.        , 0.        , 0.        , 0.        ,\n",
       "        0.        , 0.        , 1.        , 0.        , 0.        ,\n",
       "        0.        , 0.        , 0.        , 0.        , 0.        ,\n",
       "        0.        , 0.        ],\n",
       "       [0.        , 0.        , 0.        , 0.        , 0.        ,\n",
       "        0.        , 0.46511628, 0.        , 0.        , 0.        ,\n",
       "        0.        , 0.        , 0.        , 0.53488372, 0.        ,\n",
       "        0.        , 0.        ],\n",
       "       [0.33333333, 0.        , 0.        , 0.        , 0.        ,\n",
       "        0.        , 0.        , 0.        , 0.        , 0.66666667,\n",
       "        0.        , 0.        , 0.        , 0.        , 0.        ,\n",
       "        0.        , 0.        ]])"
      ]
     },
     "metadata": {},
     "output_type": "display_data"
    },
    {
     "name": "stderr",
     "output_type": "stream",
     "text": [
      "\r",
      " 55%|█████████████████████▍                 | 66/120 [19:20:42<25:50, 28.71s/it]"
     ]
    },
    {
     "name": "stdout",
     "output_type": "stream",
     "text": [
      "INFO: Noise Filtering applied\n",
      "INFO: Clusters generated\n",
      "(35052, 5) (50, 5) (50, 5) (50, 5) (50, 6)\n",
      "INFO: 3 clusters generated.\n"
     ]
    },
    {
     "name": "stderr",
     "output_type": "stream",
     "text": [
      "\n",
      "  0%|                                                     | 0/3 [00:00<?, ?it/s]\u001b[A\n",
      " 33%|███████████████                              | 1/3 [00:00<00:01,  1.93it/s]\u001b[A\n",
      " 67%|██████████████████████████████               | 2/3 [00:01<00:00,  1.92it/s]\u001b[A\n",
      "100%|█████████████████████████████████████████████| 3/3 [00:01<00:00,  1.93it/s]\u001b[A\n"
     ]
    },
    {
     "data": {
      "text/plain": [
       "array([[0.        , 0.8       , 0.2       ],\n",
       "       [0.83333333, 0.        , 0.16666667],\n",
       "       [0.33333333, 0.66666667, 0.        ]])"
      ]
     },
     "metadata": {},
     "output_type": "display_data"
    },
    {
     "name": "stderr",
     "output_type": "stream",
     "text": [
      "\r",
      " 56%|█████████████████████▊                 | 67/120 [19:20:44<18:22, 20.81s/it]"
     ]
    },
    {
     "name": "stdout",
     "output_type": "stream",
     "text": [
      "INFO: Noise Filtering applied\n",
      "INFO: Clusters generated\n",
      "(401332, 5) (179, 5) (179, 5) (179, 5) (179, 6)\n",
      "INFO: 33 clusters generated.\n"
     ]
    },
    {
     "name": "stderr",
     "output_type": "stream",
     "text": [
      "\n",
      "  0%|                                                    | 0/33 [00:00<?, ?it/s]\u001b[A\n",
      "  3%|█▎                                          | 1/33 [00:06<03:21,  6.30s/it]\u001b[A\n",
      "  6%|██▋                                         | 2/33 [00:12<03:14,  6.29s/it]\u001b[A\n",
      "  9%|████                                        | 3/33 [00:19<03:10,  6.35s/it]\u001b[A\n",
      " 12%|█████▎                                      | 4/33 [00:25<03:04,  6.37s/it]\u001b[A\n",
      " 15%|██████▋                                     | 5/33 [00:31<02:57,  6.35s/it]\u001b[A\n",
      " 18%|████████                                    | 6/33 [00:37<02:48,  6.25s/it]\u001b[A\n",
      " 21%|█████████▎                                  | 7/33 [00:44<02:44,  6.32s/it]\u001b[A\n",
      " 24%|██████████▋                                 | 8/33 [00:50<02:36,  6.26s/it]\u001b[A\n",
      " 27%|████████████                                | 9/33 [00:56<02:31,  6.31s/it]\u001b[A\n",
      " 30%|█████████████                              | 10/33 [01:03<02:26,  6.35s/it]\u001b[A\n",
      " 33%|██████████████▎                            | 11/33 [01:09<02:18,  6.31s/it]\u001b[A\n",
      " 36%|███████████████▋                           | 12/33 [01:16<02:14,  6.40s/it]\u001b[A\n",
      " 39%|████████████████▉                          | 13/33 [01:22<02:07,  6.37s/it]\u001b[A\n",
      " 42%|██████████████████▏                        | 14/33 [01:28<02:01,  6.38s/it]\u001b[A\n",
      " 45%|███████████████████▌                       | 15/33 [01:35<01:55,  6.40s/it]\u001b[A\n",
      " 48%|████████████████████▊                      | 16/33 [01:41<01:48,  6.36s/it]\u001b[A\n",
      " 52%|██████████████████████▏                    | 17/33 [01:48<01:42,  6.43s/it]\u001b[A\n",
      " 55%|███████████████████████▍                   | 18/33 [01:54<01:35,  6.36s/it]\u001b[A\n",
      " 58%|████████████████████████▊                  | 19/33 [02:00<01:29,  6.38s/it]\u001b[A\n",
      " 61%|██████████████████████████                 | 20/33 [02:07<01:23,  6.39s/it]\u001b[A\n",
      " 64%|███████████████████████████▎               | 21/33 [02:13<01:16,  6.34s/it]\u001b[A\n",
      " 67%|████████████████████████████▋              | 22/33 [02:19<01:10,  6.40s/it]\u001b[A\n",
      " 70%|█████████████████████████████▉             | 23/33 [02:26<01:03,  6.36s/it]\u001b[A\n",
      " 73%|███████████████████████████████▎           | 24/33 [02:32<00:57,  6.40s/it]\u001b[A\n",
      " 76%|████████████████████████████████▌          | 25/33 [02:39<00:51,  6.41s/it]\u001b[A\n",
      " 79%|█████████████████████████████████▉         | 26/33 [02:45<00:44,  6.35s/it]\u001b[A\n",
      " 82%|███████████████████████████████████▏       | 27/33 [02:51<00:38,  6.41s/it]\u001b[A\n",
      " 85%|████████████████████████████████████▍      | 28/33 [02:58<00:31,  6.35s/it]\u001b[A\n",
      " 88%|█████████████████████████████████████▊     | 29/33 [03:04<00:25,  6.36s/it]\u001b[A\n",
      " 91%|███████████████████████████████████████    | 30/33 [03:10<00:19,  6.36s/it]\u001b[A\n",
      " 94%|████████████████████████████████████████▍  | 31/33 [03:17<00:12,  6.31s/it]\u001b[A\n",
      " 97%|█████████████████████████████████████████▋ | 32/33 [03:23<00:06,  6.42s/it]\u001b[A\n",
      "100%|███████████████████████████████████████████| 33/33 [03:30<00:00,  6.37s/it]\u001b[A\n"
     ]
    },
    {
     "data": {
      "text/plain": [
       "array([[0.        , 0.1627907 , 0.        , ..., 0.        , 0.        ,\n",
       "        0.04651163],\n",
       "       [0.20792079, 0.        , 0.31683168, ..., 0.        , 0.        ,\n",
       "        0.        ],\n",
       "       [0.01408451, 0.4084507 , 0.        , ..., 0.        , 0.        ,\n",
       "        0.        ],\n",
       "       ...,\n",
       "       [0.        , 0.        , 0.        , ..., 0.        , 0.        ,\n",
       "        0.        ],\n",
       "       [0.83333333, 0.        , 0.        , ..., 0.        , 0.        ,\n",
       "        0.        ],\n",
       "       [0.5       , 0.        , 0.25      , ..., 0.        , 0.        ,\n",
       "        0.        ]])"
      ]
     },
     "metadata": {},
     "output_type": "display_data"
    },
    {
     "name": "stderr",
     "output_type": "stream",
     "text": [
      "\r",
      " 57%|████████████████████▉                | 68/120 [19:24:39<1:13:42, 85.04s/it]"
     ]
    },
    {
     "name": "stdout",
     "output_type": "stream",
     "text": [
      "INFO: Noise Filtering applied\n",
      "INFO: Clusters generated\n",
      "(601869, 5) (574, 5) (574, 5) (574, 5) (574, 6)\n",
      "INFO: 31 clusters generated.\n"
     ]
    },
    {
     "name": "stderr",
     "output_type": "stream",
     "text": [
      "\n",
      "  0%|                                                    | 0/31 [00:00<?, ?it/s]\u001b[A\n",
      "  3%|█▍                                          | 1/31 [00:09<04:40,  9.34s/it]\u001b[A\n",
      "  6%|██▊                                         | 2/31 [00:18<04:29,  9.30s/it]\u001b[A\n",
      " 10%|████▎                                       | 3/31 [00:28<04:24,  9.45s/it]\u001b[A\n",
      " 13%|█████▋                                      | 4/31 [00:37<04:16,  9.49s/it]\u001b[A\n",
      " 16%|███████                                     | 5/31 [00:47<04:05,  9.44s/it]\u001b[A\n",
      " 19%|████████▌                                   | 6/31 [00:56<03:54,  9.40s/it]\u001b[A\n",
      " 23%|█████████▉                                  | 7/31 [01:06<03:47,  9.47s/it]\u001b[A\n",
      " 26%|███████████▎                                | 8/31 [01:15<03:36,  9.42s/it]\u001b[A\n",
      " 29%|████████████▊                               | 9/31 [01:24<03:27,  9.44s/it]\u001b[A\n",
      " 32%|█████████████▊                             | 10/31 [01:34<03:19,  9.52s/it]\u001b[A\n",
      " 35%|███████████████▎                           | 11/31 [01:43<03:09,  9.48s/it]\u001b[A\n",
      " 39%|████████████████▋                          | 12/31 [01:53<02:59,  9.47s/it]\u001b[A\n",
      " 42%|██████████████████                         | 13/31 [02:02<02:51,  9.50s/it]\u001b[A\n",
      " 45%|███████████████████▍                       | 14/31 [02:12<02:42,  9.54s/it]\u001b[A\n",
      " 48%|████████████████████▊                      | 15/31 [02:22<02:32,  9.54s/it]\u001b[A\n",
      " 52%|██████████████████████▏                    | 16/31 [02:31<02:22,  9.47s/it]\u001b[A\n",
      " 55%|███████████████████████▌                   | 17/31 [02:40<02:12,  9.48s/it]\u001b[A\n",
      " 58%|████████████████████████▉                  | 18/31 [02:50<02:03,  9.46s/it]\u001b[A\n",
      " 61%|██████████████████████████▎                | 19/31 [03:00<01:54,  9.52s/it]\u001b[A\n",
      " 65%|███████████████████████████▋               | 20/31 [03:09<01:44,  9.53s/it]\u001b[A\n",
      " 68%|█████████████████████████████▏             | 21/31 [03:18<01:34,  9.47s/it]\u001b[A\n",
      " 71%|██████████████████████████████▌            | 22/31 [03:28<01:24,  9.44s/it]\u001b[A\n",
      " 74%|███████████████████████████████▉           | 23/31 [03:37<01:15,  9.42s/it]\u001b[A\n",
      " 77%|█████████████████████████████████▎         | 24/31 [03:47<01:06,  9.49s/it]\u001b[A\n",
      " 81%|██████████████████████████████████▋        | 25/31 [03:56<00:56,  9.44s/it]\u001b[A\n",
      " 84%|████████████████████████████████████       | 26/31 [04:06<00:47,  9.43s/it]\u001b[A\n",
      " 87%|█████████████████████████████████████▍     | 27/31 [04:15<00:37,  9.39s/it]\u001b[A\n",
      " 90%|██████████████████████████████████████▊    | 28/31 [04:24<00:28,  9.41s/it]\u001b[A\n",
      " 94%|████████████████████████████████████████▏  | 29/31 [04:34<00:18,  9.38s/it]\u001b[A\n",
      " 97%|█████████████████████████████████████████▌ | 30/31 [04:43<00:09,  9.44s/it]\u001b[A\n",
      "100%|███████████████████████████████████████████| 31/31 [04:53<00:00,  9.46s/it]\u001b[A\n"
     ]
    },
    {
     "data": {
      "text/plain": [
       "array([[0.        , 0.00840336, 0.01680672, 0.52941176, 0.00840336,\n",
       "        0.        , 0.15966387, 0.00840336, 0.1512605 , 0.00840336,\n",
       "        0.01680672, 0.        , 0.00840336, 0.        , 0.00840336,\n",
       "        0.        , 0.        , 0.00840336, 0.        , 0.        ,\n",
       "        0.        , 0.        , 0.        , 0.        , 0.        ,\n",
       "        0.        , 0.00840336, 0.02521008, 0.00840336, 0.01680672,\n",
       "        0.00840336],\n",
       "       [0.09230769, 0.        , 0.        , 0.01538462, 0.        ,\n",
       "        0.01538462, 0.07692308, 0.        , 0.01538462, 0.03076923,\n",
       "        0.        , 0.        , 0.        , 0.01538462, 0.63076923,\n",
       "        0.09230769, 0.        , 0.        , 0.        , 0.        ,\n",
       "        0.01538462, 0.        , 0.        , 0.        , 0.        ,\n",
       "        0.        , 0.        , 0.        , 0.        , 0.        ,\n",
       "        0.        ],\n",
       "       [0.04761905, 0.        , 0.        , 0.01190476, 0.01190476,\n",
       "        0.        , 0.        , 0.        , 0.        , 0.        ,\n",
       "        0.53571429, 0.        , 0.        , 0.        , 0.        ,\n",
       "        0.        , 0.        , 0.        , 0.        , 0.01190476,\n",
       "        0.01190476, 0.28571429, 0.02380952, 0.04761905, 0.        ,\n",
       "        0.        , 0.        , 0.        , 0.01190476, 0.        ,\n",
       "        0.        ],\n",
       "       [0.37190083, 0.        , 0.        , 0.        , 0.00826446,\n",
       "        0.        , 0.        , 0.56198347, 0.04132231, 0.        ,\n",
       "        0.        , 0.        , 0.        , 0.        , 0.        ,\n",
       "        0.        , 0.        , 0.        , 0.        , 0.        ,\n",
       "        0.        , 0.        , 0.00826446, 0.        , 0.        ,\n",
       "        0.        , 0.        , 0.        , 0.        , 0.00826446,\n",
       "        0.        ],\n",
       "       [0.02631579, 0.        , 0.        , 0.00877193, 0.        ,\n",
       "        0.        , 0.        , 0.        , 0.        , 0.        ,\n",
       "        0.        , 0.        , 0.        , 0.        , 0.        ,\n",
       "        0.        , 0.        , 0.38596491, 0.        , 0.        ,\n",
       "        0.        , 0.00877193, 0.57017544, 0.        , 0.        ,\n",
       "        0.        , 0.        , 0.        , 0.        , 0.        ,\n",
       "        0.        ],\n",
       "       [0.        , 0.01      , 0.        , 0.01      , 0.        ,\n",
       "        0.        , 0.49      , 0.        , 0.        , 0.48      ,\n",
       "        0.        , 0.        , 0.        , 0.        , 0.        ,\n",
       "        0.01      , 0.        , 0.        , 0.        , 0.        ,\n",
       "        0.        , 0.        , 0.        , 0.        , 0.        ,\n",
       "        0.        , 0.        , 0.        , 0.        , 0.        ,\n",
       "        0.        ],\n",
       "       [0.17283951, 0.11111111, 0.        , 0.        , 0.        ,\n",
       "        0.61728395, 0.        , 0.        , 0.        , 0.        ,\n",
       "        0.        , 0.        , 0.        , 0.        , 0.        ,\n",
       "        0.01234568, 0.        , 0.        , 0.        , 0.        ,\n",
       "        0.        , 0.        , 0.        , 0.        , 0.        ,\n",
       "        0.        , 0.        , 0.        , 0.        , 0.08641975,\n",
       "        0.        ],\n",
       "       [0.        , 0.        , 0.        , 0.42016807, 0.        ,\n",
       "        0.        , 0.        , 0.        , 0.        , 0.        ,\n",
       "        0.        , 0.        , 0.        , 0.        , 0.        ,\n",
       "        0.        , 0.        , 0.57142857, 0.00840336, 0.        ,\n",
       "        0.        , 0.        , 0.        , 0.        , 0.        ,\n",
       "        0.        , 0.        , 0.        , 0.        , 0.        ,\n",
       "        0.        ],\n",
       "       [0.92307692, 0.        , 0.        , 0.        , 0.        ,\n",
       "        0.03846154, 0.        , 0.        , 0.        , 0.        ,\n",
       "        0.        , 0.        , 0.        , 0.        , 0.        ,\n",
       "        0.        , 0.        , 0.        , 0.        , 0.03846154,\n",
       "        0.        , 0.        , 0.        , 0.        , 0.        ,\n",
       "        0.        , 0.        , 0.        , 0.        , 0.        ,\n",
       "        0.        ],\n",
       "       [0.        , 0.01020408, 0.        , 0.        , 0.        ,\n",
       "        0.48979592, 0.        , 0.        , 0.        , 0.        ,\n",
       "        0.        , 0.        , 0.        , 0.        , 0.        ,\n",
       "        0.5       , 0.        , 0.        , 0.        , 0.        ,\n",
       "        0.        , 0.        , 0.        , 0.        , 0.        ,\n",
       "        0.        , 0.        , 0.        , 0.        , 0.        ,\n",
       "        0.        ],\n",
       "       [0.02083333, 0.        , 0.8125    , 0.        , 0.        ,\n",
       "        0.        , 0.        , 0.        , 0.        , 0.        ,\n",
       "        0.        , 0.        , 0.        , 0.        , 0.        ,\n",
       "        0.        , 0.        , 0.        , 0.        , 0.02083333,\n",
       "        0.        , 0.        , 0.        , 0.        , 0.        ,\n",
       "        0.14583333, 0.        , 0.        , 0.        , 0.        ,\n",
       "        0.        ],\n",
       "       [0.        , 0.        , 0.        , 0.        , 0.        ,\n",
       "        0.        , 0.        , 0.        , 0.        , 0.        ,\n",
       "        0.        , 0.        , 0.7       , 0.        , 0.        ,\n",
       "        0.        , 0.        , 0.1       , 0.        , 0.2       ,\n",
       "        0.        , 0.        , 0.        , 0.        , 0.        ,\n",
       "        0.        , 0.        , 0.        , 0.        , 0.        ,\n",
       "        0.        ],\n",
       "       [0.1       , 0.        , 0.        , 0.        , 0.        ,\n",
       "        0.        , 0.        , 0.        , 0.        , 0.        ,\n",
       "        0.        , 0.2       , 0.        , 0.        , 0.        ,\n",
       "        0.        , 0.        , 0.        , 0.        , 0.        ,\n",
       "        0.        , 0.        , 0.        , 0.        , 0.        ,\n",
       "        0.        , 0.        , 0.        , 0.        , 0.7       ,\n",
       "        0.        ],\n",
       "       [0.        , 1.        , 0.        , 0.        , 0.        ,\n",
       "        0.        , 0.        , 0.        , 0.        , 0.        ,\n",
       "        0.        , 0.        , 0.        , 0.        , 0.        ,\n",
       "        0.        , 0.        , 0.        , 0.        , 0.        ,\n",
       "        0.        , 0.        , 0.        , 0.        , 0.        ,\n",
       "        0.        , 0.        , 0.        , 0.        , 0.        ,\n",
       "        0.        ],\n",
       "       [0.        , 0.48314607, 0.        , 0.        , 0.        ,\n",
       "        0.        , 0.        , 0.        , 0.        , 0.01123596,\n",
       "        0.        , 0.        , 0.        , 0.        , 0.        ,\n",
       "        0.48314607, 0.01123596, 0.        , 0.        , 0.        ,\n",
       "        0.        , 0.        , 0.        , 0.        , 0.        ,\n",
       "        0.        , 0.        , 0.        , 0.        , 0.        ,\n",
       "        0.01123596],\n",
       "       [0.        , 0.04      , 0.        , 0.        , 0.        ,\n",
       "        0.        , 0.02      , 0.        , 0.        , 0.46      ,\n",
       "        0.        , 0.01      , 0.        , 0.        , 0.47      ,\n",
       "        0.        , 0.        , 0.        , 0.        , 0.        ,\n",
       "        0.        , 0.        , 0.        , 0.        , 0.        ,\n",
       "        0.        , 0.        , 0.        , 0.        , 0.        ,\n",
       "        0.        ],\n",
       "       [0.        , 1.        , 0.        , 0.        , 0.        ,\n",
       "        0.        , 0.        , 0.        , 0.        , 0.        ,\n",
       "        0.        , 0.        , 0.        , 0.        , 0.        ,\n",
       "        0.        , 0.        , 0.        , 0.        , 0.        ,\n",
       "        0.        , 0.        , 0.        , 0.        , 0.        ,\n",
       "        0.        , 0.        , 0.        , 0.        , 0.        ,\n",
       "        0.        ],\n",
       "       [0.00854701, 0.        , 0.        , 0.01709402, 0.55555556,\n",
       "        0.        , 0.        , 0.4017094 , 0.        , 0.        ,\n",
       "        0.        , 0.        , 0.        , 0.        , 0.        ,\n",
       "        0.        , 0.        , 0.        , 0.        , 0.        ,\n",
       "        0.        , 0.00854701, 0.        , 0.00854701, 0.        ,\n",
       "        0.        , 0.        , 0.        , 0.        , 0.        ,\n",
       "        0.        ],\n",
       "       [0.        , 0.        , 0.        , 0.        , 0.        ,\n",
       "        0.        , 0.        , 0.66666667, 0.        , 0.        ,\n",
       "        0.        , 0.        , 0.        , 0.        , 0.        ,\n",
       "        0.        , 0.        , 0.        , 0.        , 0.        ,\n",
       "        0.33333333, 0.        , 0.        , 0.        , 0.        ,\n",
       "        0.        , 0.        , 0.        , 0.        , 0.        ,\n",
       "        0.        ],\n",
       "       [0.1       , 0.        , 0.1       , 0.        , 0.        ,\n",
       "        0.        , 0.        , 0.        , 0.        , 0.        ,\n",
       "        0.        , 0.6       , 0.        , 0.        , 0.        ,\n",
       "        0.        , 0.        , 0.2       , 0.        , 0.        ,\n",
       "        0.        , 0.        , 0.        , 0.        , 0.        ,\n",
       "        0.        , 0.        , 0.        , 0.        , 0.        ,\n",
       "        0.        ],\n",
       "       [0.        , 0.        , 0.        , 0.        , 0.        ,\n",
       "        0.        , 0.        , 0.        , 0.        , 0.        ,\n",
       "        0.2       , 0.        , 0.        , 0.        , 0.        ,\n",
       "        0.        , 0.        , 0.        , 0.4       , 0.        ,\n",
       "        0.        , 0.4       , 0.        , 0.        , 0.        ,\n",
       "        0.        , 0.        , 0.        , 0.        , 0.        ,\n",
       "        0.        ],\n",
       "       [0.03157895, 0.01052632, 0.36842105, 0.01052632, 0.03157895,\n",
       "        0.        , 0.        , 0.01052632, 0.        , 0.        ,\n",
       "        0.        , 0.        , 0.        , 0.        , 0.        ,\n",
       "        0.        , 0.        , 0.        , 0.        , 0.        ,\n",
       "        0.01052632, 0.        , 0.47368421, 0.04210526, 0.        ,\n",
       "        0.01052632, 0.        , 0.        , 0.        , 0.        ,\n",
       "        0.        ],\n",
       "       [0.00884956, 0.        , 0.02654867, 0.00884956, 0.38053097,\n",
       "        0.        , 0.        , 0.        , 0.        , 0.        ,\n",
       "        0.        , 0.        , 0.        , 0.        , 0.        ,\n",
       "        0.        , 0.        , 0.00884956, 0.        , 0.        ,\n",
       "        0.00884956, 0.55752212, 0.        , 0.        , 0.        ,\n",
       "        0.        , 0.        , 0.        , 0.        , 0.        ,\n",
       "        0.        ],\n",
       "       [0.        , 0.        , 0.44444444, 0.        , 0.        ,\n",
       "        0.        , 0.        , 0.        , 0.11111111, 0.        ,\n",
       "        0.        , 0.        , 0.        , 0.        , 0.        ,\n",
       "        0.        , 0.        , 0.        , 0.        , 0.        ,\n",
       "        0.        , 0.44444444, 0.        , 0.        , 0.        ,\n",
       "        0.        , 0.        , 0.        , 0.        , 0.        ,\n",
       "        0.        ],\n",
       "       [0.33333333, 0.        , 0.        , 0.        , 0.        ,\n",
       "        0.        , 0.        , 0.        , 0.        , 0.        ,\n",
       "        0.        , 0.        , 0.        , 0.        , 0.        ,\n",
       "        0.        , 0.        , 0.        , 0.        , 0.        ,\n",
       "        0.        , 0.        , 0.        , 0.        , 0.        ,\n",
       "        0.        , 0.66666667, 0.        , 0.        , 0.        ,\n",
       "        0.        ],\n",
       "       [0.        , 0.125     , 0.        , 0.        , 0.        ,\n",
       "        0.        , 0.        , 0.        , 0.        , 0.        ,\n",
       "        0.        , 0.        , 0.125     , 0.        , 0.        ,\n",
       "        0.        , 0.        , 0.        , 0.        , 0.5       ,\n",
       "        0.        , 0.        , 0.        , 0.        , 0.25      ,\n",
       "        0.        , 0.        , 0.        , 0.        , 0.        ,\n",
       "        0.        ],\n",
       "       [1.        , 0.        , 0.        , 0.        , 0.        ,\n",
       "        0.        , 0.        , 0.        , 0.        , 0.        ,\n",
       "        0.        , 0.        , 0.        , 0.        , 0.        ,\n",
       "        0.        , 0.        , 0.        , 0.        , 0.        ,\n",
       "        0.        , 0.        , 0.        , 0.        , 0.        ,\n",
       "        0.        , 0.        , 0.        , 0.        , 0.        ,\n",
       "        0.        ],\n",
       "       [0.25      , 0.        , 0.        , 0.        , 0.        ,\n",
       "        0.        , 0.        , 0.        , 0.        , 0.        ,\n",
       "        0.        , 0.        , 0.        , 0.        , 0.        ,\n",
       "        0.        , 0.        , 0.        , 0.        , 0.25      ,\n",
       "        0.        , 0.        , 0.        , 0.        , 0.        ,\n",
       "        0.        , 0.        , 0.        , 0.25      , 0.25      ,\n",
       "        0.        ],\n",
       "       [0.33333333, 0.        , 0.        , 0.        , 0.        ,\n",
       "        0.        , 0.        , 0.        , 0.        , 0.        ,\n",
       "        0.        , 0.33333333, 0.        , 0.        , 0.        ,\n",
       "        0.        , 0.        , 0.        , 0.        , 0.        ,\n",
       "        0.        , 0.        , 0.        , 0.        , 0.        ,\n",
       "        0.        , 0.        , 0.        , 0.        , 0.        ,\n",
       "        0.33333333],\n",
       "       [0.38888889, 0.05555556, 0.        , 0.        , 0.        ,\n",
       "        0.        , 0.33333333, 0.        , 0.05555556, 0.        ,\n",
       "        0.        , 0.        , 0.05555556, 0.        , 0.        ,\n",
       "        0.        , 0.        , 0.        , 0.        , 0.        ,\n",
       "        0.        , 0.        , 0.        , 0.        , 0.05555556,\n",
       "        0.        , 0.        , 0.05555556, 0.        , 0.        ,\n",
       "        0.        ],\n",
       "       [0.33333333, 0.66666667, 0.        , 0.        , 0.        ,\n",
       "        0.        , 0.        , 0.        , 0.        , 0.        ,\n",
       "        0.        , 0.        , 0.        , 0.        , 0.        ,\n",
       "        0.        , 0.        , 0.        , 0.        , 0.        ,\n",
       "        0.        , 0.        , 0.        , 0.        , 0.        ,\n",
       "        0.        , 0.        , 0.        , 0.        , 0.        ,\n",
       "        0.        ]])"
      ]
     },
     "metadata": {},
     "output_type": "display_data"
    },
    {
     "name": "stderr",
     "output_type": "stream",
     "text": [
      "\r",
      " 57%|████████████████████▋               | 69/120 [19:30:23<2:18:07, 162.51s/it]"
     ]
    },
    {
     "name": "stdout",
     "output_type": "stream",
     "text": [
      "INFO: Noise Filtering applied\n",
      "INFO: Clusters generated\n",
      "(27030, 5) (15, 5) (15, 5) (15, 5) (15, 6)\n",
      "INFO: 12 clusters generated.\n"
     ]
    },
    {
     "name": "stderr",
     "output_type": "stream",
     "text": [
      "\n",
      "  0%|                                                    | 0/12 [00:00<?, ?it/s]\u001b[A\n",
      "  8%|███▋                                        | 1/12 [00:00<00:04,  2.49it/s]\u001b[A\n",
      " 17%|███████▎                                    | 2/12 [00:00<00:04,  2.47it/s]\u001b[A\n",
      " 25%|███████████                                 | 3/12 [00:01<00:03,  2.42it/s]\u001b[A\n",
      " 33%|██████████████▋                             | 4/12 [00:01<00:03,  2.43it/s]\u001b[A\n",
      " 42%|██████████████████▎                         | 5/12 [00:02<00:02,  2.44it/s]\u001b[A\n",
      " 50%|██████████████████████                      | 6/12 [00:02<00:02,  2.43it/s]\u001b[A\n",
      " 58%|█████████████████████████▋                  | 7/12 [00:02<00:02,  2.44it/s]\u001b[A\n",
      " 67%|█████████████████████████████▎              | 8/12 [00:03<00:01,  2.44it/s]\u001b[A\n",
      " 75%|█████████████████████████████████           | 9/12 [00:03<00:01,  2.15it/s]\u001b[A\n",
      " 83%|███████████████████████████████████▊       | 10/12 [00:04<00:00,  2.23it/s]\u001b[A\n",
      " 92%|███████████████████████████████████████▍   | 11/12 [00:04<00:00,  2.29it/s]\u001b[A\n",
      "100%|███████████████████████████████████████████| 12/12 [00:05<00:00,  2.36it/s]\u001b[A\n"
     ]
    },
    {
     "data": {
      "text/plain": [
       "array([[0.        , 0.16666667, 0.        , 0.        , 0.        ,\n",
       "        0.        , 0.        , 0.        , 0.5       , 0.33333333,\n",
       "        0.        ],\n",
       "       [0.        , 0.        , 0.5       , 0.125     , 0.        ,\n",
       "        0.        , 0.125     , 0.        , 0.        , 0.125     ,\n",
       "        0.125     ],\n",
       "       [0.        , 0.55555556, 0.        , 0.44444444, 0.        ,\n",
       "        0.        , 0.        , 0.        , 0.        , 0.        ,\n",
       "        0.        ],\n",
       "       [0.        , 0.        , 0.44444444, 0.        , 0.        ,\n",
       "        0.        , 0.        , 0.        , 0.        , 0.        ,\n",
       "        0.55555556],\n",
       "       [0.        , 0.        , 0.5       , 0.        , 0.        ,\n",
       "        0.        , 0.5       , 0.        , 0.        , 0.        ,\n",
       "        0.        ],\n",
       "       [0.        , 0.        , 0.        , 0.        , 0.        ,\n",
       "        0.        , 0.5       , 0.        , 0.5       , 0.        ,\n",
       "        0.        ],\n",
       "       [0.        , 0.        , 0.        , 0.        , 0.5       ,\n",
       "        0.5       , 0.        , 0.        , 0.        , 0.        ,\n",
       "        0.        ],\n",
       "       [1.        , 0.        , 0.        , 0.        , 0.        ,\n",
       "        0.        , 0.        , 0.        , 0.        , 0.        ,\n",
       "        0.        ],\n",
       "       [0.66666667, 0.        , 0.        , 0.        , 0.        ,\n",
       "        0.33333333, 0.        , 0.        , 0.        , 0.        ,\n",
       "        0.        ],\n",
       "       [0.25      , 0.125     , 0.        , 0.        , 0.        ,\n",
       "        0.        , 0.        , 0.125     , 0.        , 0.        ,\n",
       "        0.5       ],\n",
       "       [0.        , 0.        , 0.        , 0.4       , 0.        ,\n",
       "        0.        , 0.        , 0.        , 0.1       , 0.5       ,\n",
       "        0.        ],\n",
       "       [0.        , 1.        , 0.        , 0.        , 0.        ,\n",
       "        0.        , 0.        , 0.        , 0.        , 0.        ,\n",
       "        0.        ]])"
      ]
     },
     "metadata": {},
     "output_type": "display_data"
    },
    {
     "name": "stderr",
     "output_type": "stream",
     "text": [
      "\r",
      " 58%|█████████████████████               | 70/120 [19:30:28<1:36:13, 115.46s/it]"
     ]
    },
    {
     "name": "stdout",
     "output_type": "stream",
     "text": [
      "INFO: Noise Filtering applied\n",
      "INFO: Clusters generated\n",
      "(30919, 5) (44, 5) (44, 5) (44, 5) (44, 6)\n",
      "INFO: 14 clusters generated.\n"
     ]
    },
    {
     "name": "stderr",
     "output_type": "stream",
     "text": [
      "\n",
      "  0%|                                                    | 0/14 [00:00<?, ?it/s]\u001b[A\n",
      "  7%|███▏                                        | 1/14 [00:00<00:05,  2.19it/s]\u001b[A\n",
      " 14%|██████▎                                     | 2/14 [00:00<00:05,  2.17it/s]\u001b[A\n",
      " 21%|█████████▍                                  | 3/14 [00:01<00:06,  1.83it/s]\u001b[A\n",
      " 29%|████████████▌                               | 4/14 [00:02<00:05,  1.92it/s]\u001b[A\n",
      " 36%|███████████████▋                            | 5/14 [00:02<00:04,  1.99it/s]\u001b[A\n",
      " 43%|██████████████████▊                         | 6/14 [00:02<00:03,  2.03it/s]\u001b[A\n",
      " 50%|██████████████████████                      | 7/14 [00:03<00:03,  2.03it/s]\u001b[A\n",
      " 57%|█████████████████████████▏                  | 8/14 [00:03<00:02,  2.06it/s]\u001b[A\n",
      " 64%|████████████████████████████▎               | 9/14 [00:04<00:02,  1.88it/s]\u001b[A\n",
      " 71%|██████████████████████████████▋            | 10/14 [00:05<00:02,  1.96it/s]\u001b[A\n",
      " 79%|█████████████████████████████████▊         | 11/14 [00:05<00:01,  2.01it/s]\u001b[A\n",
      " 86%|████████████████████████████████████▊      | 12/14 [00:05<00:00,  2.05it/s]\u001b[A\n",
      " 93%|███████████████████████████████████████▉   | 13/14 [00:06<00:00,  2.08it/s]\u001b[A\n",
      "100%|███████████████████████████████████████████| 14/14 [00:06<00:00,  2.02it/s]\u001b[A\n"
     ]
    },
    {
     "data": {
      "text/plain": [
       "array([[0.        , 0.04166667, 0.41666667, 0.        , 0.125     ,\n",
       "        0.08333333, 0.08333333, 0.04166667, 0.        , 0.04166667,\n",
       "        0.        , 0.04166667, 0.04166667, 0.08333333],\n",
       "       [0.        , 0.        , 0.08333333, 0.33333333, 0.16666667,\n",
       "        0.08333333, 0.        , 0.        , 0.        , 0.        ,\n",
       "        0.        , 0.        , 0.        , 0.33333333],\n",
       "       [0.61764706, 0.        , 0.        , 0.11764706, 0.        ,\n",
       "        0.11764706, 0.        , 0.        , 0.        , 0.        ,\n",
       "        0.        , 0.        , 0.11764706, 0.02941176],\n",
       "       [0.        , 0.4       , 0.13333333, 0.        , 0.        ,\n",
       "        0.2       , 0.        , 0.        , 0.        , 0.        ,\n",
       "        0.        , 0.        , 0.26666667, 0.        ],\n",
       "       [0.04545455, 0.        , 0.09090909, 0.        , 0.        ,\n",
       "        0.13636364, 0.68181818, 0.        , 0.        , 0.        ,\n",
       "        0.04545455, 0.        , 0.        , 0.        ],\n",
       "       [0.        , 0.04347826, 0.08695652, 0.        , 0.56521739,\n",
       "        0.        , 0.04347826, 0.        , 0.        , 0.04347826,\n",
       "        0.        , 0.        , 0.04347826, 0.17391304],\n",
       "       [0.        , 0.        , 0.55555556, 0.11111111, 0.05555556,\n",
       "        0.22222222, 0.        , 0.        , 0.        , 0.        ,\n",
       "        0.        , 0.        , 0.05555556, 0.        ],\n",
       "       [0.        , 0.        , 0.        , 0.        , 0.        ,\n",
       "        0.        , 0.        , 0.        , 0.        , 1.        ,\n",
       "        0.        , 0.        , 0.        , 0.        ],\n",
       "       [0.        , 0.        , 0.        , 0.        , 0.66666667,\n",
       "        0.        , 0.        , 0.        , 0.33333333, 0.        ,\n",
       "        0.        , 0.        , 0.        , 0.        ],\n",
       "       [1.        , 0.        , 0.        , 0.        , 0.        ,\n",
       "        0.        , 0.        , 0.        , 0.        , 0.        ,\n",
       "        0.        , 0.        , 0.        , 0.        ],\n",
       "       [1.        , 0.        , 0.        , 0.        , 0.        ,\n",
       "        0.        , 0.        , 0.        , 0.        , 0.        ,\n",
       "        0.        , 0.        , 0.        , 0.        ],\n",
       "       [0.        , 0.        , 0.54545455, 0.45454545, 0.        ,\n",
       "        0.        , 0.        , 0.        , 0.        , 0.        ,\n",
       "        0.        , 0.        , 0.        , 0.        ],\n",
       "       [0.        , 0.36363636, 0.09090909, 0.        , 0.        ,\n",
       "        0.54545455, 0.        , 0.        , 0.        , 0.        ,\n",
       "        0.        , 0.        , 0.        , 0.        ]])"
      ]
     },
     "metadata": {},
     "output_type": "display_data"
    },
    {
     "name": "stderr",
     "output_type": "stream",
     "text": [
      "\r",
      " 59%|█████████████████████▉               | 71/120 [19:30:36<1:07:52, 83.11s/it]"
     ]
    },
    {
     "name": "stdout",
     "output_type": "stream",
     "text": [
      "INFO: Noise Filtering applied\n",
      "INFO: Clusters generated\n",
      "(11426, 5) (74, 5) (74, 5) (74, 5) (74, 6)\n",
      "INFO: 8 clusters generated.\n"
     ]
    },
    {
     "name": "stderr",
     "output_type": "stream",
     "text": [
      "\n",
      "  0%|                                                     | 0/8 [00:00<?, ?it/s]\u001b[A\n",
      " 12%|█████▋                                       | 1/8 [00:00<00:01,  5.72it/s]\u001b[A\n",
      " 25%|███████████▎                                 | 2/8 [00:00<00:01,  5.69it/s]\u001b[A\n",
      " 38%|████████████████▉                            | 3/8 [00:00<00:00,  5.52it/s]\u001b[A\n",
      " 50%|██████████████████████▌                      | 4/8 [00:00<00:00,  5.57it/s]\u001b[A\n",
      " 62%|████████████████████████████▏                | 5/8 [00:00<00:00,  5.61it/s]\u001b[A\n",
      " 75%|█████████████████████████████████▊           | 6/8 [00:01<00:00,  4.28it/s]\u001b[A\n",
      " 88%|███████████████████████████████████████▍     | 7/8 [00:01<00:00,  4.66it/s]\u001b[A\n",
      "100%|█████████████████████████████████████████████| 8/8 [00:01<00:00,  5.03it/s]\u001b[A\n"
     ]
    },
    {
     "data": {
      "text/plain": [
       "array([[0.        , 0.625     , 0.25      , 0.0625    , 0.        ,\n",
       "        0.        , 0.        , 0.0625    ],\n",
       "       [0.22727273, 0.        , 0.54545455, 0.        , 0.09090909,\n",
       "        0.02272727, 0.02272727, 0.09090909],\n",
       "       [0.11764706, 0.52941176, 0.        , 0.        , 0.17647059,\n",
       "        0.14705882, 0.        , 0.02941176],\n",
       "       [0.        , 1.        , 0.        , 0.        , 0.        ,\n",
       "        0.        , 0.        , 0.        ],\n",
       "       [0.        , 0.25      , 0.33333333, 0.        , 0.        ,\n",
       "        0.16666667, 0.        , 0.25      ],\n",
       "       [0.09090909, 0.36363636, 0.        , 0.        , 0.18181818,\n",
       "        0.        , 0.        , 0.36363636],\n",
       "       [0.        , 1.        , 0.        , 0.        , 0.        ,\n",
       "        0.        , 0.        , 0.        ],\n",
       "       [0.07692308, 0.53846154, 0.15384615, 0.        , 0.        ,\n",
       "        0.23076923, 0.        , 0.        ]])"
      ]
     },
     "metadata": {},
     "output_type": "display_data"
    },
    {
     "name": "stderr",
     "output_type": "stream",
     "text": [
      "\r",
      " 60%|███████████████████████▍               | 72/120 [19:30:38<46:59, 58.74s/it]"
     ]
    },
    {
     "name": "stdout",
     "output_type": "stream",
     "text": [
      "INFO: Noise Filtering applied\n",
      "INFO: Clusters generated\n",
      "(55640, 5) (281, 5) (281, 5) (281, 5) (281, 6)\n",
      "INFO: 10 clusters generated.\n"
     ]
    },
    {
     "name": "stderr",
     "output_type": "stream",
     "text": [
      "\n",
      "  0%|                                                    | 0/10 [00:00<?, ?it/s]\u001b[A\n",
      " 10%|████▍                                       | 1/10 [00:00<00:07,  1.21it/s]\u001b[A\n",
      " 20%|████████▊                                   | 2/10 [00:01<00:07,  1.06it/s]\u001b[A\n",
      " 30%|█████████████▏                              | 3/10 [00:02<00:06,  1.10it/s]\u001b[A\n",
      " 40%|█████████████████▌                          | 4/10 [00:03<00:05,  1.12it/s]\u001b[A\n",
      " 50%|██████████████████████                      | 5/10 [00:04<00:04,  1.15it/s]\u001b[A\n",
      " 60%|██████████████████████████▍                 | 6/10 [00:05<00:03,  1.09it/s]\u001b[A\n",
      " 70%|██████████████████████████████▊             | 7/10 [00:06<00:02,  1.13it/s]\u001b[A\n",
      " 80%|███████████████████████████████████▏        | 8/10 [00:07<00:01,  1.15it/s]\u001b[A\n",
      " 90%|███████████████████████████████████████▌    | 9/10 [00:07<00:00,  1.16it/s]\u001b[A\n",
      "100%|███████████████████████████████████████████| 10/10 [00:08<00:00,  1.12it/s]\u001b[A\n"
     ]
    },
    {
     "data": {
      "text/plain": [
       "array([[0.        , 0.0952381 , 0.21428571, 0.23809524, 0.02380952,\n",
       "        0.        , 0.02380952, 0.0952381 , 0.19047619, 0.11904762],\n",
       "       [0.44444444, 0.        , 0.33333333, 0.11111111, 0.        ,\n",
       "        0.11111111, 0.        , 0.        , 0.        , 0.        ],\n",
       "       [0.53846154, 0.23076923, 0.        , 0.        , 0.15384615,\n",
       "        0.        , 0.        , 0.        , 0.07692308, 0.        ],\n",
       "       [0.86666667, 0.06666667, 0.        , 0.        , 0.        ,\n",
       "        0.        , 0.        , 0.        , 0.        , 0.06666667],\n",
       "       [0.        , 0.4       , 0.        , 0.        , 0.        ,\n",
       "        0.        , 0.        , 0.        , 0.6       , 0.        ],\n",
       "       [1.        , 0.        , 0.        , 0.        , 0.        ,\n",
       "        0.        , 0.        , 0.        , 0.        , 0.        ],\n",
       "       [1.        , 0.        , 0.        , 0.        , 0.        ,\n",
       "        0.        , 0.        , 0.        , 0.        , 0.        ],\n",
       "       [0.5       , 0.        , 0.        , 0.2       , 0.        ,\n",
       "        0.        , 0.        , 0.        , 0.3       , 0.        ],\n",
       "       [0.4       , 0.        , 0.        , 0.06666667, 0.13333333,\n",
       "        0.        , 0.        , 0.4       , 0.        , 0.        ],\n",
       "       [0.83333333, 0.        , 0.        , 0.16666667, 0.        ,\n",
       "        0.        , 0.        , 0.        , 0.        , 0.        ]])"
      ]
     },
     "metadata": {},
     "output_type": "display_data"
    },
    {
     "name": "stderr",
     "output_type": "stream",
     "text": [
      "\r",
      " 61%|███████████████████████▋               | 73/120 [19:30:48<34:38, 44.21s/it]"
     ]
    },
    {
     "name": "stdout",
     "output_type": "stream",
     "text": [
      "INFO: Noise Filtering applied\n",
      "INFO: Clusters generated\n",
      "(8898, 5) (37, 5) (37, 5) (37, 5) (37, 6)\n",
      "INFO: 4 clusters generated.\n"
     ]
    },
    {
     "name": "stderr",
     "output_type": "stream",
     "text": [
      "\n",
      "  0%|                                                     | 0/4 [00:00<?, ?it/s]\u001b[A\n",
      " 25%|███████████▎                                 | 1/4 [00:00<00:00,  7.25it/s]\u001b[A\n",
      " 50%|██████████████████████▌                      | 2/4 [00:00<00:00,  7.27it/s]\u001b[A\n",
      " 75%|█████████████████████████████████▊           | 3/4 [00:00<00:00,  7.26it/s]\u001b[A\n",
      "100%|█████████████████████████████████████████████| 4/4 [00:00<00:00,  7.23it/s]\u001b[A\n"
     ]
    },
    {
     "data": {
      "text/plain": [
       "array([[0. , 0. , 0.5, 0.5],\n",
       "       [0.5, 0.5, 0. , 0. ],\n",
       "       [1. , 0. , 0. , 0. ]])"
      ]
     },
     "metadata": {},
     "output_type": "display_data"
    },
    {
     "name": "stderr",
     "output_type": "stream",
     "text": [
      "\r",
      " 62%|████████████████████████               | 74/120 [19:30:49<23:54, 31.19s/it]"
     ]
    },
    {
     "name": "stdout",
     "output_type": "stream",
     "text": [
      "INFO: Noise Filtering applied\n",
      "INFO: Clusters generated\n",
      "(2793, 5) (32, 5) (32, 5) (32, 5) (32, 6)\n",
      "INFO: 2 clusters generated.\n"
     ]
    },
    {
     "name": "stderr",
     "output_type": "stream",
     "text": [
      "\n",
      "100%|█████████████████████████████████████████████| 2/2 [00:00<00:00, 21.56it/s]\u001b[A\n"
     ]
    },
    {
     "data": {
      "text/plain": [
       "array([[0., 1.],\n",
       "       [1., 0.]])"
      ]
     },
     "metadata": {},
     "output_type": "display_data"
    },
    {
     "name": "stderr",
     "output_type": "stream",
     "text": [
      "\r",
      " 62%|████████████████████████▍              | 75/120 [19:30:49<16:25, 21.90s/it]"
     ]
    },
    {
     "name": "stdout",
     "output_type": "stream",
     "text": [
      "INFO: Noise Filtering applied\n",
      "INFO: Clusters generated\n",
      "(45558, 5) (45, 5) (45, 5) (45, 5) (45, 6)\n",
      "INFO: 5 clusters generated.\n"
     ]
    },
    {
     "name": "stderr",
     "output_type": "stream",
     "text": [
      "\n",
      "  0%|                                                     | 0/5 [00:00<?, ?it/s]\u001b[A\n",
      " 20%|█████████                                    | 1/5 [00:00<00:02,  1.88it/s]\u001b[A\n",
      " 40%|██████████████████                           | 2/5 [00:01<00:02,  1.39it/s]\u001b[A\n",
      " 60%|███████████████████████████                  | 3/5 [00:02<00:01,  1.41it/s]\u001b[A\n",
      " 80%|████████████████████████████████████         | 4/5 [00:02<00:00,  1.43it/s]\u001b[A\n",
      "100%|█████████████████████████████████████████████| 5/5 [00:03<00:00,  1.39it/s]\u001b[A\n"
     ]
    },
    {
     "data": {
      "text/plain": [
       "array([[0.33333333, 0.        , 0.66666667, 0.        ],\n",
       "       [0.        , 1.        , 0.        , 0.        ],\n",
       "       [0.        , 0.        , 0.        , 1.        ],\n",
       "       [0.        , 1.        , 0.        , 0.        ]])"
      ]
     },
     "metadata": {},
     "output_type": "display_data"
    },
    {
     "name": "stderr",
     "output_type": "stream",
     "text": [
      "\r",
      " 63%|████████████████████████▋              | 76/120 [19:30:54<12:16, 16.73s/it]"
     ]
    },
    {
     "name": "stdout",
     "output_type": "stream",
     "text": [
      "INFO: Noise Filtering applied\n",
      "INFO: Clusters generated\n",
      "(229901, 5) (124, 5) (124, 5) (124, 5) (124, 6)\n",
      "INFO: 10 clusters generated.\n"
     ]
    },
    {
     "name": "stderr",
     "output_type": "stream",
     "text": [
      "\n",
      "  0%|                                                    | 0/10 [00:00<?, ?it/s]\u001b[A\n",
      " 10%|████▍                                       | 1/10 [00:03<00:33,  3.69s/it]\u001b[A\n",
      " 20%|████████▊                                   | 2/10 [00:07<00:29,  3.66s/it]\u001b[A\n",
      " 30%|█████████████▏                              | 3/10 [00:10<00:25,  3.64s/it]\u001b[A\n",
      " 40%|█████████████████▌                          | 4/10 [00:14<00:21,  3.64s/it]\u001b[A\n",
      " 50%|██████████████████████                      | 5/10 [00:18<00:18,  3.64s/it]\u001b[A\n",
      " 60%|██████████████████████████▍                 | 6/10 [00:21<00:14,  3.66s/it]\u001b[A\n",
      " 70%|██████████████████████████████▊             | 7/10 [00:25<00:10,  3.66s/it]\u001b[A\n",
      " 80%|███████████████████████████████████▏        | 8/10 [00:29<00:07,  3.66s/it]\u001b[A\n",
      " 90%|███████████████████████████████████████▌    | 9/10 [00:32<00:03,  3.65s/it]\u001b[A\n",
      "100%|███████████████████████████████████████████| 10/10 [00:36<00:00,  3.64s/it]\u001b[A\n"
     ]
    },
    {
     "data": {
      "text/plain": [
       "array([[0.        , 0.375     , 0.        , 0.125     , 0.125     ,\n",
       "        0.        , 0.125     , 0.1875    , 0.0625    , 0.        ],\n",
       "       [0.28571429, 0.        , 0.57142857, 0.        , 0.        ,\n",
       "        0.        , 0.        , 0.07142857, 0.        , 0.07142857],\n",
       "       [0.        , 0.4375    , 0.        , 0.        , 0.        ,\n",
       "        0.        , 0.0625    , 0.        , 0.        , 0.5       ],\n",
       "       [1.        , 0.        , 0.        , 0.        , 0.        ,\n",
       "        0.        , 0.        , 0.        , 0.        , 0.        ],\n",
       "       [0.        , 0.        , 0.        , 0.        , 0.        ,\n",
       "        1.        , 0.        , 0.        , 0.        , 0.        ],\n",
       "       [0.25      , 0.        , 0.5       , 0.        , 0.25      ,\n",
       "        0.        , 0.        , 0.        , 0.        , 0.        ],\n",
       "       [0.0625    , 0.        , 0.        , 0.        , 0.        ,\n",
       "        0.        , 0.        , 0.5       , 0.        , 0.4375    ],\n",
       "       [0.46153846, 0.07692308, 0.        , 0.        , 0.07692308,\n",
       "        0.        , 0.38461538, 0.        , 0.        , 0.        ],\n",
       "       [1.        , 0.        , 0.        , 0.        , 0.        ,\n",
       "        0.        , 0.        , 0.        , 0.        , 0.        ],\n",
       "       [0.0625    , 0.        , 0.375     , 0.        , 0.        ,\n",
       "        0.        , 0.5       , 0.0625    , 0.        , 0.        ]])"
      ]
     },
     "metadata": {},
     "output_type": "display_data"
    },
    {
     "name": "stderr",
     "output_type": "stream",
     "text": [
      "\r",
      " 64%|█████████████████████████              | 77/120 [19:31:40<18:19, 25.57s/it]"
     ]
    },
    {
     "name": "stdout",
     "output_type": "stream",
     "text": [
      "INFO: Noise Filtering applied\n",
      "INFO: Clusters generated\n",
      "(1554, 5) (43, 5) (43, 5) (43, 5) (43, 6)\n",
      "INFO: 1 clusters generated.\n"
     ]
    },
    {
     "name": "stderr",
     "output_type": "stream",
     "text": [
      "\n",
      "100%|█████████████████████████████████████████████| 1/1 [00:00<00:00, 37.20it/s]\u001b[A\n"
     ]
    },
    {
     "data": {
      "text/plain": [
       "array([], shape=(0, 0), dtype=float64)"
      ]
     },
     "metadata": {},
     "output_type": "display_data"
    },
    {
     "name": "stderr",
     "output_type": "stream",
     "text": [
      "\r",
      " 65%|█████████████████████████▎             | 78/120 [19:31:40<12:33, 17.94s/it]"
     ]
    },
    {
     "name": "stdout",
     "output_type": "stream",
     "text": [
      "INFO: Noise Filtering applied\n",
      "INFO: Clusters generated\n",
      "(1267, 5) (14, 5) (14, 5) (14, 5) (14, 6)\n",
      "INFO: 4 clusters generated.\n"
     ]
    },
    {
     "name": "stderr",
     "output_type": "stream",
     "text": [
      "\n",
      "100%|█████████████████████████████████████████████| 4/4 [00:00<00:00, 47.14it/s]\u001b[A\n"
     ]
    },
    {
     "data": {
      "text/plain": [
       "array([[0. , 0.5, 0.5],\n",
       "       [0. , 0. , 1. ],\n",
       "       [1. , 0. , 0. ],\n",
       "       [1. , 0. , 0. ]])"
      ]
     },
     "metadata": {},
     "output_type": "display_data"
    },
    {
     "name": "stderr",
     "output_type": "stream",
     "text": [
      "\r",
      " 66%|█████████████████████████▋             | 79/120 [19:31:40<08:37, 12.62s/it]"
     ]
    },
    {
     "name": "stdout",
     "output_type": "stream",
     "text": [
      "INFO: Noise Filtering applied\n",
      "INFO: Clusters generated\n",
      "(13738, 5) (185, 5) (185, 5) (185, 5) (185, 6)\n",
      "INFO: 8 clusters generated.\n"
     ]
    },
    {
     "name": "stderr",
     "output_type": "stream",
     "text": [
      "\n",
      "  0%|                                                     | 0/8 [00:00<?, ?it/s]\u001b[A\n",
      " 12%|█████▋                                       | 1/8 [00:00<00:01,  4.76it/s]\u001b[A\n",
      " 25%|███████████▎                                 | 2/8 [00:00<00:01,  4.74it/s]\u001b[A\n",
      " 38%|████████████████▉                            | 3/8 [00:00<00:01,  4.79it/s]\u001b[A\n",
      " 50%|██████████████████████▌                      | 4/8 [00:01<00:01,  3.65it/s]\u001b[A\n",
      " 62%|████████████████████████████▏                | 5/8 [00:01<00:00,  4.01it/s]\u001b[A\n",
      " 75%|█████████████████████████████████▊           | 6/8 [00:01<00:00,  4.24it/s]\u001b[A\n",
      " 88%|███████████████████████████████████████▍     | 7/8 [00:01<00:00,  4.25it/s]\u001b[A\n",
      "100%|█████████████████████████████████████████████| 8/8 [00:01<00:00,  4.27it/s]\u001b[A\n"
     ]
    },
    {
     "data": {
      "text/plain": [
       "array([[0.        , 0.14285714, 0.14285714, 0.14285714, 0.42857143,\n",
       "        0.        , 0.14285714, 0.        ],\n",
       "       [0.        , 0.        , 0.        , 0.        , 0.66666667,\n",
       "        0.        , 0.        , 0.33333333],\n",
       "       [1.        , 0.        , 0.        , 0.        , 0.        ,\n",
       "        0.        , 0.        , 0.        ],\n",
       "       [0.        , 0.        , 0.        , 0.        , 0.        ,\n",
       "        1.        , 0.        , 0.        ],\n",
       "       [0.4       , 0.2       , 0.4       , 0.        , 0.        ,\n",
       "        0.        , 0.        , 0.        ],\n",
       "       [1.        , 0.        , 0.        , 0.        , 0.        ,\n",
       "        0.        , 0.        , 0.        ],\n",
       "       [0.        , 0.        , 1.        , 0.        , 0.        ,\n",
       "        0.        , 0.        , 0.        ],\n",
       "       [0.        , 1.        , 0.        , 0.        , 0.        ,\n",
       "        0.        , 0.        , 0.        ]])"
      ]
     },
     "metadata": {},
     "output_type": "display_data"
    },
    {
     "name": "stderr",
     "output_type": "stream",
     "text": [
      "\r",
      " 67%|██████████████████████████             | 80/120 [19:31:43<06:20,  9.51s/it]"
     ]
    },
    {
     "name": "stdout",
     "output_type": "stream",
     "text": [
      "INFO: Noise Filtering applied\n",
      "INFO: Clusters generated\n",
      "(6678, 5) (33, 5) (33, 5) (33, 5) (33, 6)\n",
      "INFO: 7 clusters generated.\n"
     ]
    },
    {
     "name": "stderr",
     "output_type": "stream",
     "text": [
      "\n",
      "  0%|                                                     | 0/7 [00:00<?, ?it/s]\u001b[A\n",
      " 14%|██████▍                                      | 1/7 [00:00<00:00,  9.53it/s]\u001b[A\n",
      " 29%|████████████▊                                | 2/7 [00:00<00:00,  9.57it/s]\u001b[A\n",
      " 43%|███████████████████▎                         | 3/7 [00:00<00:00,  9.58it/s]\u001b[A\n",
      " 57%|█████████████████████████▋                   | 4/7 [00:00<00:00,  9.59it/s]\u001b[A\n",
      " 71%|████████████████████████████████▏            | 5/7 [00:00<00:00,  9.50it/s]\u001b[A\n",
      " 86%|██████████████████████████████████████▌      | 6/7 [00:00<00:00,  9.46it/s]\u001b[A\n",
      "100%|█████████████████████████████████████████████| 7/7 [00:00<00:00,  9.54it/s]\u001b[A\n"
     ]
    },
    {
     "data": {
      "text/plain": [
       "array([[0.        , 0.86666667, 0.        , 0.06666667, 0.        ,\n",
       "        0.06666667, 0.        ],\n",
       "       [0.75      , 0.        , 0.0625    , 0.0625    , 0.        ,\n",
       "        0.125     , 0.        ],\n",
       "       [0.        , 0.        , 0.        , 0.        , 1.        ,\n",
       "        0.        , 0.        ],\n",
       "       [0.        , 0.5       , 0.5       , 0.        , 0.        ,\n",
       "        0.        , 0.        ],\n",
       "       [0.        , 0.        , 0.        , 0.        , 0.        ,\n",
       "        0.        , 1.        ],\n",
       "       [1.        , 0.        , 0.        , 0.        , 0.        ,\n",
       "        0.        , 0.        ],\n",
       "       [0.        , 1.        , 0.        , 0.        , 0.        ,\n",
       "        0.        , 0.        ]])"
      ]
     },
     "metadata": {},
     "output_type": "display_data"
    },
    {
     "name": "stderr",
     "output_type": "stream",
     "text": [
      "\r",
      " 68%|██████████████████████████▎            | 81/120 [19:31:44<04:30,  6.94s/it]"
     ]
    },
    {
     "name": "stdout",
     "output_type": "stream",
     "text": [
      "INFO: Noise Filtering applied\n",
      "INFO: Clusters generated\n",
      "(36576, 5) (41, 5) (41, 5) (41, 5) (41, 6)\n",
      "INFO: 8 clusters generated.\n"
     ]
    },
    {
     "name": "stderr",
     "output_type": "stream",
     "text": [
      "\n",
      "  0%|                                                     | 0/8 [00:00<?, ?it/s]\u001b[A\n",
      " 12%|█████▋                                       | 1/8 [00:00<00:03,  1.84it/s]\u001b[A\n",
      " 25%|███████████▎                                 | 2/8 [00:01<00:03,  1.84it/s]\u001b[A\n",
      " 38%|████████████████▉                            | 3/8 [00:01<00:03,  1.59it/s]\u001b[A\n",
      " 50%|██████████████████████▌                      | 4/8 [00:02<00:02,  1.66it/s]\u001b[A\n",
      " 62%|████████████████████████████▏                | 5/8 [00:02<00:01,  1.72it/s]\u001b[A\n",
      " 75%|█████████████████████████████████▊           | 6/8 [00:03<00:01,  1.75it/s]\u001b[A\n",
      " 88%|███████████████████████████████████████▍     | 7/8 [00:04<00:00,  1.78it/s]\u001b[A\n",
      "100%|█████████████████████████████████████████████| 8/8 [00:04<00:00,  1.69it/s]\u001b[A\n"
     ]
    },
    {
     "data": {
      "text/plain": [
       "array([[0.        , 0.2       , 0.2       , 0.        , 0.6       ,\n",
       "        0.        ],\n",
       "       [0.5       , 0.        , 0.        , 0.        , 0.5       ,\n",
       "        0.        ],\n",
       "       [0.        , 0.        , 0.        , 0.        , 0.27272727,\n",
       "        0.72727273],\n",
       "       [0.        , 0.        , 1.        , 0.        , 0.        ,\n",
       "        0.        ],\n",
       "       [0.22222222, 0.        , 0.66666667, 0.        , 0.        ,\n",
       "        0.11111111],\n",
       "       [0.3       , 0.1       , 0.3       , 0.1       , 0.2       ,\n",
       "        0.        ],\n",
       "       [0.        , 0.        , 0.        , 0.        , 0.        ,\n",
       "        1.        ]])"
      ]
     },
     "metadata": {},
     "output_type": "display_data"
    },
    {
     "name": "stderr",
     "output_type": "stream",
     "text": [
      "\r",
      " 68%|██████████████████████████▋            | 82/120 [19:31:49<04:08,  6.53s/it]"
     ]
    },
    {
     "name": "stdout",
     "output_type": "stream",
     "text": [
      "INFO: Noise Filtering applied\n",
      "INFO: Clusters generated\n",
      "(38571, 5) (180, 5) (180, 5) (180, 5) (180, 6)\n",
      "INFO: 20 clusters generated.\n"
     ]
    },
    {
     "name": "stderr",
     "output_type": "stream",
     "text": [
      "\n",
      "  0%|                                                    | 0/20 [00:00<?, ?it/s]\u001b[A\n",
      "  5%|██▏                                         | 1/20 [00:00<00:10,  1.77it/s]\u001b[A\n",
      " 10%|████▍                                       | 2/20 [00:01<00:10,  1.73it/s]\u001b[A\n",
      " 15%|██████▌                                     | 3/20 [00:01<00:09,  1.74it/s]\u001b[A\n",
      " 20%|████████▊                                   | 4/20 [00:02<00:10,  1.52it/s]\u001b[A\n",
      " 25%|███████████                                 | 5/20 [00:03<00:09,  1.59it/s]\u001b[A\n",
      " 30%|█████████████▏                              | 6/20 [00:03<00:08,  1.63it/s]\u001b[A\n",
      " 35%|███████████████▍                            | 7/20 [00:04<00:07,  1.65it/s]\u001b[A\n",
      " 40%|█████████████████▌                          | 8/20 [00:04<00:07,  1.68it/s]\u001b[A\n",
      " 45%|███████████████████▊                        | 9/20 [00:05<00:07,  1.56it/s]\u001b[A\n",
      " 50%|█████████████████████▌                     | 10/20 [00:06<00:06,  1.60it/s]\u001b[A\n",
      " 55%|███████████████████████▋                   | 11/20 [00:06<00:05,  1.64it/s]\u001b[A\n",
      " 60%|█████████████████████████▊                 | 12/20 [00:07<00:04,  1.67it/s]\u001b[A\n",
      " 65%|███████████████████████████▉               | 13/20 [00:07<00:04,  1.68it/s]\u001b[A\n",
      " 70%|██████████████████████████████             | 14/20 [00:08<00:03,  1.68it/s]\u001b[A\n",
      " 75%|████████████████████████████████▎          | 15/20 [00:09<00:03,  1.55it/s]\u001b[A\n",
      " 80%|██████████████████████████████████▍        | 16/20 [00:09<00:02,  1.60it/s]\u001b[A\n",
      " 85%|████████████████████████████████████▌      | 17/20 [00:10<00:01,  1.63it/s]\u001b[A\n",
      " 90%|██████████████████████████████████████▋    | 18/20 [00:10<00:01,  1.66it/s]\u001b[A\n",
      " 95%|████████████████████████████████████████▊  | 19/20 [00:11<00:00,  1.54it/s]\u001b[A\n",
      "100%|███████████████████████████████████████████| 20/20 [00:12<00:00,  1.62it/s]\u001b[A\n"
     ]
    },
    {
     "data": {
      "text/plain": [
       "array([[0.        , 0.04081633, 0.02040816, 0.30612245, 0.02040816,\n",
       "        0.        , 0.20408163, 0.02040816, 0.        , 0.14285714,\n",
       "        0.        , 0.02040816, 0.        , 0.        , 0.08163265,\n",
       "        0.        , 0.06122449, 0.04081633, 0.02040816, 0.02040816],\n",
       "       [0.08333333, 0.        , 0.        , 0.        , 0.5       ,\n",
       "        0.        , 0.16666667, 0.08333333, 0.        , 0.        ,\n",
       "        0.08333333, 0.        , 0.08333333, 0.        , 0.        ,\n",
       "        0.        , 0.        , 0.        , 0.        , 0.        ],\n",
       "       [0.5       , 0.        , 0.        , 0.25      , 0.        ,\n",
       "        0.        , 0.        , 0.        , 0.        , 0.        ,\n",
       "        0.        , 0.        , 0.        , 0.        , 0.25      ,\n",
       "        0.        , 0.        , 0.        , 0.        , 0.        ],\n",
       "       [0.61538462, 0.        , 0.        , 0.        , 0.        ,\n",
       "        0.        , 0.        , 0.        , 0.        , 0.        ,\n",
       "        0.        , 0.23076923, 0.        , 0.        , 0.        ,\n",
       "        0.03846154, 0.        , 0.07692308, 0.03846154, 0.        ],\n",
       "       [0.07142857, 0.21428571, 0.        , 0.        , 0.        ,\n",
       "        0.        , 0.07142857, 0.07142857, 0.        , 0.42857143,\n",
       "        0.14285714, 0.        , 0.        , 0.        , 0.        ,\n",
       "        0.        , 0.        , 0.        , 0.        , 0.        ],\n",
       "       [0.5       , 0.        , 0.        , 0.        , 0.        ,\n",
       "        0.        , 0.        , 0.        , 0.25      , 0.25      ,\n",
       "        0.        , 0.        , 0.        , 0.        , 0.        ,\n",
       "        0.        , 0.        , 0.        , 0.        , 0.        ],\n",
       "       [0.4375    , 0.        , 0.        , 0.125     , 0.125     ,\n",
       "        0.        , 0.        , 0.        , 0.0625    , 0.        ,\n",
       "        0.125     , 0.        , 0.0625    , 0.        , 0.0625    ,\n",
       "        0.        , 0.        , 0.        , 0.        , 0.        ],\n",
       "       [0.1       , 0.1       , 0.        , 0.        , 0.2       ,\n",
       "        0.        , 0.        , 0.        , 0.        , 0.        ,\n",
       "        0.        , 0.1       , 0.1       , 0.4       , 0.        ,\n",
       "        0.        , 0.        , 0.        , 0.        , 0.        ],\n",
       "       [0.        , 0.        , 0.        , 0.        , 0.        ,\n",
       "        0.        , 0.        , 0.2       , 0.        , 0.        ,\n",
       "        0.        , 0.2       , 0.        , 0.        , 0.        ,\n",
       "        0.4       , 0.2       , 0.        , 0.        , 0.        ],\n",
       "       [0.42857143, 0.14285714, 0.        , 0.        , 0.21428571,\n",
       "        0.        , 0.07142857, 0.        , 0.        , 0.        ,\n",
       "        0.        , 0.07142857, 0.        , 0.        , 0.        ,\n",
       "        0.        , 0.        , 0.07142857, 0.        , 0.        ],\n",
       "       [0.2       , 0.2       , 0.        , 0.        , 0.        ,\n",
       "        0.        , 0.4       , 0.        , 0.        , 0.        ,\n",
       "        0.        , 0.        , 0.        , 0.        , 0.        ,\n",
       "        0.2       , 0.        , 0.        , 0.        , 0.        ],\n",
       "       [0.06666667, 0.        , 0.        , 0.4       , 0.        ,\n",
       "        0.06666667, 0.        , 0.06666667, 0.        , 0.        ,\n",
       "        0.        , 0.        , 0.        , 0.        , 0.        ,\n",
       "        0.13333333, 0.        , 0.26666667, 0.        , 0.        ],\n",
       "       [0.25      , 0.5       , 0.        , 0.        , 0.        ,\n",
       "        0.        , 0.        , 0.        , 0.        , 0.        ,\n",
       "        0.        , 0.        , 0.        , 0.        , 0.        ,\n",
       "        0.        , 0.        , 0.25      , 0.        , 0.        ],\n",
       "       [0.125     , 0.        , 0.125     , 0.        , 0.        ,\n",
       "        0.        , 0.        , 0.125     , 0.        , 0.        ,\n",
       "        0.        , 0.125     , 0.125     , 0.        , 0.        ,\n",
       "        0.375     , 0.        , 0.        , 0.        , 0.        ],\n",
       "       [0.16666667, 0.16666667, 0.        , 0.16666667, 0.        ,\n",
       "        0.16666667, 0.        , 0.        , 0.        , 0.        ,\n",
       "        0.        , 0.        , 0.        , 0.        , 0.        ,\n",
       "        0.        , 0.        , 0.        , 0.33333333, 0.        ],\n",
       "       [0.06666667, 0.        , 0.        , 0.06666667, 0.        ,\n",
       "        0.        , 0.        , 0.13333333, 0.2       , 0.        ,\n",
       "        0.        , 0.13333333, 0.        , 0.26666667, 0.        ,\n",
       "        0.        , 0.        , 0.13333333, 0.        , 0.        ],\n",
       "       [0.25      , 0.        , 0.        , 0.        , 0.        ,\n",
       "        0.25      , 0.        , 0.25      , 0.        , 0.        ,\n",
       "        0.        , 0.        , 0.        , 0.        , 0.        ,\n",
       "        0.        , 0.        , 0.        , 0.25      , 0.        ],\n",
       "       [0.16666667, 0.        , 0.08333333, 0.        , 0.        ,\n",
       "        0.        , 0.        , 0.08333333, 0.        , 0.        ,\n",
       "        0.        , 0.16666667, 0.        , 0.        , 0.        ,\n",
       "        0.5       , 0.        , 0.        , 0.        , 0.        ],\n",
       "       [0.8       , 0.        , 0.        , 0.        , 0.        ,\n",
       "        0.2       , 0.        , 0.        , 0.        , 0.        ,\n",
       "        0.        , 0.        , 0.        , 0.        , 0.        ,\n",
       "        0.        , 0.        , 0.        , 0.        , 0.        ],\n",
       "       [1.        , 0.        , 0.        , 0.        , 0.        ,\n",
       "        0.        , 0.        , 0.        , 0.        , 0.        ,\n",
       "        0.        , 0.        , 0.        , 0.        , 0.        ,\n",
       "        0.        , 0.        , 0.        , 0.        , 0.        ]])"
      ]
     },
     "metadata": {},
     "output_type": "display_data"
    },
    {
     "name": "stderr",
     "output_type": "stream",
     "text": [
      "\r",
      " 69%|██████████████████████████▉            | 83/120 [19:32:02<05:16,  8.56s/it]"
     ]
    },
    {
     "name": "stdout",
     "output_type": "stream",
     "text": [
      "INFO: Noise Filtering applied\n",
      "INFO: Clusters generated\n",
      "(5520, 5) (36, 5) (36, 5) (36, 5) (36, 6)\n",
      "INFO: 4 clusters generated.\n"
     ]
    },
    {
     "name": "stderr",
     "output_type": "stream",
     "text": [
      "\n",
      "  0%|                                                     | 0/4 [00:00<?, ?it/s]\u001b[A\n",
      " 50%|██████████████████████▌                      | 2/4 [00:00<00:00, 10.97it/s]\u001b[A\n",
      "100%|█████████████████████████████████████████████| 4/4 [00:00<00:00, 11.21it/s]\u001b[A\n"
     ]
    },
    {
     "data": {
      "text/plain": [
       "array([[0.        , 0.66666667, 0.33333333, 0.        ],\n",
       "       [0.8       , 0.        , 0.        , 0.2       ],\n",
       "       [0.5       , 0.5       , 0.        , 0.        ],\n",
       "       [1.        , 0.        , 0.        , 0.        ]])"
      ]
     },
     "metadata": {},
     "output_type": "display_data"
    },
    {
     "name": "stderr",
     "output_type": "stream",
     "text": [
      "\r",
      " 70%|███████████████████████████▎           | 84/120 [19:32:03<03:41,  6.15s/it]"
     ]
    },
    {
     "name": "stdout",
     "output_type": "stream",
     "text": [
      "INFO: Noise Filtering applied\n",
      "INFO: Clusters generated\n",
      "(15326, 5) (28, 5) (28, 5) (28, 5) (28, 6)\n",
      "INFO: 12 clusters generated.\n"
     ]
    },
    {
     "name": "stderr",
     "output_type": "stream",
     "text": [
      "\n",
      "  0%|                                                    | 0/12 [00:00<?, ?it/s]\u001b[A\n",
      "  8%|███▋                                        | 1/12 [00:00<00:02,  4.37it/s]\u001b[A\n",
      " 17%|███████▎                                    | 2/12 [00:00<00:02,  4.29it/s]\u001b[A\n",
      " 25%|███████████                                 | 3/12 [00:00<00:02,  4.22it/s]\u001b[A\n",
      " 33%|██████████████▋                             | 4/12 [00:00<00:01,  4.26it/s]\u001b[A\n",
      " 42%|██████████████████▎                         | 5/12 [00:01<00:01,  4.28it/s]\u001b[A\n",
      " 50%|██████████████████████                      | 6/12 [00:01<00:01,  4.33it/s]\u001b[A\n",
      " 58%|█████████████████████████▋                  | 7/12 [00:01<00:01,  4.31it/s]\u001b[A\n",
      " 67%|█████████████████████████████▎              | 8/12 [00:01<00:00,  4.29it/s]\u001b[A\n",
      " 75%|█████████████████████████████████           | 9/12 [00:02<00:00,  4.34it/s]\u001b[A\n",
      " 83%|███████████████████████████████████▊       | 10/12 [00:02<00:00,  4.31it/s]\u001b[A\n",
      " 92%|███████████████████████████████████████▍   | 11/12 [00:02<00:00,  3.47it/s]\u001b[A\n",
      "100%|███████████████████████████████████████████| 12/12 [00:02<00:00,  4.01it/s]\u001b[A\n"
     ]
    },
    {
     "data": {
      "text/plain": [
       "array([[0.        , 0.        , 0.        , 1.        , 0.        ,\n",
       "        0.        , 0.        , 0.        , 0.        , 0.        ,\n",
       "        0.        , 0.        ],\n",
       "       [0.        , 0.        , 0.        , 0.        , 0.25      ,\n",
       "        0.25      , 0.25      , 0.        , 0.        , 0.25      ,\n",
       "        0.        , 0.        ],\n",
       "       [0.        , 0.125     , 0.        , 0.        , 0.        ,\n",
       "        0.        , 0.        , 0.125     , 0.5       , 0.125     ,\n",
       "        0.125     , 0.        ],\n",
       "       [1.        , 0.        , 0.        , 0.        , 0.        ,\n",
       "        0.        , 0.        , 0.        , 0.        , 0.        ,\n",
       "        0.        , 0.        ],\n",
       "       [0.        , 0.        , 0.        , 0.        , 0.        ,\n",
       "        0.        , 0.        , 0.        , 0.        , 0.        ,\n",
       "        0.        , 1.        ],\n",
       "       [0.        , 0.        , 0.16666667, 0.        , 0.        ,\n",
       "        0.        , 0.        , 0.        , 0.16666667, 0.16666667,\n",
       "        0.        , 0.5       ],\n",
       "       [0.        , 0.        , 1.        , 0.        , 0.        ,\n",
       "        0.        , 0.        , 0.        , 0.        , 0.        ,\n",
       "        0.        , 0.        ],\n",
       "       [0.        , 0.        , 0.2       , 0.        , 0.        ,\n",
       "        0.        , 0.8       , 0.        , 0.        , 0.        ,\n",
       "        0.        , 0.        ],\n",
       "       [0.        , 0.375     , 0.25      , 0.        , 0.        ,\n",
       "        0.        , 0.125     , 0.125     , 0.        , 0.        ,\n",
       "        0.        , 0.125     ],\n",
       "       [0.        , 0.        , 0.        , 0.        , 0.        ,\n",
       "        0.        , 0.        , 0.        , 0.        , 0.        ,\n",
       "        0.        , 1.        ],\n",
       "       [0.        , 0.        , 0.16666667, 0.        , 0.        ,\n",
       "        0.        , 0.        , 0.        , 0.        , 0.83333333,\n",
       "        0.        , 0.        ]])"
      ]
     },
     "metadata": {},
     "output_type": "display_data"
    },
    {
     "name": "stderr",
     "output_type": "stream",
     "text": [
      "\r",
      " 71%|███████████████████████████▋           | 85/120 [19:32:06<03:05,  5.31s/it]"
     ]
    },
    {
     "name": "stdout",
     "output_type": "stream",
     "text": [
      "INFO: Noise Filtering applied\n",
      "INFO: Clusters generated\n",
      "(90563, 5) (297, 5) (297, 5) (297, 5) (297, 6)\n",
      "INFO: 2 clusters generated.\n"
     ]
    },
    {
     "name": "stderr",
     "output_type": "stream",
     "text": [
      "\n",
      "  0%|                                                     | 0/2 [00:00<?, ?it/s]\u001b[A\n",
      " 50%|██████████████████████▌                      | 1/2 [00:01<00:01,  1.57s/it]\u001b[A\n",
      "100%|█████████████████████████████████████████████| 2/2 [00:02<00:00,  1.46s/it]\u001b[A\n"
     ]
    },
    {
     "data": {
      "text/plain": [
       "array([[0., 1.],\n",
       "       [1., 0.]])"
      ]
     },
     "metadata": {},
     "output_type": "display_data"
    },
    {
     "name": "stderr",
     "output_type": "stream",
     "text": [
      "\r",
      " 72%|███████████████████████████▉           | 86/120 [19:32:12<03:01,  5.34s/it]"
     ]
    },
    {
     "name": "stdout",
     "output_type": "stream",
     "text": [
      "INFO: Noise Filtering applied\n",
      "INFO: Clusters generated\n",
      "(24531, 5) (33, 5) (33, 5) (33, 5) (33, 6)\n",
      "INFO: 8 clusters generated.\n"
     ]
    },
    {
     "name": "stderr",
     "output_type": "stream",
     "text": [
      "\n",
      "  0%|                                                     | 0/8 [00:00<?, ?it/s]\u001b[A\n",
      " 12%|█████▋                                       | 1/8 [00:00<00:02,  2.69it/s]\u001b[A\n",
      " 25%|███████████▎                                 | 2/8 [00:00<00:02,  2.67it/s]\u001b[A\n",
      " 38%|████████████████▉                            | 3/8 [00:01<00:01,  2.67it/s]\u001b[A\n",
      " 50%|██████████████████████▌                      | 4/8 [00:01<00:01,  2.27it/s]\u001b[A\n",
      " 62%|████████████████████████████▏                | 5/8 [00:02<00:01,  2.40it/s]\u001b[A\n",
      " 75%|█████████████████████████████████▊           | 6/8 [00:02<00:00,  2.48it/s]\u001b[A\n",
      " 88%|███████████████████████████████████████▍     | 7/8 [00:02<00:00,  2.52it/s]\u001b[A\n",
      "100%|█████████████████████████████████████████████| 8/8 [00:03<00:00,  2.52it/s]\u001b[A\n"
     ]
    },
    {
     "data": {
      "text/plain": [
       "array([[0.        , 0.51612903, 0.        , 0.48387097, 0.        ,\n",
       "        0.        , 0.        , 0.        ],\n",
       "       [0.875     , 0.        , 0.        , 0.125     , 0.        ,\n",
       "        0.        , 0.        , 0.        ],\n",
       "       [0.        , 0.        , 0.        , 0.48484848, 0.51515152,\n",
       "        0.        , 0.        , 0.        ],\n",
       "       [0.48484848, 0.        , 0.        , 0.        , 0.        ,\n",
       "        0.51515152, 0.        , 0.        ],\n",
       "       [0.03030303, 0.        , 0.48484848, 0.        , 0.        ,\n",
       "        0.        , 0.        , 0.48484848],\n",
       "       [0.        , 0.        , 1.        , 0.        , 0.        ,\n",
       "        0.        , 0.        , 0.        ],\n",
       "       [0.        , 0.0625    , 0.        , 0.        , 0.125     ,\n",
       "        0.        , 0.        , 0.8125    ],\n",
       "       [0.        , 0.        , 0.        , 0.        , 0.46666667,\n",
       "        0.        , 0.53333333, 0.        ]])"
      ]
     },
     "metadata": {},
     "output_type": "display_data"
    },
    {
     "name": "stderr",
     "output_type": "stream",
     "text": [
      "\r",
      " 72%|████████████████████████████▎          | 87/120 [19:32:15<02:40,  4.87s/it]"
     ]
    },
    {
     "name": "stdout",
     "output_type": "stream",
     "text": [
      "INFO: Noise Filtering applied\n",
      "INFO: Clusters generated\n",
      "(12332, 5) (24, 5) (24, 5) (24, 5) (24, 6)\n",
      "INFO: 8 clusters generated.\n"
     ]
    },
    {
     "name": "stderr",
     "output_type": "stream",
     "text": [
      "\n",
      "  0%|                                                     | 0/8 [00:00<?, ?it/s]\u001b[A\n",
      " 12%|█████▋                                       | 1/8 [00:00<00:01,  5.44it/s]\u001b[A\n",
      " 25%|███████████▎                                 | 2/8 [00:00<00:01,  5.44it/s]\u001b[A\n",
      " 38%|████████████████▉                            | 3/8 [00:00<00:00,  5.39it/s]\u001b[A\n",
      " 50%|██████████████████████▌                      | 4/8 [00:00<00:00,  5.27it/s]\u001b[A\n",
      " 62%|████████████████████████████▏                | 5/8 [00:00<00:00,  5.26it/s]\u001b[A\n",
      " 75%|█████████████████████████████████▊           | 6/8 [00:01<00:00,  5.26it/s]\u001b[A\n",
      " 88%|███████████████████████████████████████▍     | 7/8 [00:01<00:00,  5.27it/s]\u001b[A\n",
      "100%|█████████████████████████████████████████████| 8/8 [00:01<00:00,  5.28it/s]\u001b[A\n"
     ]
    },
    {
     "data": {
      "text/plain": [
       "array([[0.        , 0.5       , 0.08333333, 0.        , 0.        ,\n",
       "        0.33333333, 0.        , 0.08333333],\n",
       "       [0.6       , 0.        , 0.        , 0.        , 0.4       ,\n",
       "        0.        , 0.        , 0.        ],\n",
       "       [0.        , 0.        , 0.        , 1.        , 0.        ,\n",
       "        0.        , 0.        , 0.        ],\n",
       "       [0.        , 0.        , 0.42857143, 0.        , 0.        ,\n",
       "        0.57142857, 0.        , 0.        ],\n",
       "       [0.        , 0.6       , 0.        , 0.        , 0.        ,\n",
       "        0.4       , 0.        , 0.        ],\n",
       "       [0.07142857, 0.        , 0.        , 0.21428571, 0.64285714,\n",
       "        0.        , 0.        , 0.07142857],\n",
       "       [1.        , 0.        , 0.        , 0.        , 0.        ,\n",
       "        0.        , 0.        , 0.        ],\n",
       "       [0.        , 0.        , 0.        , 0.        , 0.        ,\n",
       "        0.        , 1.        , 0.        ]])"
      ]
     },
     "metadata": {},
     "output_type": "display_data"
    },
    {
     "name": "stderr",
     "output_type": "stream",
     "text": [
      "\r",
      " 73%|████████████████████████████▌          | 88/120 [19:32:17<02:06,  3.95s/it]"
     ]
    },
    {
     "name": "stdout",
     "output_type": "stream",
     "text": [
      "INFO: Noise Filtering applied\n",
      "INFO: Clusters generated\n",
      "(148403, 5) (139, 5) (139, 5) (139, 5) (139, 6)\n",
      "INFO: 25 clusters generated.\n"
     ]
    },
    {
     "name": "stderr",
     "output_type": "stream",
     "text": [
      "\n",
      "  0%|                                                    | 0/25 [00:00<?, ?it/s]\u001b[A\n",
      "  4%|█▊                                          | 1/25 [00:02<00:58,  2.44s/it]\u001b[A\n",
      "  8%|███▌                                        | 2/25 [00:04<00:55,  2.43s/it]\u001b[A\n",
      " 12%|█████▎                                      | 3/25 [00:07<00:51,  2.33s/it]\u001b[A\n",
      " 16%|███████                                     | 4/25 [00:09<00:49,  2.36s/it]\u001b[A\n",
      " 20%|████████▊                                   | 5/25 [00:11<00:47,  2.38s/it]\u001b[A\n",
      " 24%|██████████▌                                 | 6/25 [00:14<00:45,  2.41s/it]\u001b[A\n",
      " 28%|████████████▎                               | 7/25 [00:16<00:42,  2.35s/it]\u001b[A\n",
      " 32%|██████████████                              | 8/25 [00:19<00:40,  2.38s/it]\u001b[A\n",
      " 36%|███████████████▊                            | 9/25 [00:21<00:38,  2.40s/it]\u001b[A\n",
      " 40%|█████████████████▏                         | 10/25 [00:23<00:36,  2.41s/it]\u001b[A\n",
      " 44%|██████████████████▉                        | 11/25 [00:26<00:33,  2.38s/it]\u001b[A\n",
      " 48%|████████████████████▋                      | 12/25 [00:28<00:31,  2.39s/it]\u001b[A\n",
      " 52%|██████████████████████▎                    | 13/25 [00:31<00:28,  2.39s/it]\u001b[A\n",
      " 56%|████████████████████████                   | 14/25 [00:33<00:25,  2.35s/it]\u001b[A\n",
      " 60%|█████████████████████████▊                 | 15/25 [00:35<00:23,  2.37s/it]\u001b[A\n",
      " 64%|███████████████████████████▌               | 16/25 [00:38<00:21,  2.38s/it]\u001b[A\n",
      " 68%|█████████████████████████████▏             | 17/25 [00:40<00:19,  2.39s/it]\u001b[A\n",
      " 72%|██████████████████████████████▉            | 18/25 [00:42<00:16,  2.34s/it]\u001b[A\n",
      " 76%|████████████████████████████████▋          | 19/25 [00:45<00:14,  2.35s/it]\u001b[A\n",
      " 80%|██████████████████████████████████▍        | 20/25 [00:47<00:11,  2.37s/it]\u001b[A\n",
      " 84%|████████████████████████████████████       | 21/25 [00:50<00:09,  2.40s/it]\u001b[A\n",
      " 88%|█████████████████████████████████████▊     | 22/25 [00:52<00:07,  2.36s/it]\u001b[A\n",
      " 92%|███████████████████████████████████████▌   | 23/25 [00:54<00:04,  2.38s/it]\u001b[A\n",
      " 96%|█████████████████████████████████████████▎ | 24/25 [00:57<00:02,  2.40s/it]\u001b[A\n",
      "100%|███████████████████████████████████████████| 25/25 [00:59<00:00,  2.38s/it]\u001b[A\n"
     ]
    },
    {
     "data": {
      "text/plain": [
       "array([[0.        , 0.        , 0.75675676, 0.01351351, 0.05405405,\n",
       "        0.        , 0.        , 0.        , 0.        , 0.01351351,\n",
       "        0.        , 0.        , 0.01351351, 0.01351351, 0.        ,\n",
       "        0.        , 0.01351351, 0.        , 0.02702703, 0.05405405,\n",
       "        0.        , 0.        , 0.        , 0.02702703, 0.01351351],\n",
       "       [0.23076923, 0.        , 0.01282051, 0.35897436, 0.02564103,\n",
       "        0.        , 0.        , 0.02564103, 0.1025641 , 0.02564103,\n",
       "        0.01282051, 0.02564103, 0.02564103, 0.02564103, 0.03846154,\n",
       "        0.        , 0.02564103, 0.        , 0.01282051, 0.01282051,\n",
       "        0.01282051, 0.02564103, 0.        , 0.        , 0.        ],\n",
       "       [0.42424242, 0.        , 0.        , 0.        , 0.        ,\n",
       "        0.        , 0.        , 0.        , 0.        , 0.        ,\n",
       "        0.        , 0.        , 0.        , 0.        , 0.        ,\n",
       "        0.        , 0.        , 0.56565657, 0.        , 0.        ,\n",
       "        0.        , 0.        , 0.        , 0.        , 0.01010101],\n",
       "       [0.02020202, 0.63636364, 0.        , 0.        , 0.        ,\n",
       "        0.01010101, 0.        , 0.        , 0.        , 0.        ,\n",
       "        0.        , 0.28282828, 0.02020202, 0.        , 0.        ,\n",
       "        0.        , 0.        , 0.        , 0.01010101, 0.        ,\n",
       "        0.01010101, 0.        , 0.01010101, 0.        , 0.        ],\n",
       "       [0.        , 0.        , 0.        , 0.        , 0.        ,\n",
       "        0.83333333, 0.0625    , 0.04166667, 0.        , 0.        ,\n",
       "        0.        , 0.02083333, 0.        , 0.        , 0.        ,\n",
       "        0.        , 0.        , 0.        , 0.        , 0.        ,\n",
       "        0.        , 0.        , 0.        , 0.        , 0.04166667],\n",
       "       [0.        , 0.0625    , 0.        , 0.05208333, 0.        ,\n",
       "        0.        , 0.        , 0.58333333, 0.        , 0.        ,\n",
       "        0.        , 0.        , 0.        , 0.        , 0.        ,\n",
       "        0.        , 0.        , 0.        , 0.01041667, 0.        ,\n",
       "        0.29166667, 0.        , 0.        , 0.        , 0.        ],\n",
       "       [0.        , 0.5       , 0.        , 0.        , 0.        ,\n",
       "        0.        , 0.        , 0.        , 0.        , 0.        ,\n",
       "        0.16666667, 0.33333333, 0.        , 0.        , 0.        ,\n",
       "        0.        , 0.        , 0.        , 0.        , 0.        ,\n",
       "        0.        , 0.        , 0.        , 0.        , 0.        ],\n",
       "       [0.        , 0.        , 0.        , 0.03333333, 0.01111111,\n",
       "        0.32222222, 0.01111111, 0.        , 0.        , 0.        ,\n",
       "        0.01111111, 0.61111111, 0.        , 0.        , 0.        ,\n",
       "        0.        , 0.        , 0.        , 0.        , 0.        ,\n",
       "        0.        , 0.        , 0.        , 0.        , 0.        ],\n",
       "       [0.125     , 0.25      , 0.        , 0.5       , 0.        ,\n",
       "        0.        , 0.        , 0.        , 0.        , 0.        ,\n",
       "        0.125     , 0.        , 0.        , 0.        , 0.        ,\n",
       "        0.        , 0.        , 0.        , 0.        , 0.        ,\n",
       "        0.        , 0.        , 0.        , 0.        , 0.        ],\n",
       "       [0.        , 0.        , 0.        , 0.        , 0.        ,\n",
       "        0.        , 0.        , 0.        , 0.        , 0.        ,\n",
       "        0.54545455, 0.        , 0.        , 0.        , 0.        ,\n",
       "        0.        , 0.        , 0.45454545, 0.        , 0.        ,\n",
       "        0.        , 0.        , 0.        , 0.        , 0.        ],\n",
       "       [0.03571429, 0.        , 0.        , 0.        , 0.        ,\n",
       "        0.        , 0.        , 0.        , 0.        , 0.42857143,\n",
       "        0.        , 0.        , 0.        , 0.        , 0.        ,\n",
       "        0.01785714, 0.        , 0.        , 0.51785714, 0.        ,\n",
       "        0.        , 0.        , 0.        , 0.        , 0.        ],\n",
       "       [0.        , 0.01136364, 0.        , 0.64772727, 0.        ,\n",
       "        0.        , 0.        , 0.34090909, 0.        , 0.        ,\n",
       "        0.        , 0.        , 0.        , 0.        , 0.        ,\n",
       "        0.        , 0.        , 0.        , 0.        , 0.        ,\n",
       "        0.        , 0.        , 0.        , 0.        , 0.        ],\n",
       "       [0.01724138, 0.        , 0.        , 0.        , 0.        ,\n",
       "        0.        , 0.        , 0.        , 0.        , 0.        ,\n",
       "        0.01724138, 0.        , 0.        , 0.        , 0.18965517,\n",
       "        0.        , 0.        , 0.        , 0.06896552, 0.22413793,\n",
       "        0.48275862, 0.        , 0.        , 0.        , 0.        ],\n",
       "       [0.06382979, 0.        , 0.        , 0.        , 0.        ,\n",
       "        0.        , 0.        , 0.        , 0.        , 0.        ,\n",
       "        0.        , 0.        , 0.        , 0.        , 0.53191489,\n",
       "        0.        , 0.04255319, 0.36170213, 0.        , 0.        ,\n",
       "        0.        , 0.        , 0.        , 0.        , 0.        ],\n",
       "       [0.02564103, 0.        , 0.        , 0.        , 0.        ,\n",
       "        0.        , 0.        , 0.        , 0.        , 0.        ,\n",
       "        0.        , 0.        , 0.61538462, 0.35897436, 0.        ,\n",
       "        0.        , 0.        , 0.        , 0.        , 0.        ,\n",
       "        0.        , 0.        , 0.        , 0.        , 0.        ],\n",
       "       [0.        , 0.        , 0.        , 0.        , 0.02777778,\n",
       "        0.        , 0.        , 0.        , 0.        , 0.        ,\n",
       "        0.        , 0.        , 0.        , 0.        , 0.        ,\n",
       "        0.        , 0.        , 0.        , 0.        , 0.05555556,\n",
       "        0.        , 0.        , 0.        , 0.91666667, 0.        ],\n",
       "       [0.        , 0.        , 0.        , 0.        , 0.        ,\n",
       "        0.        , 0.2       , 0.        , 0.        , 0.        ,\n",
       "        0.        , 0.        , 0.        , 0.4       , 0.        ,\n",
       "        0.        , 0.        , 0.        , 0.        , 0.        ,\n",
       "        0.        , 0.2       , 0.2       , 0.        , 0.        ],\n",
       "       [0.        , 0.        , 0.42857143, 0.        , 0.        ,\n",
       "        0.        , 0.        , 0.        , 0.        , 0.28571429,\n",
       "        0.        , 0.        , 0.        , 0.2755102 , 0.        ,\n",
       "        0.        , 0.        , 0.        , 0.01020408, 0.        ,\n",
       "        0.        , 0.        , 0.        , 0.        , 0.        ],\n",
       "       [0.01818182, 0.        , 0.        , 0.        , 0.        ,\n",
       "        0.        , 0.01818182, 0.        , 0.        , 0.        ,\n",
       "        0.38181818, 0.        , 0.        , 0.        , 0.        ,\n",
       "        0.        , 0.        , 0.        , 0.        , 0.56363636,\n",
       "        0.        , 0.        , 0.        , 0.        , 0.01818182],\n",
       "       [0.        , 0.        , 0.        , 0.        , 0.03921569,\n",
       "        0.        , 0.        , 0.        , 0.        , 0.        ,\n",
       "        0.        , 0.        , 0.        , 0.        , 0.        ,\n",
       "        0.64705882, 0.        , 0.        , 0.31372549, 0.        ,\n",
       "        0.        , 0.        , 0.        , 0.        , 0.        ],\n",
       "       [0.01724138, 0.01724138, 0.        , 0.01724138, 0.        ,\n",
       "        0.44827586, 0.        , 0.        , 0.        , 0.        ,\n",
       "        0.        , 0.        , 0.5       , 0.        , 0.        ,\n",
       "        0.        , 0.        , 0.        , 0.        , 0.        ,\n",
       "        0.        , 0.        , 0.        , 0.        , 0.        ],\n",
       "       [0.4       , 0.4       , 0.        , 0.        , 0.        ,\n",
       "        0.        , 0.        , 0.        , 0.        , 0.        ,\n",
       "        0.        , 0.        , 0.        , 0.2       , 0.        ,\n",
       "        0.        , 0.        , 0.        , 0.        , 0.        ,\n",
       "        0.        , 0.        , 0.        , 0.        , 0.        ],\n",
       "       [0.        , 0.        , 0.        , 0.        , 0.        ,\n",
       "        0.        , 0.        , 0.        , 0.        , 0.        ,\n",
       "        0.        , 0.        , 0.        , 0.        , 0.        ,\n",
       "        0.        , 0.        , 0.        , 0.        , 0.        ,\n",
       "        0.        , 1.        , 0.        , 0.        , 0.        ],\n",
       "       [0.        , 0.        , 0.        , 0.        , 0.        ,\n",
       "        0.        , 0.        , 0.        , 0.        , 0.        ,\n",
       "        0.        , 0.        , 0.        , 0.        , 0.        ,\n",
       "        0.05405405, 0.        , 0.        , 0.        , 0.        ,\n",
       "        0.        , 0.        , 0.        , 0.        , 0.94594595],\n",
       "       [0.        , 0.        , 0.        , 0.        , 0.95      ,\n",
       "        0.        , 0.        , 0.        , 0.        , 0.        ,\n",
       "        0.        , 0.        , 0.        , 0.        , 0.        ,\n",
       "        0.        , 0.        , 0.        , 0.        , 0.        ,\n",
       "        0.        , 0.        , 0.        , 0.05      , 0.        ]])"
      ]
     },
     "metadata": {},
     "output_type": "display_data"
    },
    {
     "name": "stderr",
     "output_type": "stream",
     "text": [
      "\r",
      " 74%|████████████████████████████▉          | 89/120 [19:33:22<11:28, 22.20s/it]"
     ]
    },
    {
     "name": "stdout",
     "output_type": "stream",
     "text": [
      "INFO: Noise Filtering applied\n",
      "INFO: Clusters generated\n",
      "(103733, 5) (292, 5) (292, 5) (292, 5) (292, 6)\n",
      "INFO: 9 clusters generated.\n"
     ]
    },
    {
     "name": "stderr",
     "output_type": "stream",
     "text": [
      "\n",
      "  0%|                                                     | 0/9 [00:00<?, ?it/s]\u001b[A\n",
      " 11%|█████                                        | 1/9 [00:01<00:13,  1.74s/it]\u001b[A\n",
      " 22%|██████████                                   | 2/9 [00:03<00:11,  1.64s/it]\u001b[A\n",
      " 33%|███████████████                              | 3/9 [00:05<00:10,  1.70s/it]\u001b[A\n",
      " 44%|████████████████████                         | 4/9 [00:06<00:08,  1.64s/it]\u001b[A\n",
      " 56%|█████████████████████████                    | 5/9 [00:08<00:06,  1.69s/it]\u001b[A\n",
      " 67%|██████████████████████████████               | 6/9 [00:09<00:04,  1.65s/it]\u001b[A\n",
      " 78%|███████████████████████████████████          | 7/9 [00:11<00:03,  1.68s/it]\u001b[A\n",
      " 89%|████████████████████████████████████████     | 8/9 [00:13<00:01,  1.64s/it]\u001b[A\n",
      "100%|█████████████████████████████████████████████| 9/9 [00:15<00:00,  1.67s/it]\u001b[A\n"
     ]
    },
    {
     "data": {
      "text/plain": [
       "array([[0.        , 0.0952381 , 0.14285714, 0.04761905, 0.38095238,\n",
       "        0.04761905, 0.        , 0.        , 0.28571429],\n",
       "       [0.        , 0.        , 0.        , 0.        , 0.0625    ,\n",
       "        0.0625    , 0.3125    , 0.5       , 0.0625    ],\n",
       "       [0.        , 0.        , 0.        , 0.        , 0.        ,\n",
       "        0.        , 0.        , 0.52173913, 0.47826087],\n",
       "       [0.4       , 0.        , 0.2       , 0.        , 0.        ,\n",
       "        0.4       , 0.        , 0.        , 0.        ],\n",
       "       [0.38461538, 0.07692308, 0.        , 0.        , 0.        ,\n",
       "        0.53846154, 0.        , 0.        , 0.        ],\n",
       "       [0.        , 0.18181818, 0.09090909, 0.27272727, 0.36363636,\n",
       "        0.        , 0.        , 0.09090909, 0.        ],\n",
       "       [0.33333333, 0.33333333, 0.        , 0.16666667, 0.        ,\n",
       "        0.        , 0.        , 0.        , 0.16666667],\n",
       "       [0.04761905, 0.42857143, 0.47619048, 0.        , 0.        ,\n",
       "        0.        , 0.04761905, 0.        , 0.        ],\n",
       "       [0.6       , 0.        , 0.4       , 0.        , 0.        ,\n",
       "        0.        , 0.        , 0.        , 0.        ]])"
      ]
     },
     "metadata": {},
     "output_type": "display_data"
    },
    {
     "name": "stderr",
     "output_type": "stream",
     "text": [
      "\r",
      " 75%|█████████████████████████████▎         | 90/120 [19:33:40<10:31, 21.05s/it]"
     ]
    },
    {
     "name": "stdout",
     "output_type": "stream",
     "text": [
      "INFO: Noise Filtering applied\n",
      "INFO: Clusters generated\n",
      "(72113, 5) (183, 5) (183, 5) (183, 5) (183, 6)\n",
      "INFO: 5 clusters generated.\n"
     ]
    },
    {
     "name": "stderr",
     "output_type": "stream",
     "text": [
      "\n",
      "  0%|                                                     | 0/5 [00:00<?, ?it/s]\u001b[A\n",
      " 20%|█████████                                    | 1/5 [00:01<00:04,  1.07s/it]\u001b[A\n",
      " 40%|██████████████████                           | 2/5 [00:02<00:03,  1.19s/it]\u001b[A\n",
      " 60%|███████████████████████████                  | 3/5 [00:03<00:02,  1.14s/it]\u001b[A\n",
      " 80%|████████████████████████████████████         | 4/5 [00:04<00:01,  1.12s/it]\u001b[A\n",
      "100%|█████████████████████████████████████████████| 5/5 [00:05<00:00,  1.15s/it]\u001b[A\n"
     ]
    },
    {
     "data": {
      "text/plain": [
       "array([[0. , 0.5, 0. , 0. , 0.5],\n",
       "       [0. , 0. , 0. , 1. , 0. ],\n",
       "       [0. , 0. , 0. , 1. , 0. ],\n",
       "       [0. , 0.5, 0.5, 0. , 0. ],\n",
       "       [1. , 0. , 0. , 0. , 0. ]])"
      ]
     },
     "metadata": {},
     "output_type": "display_data"
    },
    {
     "name": "stderr",
     "output_type": "stream",
     "text": [
      "\r",
      " 76%|█████████████████████████████▌         | 91/120 [19:33:48<08:13, 17.02s/it]"
     ]
    },
    {
     "name": "stdout",
     "output_type": "stream",
     "text": [
      "INFO: Noise Filtering applied\n",
      "INFO: Clusters generated\n",
      "(90578, 5) (85, 5) (85, 5) (85, 5) (85, 6)\n",
      "INFO: 8 clusters generated.\n"
     ]
    },
    {
     "name": "stderr",
     "output_type": "stream",
     "text": [
      "\n",
      "  0%|                                                     | 0/8 [00:00<?, ?it/s]\u001b[A\n",
      " 12%|█████▋                                       | 1/8 [00:01<00:10,  1.51s/it]\u001b[A\n",
      " 25%|███████████▎                                 | 2/8 [00:02<00:08,  1.41s/it]\u001b[A\n",
      " 38%|████████████████▉                            | 3/8 [00:04<00:06,  1.38s/it]\u001b[A\n",
      " 50%|██████████████████████▌                      | 4/8 [00:05<00:05,  1.44s/it]\u001b[A\n",
      " 62%|████████████████████████████▏                | 5/8 [00:07<00:04,  1.40s/it]\u001b[A\n",
      " 75%|█████████████████████████████████▊           | 6/8 [00:08<00:03,  1.55s/it]\u001b[A\n",
      " 88%|███████████████████████████████████████▍     | 7/8 [00:10<00:01,  1.48s/it]\u001b[A\n",
      "100%|█████████████████████████████████████████████| 8/8 [00:11<00:00,  1.47s/it]\u001b[A\n"
     ]
    },
    {
     "data": {
      "text/plain": [
       "array([[0.        , 0.68181818, 0.        , 0.04545455, 0.13636364,\n",
       "        0.04545455, 0.        , 0.09090909],\n",
       "       [0.77272727, 0.        , 0.04545455, 0.        , 0.        ,\n",
       "        0.        , 0.04545455, 0.13636364],\n",
       "       [1.        , 0.        , 0.        , 0.        , 0.        ,\n",
       "        0.        , 0.        , 0.        ],\n",
       "       [0.5       , 0.        , 0.        , 0.        , 0.        ,\n",
       "        0.        , 0.        , 0.5       ],\n",
       "       [0.14285714, 0.14285714, 0.        , 0.        , 0.        ,\n",
       "        0.71428571, 0.        , 0.        ],\n",
       "       [0.33333333, 0.        , 0.        , 0.16666667, 0.5       ,\n",
       "        0.        , 0.        , 0.        ],\n",
       "       [0.        , 0.        , 0.        , 0.        , 1.        ,\n",
       "        0.        , 0.        , 0.        ],\n",
       "       [0.16666667, 0.83333333, 0.        , 0.        , 0.        ,\n",
       "        0.        , 0.        , 0.        ]])"
      ]
     },
     "metadata": {},
     "output_type": "display_data"
    },
    {
     "name": "stderr",
     "output_type": "stream",
     "text": [
      "\r",
      " 77%|█████████████████████████████▉         | 92/120 [19:34:03<07:35, 16.26s/it]"
     ]
    },
    {
     "name": "stdout",
     "output_type": "stream",
     "text": [
      "INFO: Noise Filtering applied\n",
      "INFO: Clusters generated\n",
      "(411723, 5) (367, 5) (367, 5) (367, 5) (367, 6)\n",
      "INFO: 25 clusters generated.\n"
     ]
    },
    {
     "name": "stderr",
     "output_type": "stream",
     "text": [
      "\n",
      "  0%|                                                    | 0/25 [00:00<?, ?it/s]\u001b[A\n",
      "  4%|█▊                                          | 1/25 [00:06<02:32,  6.34s/it]\u001b[A\n",
      "  8%|███▌                                        | 2/25 [00:12<02:28,  6.44s/it]\u001b[A\n",
      " 12%|█████▎                                      | 3/25 [00:19<02:22,  6.49s/it]\u001b[A\n",
      " 16%|███████                                     | 4/25 [00:25<02:17,  6.53s/it]\u001b[A\n",
      " 20%|████████▊                                   | 5/25 [00:32<02:09,  6.48s/it]\u001b[A\n",
      " 24%|██████████▌                                 | 6/25 [00:38<02:03,  6.52s/it]\u001b[A\n",
      " 28%|████████████▎                               | 7/25 [00:45<01:57,  6.55s/it]\u001b[A\n",
      " 32%|██████████████                              | 8/25 [00:52<01:51,  6.54s/it]\u001b[A\n",
      " 36%|███████████████▊                            | 9/25 [00:58<01:44,  6.54s/it]\u001b[A\n",
      " 40%|█████████████████▏                         | 10/25 [01:04<01:37,  6.48s/it]\u001b[A\n",
      " 44%|██████████████████▉                        | 11/25 [01:11<01:30,  6.49s/it]\u001b[A\n",
      " 48%|████████████████████▋                      | 12/25 [01:17<01:23,  6.45s/it]\u001b[A\n",
      " 52%|██████████████████████▎                    | 13/25 [01:24<01:18,  6.50s/it]\u001b[A\n",
      " 56%|████████████████████████                   | 14/25 [01:31<01:11,  6.52s/it]\u001b[A\n",
      " 60%|█████████████████████████▊                 | 15/25 [01:37<01:05,  6.54s/it]\u001b[A\n",
      " 64%|███████████████████████████▌               | 16/25 [01:44<00:59,  6.56s/it]\u001b[A\n",
      " 68%|█████████████████████████████▏             | 17/25 [01:50<00:51,  6.50s/it]\u001b[A\n",
      " 72%|██████████████████████████████▉            | 18/25 [01:57<00:45,  6.51s/it]\u001b[A\n",
      " 76%|████████████████████████████████▋          | 19/25 [02:03<00:38,  6.45s/it]\u001b[A\n",
      " 80%|██████████████████████████████████▍        | 20/25 [02:09<00:32,  6.46s/it]\u001b[A\n",
      " 84%|████████████████████████████████████       | 21/25 [02:16<00:25,  6.48s/it]\u001b[A\n",
      " 88%|█████████████████████████████████████▊     | 22/25 [02:23<00:19,  6.55s/it]\u001b[A\n",
      " 92%|███████████████████████████████████████▌   | 23/25 [02:29<00:13,  6.56s/it]\u001b[A\n",
      " 96%|█████████████████████████████████████████▎ | 24/25 [02:36<00:06,  6.49s/it]\u001b[A\n",
      "100%|███████████████████████████████████████████| 25/25 [02:42<00:00,  6.51s/it]\u001b[A\n"
     ]
    },
    {
     "data": {
      "text/plain": [
       "array([[0.        , 0.04347826, 0.        , 0.08695652, 0.08695652,\n",
       "        0.06521739, 0.        , 0.        , 0.08695652, 0.06521739,\n",
       "        0.02173913, 0.        , 0.        , 0.08695652, 0.19565217,\n",
       "        0.        , 0.        , 0.        , 0.        , 0.2173913 ,\n",
       "        0.        , 0.        , 0.04347826, 0.        , 0.        ],\n",
       "       [0.10909091, 0.        , 0.05454545, 0.        , 0.07272727,\n",
       "        0.        , 0.        , 0.        , 0.03636364, 0.01818182,\n",
       "        0.16363636, 0.        , 0.        , 0.25454545, 0.        ,\n",
       "        0.27272727, 0.        , 0.        , 0.        , 0.        ,\n",
       "        0.        , 0.        , 0.01818182, 0.        , 0.        ],\n",
       "       [0.        , 0.71428571, 0.        , 0.        , 0.        ,\n",
       "        0.        , 0.        , 0.        , 0.        , 0.        ,\n",
       "        0.        , 0.        , 0.        , 0.        , 0.        ,\n",
       "        0.14285714, 0.        , 0.        , 0.        , 0.        ,\n",
       "        0.        , 0.        , 0.        , 0.        , 0.14285714],\n",
       "       [0.5       , 0.1       , 0.1       , 0.        , 0.        ,\n",
       "        0.        , 0.        , 0.        , 0.2       , 0.        ,\n",
       "        0.        , 0.        , 0.        , 0.        , 0.1       ,\n",
       "        0.        , 0.        , 0.        , 0.        , 0.        ,\n",
       "        0.        , 0.        , 0.        , 0.        , 0.        ],\n",
       "       [0.27777778, 0.05555556, 0.        , 0.        , 0.        ,\n",
       "        0.        , 0.        , 0.        , 0.05555556, 0.        ,\n",
       "        0.        , 0.        , 0.        , 0.        , 0.        ,\n",
       "        0.55555556, 0.        , 0.        , 0.        , 0.05555556,\n",
       "        0.        , 0.        , 0.        , 0.        , 0.        ],\n",
       "       [0.05263158, 0.05263158, 0.        , 0.        , 0.        ,\n",
       "        0.        , 0.63157895, 0.        , 0.        , 0.        ,\n",
       "        0.        , 0.        , 0.        , 0.        , 0.21052632,\n",
       "        0.        , 0.05263158, 0.        , 0.        , 0.        ,\n",
       "        0.        , 0.        , 0.        , 0.        , 0.        ],\n",
       "       [0.        , 0.        , 0.        , 0.        , 0.05      ,\n",
       "        0.4       , 0.        , 0.55      , 0.        , 0.        ,\n",
       "        0.        , 0.        , 0.        , 0.        , 0.        ,\n",
       "        0.        , 0.        , 0.        , 0.        , 0.        ,\n",
       "        0.        , 0.        , 0.        , 0.        , 0.        ],\n",
       "       [0.        , 0.        , 0.        , 0.        , 0.        ,\n",
       "        0.        , 0.34782609, 0.        , 0.        , 0.        ,\n",
       "        0.        , 0.56521739, 0.        , 0.        , 0.        ,\n",
       "        0.08695652, 0.        , 0.        , 0.        , 0.        ,\n",
       "        0.        , 0.        , 0.        , 0.        , 0.        ],\n",
       "       [0.375     , 0.0625    , 0.        , 0.25      , 0.0625    ,\n",
       "        0.        , 0.        , 0.        , 0.        , 0.        ,\n",
       "        0.0625    , 0.        , 0.        , 0.        , 0.        ,\n",
       "        0.        , 0.        , 0.        , 0.        , 0.1875    ,\n",
       "        0.        , 0.        , 0.        , 0.        , 0.        ],\n",
       "       [0.4       , 0.        , 0.        , 0.        , 0.2       ,\n",
       "        0.        , 0.        , 0.        , 0.2       , 0.        ,\n",
       "        0.        , 0.        , 0.        , 0.2       , 0.        ,\n",
       "        0.        , 0.        , 0.        , 0.        , 0.        ,\n",
       "        0.        , 0.        , 0.        , 0.        , 0.        ],\n",
       "       [0.38461538, 0.23076923, 0.        , 0.        , 0.        ,\n",
       "        0.        , 0.        , 0.07692308, 0.15384615, 0.        ,\n",
       "        0.        , 0.        , 0.        , 0.        , 0.        ,\n",
       "        0.07692308, 0.        , 0.        , 0.07692308, 0.        ,\n",
       "        0.        , 0.        , 0.        , 0.        , 0.        ],\n",
       "       [0.        , 0.        , 0.        , 0.        , 0.        ,\n",
       "        0.        , 0.        , 0.4       , 0.        , 0.        ,\n",
       "        0.        , 0.        , 0.        , 0.        , 0.        ,\n",
       "        0.        , 0.        , 0.        , 0.        , 0.        ,\n",
       "        0.        , 0.        , 0.        , 0.6       , 0.        ],\n",
       "       [0.        , 0.        , 0.        , 0.        , 0.        ,\n",
       "        0.        , 0.        , 0.        , 0.        , 0.        ,\n",
       "        0.        , 0.        , 0.        , 0.        , 0.        ,\n",
       "        0.        , 0.        , 0.        , 0.        , 0.        ,\n",
       "        0.        , 0.        , 1.        , 0.        , 0.        ],\n",
       "       [0.02941176, 0.38235294, 0.02941176, 0.        , 0.        ,\n",
       "        0.        , 0.        , 0.        , 0.        , 0.02941176,\n",
       "        0.02941176, 0.        , 0.        , 0.        , 0.        ,\n",
       "        0.08823529, 0.        , 0.        , 0.02941176, 0.        ,\n",
       "        0.        , 0.02941176, 0.        , 0.35294118, 0.        ],\n",
       "       [0.42857143, 0.        , 0.        , 0.07142857, 0.        ,\n",
       "        0.5       , 0.        , 0.        , 0.        , 0.        ,\n",
       "        0.        , 0.        , 0.        , 0.        , 0.        ,\n",
       "        0.        , 0.        , 0.        , 0.        , 0.        ,\n",
       "        0.        , 0.        , 0.        , 0.        , 0.        ],\n",
       "       [0.02173913, 0.45652174, 0.02173913, 0.        , 0.15217391,\n",
       "        0.        , 0.        , 0.        , 0.        , 0.        ,\n",
       "        0.        , 0.        , 0.        , 0.        , 0.        ,\n",
       "        0.        , 0.        , 0.        , 0.        , 0.34782609,\n",
       "        0.        , 0.        , 0.        , 0.        , 0.        ],\n",
       "       [0.        , 0.5       , 0.        , 0.        , 0.        ,\n",
       "        0.        , 0.        , 0.        , 0.        , 0.        ,\n",
       "        0.        , 0.        , 0.        , 0.        , 0.        ,\n",
       "        0.        , 0.        , 0.        , 0.        , 0.        ,\n",
       "        0.5       , 0.        , 0.        , 0.        , 0.        ],\n",
       "       [0.        , 0.        , 0.        , 0.        , 0.        ,\n",
       "        0.        , 0.        , 0.        , 0.        , 0.        ,\n",
       "        0.        , 0.        , 0.        , 0.        , 0.        ,\n",
       "        0.        , 0.        , 0.        , 1.        , 0.        ,\n",
       "        0.        , 0.        , 0.        , 0.        , 0.        ],\n",
       "       [0.        , 0.2       , 0.        , 0.        , 0.        ,\n",
       "        0.        , 0.        , 0.        , 0.        , 0.        ,\n",
       "        0.2       , 0.        , 0.        , 0.4       , 0.        ,\n",
       "        0.        , 0.        , 0.2       , 0.        , 0.        ,\n",
       "        0.        , 0.        , 0.        , 0.        , 0.        ],\n",
       "       [0.26666667, 0.03333333, 0.03333333, 0.        , 0.        ,\n",
       "        0.03333333, 0.        , 0.        , 0.16666667, 0.        ,\n",
       "        0.        , 0.        , 0.03333333, 0.        , 0.        ,\n",
       "        0.43333333, 0.        , 0.        , 0.        , 0.        ,\n",
       "        0.        , 0.        , 0.        , 0.        , 0.        ],\n",
       "       [0.        , 0.        , 0.        , 0.        , 0.        ,\n",
       "        0.        , 0.        , 0.        , 0.        , 0.        ,\n",
       "        0.        , 0.        , 0.        , 0.        , 0.        ,\n",
       "        0.        , 0.5       , 0.        , 0.        , 0.        ,\n",
       "        0.        , 0.5       , 0.        , 0.        , 0.        ],\n",
       "       [0.        , 0.        , 0.        , 0.        , 0.        ,\n",
       "        0.        , 0.        , 0.        , 0.        , 0.        ,\n",
       "        0.        , 0.        , 0.        , 0.5       , 0.        ,\n",
       "        0.        , 0.        , 0.        , 0.        , 0.        ,\n",
       "        0.5       , 0.        , 0.        , 0.        , 0.        ],\n",
       "       [0.        , 0.57142857, 0.        , 0.        , 0.        ,\n",
       "        0.        , 0.        , 0.        , 0.        , 0.        ,\n",
       "        0.        , 0.        , 0.42857143, 0.        , 0.        ,\n",
       "        0.        , 0.        , 0.        , 0.        , 0.        ,\n",
       "        0.        , 0.        , 0.        , 0.        , 0.        ],\n",
       "       [0.        , 0.        , 0.        , 0.        , 0.        ,\n",
       "        0.        , 0.        , 0.03703704, 0.        , 0.        ,\n",
       "        0.        , 0.44444444, 0.        , 0.44444444, 0.        ,\n",
       "        0.        , 0.        , 0.        , 0.07407407, 0.        ,\n",
       "        0.        , 0.        , 0.        , 0.        , 0.        ],\n",
       "       [0.        , 0.        , 0.        , 0.        , 0.        ,\n",
       "        0.        , 0.        , 0.        , 0.        , 0.        ,\n",
       "        0.        , 0.        , 0.        , 0.        , 0.        ,\n",
       "        1.        , 0.        , 0.        , 0.        , 0.        ,\n",
       "        0.        , 0.        , 0.        , 0.        , 0.        ]])"
      ]
     },
     "metadata": {},
     "output_type": "display_data"
    },
    {
     "name": "stderr",
     "output_type": "stream",
     "text": [
      "\r",
      " 78%|██████████████████████████████▏        | 93/120 [19:37:11<30:32, 67.88s/it]"
     ]
    },
    {
     "name": "stdout",
     "output_type": "stream",
     "text": [
      "INFO: Noise Filtering applied\n",
      "INFO: Clusters generated\n",
      "(1208309, 5) (1270, 5) (1270, 5) (1270, 5) (1270, 6)\n",
      "INFO: 49 clusters generated.\n"
     ]
    },
    {
     "name": "stderr",
     "output_type": "stream",
     "text": [
      "\n",
      "  0%|                                                    | 0/49 [00:00<?, ?it/s]\u001b[A\n",
      "  2%|▉                                           | 1/49 [00:18<14:56, 18.68s/it]\u001b[A\n",
      "  4%|█▊                                          | 2/49 [00:37<14:44, 18.81s/it]\u001b[A\n",
      "  6%|██▋                                         | 3/49 [00:56<14:22, 18.74s/it]\u001b[A\n",
      "  8%|███▌                                        | 4/49 [01:15<14:06, 18.81s/it]\u001b[A\n",
      " 10%|████▍                                       | 5/49 [01:33<13:40, 18.65s/it]\u001b[A\n",
      " 12%|█████▍                                      | 6/49 [01:52<13:21, 18.64s/it]\u001b[A\n",
      " 14%|██████▎                                     | 7/49 [02:10<12:58, 18.54s/it]\u001b[A\n",
      " 16%|███████▏                                    | 8/49 [02:29<12:41, 18.58s/it]\u001b[A\n",
      " 18%|████████                                    | 9/49 [02:47<12:20, 18.50s/it]\u001b[A\n",
      " 20%|████████▊                                  | 10/49 [03:06<12:01, 18.51s/it]\u001b[A\n",
      " 22%|█████████▋                                 | 11/49 [03:24<11:44, 18.55s/it]\u001b[A\n",
      " 24%|██████████▌                                | 12/49 [03:43<11:27, 18.57s/it]\u001b[A\n",
      " 27%|███████████▍                               | 13/49 [04:01<11:08, 18.58s/it]\u001b[A\n",
      " 29%|████████████▎                              | 14/49 [04:20<10:50, 18.59s/it]\u001b[A\n",
      " 31%|█████████████▏                             | 15/49 [04:39<10:34, 18.67s/it]\u001b[A\n",
      " 33%|██████████████                             | 16/49 [04:57<10:15, 18.66s/it]\u001b[A\n",
      " 35%|██████████████▉                            | 17/49 [05:16<09:54, 18.58s/it]\u001b[A\n",
      " 37%|███████████████▊                           | 18/49 [05:34<09:36, 18.59s/it]\u001b[A\n",
      " 39%|████████████████▋                          | 19/49 [05:53<09:17, 18.57s/it]\u001b[A\n",
      " 41%|█████████████████▌                         | 20/49 [06:11<08:57, 18.52s/it]\u001b[A\n",
      " 43%|██████████████████▍                        | 21/49 [06:30<08:39, 18.54s/it]\u001b[A\n",
      " 45%|███████████████████▎                       | 22/49 [06:49<08:21, 18.56s/it]\u001b[A\n",
      " 47%|████████████████████▏                      | 23/49 [07:07<08:03, 18.60s/it]\u001b[A\n",
      " 49%|█████████████████████                      | 24/49 [07:26<07:48, 18.75s/it]\u001b[A\n",
      " 51%|█████████████████████▉                     | 25/49 [07:45<07:32, 18.84s/it]\u001b[A\n",
      " 53%|██████████████████████▊                    | 26/49 [08:06<07:22, 19.22s/it]\u001b[A\n",
      " 55%|███████████████████████▋                   | 27/49 [08:25<07:06, 19.40s/it]\u001b[A\n",
      " 57%|████████████████████████▌                  | 28/49 [08:45<06:47, 19.39s/it]\u001b[A\n",
      " 59%|█████████████████████████▍                 | 29/49 [09:04<06:25, 19.27s/it]\u001b[A\n",
      " 61%|██████████████████████████▎                | 30/49 [09:23<06:06, 19.27s/it]\u001b[A\n",
      " 63%|███████████████████████████▏               | 31/49 [09:42<05:46, 19.26s/it]\u001b[A\n",
      " 65%|████████████████████████████               | 32/49 [10:02<05:28, 19.33s/it]\u001b[A\n",
      " 67%|████████████████████████████▉              | 33/49 [10:21<05:08, 19.29s/it]\u001b[A\n",
      " 69%|█████████████████████████████▊             | 34/49 [10:40<04:48, 19.21s/it]\u001b[A\n",
      " 71%|██████████████████████████████▋            | 35/49 [10:59<04:27, 19.07s/it]\u001b[A\n",
      " 73%|███████████████████████████████▌           | 36/49 [11:18<04:08, 19.10s/it]\u001b[A\n",
      " 76%|████████████████████████████████▍          | 37/49 [11:37<03:49, 19.10s/it]\u001b[A\n",
      " 78%|█████████████████████████████████▎         | 38/49 [11:56<03:29, 19.08s/it]\u001b[A\n",
      " 80%|██████████████████████████████████▏        | 39/49 [12:15<03:09, 18.98s/it]\u001b[A\n",
      " 82%|███████████████████████████████████        | 40/49 [12:34<02:50, 18.96s/it]\u001b[A\n",
      " 84%|███████████████████████████████████▉       | 41/49 [12:53<02:31, 18.98s/it]\u001b[A\n",
      " 86%|████████████████████████████████████▊      | 42/49 [13:12<02:12, 19.00s/it]\u001b[A\n",
      " 88%|█████████████████████████████████████▋     | 43/49 [13:31<01:53, 18.97s/it]\u001b[A\n",
      " 90%|██████████████████████████████████████▌    | 44/49 [13:50<01:34, 18.98s/it]\u001b[A\n",
      " 92%|███████████████████████████████████████▍   | 45/49 [14:08<01:15, 18.92s/it]\u001b[A\n",
      " 94%|████████████████████████████████████████▎  | 46/49 [14:27<00:56, 18.91s/it]\u001b[A\n",
      " 96%|█████████████████████████████████████████▏ | 47/49 [14:46<00:37, 18.93s/it]\u001b[A\n",
      " 98%|██████████████████████████████████████████ | 48/49 [15:05<00:18, 18.94s/it]\u001b[A\n",
      "100%|███████████████████████████████████████████| 49/49 [15:24<00:00, 18.87s/it]\u001b[A\n"
     ]
    },
    {
     "data": {
      "text/plain": [
       "array([[0.        , 0.23529412, 0.38529412, ..., 0.00882353, 0.00294118,\n",
       "        0.00882353],\n",
       "       [0.18432203, 0.        , 0.03177966, ..., 0.00635593, 0.        ,\n",
       "        0.        ],\n",
       "       [0.48591549, 0.02464789, 0.        , ..., 0.        , 0.        ,\n",
       "        0.        ],\n",
       "       ...,\n",
       "       [0.01036269, 0.01554404, 0.        , ..., 0.        , 0.        ,\n",
       "        0.        ],\n",
       "       [0.33333333, 0.33333333, 0.        , ..., 0.        , 0.        ,\n",
       "        0.        ],\n",
       "       [0.07142857, 0.        , 0.        , ..., 0.        , 0.        ,\n",
       "        0.        ]])"
      ]
     },
     "metadata": {},
     "output_type": "display_data"
    },
    {
     "name": "stderr",
     "output_type": "stream",
     "text": [
      "\r",
      " 78%|████████████████████████████▏       | 94/120 [20:00:21<3:21:18, 464.56s/it]"
     ]
    },
    {
     "name": "stdout",
     "output_type": "stream",
     "text": [
      "INFO: Noise Filtering applied\n",
      "INFO: Clusters generated\n",
      "(42640, 5) (24, 5) (24, 5) (24, 5) (24, 6)\n",
      "INFO: 9 clusters generated.\n"
     ]
    },
    {
     "name": "stderr",
     "output_type": "stream",
     "text": [
      "\n",
      "  0%|                                                     | 0/9 [00:00<?, ?it/s]\u001b[A\n",
      " 11%|█████                                        | 1/9 [00:00<00:05,  1.58it/s]\u001b[A\n",
      " 22%|██████████                                   | 2/9 [00:01<00:04,  1.58it/s]\u001b[A\n",
      " 33%|███████████████                              | 3/9 [00:01<00:03,  1.54it/s]\u001b[A\n",
      " 44%|████████████████████                         | 4/9 [00:02<00:03,  1.39it/s]\u001b[A\n",
      " 56%|█████████████████████████                    | 5/9 [00:03<00:02,  1.45it/s]\u001b[A\n",
      " 67%|██████████████████████████████               | 6/9 [00:04<00:02,  1.48it/s]\u001b[A\n",
      " 78%|███████████████████████████████████          | 7/9 [00:04<00:01,  1.51it/s]\u001b[A\n",
      " 89%|████████████████████████████████████████     | 8/9 [00:05<00:00,  1.52it/s]\u001b[A\n",
      "100%|█████████████████████████████████████████████| 9/9 [00:06<00:00,  1.45it/s]\u001b[A\n"
     ]
    },
    {
     "data": {
      "text/plain": [
       "array([[0.        , 0.25      , 0.        , 0.        , 0.25      ,\n",
       "        0.375     , 0.125     , 0.        , 0.        ],\n",
       "       [0.5       , 0.        , 0.        , 0.        , 0.        ,\n",
       "        0.        , 0.        , 0.25      , 0.25      ],\n",
       "       [0.33333333, 0.        , 0.        , 0.33333333, 0.        ,\n",
       "        0.        , 0.33333333, 0.        , 0.        ],\n",
       "       [0.        , 0.        , 0.        , 0.        , 0.        ,\n",
       "        1.        , 0.        , 0.        , 0.        ],\n",
       "       [1.        , 0.        , 0.        , 0.        , 0.        ,\n",
       "        0.        , 0.        , 0.        , 0.        ],\n",
       "       [0.5       , 0.        , 0.        , 0.        , 0.        ,\n",
       "        0.        , 0.25      , 0.        , 0.25      ],\n",
       "       [0.        , 0.        , 1.        , 0.        , 0.        ,\n",
       "        0.        , 0.        , 0.        , 0.        ],\n",
       "       [0.        , 0.        , 0.        , 0.        , 1.        ,\n",
       "        0.        , 0.        , 0.        , 0.        ],\n",
       "       [0.        , 1.        , 0.        , 0.        , 0.        ,\n",
       "        0.        , 0.        , 0.        , 0.        ]])"
      ]
     },
     "metadata": {},
     "output_type": "display_data"
    },
    {
     "name": "stderr",
     "output_type": "stream",
     "text": [
      "\r",
      " 79%|████████████████████████████▌       | 95/120 [20:00:28<2:16:24, 327.36s/it]"
     ]
    },
    {
     "name": "stdout",
     "output_type": "stream",
     "text": [
      "INFO: Noise Filtering applied\n",
      "INFO: Clusters generated\n",
      "(57587, 5) (31, 5) (31, 5) (31, 5) (31, 6)\n",
      "INFO: 11 clusters generated.\n"
     ]
    },
    {
     "name": "stderr",
     "output_type": "stream",
     "text": [
      "\n",
      "  0%|                                                    | 0/11 [00:00<?, ?it/s]\u001b[A\n",
      "  9%|████                                        | 1/11 [00:00<00:08,  1.17it/s]\u001b[A\n",
      " 18%|████████                                    | 2/11 [00:01<00:08,  1.12it/s]\u001b[A\n",
      " 27%|████████████                                | 3/11 [00:02<00:07,  1.04it/s]\u001b[A\n",
      " 36%|████████████████                            | 4/11 [00:03<00:06,  1.09it/s]\u001b[A\n",
      " 45%|████████████████████                        | 5/11 [00:04<00:05,  1.11it/s]\u001b[A\n",
      " 55%|████████████████████████                    | 6/11 [00:05<00:04,  1.13it/s]\u001b[A\n",
      " 64%|████████████████████████████                | 7/11 [00:06<00:03,  1.06it/s]\u001b[A\n",
      " 73%|████████████████████████████████            | 8/11 [00:07<00:02,  1.09it/s]\u001b[A\n",
      " 82%|████████████████████████████████████        | 9/11 [00:08<00:01,  1.11it/s]\u001b[A\n",
      " 91%|███████████████████████████████████████    | 10/11 [00:09<00:00,  1.05it/s]\u001b[A\n",
      "100%|███████████████████████████████████████████| 11/11 [00:10<00:00,  1.09it/s]\u001b[A\n"
     ]
    },
    {
     "data": {
      "text/plain": [
       "array([[0.        , 0.        , 0.        , 0.        , 0.03846154,\n",
       "        0.        , 0.57692308, 0.38461538, 0.        , 0.        ,\n",
       "        0.        ],\n",
       "       [0.        , 0.        , 0.        , 0.        , 0.42857143,\n",
       "        0.42857143, 0.        , 0.14285714, 0.        , 0.        ,\n",
       "        0.        ],\n",
       "       [0.        , 0.        , 0.        , 0.        , 0.        ,\n",
       "        0.        , 1.        , 0.        , 0.        , 0.        ,\n",
       "        0.        ],\n",
       "       [0.77777778, 0.        , 0.        , 0.        , 0.        ,\n",
       "        0.        , 0.        , 0.        , 0.11111111, 0.        ,\n",
       "        0.11111111],\n",
       "       [0.5       , 0.125     , 0.        , 0.        , 0.        ,\n",
       "        0.        , 0.        , 0.        , 0.        , 0.375     ,\n",
       "        0.        ],\n",
       "       [0.        , 0.33333333, 0.        , 0.        , 0.33333333,\n",
       "        0.        , 0.33333333, 0.        , 0.        , 0.        ,\n",
       "        0.        ],\n",
       "       [0.66666667, 0.27777778, 0.05555556, 0.        , 0.        ,\n",
       "        0.        , 0.        , 0.        , 0.        , 0.        ,\n",
       "        0.        ],\n",
       "       [0.21428571, 0.        , 0.        , 0.64285714, 0.        ,\n",
       "        0.        , 0.07142857, 0.        , 0.07142857, 0.        ,\n",
       "        0.        ],\n",
       "       [0.        , 0.        , 0.        , 0.        , 0.        ,\n",
       "        0.        , 0.        , 0.        , 0.        , 1.        ,\n",
       "        0.        ],\n",
       "       [0.        , 0.        , 0.        , 0.        , 0.5       ,\n",
       "        0.        , 0.        , 0.5       , 0.        , 0.        ,\n",
       "        0.        ],\n",
       "       [0.        , 0.        , 0.        , 0.        , 0.        ,\n",
       "        0.        , 0.        , 0.        , 0.        , 1.        ,\n",
       "        0.        ]])"
      ]
     },
     "metadata": {},
     "output_type": "display_data"
    },
    {
     "name": "stderr",
     "output_type": "stream",
     "text": [
      "\r",
      " 80%|████████████████████████████▊       | 96/120 [20:00:40<1:33:02, 232.60s/it]"
     ]
    },
    {
     "name": "stdout",
     "output_type": "stream",
     "text": [
      "INFO: Noise Filtering applied\n",
      "INFO: Clusters generated\n",
      "(4157, 5) (73, 5) (73, 5) (73, 5) (73, 6)\n",
      "INFO: 5 clusters generated.\n"
     ]
    },
    {
     "name": "stderr",
     "output_type": "stream",
     "text": [
      "\n",
      "  0%|                                                     | 0/5 [00:00<?, ?it/s]\u001b[A\n",
      " 40%|██████████████████                           | 2/5 [00:00<00:00, 15.12it/s]\u001b[A\n",
      "100%|█████████████████████████████████████████████| 5/5 [00:00<00:00, 14.81it/s]\u001b[A\n"
     ]
    },
    {
     "data": {
      "text/plain": [
       "array([[0.        , 0.08333333, 0.83333333, 0.        , 0.08333333],\n",
       "       [0.        , 0.        , 1.        , 0.        , 0.        ],\n",
       "       [0.92307692, 0.        , 0.        , 0.07692308, 0.        ],\n",
       "       [0.        , 0.        , 1.        , 0.        , 0.        ],\n",
       "       [1.        , 0.        , 0.        , 0.        , 0.        ]])"
      ]
     },
     "metadata": {},
     "output_type": "display_data"
    },
    {
     "name": "stderr",
     "output_type": "stream",
     "text": [
      "\r",
      " 81%|█████████████████████████████       | 97/120 [20:00:40<1:02:28, 162.97s/it]"
     ]
    },
    {
     "name": "stdout",
     "output_type": "stream",
     "text": [
      "INFO: Noise Filtering applied\n",
      "INFO: Clusters generated\n",
      "(84423, 5) (13, 5) (13, 5) (13, 5) (13, 6)\n",
      "INFO: 7 clusters generated.\n"
     ]
    },
    {
     "name": "stderr",
     "output_type": "stream",
     "text": [
      "\n",
      "  0%|                                                     | 0/7 [00:00<?, ?it/s]\u001b[A\n",
      " 14%|██████▍                                      | 1/7 [00:01<00:08,  1.45s/it]\u001b[A\n",
      " 29%|████████████▊                                | 2/7 [00:02<00:06,  1.35s/it]\u001b[A\n",
      " 43%|███████████████████▎                         | 3/7 [00:04<00:05,  1.40s/it]\u001b[A\n",
      " 57%|█████████████████████████▋                   | 4/7 [00:05<00:04,  1.36s/it]\u001b[A\n",
      " 71%|████████████████████████████████▏            | 5/7 [00:06<00:02,  1.35s/it]\u001b[A\n",
      " 86%|██████████████████████████████████████▌      | 6/7 [00:08<00:01,  1.40s/it]\u001b[A\n",
      "100%|█████████████████████████████████████████████| 7/7 [00:09<00:00,  1.37s/it]\u001b[A\n"
     ]
    },
    {
     "data": {
      "text/plain": [
       "array([[0.        , 0.66666667, 0.33333333, 0.        , 0.        ,\n",
       "        0.        ],\n",
       "       [0.5       , 0.        , 0.        , 0.        , 0.        ,\n",
       "        0.5       ],\n",
       "       [1.        , 0.        , 0.        , 0.        , 0.        ,\n",
       "        0.        ],\n",
       "       [0.        , 0.        , 0.        , 1.        , 0.        ,\n",
       "        0.        ],\n",
       "       [0.        , 0.        , 0.        , 0.        , 1.        ,\n",
       "        0.        ],\n",
       "       [1.        , 0.        , 0.        , 0.        , 0.        ,\n",
       "        0.        ]])"
      ]
     },
     "metadata": {},
     "output_type": "display_data"
    },
    {
     "name": "stderr",
     "output_type": "stream",
     "text": [
      "\r",
      " 82%|███████████████████████████████       | 98/120 [20:00:52<43:07, 117.63s/it]"
     ]
    },
    {
     "name": "stdout",
     "output_type": "stream",
     "text": [
      "INFO: Noise Filtering applied\n",
      "INFO: Clusters generated\n",
      "(1306, 5) (43, 5) (43, 5) (43, 5) (43, 6)\n",
      "INFO: 5 clusters generated.\n"
     ]
    },
    {
     "name": "stderr",
     "output_type": "stream",
     "text": [
      "\n",
      "  0%|                                                     | 0/5 [00:00<?, ?it/s]\u001b[A\n",
      "100%|█████████████████████████████████████████████| 5/5 [00:00<00:00, 45.97it/s]\u001b[A\n"
     ]
    },
    {
     "data": {
      "text/plain": [
       "array([[0.        , 0.        , 0.66666667, 0.33333333, 0.        ],\n",
       "       [0.33333333, 0.        , 0.        , 0.66666667, 0.        ],\n",
       "       [0.33333333, 0.        , 0.        , 0.        , 0.66666667],\n",
       "       [0.        , 0.4       , 0.        , 0.        , 0.6       ],\n",
       "       [0.2       , 0.2       , 0.2       , 0.4       , 0.        ]])"
      ]
     },
     "metadata": {},
     "output_type": "display_data"
    },
    {
     "name": "stderr",
     "output_type": "stream",
     "text": [
      "\r",
      " 82%|████████████████████████████████▏      | 99/120 [20:00:52<28:50, 82.41s/it]"
     ]
    },
    {
     "name": "stdout",
     "output_type": "stream",
     "text": [
      "INFO: Noise Filtering applied\n",
      "INFO: Clusters generated\n",
      "(2351, 5) (15, 5) (15, 5) (15, 5) (15, 6)\n",
      "INFO: 5 clusters generated.\n"
     ]
    },
    {
     "name": "stderr",
     "output_type": "stream",
     "text": [
      "\n",
      "  0%|                                                     | 0/5 [00:00<?, ?it/s]\u001b[A\n",
      "100%|█████████████████████████████████████████████| 5/5 [00:00<00:00, 23.74it/s]\u001b[A\n"
     ]
    },
    {
     "data": {
      "text/plain": [
       "array([[0.        , 0.        , 0.25      , 0.75      , 0.        ],\n",
       "       [0.        , 0.        , 0.33333333, 0.33333333, 0.33333333],\n",
       "       [0.        , 0.7       , 0.        , 0.2       , 0.1       ],\n",
       "       [0.375     , 0.        , 0.625     , 0.        , 0.        ],\n",
       "       [0.33333333, 0.        , 0.33333333, 0.33333333, 0.        ]])"
      ]
     },
     "metadata": {},
     "output_type": "display_data"
    },
    {
     "name": "stderr",
     "output_type": "stream",
     "text": [
      "\r",
      " 83%|███████████████████████████████▋      | 100/120 [20:00:53<19:15, 57.79s/it]"
     ]
    },
    {
     "name": "stdout",
     "output_type": "stream",
     "text": [
      "INFO: Noise Filtering applied\n",
      "INFO: Clusters generated\n",
      "(1353, 5) (19, 5) (19, 5) (19, 5) (19, 6)\n",
      "INFO: 3 clusters generated.\n"
     ]
    },
    {
     "name": "stderr",
     "output_type": "stream",
     "text": [
      "\n",
      "100%|█████████████████████████████████████████████| 3/3 [00:00<00:00, 44.34it/s]\u001b[A\n"
     ]
    },
    {
     "data": {
      "text/plain": [
       "array([[0., 1.],\n",
       "       [1., 0.],\n",
       "       [0., 1.]])"
      ]
     },
     "metadata": {},
     "output_type": "display_data"
    },
    {
     "name": "stderr",
     "output_type": "stream",
     "text": [
      "\r",
      " 84%|███████████████████████████████▉      | 101/120 [20:00:53<12:49, 40.50s/it]"
     ]
    },
    {
     "name": "stdout",
     "output_type": "stream",
     "text": [
      "INFO: Noise Filtering applied\n",
      "INFO: Clusters generated\n",
      "(342496, 5) (300, 5) (300, 5) (300, 5) (300, 6)\n",
      "INFO: 21 clusters generated.\n"
     ]
    },
    {
     "name": "stderr",
     "output_type": "stream",
     "text": [
      "\n",
      "  0%|                                                    | 0/21 [00:00<?, ?it/s]\u001b[A\n",
      "  5%|██                                          | 1/21 [00:05<01:46,  5.34s/it]\u001b[A\n",
      " 10%|████▏                                       | 2/21 [00:10<01:43,  5.44s/it]\u001b[A\n",
      " 14%|██████▎                                     | 3/21 [00:16<01:37,  5.40s/it]\u001b[A\n",
      " 19%|████████▍                                   | 4/21 [00:21<01:31,  5.39s/it]\u001b[A\n",
      " 24%|██████████▍                                 | 5/21 [00:27<01:27,  5.46s/it]\u001b[A\n",
      " 29%|████████████▌                               | 6/21 [00:32<01:21,  5.42s/it]\u001b[A\n",
      " 33%|██████████████▋                             | 7/21 [00:37<01:15,  5.41s/it]\u001b[A\n",
      " 38%|████████████████▊                           | 8/21 [00:43<01:10,  5.46s/it]\u001b[A\n",
      " 43%|██████████████████▊                         | 9/21 [00:48<01:05,  5.47s/it]\u001b[A\n",
      " 48%|████████████████████▍                      | 10/21 [00:54<00:59,  5.42s/it]\u001b[A\n",
      " 52%|██████████████████████▌                    | 11/21 [00:59<00:53,  5.39s/it]\u001b[A\n",
      " 57%|████████████████████████▌                  | 12/21 [01:05<00:48,  5.43s/it]\u001b[A\n",
      " 62%|██████████████████████████▌                | 13/21 [01:10<00:43,  5.40s/it]\u001b[A\n",
      " 67%|████████████████████████████▋              | 14/21 [01:15<00:37,  5.40s/it]\u001b[A\n",
      " 71%|██████████████████████████████▋            | 15/21 [01:21<00:32,  5.44s/it]\u001b[A\n",
      " 76%|████████████████████████████████▊          | 16/21 [01:26<00:27,  5.48s/it]\u001b[A\n",
      " 81%|██████████████████████████████████▊        | 17/21 [01:32<00:21,  5.48s/it]\u001b[A\n",
      " 86%|████████████████████████████████████▊      | 18/21 [01:37<00:16,  5.49s/it]\u001b[A\n",
      " 90%|██████████████████████████████████████▉    | 19/21 [01:43<00:11,  5.56s/it]\u001b[A\n",
      " 95%|████████████████████████████████████████▉  | 20/21 [01:49<00:05,  5.53s/it]\u001b[A\n",
      "100%|███████████████████████████████████████████| 21/21 [01:54<00:00,  5.46s/it]\u001b[A\n"
     ]
    },
    {
     "data": {
      "text/plain": [
       "array([[0.        , 0.14754098, 0.04918033, 0.16393443, 0.01639344,\n",
       "        0.        , 0.1147541 , 0.06557377, 0.03278689, 0.03278689,\n",
       "        0.        , 0.01639344, 0.        , 0.06557377, 0.06557377,\n",
       "        0.03278689, 0.01639344, 0.01639344, 0.14754098, 0.01639344,\n",
       "        0.        ],\n",
       "       [0.41176471, 0.        , 0.        , 0.        , 0.        ,\n",
       "        0.        , 0.        , 0.        , 0.        , 0.52941176,\n",
       "        0.        , 0.        , 0.        , 0.        , 0.        ,\n",
       "        0.        , 0.        , 0.        , 0.05882353, 0.        ,\n",
       "        0.        ],\n",
       "       [0.2       , 0.        , 0.        , 0.        , 0.        ,\n",
       "        0.        , 0.        , 0.6       , 0.2       , 0.        ,\n",
       "        0.        , 0.        , 0.        , 0.        , 0.        ,\n",
       "        0.        , 0.        , 0.        , 0.        , 0.        ,\n",
       "        0.        ],\n",
       "       [0.3125    , 0.0625    , 0.0625    , 0.        , 0.0625    ,\n",
       "        0.        , 0.        , 0.        , 0.        , 0.        ,\n",
       "        0.        , 0.        , 0.        , 0.        , 0.        ,\n",
       "        0.        , 0.        , 0.        , 0.        , 0.5       ,\n",
       "        0.        ],\n",
       "       [0.06666667, 0.        , 0.        , 0.        , 0.        ,\n",
       "        0.06666667, 0.        , 0.        , 0.        , 0.13333333,\n",
       "        0.        , 0.        , 0.        , 0.        , 0.06666667,\n",
       "        0.        , 0.        , 0.26666667, 0.4       , 0.        ,\n",
       "        0.        ],\n",
       "       [1.        , 0.        , 0.        , 0.        , 0.        ,\n",
       "        0.        , 0.        , 0.        , 0.        , 0.        ,\n",
       "        0.        , 0.        , 0.        , 0.        , 0.        ,\n",
       "        0.        , 0.        , 0.        , 0.        , 0.        ,\n",
       "        0.        ],\n",
       "       [0.88888889, 0.        , 0.        , 0.        , 0.        ,\n",
       "        0.        , 0.        , 0.        , 0.        , 0.        ,\n",
       "        0.        , 0.11111111, 0.        , 0.        , 0.        ,\n",
       "        0.        , 0.        , 0.        , 0.        , 0.        ,\n",
       "        0.        ],\n",
       "       [0.81818182, 0.        , 0.09090909, 0.        , 0.        ,\n",
       "        0.09090909, 0.        , 0.        , 0.        , 0.        ,\n",
       "        0.        , 0.        , 0.        , 0.        , 0.        ,\n",
       "        0.        , 0.        , 0.        , 0.        , 0.        ,\n",
       "        0.        ],\n",
       "       [0.75      , 0.        , 0.        , 0.        , 0.        ,\n",
       "        0.        , 0.        , 0.25      , 0.        , 0.        ,\n",
       "        0.        , 0.        , 0.        , 0.        , 0.        ,\n",
       "        0.        , 0.        , 0.        , 0.        , 0.        ,\n",
       "        0.        ],\n",
       "       [0.15789474, 0.26315789, 0.        , 0.        , 0.05263158,\n",
       "        0.        , 0.        , 0.05263158, 0.        , 0.        ,\n",
       "        0.        , 0.        , 0.21052632, 0.        , 0.        ,\n",
       "        0.        , 0.        , 0.        , 0.15789474, 0.10526316,\n",
       "        0.        ],\n",
       "       [0.        , 0.        , 0.        , 0.        , 0.        ,\n",
       "        0.        , 0.        , 0.        , 0.        , 0.        ,\n",
       "        0.        , 0.        , 0.        , 0.        , 0.        ,\n",
       "        0.        , 0.        , 1.        , 0.        , 0.        ,\n",
       "        0.        ],\n",
       "       [0.        , 0.        , 0.        , 0.        , 0.        ,\n",
       "        0.        , 0.66666667, 0.33333333, 0.        , 0.        ,\n",
       "        0.        , 0.        , 0.        , 0.        , 0.        ,\n",
       "        0.        , 0.        , 0.        , 0.        , 0.        ,\n",
       "        0.        ],\n",
       "       [0.        , 0.        , 0.        , 0.        , 0.        ,\n",
       "        0.        , 0.        , 0.        , 0.        , 1.        ,\n",
       "        0.        , 0.        , 0.        , 0.        , 0.        ,\n",
       "        0.        , 0.        , 0.        , 0.        , 0.        ,\n",
       "        0.        ],\n",
       "       [0.2       , 0.2       , 0.        , 0.4       , 0.        ,\n",
       "        0.        , 0.        , 0.        , 0.2       , 0.        ,\n",
       "        0.        , 0.        , 0.        , 0.        , 0.        ,\n",
       "        0.        , 0.        , 0.        , 0.        , 0.        ,\n",
       "        0.        ],\n",
       "       [0.4       , 0.        , 0.        , 0.2       , 0.        ,\n",
       "        0.        , 0.        , 0.2       , 0.        , 0.        ,\n",
       "        0.        , 0.2       , 0.        , 0.        , 0.        ,\n",
       "        0.        , 0.        , 0.        , 0.        , 0.        ,\n",
       "        0.        ],\n",
       "       [0.5       , 0.        , 0.        , 0.        , 0.        ,\n",
       "        0.        , 0.        , 0.        , 0.        , 0.        ,\n",
       "        0.        , 0.        , 0.        , 0.        , 0.        ,\n",
       "        0.        , 0.        , 0.        , 0.        , 0.        ,\n",
       "        0.5       ],\n",
       "       [0.        , 0.        , 0.        , 0.        , 0.        ,\n",
       "        0.        , 0.        , 0.        , 0.        , 0.        ,\n",
       "        0.        , 0.        , 0.        , 0.        , 0.        ,\n",
       "        0.        , 0.        , 0.        , 1.        , 0.        ,\n",
       "        0.        ],\n",
       "       [0.        , 0.125     , 0.        , 0.        , 0.5       ,\n",
       "        0.125     , 0.        , 0.        , 0.        , 0.        ,\n",
       "        0.        , 0.        , 0.        , 0.        , 0.        ,\n",
       "        0.        , 0.        , 0.        , 0.        , 0.        ,\n",
       "        0.25      ],\n",
       "       [0.51851852, 0.        , 0.        , 0.03703704, 0.25925926,\n",
       "        0.        , 0.        , 0.        , 0.        , 0.03703704,\n",
       "        0.03703704, 0.        , 0.03703704, 0.        , 0.        ,\n",
       "        0.        , 0.        , 0.        , 0.        , 0.07407407,\n",
       "        0.        ],\n",
       "       [0.15384615, 0.        , 0.        , 0.15384615, 0.07692308,\n",
       "        0.        , 0.        , 0.        , 0.        , 0.        ,\n",
       "        0.        , 0.        , 0.        , 0.07692308, 0.        ,\n",
       "        0.        , 0.        , 0.        , 0.53846154, 0.        ,\n",
       "        0.        ],\n",
       "       [0.33333333, 0.        , 0.        , 0.        , 0.        ,\n",
       "        0.        , 0.        , 0.        , 0.        , 0.        ,\n",
       "        0.        , 0.        , 0.        , 0.        , 0.        ,\n",
       "        0.        , 0.        , 0.66666667, 0.        , 0.        ,\n",
       "        0.        ]])"
      ]
     },
     "metadata": {},
     "output_type": "display_data"
    },
    {
     "name": "stderr",
     "output_type": "stream",
     "text": [
      "\r",
      " 85%|████████████████████████████████▎     | 102/120 [20:03:06<20:28, 68.25s/it]"
     ]
    },
    {
     "name": "stdout",
     "output_type": "stream",
     "text": [
      "INFO: Noise Filtering applied\n",
      "INFO: Clusters generated\n",
      "(64773, 5) (33, 5) (33, 5) (33, 5) (33, 6)\n",
      "INFO: 5 clusters generated.\n"
     ]
    },
    {
     "name": "stderr",
     "output_type": "stream",
     "text": [
      "\n",
      "  0%|                                                     | 0/5 [00:00<?, ?it/s]\u001b[A\n",
      " 20%|█████████                                    | 1/5 [00:00<00:03,  1.04it/s]\u001b[A\n",
      " 40%|██████████████████                           | 2/5 [00:01<00:02,  1.04it/s]\u001b[A\n",
      " 60%|███████████████████████████                  | 3/5 [00:03<00:02,  1.05s/it]\u001b[A\n",
      " 80%|████████████████████████████████████         | 4/5 [00:04<00:01,  1.02s/it]\u001b[A\n",
      "100%|█████████████████████████████████████████████| 5/5 [00:05<00:00,  1.00s/it]\u001b[A\n"
     ]
    },
    {
     "data": {
      "text/plain": [
       "array([[0.        , 0.76923077, 0.        , 0.15384615, 0.07692308],\n",
       "       [0.8       , 0.        , 0.1       , 0.1       , 0.        ],\n",
       "       [1.        , 0.        , 0.        , 0.        , 0.        ],\n",
       "       [1.        , 0.        , 0.        , 0.        , 0.        ]])"
      ]
     },
     "metadata": {},
     "output_type": "display_data"
    },
    {
     "name": "stderr",
     "output_type": "stream",
     "text": [
      "\r",
      " 86%|████████████████████████████████▌     | 103/120 [20:03:13<14:06, 49.82s/it]"
     ]
    },
    {
     "name": "stdout",
     "output_type": "stream",
     "text": [
      "INFO: Noise Filtering applied\n",
      "INFO: Clusters generated\n",
      "(178267, 5) (144, 5) (144, 5) (144, 5) (144, 6)\n",
      "INFO: 19 clusters generated.\n"
     ]
    },
    {
     "name": "stderr",
     "output_type": "stream",
     "text": [
      "\n",
      "  0%|                                                    | 0/19 [00:00<?, ?it/s]\u001b[A\n",
      "  5%|██▎                                         | 1/19 [00:02<00:51,  2.84s/it]\u001b[A\n",
      " 11%|████▋                                       | 2/19 [00:05<00:48,  2.86s/it]\u001b[A\n",
      " 16%|██████▉                                     | 3/19 [00:08<00:44,  2.77s/it]\u001b[A\n",
      " 21%|█████████▎                                  | 4/19 [00:11<00:42,  2.80s/it]\u001b[A\n",
      " 26%|███████████▌                                | 5/19 [00:14<00:39,  2.82s/it]\u001b[A\n",
      " 32%|█████████████▉                              | 6/19 [00:16<00:36,  2.83s/it]\u001b[A\n",
      " 37%|████████████████▏                           | 7/19 [00:19<00:34,  2.84s/it]\u001b[A\n",
      " 42%|██████████████████▌                         | 8/19 [00:22<00:31,  2.84s/it]\u001b[A\n",
      " 47%|████████████████████▊                       | 9/19 [00:25<00:28,  2.85s/it]\u001b[A\n",
      " 53%|██████████████████████▋                    | 10/19 [00:28<00:25,  2.80s/it]\u001b[A\n",
      " 58%|████████████████████████▉                  | 11/19 [00:31<00:22,  2.82s/it]\u001b[A\n",
      " 63%|███████████████████████████▏               | 12/19 [00:33<00:19,  2.83s/it]\u001b[A\n",
      " 68%|█████████████████████████████▍             | 13/19 [00:36<00:17,  2.84s/it]\u001b[A\n",
      " 74%|███████████████████████████████▋           | 14/19 [00:39<00:13,  2.79s/it]\u001b[A\n",
      " 79%|█████████████████████████████████▉         | 15/19 [00:42<00:11,  2.81s/it]\u001b[A\n",
      " 84%|████████████████████████████████████▏      | 16/19 [00:45<00:08,  2.86s/it]\u001b[A\n",
      " 89%|██████████████████████████████████████▍    | 17/19 [00:48<00:05,  2.86s/it]\u001b[A\n",
      " 95%|████████████████████████████████████████▋  | 18/19 [00:51<00:02,  2.86s/it]\u001b[A\n",
      "100%|███████████████████████████████████████████| 19/19 [00:53<00:00,  2.82s/it]\u001b[A\n"
     ]
    },
    {
     "data": {
      "text/plain": [
       "array([[0.        , 0.02985075, 0.04477612, 0.        , 0.74626866,\n",
       "        0.05970149, 0.02985075, 0.        , 0.05970149, 0.        ,\n",
       "        0.02985075, 0.        , 0.        , 0.        , 0.        ,\n",
       "        0.        , 0.        , 0.        , 0.        ],\n",
       "       [0.1147541 , 0.        , 0.        , 0.        , 0.01639344,\n",
       "        0.01639344, 0.03278689, 0.        , 0.        , 0.21311475,\n",
       "        0.01639344, 0.06557377, 0.06557377, 0.18032787, 0.        ,\n",
       "        0.        , 0.01639344, 0.26229508, 0.        ],\n",
       "       [0.9       , 0.025     , 0.        , 0.05      , 0.        ,\n",
       "        0.        , 0.        , 0.        , 0.        , 0.        ,\n",
       "        0.        , 0.        , 0.        , 0.        , 0.        ,\n",
       "        0.        , 0.        , 0.        , 0.025     ],\n",
       "       [0.16666667, 0.        , 0.25      , 0.        , 0.        ,\n",
       "        0.        , 0.        , 0.08333333, 0.        , 0.        ,\n",
       "        0.        , 0.08333333, 0.        , 0.        , 0.08333333,\n",
       "        0.        , 0.        , 0.        , 0.33333333],\n",
       "       [0.10714286, 0.        , 0.        , 0.        , 0.        ,\n",
       "        0.        , 0.21428571, 0.01785714, 0.64285714, 0.        ,\n",
       "        0.        , 0.        , 0.        , 0.        , 0.        ,\n",
       "        0.        , 0.        , 0.        , 0.01785714],\n",
       "       [0.83333333, 0.        , 0.        , 0.        , 0.        ,\n",
       "        0.        , 0.        , 0.        , 0.        , 0.        ,\n",
       "        0.        , 0.        , 0.        , 0.        , 0.        ,\n",
       "        0.        , 0.        , 0.16666667, 0.        ],\n",
       "       [0.14516129, 0.        , 0.        , 0.        , 0.        ,\n",
       "        0.01612903, 0.        , 0.        , 0.03225806, 0.01612903,\n",
       "        0.        , 0.        , 0.        , 0.79032258, 0.        ,\n",
       "        0.        , 0.        , 0.        , 0.        ],\n",
       "       [0.        , 0.        , 0.        , 0.33333333, 0.        ,\n",
       "        0.        , 0.        , 0.        , 0.33333333, 0.        ,\n",
       "        0.33333333, 0.        , 0.        , 0.        , 0.        ,\n",
       "        0.        , 0.        , 0.        , 0.        ],\n",
       "       [0.02325581, 0.04651163, 0.        , 0.        , 0.09302326,\n",
       "        0.        , 0.81395349, 0.        , 0.        , 0.        ,\n",
       "        0.        , 0.        , 0.        , 0.02325581, 0.        ,\n",
       "        0.        , 0.        , 0.        , 0.        ],\n",
       "       [0.        , 0.03225806, 0.        , 0.03225806, 0.        ,\n",
       "        0.        , 0.        , 0.        , 0.        , 0.        ,\n",
       "        0.        , 0.90322581, 0.03225806, 0.        , 0.        ,\n",
       "        0.        , 0.        , 0.        , 0.        ],\n",
       "       [0.1       , 0.        , 0.        , 0.1       , 0.        ,\n",
       "        0.        , 0.        , 0.        , 0.        , 0.        ,\n",
       "        0.        , 0.        , 0.        , 0.        , 0.        ,\n",
       "        0.        , 0.        , 0.        , 0.8       ],\n",
       "       [0.        , 0.        , 0.97058824, 0.        , 0.        ,\n",
       "        0.        , 0.        , 0.        , 0.        , 0.02941176,\n",
       "        0.        , 0.        , 0.        , 0.        , 0.        ,\n",
       "        0.        , 0.        , 0.        , 0.        ],\n",
       "       [0.        , 0.6       , 0.2       , 0.        , 0.        ,\n",
       "        0.        , 0.        , 0.        , 0.        , 0.        ,\n",
       "        0.        , 0.2       , 0.        , 0.        , 0.        ,\n",
       "        0.        , 0.        , 0.        , 0.        ],\n",
       "       [0.        , 0.81967213, 0.        , 0.        , 0.        ,\n",
       "        0.        , 0.18032787, 0.        , 0.        , 0.        ,\n",
       "        0.        , 0.        , 0.        , 0.        , 0.        ,\n",
       "        0.        , 0.        , 0.        , 0.        ],\n",
       "       [0.        , 0.        , 0.        , 0.        , 1.        ,\n",
       "        0.        , 0.        , 0.        , 0.        , 0.        ,\n",
       "        0.        , 0.        , 0.        , 0.        , 0.        ,\n",
       "        0.        , 0.        , 0.        , 0.        ],\n",
       "       [0.        , 0.        , 0.        , 0.        , 0.        ,\n",
       "        0.        , 0.        , 0.        , 0.        , 0.        ,\n",
       "        0.        , 0.        , 0.        , 0.        , 0.        ,\n",
       "        0.        , 1.        , 0.        , 0.        ],\n",
       "       [0.33333333, 0.33333333, 0.        , 0.        , 0.        ,\n",
       "        0.        , 0.        , 0.        , 0.        , 0.        ,\n",
       "        0.        , 0.        , 0.        , 0.        , 0.        ,\n",
       "        0.33333333, 0.        , 0.        , 0.        ],\n",
       "       [0.        , 0.        , 0.        , 0.        , 0.        ,\n",
       "        0.        , 0.        , 0.        , 0.        , 0.94117647,\n",
       "        0.        , 0.        , 0.        , 0.        , 0.        ,\n",
       "        0.        , 0.05882353, 0.        , 0.        ],\n",
       "       [0.        , 0.        , 0.        , 0.5       , 0.        ,\n",
       "        0.        , 0.        , 0.07142857, 0.        , 0.        ,\n",
       "        0.42857143, 0.        , 0.        , 0.        , 0.        ,\n",
       "        0.        , 0.        , 0.        , 0.        ]])"
      ]
     },
     "metadata": {},
     "output_type": "display_data"
    },
    {
     "name": "stderr",
     "output_type": "stream",
     "text": [
      "\r",
      " 87%|████████████████████████████████▉     | 104/120 [20:04:13<14:07, 52.95s/it]"
     ]
    },
    {
     "name": "stdout",
     "output_type": "stream",
     "text": [
      "INFO: Noise Filtering applied\n",
      "INFO: Clusters generated\n",
      "(582833, 5) (3171, 5) (3171, 5) (3171, 5) (3171, 6)\n",
      "INFO: 40 clusters generated.\n"
     ]
    },
    {
     "name": "stderr",
     "output_type": "stream",
     "text": [
      "\n",
      "  0%|                                                    | 0/40 [00:00<?, ?it/s]\u001b[A\n",
      "  2%|█                                           | 1/40 [00:09<05:58,  9.20s/it]\u001b[A\n",
      "  5%|██▏                                         | 2/40 [00:18<05:47,  9.15s/it]\u001b[A\n",
      "  8%|███▎                                        | 3/40 [00:27<05:42,  9.25s/it]\u001b[A\n",
      " 10%|████▍                                       | 4/40 [00:36<05:28,  9.12s/it]\u001b[A\n",
      " 12%|█████▌                                      | 5/40 [00:45<05:22,  9.21s/it]\u001b[A\n",
      " 15%|██████▌                                     | 6/40 [00:55<05:12,  9.20s/it]\u001b[A\n",
      " 18%|███████▋                                    | 7/40 [01:04<05:04,  9.23s/it]\u001b[A\n",
      " 20%|████████▊                                   | 8/40 [01:13<04:54,  9.22s/it]\u001b[A\n",
      " 22%|█████████▉                                  | 9/40 [01:23<04:48,  9.32s/it]\u001b[A\n",
      " 25%|██████████▊                                | 10/40 [01:32<04:36,  9.23s/it]\u001b[A\n",
      " 28%|███████████▊                               | 11/40 [01:41<04:31,  9.35s/it]\u001b[A\n",
      " 30%|████████████▉                              | 12/40 [01:51<04:22,  9.38s/it]\u001b[A\n",
      " 32%|█████████████▉                             | 13/40 [02:00<04:13,  9.38s/it]\u001b[A\n",
      " 35%|███████████████                            | 14/40 [02:09<04:01,  9.31s/it]\u001b[A\n",
      " 38%|████████████████▏                          | 15/40 [02:19<03:54,  9.38s/it]\u001b[A\n",
      " 40%|█████████████████▏                         | 16/40 [02:28<03:41,  9.25s/it]\u001b[A\n",
      " 42%|██████████████████▎                        | 17/40 [02:37<03:33,  9.30s/it]\u001b[A\n",
      " 45%|███████████████████▎                       | 18/40 [02:46<03:23,  9.25s/it]\u001b[A\n",
      " 48%|████████████████████▍                      | 19/40 [02:56<03:13,  9.23s/it]\u001b[A\n",
      " 50%|█████████████████████▌                     | 20/40 [03:04<03:02,  9.12s/it]\u001b[A\n",
      " 52%|██████████████████████▌                    | 21/40 [03:14<02:54,  9.21s/it]\u001b[A\n",
      " 55%|███████████████████████▋                   | 22/40 [03:23<02:44,  9.14s/it]\u001b[A\n",
      " 57%|████████████████████████▋                  | 23/40 [03:32<02:36,  9.22s/it]\u001b[A\n",
      " 60%|█████████████████████████▊                 | 24/40 [03:41<02:27,  9.21s/it]\u001b[A\n",
      " 62%|██████████████████████████▉                | 25/40 [03:51<02:18,  9.21s/it]\u001b[A\n",
      " 65%|███████████████████████████▉               | 26/40 [04:00<02:07,  9.13s/it]\u001b[A\n",
      " 68%|█████████████████████████████              | 27/40 [04:09<02:00,  9.25s/it]\u001b[A\n",
      " 70%|██████████████████████████████             | 28/40 [04:18<01:49,  9.16s/it]\u001b[A\n",
      " 72%|███████████████████████████████▏           | 29/40 [04:27<01:41,  9.23s/it]\u001b[A\n",
      " 75%|████████████████████████████████▎          | 30/40 [04:37<01:32,  9.22s/it]\u001b[A\n",
      " 78%|█████████████████████████████████▎         | 31/40 [04:46<01:22,  9.21s/it]\u001b[A\n",
      " 80%|██████████████████████████████████▍        | 32/40 [04:55<01:13,  9.13s/it]\u001b[A\n",
      " 82%|███████████████████████████████████▍       | 33/40 [05:04<01:04,  9.19s/it]\u001b[A\n",
      " 85%|████████████████████████████████████▌      | 34/40 [05:13<00:54,  9.12s/it]\u001b[A\n",
      " 88%|█████████████████████████████████████▋     | 35/40 [05:22<00:45,  9.18s/it]\u001b[A\n",
      " 90%|██████████████████████████████████████▋    | 36/40 [05:32<00:36,  9.19s/it]\u001b[A\n",
      " 92%|███████████████████████████████████████▊   | 37/40 [05:41<00:27,  9.20s/it]\u001b[A\n",
      " 95%|████████████████████████████████████████▊  | 38/40 [05:50<00:18,  9.18s/it]\u001b[A\n",
      " 98%|█████████████████████████████████████████▉ | 39/40 [05:59<00:09,  9.28s/it]\u001b[A\n",
      "100%|███████████████████████████████████████████| 40/40 [06:08<00:00,  9.22s/it]\u001b[A\n"
     ]
    },
    {
     "data": {
      "text/plain": [
       "array([[0.        , 0.00724638, 0.        , ..., 0.        , 0.00724638,\n",
       "        0.        ],\n",
       "       [0.        , 0.        , 0.        , ..., 0.        , 0.        ,\n",
       "        0.08333333],\n",
       "       [0.        , 0.        , 0.        , ..., 0.        , 0.        ,\n",
       "        0.75      ],\n",
       "       ...,\n",
       "       [0.07142857, 0.        , 0.        , ..., 0.        , 0.        ,\n",
       "        0.        ],\n",
       "       [0.        , 0.        , 0.        , ..., 0.        , 0.        ,\n",
       "        0.        ],\n",
       "       [0.05882353, 0.        , 0.29411765, ..., 0.        , 0.        ,\n",
       "        0.        ]])"
      ]
     },
     "metadata": {},
     "output_type": "display_data"
    },
    {
     "name": "stderr",
     "output_type": "stream",
     "text": [
      "\r",
      " 88%|████████████████████████████████▍    | 105/120 [20:11:09<40:28, 161.93s/it]"
     ]
    },
    {
     "name": "stdout",
     "output_type": "stream",
     "text": [
      "INFO: Noise Filtering applied\n",
      "INFO: Clusters generated\n",
      "(33891, 5) (81, 5) (81, 5) (81, 5) (81, 6)\n",
      "INFO: 7 clusters generated.\n"
     ]
    },
    {
     "name": "stderr",
     "output_type": "stream",
     "text": [
      "\n",
      "  0%|                                                     | 0/7 [00:00<?, ?it/s]\u001b[A\n",
      " 14%|██████▍                                      | 1/7 [00:00<00:03,  1.84it/s]\u001b[A\n",
      " 29%|████████████▊                                | 2/7 [00:01<00:02,  1.91it/s]\u001b[A\n",
      " 43%|███████████████████▎                         | 3/7 [00:01<00:02,  1.91it/s]\u001b[A\n",
      " 57%|█████████████████████████▋                   | 4/7 [00:02<00:01,  1.91it/s]\u001b[A\n",
      " 71%|████████████████████████████████▏            | 5/7 [00:02<00:01,  1.97it/s]\u001b[A\n",
      " 86%|██████████████████████████████████████▌      | 6/7 [00:03<00:00,  1.96it/s]\u001b[A\n",
      "100%|█████████████████████████████████████████████| 7/7 [00:03<00:00,  1.82it/s]\u001b[A\n"
     ]
    },
    {
     "data": {
      "text/plain": [
       "array([[0.        , 0.07317073, 0.12195122, 0.80487805, 0.        ,\n",
       "        0.        , 0.        ],\n",
       "       [0.        , 0.        , 1.        , 0.        , 0.        ,\n",
       "        0.        , 0.        ],\n",
       "       [0.72222222, 0.        , 0.        , 0.27777778, 0.        ,\n",
       "        0.        , 0.        ],\n",
       "       [0.46153846, 0.        , 0.        , 0.        , 0.20512821,\n",
       "        0.33333333, 0.        ],\n",
       "       [0.88888889, 0.11111111, 0.        , 0.        , 0.        ,\n",
       "        0.        , 0.        ],\n",
       "       [0.        , 0.        , 0.        , 0.        , 0.        ,\n",
       "        0.        , 1.        ],\n",
       "       [0.16666667, 0.75      , 0.        , 0.        , 0.08333333,\n",
       "        0.        , 0.        ]])"
      ]
     },
     "metadata": {},
     "output_type": "display_data"
    },
    {
     "name": "stderr",
     "output_type": "stream",
     "text": [
      "\r",
      " 88%|████████████████████████████████▋    | 106/120 [20:11:14<26:47, 114.81s/it]"
     ]
    },
    {
     "name": "stdout",
     "output_type": "stream",
     "text": [
      "INFO: Noise Filtering applied\n",
      "INFO: Clusters generated\n",
      "(2793, 5) (32, 5) (32, 5) (32, 5) (32, 6)\n",
      "INFO: 2 clusters generated.\n"
     ]
    },
    {
     "name": "stderr",
     "output_type": "stream",
     "text": [
      "\n",
      "100%|█████████████████████████████████████████████| 2/2 [00:00<00:00, 21.78it/s]\u001b[A\n"
     ]
    },
    {
     "data": {
      "text/plain": [
       "array([[0., 1.],\n",
       "       [1., 0.]])"
      ]
     },
     "metadata": {},
     "output_type": "display_data"
    },
    {
     "name": "stderr",
     "output_type": "stream",
     "text": [
      "\r",
      " 89%|█████████████████████████████████▉    | 107/120 [20:11:14<17:25, 80.43s/it]"
     ]
    },
    {
     "name": "stdout",
     "output_type": "stream",
     "text": [
      "INFO: Noise Filtering applied\n",
      "INFO: Clusters generated\n",
      "(2156964, 5) (1902, 5) (1902, 5) (1902, 5) (1902, 6)\n",
      "INFO: 51 clusters generated.\n"
     ]
    },
    {
     "name": "stderr",
     "output_type": "stream",
     "text": [
      "\n",
      "  0%|                                                    | 0/51 [00:00<?, ?it/s]\u001b[A\n",
      "  2%|▊                                           | 1/51 [00:34<28:25, 34.11s/it]\u001b[A\n",
      "  4%|█▋                                          | 2/51 [01:07<27:28, 33.64s/it]\u001b[A\n",
      "  6%|██▌                                         | 3/51 [01:40<26:48, 33.52s/it]\u001b[A\n",
      "  8%|███▍                                        | 4/51 [02:13<26:07, 33.36s/it]\u001b[A\n",
      " 10%|████▎                                       | 5/51 [02:47<25:35, 33.38s/it]\u001b[A\n",
      " 12%|█████▏                                      | 6/51 [03:20<25:02, 33.39s/it]\u001b[A\n",
      " 14%|██████                                      | 7/51 [03:53<24:23, 33.27s/it]\u001b[A\n",
      " 16%|██████▉                                     | 8/51 [04:26<23:48, 33.23s/it]\u001b[A\n",
      " 18%|███████▊                                    | 9/51 [05:00<23:16, 33.26s/it]\u001b[A\n",
      " 20%|███████▊                                | 10/51 [16:35<2:42:24, 237.66s/it]\u001b[A\n",
      " 22%|████████▋                               | 11/51 [17:08<1:56:38, 174.96s/it]\u001b[A\n",
      " 24%|█████████▍                              | 12/51 [17:41<1:25:46, 131.96s/it]\u001b[A\n",
      " 25%|██████████▏                             | 13/51 [18:14<1:04:32, 101.91s/it]\u001b[A\n",
      " 27%|███████████▊                               | 14/51 [18:47<49:59, 81.07s/it]\u001b[A\n",
      " 29%|████████████▋                              | 15/51 [19:21<40:01, 66.72s/it]\u001b[A\n",
      " 31%|█████████████▍                             | 16/51 [19:53<32:53, 56.38s/it]\u001b[A\n",
      " 33%|██████████████▎                            | 17/51 [20:26<28:00, 49.43s/it]\u001b[A\n",
      " 35%|███████████████▏                           | 18/51 [20:59<24:25, 44.40s/it]\u001b[A\n",
      " 37%|████████████████                           | 19/51 [21:32<21:52, 41.00s/it]\u001b[A\n",
      " 39%|████████████████▊                          | 20/51 [22:05<19:56, 38.60s/it]\u001b[A\n",
      " 41%|█████████████████▋                         | 21/51 [22:39<18:33, 37.10s/it]\u001b[A\n",
      " 43%|██████████████████▌                        | 22/51 [23:11<17:18, 35.81s/it]\u001b[A\n",
      " 45%|███████████████████▍                       | 23/51 [23:45<16:21, 35.05s/it]\u001b[A\n",
      " 47%|████████████████████▏                      | 24/51 [24:18<15:28, 34.40s/it]\u001b[A\n",
      " 49%|█████████████████████                      | 25/51 [24:51<14:45, 34.06s/it]\u001b[A\n",
      " 51%|█████████████████████▉                     | 26/51 [25:24<14:06, 33.85s/it]\u001b[A\n",
      " 53%|██████████████████████▊                    | 27/51 [25:57<13:22, 33.44s/it]\u001b[A\n",
      " 55%|███████████████████████▌                   | 28/51 [26:30<12:45, 33.27s/it]\u001b[A\n",
      " 57%|████████████████████████▍                  | 29/51 [27:03<12:15, 33.41s/it]\u001b[A\n",
      " 59%|█████████████████████████▎                 | 30/51 [27:37<11:40, 33.36s/it]\u001b[A\n",
      " 61%|██████████████████████████▏                | 31/51 [28:10<11:05, 33.26s/it]\u001b[A\n",
      " 63%|██████████████████████████▉                | 32/51 [28:43<10:33, 33.37s/it]\u001b[A\n",
      " 65%|███████████████████████████▊               | 33/51 [29:17<10:02, 33.45s/it]\u001b[A\n",
      " 67%|████████████████████████████▋              | 34/51 [29:50<09:28, 33.41s/it]\u001b[A\n",
      " 69%|█████████████████████████████▌             | 35/51 [30:23<08:52, 33.28s/it]\u001b[A\n",
      " 71%|██████████████████████████████▎            | 36/51 [30:57<08:21, 33.42s/it]\u001b[A\n",
      " 73%|███████████████████████████████▏           | 37/51 [31:30<07:48, 33.43s/it]\u001b[A\n",
      " 75%|████████████████████████████████           | 38/51 [32:04<07:13, 33.37s/it]\u001b[A\n",
      " 76%|████████████████████████████████▉          | 39/51 [32:36<06:38, 33.21s/it]\u001b[A\n",
      " 78%|█████████████████████████████████▋         | 40/51 [33:10<06:04, 33.17s/it]\u001b[A\n",
      " 80%|██████████████████████████████████▌        | 41/51 [33:43<05:32, 33.27s/it]\u001b[A\n",
      " 82%|███████████████████████████████████▍       | 42/51 [34:17<05:00, 33.44s/it]\u001b[A\n",
      " 84%|████████████████████████████████████▎      | 43/51 [34:50<04:27, 33.49s/it]\u001b[A\n",
      " 86%|█████████████████████████████████████      | 44/51 [35:23<03:53, 33.34s/it]\u001b[A\n",
      " 88%|█████████████████████████████████████▉     | 45/51 [35:57<03:19, 33.27s/it]\u001b[A\n",
      " 90%|██████████████████████████████████████▊    | 46/51 [36:30<02:46, 33.36s/it]\u001b[A\n",
      " 92%|███████████████████████████████████████▋   | 47/51 [37:04<02:13, 33.44s/it]\u001b[A\n",
      " 94%|████████████████████████████████████████▍  | 48/51 [37:37<01:40, 33.46s/it]\u001b[A\n",
      " 96%|█████████████████████████████████████████▎ | 49/51 [38:11<01:06, 33.44s/it]\u001b[A\n",
      " 98%|██████████████████████████████████████████▏| 50/51 [38:46<00:33, 33.87s/it]\u001b[A\n",
      "100%|███████████████████████████████████████████| 51/51 [39:19<00:00, 46.27s/it]\u001b[A\n"
     ]
    },
    {
     "data": {
      "text/plain": [
       "array([[0.        , 0.01944444, 0.05277778, ..., 0.1       , 0.        ,\n",
       "        0.00555556],\n",
       "       [0.03243243, 0.        , 0.17297297, ..., 0.11891892, 0.        ,\n",
       "        0.02162162],\n",
       "       [0.00877193, 0.10526316, 0.        , ..., 0.00877193, 0.        ,\n",
       "        0.        ],\n",
       "       ...,\n",
       "       [0.31325301, 0.27710843, 0.        , ..., 0.        , 0.        ,\n",
       "        0.01204819],\n",
       "       [0.        , 0.        , 0.        , ..., 0.        , 0.        ,\n",
       "        0.        ],\n",
       "       [0.05555556, 0.22222222, 0.05555556, ..., 0.05555556, 0.        ,\n",
       "        0.        ]])"
      ]
     },
     "metadata": {},
     "output_type": "display_data"
    },
    {
     "name": "stderr",
     "output_type": "stream",
     "text": [
      "\r",
      " 90%|██████████████████████████████▌   | 108/120 [21:22:42<4:28:31, 1342.66s/it]"
     ]
    },
    {
     "name": "stdout",
     "output_type": "stream",
     "text": [
      "INFO: Noise Filtering applied\n",
      "INFO: Clusters generated\n",
      "(2927, 5) (13, 5) (13, 5) (13, 5) (13, 6)\n",
      "INFO: 5 clusters generated.\n"
     ]
    },
    {
     "name": "stderr",
     "output_type": "stream",
     "text": [
      "\n",
      "  0%|                                                     | 0/5 [00:00<?, ?it/s]\u001b[A\n",
      "100%|█████████████████████████████████████████████| 5/5 [00:00<00:00, 20.37it/s]\u001b[A\n"
     ]
    },
    {
     "data": {
      "text/plain": [
       "array([[0.  , 0.  , 0.4 , 0.6 ],\n",
       "       [0.75, 0.  , 0.  , 0.25],\n",
       "       [0.25, 0.25, 0.5 , 0.  ],\n",
       "       [1.  , 0.  , 0.  , 0.  ]])"
      ]
     },
     "metadata": {},
     "output_type": "display_data"
    },
    {
     "name": "stderr",
     "output_type": "stream",
     "text": [
      "\r",
      " 91%|███████████████████████████████▊   | 109/120 [21:22:42<2:52:19, 939.97s/it]"
     ]
    },
    {
     "name": "stdout",
     "output_type": "stream",
     "text": [
      "INFO: Noise Filtering applied\n",
      "INFO: Clusters generated\n",
      "(41590, 5) (43, 5) (43, 5) (43, 5) (43, 6)\n",
      "INFO: 11 clusters generated.\n"
     ]
    },
    {
     "name": "stderr",
     "output_type": "stream",
     "text": [
      "\n",
      "  0%|                                                    | 0/11 [00:00<?, ?it/s]\u001b[A\n",
      "  9%|████                                        | 1/11 [00:00<00:06,  1.64it/s]\u001b[A\n",
      " 18%|████████                                    | 2/11 [00:01<00:05,  1.62it/s]\u001b[A\n",
      " 27%|████████████                                | 3/11 [00:01<00:05,  1.59it/s]\u001b[A\n",
      " 36%|████████████████                            | 4/11 [00:02<00:04,  1.60it/s]\u001b[A\n",
      " 45%|████████████████████                        | 5/11 [00:03<00:04,  1.41it/s]\u001b[A\n",
      " 55%|████████████████████████                    | 6/11 [00:03<00:03,  1.47it/s]\u001b[A\n",
      " 64%|████████████████████████████                | 7/11 [00:04<00:02,  1.51it/s]\u001b[A\n",
      " 73%|████████████████████████████████            | 8/11 [00:05<00:01,  1.53it/s]\u001b[A\n",
      " 82%|████████████████████████████████████        | 9/11 [00:05<00:01,  1.53it/s]\u001b[A\n",
      " 91%|███████████████████████████████████████    | 10/11 [00:06<00:00,  1.56it/s]\u001b[A\n",
      "100%|███████████████████████████████████████████| 11/11 [00:07<00:00,  1.50it/s]\u001b[A\n"
     ]
    },
    {
     "data": {
      "text/plain": [
       "array([[0.        , 0.07142857, 0.07142857, 0.        , 0.78571429,\n",
       "        0.        , 0.        , 0.        , 0.        , 0.07142857,\n",
       "        0.        ],\n",
       "       [0.        , 0.        , 0.42857143, 0.        , 0.        ,\n",
       "        0.21428571, 0.28571429, 0.        , 0.        , 0.07142857,\n",
       "        0.        ],\n",
       "       [0.08333333, 0.5       , 0.        , 0.08333333, 0.        ,\n",
       "        0.33333333, 0.        , 0.        , 0.        , 0.        ,\n",
       "        0.        ],\n",
       "       [1.        , 0.        , 0.        , 0.        , 0.        ,\n",
       "        0.        , 0.        , 0.        , 0.        , 0.        ,\n",
       "        0.        ],\n",
       "       [0.35714286, 0.        , 0.07142857, 0.        , 0.        ,\n",
       "        0.        , 0.        , 0.        , 0.07142857, 0.5       ,\n",
       "        0.        ],\n",
       "       [0.        , 0.57142857, 0.42857143, 0.        , 0.        ,\n",
       "        0.        , 0.        , 0.        , 0.        , 0.        ,\n",
       "        0.        ],\n",
       "       [0.66666667, 0.16666667, 0.        , 0.        , 0.        ,\n",
       "        0.        , 0.        , 0.        , 0.        , 0.16666667,\n",
       "        0.        ],\n",
       "       [0.        , 0.        , 0.        , 1.        , 0.        ,\n",
       "        0.        , 0.        , 0.        , 0.        , 0.        ,\n",
       "        0.        ],\n",
       "       [0.        , 0.        , 0.        , 0.        , 0.        ,\n",
       "        0.        , 0.        , 0.        , 0.        , 1.        ,\n",
       "        0.        ],\n",
       "       [0.09090909, 0.        , 0.09090909, 0.09090909, 0.27272727,\n",
       "        0.        , 0.18181818, 0.18181818, 0.        , 0.        ,\n",
       "        0.09090909],\n",
       "       [0.        , 1.        , 0.        , 0.        , 0.        ,\n",
       "        0.        , 0.        , 0.        , 0.        , 0.        ,\n",
       "        0.        ]])"
      ]
     },
     "metadata": {},
     "output_type": "display_data"
    },
    {
     "name": "stderr",
     "output_type": "stream",
     "text": [
      "\r",
      " 92%|████████████████████████████████   | 110/120 [21:22:51<1:50:05, 660.53s/it]"
     ]
    },
    {
     "name": "stdout",
     "output_type": "stream",
     "text": [
      "INFO: Noise Filtering applied\n",
      "INFO: Clusters generated\n",
      "(2500, 5) (17, 5) (17, 5) (17, 5) (17, 6)\n",
      "INFO: 5 clusters generated.\n"
     ]
    },
    {
     "name": "stderr",
     "output_type": "stream",
     "text": [
      "\n",
      "  0%|                                                     | 0/5 [00:00<?, ?it/s]\u001b[A\n",
      "100%|█████████████████████████████████████████████| 5/5 [00:00<00:00, 24.84it/s]\u001b[A\n"
     ]
    },
    {
     "data": {
      "text/plain": [
       "array([[0.        , 0.57142857, 0.14285714, 0.14285714, 0.14285714],\n",
       "       [0.6       , 0.        , 0.        , 0.        , 0.4       ],\n",
       "       [0.5       , 0.        , 0.        , 0.        , 0.5       ],\n",
       "       [0.        , 1.        , 0.        , 0.        , 0.        ]])"
      ]
     },
     "metadata": {},
     "output_type": "display_data"
    },
    {
     "name": "stderr",
     "output_type": "stream",
     "text": [
      "\r",
      " 92%|████████████████████████████████▍  | 111/120 [21:22:51<1:09:22, 462.47s/it]"
     ]
    },
    {
     "name": "stdout",
     "output_type": "stream",
     "text": [
      "INFO: Noise Filtering applied\n",
      "INFO: Clusters generated\n",
      "(6010, 5) (28, 5) (28, 5) (28, 5) (28, 6)\n",
      "INFO: 1 clusters generated.\n"
     ]
    },
    {
     "name": "stderr",
     "output_type": "stream",
     "text": [
      "\n",
      "100%|█████████████████████████████████████████████| 1/1 [00:00<00:00, 10.72it/s]\u001b[A\n"
     ]
    },
    {
     "data": {
      "text/plain": [
       "array([], shape=(0, 0), dtype=float64)"
      ]
     },
     "metadata": {},
     "output_type": "display_data"
    },
    {
     "name": "stderr",
     "output_type": "stream",
     "text": [
      "\r",
      " 93%|██████████████████████████████████▌  | 112/120 [21:22:51<43:10, 323.81s/it]"
     ]
    },
    {
     "name": "stdout",
     "output_type": "stream",
     "text": [
      "INFO: Noise Filtering applied\n",
      "INFO: Clusters generated\n",
      "(38744, 5) (18, 5) (18, 5) (18, 5) (18, 6)\n",
      "INFO: 3 clusters generated.\n"
     ]
    },
    {
     "name": "stderr",
     "output_type": "stream",
     "text": [
      "\n",
      "  0%|                                                     | 0/3 [00:00<?, ?it/s]\u001b[A\n",
      " 33%|███████████████                              | 1/3 [00:00<00:01,  1.76it/s]\u001b[A\n",
      " 67%|██████████████████████████████               | 2/3 [00:01<00:00,  1.68it/s]\u001b[A\n",
      "100%|█████████████████████████████████████████████| 3/3 [00:01<00:00,  1.70it/s]\u001b[A\n"
     ]
    },
    {
     "data": {
      "text/plain": [
       "array([[0.        , 0.16666667, 0.83333333],\n",
       "       [0.125     , 0.        , 0.875     ],\n",
       "       [0.38461538, 0.61538462, 0.        ]])"
      ]
     },
     "metadata": {},
     "output_type": "display_data"
    },
    {
     "name": "stderr",
     "output_type": "stream",
     "text": [
      "\r",
      " 94%|██████████████████████████████████▊  | 113/120 [21:22:54<26:32, 227.45s/it]"
     ]
    },
    {
     "name": "stdout",
     "output_type": "stream",
     "text": [
      "INFO: Noise Filtering applied\n",
      "INFO: Clusters generated\n",
      "(969084, 5) (743, 5) (743, 5) (743, 5) (743, 6)\n",
      "INFO: 46 clusters generated.\n"
     ]
    },
    {
     "name": "stderr",
     "output_type": "stream",
     "text": [
      "\n",
      "  0%|                                                    | 0/46 [00:00<?, ?it/s]\u001b[A\n",
      "  2%|▉                                           | 1/46 [00:14<11:14, 14.98s/it]\u001b[A\n",
      "  4%|█▉                                          | 2/46 [00:30<11:13, 15.30s/it]\u001b[A\n",
      "  7%|██▊                                         | 3/46 [00:45<10:53, 15.19s/it]\u001b[A\n",
      "  9%|███▊                                        | 4/46 [01:00<10:39, 15.24s/it]\u001b[A\n",
      " 11%|████▊                                       | 5/46 [01:15<10:21, 15.15s/it]\u001b[A\n",
      " 13%|█████▋                                      | 6/46 [01:30<10:05, 15.13s/it]\u001b[A\n",
      " 15%|██████▋                                     | 7/46 [01:45<09:48, 15.08s/it]\u001b[A\n",
      " 17%|███████▋                                    | 8/46 [02:00<09:31, 15.04s/it]\u001b[A\n",
      " 20%|████████▌                                   | 9/46 [02:16<09:20, 15.15s/it]\u001b[A\n",
      " 22%|█████████▎                                 | 10/46 [02:31<09:02, 15.07s/it]\u001b[A\n",
      " 24%|██████████▎                                | 11/46 [02:46<08:50, 15.16s/it]\u001b[A\n",
      " 26%|███████████▏                               | 12/46 [03:01<08:35, 15.16s/it]\u001b[A\n",
      " 28%|████████████▏                              | 13/46 [03:16<08:17, 15.07s/it]\u001b[A\n",
      " 30%|█████████████                              | 14/46 [03:31<08:01, 15.04s/it]\u001b[A\n",
      " 33%|██████████████                             | 15/46 [03:46<07:43, 14.95s/it]\u001b[A\n",
      " 35%|██████████████▉                            | 16/46 [04:01<07:32, 15.08s/it]\u001b[A\n",
      " 37%|███████████████▉                           | 17/46 [04:16<07:15, 15.01s/it]\u001b[A\n",
      " 39%|████████████████▊                          | 18/46 [04:31<07:00, 15.03s/it]\u001b[A\n",
      " 41%|█████████████████▊                         | 19/46 [04:46<06:44, 14.99s/it]\u001b[A\n",
      " 43%|██████████████████▋                        | 20/46 [05:01<06:30, 15.01s/it]\u001b[A\n",
      " 46%|███████████████████▋                       | 21/46 [05:16<06:15, 15.02s/it]\u001b[A\n",
      " 48%|████████████████████▌                      | 22/46 [05:31<06:02, 15.09s/it]\u001b[A\n",
      " 50%|█████████████████████▌                     | 23/46 [05:46<05:44, 15.00s/it]\u001b[A\n",
      " 52%|██████████████████████▍                    | 24/46 [06:01<05:29, 15.00s/it]\u001b[A\n",
      " 54%|███████████████████████▎                   | 25/46 [06:16<05:15, 15.03s/it]\u001b[A\n",
      " 57%|████████████████████████▎                  | 26/46 [06:31<05:01, 15.05s/it]\u001b[A\n",
      " 59%|█████████████████████████▏                 | 27/46 [06:46<04:46, 15.08s/it]\u001b[A\n",
      " 61%|██████████████████████████▏                | 28/46 [07:01<04:30, 15.02s/it]\u001b[A\n",
      " 63%|███████████████████████████                | 29/46 [07:17<04:16, 15.08s/it]\u001b[A\n",
      " 65%|████████████████████████████               | 30/46 [07:32<04:01, 15.11s/it]\u001b[A\n",
      " 67%|████████████████████████████▉              | 31/46 [07:47<03:46, 15.12s/it]\u001b[A\n",
      " 70%|█████████████████████████████▉             | 32/46 [08:02<03:31, 15.08s/it]\u001b[A\n",
      " 72%|██████████████████████████████▊            | 33/46 [08:17<03:16, 15.11s/it]\u001b[A\n",
      " 74%|███████████████████████████████▊           | 34/46 [08:32<03:01, 15.08s/it]\u001b[A\n",
      " 76%|████████████████████████████████▋          | 35/46 [08:47<02:46, 15.12s/it]\u001b[A\n",
      " 78%|█████████████████████████████████▋         | 36/46 [09:03<02:32, 15.27s/it]\u001b[A\n",
      " 80%|██████████████████████████████████▌        | 37/46 [09:18<02:16, 15.21s/it]\u001b[A\n",
      " 83%|███████████████████████████████████▌       | 38/46 [09:33<02:01, 15.17s/it]\u001b[A\n",
      " 85%|████████████████████████████████████▍      | 39/46 [09:49<01:46, 15.26s/it]\u001b[A\n",
      " 87%|█████████████████████████████████████▍     | 40/46 [10:04<01:32, 15.34s/it]\u001b[A\n",
      " 89%|██████████████████████████████████████▎    | 41/46 [10:19<01:16, 15.35s/it]\u001b[A\n",
      " 91%|███████████████████████████████████████▎   | 42/46 [10:35<01:01, 15.42s/it]\u001b[A\n",
      " 93%|████████████████████████████████████████▏  | 43/46 [10:50<00:45, 15.31s/it]\u001b[A\n",
      " 96%|█████████████████████████████████████████▏ | 44/46 [11:05<00:30, 15.23s/it]\u001b[A\n",
      " 98%|██████████████████████████████████████████ | 45/46 [11:20<00:15, 15.21s/it]\u001b[A\n",
      "100%|███████████████████████████████████████████| 46/46 [11:35<00:00, 15.13s/it]\u001b[A\n"
     ]
    },
    {
     "data": {
      "text/plain": [
       "array([[0.        , 0.003663  , 0.003663  , ..., 0.        , 0.003663  ,\n",
       "        0.003663  ],\n",
       "       [0.        , 0.        , 0.10526316, ..., 0.05263158, 0.36842105,\n",
       "        0.02631579],\n",
       "       [0.        , 0.30769231, 0.        , ..., 0.        , 0.07692308,\n",
       "        0.        ],\n",
       "       ...,\n",
       "       [0.        , 0.33333333, 0.        , ..., 0.        , 0.        ,\n",
       "        0.        ],\n",
       "       [0.02272727, 0.31818182, 0.        , ..., 0.        , 0.        ,\n",
       "        0.        ],\n",
       "       [0.        , 0.        , 0.        , ..., 0.        , 0.        ,\n",
       "        0.        ]])"
      ]
     },
     "metadata": {},
     "output_type": "display_data"
    },
    {
     "name": "stderr",
     "output_type": "stream",
     "text": [
      "\r",
      " 95%|███████████████████████████████████▏ | 114/120 [21:37:26<42:04, 420.78s/it]"
     ]
    },
    {
     "name": "stdout",
     "output_type": "stream",
     "text": [
      "INFO: Noise Filtering applied\n",
      "INFO: Clusters generated\n",
      "(62609, 5) (143, 5) (143, 5) (143, 5) (143, 6)\n",
      "INFO: 1 clusters generated.\n"
     ]
    },
    {
     "name": "stderr",
     "output_type": "stream",
     "text": [
      "\n",
      "  0%|                                                     | 0/1 [00:00<?, ?it/s]\u001b[A\n",
      "100%|█████████████████████████████████████████████| 1/1 [00:00<00:00,  1.08it/s]\u001b[A\n"
     ]
    },
    {
     "data": {
      "text/plain": [
       "array([], shape=(0, 0), dtype=float64)"
      ]
     },
     "metadata": {},
     "output_type": "display_data"
    },
    {
     "name": "stderr",
     "output_type": "stream",
     "text": [
      "\r",
      " 96%|███████████████████████████████████▍ | 115/120 [21:37:29<24:36, 295.32s/it]"
     ]
    },
    {
     "name": "stdout",
     "output_type": "stream",
     "text": [
      "INFO: Noise Filtering applied\n",
      "INFO: Clusters generated\n",
      "(608657, 5) (471, 5) (471, 5) (471, 5) (471, 6)\n",
      "INFO: 16 clusters generated.\n"
     ]
    },
    {
     "name": "stderr",
     "output_type": "stream",
     "text": [
      "\n",
      "  0%|                                                    | 0/16 [00:00<?, ?it/s]\u001b[A\n",
      "  6%|██▊                                         | 1/16 [00:09<02:23,  9.58s/it]\u001b[A\n",
      " 12%|█████▌                                      | 2/16 [00:18<02:11,  9.41s/it]\u001b[A\n",
      " 19%|████████▎                                   | 3/16 [00:28<02:04,  9.56s/it]\u001b[A\n",
      " 25%|███████████                                 | 4/16 [00:38<01:55,  9.59s/it]\u001b[A\n",
      " 31%|█████████████▊                              | 5/16 [00:47<01:44,  9.51s/it]\u001b[A\n",
      " 38%|████████████████▌                           | 6/16 [00:57<01:36,  9.70s/it]\u001b[A\n",
      " 44%|███████████████████▎                        | 7/16 [01:06<01:26,  9.57s/it]\u001b[A\n",
      " 50%|██████████████████████                      | 8/16 [01:16<01:17,  9.65s/it]\u001b[A\n",
      " 56%|████████████████████████▊                   | 9/16 [01:26<01:07,  9.58s/it]\u001b[A\n",
      " 62%|██████████████████████████▉                | 10/16 [01:36<00:58,  9.73s/it]\u001b[A\n",
      " 69%|█████████████████████████████▌             | 11/16 [01:45<00:48,  9.64s/it]\u001b[A\n",
      " 75%|████████████████████████████████▎          | 12/16 [01:55<00:38,  9.53s/it]\u001b[A\n",
      " 81%|██████████████████████████████████▉        | 13/16 [02:05<00:29,  9.69s/it]\u001b[A\n",
      " 88%|█████████████████████████████████████▋     | 14/16 [02:14<00:19,  9.63s/it]\u001b[A\n",
      " 94%|████████████████████████████████████████▎  | 15/16 [02:24<00:09,  9.67s/it]\u001b[A\n",
      "100%|███████████████████████████████████████████| 16/16 [02:33<00:00,  9.61s/it]\u001b[A\n"
     ]
    },
    {
     "data": {
      "text/plain": [
       "array([[0.        , 0.12162162, 0.02702703, 0.02702703, 0.02702703,\n",
       "        0.01351351, 0.2972973 , 0.08108108, 0.18918919, 0.02702703,\n",
       "        0.01351351, 0.14864865, 0.        , 0.01351351, 0.        ,\n",
       "        0.01351351],\n",
       "       [0.17777778, 0.        , 0.08888889, 0.        , 0.        ,\n",
       "        0.4       , 0.04444444, 0.        , 0.04444444, 0.2       ,\n",
       "        0.        , 0.        , 0.        , 0.        , 0.02222222,\n",
       "        0.02222222],\n",
       "       [0.01724138, 0.05172414, 0.        , 0.39655172, 0.12068966,\n",
       "        0.39655172, 0.        , 0.        , 0.        , 0.01724138,\n",
       "        0.        , 0.        , 0.        , 0.        , 0.        ,\n",
       "        0.        ],\n",
       "       [0.08108108, 0.02702703, 0.32432432, 0.        , 0.        ,\n",
       "        0.        , 0.56756757, 0.        , 0.        , 0.        ,\n",
       "        0.        , 0.        , 0.        , 0.        , 0.        ,\n",
       "        0.        ],\n",
       "       [0.04347826, 0.04347826, 0.52173913, 0.        , 0.        ,\n",
       "        0.        , 0.34782609, 0.        , 0.        , 0.        ,\n",
       "        0.        , 0.        , 0.        , 0.04347826, 0.        ,\n",
       "        0.        ],\n",
       "       [0.02173913, 0.41304348, 0.54347826, 0.        , 0.        ,\n",
       "        0.        , 0.        , 0.        , 0.        , 0.02173913,\n",
       "        0.        , 0.        , 0.        , 0.        , 0.        ,\n",
       "        0.        ],\n",
       "       [0.46666667, 0.01666667, 0.01666667, 0.2       , 0.21666667,\n",
       "        0.        , 0.        , 0.        , 0.03333333, 0.        ,\n",
       "        0.        , 0.05      , 0.        , 0.        , 0.        ,\n",
       "        0.        ],\n",
       "       [0.5       , 0.        , 0.        , 0.        , 0.        ,\n",
       "        0.        , 0.2       , 0.        , 0.3       , 0.        ,\n",
       "        0.        , 0.        , 0.        , 0.        , 0.        ,\n",
       "        0.        ],\n",
       "       [0.72727273, 0.04545455, 0.        , 0.        , 0.        ,\n",
       "        0.        , 0.04545455, 0.18181818, 0.        , 0.        ,\n",
       "        0.        , 0.        , 0.        , 0.        , 0.        ,\n",
       "        0.        ],\n",
       "       [0.07692308, 0.38461538, 0.        , 0.        , 0.        ,\n",
       "        0.15384615, 0.        , 0.        , 0.        , 0.        ,\n",
       "        0.        , 0.        , 0.34615385, 0.        , 0.        ,\n",
       "        0.03846154],\n",
       "       [0.        , 0.        , 0.        , 0.        , 0.        ,\n",
       "        0.        , 0.        , 0.        , 0.        , 0.04545455,\n",
       "        0.        , 0.36363636, 0.        , 0.59090909, 0.        ,\n",
       "        0.        ],\n",
       "       [0.27272727, 0.        , 0.        , 0.        , 0.        ,\n",
       "        0.        , 0.13636364, 0.        , 0.        , 0.        ,\n",
       "        0.59090909, 0.        , 0.        , 0.        , 0.        ,\n",
       "        0.        ],\n",
       "       [0.04      , 0.        , 0.        , 0.        , 0.        ,\n",
       "        0.        , 0.04      , 0.        , 0.04      , 0.44      ,\n",
       "        0.        , 0.        , 0.        , 0.        , 0.44      ,\n",
       "        0.        ],\n",
       "       [0.04347826, 0.        , 0.        , 0.        , 0.04347826,\n",
       "        0.        , 0.        , 0.        , 0.        , 0.        ,\n",
       "        0.34782609, 0.        , 0.        , 0.        , 0.56521739,\n",
       "        0.        ],\n",
       "       [0.        , 0.        , 0.04      , 0.        , 0.        ,\n",
       "        0.        , 0.        , 0.        , 0.        , 0.        ,\n",
       "        0.        , 0.        , 0.64      , 0.32      , 0.        ,\n",
       "        0.        ],\n",
       "       [0.66666667, 0.        , 0.        , 0.        , 0.        ,\n",
       "        0.        , 0.        , 0.        , 0.        , 0.33333333,\n",
       "        0.        , 0.        , 0.        , 0.        , 0.        ,\n",
       "        0.        ]])"
      ]
     },
     "metadata": {},
     "output_type": "display_data"
    },
    {
     "name": "stderr",
     "output_type": "stream",
     "text": [
      "\r",
      " 97%|███████████████████████████████████▊ | 116/120 [21:40:54<17:53, 268.43s/it]"
     ]
    },
    {
     "name": "stdout",
     "output_type": "stream",
     "text": [
      "INFO: Noise Filtering applied\n",
      "INFO: Clusters generated\n",
      "(253021, 5) (84, 5) (84, 5) (84, 5) (84, 6)\n",
      "INFO: 13 clusters generated.\n"
     ]
    },
    {
     "name": "stderr",
     "output_type": "stream",
     "text": [
      "\n",
      "  0%|                                                    | 0/13 [00:00<?, ?it/s]\u001b[A\n",
      "  8%|███▍                                        | 1/13 [00:03<00:47,  4.00s/it]\u001b[A\n",
      " 15%|██████▊                                     | 2/13 [00:08<00:44,  4.01s/it]\u001b[A\n",
      " 23%|██████████▏                                 | 3/13 [00:12<00:40,  4.01s/it]\u001b[A\n",
      " 31%|█████████████▌                              | 4/13 [00:16<00:36,  4.09s/it]\u001b[A\n",
      " 38%|████████████████▉                           | 5/13 [00:20<00:32,  4.08s/it]\u001b[A\n",
      " 46%|████████████████████▎                       | 6/13 [00:24<00:28,  4.13s/it]\u001b[A\n",
      " 54%|███████████████████████▋                    | 7/13 [00:28<00:24,  4.13s/it]\u001b[A\n",
      " 62%|███████████████████████████                 | 8/13 [00:32<00:20,  4.11s/it]\u001b[A\n",
      " 69%|██████████████████████████████▍             | 9/13 [00:36<00:16,  4.07s/it]\u001b[A\n",
      " 77%|█████████████████████████████████          | 10/13 [00:40<00:12,  4.01s/it]\u001b[A\n",
      " 85%|████████████████████████████████████▍      | 11/13 [00:44<00:07,  3.98s/it]\u001b[A\n",
      " 92%|███████████████████████████████████████▋   | 12/13 [00:48<00:03,  3.97s/it]\u001b[A\n",
      "100%|███████████████████████████████████████████| 13/13 [00:52<00:00,  4.03s/it]\u001b[A\n"
     ]
    },
    {
     "data": {
      "text/plain": [
       "array([[0.        , 0.91489362, 0.04255319, 0.        , 0.        ,\n",
       "        0.        , 0.0212766 , 0.0212766 , 0.        , 0.        ,\n",
       "        0.        , 0.        , 0.        ],\n",
       "       [0.3875    , 0.        , 0.05      , 0.        , 0.475     ,\n",
       "        0.        , 0.0125    , 0.        , 0.0125    , 0.0625    ,\n",
       "        0.        , 0.        , 0.        ],\n",
       "       [0.55555556, 0.        , 0.        , 0.        , 0.        ,\n",
       "        0.        , 0.        , 0.        , 0.        , 0.        ,\n",
       "        0.        , 0.        , 0.44444444],\n",
       "       [0.04651163, 0.        , 0.        , 0.        , 0.        ,\n",
       "        0.37209302, 0.        , 0.        , 0.        , 0.58139535,\n",
       "        0.        , 0.        , 0.        ],\n",
       "       [0.        , 0.02564103, 0.        , 0.        , 0.        ,\n",
       "        0.        , 0.        , 0.        , 0.        , 0.38461538,\n",
       "        0.58974359, 0.        , 0.        ],\n",
       "       [0.02564103, 0.        , 0.        , 0.56410256, 0.        ,\n",
       "        0.        , 0.        , 0.        , 0.41025641, 0.        ,\n",
       "        0.        , 0.        , 0.        ],\n",
       "       [0.10810811, 0.2972973 , 0.        , 0.        , 0.        ,\n",
       "        0.        , 0.        , 0.        , 0.59459459, 0.        ,\n",
       "        0.        , 0.        , 0.        ],\n",
       "       [1.        , 0.        , 0.        , 0.        , 0.        ,\n",
       "        0.        , 0.        , 0.        , 0.        , 0.        ,\n",
       "        0.        , 0.        , 0.        ],\n",
       "       [0.02564103, 0.02564103, 0.        , 0.        , 0.        ,\n",
       "        0.58974359, 0.35897436, 0.        , 0.        , 0.        ,\n",
       "        0.        , 0.        , 0.        ],\n",
       "       [0.        , 0.53333333, 0.        , 0.44444444, 0.02222222,\n",
       "        0.        , 0.        , 0.        , 0.        , 0.        ,\n",
       "        0.        , 0.        , 0.        ],\n",
       "       [0.        , 0.        , 0.        , 0.04347826, 0.        ,\n",
       "        0.        , 0.95652174, 0.        , 0.        , 0.        ,\n",
       "        0.        , 0.        , 0.        ],\n",
       "       [1.        , 0.        , 0.        , 0.        , 0.        ,\n",
       "        0.        , 0.        , 0.        , 0.        , 0.        ,\n",
       "        0.        , 0.        , 0.        ],\n",
       "       [0.25      , 0.        , 0.5       , 0.        , 0.        ,\n",
       "        0.        , 0.        , 0.        , 0.        , 0.        ,\n",
       "        0.        , 0.25      , 0.        ]])"
      ]
     },
     "metadata": {},
     "output_type": "display_data"
    },
    {
     "name": "stderr",
     "output_type": "stream",
     "text": [
      "\r",
      " 98%|████████████████████████████████████ | 117/120 [21:41:58<10:20, 206.93s/it]"
     ]
    },
    {
     "name": "stdout",
     "output_type": "stream",
     "text": [
      "INFO: Noise Filtering applied\n",
      "INFO: Clusters generated\n",
      "(48320, 5) (28, 5) (28, 5) (28, 5) (28, 6)\n",
      "INFO: 10 clusters generated.\n"
     ]
    },
    {
     "name": "stderr",
     "output_type": "stream",
     "text": [
      "\n",
      "  0%|                                                    | 0/10 [00:00<?, ?it/s]\u001b[A\n",
      " 10%|████▍                                       | 1/10 [00:00<00:08,  1.09it/s]\u001b[A\n",
      " 20%|████████▊                                   | 2/10 [00:01<00:06,  1.25it/s]\u001b[A\n",
      " 30%|█████████████▏                              | 3/10 [00:02<00:05,  1.32it/s]\u001b[A\n",
      " 40%|█████████████████▌                          | 4/10 [00:03<00:04,  1.36it/s]\u001b[A\n",
      " 50%|██████████████████████                      | 5/10 [00:03<00:03,  1.43it/s]\u001b[A\n",
      " 60%|██████████████████████████▍                 | 6/10 [00:04<00:02,  1.36it/s]\u001b[A\n",
      " 70%|██████████████████████████████▊             | 7/10 [00:05<00:02,  1.26it/s]\u001b[A\n",
      " 80%|███████████████████████████████████▏        | 8/10 [00:06<00:01,  1.29it/s]\u001b[A\n",
      " 90%|███████████████████████████████████████▌    | 9/10 [00:06<00:00,  1.32it/s]\u001b[A\n",
      "100%|███████████████████████████████████████████| 10/10 [00:07<00:00,  1.32it/s]\u001b[A\n"
     ]
    },
    {
     "data": {
      "text/plain": [
       "array([[0.        , 0.        , 0.15      , 0.        , 0.3       ,\n",
       "        0.        , 0.25      , 0.05      , 0.        , 0.25      ],\n",
       "       [0.        , 0.        , 0.        , 0.        , 0.        ,\n",
       "        0.61111111, 0.11111111, 0.        , 0.        , 0.27777778],\n",
       "       [0.13333333, 0.        , 0.        , 0.06666667, 0.        ,\n",
       "        0.        , 0.2       , 0.        , 0.        , 0.6       ],\n",
       "       [0.        , 0.        , 0.        , 0.        , 0.61111111,\n",
       "        0.38888889, 0.        , 0.        , 0.        , 0.        ],\n",
       "       [0.64705882, 0.        , 0.        , 0.35294118, 0.        ,\n",
       "        0.        , 0.        , 0.        , 0.        , 0.        ],\n",
       "       [0.        , 0.38888889, 0.        , 0.61111111, 0.        ,\n",
       "        0.        , 0.        , 0.        , 0.        , 0.        ],\n",
       "       [0.03571429, 0.39285714, 0.39285714, 0.        , 0.        ,\n",
       "        0.        , 0.        , 0.        , 0.03571429, 0.14285714],\n",
       "       [1.        , 0.        , 0.        , 0.        , 0.        ,\n",
       "        0.        , 0.        , 0.        , 0.        , 0.        ],\n",
       "       [1.        , 0.        , 0.        , 0.        , 0.        ,\n",
       "        0.        , 0.        , 0.        , 0.        , 0.        ],\n",
       "       [0.17391304, 0.        , 0.04347826, 0.        , 0.        ,\n",
       "        0.        , 0.7826087 , 0.        , 0.        , 0.        ]])"
      ]
     },
     "metadata": {},
     "output_type": "display_data"
    },
    {
     "name": "stderr",
     "output_type": "stream",
     "text": [
      "\r",
      " 98%|████████████████████████████████████▍| 118/120 [21:42:06<04:54, 147.45s/it]"
     ]
    },
    {
     "name": "stdout",
     "output_type": "stream",
     "text": [
      "INFO: Noise Filtering applied\n",
      "INFO: Clusters generated\n",
      "(7304, 5) (88, 5) (88, 5) (88, 5) (88, 6)\n",
      "INFO: 9 clusters generated.\n"
     ]
    },
    {
     "name": "stderr",
     "output_type": "stream",
     "text": [
      "\n",
      "  0%|                                                     | 0/9 [00:00<?, ?it/s]\u001b[A\n",
      " 11%|█████                                        | 1/9 [00:00<00:00,  8.92it/s]\u001b[A\n",
      " 22%|██████████                                   | 2/9 [00:00<00:00,  8.85it/s]\u001b[A\n",
      " 33%|███████████████                              | 3/9 [00:00<00:00,  8.92it/s]\u001b[A\n",
      " 44%|████████████████████                         | 4/9 [00:00<00:00,  8.95it/s]\u001b[A\n",
      " 56%|█████████████████████████                    | 5/9 [00:00<00:00,  8.92it/s]\u001b[A\n",
      " 67%|██████████████████████████████               | 6/9 [00:00<00:00,  8.92it/s]\u001b[A\n",
      " 78%|███████████████████████████████████          | 7/9 [00:00<00:00,  8.91it/s]\u001b[A\n",
      " 89%|████████████████████████████████████████     | 8/9 [00:00<00:00,  8.92it/s]\u001b[A\n",
      "100%|█████████████████████████████████████████████| 9/9 [00:01<00:00,  8.89it/s]\u001b[A\n"
     ]
    },
    {
     "data": {
      "text/plain": [
       "array([[0.        , 0.06666667, 0.13333333, 0.        , 0.        ,\n",
       "        0.        , 0.13333333, 0.13333333, 0.53333333],\n",
       "       [0.        , 0.        , 0.        , 0.        , 0.        ,\n",
       "        0.        , 0.        , 1.        , 0.        ],\n",
       "       [0.33333333, 0.        , 0.        , 0.33333333, 0.33333333,\n",
       "        0.        , 0.        , 0.        , 0.        ],\n",
       "       [1.        , 0.        , 0.        , 0.        , 0.        ,\n",
       "        0.        , 0.        , 0.        , 0.        ],\n",
       "       [0.5       , 0.        , 0.5       , 0.        , 0.        ,\n",
       "        0.        , 0.        , 0.        , 0.        ],\n",
       "       [0.        , 0.        , 0.        , 0.        , 1.        ,\n",
       "        0.        , 0.        , 0.        , 0.        ],\n",
       "       [0.66666667, 0.33333333, 0.        , 0.        , 0.        ,\n",
       "        0.        , 0.        , 0.        , 0.        ],\n",
       "       [0.5       , 0.25      , 0.        , 0.        , 0.        ,\n",
       "        0.125     , 0.125     , 0.        , 0.        ],\n",
       "       [0.875     , 0.125     , 0.        , 0.        , 0.        ,\n",
       "        0.        , 0.        , 0.        , 0.        ]])"
      ]
     },
     "metadata": {},
     "output_type": "display_data"
    },
    {
     "name": "stderr",
     "output_type": "stream",
     "text": [
      "\r",
      " 99%|████████████████████████████████████▋| 119/120 [21:42:08<01:43, 103.58s/it]"
     ]
    },
    {
     "name": "stdout",
     "output_type": "stream",
     "text": [
      "INFO: Noise Filtering applied\n",
      "INFO: Clusters generated\n",
      "(155312, 5) (74, 5) (74, 5) (74, 5) (74, 6)\n",
      "INFO: 14 clusters generated.\n"
     ]
    },
    {
     "name": "stderr",
     "output_type": "stream",
     "text": [
      "\n",
      "  0%|                                                    | 0/14 [00:00<?, ?it/s]\u001b[A\n",
      "  7%|███▏                                        | 1/14 [00:02<00:32,  2.52s/it]\u001b[A\n",
      " 14%|██████▎                                     | 2/14 [00:04<00:28,  2.38s/it]\u001b[A\n",
      " 21%|█████████▍                                  | 3/14 [00:07<00:26,  2.43s/it]\u001b[A\n",
      " 29%|████████████▌                               | 4/14 [00:09<00:23,  2.38s/it]\u001b[A\n",
      " 36%|███████████████▋                            | 5/14 [00:12<00:21,  2.42s/it]\u001b[A\n",
      " 43%|██████████████████▊                         | 6/14 [00:14<00:19,  2.44s/it]\u001b[A\n",
      " 50%|██████████████████████                      | 7/14 [00:16<00:16,  2.41s/it]\u001b[A\n",
      " 57%|█████████████████████████▏                  | 8/14 [00:19<00:14,  2.44s/it]\u001b[A\n",
      " 64%|████████████████████████████▎               | 9/14 [00:21<00:12,  2.46s/it]\u001b[A\n",
      " 71%|██████████████████████████████▋            | 10/14 [00:24<00:09,  2.40s/it]\u001b[A\n",
      " 79%|█████████████████████████████████▊         | 11/14 [00:26<00:07,  2.43s/it]\u001b[A\n",
      " 86%|████████████████████████████████████▊      | 12/14 [00:28<00:04,  2.38s/it]\u001b[A\n",
      " 93%|███████████████████████████████████████▉   | 13/14 [00:31<00:02,  2.41s/it]\u001b[A\n",
      "100%|███████████████████████████████████████████| 14/14 [00:33<00:00,  2.42s/it]\u001b[A\n"
     ]
    },
    {
     "data": {
      "text/plain": [
       "array([[0.        , 0.54054054, 0.02702703, 0.        , 0.08108108,\n",
       "        0.        , 0.        , 0.        , 0.18918919, 0.        ,\n",
       "        0.        , 0.05405405, 0.05405405, 0.05405405],\n",
       "       [0.5625    , 0.        , 0.        , 0.        , 0.39583333,\n",
       "        0.        , 0.        , 0.        , 0.02083333, 0.        ,\n",
       "        0.        , 0.02083333, 0.        , 0.        ],\n",
       "       [0.05      , 0.        , 0.        , 0.05      , 0.15      ,\n",
       "        0.05      , 0.        , 0.        , 0.        , 0.2       ,\n",
       "        0.05      , 0.35      , 0.        , 0.1       ],\n",
       "       [0.        , 0.        , 0.02702703, 0.        , 0.        ,\n",
       "        0.        , 0.        , 0.62162162, 0.        , 0.35135135,\n",
       "        0.        , 0.        , 0.        , 0.        ],\n",
       "       [0.07692308, 0.51923077, 0.03846154, 0.        , 0.        ,\n",
       "        0.        , 0.28846154, 0.01923077, 0.        , 0.        ,\n",
       "        0.        , 0.03846154, 0.        , 0.01923077],\n",
       "       [0.        , 0.        , 0.        , 0.        , 0.        ,\n",
       "        0.        , 0.        , 0.        , 1.        , 0.        ,\n",
       "        0.        , 0.        , 0.        , 0.        ],\n",
       "       [0.        , 0.        , 0.05263158, 0.        , 0.60526316,\n",
       "        0.        , 0.        , 0.31578947, 0.        , 0.        ,\n",
       "        0.        , 0.        , 0.        , 0.02631579],\n",
       "       [0.        , 0.        , 0.        , 0.35135135, 0.02702703,\n",
       "        0.        , 0.62162162, 0.        , 0.        , 0.        ,\n",
       "        0.        , 0.        , 0.        , 0.        ],\n",
       "       [0.        , 0.        , 0.        , 0.        , 0.1       ,\n",
       "        0.        , 0.        , 0.        , 0.        , 0.        ,\n",
       "        0.9       , 0.        , 0.        , 0.        ],\n",
       "       [0.02857143, 0.        , 0.        , 0.6       , 0.        ,\n",
       "        0.        , 0.        , 0.        , 0.        , 0.        ,\n",
       "        0.        , 0.37142857, 0.        , 0.        ],\n",
       "       [0.1       , 0.        , 0.6       , 0.        , 0.        ,\n",
       "        0.        , 0.        , 0.        , 0.1       , 0.        ,\n",
       "        0.        , 0.2       , 0.        , 0.        ],\n",
       "       [0.        , 0.        , 0.19354839, 0.06451613, 0.03225806,\n",
       "        0.        , 0.        , 0.        , 0.        , 0.58064516,\n",
       "        0.        , 0.        , 0.03225806, 0.09677419],\n",
       "       [0.66666667, 0.        , 0.33333333, 0.        , 0.        ,\n",
       "        0.        , 0.        , 0.        , 0.        , 0.        ,\n",
       "        0.        , 0.        , 0.        , 0.        ],\n",
       "       [0.1       , 0.1       , 0.2       , 0.        , 0.1       ,\n",
       "        0.        , 0.        , 0.1       , 0.        , 0.        ,\n",
       "        0.        , 0.4       , 0.        , 0.        ]])"
      ]
     },
     "metadata": {},
     "output_type": "display_data"
    },
    {
     "name": "stderr",
     "output_type": "stream",
     "text": [
      "100%|█████████████████████████████████████| 120/120 [21:42:47<00:00, 651.39s/it]\n"
     ]
    }
   ],
   "source": [
    "# Extraction of clusters \n",
    "geo_clusters = {}\n",
    "geo_clusters_img = {}\n",
    "geo_clusters_transit = {}\n",
    "geo_clusters_transit_df = {}\n",
    "users = sorted(data['user'].unique())\n",
    "for user in tqdm(users):\n",
    "\n",
    "    geo = data[data['user']==user].reset_index(drop=True).copy()\n",
    "\n",
    "    clusters, m, transit_matrix, transit_df = get_mmc_clusters_stavectors(geo)\n",
    "\n",
    "    geo_clusters[user] = clusters\n",
    "    geo_clusters_img[user] = m\n",
    "    geo_clusters_transit[user] = transit_matrix\n",
    "    geo_clusters_transit_df[user] = transit_df\n"
   ]
  },
  {
   "cell_type": "code",
   "execution_count": 14,
   "id": "6474843d",
   "metadata": {},
   "outputs": [],
   "source": [
    "import pickle"
   ]
  },
  {
   "cell_type": "code",
   "execution_count": 17,
   "id": "06fcebd4",
   "metadata": {},
   "outputs": [],
   "source": [
    "with open('../data/geo_clusters', 'wb') as f:\n",
    "    pickle.dump(geo_clusters,f)"
   ]
  },
  {
   "cell_type": "code",
   "execution_count": 19,
   "id": "dde7bef5",
   "metadata": {},
   "outputs": [],
   "source": [
    "with open('../data/geo_clusters_transit', 'wb') as f:\n",
    "    pickle.dump(geo_clusters_transit,f)"
   ]
  },
  {
   "cell_type": "code",
   "execution_count": 24,
   "id": "48ae5c5f",
   "metadata": {},
   "outputs": [],
   "source": [
    "with open('../data/geo_clusters_transit_df', 'wb') as f:\n",
    "    pickle.dump(geo_clusters_transit_df,f)"
   ]
  },
  {
   "cell_type": "code",
   "execution_count": null,
   "id": "cb11d881",
   "metadata": {},
   "outputs": [],
   "source": []
  },
  {
   "cell_type": "code",
   "execution_count": null,
   "id": "de59f198",
   "metadata": {},
   "outputs": [],
   "source": []
  },
  {
   "cell_type": "code",
   "execution_count": null,
   "id": "c5642e97",
   "metadata": {},
   "outputs": [],
   "source": []
  },
  {
   "cell_type": "code",
   "execution_count": null,
   "id": "a357b9c5",
   "metadata": {},
   "outputs": [],
   "source": []
  },
  {
   "cell_type": "code",
   "execution_count": null,
   "id": "dc552cba",
   "metadata": {},
   "outputs": [],
   "source": []
  },
  {
   "cell_type": "code",
   "execution_count": null,
   "id": "9496417e",
   "metadata": {},
   "outputs": [],
   "source": [
    "# Extraction of clusters \n",
    "geo_clusters = {}\n",
    "geo_clusters_img = {}\n",
    "geo_clusters_transit = {}\n",
    "geo_clusters_transit_df = {}\n",
    "users = sorted(data['user'].unique())\n",
    "for user in tqdm(users):\n",
    "\n",
    "    geo = data[data['user']==user].reset_index(drop=True).copy()\n",
    "\n",
    "    clusters, m, transit_matrix, transit_df = get_mmc_clusters_stavectors(geo)\n",
    "\n",
    "    geo_clusters[user] = clusters\n",
    "    geo_clusters_img[user] = m\n",
    "    geo_clusters_transit[user] = transit_matrix\n",
    "    geo_clusters_transit_df[user] = transit_df\n"
   ]
  },
  {
   "cell_type": "code",
   "execution_count": null,
   "id": "8aea75a5",
   "metadata": {},
   "outputs": [],
   "source": []
  },
  {
   "cell_type": "code",
   "execution_count": null,
   "id": "94aa5815",
   "metadata": {},
   "outputs": [],
   "source": []
  },
  {
   "cell_type": "code",
   "execution_count": null,
   "id": "9103cb10",
   "metadata": {},
   "outputs": [],
   "source": []
  },
  {
   "cell_type": "code",
   "execution_count": null,
   "id": "f52d5931",
   "metadata": {},
   "outputs": [],
   "source": []
  },
  {
   "cell_type": "code",
   "execution_count": null,
   "id": "a442142f",
   "metadata": {},
   "outputs": [],
   "source": []
  },
  {
   "cell_type": "code",
   "execution_count": null,
   "id": "2c31d134",
   "metadata": {},
   "outputs": [],
   "source": [
    "# Creating a Trajectory DF to analyze the impact of filtering by velocity\n",
    "trgeo = skmob.TrajDataFrame(\n",
    "    data[data['user']==10], \n",
    "    datetime='hour',\n",
    "    user_id='user'\n",
    ")"
   ]
  },
  {
   "cell_type": "code",
   "execution_count": null,
   "id": "ab75062a",
   "metadata": {},
   "outputs": [],
   "source": []
  },
  {
   "cell_type": "code",
   "execution_count": null,
   "id": "04ef7984",
   "metadata": {
    "scrolled": true
   },
   "outputs": [],
   "source": [
    "# 1. Noise Filtering\n",
    "print(trgeo.shape)\n",
    "trgeo = filtering.filter(trgeo, max_speed_kmh=0.1)\n",
    "print(trgeo.shape)"
   ]
  },
  {
   "cell_type": "code",
   "execution_count": null,
   "id": "d5121bfa",
   "metadata": {},
   "outputs": [],
   "source": [
    "for user in data[data['user']<10]['user'].unique():\n",
    "    trgeo = skmob.TrajDataFrame(data[data['user']==user], datetime='hour',user_id='user')\n",
    "    val1 = trgeo.shape[0]\n",
    "    trgeo = filtering.filter(trgeo, max_speed_kmh=0.2)\n",
    "    val2 = trgeo.shape[0]\n",
    "    print('Puntos reducidos de {:,} a {:,}'.format(val1,val2))"
   ]
  },
  {
   "cell_type": "code",
   "execution_count": null,
   "id": "321363e0",
   "metadata": {},
   "outputs": [],
   "source": [
    "3305 / 108607"
   ]
  },
  {
   "cell_type": "code",
   "execution_count": null,
   "id": "e3b9dc28",
   "metadata": {},
   "outputs": [],
   "source": [
    "print('a')"
   ]
  },
  {
   "cell_type": "code",
   "execution_count": null,
   "id": "24bad7ed-bb1c-4fc4-96c1-7b20e39dd119",
   "metadata": {},
   "outputs": [],
   "source": []
  },
  {
   "cell_type": "code",
   "execution_count": null,
   "id": "d4f82b17-203d-4331-80e6-eb780cfc7745",
   "metadata": {},
   "outputs": [],
   "source": []
  },
  {
   "cell_type": "code",
   "execution_count": null,
   "id": "3e583198-89d1-427e-942e-207fdef000b6",
   "metadata": {},
   "outputs": [],
   "source": []
  },
  {
   "cell_type": "code",
   "execution_count": null,
   "id": "986bff69",
   "metadata": {},
   "outputs": [],
   "source": [
    "aux_dict = {}\n",
    "aux_dict['user'] = []\n",
    "aux_dict['number_points'] = []\n",
    "aux_dict['min_tmstmp'] = []\n",
    "aux_dict['max_tmstmp'] = []\n",
    "for usr in data['user'].unique():\n",
    "    aux_dict['user'].append(usr)\n",
    "    aux_dict['number_points'].append(data[data['user']==usr].shape[0])\n",
    "    aux_dict['min_tmstmp'].append(data[data['user']==usr]['hour'].min())\n",
    "    aux_dict['max_tmstmp'].append(data[data['user']==usr]['hour'].max())\n",
    "aux_dict = pd.DataFrame(aux_dict)\n",
    "aux_dict['duracion'] = (aux_dict['max_tmstmp'] - aux_dict['min_tmstmp']).dt.total_seconds()/ 60\n",
    "aux_dict.sort_values(by='duracion', ascending=True, inplace=True)\n",
    "display(aux_dict)"
   ]
  },
  {
   "cell_type": "code",
   "execution_count": null,
   "id": "479f373e",
   "metadata": {},
   "outputs": [],
   "source": [
    "fig,ax = plt.subplots(figsize=(6,4))\n",
    "ax.set_xscale('log')\n",
    "plt.scatter(aux_dict['duracion'].values, aux_dict['number_points'].values, color='r')\n",
    "plt.plot(aux_dict['duracion'].values, aux_dict['number_points'].values , color='r', linestyle='--')\n",
    "\"\"\"\n",
    "plt.axvline(60,0)\n",
    "plt.text(60,0, 'H')\n",
    "plt.axvline(60*24,0)\n",
    "plt.text(60*24,0, 'D')\n",
    "\"\"\"\n",
    "plt.axvline(60*24*7,0)\n",
    "plt.text(60*24*7,0, 'S')\n",
    "plt.axvline(60*24*7*30,0)\n",
    "plt.text(60*24*7*30,0, 'M')\n",
    "ax.set_xlabel('Tiempo en minutos - log')\n",
    "ax.set_ylabel('Cantidad de puntos')\n",
    "#plt.axvline(60*24*7*30*365,0)\n",
    "#plt.text(60*24*7*30*365,0, 'Y')\n",
    "#plt.show()"
   ]
  },
  {
   "cell_type": "code",
   "execution_count": null,
   "id": "0ebb046a",
   "metadata": {},
   "outputs": [],
   "source": [
    "fig,ax = plt.subplots(figsize=(12,6))\n",
    "#ax.set_xscale('log')\n",
    "plt.scatter(aux_dict['duracion'].values, aux_dict['number_points'].values)\n",
    "plt.plot(aux_dict['duracion'].values, aux_dict['number_points'].values )\n",
    "\n",
    "#plt.show()"
   ]
  },
  {
   "cell_type": "code",
   "execution_count": null,
   "id": "565f7c9f",
   "metadata": {},
   "outputs": [],
   "source": []
  },
  {
   "cell_type": "code",
   "execution_count": null,
   "id": "e89a3f6d",
   "metadata": {},
   "outputs": [],
   "source": []
  },
  {
   "cell_type": "code",
   "execution_count": null,
   "id": "2f060c80-3953-4808-a706-5c092d9af2a5",
   "metadata": {},
   "outputs": [],
   "source": []
  },
  {
   "cell_type": "code",
   "execution_count": null,
   "id": "3bbb2b46-b1e6-48b2-96a0-88a80e0cd2eb",
   "metadata": {},
   "outputs": [],
   "source": []
  },
  {
   "cell_type": "code",
   "execution_count": null,
   "id": "b7072988-6068-445f-9840-4005c655b3d4",
   "metadata": {},
   "outputs": [],
   "source": []
  },
  {
   "cell_type": "code",
   "execution_count": null,
   "id": "a1c036f0-9478-43a7-9455-aa79e2a05c18",
   "metadata": {},
   "outputs": [],
   "source": []
  },
  {
   "cell_type": "code",
   "execution_count": null,
   "id": "57bc93d3-b741-4ddc-8db6-02c5a5d75fb0",
   "metadata": {},
   "outputs": [],
   "source": []
  },
  {
   "cell_type": "code",
   "execution_count": null,
   "id": "99f193ea-f9dc-4407-8438-9337a9d3fee9",
   "metadata": {},
   "outputs": [],
   "source": []
  },
  {
   "cell_type": "code",
   "execution_count": null,
   "id": "33539a8d-6504-4737-abe0-efb83c512e6c",
   "metadata": {},
   "outputs": [],
   "source": []
  },
  {
   "cell_type": "code",
   "execution_count": null,
   "id": "861dd5e9-1f00-443b-99ee-cc7f1c5c3ff6",
   "metadata": {},
   "outputs": [],
   "source": []
  },
  {
   "cell_type": "code",
   "execution_count": null,
   "id": "cc167e4a-3d8e-49aa-9bea-bfd3d1fd4bb8",
   "metadata": {},
   "outputs": [],
   "source": []
  },
  {
   "cell_type": "code",
   "execution_count": null,
   "id": "2f73e418",
   "metadata": {},
   "outputs": [],
   "source": []
  },
  {
   "cell_type": "code",
   "execution_count": null,
   "id": "62bd3bad-f4ec-45d8-95f8-84b6908dc9bf",
   "metadata": {},
   "outputs": [],
   "source": []
  },
  {
   "cell_type": "code",
   "execution_count": null,
   "id": "862921c8-2cca-4dc3-aa17-1425f00e5240",
   "metadata": {},
   "outputs": [],
   "source": [
    "data['seconds_diff'].nlargest(30)"
   ]
  },
  {
   "cell_type": "markdown",
   "id": "8d4f4623-e595-4e14-bb73-643ac8f0f893",
   "metadata": {},
   "source": [
    "-------|-----|-----------|---------|\n",
    "\n",
    "--xxXx--|--xX-x--|--x--xX--|"
   ]
  },
  {
   "cell_type": "code",
   "execution_count": null,
   "id": "7ceb033c-129b-4f63-97a8-b1d57e209e96",
   "metadata": {},
   "outputs": [],
   "source": [
    "data['distance_to_last_km'].nlargest(30)"
   ]
  },
  {
   "cell_type": "code",
   "execution_count": null,
   "id": "bc36b2f0-01c7-4451-b7e2-01e7dc4ade24",
   "metadata": {},
   "outputs": [],
   "source": []
  }
 ],
 "metadata": {
  "kernelspec": {
   "display_name": "Python [conda env:skmob]",
   "language": "python",
   "name": "skmob"
  },
  "language_info": {
   "codemirror_mode": {
    "name": "ipython",
    "version": 3
   },
   "file_extension": ".py",
   "mimetype": "text/x-python",
   "name": "python",
   "nbconvert_exporter": "python",
   "pygments_lexer": "ipython3",
   "version": "3.7.10"
  }
 },
 "nbformat": 4,
 "nbformat_minor": 5
}
