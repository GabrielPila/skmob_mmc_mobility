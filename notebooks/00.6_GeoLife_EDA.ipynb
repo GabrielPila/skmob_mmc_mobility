{
 "cells": [
  {
   "cell_type": "markdown",
   "id": "95096085-b860-42d3-8cb0-6612455b2ddf",
   "metadata": {},
   "source": [
    "# MMC Implementation"
   ]
  },
  {
   "cell_type": "markdown",
   "id": "d18b83e5-c0b9-495d-afef-313b031af35b",
   "metadata": {},
   "source": [
    "## Correct Implementation"
   ]
  },
  {
   "cell_type": "code",
   "execution_count": 1,
   "id": "30d91280-15df-4e09-8c77-6729023ac420",
   "metadata": {},
   "outputs": [],
   "source": [
    "import numpy as np\n",
    "#import seaborn as sns\n",
    "import matplotlib.pyplot as plt\n",
    "import pandas as pd\n",
    "import warnings\n",
    "import skmob\n",
    "from tqdm import tqdm\n",
    "import sys\n",
    "sys.path.append('../')\n",
    "from src.geo_utils import (get_clusters_from_tdf,\n",
    "                            assign_tdf_points_to_clusters,\n",
    "                            get_mmc_transitions,\n",
    "                            get_stationary_vector)\n"
   ]
  },
  {
   "cell_type": "code",
   "execution_count": 9,
   "id": "6ac64216-5a4b-45b9-be1d-7927036da690",
   "metadata": {},
   "outputs": [],
   "source": [
    "import seaborn as sns"
   ]
  },
  {
   "cell_type": "code",
   "execution_count": 2,
   "id": "17b8b922-edea-444c-8fc8-68ea1fc498cd",
   "metadata": {},
   "outputs": [],
   "source": [
    "warnings.filterwarnings('ignore')"
   ]
  },
  {
   "cell_type": "markdown",
   "id": "6031bc59-4736-47d5-bd59-b3c3c46e3462",
   "metadata": {},
   "source": [
    "### Evaluation of Implementation"
   ]
  },
  {
   "cell_type": "code",
   "execution_count": 128,
   "id": "3971c63f-560a-4020-9759-80ce692771c9",
   "metadata": {},
   "outputs": [],
   "source": [
    "# Reading 10 frames\n",
    "data = pd.read_csv('../data/geo_000_009.csv.zip')\n",
    "\n",
    "geo_columns = ['user', 'hour', 'lat', 'lng']\n",
    "\n",
    "data['hour'] = data['date'] + ' ' + data['time']\n",
    "data['hour'] = pd.to_datetime(data['hour'])\n",
    "\n",
    "data['user'] = data['user_id'].map(int)\n",
    "\n",
    "data = data[geo_columns]\n",
    "data = data.drop_duplicates()\n",
    "data = data.groupby(['user','hour'], as_index=False).nth(0)"
   ]
  },
  {
   "cell_type": "code",
   "execution_count": 133,
   "id": "52a347db-de27-46bf-aa8c-5ab25aa5e622",
   "metadata": {},
   "outputs": [],
   "source": [
    "user = data[data['user']==1]\n",
    "user = user.sort_values('hour')"
   ]
  },
  {
   "cell_type": "code",
   "execution_count": 11,
   "id": "7f739e44-b0dc-4eca-81de-7b97e0925284",
   "metadata": {},
   "outputs": [
    {
     "data": {
      "text/plain": [
       "<AxesSubplot:xlabel='lat', ylabel='lng'>"
      ]
     },
     "execution_count": 11,
     "metadata": {},
     "output_type": "execute_result"
    },
    {
     "data": {
      "image/png": "[encoded data removed]",
      "text/plain": [
       "<Figure size 432x288 with 1 Axes>"
      ]
     },
     "metadata": {
      "needs_background": "light"
     },
     "output_type": "display_data"
    }
   ],
   "source": [
    "sns.kdeplot(data=user, x='lat',y='lng', fill=True)"
   ]
  },
  {
   "cell_type": "code",
   "execution_count": 149,
   "id": "3efa4447-1696-4198-b012-51228172ac45",
   "metadata": {},
   "outputs": [],
   "source": [
    "data['seconds_diff'] = data.groupby('user')['hour'].diff(1).dt.seconds"
   ]
  },
  {
   "cell_type": "code",
   "execution_count": 150,
   "id": "68aaeda0-6752-4070-bc7a-0beb3253934a",
   "metadata": {},
   "outputs": [
    {
     "data": {
      "text/plain": [
       "5.0     0.754824\n",
       "2.0     0.831026\n",
       "1.0     0.900795\n",
       "3.0     0.969252\n",
       "4.0     0.989184\n",
       "10.0    0.990323\n",
       "6.0     0.991101\n",
       "15.0    0.991637\n",
       "20.0    0.991989\n",
       "25.0    0.992241\n",
       "30.0    0.992455\n",
       "35.0    0.992614\n",
       "40.0    0.992747\n",
       "8.0     0.992859\n",
       "45.0    0.992969\n",
       "50.0    0.993075\n",
       "7.0     0.993164\n",
       "55.0    0.993247\n",
       "65.0    0.993318\n",
       "60.0    0.993388\n",
       "Name: seconds_diff, dtype: float64"
      ]
     },
     "execution_count": 150,
     "metadata": {},
     "output_type": "execute_result"
    }
   ],
   "source": [
    "data['seconds_diff'].value_counts(normalize=True).cumsum().head(20)"
   ]
  },
  {
   "cell_type": "code",
   "execution_count": 151,
   "id": "f8a2cacb-52dd-4bcb-96a0-e5fd141e971b",
   "metadata": {},
   "outputs": [
    {
     "data": {
      "text/plain": [
       "5.0      1392072\n",
       "2.0       140534\n",
       "1.0       128671\n",
       "3.0       126251\n",
       "4.0        36759\n",
       "10.0        2100\n",
       "6.0         1436\n",
       "15.0         988\n",
       "20.0         648\n",
       "25.0         465\n",
       "30.0         395\n",
       "35.0         294\n",
       "40.0         244\n",
       "8.0          207\n",
       "45.0         204\n",
       "50.0         195\n",
       "7.0          164\n",
       "55.0         152\n",
       "65.0         131\n",
       "60.0         130\n",
       "195.0        124\n",
       "205.0        112\n",
       "75.0         112\n",
       "180.0        110\n",
       "185.0        106\n",
       "190.0        105\n",
       "70.0         104\n",
       "80.0         100\n",
       "200.0         98\n",
       "215.0         97\n",
       "Name: seconds_diff, dtype: int64"
      ]
     },
     "execution_count": 151,
     "metadata": {},
     "output_type": "execute_result"
    }
   ],
   "source": [
    "data['seconds_diff'].value_counts(normalize=False).head(30)"
   ]
  },
  {
   "cell_type": "markdown",
   "id": "c15c3ce9-f1a5-4d67-8ed4-c8bdb5fbd38f",
   "metadata": {},
   "source": [
    "- El 99% de los registros están distanciados entre 0 y 5 segundos"
   ]
  },
  {
   "cell_type": "code",
   "execution_count": 192,
   "id": "ed5dbfdc-c671-4bec-82a6-add9ec0bc32e",
   "metadata": {},
   "outputs": [
    {
     "data": {
      "text/plain": [
       "7614       86049.0\n",
       "507425     85665.0\n",
       "1785004    85427.0\n",
       "512970     85231.0\n",
       "1569640    85065.0\n",
       "451395     85048.0\n",
       "1775221    84923.0\n",
       "1395057    84589.0\n",
       "1072280    84519.0\n",
       "12942      84457.0\n",
       "695895     84426.0\n",
       "1508024    84248.0\n",
       "1555866    84166.0\n",
       "1727969    83731.0\n",
       "518430     83384.0\n",
       "1758294    83125.0\n",
       "408196     83070.0\n",
       "1769727    82727.0\n",
       "1563363    82658.0\n",
       "1625746    82403.0\n",
       "757012     82228.0\n",
       "1794658    82037.0\n",
       "414638     81928.0\n",
       "495151     81844.0\n",
       "514374     81386.0\n",
       "1705167    80655.0\n",
       "1562119    80125.0\n",
       "1140719    79925.0\n",
       "91655      79870.0\n",
       "933705     79870.0\n",
       "Name: seconds_diff, dtype: float64"
      ]
     },
     "execution_count": 192,
     "metadata": {},
     "output_type": "execute_result"
    }
   ],
   "source": [
    "data['seconds_diff'].nlargest(30)"
   ]
  },
  {
   "cell_type": "code",
   "execution_count": null,
   "id": "ffe48031-2db3-4f31-ae32-f83020b7fa5b",
   "metadata": {},
   "outputs": [],
   "source": []
  },
  {
   "cell_type": "code",
   "execution_count": 152,
   "id": "acf2bca3-8aa6-49db-a4d4-79e43d42d9e5",
   "metadata": {},
   "outputs": [],
   "source": [
    "data[['lat_last','lng_last']] = data.groupby('user').shift(1)[['lat','lng']]"
   ]
  },
  {
   "cell_type": "code",
   "execution_count": 153,
   "id": "cdc75fed-ccef-441c-bc4b-8ba9e840348e",
   "metadata": {},
   "outputs": [
    {
     "data": {
      "text/html": [
       "<div>\n",
       "<style scoped>\n",
       "    .dataframe tbody tr th:only-of-type {\n",
       "        vertical-align: middle;\n",
       "    }\n",
       "\n",
       "    .dataframe tbody tr th {\n",
       "        vertical-align: top;\n",
       "    }\n",
       "\n",
       "    .dataframe thead th {\n",
       "        text-align: right;\n",
       "    }\n",
       "</style>\n",
       "<table border=\"1\" class=\"dataframe\">\n",
       "  <thead>\n",
       "    <tr style=\"text-align: right;\">\n",
       "      <th></th>\n",
       "      <th>user</th>\n",
       "      <th>hour</th>\n",
       "      <th>lat</th>\n",
       "      <th>lng</th>\n",
       "      <th>seconds_diff</th>\n",
       "      <th>lat_last</th>\n",
       "      <th>lng_last</th>\n",
       "      <th>distance_to_last_km</th>\n",
       "    </tr>\n",
       "  </thead>\n",
       "  <tbody>\n",
       "    <tr>\n",
       "      <th>0</th>\n",
       "      <td>0</td>\n",
       "      <td>2008-10-23 02:53:04</td>\n",
       "      <td>39.984702</td>\n",
       "      <td>116.318417</td>\n",
       "      <td>NaN</td>\n",
       "      <td>NaN</td>\n",
       "      <td>NaN</td>\n",
       "      <td>NaN</td>\n",
       "    </tr>\n",
       "    <tr>\n",
       "      <th>1</th>\n",
       "      <td>0</td>\n",
       "      <td>2008-10-23 02:53:10</td>\n",
       "      <td>39.984683</td>\n",
       "      <td>116.318450</td>\n",
       "      <td>6.0</td>\n",
       "      <td>39.984702</td>\n",
       "      <td>116.318417</td>\n",
       "      <td>0.003517</td>\n",
       "    </tr>\n",
       "    <tr>\n",
       "      <th>2</th>\n",
       "      <td>0</td>\n",
       "      <td>2008-10-23 02:53:15</td>\n",
       "      <td>39.984686</td>\n",
       "      <td>116.318417</td>\n",
       "      <td>5.0</td>\n",
       "      <td>39.984683</td>\n",
       "      <td>116.318450</td>\n",
       "      <td>0.002831</td>\n",
       "    </tr>\n",
       "    <tr>\n",
       "      <th>3</th>\n",
       "      <td>0</td>\n",
       "      <td>2008-10-23 02:53:20</td>\n",
       "      <td>39.984688</td>\n",
       "      <td>116.318385</td>\n",
       "      <td>5.0</td>\n",
       "      <td>39.984686</td>\n",
       "      <td>116.318417</td>\n",
       "      <td>0.002735</td>\n",
       "    </tr>\n",
       "    <tr>\n",
       "      <th>4</th>\n",
       "      <td>0</td>\n",
       "      <td>2008-10-23 02:53:25</td>\n",
       "      <td>39.984655</td>\n",
       "      <td>116.318263</td>\n",
       "      <td>5.0</td>\n",
       "      <td>39.984688</td>\n",
       "      <td>116.318385</td>\n",
       "      <td>0.011023</td>\n",
       "    </tr>\n",
       "    <tr>\n",
       "      <th>...</th>\n",
       "      <td>...</td>\n",
       "      <td>...</td>\n",
       "      <td>...</td>\n",
       "      <td>...</td>\n",
       "      <td>...</td>\n",
       "      <td>...</td>\n",
       "      <td>...</td>\n",
       "      <td>...</td>\n",
       "    </tr>\n",
       "    <tr>\n",
       "      <th>1845931</th>\n",
       "      <td>9</td>\n",
       "      <td>2008-12-14 11:17:49</td>\n",
       "      <td>40.002858</td>\n",
       "      <td>116.343537</td>\n",
       "      <td>248.0</td>\n",
       "      <td>40.002878</td>\n",
       "      <td>116.343872</td>\n",
       "      <td>0.028621</td>\n",
       "    </tr>\n",
       "    <tr>\n",
       "      <th>1845932</th>\n",
       "      <td>9</td>\n",
       "      <td>2008-12-14 11:17:54</td>\n",
       "      <td>40.002832</td>\n",
       "      <td>116.343495</td>\n",
       "      <td>5.0</td>\n",
       "      <td>40.002858</td>\n",
       "      <td>116.343537</td>\n",
       "      <td>0.004600</td>\n",
       "    </tr>\n",
       "    <tr>\n",
       "      <th>1845933</th>\n",
       "      <td>9</td>\n",
       "      <td>2008-12-14 11:17:59</td>\n",
       "      <td>40.002821</td>\n",
       "      <td>116.343437</td>\n",
       "      <td>5.0</td>\n",
       "      <td>40.002832</td>\n",
       "      <td>116.343495</td>\n",
       "      <td>0.005089</td>\n",
       "    </tr>\n",
       "    <tr>\n",
       "      <th>1845934</th>\n",
       "      <td>9</td>\n",
       "      <td>2008-12-14 11:18:04</td>\n",
       "      <td>40.002790</td>\n",
       "      <td>116.343383</td>\n",
       "      <td>5.0</td>\n",
       "      <td>40.002821</td>\n",
       "      <td>116.343437</td>\n",
       "      <td>0.005748</td>\n",
       "    </tr>\n",
       "    <tr>\n",
       "      <th>1845935</th>\n",
       "      <td>9</td>\n",
       "      <td>2008-12-14 11:18:09</td>\n",
       "      <td>40.002778</td>\n",
       "      <td>116.343326</td>\n",
       "      <td>5.0</td>\n",
       "      <td>40.002790</td>\n",
       "      <td>116.343383</td>\n",
       "      <td>0.005035</td>\n",
       "    </tr>\n",
       "  </tbody>\n",
       "</table>\n",
       "<p>1844244 rows × 8 columns</p>\n",
       "</div>"
      ],
      "text/plain": [
       "         user                hour        lat         lng  seconds_diff  \\\n",
       "0           0 2008-10-23 02:53:04  39.984702  116.318417           NaN   \n",
       "1           0 2008-10-23 02:53:10  39.984683  116.318450           6.0   \n",
       "2           0 2008-10-23 02:53:15  39.984686  116.318417           5.0   \n",
       "3           0 2008-10-23 02:53:20  39.984688  116.318385           5.0   \n",
       "4           0 2008-10-23 02:53:25  39.984655  116.318263           5.0   \n",
       "...       ...                 ...        ...         ...           ...   \n",
       "1845931     9 2008-12-14 11:17:49  40.002858  116.343537         248.0   \n",
       "1845932     9 2008-12-14 11:17:54  40.002832  116.343495           5.0   \n",
       "1845933     9 2008-12-14 11:17:59  40.002821  116.343437           5.0   \n",
       "1845934     9 2008-12-14 11:18:04  40.002790  116.343383           5.0   \n",
       "1845935     9 2008-12-14 11:18:09  40.002778  116.343326           5.0   \n",
       "\n",
       "          lat_last    lng_last  distance_to_last_km  \n",
       "0              NaN         NaN                  NaN  \n",
       "1        39.984702  116.318417             0.003517  \n",
       "2        39.984683  116.318450             0.002831  \n",
       "3        39.984686  116.318417             0.002735  \n",
       "4        39.984688  116.318385             0.011023  \n",
       "...            ...         ...                  ...  \n",
       "1845931  40.002878  116.343872             0.028621  \n",
       "1845932  40.002858  116.343537             0.004600  \n",
       "1845933  40.002832  116.343495             0.005089  \n",
       "1845934  40.002821  116.343437             0.005748  \n",
       "1845935  40.002790  116.343383             0.005035  \n",
       "\n",
       "[1844244 rows x 8 columns]"
      ]
     },
     "execution_count": 153,
     "metadata": {},
     "output_type": "execute_result"
    }
   ],
   "source": [
    "data"
   ]
  },
  {
   "cell_type": "code",
   "execution_count": 154,
   "id": "5c16f8a9-aa49-49c0-9611-59ac801f3167",
   "metadata": {},
   "outputs": [],
   "source": [
    "def get_distance(row):\n",
    "    lat, lng, lat_last, lng_last = row['lat'], row['lng'], row['lat_last'], row['lng_last']\n",
    "    return skmob.utils.utils.distance((lat, lng), (lat_last, lng_last))"
   ]
  },
  {
   "cell_type": "code",
   "execution_count": 155,
   "id": "70f5de9a-a254-4be4-9ff6-e0561e54aead",
   "metadata": {},
   "outputs": [],
   "source": [
    "data['distance_to_last_km'] = data.apply(get_distance, axis=1) \n",
    "data['speed_mps'] = data['distance_to_last_km'] / data['seconds_diff'] * 1000"
   ]
  },
  {
   "cell_type": "code",
   "execution_count": 156,
   "id": "49fa53a3-90f2-4d28-a604-5d4d242409a7",
   "metadata": {},
   "outputs": [
    {
     "data": {
      "text/plain": [
       "<AxesSubplot:>"
      ]
     },
     "execution_count": 156,
     "metadata": {},
     "output_type": "execute_result"
    },
    {
     "data": {
      "image/png": "[encoded data removed]",
      "text/plain": [
       "<Figure size 432x288 with 1 Axes>"
      ]
     },
     "metadata": {
      "needs_background": "light"
     },
     "output_type": "display_data"
    }
   ],
   "source": [
    "data['distance_to_last_km'].hist()"
   ]
  },
  {
   "cell_type": "markdown",
   "id": "fa6e37fc-0c4f-4743-b146-6399842873b9",
   "metadata": {},
   "source": [
    "-------|-----|-----------|---------|\n",
    "\n",
    "--xxXx--|--xX-x--|--x--xX--|"
   ]
  },
  {
   "cell_type": "code",
   "execution_count": 194,
   "id": "ff058f31-08db-4ea8-baeb-cc8935ec8880",
   "metadata": {},
   "outputs": [
    {
     "data": {
      "text/plain": [
       "1525575    2001.218375\n",
       "1520070    1994.344900\n",
       "97123      1081.669208\n",
       "939173     1081.669208\n",
       "1346992    1081.536654\n",
       "150130     1077.944217\n",
       "992180     1077.944217\n",
       "1352858    1076.852294\n",
       "160679     1075.844012\n",
       "1002729    1075.844012\n",
       "102798     1075.794203\n",
       "944848     1075.794203\n",
       "834474      572.986636\n",
       "423067      541.871785\n",
       "1170042     442.393688\n",
       "1558080     426.398341\n",
       "1560352     426.291883\n",
       "750317      394.941580\n",
       "447718      231.795536\n",
       "847476      190.899617\n",
       "446666      165.851492\n",
       "1569640     118.908134\n",
       "1569088      90.527781\n",
       "1616976      77.289171\n",
       "1612317      71.716266\n",
       "447251       64.190462\n",
       "1596208      30.764803\n",
       "460192       26.282796\n",
       "1649785      22.989909\n",
       "673294       22.801299\n",
       "Name: distance_to_last_km, dtype: float64"
      ]
     },
     "execution_count": 194,
     "metadata": {},
     "output_type": "execute_result"
    }
   ],
   "source": [
    "data['distance_to_last_km'].nlargest(30)"
   ]
  },
  {
   "cell_type": "code",
   "execution_count": 188,
   "id": "67a9d1c5-defd-4255-8f7c-93c440fb3a55",
   "metadata": {},
   "outputs": [
    {
     "data": {
      "text/plain": [
       "<AxesSubplot:>"
      ]
     },
     "execution_count": 188,
     "metadata": {},
     "output_type": "execute_result"
    },
    {
     "data": {
      "image/png": "[encoded data removed]",
      "text/plain": [
       "<Figure size 432x288 with 1 Axes>"
      ]
     },
     "metadata": {
      "needs_background": "light"
     },
     "output_type": "display_data"
    }
   ],
   "source": [
    "data['speed_mps'].hist()"
   ]
  },
  {
   "cell_type": "code",
   "execution_count": 157,
   "id": "db81482c-de68-434b-a691-24b7aa07da3d",
   "metadata": {},
   "outputs": [
    {
     "data": {
      "text/plain": [
       "<AxesSubplot:xlabel='distance_to_last_km'>"
      ]
     },
     "execution_count": 157,
     "metadata": {},
     "output_type": "execute_result"
    },
    {
     "data": {
      "image/png": "[encoded data removed]",
      "text/plain": [
       "<Figure size 432x288 with 1 Axes>"
      ]
     },
     "metadata": {
      "needs_background": "light"
     },
     "output_type": "display_data"
    }
   ],
   "source": [
    "sns.boxenplot(data['distance_to_last_km'])"
   ]
  },
  {
   "cell_type": "code",
   "execution_count": 165,
   "id": "774e6380-5294-43f1-a265-1c214701499d",
   "metadata": {},
   "outputs": [
    {
     "data": {
      "text/plain": [
       "939173     1081.669208\n",
       "992180     1077.944217\n",
       "1002729    1075.844012\n",
       "944848     1075.794203\n",
       "834474      572.986636\n",
       "Name: distance_to_last_km, dtype: float64"
      ]
     },
     "execution_count": 165,
     "metadata": {},
     "output_type": "execute_result"
    }
   ],
   "source": [
    "data[data['user']==3]['distance_to_last_km'].nlargest()"
   ]
  },
  {
   "cell_type": "code",
   "execution_count": 167,
   "id": "16f1b0b9-0b72-4773-86c2-0b5a0435c5e6",
   "metadata": {},
   "outputs": [
    {
     "data": {
      "text/plain": [
       "695895     84426.0\n",
       "757012     82228.0\n",
       "933705     79870.0\n",
       "544295     79768.0\n",
       "676862     79037.0\n",
       "630893     78567.0\n",
       "655347     77877.0\n",
       "689334     74954.0\n",
       "945408     73473.0\n",
       "755736     73311.0\n",
       "728441     73230.0\n",
       "919711     71812.0\n",
       "1013172    71351.0\n",
       "985749     70516.0\n",
       "936654     68931.0\n",
       "987613     68840.0\n",
       "709241     66907.0\n",
       "927938     65308.0\n",
       "977199     65025.0\n",
       "616552     64782.0\n",
       "Name: seconds_diff, dtype: float64"
      ]
     },
     "execution_count": 167,
     "metadata": {},
     "output_type": "execute_result"
    }
   ],
   "source": [
    "data[data['user']==3]['seconds_diff'].nlargest(20)"
   ]
  },
  {
   "cell_type": "code",
   "execution_count": 161,
   "id": "d923e672-bb0d-459f-b4ee-08d1b4a8dab6",
   "metadata": {},
   "outputs": [
    {
     "data": {
      "text/plain": [
       "1525575    2001.218375\n",
       "1520070    1994.344900\n",
       "97123      1081.669208\n",
       "939173     1081.669208\n",
       "1346992    1081.536654\n",
       "150130     1077.944217\n",
       "992180     1077.944217\n",
       "1352858    1076.852294\n",
       "160679     1075.844012\n",
       "1002729    1075.844012\n",
       "102798     1075.794203\n",
       "944848     1075.794203\n",
       "834474      572.986636\n",
       "423067      541.871785\n",
       "1170042     442.393688\n",
       "1558080     426.398341\n",
       "1560352     426.291883\n",
       "750317      394.941580\n",
       "447718      231.795536\n",
       "847476      190.899617\n",
       "Name: distance_to_last_km, dtype: float64"
      ]
     },
     "execution_count": 161,
     "metadata": {},
     "output_type": "execute_result"
    }
   ],
   "source": [
    "data['distance_to_last_km'].nlargest(20)"
   ]
  },
  {
   "cell_type": "code",
   "execution_count": 158,
   "id": "4a746a72-3f7b-45a6-8578-d87375cc4190",
   "metadata": {},
   "outputs": [
    {
     "data": {
      "text/html": [
       "<div>\n",
       "<style scoped>\n",
       "    .dataframe tbody tr th:only-of-type {\n",
       "        vertical-align: middle;\n",
       "    }\n",
       "\n",
       "    .dataframe tbody tr th {\n",
       "        vertical-align: top;\n",
       "    }\n",
       "\n",
       "    .dataframe thead th {\n",
       "        text-align: right;\n",
       "    }\n",
       "</style>\n",
       "<table border=\"1\" class=\"dataframe\">\n",
       "  <thead>\n",
       "    <tr style=\"text-align: right;\">\n",
       "      <th></th>\n",
       "      <th>user</th>\n",
       "      <th>hour</th>\n",
       "      <th>lat</th>\n",
       "      <th>lng</th>\n",
       "      <th>seconds_diff</th>\n",
       "      <th>lat_last</th>\n",
       "      <th>lng_last</th>\n",
       "      <th>distance_to_last_km</th>\n",
       "    </tr>\n",
       "  </thead>\n",
       "  <tbody>\n",
       "    <tr>\n",
       "      <th>1525575</th>\n",
       "      <td>5</td>\n",
       "      <td>2008-12-04 09:48:05</td>\n",
       "      <td>40.004663</td>\n",
       "      <td>116.322377</td>\n",
       "      <td>35306.0</td>\n",
       "      <td>22.161496</td>\n",
       "      <td>113.553496</td>\n",
       "      <td>2001.218375</td>\n",
       "    </tr>\n",
       "  </tbody>\n",
       "</table>\n",
       "</div>"
      ],
      "text/plain": [
       "         user                hour        lat         lng  seconds_diff  \\\n",
       "1525575     5 2008-12-04 09:48:05  40.004663  116.322377       35306.0   \n",
       "\n",
       "          lat_last    lng_last  distance_to_last_km  \n",
       "1525575  22.161496  113.553496          2001.218375  "
      ]
     },
     "execution_count": 158,
     "metadata": {},
     "output_type": "execute_result"
    }
   ],
   "source": [
    "data[data['distance_to_last_km']==data['distance_to_last_km'].max()]"
   ]
  },
  {
   "cell_type": "code",
   "execution_count": 144,
   "id": "165002a7-1cf5-488f-a4de-d67f61e92a43",
   "metadata": {},
   "outputs": [
    {
     "data": {
      "text/plain": [
       "0.000000    91694\n",
       "0.000111     5590\n",
       "0.000111     3374\n",
       "0.000222     3246\n",
       "0.000334     3048\n",
       "            ...  \n",
       "0.007101        1\n",
       "0.006650        1\n",
       "0.012126        1\n",
       "0.010262        1\n",
       "0.015240        1\n",
       "Name: distance_to_last_km, Length: 1553660, dtype: int64"
      ]
     },
     "execution_count": 144,
     "metadata": {},
     "output_type": "execute_result"
    }
   ],
   "source": [
    "data['distance_to_last_km'].value_counts()"
   ]
  },
  {
   "cell_type": "code",
   "execution_count": 145,
   "id": "a767fe1b-e106-40eb-b318-90c6b895a211",
   "metadata": {},
   "outputs": [
    {
     "data": {
      "text/plain": [
       "0.000000    4.971913\n",
       "0.000111    0.303106\n",
       "0.000111    0.182948\n",
       "0.000222    0.176007\n",
       "0.000334    0.165271\n",
       "              ...   \n",
       "0.007101    0.000054\n",
       "0.006650    0.000054\n",
       "0.012126    0.000054\n",
       "0.010262    0.000054\n",
       "0.015240    0.000054\n",
       "Name: distance_to_last_km, Length: 1553660, dtype: float64"
      ]
     },
     "execution_count": 145,
     "metadata": {},
     "output_type": "execute_result"
    }
   ],
   "source": [
    "data['distance_to_last_km'].value_counts(normalize=True)*100"
   ]
  },
  {
   "cell_type": "markdown",
   "id": "3428822e-3e18-4e73-9c64-db9c1e79d7c2",
   "metadata": {},
   "source": [
    "- La mayor parte de los datos no presenta movimiento (mismo punto) --> 5% de los datos"
   ]
  },
  {
   "cell_type": "code",
   "execution_count": 115,
   "id": "1af82f69-6c8e-432f-b98a-2474aaffe54e",
   "metadata": {},
   "outputs": [
    {
     "data": {
      "text/plain": [
       "0.006742996098370636"
      ]
     },
     "execution_count": 115,
     "metadata": {},
     "output_type": "execute_result"
    }
   ],
   "source": [
    "data['distance_to_last_km'].median()"
   ]
  },
  {
   "cell_type": "code",
   "execution_count": 123,
   "id": "2a06a7a2-3439-4c54-b86e-c8b913f98d58",
   "metadata": {},
   "outputs": [
    {
     "data": {
      "text/plain": [
       "0               NaN\n",
       "1          0.003517\n",
       "2          0.002831\n",
       "3          0.002735\n",
       "4          0.011023\n",
       "             ...   \n",
       "1845931    0.028621\n",
       "1845932    0.004600\n",
       "1845933    0.005089\n",
       "1845934    0.005748\n",
       "1845935    0.005035\n",
       "Name: distance_to_last_km, Length: 1845936, dtype: float64"
      ]
     },
     "execution_count": 123,
     "metadata": {},
     "output_type": "execute_result"
    }
   ],
   "source": [
    "data['distance_to_last_km']"
   ]
  },
  {
   "cell_type": "code",
   "execution_count": 126,
   "id": "c184ff8e-2884-42d5-a930-ecab3cc64bf3",
   "metadata": {},
   "outputs": [
    {
     "data": {
      "text/html": [
       "<div>\n",
       "<style scoped>\n",
       "    .dataframe tbody tr th:only-of-type {\n",
       "        vertical-align: middle;\n",
       "    }\n",
       "\n",
       "    .dataframe tbody tr th {\n",
       "        vertical-align: top;\n",
       "    }\n",
       "\n",
       "    .dataframe thead th {\n",
       "        text-align: right;\n",
       "    }\n",
       "</style>\n",
       "<table border=\"1\" class=\"dataframe\">\n",
       "  <thead>\n",
       "    <tr style=\"text-align: right;\">\n",
       "      <th></th>\n",
       "      <th>user</th>\n",
       "      <th>hour</th>\n",
       "      <th>lat</th>\n",
       "      <th>lng</th>\n",
       "      <th>seconds_diff</th>\n",
       "      <th>lat_last</th>\n",
       "      <th>lng_last</th>\n",
       "      <th>distance_to_last_km</th>\n",
       "    </tr>\n",
       "  </thead>\n",
       "  <tbody>\n",
       "    <tr>\n",
       "      <th>311762</th>\n",
       "      <td>2</td>\n",
       "      <td>2008-11-01 01:09:31</td>\n",
       "      <td>39.895870</td>\n",
       "      <td>116.272962</td>\n",
       "      <td>0.0</td>\n",
       "      <td>39.895867</td>\n",
       "      <td>116.272799</td>\n",
       "      <td>0.013910</td>\n",
       "    </tr>\n",
       "    <tr>\n",
       "      <th>426028</th>\n",
       "      <td>2</td>\n",
       "      <td>2009-01-25 05:26:27</td>\n",
       "      <td>37.416802</td>\n",
       "      <td>110.772034</td>\n",
       "      <td>0.0</td>\n",
       "      <td>37.416330</td>\n",
       "      <td>110.771849</td>\n",
       "      <td>0.054968</td>\n",
       "    </tr>\n",
       "    <tr>\n",
       "      <th>518710</th>\n",
       "      <td>2</td>\n",
       "      <td>2009-03-12 13:43:40</td>\n",
       "      <td>39.902545</td>\n",
       "      <td>116.368070</td>\n",
       "      <td>0.0</td>\n",
       "      <td>39.902621</td>\n",
       "      <td>116.368067</td>\n",
       "      <td>0.008455</td>\n",
       "    </tr>\n",
       "    <tr>\n",
       "      <th>1654187</th>\n",
       "      <td>7</td>\n",
       "      <td>2008-11-21 05:51:03</td>\n",
       "      <td>39.980499</td>\n",
       "      <td>116.351214</td>\n",
       "      <td>0.0</td>\n",
       "      <td>39.980499</td>\n",
       "      <td>116.351214</td>\n",
       "      <td>0.000000</td>\n",
       "    </tr>\n",
       "    <tr>\n",
       "      <th>1654189</th>\n",
       "      <td>7</td>\n",
       "      <td>2008-11-21 05:51:08</td>\n",
       "      <td>39.980469</td>\n",
       "      <td>116.351150</td>\n",
       "      <td>0.0</td>\n",
       "      <td>39.980469</td>\n",
       "      <td>116.351150</td>\n",
       "      <td>0.000000</td>\n",
       "    </tr>\n",
       "    <tr>\n",
       "      <th>...</th>\n",
       "      <td>...</td>\n",
       "      <td>...</td>\n",
       "      <td>...</td>\n",
       "      <td>...</td>\n",
       "      <td>...</td>\n",
       "      <td>...</td>\n",
       "      <td>...</td>\n",
       "      <td>...</td>\n",
       "    </tr>\n",
       "    <tr>\n",
       "      <th>1657571</th>\n",
       "      <td>7</td>\n",
       "      <td>2008-11-21 17:04:40</td>\n",
       "      <td>39.976264</td>\n",
       "      <td>116.338867</td>\n",
       "      <td>0.0</td>\n",
       "      <td>39.976264</td>\n",
       "      <td>116.338867</td>\n",
       "      <td>0.000000</td>\n",
       "    </tr>\n",
       "    <tr>\n",
       "      <th>1657573</th>\n",
       "      <td>7</td>\n",
       "      <td>2008-11-21 17:04:45</td>\n",
       "      <td>39.976411</td>\n",
       "      <td>116.339053</td>\n",
       "      <td>0.0</td>\n",
       "      <td>39.976411</td>\n",
       "      <td>116.339053</td>\n",
       "      <td>0.000000</td>\n",
       "    </tr>\n",
       "    <tr>\n",
       "      <th>1722973</th>\n",
       "      <td>8</td>\n",
       "      <td>2008-11-12 07:08:32</td>\n",
       "      <td>40.048065</td>\n",
       "      <td>116.280983</td>\n",
       "      <td>0.0</td>\n",
       "      <td>40.048333</td>\n",
       "      <td>116.281241</td>\n",
       "      <td>0.037018</td>\n",
       "    </tr>\n",
       "    <tr>\n",
       "      <th>1754618</th>\n",
       "      <td>8</td>\n",
       "      <td>2008-12-06 11:53:04</td>\n",
       "      <td>39.982005</td>\n",
       "      <td>116.328603</td>\n",
       "      <td>0.0</td>\n",
       "      <td>39.982012</td>\n",
       "      <td>116.328626</td>\n",
       "      <td>0.002109</td>\n",
       "    </tr>\n",
       "    <tr>\n",
       "      <th>1788607</th>\n",
       "      <td>9</td>\n",
       "      <td>2008-11-08 11:47:58</td>\n",
       "      <td>39.999135</td>\n",
       "      <td>116.322935</td>\n",
       "      <td>0.0</td>\n",
       "      <td>39.996111</td>\n",
       "      <td>116.325383</td>\n",
       "      <td>0.395665</td>\n",
       "    </tr>\n",
       "  </tbody>\n",
       "</table>\n",
       "<p>1692 rows × 8 columns</p>\n",
       "</div>"
      ],
      "text/plain": [
       "         user                hour        lat         lng  seconds_diff  \\\n",
       "311762      2 2008-11-01 01:09:31  39.895870  116.272962           0.0   \n",
       "426028      2 2009-01-25 05:26:27  37.416802  110.772034           0.0   \n",
       "518710      2 2009-03-12 13:43:40  39.902545  116.368070           0.0   \n",
       "1654187     7 2008-11-21 05:51:03  39.980499  116.351214           0.0   \n",
       "1654189     7 2008-11-21 05:51:08  39.980469  116.351150           0.0   \n",
       "...       ...                 ...        ...         ...           ...   \n",
       "1657571     7 2008-11-21 17:04:40  39.976264  116.338867           0.0   \n",
       "1657573     7 2008-11-21 17:04:45  39.976411  116.339053           0.0   \n",
       "1722973     8 2008-11-12 07:08:32  40.048065  116.280983           0.0   \n",
       "1754618     8 2008-12-06 11:53:04  39.982005  116.328603           0.0   \n",
       "1788607     9 2008-11-08 11:47:58  39.999135  116.322935           0.0   \n",
       "\n",
       "          lat_last    lng_last  distance_to_last_km  \n",
       "311762   39.895867  116.272799             0.013910  \n",
       "426028   37.416330  110.771849             0.054968  \n",
       "518710   39.902621  116.368067             0.008455  \n",
       "1654187  39.980499  116.351214             0.000000  \n",
       "1654189  39.980469  116.351150             0.000000  \n",
       "...            ...         ...                  ...  \n",
       "1657571  39.976264  116.338867             0.000000  \n",
       "1657573  39.976411  116.339053             0.000000  \n",
       "1722973  40.048333  116.281241             0.037018  \n",
       "1754618  39.982012  116.328626             0.002109  \n",
       "1788607  39.996111  116.325383             0.395665  \n",
       "\n",
       "[1692 rows x 8 columns]"
      ]
     },
     "execution_count": 126,
     "metadata": {},
     "output_type": "execute_result"
    }
   ],
   "source": [
    "data[data['seconds_diff']==0]"
   ]
  },
  {
   "cell_type": "code",
   "execution_count": null,
   "id": "cf113e87-b578-4368-a092-6339f3a18b29",
   "metadata": {},
   "outputs": [],
   "source": []
  },
  {
   "cell_type": "code",
   "execution_count": 183,
   "id": "5c701c36-eb15-45a8-a70f-78b8a5d8ce3c",
   "metadata": {},
   "outputs": [
    {
     "data": {
      "text/html": [
       "<div>\n",
       "<style scoped>\n",
       "    .dataframe tbody tr th:only-of-type {\n",
       "        vertical-align: middle;\n",
       "    }\n",
       "\n",
       "    .dataframe tbody tr th {\n",
       "        vertical-align: top;\n",
       "    }\n",
       "\n",
       "    .dataframe thead th {\n",
       "        text-align: right;\n",
       "    }\n",
       "</style>\n",
       "<table border=\"1\" class=\"dataframe\">\n",
       "  <thead>\n",
       "    <tr style=\"text-align: right;\">\n",
       "      <th></th>\n",
       "      <th>user</th>\n",
       "      <th>hour</th>\n",
       "      <th>lat</th>\n",
       "      <th>lng</th>\n",
       "      <th>seconds_diff</th>\n",
       "      <th>lat_last</th>\n",
       "      <th>lng_last</th>\n",
       "      <th>distance_to_last_km</th>\n",
       "    </tr>\n",
       "  </thead>\n",
       "  <tbody>\n",
       "    <tr>\n",
       "      <th>148</th>\n",
       "      <td>0</td>\n",
       "      <td>2008-10-23 04:08:07</td>\n",
       "      <td>39.995777</td>\n",
       "      <td>116.286798</td>\n",
       "      <td>3772.0</td>\n",
       "      <td>39.984019</td>\n",
       "      <td>116.298663</td>\n",
       "      <td>1.652609</td>\n",
       "    </tr>\n",
       "    <tr>\n",
       "      <th>1152</th>\n",
       "      <td>0</td>\n",
       "      <td>2008-10-26 13:44:07</td>\n",
       "      <td>39.907414</td>\n",
       "      <td>116.370017</td>\n",
       "      <td>39421.0</td>\n",
       "      <td>40.009209</td>\n",
       "      <td>116.321162</td>\n",
       "      <td>12.060713</td>\n",
       "    </tr>\n",
       "    <tr>\n",
       "      <th>1897</th>\n",
       "      <td>0</td>\n",
       "      <td>2008-10-27 11:54:49</td>\n",
       "      <td>39.994622</td>\n",
       "      <td>116.326757</td>\n",
       "      <td>75042.0</td>\n",
       "      <td>39.926426</td>\n",
       "      <td>116.320399</td>\n",
       "      <td>7.602386</td>\n",
       "    </tr>\n",
       "    <tr>\n",
       "      <th>1947</th>\n",
       "      <td>0</td>\n",
       "      <td>2008-10-28 00:38:26</td>\n",
       "      <td>40.012290</td>\n",
       "      <td>116.297072</td>\n",
       "      <td>45152.0</td>\n",
       "      <td>40.008796</td>\n",
       "      <td>116.321834</td>\n",
       "      <td>2.144396</td>\n",
       "    </tr>\n",
       "    <tr>\n",
       "      <th>3424</th>\n",
       "      <td>0</td>\n",
       "      <td>2008-10-29 09:21:38</td>\n",
       "      <td>39.994238</td>\n",
       "      <td>116.326786</td>\n",
       "      <td>15476.0</td>\n",
       "      <td>40.007298</td>\n",
       "      <td>116.319285</td>\n",
       "      <td>1.586547</td>\n",
       "    </tr>\n",
       "    <tr>\n",
       "      <th>...</th>\n",
       "      <td>...</td>\n",
       "      <td>...</td>\n",
       "      <td>...</td>\n",
       "      <td>...</td>\n",
       "      <td>...</td>\n",
       "      <td>...</td>\n",
       "      <td>...</td>\n",
       "      <td>...</td>\n",
       "    </tr>\n",
       "    <tr>\n",
       "      <th>1736739</th>\n",
       "      <td>8</td>\n",
       "      <td>2008-11-18 01:51:32</td>\n",
       "      <td>39.957882</td>\n",
       "      <td>116.359849</td>\n",
       "      <td>6146.0</td>\n",
       "      <td>39.978441</td>\n",
       "      <td>116.352295</td>\n",
       "      <td>2.374967</td>\n",
       "    </tr>\n",
       "    <tr>\n",
       "      <th>1785004</th>\n",
       "      <td>9</td>\n",
       "      <td>2008-11-06 11:15:04</td>\n",
       "      <td>39.996149</td>\n",
       "      <td>116.328740</td>\n",
       "      <td>85427.0</td>\n",
       "      <td>40.002481</td>\n",
       "      <td>116.344464</td>\n",
       "      <td>1.513175</td>\n",
       "    </tr>\n",
       "    <tr>\n",
       "      <th>1823375</th>\n",
       "      <td>9</td>\n",
       "      <td>2008-12-06 11:21:05</td>\n",
       "      <td>40.002778</td>\n",
       "      <td>116.344249</td>\n",
       "      <td>4373.0</td>\n",
       "      <td>39.995886</td>\n",
       "      <td>116.328075</td>\n",
       "      <td>1.576518</td>\n",
       "    </tr>\n",
       "    <tr>\n",
       "      <th>1823952</th>\n",
       "      <td>9</td>\n",
       "      <td>2008-12-06 13:57:06</td>\n",
       "      <td>40.001054</td>\n",
       "      <td>116.342519</td>\n",
       "      <td>7200.0</td>\n",
       "      <td>39.991538</td>\n",
       "      <td>116.333163</td>\n",
       "      <td>1.324701</td>\n",
       "    </tr>\n",
       "    <tr>\n",
       "      <th>1828298</th>\n",
       "      <td>9</td>\n",
       "      <td>2008-12-08 09:53:35</td>\n",
       "      <td>39.988508</td>\n",
       "      <td>116.336944</td>\n",
       "      <td>17926.0</td>\n",
       "      <td>39.995870</td>\n",
       "      <td>116.328452</td>\n",
       "      <td>1.092470</td>\n",
       "    </tr>\n",
       "  </tbody>\n",
       "</table>\n",
       "<p>301 rows × 8 columns</p>\n",
       "</div>"
      ],
      "text/plain": [
       "         user                hour        lat         lng  seconds_diff  \\\n",
       "148         0 2008-10-23 04:08:07  39.995777  116.286798        3772.0   \n",
       "1152        0 2008-10-26 13:44:07  39.907414  116.370017       39421.0   \n",
       "1897        0 2008-10-27 11:54:49  39.994622  116.326757       75042.0   \n",
       "1947        0 2008-10-28 00:38:26  40.012290  116.297072       45152.0   \n",
       "3424        0 2008-10-29 09:21:38  39.994238  116.326786       15476.0   \n",
       "...       ...                 ...        ...         ...           ...   \n",
       "1736739     8 2008-11-18 01:51:32  39.957882  116.359849        6146.0   \n",
       "1785004     9 2008-11-06 11:15:04  39.996149  116.328740       85427.0   \n",
       "1823375     9 2008-12-06 11:21:05  40.002778  116.344249        4373.0   \n",
       "1823952     9 2008-12-06 13:57:06  40.001054  116.342519        7200.0   \n",
       "1828298     9 2008-12-08 09:53:35  39.988508  116.336944       17926.0   \n",
       "\n",
       "          lat_last    lng_last  distance_to_last_km  \n",
       "148      39.984019  116.298663             1.652609  \n",
       "1152     40.009209  116.321162            12.060713  \n",
       "1897     39.926426  116.320399             7.602386  \n",
       "1947     40.008796  116.321834             2.144396  \n",
       "3424     40.007298  116.319285             1.586547  \n",
       "...            ...         ...                  ...  \n",
       "1736739  39.978441  116.352295             2.374967  \n",
       "1785004  40.002481  116.344464             1.513175  \n",
       "1823375  39.995886  116.328075             1.576518  \n",
       "1823952  39.991538  116.333163             1.324701  \n",
       "1828298  39.995870  116.328452             1.092470  \n",
       "\n",
       "[301 rows x 8 columns]"
      ]
     },
     "execution_count": 183,
     "metadata": {},
     "output_type": "execute_result"
    }
   ],
   "source": [
    "data[(data['seconds_diff']>3600) & (data['distance_to_last_km']>1)]"
   ]
  },
  {
   "cell_type": "markdown",
   "id": "2375f964-0a4c-45e3-99ff-ef0394ae7911",
   "metadata": {},
   "source": [
    "- Se cortará una trayectoria si el registro se detiene 1 hora. Valido? (¿?)"
   ]
  },
  {
   "cell_type": "code",
   "execution_count": null,
   "id": "262d1bf3-4ec2-4dae-8df8-5d4208780833",
   "metadata": {},
   "outputs": [],
   "source": []
  },
  {
   "cell_type": "code",
   "execution_count": null,
   "id": "ae7753e4-2795-4192-914f-6fd0eec7ebaa",
   "metadata": {},
   "outputs": [],
   "source": []
  },
  {
   "cell_type": "code",
   "execution_count": 116,
   "id": "c962ceaf-11a6-490d-9d67-e4b62923765c",
   "metadata": {},
   "outputs": [
    {
     "data": {
      "text/plain": [
       "0.028380884647232086"
      ]
     },
     "execution_count": 116,
     "metadata": {},
     "output_type": "execute_result"
    }
   ],
   "source": [
    "data['distance_to_last_km'].mean()"
   ]
  },
  {
   "cell_type": "code",
   "execution_count": 121,
   "id": "fac5ab20-5ffc-49d6-b98d-4906bc3a9058",
   "metadata": {},
   "outputs": [
    {
     "data": {
      "text/plain": [
       "False    0.970334\n",
       "True     0.029666\n",
       "Name: distance_to_last_km, dtype: float64"
      ]
     },
     "execution_count": 121,
     "metadata": {},
     "output_type": "execute_result"
    }
   ],
   "source": [
    "(data['distance_to_last_km']>0.1).value_counts(normalize=True)"
   ]
  },
  {
   "cell_type": "code",
   "execution_count": null,
   "id": "b4187eef-d22e-4e40-9224-bad0e6866c7d",
   "metadata": {},
   "outputs": [],
   "source": []
  },
  {
   "cell_type": "code",
   "execution_count": null,
   "id": "fddd083d-3f6f-416b-a768-81cd78e54c0d",
   "metadata": {},
   "outputs": [],
   "source": []
  },
  {
   "cell_type": "code",
   "execution_count": null,
   "id": "a506a223-6306-49ea-a48d-a941a7948299",
   "metadata": {},
   "outputs": [],
   "source": []
  },
  {
   "cell_type": "code",
   "execution_count": null,
   "id": "ab86982a-75cf-4798-803e-27e024e50d11",
   "metadata": {},
   "outputs": [],
   "source": []
  },
  {
   "cell_type": "code",
   "execution_count": null,
   "id": "414e64b0-b09e-49a7-8bd0-fdc71e4cf22c",
   "metadata": {},
   "outputs": [],
   "source": []
  },
  {
   "cell_type": "code",
   "execution_count": 6,
   "id": "0392f8d4-0a20-476c-85ae-747d7b659206",
   "metadata": {},
   "outputs": [
    {
     "data": {
      "text/plain": [
       "<AxesSubplot:>"
      ]
     },
     "execution_count": 6,
     "metadata": {},
     "output_type": "execute_result"
    },
    {
     "data": {
      "image/png": "[encoded data removed]",
      "text/plain": [
       "<Figure size 432x288 with 1 Axes>"
      ]
     },
     "metadata": {
      "needs_background": "light"
     },
     "output_type": "display_data"
    }
   ],
   "source": [
    "user['lat'].hist()"
   ]
  },
  {
   "cell_type": "code",
   "execution_count": 8,
   "id": "4148be10-754e-4cc8-8758-677137c01a9b",
   "metadata": {},
   "outputs": [
    {
     "data": {
      "text/plain": [
       "<AxesSubplot:>"
      ]
     },
     "execution_count": 8,
     "metadata": {},
     "output_type": "execute_result"
    },
    {
     "data": {
      "image/png": "[encoded data removed]",
      "text/plain": [
       "<Figure size 432x288 with 1 Axes>"
      ]
     },
     "metadata": {
      "needs_background": "light"
     },
     "output_type": "display_data"
    }
   ],
   "source": [
    "user['lng'].hist()"
   ]
  },
  {
   "cell_type": "code",
   "execution_count": null,
   "id": "4ca091b5-cf8f-47a1-bb6a-d107caf61215",
   "metadata": {},
   "outputs": [],
   "source": []
  },
  {
   "cell_type": "code",
   "execution_count": null,
   "id": "a177c715-bf2c-49f4-9bbd-166c159805ca",
   "metadata": {},
   "outputs": [],
   "source": []
  },
  {
   "cell_type": "code",
   "execution_count": null,
   "id": "e75b96cd-0d02-4e1d-86d5-34c843db7b75",
   "metadata": {},
   "outputs": [],
   "source": []
  },
  {
   "cell_type": "code",
   "execution_count": null,
   "id": "a383d963",
   "metadata": {},
   "outputs": [],
   "source": []
  },
  {
   "cell_type": "code",
   "execution_count": null,
   "id": "c3169ebc",
   "metadata": {},
   "outputs": [],
   "source": []
  }
 ],
 "metadata": {
  "kernelspec": {
   "display_name": "Python 3",
   "language": "python",
   "name": "python3"
  },
  "language_info": {
   "codemirror_mode": {
    "name": "ipython",
    "version": 3
   },
   "file_extension": ".py",
   "mimetype": "text/x-python",
   "name": "python",
   "nbconvert_exporter": "python",
   "pygments_lexer": "ipython3",
   "version": "3.7.10"
  }
 },
 "nbformat": 4,
 "nbformat_minor": 5
}
