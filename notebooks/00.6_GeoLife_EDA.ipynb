{
 "cells": [
  {
   "cell_type": "markdown",
   "id": "95096085-b860-42d3-8cb0-6612455b2ddf",
   "metadata": {},
   "source": [
    "# MMC Implementation"
   ]
  },
  {
   "cell_type": "markdown",
   "id": "d18b83e5-c0b9-495d-afef-313b031af35b",
   "metadata": {},
   "source": [
    "## Correct Implementation"
   ]
  },
  {
   "cell_type": "code",
   "execution_count": 1,
   "id": "30d91280-15df-4e09-8c77-6729023ac420",
   "metadata": {},
   "outputs": [],
   "source": [
    "import numpy as np\n",
    "#import seaborn as sns\n",
    "import matplotlib.pyplot as plt\n",
    "import pandas as pd\n",
    "import warnings\n",
    "import skmob\n",
    "from tqdm import tqdm\n",
    "import sys\n",
    "sys.path.append('../')\n",
    "from src.geo_utils import (get_clusters_from_tdf,\n",
    "                            assign_tdf_points_to_clusters,\n",
    "                            get_mmc_transitions,\n",
    "                            get_stationary_vector)\n",
    "import os"
   ]
  },
  {
   "cell_type": "code",
   "execution_count": 2,
   "id": "9b8f5af4-6600-4bb8-b984-841bfc689264",
   "metadata": {},
   "outputs": [],
   "source": [
    "from src.geo_utils import (analyze_dates_with_events,\n",
    "                           analyze_number_of_events, \n",
    "                           analyze_number_of_events_per_day, \n",
    "                           analyze_space_drift, \n",
    "                           analyze_speed_drift,\n",
    "                           analyze_time_drift)"
   ]
  },
  {
   "cell_type": "code",
   "execution_count": 3,
   "id": "17b8b922-edea-444c-8fc8-68ea1fc498cd",
   "metadata": {},
   "outputs": [],
   "source": [
    "warnings.filterwarnings('ignore')"
   ]
  },
  {
   "cell_type": "code",
   "execution_count": 4,
   "id": "4214bf7e-0f5c-44fa-a1c2-5e2a2e1b327b",
   "metadata": {},
   "outputs": [],
   "source": [
    "def get_distance(row):\n",
    "    lat, lng, lat_last, lng_last = row['lat'], row['lng'], row['lat_last'], row['lng_last']\n",
    "    return skmob.utils.utils.distance((lat, lng), (lat_last, lng_last))"
   ]
  },
  {
   "cell_type": "markdown",
   "id": "6031bc59-4736-47d5-bd59-b3c3c46e3462",
   "metadata": {},
   "source": [
    "### Evaluation of Implementation"
   ]
  },
  {
   "cell_type": "code",
   "execution_count": 11,
   "id": "87c3a7df-6a6d-49b1-b774-3def0b90051d",
   "metadata": {},
   "outputs": [],
   "source": []
  },
  {
   "cell_type": "code",
   "execution_count": 13,
   "id": "efe0121c-d96f-4730-b80f-6e7438d38642",
   "metadata": {},
   "outputs": [
    {
     "name": "stderr",
     "output_type": "stream",
     "text": [
      "100%|██████████| 19/19 [01:16<00:00,  4.00s/it]\n"
     ]
    }
   ],
   "source": [
    "# Reading all the DataFrames and consolidating it into one\n",
    "data_files = sorted([x for x in os.listdir('../data/') if 'geo_' in x])\n",
    "\n",
    "data = pd.DataFrame()\n",
    "for data_file in tqdm(data_files):\n",
    "    data_i = pd.read_csv(f'../data/{data_file}')\n",
    "    data = data.append(data_i)\n",
    "data = data.reset_index(drop=True)"
   ]
  },
  {
   "cell_type": "code",
   "execution_count": 14,
   "id": "3971c63f-560a-4020-9759-80ce692771c9",
   "metadata": {},
   "outputs": [],
   "source": [
    "# Homogenizing the dataset format\n",
    "\n",
    "geo_columns = ['user', 'hour', 'lat', 'lng']\n",
    "\n",
    "data['hour'] = data['date'] + ' ' + data['time']\n",
    "data['hour'] = pd.to_datetime(data['hour'])\n",
    "data['user'] = data['user_id'].map(int)\n",
    "\n",
    "data = data[geo_columns]\n",
    "data = data.drop_duplicates()\n",
    "data = data.groupby(['user','hour'], as_index=False).nth(0)\n",
    "data = data.reset_index(drop=True)\n",
    "\n",
    "\n",
    "# Estimating distance and time differences\n",
    "\n",
    "data[['lat_last','lng_last']] = data.groupby('user').shift(1)[['lat','lng']]\n",
    "data['seconds_diff'] = data.groupby('user')['hour'].diff(1).dt.seconds\n",
    "\n",
    "data['distance_to_last_km'] = data.apply(get_distance, axis=1) \n",
    "data['speed_mps'] = data['distance_to_last_km'] / data['seconds_diff'] * 1000"
   ]
  },
  {
   "cell_type": "code",
   "execution_count": 18,
   "id": "1f35c83b-ae90-416f-9bb5-87530f3c66b7",
   "metadata": {},
   "outputs": [
    {
     "name": "stdout",
     "output_type": "stream",
     "text": [
      "<class 'pandas.core.frame.DataFrame'>\n",
      "RangeIndex: 24178078 entries, 0 to 24178077\n",
      "Data columns (total 9 columns):\n",
      " #   Column               Dtype         \n",
      "---  ------               -----         \n",
      " 0   user                 int64         \n",
      " 1   hour                 datetime64[ns]\n",
      " 2   lat                  float64       \n",
      " 3   lng                  float64       \n",
      " 4   lat_last             float64       \n",
      " 5   lng_last             float64       \n",
      " 6   seconds_diff         float64       \n",
      " 7   distance_to_last_km  float64       \n",
      " 8   speed_mps            float64       \n",
      "dtypes: datetime64[ns](1), float64(7), int64(1)\n",
      "memory usage: 1.6 GB\n"
     ]
    }
   ],
   "source": [
    "data.info()"
   ]
  },
  {
   "cell_type": "code",
   "execution_count": 28,
   "id": "6914b5bb-ada3-4d53-a499-e6b1c6c7b2e3",
   "metadata": {},
   "outputs": [],
   "source": [
    "del data['lat_last'], data['lng_last']"
   ]
  },
  {
   "cell_type": "code",
   "execution_count": 29,
   "id": "6c97f105-8b9d-4e6d-a989-e3ee1d850998",
   "metadata": {},
   "outputs": [
    {
     "data": {
      "text/html": [
       "<div>\n",
       "<style scoped>\n",
       "    .dataframe tbody tr th:only-of-type {\n",
       "        vertical-align: middle;\n",
       "    }\n",
       "\n",
       "    .dataframe tbody tr th {\n",
       "        vertical-align: top;\n",
       "    }\n",
       "\n",
       "    .dataframe thead th {\n",
       "        text-align: right;\n",
       "    }\n",
       "</style>\n",
       "<table border=\"1\" class=\"dataframe\">\n",
       "  <thead>\n",
       "    <tr style=\"text-align: right;\">\n",
       "      <th></th>\n",
       "      <th>user</th>\n",
       "      <th>hour</th>\n",
       "      <th>lat</th>\n",
       "      <th>lng</th>\n",
       "      <th>seconds_diff</th>\n",
       "      <th>distance_to_last_km</th>\n",
       "      <th>speed_mps</th>\n",
       "    </tr>\n",
       "  </thead>\n",
       "  <tbody>\n",
       "    <tr>\n",
       "      <th>0</th>\n",
       "      <td>0</td>\n",
       "      <td>2008-10-23 02:53:04</td>\n",
       "      <td>39.984702</td>\n",
       "      <td>116.318417</td>\n",
       "      <td>NaN</td>\n",
       "      <td>NaN</td>\n",
       "      <td>NaN</td>\n",
       "    </tr>\n",
       "    <tr>\n",
       "      <th>1</th>\n",
       "      <td>0</td>\n",
       "      <td>2008-10-23 02:53:10</td>\n",
       "      <td>39.984683</td>\n",
       "      <td>116.318450</td>\n",
       "      <td>6.0</td>\n",
       "      <td>0.003517</td>\n",
       "      <td>0.586148</td>\n",
       "    </tr>\n",
       "    <tr>\n",
       "      <th>2</th>\n",
       "      <td>0</td>\n",
       "      <td>2008-10-23 02:53:15</td>\n",
       "      <td>39.984686</td>\n",
       "      <td>116.318417</td>\n",
       "      <td>5.0</td>\n",
       "      <td>0.002831</td>\n",
       "      <td>0.566260</td>\n",
       "    </tr>\n",
       "    <tr>\n",
       "      <th>3</th>\n",
       "      <td>0</td>\n",
       "      <td>2008-10-23 02:53:20</td>\n",
       "      <td>39.984688</td>\n",
       "      <td>116.318385</td>\n",
       "      <td>5.0</td>\n",
       "      <td>0.002735</td>\n",
       "      <td>0.547087</td>\n",
       "    </tr>\n",
       "    <tr>\n",
       "      <th>4</th>\n",
       "      <td>0</td>\n",
       "      <td>2008-10-23 02:53:25</td>\n",
       "      <td>39.984655</td>\n",
       "      <td>116.318263</td>\n",
       "      <td>5.0</td>\n",
       "      <td>0.011023</td>\n",
       "      <td>2.204602</td>\n",
       "    </tr>\n",
       "  </tbody>\n",
       "</table>\n",
       "</div>"
      ],
      "text/plain": [
       "   user                hour        lat         lng  seconds_diff  \\\n",
       "0     0 2008-10-23 02:53:04  39.984702  116.318417           NaN   \n",
       "1     0 2008-10-23 02:53:10  39.984683  116.318450           6.0   \n",
       "2     0 2008-10-23 02:53:15  39.984686  116.318417           5.0   \n",
       "3     0 2008-10-23 02:53:20  39.984688  116.318385           5.0   \n",
       "4     0 2008-10-23 02:53:25  39.984655  116.318263           5.0   \n",
       "\n",
       "   distance_to_last_km  speed_mps  \n",
       "0                  NaN        NaN  \n",
       "1             0.003517   0.586148  \n",
       "2             0.002831   0.566260  \n",
       "3             0.002735   0.547087  \n",
       "4             0.011023   2.204602  "
      ]
     },
     "execution_count": 29,
     "metadata": {},
     "output_type": "execute_result"
    }
   ],
   "source": [
    "data.head()"
   ]
  },
  {
   "cell_type": "markdown",
   "id": "c15c3ce9-f1a5-4d67-8ed4-c8bdb5fbd38f",
   "metadata": {},
   "source": [
    "- El 99% de los registros están distanciados entre 0 y 5 segundos"
   ]
  },
  {
   "cell_type": "markdown",
   "id": "0a67ea4d-5bfa-499c-ab76-4520a00696aa",
   "metadata": {},
   "source": [
    "#### Saving Data"
   ]
  },
  {
   "cell_type": "code",
   "execution_count": 32,
   "id": "da16efcb-75f5-4208-98a2-6ec103675d72",
   "metadata": {},
   "outputs": [],
   "source": [
    "# Saving Data\n",
    "data.to_parquet('../data/geolife_consolidated.parquet', index=False)"
   ]
  },
  {
   "cell_type": "markdown",
   "id": "401dbe29-adbc-4e83-be1c-7eaaa4c0a246",
   "metadata": {},
   "source": [
    "#### Loading Data (backup)"
   ]
  },
  {
   "cell_type": "code",
   "execution_count": 4,
   "id": "1e97ad34-bfae-49a2-9413-790e4362751a",
   "metadata": {},
   "outputs": [],
   "source": [
    "# Loading Data\n",
    "data = pd.read_parquet('../data/geolife_consolidated.parquet')"
   ]
  },
  {
   "cell_type": "code",
   "execution_count": 10,
   "id": "b5dc9f40-68b0-499c-a4a1-5bf7ac7469b0",
   "metadata": {},
   "outputs": [],
   "source": [
    "data['date'] = data['hour'].dt.date"
   ]
  },
  {
   "cell_type": "code",
   "execution_count": 133,
   "id": "d6286104-3b89-41d2-ba5d-9b3ee523fe12",
   "metadata": {},
   "outputs": [],
   "source": [
    "def analyze_time_drift(data):\n",
    "    '''Analiza la distribución de la variación de tiempo (segundos) entre evento y evento'''\n",
    "    \n",
    "    # Distribución de número de eventos\n",
    "    serie_seconds_events = data['seconds_diff'].value_counts()\n",
    "    serie_seconds_events_log = np.log10(serie_seconds_events)\n",
    "\n",
    "    print(serie_seconds_events)\n",
    "    print()\n",
    "    print(serie_seconds_events.quantile([0, 0.1, 0.2, 0.3, 0.4, 0.5, 0.6, 0.7, 0.8, 0.9, 0.95, 0.99, 1]))\n",
    "\n",
    "    fig = plt.figure(figsize=(15,4))\n",
    "    fig.add_subplot(1,2,1)\n",
    "    data['seconds_diff'].hist(bins=100)\n",
    "    plt.ylabel('Numero de Eventos')\n",
    "    plt.xlabel('Delta de Segundos')\n",
    "    \n",
    "    fig.add_subplot(1,2,2)\n",
    "\n",
    "    serie_seconds_events_log.hist(bins=30)\n",
    "    plt.title('Distribución de eventos según drift en segundos (log10)');\n",
    "    plt.ylabel('Numero de Eventos')\n",
    "    plt.xlabel('Delta de Segundos (log10 scale)');\n",
    "    \n",
    "\n",
    "def analyze_space_drift(data):\n",
    "    '''Analiza la distribución de la variación de distancia (Km) entre evento y evento'''\n",
    "\n",
    "    serie_distance_events = data['distance_to_last_km'].value_counts()\n",
    "    serie_distance_events_log = np.log10(serie_distance_events)\n",
    "    \n",
    "    print(serie_distance_events)\n",
    "    print()\n",
    "    print(serie_distance_events.quantile([0, 0.1, 0.2, 0.3, 0.4, 0.5, 0.6, 0.7, 0.8, 0.9, 0.95, 0.99, 1]))\n",
    "\n",
    "    fig = plt.figure(figsize=(15,4))\n",
    "    fig.add_subplot(1,2,1)\n",
    "    data['distance_to_last_km'].hist(bins=100)\n",
    "    plt.ylabel('Numero de Eventos')\n",
    "    plt.xlabel('Delta de KM');\n",
    "    \n",
    "    fig.add_subplot(1,2,2)\n",
    "\n",
    "    serie_distance_events_log.hist(bins=30)\n",
    "    plt.title('Distribución de eventos según drift de distancia (log10)');\n",
    "    plt.ylabel('Numero de Eventos')\n",
    "    plt.xlabel('Delta de KM (log10 scale)');\n",
    "    \n",
    "    \n",
    "def analyze_speed_drift(data):\n",
    "    '''Analiza la velocidad (metros por segundo) de cada evento'''\n",
    "\n",
    "    serie_speed = data['speed_mps']\n",
    "    serie_speed_log = np.log10(serie_speed+1)\n",
    "    \n",
    "    print(serie_speed.quantile([0, 0.1, 0.2, 0.3, 0.4, 0.5, 0.6, 0.7, 0.8, 0.9, 0.95, 0.99, 1]))\n",
    "\n",
    "    fig = plt.figure(figsize=(15,4))\n",
    "    \n",
    "    fig.add_subplot(1,2,1)\n",
    "    serie_speed.hist(bins=100)\n",
    "    plt.title('Distribución de eventos según velocidad');\n",
    "    plt.ylabel('Numero de Eventos')\n",
    "    plt.xlabel('Velocidad');\n",
    "    \n",
    "    fig.add_subplot(1,2,2)\n",
    "    serie_speed_log.hist(bins=30)\n",
    "    plt.title('Distribución de eventos según velocidad (log10)');\n",
    "    plt.ylabel('Numero de Eventos')\n",
    "    plt.xlabel('Velocidad (log10 scale)');\n",
    "    \n",
    "    \n",
    "def analyze_number_of_events_per_day(data):\n",
    "    '''Analiza la distribución de la variación de tiempo (segundos) entre evento y evento'''\n",
    "\n",
    "    # Distribución de número de eventos\n",
    "    df_events_per_day = data.groupby(['date','user'], as_index=False).size()\n",
    "    \n",
    "    serie_user_events_per_day = df_events_per_day['size']\n",
    "    serie_user_events_per_day_log = np.log10(serie_user_events_per_day)\n",
    "\n",
    "    print(serie_user_events_per_day)\n",
    "    print()\n",
    "    print(df_events_per_day['size'].quantile([0, 0.1, 0.2, 0.3, 0.4, 0.5, 0.6, 0.7, 0.8, 0.9, 0.95, 0.99, 1]))\n",
    "\n",
    "    fig = plt.figure(figsize=(15,4))\n",
    "\n",
    "    fig.add_subplot(1,2,1)\n",
    "    serie_user_events_per_day.hist(bins=30)\n",
    "    plt.title('Distribución de número de eventos por usuarios por día');\n",
    "    plt.ylabel('Numero de Usuarios')\n",
    "    plt.xlabel('Número de eventos en un día')    \n",
    "    \n",
    "    fig.add_subplot(1,2,2)\n",
    "    serie_user_events_per_day_log.hist(bins=30)\n",
    "    plt.title('Distribución de número de eventos por usuarios por día (log10)');\n",
    "    plt.ylabel('Numero de Usuarios')\n",
    "    plt.xlabel('Número de eventos en un día (log10 scale)')\n",
    "    \n",
    "def analyze_number_of_events(data):\n",
    "    # Distribución de número de eventos\n",
    "    serie_user_events = data['user'].value_counts()\n",
    "    serie_user_events_log = np.log10(serie_user_events)\n",
    "\n",
    "    print(serie_user_events)\n",
    "    print()\n",
    "    print(serie_user_events.quantile([0.1, 0.2, 0.3, 0.4, 0.5, 0.6, 0.7, 0.8, 0.9, 0.95, 0.99, 1]))\n",
    "\n",
    "    fig = plt.figure(figsize=(15,4))\n",
    "\n",
    "    fig.add_subplot(1,2,1)\n",
    "    serie_user_events.hist(bins=30)\n",
    "    plt.title('Distribución de usuarios según Nro de Eventos');\n",
    "    plt.ylabel('Numero de Usuarios')\n",
    "    plt.xlabel('Número de eventos')    \n",
    "    \n",
    "    fig.add_subplot(1,2,2)\n",
    "    serie_user_events_log.hist(bins=30)\n",
    "    plt.title('Distribución de usuarios según Nro de Eventos (log10)');\n",
    "    plt.ylabel('Numero de Usuarios')\n",
    "    plt.xlabel('Número de eventos (log10 scale)')\n",
    "    \n",
    "\n",
    "def analyze_dates_with_events(data):\n",
    "    # Distribución de número de eventos\n",
    "    serie_user_events = data[['user','date']].drop_duplicates()['user'].value_counts()\n",
    "    serie_user_events_log = np.log10(serie_user_events)\n",
    "\n",
    "    print(serie_user_events)\n",
    "\n",
    "    fig = plt.figure(figsize=(15,4))\n",
    "    fig.add_subplot(1,2,1)\n",
    "    serie_user_events.hist(bins=30)\n",
    "    plt.title('Distribución de usuarios según Nro de Días con Eventos');\n",
    "    plt.ylabel('Numero de Usuarios')\n",
    "    plt.xlabel('Número de Días con eventos')\n",
    "    \n",
    "    fig.add_subplot(1,2,2)\n",
    "\n",
    "    serie_user_events_log.hist(bins=30)\n",
    "    plt.title('Distribución de usuarios según Nro de Días con Eventos (log10)');\n",
    "    plt.ylabel('Numero de Usuarios')\n",
    "    plt.xlabel('Número de eventos (log10 scale)')"
   ]
  },
  {
   "cell_type": "code",
   "execution_count": 124,
   "id": "16043be0-62a9-4cbe-826b-a70244c75a43",
   "metadata": {},
   "outputs": [
    {
     "name": "stdout",
     "output_type": "stream",
     "text": [
      "153    2156964\n",
      "128    1208309\n",
      "41     1057038\n",
      "17     1026176\n",
      "163     969084\n",
      "        ...   \n",
      "171        177\n",
      "87         152\n",
      "178         84\n",
      "72          81\n",
      "60          17\n",
      "Name: user, Length: 182, dtype: int64\n",
      "\n",
      "0.10        718.90\n",
      "0.20       2534.00\n",
      "0.30       6851.40\n",
      "0.40      14677.40\n",
      "0.50      35181.50\n",
      "0.60      55863.80\n",
      "0.70      90573.50\n",
      "0.80     175329.20\n",
      "0.90     386695.30\n",
      "0.95     608317.60\n",
      "0.99    1085779.49\n",
      "1.00    2156964.00\n",
      "Name: user, dtype: float64\n"
     ]
    },
    {
     "data": {
      "image/png": "[encoded data removed]",
      "text/plain": [
       "<Figure size 1080x288 with 2 Axes>"
      ]
     },
     "metadata": {
      "needs_background": "light"
     },
     "output_type": "display_data"
    }
   ],
   "source": [
    "analyze_number_of_events(data)"
   ]
  },
  {
   "cell_type": "code",
   "execution_count": 122,
   "id": "447b733f-1fe8-4f37-ac3b-fa42c5c40286",
   "metadata": {},
   "outputs": [
    {
     "name": "stdout",
     "output_type": "stream",
     "text": [
      "0          3\n",
      "1         28\n",
      "2         58\n",
      "3          9\n",
      "4         55\n",
      "        ... \n",
      "11142    730\n",
      "11143    789\n",
      "11144    871\n",
      "11145    319\n",
      "11146    296\n",
      "Name: size, Length: 11147, dtype: int64\n",
      "\n",
      "0.00        1.0\n",
      "0.10      133.6\n",
      "0.20      352.0\n",
      "0.30      565.0\n",
      "0.40      818.0\n",
      "0.50     1168.0\n",
      "0.60     1629.0\n",
      "0.70     2306.0\n",
      "0.80     3273.0\n",
      "0.90     5099.4\n",
      "0.95     7094.4\n",
      "0.99    14375.0\n",
      "1.00    59767.0\n",
      "Name: size, dtype: float64\n"
     ]
    },
    {
     "data": {
      "image/png": "[encoded data removed]",
      "text/plain": [
       "<Figure size 1080x288 with 2 Axes>"
      ]
     },
     "metadata": {
      "needs_background": "light"
     },
     "output_type": "display_data"
    }
   ],
   "source": [
    "analyze_number_of_events_per_day(data)"
   ]
  },
  {
   "cell_type": "code",
   "execution_count": 125,
   "id": "b05cc1b1-143f-4da0-b7b3-e16064f0fc32",
   "metadata": {},
   "outputs": [
    {
     "name": "stdout",
     "output_type": "stream",
     "text": [
      "153    1273\n",
      "128     909\n",
      "163     552\n",
      "144     341\n",
      "68      297\n",
      "       ... \n",
      "49        1\n",
      "143       1\n",
      "151       1\n",
      "178       1\n",
      "149       1\n",
      "Name: user, Length: 182, dtype: int64\n"
     ]
    },
    {
     "data": {
      "image/png": "[encoded data removed]",
      "text/plain": [
       "<Figure size 1080x288 with 2 Axes>"
      ]
     },
     "metadata": {
      "needs_background": "light"
     },
     "output_type": "display_data"
    }
   ],
   "source": [
    "analyze_dates_with_events(data)"
   ]
  },
  {
   "cell_type": "code",
   "execution_count": 127,
   "id": "006444e2-1a63-4f1d-975a-399253ea7ad8",
   "metadata": {},
   "outputs": [
    {
     "name": "stdout",
     "output_type": "stream",
     "text": [
      "0.000000    866584\n",
      "0.000111     84731\n",
      "0.000111     50325\n",
      "0.000222     34681\n",
      "0.000334     26409\n",
      "             ...  \n",
      "0.000085         1\n",
      "0.011193         1\n",
      "0.018471         1\n",
      "0.006466         1\n",
      "0.015240         1\n",
      "Name: distance_to_last_km, Length: 20782581, dtype: int64\n",
      "\n",
      "0.00         1.0\n",
      "0.10         1.0\n",
      "0.20         1.0\n",
      "0.30         1.0\n",
      "0.40         1.0\n",
      "0.50         1.0\n",
      "0.60         1.0\n",
      "0.70         1.0\n",
      "0.80         1.0\n",
      "0.90         1.0\n",
      "0.95         2.0\n",
      "0.99         2.0\n",
      "1.00    866584.0\n",
      "Name: distance_to_last_km, dtype: float64\n"
     ]
    },
    {
     "data": {
      "image/png": "[encoded data removed]",
      "text/plain": [
       "<Figure size 1080x288 with 2 Axes>"
      ]
     },
     "metadata": {
      "needs_background": "light"
     },
     "output_type": "display_data"
    }
   ],
   "source": [
    "analyze_space_drift(data)"
   ]
  },
  {
   "cell_type": "code",
   "execution_count": 128,
   "id": "39f641ef-0c7e-4324-b233-a59161c71a12",
   "metadata": {},
   "outputs": [
    {
     "name": "stdout",
     "output_type": "stream",
     "text": [
      "0.000000    866584\n",
      "0.000111     84731\n",
      "0.000111     50325\n",
      "0.000222     34681\n",
      "0.000334     26409\n",
      "             ...  \n",
      "0.000085         1\n",
      "0.011193         1\n",
      "0.018471         1\n",
      "0.006466         1\n",
      "0.015240         1\n",
      "Name: distance_to_last_km, Length: 20782581, dtype: int64\n",
      "\n",
      "0.00         1.0\n",
      "0.10         1.0\n",
      "0.20         1.0\n",
      "0.30         1.0\n",
      "0.40         1.0\n",
      "0.50         1.0\n",
      "0.60         1.0\n",
      "0.70         1.0\n",
      "0.80         1.0\n",
      "0.90         1.0\n",
      "0.95         2.0\n",
      "0.99         2.0\n",
      "1.00    866584.0\n",
      "Name: distance_to_last_km, dtype: float64\n"
     ]
    },
    {
     "data": {
      "image/png": "[encoded data removed]",
      "text/plain": [
       "<Figure size 1080x288 with 2 Axes>"
      ]
     },
     "metadata": {
      "needs_background": "light"
     },
     "output_type": "display_data"
    }
   ],
   "source": [
    "analyze_space_drift(data)"
   ]
  },
  {
   "cell_type": "code",
   "execution_count": 129,
   "id": "10779bc4-0022-494b-90bc-e43aca27db38",
   "metadata": {},
   "outputs": [
    {
     "name": "stdout",
     "output_type": "stream",
     "text": [
      "0.00    0.000000e+00\n",
      "0.10    1.853249e-01\n",
      "0.20    7.215687e-01\n",
      "0.30    1.284613e+00\n",
      "0.40    2.109767e+00\n",
      "0.50    3.782965e+00\n",
      "0.60    6.744371e+00\n",
      "0.70    1.058748e+01\n",
      "0.80    1.472791e+01\n",
      "0.90    2.090978e+01\n",
      "0.95    2.857725e+01\n",
      "0.99    4.167644e+01\n",
      "1.00    1.963235e+06\n",
      "Name: speed_mps, dtype: float64\n"
     ]
    },
    {
     "data": {
      "image/png": "[encoded data removed]",
      "text/plain": [
       "<Figure size 1080x288 with 2 Axes>"
      ]
     },
     "metadata": {
      "needs_background": "light"
     },
     "output_type": "display_data"
    }
   ],
   "source": [
    "analyze_speed_drift(data)"
   ]
  },
  {
   "cell_type": "code",
   "execution_count": 63,
   "id": "15bbafc3-7670-47cf-8c49-a5fe73be2678",
   "metadata": {},
   "outputs": [],
   "source": []
  },
  {
   "cell_type": "code",
   "execution_count": 83,
   "id": "566a5e10-a3e5-4d98-a7f3-16d53dfe9852",
   "metadata": {},
   "outputs": [],
   "source": []
  },
  {
   "cell_type": "code",
   "execution_count": null,
   "id": "ddf26984-92b2-450f-aa45-5a887e167a0b",
   "metadata": {},
   "outputs": [],
   "source": []
  },
  {
   "cell_type": "code",
   "execution_count": null,
   "id": "0a06936c-3810-416c-8143-f5db3ef915b7",
   "metadata": {},
   "outputs": [],
   "source": []
  },
  {
   "cell_type": "code",
   "execution_count": null,
   "id": "2fc638d7-932d-47f8-9d44-f065cd2f1d65",
   "metadata": {},
   "outputs": [],
   "source": []
  },
  {
   "cell_type": "markdown",
   "id": "fd57d87a-478f-46d4-b623-d9e67e3fb234",
   "metadata": {},
   "source": [
    "#### Latitud y Longitud"
   ]
  },
  {
   "cell_type": "code",
   "execution_count": 105,
   "id": "d9ea5720-4e1e-4f5f-a119-951bc1ade214",
   "metadata": {},
   "outputs": [
    {
     "data": {
      "text/plain": [
       "<AxesSubplot:>"
      ]
     },
     "execution_count": 105,
     "metadata": {},
     "output_type": "execute_result"
    },
    {
     "data": {
      "image/png": "[encoded data removed]",
      "text/plain": [
       "<Figure size 432x288 with 1 Axes>"
      ]
     },
     "metadata": {
      "needs_background": "light"
     },
     "output_type": "display_data"
    }
   ],
   "source": [
    "data['lat'].hist(bins=50)"
   ]
  },
  {
   "cell_type": "code",
   "execution_count": 106,
   "id": "789e7d1d-45e9-412f-abfd-978f3d922da1",
   "metadata": {},
   "outputs": [
    {
     "data": {
      "text/plain": [
       "<AxesSubplot:>"
      ]
     },
     "execution_count": 106,
     "metadata": {},
     "output_type": "execute_result"
    },
    {
     "data": {
      "image/png": "[encoded data removed]",
      "text/plain": [
       "<Figure size 432x288 with 1 Axes>"
      ]
     },
     "metadata": {
      "needs_background": "light"
     },
     "output_type": "display_data"
    }
   ],
   "source": [
    "data['lng'].hist(bins=50)"
   ]
  },
  {
   "cell_type": "code",
   "execution_count": 28,
   "id": "559b2fd3-467c-47ba-a379-a38657697682",
   "metadata": {},
   "outputs": [
    {
     "data": {
      "text/plain": [
       "(24178078, 7)"
      ]
     },
     "execution_count": 28,
     "metadata": {},
     "output_type": "execute_result"
    }
   ],
   "source": [
    "data.shape"
   ]
  },
  {
   "cell_type": "markdown",
   "id": "4a228125-cca9-46d2-b89b-ad7f30591353",
   "metadata": {},
   "source": [
    "- Datashader"
   ]
  },
  {
   "cell_type": "code",
   "execution_count": 38,
   "id": "0146b4f9-26be-4e05-90c0-fee50914bbee",
   "metadata": {},
   "outputs": [],
   "source": [
    "dd = data.sample(20000)"
   ]
  },
  {
   "cell_type": "code",
   "execution_count": 31,
   "id": "02275c8f-2dac-4f37-b3ea-283571a3666a",
   "metadata": {},
   "outputs": [],
   "source": [
    "import seaborn as sns"
   ]
  },
  {
   "cell_type": "code",
   "execution_count": 35,
   "id": "77976066-feb0-40ba-aa6b-72ffa2f85303",
   "metadata": {},
   "outputs": [
    {
     "data": {
      "text/plain": [
       "<AxesSubplot:xlabel='lng', ylabel='lat'>"
      ]
     },
     "execution_count": 35,
     "metadata": {},
     "output_type": "execute_result"
    },
    {
     "data": {
      "image/png": "[encoded data removed]",
      "text/plain": [
       "<Figure size 432x288 with 1 Axes>"
      ]
     },
     "metadata": {
      "needs_background": "light"
     },
     "output_type": "display_data"
    }
   ],
   "source": [
    "sns.scatterplot(data=dd, x='lng', y='lat')"
   ]
  },
  {
   "cell_type": "code",
   "execution_count": 39,
   "id": "7f59e65e-8945-4076-a369-e9fa8661f541",
   "metadata": {},
   "outputs": [
    {
     "data": {
      "text/plain": [
       "<AxesSubplot:xlabel='lat', ylabel='lng'>"
      ]
     },
     "execution_count": 39,
     "metadata": {},
     "output_type": "execute_result"
    },
    {
     "data": {
      "image/png": "[encoded data removed]",
      "text/plain": [
       "<Figure size 432x288 with 1 Axes>"
      ]
     },
     "metadata": {
      "needs_background": "light"
     },
     "output_type": "display_data"
    }
   ],
   "source": [
    "sns.kdeplot(data=dd, x='lat', y='lng', fill=True)"
   ]
  },
  {
   "cell_type": "markdown",
   "id": "61610ec1-8d49-4f24-8a6e-0cb89a1438b7",
   "metadata": {},
   "source": [
    "__Escenarios:__\n",
    "- Base\n",
    "- Filtro por país\n",
    "- Filtro por tiempo en lugar"
   ]
  },
  {
   "cell_type": "markdown",
   "id": "fef5f4b9-6235-49e5-aaf8-0b8bcebe9e1b",
   "metadata": {},
   "source": [
    "__Acuerdos__\n",
    "- Quitar usuarios con menos de 1000 eventos\n",
    "- Probar los 3 escenarios"
   ]
  },
  {
   "cell_type": "code",
   "execution_count": null,
   "id": "ad20288e-0444-435f-b38b-7ca4a2bb2d26",
   "metadata": {},
   "outputs": [],
   "source": []
  },
  {
   "cell_type": "code",
   "execution_count": null,
   "id": "24bad7ed-bb1c-4fc4-96c1-7b20e39dd119",
   "metadata": {},
   "outputs": [],
   "source": []
  },
  {
   "cell_type": "code",
   "execution_count": null,
   "id": "d4f82b17-203d-4331-80e6-eb780cfc7745",
   "metadata": {},
   "outputs": [],
   "source": []
  },
  {
   "cell_type": "code",
   "execution_count": null,
   "id": "3e583198-89d1-427e-942e-207fdef000b6",
   "metadata": {},
   "outputs": [],
   "source": []
  },
  {
   "cell_type": "code",
   "execution_count": 35,
   "id": "986bff69",
   "metadata": {},
   "outputs": [
    {
     "data": {
      "text/html": [
       "<div>\n",
       "<style scoped>\n",
       "    .dataframe tbody tr th:only-of-type {\n",
       "        vertical-align: middle;\n",
       "    }\n",
       "\n",
       "    .dataframe tbody tr th {\n",
       "        vertical-align: top;\n",
       "    }\n",
       "\n",
       "    .dataframe thead th {\n",
       "        text-align: right;\n",
       "    }\n",
       "</style>\n",
       "<table border=\"1\" class=\"dataframe\">\n",
       "  <thead>\n",
       "    <tr style=\"text-align: right;\">\n",
       "      <th></th>\n",
       "      <th>user</th>\n",
       "      <th>number_points</th>\n",
       "      <th>min_tmstmp</th>\n",
       "      <th>max_tmstmp</th>\n",
       "      <th>duracion</th>\n",
       "    </tr>\n",
       "  </thead>\n",
       "  <tbody>\n",
       "    <tr>\n",
       "      <th>8</th>\n",
       "      <td>8</td>\n",
       "      <td>77908</td>\n",
       "      <td>2008-10-24 11:48:34</td>\n",
       "      <td>2008-12-12 09:24:41</td>\n",
       "      <td>70416.116667</td>\n",
       "    </tr>\n",
       "    <tr>\n",
       "      <th>6</th>\n",
       "      <td>6</td>\n",
       "      <td>31830</td>\n",
       "      <td>2008-10-23 06:59:39</td>\n",
       "      <td>2008-12-11 08:22:35</td>\n",
       "      <td>70642.933333</td>\n",
       "    </tr>\n",
       "    <tr>\n",
       "      <th>7</th>\n",
       "      <td>7</td>\n",
       "      <td>85531</td>\n",
       "      <td>2008-10-25 14:22:00</td>\n",
       "      <td>2008-12-15 11:38:45</td>\n",
       "      <td>73276.750000</td>\n",
       "    </tr>\n",
       "    <tr>\n",
       "      <th>9</th>\n",
       "      <td>9</td>\n",
       "      <td>84615</td>\n",
       "      <td>2008-10-24 10:15:35</td>\n",
       "      <td>2008-12-14 11:18:09</td>\n",
       "      <td>73502.566667</td>\n",
       "    </tr>\n",
       "    <tr>\n",
       "      <th>1</th>\n",
       "      <td>1</td>\n",
       "      <td>108607</td>\n",
       "      <td>2008-10-23 05:53:05</td>\n",
       "      <td>2008-12-15 00:31:18</td>\n",
       "      <td>75998.216667</td>\n",
       "    </tr>\n",
       "    <tr>\n",
       "      <th>5</th>\n",
       "      <td>5</td>\n",
       "      <td>109046</td>\n",
       "      <td>2008-10-24 04:12:30</td>\n",
       "      <td>2009-03-19 05:46:37</td>\n",
       "      <td>210334.116667</td>\n",
       "    </tr>\n",
       "    <tr>\n",
       "      <th>2</th>\n",
       "      <td>2</td>\n",
       "      <td>248214</td>\n",
       "      <td>2008-10-23 12:45:23</td>\n",
       "      <td>2009-03-22 08:13:37</td>\n",
       "      <td>215728.233333</td>\n",
       "    </tr>\n",
       "    <tr>\n",
       "      <th>3</th>\n",
       "      <td>3</td>\n",
       "      <td>485226</td>\n",
       "      <td>2008-10-23 17:58:54</td>\n",
       "      <td>2009-07-05 07:45:15</td>\n",
       "      <td>366586.350000</td>\n",
       "    </tr>\n",
       "    <tr>\n",
       "      <th>0</th>\n",
       "      <td>0</td>\n",
       "      <td>173870</td>\n",
       "      <td>2008-10-23 02:53:04</td>\n",
       "      <td>2009-07-05 07:45:15</td>\n",
       "      <td>367492.183333</td>\n",
       "    </tr>\n",
       "    <tr>\n",
       "      <th>4</th>\n",
       "      <td>4</td>\n",
       "      <td>439397</td>\n",
       "      <td>2008-10-23 17:58:52</td>\n",
       "      <td>2009-07-29 06:16:11</td>\n",
       "      <td>401057.316667</td>\n",
       "    </tr>\n",
       "  </tbody>\n",
       "</table>\n",
       "</div>"
      ],
      "text/plain": [
       "   user  number_points          min_tmstmp          max_tmstmp       duracion\n",
       "8     8          77908 2008-10-24 11:48:34 2008-12-12 09:24:41   70416.116667\n",
       "6     6          31830 2008-10-23 06:59:39 2008-12-11 08:22:35   70642.933333\n",
       "7     7          85531 2008-10-25 14:22:00 2008-12-15 11:38:45   73276.750000\n",
       "9     9          84615 2008-10-24 10:15:35 2008-12-14 11:18:09   73502.566667\n",
       "1     1         108607 2008-10-23 05:53:05 2008-12-15 00:31:18   75998.216667\n",
       "5     5         109046 2008-10-24 04:12:30 2009-03-19 05:46:37  210334.116667\n",
       "2     2         248214 2008-10-23 12:45:23 2009-03-22 08:13:37  215728.233333\n",
       "3     3         485226 2008-10-23 17:58:54 2009-07-05 07:45:15  366586.350000\n",
       "0     0         173870 2008-10-23 02:53:04 2009-07-05 07:45:15  367492.183333\n",
       "4     4         439397 2008-10-23 17:58:52 2009-07-29 06:16:11  401057.316667"
      ]
     },
     "metadata": {},
     "output_type": "display_data"
    }
   ],
   "source": [
    "aux_dict = {}\n",
    "aux_dict['user'] = []\n",
    "aux_dict['number_points'] = []\n",
    "aux_dict['min_tmstmp'] = []\n",
    "aux_dict['max_tmstmp'] = []\n",
    "for usr in data['user'].unique():\n",
    "    aux_dict['user'].append(usr)\n",
    "    aux_dict['number_points'].append(data[data['user']==usr].shape[0])\n",
    "    aux_dict['min_tmstmp'].append(data[data['user']==usr]['hour'].min())\n",
    "    aux_dict['max_tmstmp'].append(data[data['user']==usr]['hour'].max())\n",
    "aux_dict = pd.DataFrame(aux_dict)\n",
    "aux_dict['duracion'] = (aux_dict['max_tmstmp'] - aux_dict['min_tmstmp']).dt.total_seconds()/ 60\n",
    "aux_dict.sort_values(by='duracion', ascending=True, inplace=True)\n",
    "display(aux_dict)"
   ]
  },
  {
   "cell_type": "code",
   "execution_count": 72,
   "id": "479f373e",
   "metadata": {},
   "outputs": [
    {
     "data": {
      "text/plain": [
       "Text(0, 0.5, 'Cantidad de puntos')"
      ]
     },
     "execution_count": 72,
     "metadata": {},
     "output_type": "execute_result"
    },
    {
     "data": {
      "image/png": "[encoded data removed]",
      "text/plain": [
       "<Figure size 432x288 with 1 Axes>"
      ]
     },
     "metadata": {
      "needs_background": "light"
     },
     "output_type": "display_data"
    }
   ],
   "source": [
    "fig,ax = plt.subplots(figsize=(6,4))\n",
    "ax.set_xscale('log')\n",
    "plt.scatter(aux_dict['duracion'].values, aux_dict['number_points'].values, color='r')\n",
    "plt.plot(aux_dict['duracion'].values, aux_dict['number_points'].values , color='r', linestyle='--')\n",
    "\"\"\"\n",
    "plt.axvline(60,0)\n",
    "plt.text(60,0, 'H')\n",
    "plt.axvline(60*24,0)\n",
    "plt.text(60*24,0, 'D')\n",
    "\"\"\"\n",
    "plt.axvline(60*24*7,0)\n",
    "plt.text(60*24*7,0, 'S')\n",
    "plt.axvline(60*24*7*30,0)\n",
    "plt.text(60*24*7*30,0, 'M')\n",
    "ax.set_xlabel('Tiempo en minutos - log')\n",
    "ax.set_ylabel('Cantidad de puntos')\n",
    "#plt.axvline(60*24*7*30*365,0)\n",
    "#plt.text(60*24*7*30*365,0, 'Y')\n",
    "#plt.show()"
   ]
  },
  {
   "cell_type": "code",
   "execution_count": 60,
   "id": "0ebb046a",
   "metadata": {},
   "outputs": [
    {
     "data": {
      "text/plain": [
       "[<matplotlib.lines.Line2D at 0x7f60b4272ad0>]"
      ]
     },
     "execution_count": 60,
     "metadata": {},
     "output_type": "execute_result"
    },
    {
     "data": {
      "image/png": "[encoded data removed]",
      "text/plain": [
       "<Figure size 864x432 with 1 Axes>"
      ]
     },
     "metadata": {
      "needs_background": "light"
     },
     "output_type": "display_data"
    }
   ],
   "source": [
    "fig,ax = plt.subplots(figsize=(12,6))\n",
    "#ax.set_xscale('log')\n",
    "plt.scatter(aux_dict['duracion'].values, aux_dict['number_points'].values)\n",
    "plt.plot(aux_dict['duracion'].values, aux_dict['number_points'].values )\n",
    "\n",
    "#plt.show()"
   ]
  },
  {
   "cell_type": "code",
   "execution_count": null,
   "id": "565f7c9f",
   "metadata": {},
   "outputs": [],
   "source": []
  },
  {
   "cell_type": "code",
   "execution_count": null,
   "id": "e89a3f6d",
   "metadata": {},
   "outputs": [],
   "source": []
  },
  {
   "cell_type": "code",
   "execution_count": null,
   "id": "2f060c80-3953-4808-a706-5c092d9af2a5",
   "metadata": {},
   "outputs": [],
   "source": []
  },
  {
   "cell_type": "code",
   "execution_count": null,
   "id": "3bbb2b46-b1e6-48b2-96a0-88a80e0cd2eb",
   "metadata": {},
   "outputs": [],
   "source": []
  },
  {
   "cell_type": "code",
   "execution_count": null,
   "id": "b7072988-6068-445f-9840-4005c655b3d4",
   "metadata": {},
   "outputs": [],
   "source": []
  },
  {
   "cell_type": "code",
   "execution_count": null,
   "id": "a1c036f0-9478-43a7-9455-aa79e2a05c18",
   "metadata": {},
   "outputs": [],
   "source": []
  },
  {
   "cell_type": "code",
   "execution_count": null,
   "id": "57bc93d3-b741-4ddc-8db6-02c5a5d75fb0",
   "metadata": {},
   "outputs": [],
   "source": []
  },
  {
   "cell_type": "code",
   "execution_count": null,
   "id": "99f193ea-f9dc-4407-8438-9337a9d3fee9",
   "metadata": {},
   "outputs": [],
   "source": []
  },
  {
   "cell_type": "code",
   "execution_count": null,
   "id": "33539a8d-6504-4737-abe0-efb83c512e6c",
   "metadata": {},
   "outputs": [],
   "source": []
  },
  {
   "cell_type": "code",
   "execution_count": null,
   "id": "861dd5e9-1f00-443b-99ee-cc7f1c5c3ff6",
   "metadata": {},
   "outputs": [],
   "source": []
  },
  {
   "cell_type": "code",
   "execution_count": null,
   "id": "cc167e4a-3d8e-49aa-9bea-bfd3d1fd4bb8",
   "metadata": {},
   "outputs": [],
   "source": []
  },
  {
   "cell_type": "code",
   "execution_count": null,
   "id": "2f73e418",
   "metadata": {},
   "outputs": [],
   "source": []
  },
  {
   "cell_type": "code",
   "execution_count": null,
   "id": "62bd3bad-f4ec-45d8-95f8-84b6908dc9bf",
   "metadata": {},
   "outputs": [],
   "source": []
  },
  {
   "cell_type": "code",
   "execution_count": 94,
   "id": "862921c8-2cca-4dc3-aa17-1425f00e5240",
   "metadata": {},
   "outputs": [
    {
     "data": {
      "text/plain": [
       "11580681    86399.0\n",
       "18592681    86395.0\n",
       "1851493     86392.0\n",
       "6921679     86378.0\n",
       "20529931    86372.0\n",
       "10778081    86365.0\n",
       "11806805    86308.0\n",
       "5152752     86303.0\n",
       "3838058     86271.0\n",
       "5125359     86267.0\n",
       "19572773    86243.0\n",
       "21691417    86200.0\n",
       "23352351    86193.0\n",
       "12906024    86180.0\n",
       "7096056     86167.0\n",
       "22533998    86156.0\n",
       "17397606    86149.0\n",
       "13930227    86122.0\n",
       "23675555    86109.0\n",
       "24006514    86102.0\n",
       "20472012    86096.0\n",
       "14311540    86050.0\n",
       "21283145    86050.0\n",
       "7614        86049.0\n",
       "21765454    86044.0\n",
       "5495778     86039.0\n",
       "13865856    86028.0\n",
       "23676659    86024.0\n",
       "14053440    86019.0\n",
       "12214245    86015.0\n",
       "Name: seconds_diff, dtype: float64"
      ]
     },
     "execution_count": 94,
     "metadata": {},
     "output_type": "execute_result"
    }
   ],
   "source": [
    "data['seconds_diff'].nlargest(30)"
   ]
  },
  {
   "cell_type": "markdown",
   "id": "8d4f4623-e595-4e14-bb73-643ac8f0f893",
   "metadata": {},
   "source": [
    "-------|-----|-----------|---------|\n",
    "\n",
    "--xxXx--|--xX-x--|--x--xX--|"
   ]
  },
  {
   "cell_type": "code",
   "execution_count": 15,
   "id": "7ceb033c-129b-4f63-97a8-b1d57e209e96",
   "metadata": {},
   "outputs": [
    {
     "data": {
      "text/plain": [
       "1525575    2001.218375\n",
       "1520070    1994.344900\n",
       "97123      1081.669208\n",
       "939173     1081.669208\n",
       "1346992    1081.536654\n",
       "150130     1077.944217\n",
       "992180     1077.944217\n",
       "1352858    1076.852294\n",
       "160679     1075.844012\n",
       "1002729    1075.844012\n",
       "102798     1075.794203\n",
       "944848     1075.794203\n",
       "834474      572.986636\n",
       "423067      541.871785\n",
       "1170042     442.393688\n",
       "1558080     426.398341\n",
       "1560352     426.291883\n",
       "750317      394.941580\n",
       "447718      231.795536\n",
       "847476      190.899617\n",
       "446666      165.851492\n",
       "1569640     118.908134\n",
       "1569088      90.527781\n",
       "1616976      77.289171\n",
       "1612317      71.716266\n",
       "447251       64.190462\n",
       "1596208      30.764803\n",
       "460192       26.282796\n",
       "1649785      22.989909\n",
       "673294       22.801299\n",
       "Name: distance_to_last_km, dtype: float64"
      ]
     },
     "execution_count": 15,
     "metadata": {},
     "output_type": "execute_result"
    }
   ],
   "source": [
    "data['distance_to_last_km'].nlargest(30)"
   ]
  },
  {
   "cell_type": "code",
   "execution_count": null,
   "id": "bc36b2f0-01c7-4451-b7e2-01e7dc4ade24",
   "metadata": {},
   "outputs": [],
   "source": []
  }
 ],
 "metadata": {
  "kernelspec": {
   "display_name": "Python 3",
   "language": "python",
   "name": "python3"
  },
  "language_info": {
   "codemirror_mode": {
    "name": "ipython",
    "version": 3
   },
   "file_extension": ".py",
   "mimetype": "text/x-python",
   "name": "python",
   "nbconvert_exporter": "python",
   "pygments_lexer": "ipython3",
   "version": "3.7.10"
  }
 },
 "nbformat": 4,
 "nbformat_minor": 5
}
