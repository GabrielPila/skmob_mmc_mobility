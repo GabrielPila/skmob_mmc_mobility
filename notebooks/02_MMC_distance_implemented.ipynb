{
 "cells": [
  {
   "cell_type": "markdown",
   "id": "95096085-b860-42d3-8cb0-6612455b2ddf",
   "metadata": {},
   "source": [
    "# MMC Implementation"
   ]
  },
  {
   "cell_type": "markdown",
   "id": "d18b83e5-c0b9-495d-afef-313b031af35b",
   "metadata": {},
   "source": [
    "## Correct Implementation"
   ]
  },
  {
   "cell_type": "code",
   "execution_count": 1,
   "id": "30d91280-15df-4e09-8c77-6729023ac420",
   "metadata": {},
   "outputs": [],
   "source": [
    "import numpy as np\n",
    "#import seaborn as sns\n",
    "import matplotlib.pyplot as plt\n",
    "import pandas as pd\n",
    "import warnings\n",
    "import skmob\n",
    "from tqdm import tqdm\n",
    "import sys\n",
    "sys.path.append('../')\n",
    "from src.geo_utils import (get_clusters_from_tdf,\n",
    "                            assign_tdf_points_to_clusters,\n",
    "                            get_mmc_transitions,\n",
    "                            get_stationary_vector)\n"
   ]
  },
  {
   "cell_type": "code",
   "execution_count": 2,
   "id": "17b8b922-edea-444c-8fc8-68ea1fc498cd",
   "metadata": {},
   "outputs": [],
   "source": [
    "warnings.filterwarnings('ignore')"
   ]
  },
  {
   "cell_type": "code",
   "execution_count": 99,
   "id": "52fdad5a-d447-4c06-a557-e4df58e4d57e",
   "metadata": {},
   "outputs": [],
   "source": [
    "def get_distance_bw_clusters(cluster_1, cluster_2):\n",
    "    '''Get Distance Between Clusters\n",
    "    \n",
    "    Parameters\n",
    "    ----------\n",
    "        cluster_1 (pd.Dataframe): df with columns ['cluster', 'lat', 'lng', 'sta_vector']\n",
    "        cluster_2 (pd.Dataframe): df with columns ['cluster', 'lat', 'lng', 'sta_vector']\n",
    "    \n",
    "    Returns\n",
    "    -------\n",
    "        distance (float): Distance between clusters (one-way)\n",
    "    '''\n",
    "    valid_distances = []\n",
    "    valid_clusters = []\n",
    "    for i, row_i in cluster_1.iterrows():    \n",
    "        coord_i = (row_i['lat'], row_i['lng'])\n",
    "\n",
    "        clusters, distances = [], []    \n",
    "        for j, row_j in cluster_2.iterrows():\n",
    "            cluster_j = row_j['cluster']\n",
    "            coord_j = (row_j['lat'], row_j['lng'])\n",
    "\n",
    "            distance_ij = skmob.utils.utils.distance(coord_i, coord_j)    \n",
    "            clusters.append(cluster_j)\n",
    "            distances.append(distance_ij)\n",
    "\n",
    "        distances = np.array(distances)\n",
    "\n",
    "        idx_min = distances.argmin()\n",
    "        min_dist = distances.min()\n",
    "        cluster_min = clusters[idx_min]\n",
    "\n",
    "        valid_distances.append(min_dist)\n",
    "        valid_clusters.append(cluster_min)\n",
    "\n",
    "    cluster_est = cluster_1.copy()\n",
    "    cluster_est['cluster_other'] = valid_clusters\n",
    "    cluster_est['distance_other'] = valid_distances\n",
    "    distance = (cluster_est['distance_other'] * cluster_est['sta_vector']).sum()\n",
    "    return distance\n",
    "\n",
    "def get_mean_distance_bw_clusters(cluster_1, cluster_2):\n",
    "    '''Get Mean Distance Between Clusters\n",
    "    \n",
    "    Get the distances of cluster_1 to cluster_2 and viceversa and returns the average.\n",
    "\n",
    "    Parameters\n",
    "    ----------\n",
    "        cluster_1 (pd.Dataframe): df with columns ['cluster', 'lat', 'lng', 'sta_vector']\n",
    "        cluster_2 (pd.Dataframe): df with columns ['cluster', 'lat', 'lng', 'sta_vector']\n",
    "    \n",
    "    Returns\n",
    "    -------\n",
    "        mean_distance (float): Distance between clusters (two-way)\n",
    "    '''\n",
    "    d1 = get_distance_bw_clusters(cluster_1, cluster_2)\n",
    "    d2 = get_distance_bw_clusters(cluster_2, cluster_1)\n",
    "    mean_distance = (d1+d2)/2\n",
    "    return mean_distance"
   ]
  },
  {
   "cell_type": "code",
   "execution_count": 8,
   "id": "c15fbb96-717b-4229-9136-f3cccec409ce",
   "metadata": {
    "scrolled": true,
    "tags": []
   },
   "outputs": [],
   "source": [
    "def get_mmc_clusters_stavectors(geo):\n",
    "    '''Get MMC Clusters and Stationary Vectors\n",
    "    \n",
    "    Parameters\n",
    "    ----------\n",
    "        geo (pd.Dataframe): Dataframe of 1 user_id. Must contain only the columns: ['user', 'hour', 'lat', 'lng']\n",
    "    \n",
    "    Returns\n",
    "    -------\n",
    "        clusters (pd.Dataframe): Dataframe with the clusters and the stationary value\n",
    "        m (folium.folium.Map): Map generated with the clusters on it.\n",
    "    '''\n",
    "    # TDF Definition\n",
    "    trgeo = skmob.TrajDataFrame(\n",
    "        geo, \n",
    "        datetime='hour',\n",
    "        user_id='user'\n",
    "    )\n",
    "\n",
    "    # Cluster Generation\n",
    "    clusters, m = get_clusters_from_tdf(\n",
    "        trgeo,\n",
    "        verbose=True,\n",
    "        max_speed_kmh= 0.01,\n",
    "        detect_stops=False,\n",
    "        compress=False ,\n",
    "        minutes_for_a_stop=2,\n",
    "        spatial_radius_km=0.2,\n",
    "        spatial_radius_compress_km=.2,\n",
    "        cluster_radius_km=0.5,\n",
    "        min_samples=2\n",
    "    )\n",
    "\n",
    "    # Cluster Assignation\n",
    "    trgeo_cl, distances = assign_tdf_points_to_clusters(\n",
    "        tdf=trgeo, \n",
    "        clusters=clusters\n",
    "    )\n",
    "\n",
    "    # Generation of Transit Dataframe\n",
    "    transit_df = get_mmc_transitions(trgeo_cl)\n",
    "\n",
    "    # Generation of Transit Matrix\n",
    "    transit_matrix = pd.crosstab(transit_df['cluster'], \n",
    "                                 transit_df['cluster_next'],\n",
    "                                 normalize='index').values\n",
    "\n",
    "    # Stationary Vector Assignation\n",
    "    clusters['sta_vector'] = get_stationary_vector(transit_matrix)\n",
    "\n",
    "    return clusters, m"
   ]
  },
  {
   "cell_type": "code",
   "execution_count": 24,
   "id": "3ad77bac-f5a4-4dda-9753-1ae912bfdcf2",
   "metadata": {},
   "outputs": [],
   "source": [
    "#url_usr82 = 'https://raw.githubusercontent.com/bitmapup/mmc3/master/data/geolife_82.csv'\n",
    "#geo82 = pd.read_csv(url_usr82, header=None)\n",
    "\n",
    "geo_columns = ['user', 'hour', 'lat', 'lng']\n",
    "geo = pd.read_csv('../data/geo82.csv.zip')\n",
    "geo.columns = geo_columns"
   ]
  },
  {
   "cell_type": "markdown",
   "id": "315c29dc-747a-4fe2-ba09-bbcb3f8d6117",
   "metadata": {},
   "source": [
    "## Reading for 10 users"
   ]
  },
  {
   "cell_type": "code",
   "execution_count": 29,
   "id": "c52024c5-ceed-425e-9a98-7b781c4215f1",
   "metadata": {},
   "outputs": [],
   "source": [
    "# Reading 10 frames\n",
    "data = pd.read_csv('../data/geo_000_009.csv.zip')\n",
    "\n",
    "data['hour'] = data['date'] + ' ' + data['time']\n",
    "data['user'] = data['user_id'].map(int)\n",
    "\n",
    "data = data[geo_columns]"
   ]
  },
  {
   "cell_type": "code",
   "execution_count": 43,
   "id": "06bc5651-0115-4341-b877-587553c43b4b",
   "metadata": {
    "scrolled": true,
    "tags": []
   },
   "outputs": [
    {
     "name": "stderr",
     "output_type": "stream",
     "text": [
      "  0%|          | 0/10 [00:00<?, ?it/s]\n",
      "  0%|          | 0/2 [00:00<?, ?it/s]\u001b[A"
     ]
    },
    {
     "name": "stdout",
     "output_type": "stream",
     "text": [
      "INFO: Noise Filtering applied\n",
      "INFO: Clusters generated\n",
      "(173870, 4) (211, 4) (211, 4) (211, 4) (211, 5)\n",
      "INFO: 2 clusters generated.\n"
     ]
    },
    {
     "name": "stderr",
     "output_type": "stream",
     "text": [
      "\n",
      " 50%|█████     | 1/2 [00:02<00:02,  2.66s/it]\u001b[A\n",
      "100%|██████████| 2/2 [00:05<00:00,  2.61s/it]\u001b[A\n",
      " 10%|█         | 1/10 [00:11<01:40, 11.12s/it]\n",
      "  0%|          | 0/4 [00:00<?, ?it/s]\u001b[A"
     ]
    },
    {
     "name": "stdout",
     "output_type": "stream",
     "text": [
      "INFO: Noise Filtering applied\n",
      "INFO: Clusters generated\n",
      "(108607, 4) (46, 4) (46, 4) (46, 4) (46, 5)\n",
      "INFO: 4 clusters generated.\n"
     ]
    },
    {
     "name": "stderr",
     "output_type": "stream",
     "text": [
      "\n",
      " 25%|██▌       | 1/4 [00:01<00:04,  1.63s/it]\u001b[A\n",
      " 50%|█████     | 2/4 [00:03<00:03,  1.63s/it]\u001b[A\n",
      " 75%|███████▌  | 3/4 [00:04<00:01,  1.61s/it]\u001b[A\n",
      "100%|██████████| 4/4 [00:06<00:00,  1.58s/it]\u001b[A\n",
      " 20%|██        | 2/10 [00:20<01:20, 10.09s/it]\n",
      "  0%|          | 0/6 [00:00<?, ?it/s]\u001b[A"
     ]
    },
    {
     "name": "stdout",
     "output_type": "stream",
     "text": [
      "INFO: Noise Filtering applied\n",
      "INFO: Clusters generated\n",
      "(248217, 4) (155, 4) (155, 4) (155, 4) (155, 5)\n",
      "INFO: 6 clusters generated.\n"
     ]
    },
    {
     "name": "stderr",
     "output_type": "stream",
     "text": [
      "\n",
      " 17%|█▋        | 1/6 [00:03<00:18,  3.73s/it]\u001b[A\n",
      " 33%|███▎      | 2/6 [00:07<00:14,  3.67s/it]\u001b[A\n",
      " 50%|█████     | 3/6 [00:10<00:10,  3.64s/it]\u001b[A\n",
      " 67%|██████▋   | 4/6 [00:14<00:07,  3.74s/it]\u001b[A\n",
      " 83%|████████▎ | 5/6 [00:18<00:03,  3.70s/it]\u001b[A\n",
      "100%|██████████| 6/6 [00:22<00:00,  3.68s/it]\u001b[A\n",
      " 30%|███       | 3/10 [00:52<02:21, 20.21s/it]\n",
      "  0%|          | 0/3 [00:00<?, ?it/s]\u001b[A"
     ]
    },
    {
     "name": "stdout",
     "output_type": "stream",
     "text": [
      "INFO: Noise Filtering applied\n",
      "INFO: Clusters generated\n",
      "(485226, 4) (390, 4) (390, 4) (390, 4) (390, 5)\n",
      "INFO: 3 clusters generated.\n"
     ]
    },
    {
     "name": "stderr",
     "output_type": "stream",
     "text": [
      "\n",
      " 33%|███▎      | 1/3 [00:06<00:13,  6.77s/it]\u001b[A\n",
      " 67%|██████▋   | 2/3 [00:13<00:06,  6.96s/it]\u001b[A\n",
      "100%|██████████| 3/3 [00:20<00:00,  6.93s/it]\u001b[A\n",
      " 40%|████      | 4/10 [01:43<03:14, 32.45s/it]\n",
      "  0%|          | 0/8 [00:00<?, ?it/s]\u001b[A"
     ]
    },
    {
     "name": "stdout",
     "output_type": "stream",
     "text": [
      "INFO: Noise Filtering applied\n",
      "INFO: Clusters generated\n",
      "(439397, 4) (384, 4) (384, 4) (384, 4) (384, 5)\n",
      "INFO: 8 clusters generated.\n"
     ]
    },
    {
     "name": "stderr",
     "output_type": "stream",
     "text": [
      "\n",
      " 12%|█▎        | 1/8 [00:06<00:44,  6.34s/it]\u001b[A\n",
      " 25%|██▌       | 2/8 [00:13<00:40,  6.78s/it]\u001b[A\n",
      " 38%|███▊      | 3/8 [00:20<00:34,  6.82s/it]\u001b[A\n",
      " 50%|█████     | 4/8 [00:26<00:26,  6.67s/it]\u001b[A\n",
      " 62%|██████▎   | 5/8 [00:33<00:19,  6.65s/it]\u001b[A\n",
      " 75%|███████▌  | 6/8 [00:39<00:13,  6.56s/it]\u001b[A\n",
      " 88%|████████▊ | 7/8 [00:46<00:06,  6.52s/it]\u001b[A\n",
      "100%|██████████| 8/8 [00:52<00:00,  6.56s/it]\u001b[A\n",
      " 50%|█████     | 5/10 [03:02<04:05, 49.18s/it]\n",
      "  0%|          | 0/1 [00:00<?, ?it/s]\u001b[A"
     ]
    },
    {
     "name": "stdout",
     "output_type": "stream",
     "text": [
      "INFO: Noise Filtering applied\n",
      "INFO: Clusters generated\n",
      "(109046, 4) (85, 4) (85, 4) (85, 4) (85, 5)\n",
      "INFO: 1 clusters generated.\n"
     ]
    },
    {
     "name": "stderr",
     "output_type": "stream",
     "text": [
      "\n",
      "100%|██████████| 1/1 [00:01<00:00,  1.60s/it]\u001b[A\n",
      " 60%|██████    | 6/10 [03:07<02:16, 34.05s/it]\n",
      "  0%|          | 0/2 [00:00<?, ?it/s]\u001b[A"
     ]
    },
    {
     "name": "stdout",
     "output_type": "stream",
     "text": [
      "INFO: Noise Filtering applied\n",
      "INFO: Clusters generated\n",
      "(31830, 4) (24, 4) (24, 4) (24, 4) (24, 5)\n",
      "INFO: 2 clusters generated.\n"
     ]
    },
    {
     "name": "stderr",
     "output_type": "stream",
     "text": [
      "\n",
      " 50%|█████     | 1/2 [00:00<00:00,  2.35it/s]\u001b[A\n",
      "100%|██████████| 2/2 [00:00<00:00,  2.05it/s]\u001b[A\n",
      " 70%|███████   | 7/10 [03:09<01:10, 23.44s/it]\n",
      "  0%|          | 0/1 [00:00<?, ?it/s]\u001b[A"
     ]
    },
    {
     "name": "stdout",
     "output_type": "stream",
     "text": [
      "INFO: Noise Filtering applied\n",
      "INFO: Clusters generated\n",
      "(87217, 4) (60, 4) (60, 4) (60, 4) (60, 5)\n",
      "INFO: 1 clusters generated.\n"
     ]
    },
    {
     "name": "stderr",
     "output_type": "stream",
     "text": [
      "\n",
      "100%|██████████| 1/1 [00:01<00:00,  1.17s/it]\u001b[A\n",
      " 80%|████████  | 8/10 [03:12<00:34, 17.06s/it]\n",
      "  0%|          | 0/1 [00:00<?, ?it/s]\u001b[A"
     ]
    },
    {
     "name": "stdout",
     "output_type": "stream",
     "text": [
      "INFO: Noise Filtering applied\n",
      "INFO: Clusters generated\n",
      "(77910, 4) (41, 4) (41, 4) (41, 4) (41, 5)\n",
      "INFO: 1 clusters generated.\n"
     ]
    },
    {
     "name": "stderr",
     "output_type": "stream",
     "text": [
      "\n",
      "100%|██████████| 1/1 [00:01<00:00,  1.17s/it]\u001b[A\n",
      " 90%|█████████ | 9/10 [03:15<00:12, 12.69s/it]\n",
      "  0%|          | 0/2 [00:00<?, ?it/s]\u001b[A"
     ]
    },
    {
     "name": "stdout",
     "output_type": "stream",
     "text": [
      "INFO: Noise Filtering applied\n",
      "INFO: Clusters generated\n",
      "(84616, 4) (41, 4) (41, 4) (41, 4) (41, 5)\n",
      "INFO: 2 clusters generated.\n"
     ]
    },
    {
     "name": "stderr",
     "output_type": "stream",
     "text": [
      "\n",
      " 50%|█████     | 1/2 [00:01<00:01,  1.44s/it]\u001b[A\n",
      "100%|██████████| 2/2 [00:02<00:00,  1.46s/it]\u001b[A\n",
      "100%|██████████| 10/10 [03:20<00:00, 20.06s/it]\n"
     ]
    }
   ],
   "source": [
    "# Extraction of clusters \n",
    "geo_clusters = {}\n",
    "geo_clusters_img = {}\n",
    "users = sorted(data['user'].unique())\n",
    "for user in tqdm(users):\n",
    "    try:\n",
    "        geo = data[data['user']==user].reset_index(drop=True).copy()\n",
    "\n",
    "        clusters, m = get_mmc_clusters_stavectors(geo)\n",
    "\n",
    "        geo_clusters[user] = clusters\n",
    "        geo_clusters_img[user] = m\n",
    "    except:\n",
    "        pass"
   ]
  },
  {
   "cell_type": "code",
   "execution_count": 104,
   "id": "fc9a148e-54fa-4fe5-bbc4-6d7ede6b2ded",
   "metadata": {},
   "outputs": [],
   "source": [
    "# TODO: Corregir la función de vector estacionario. Hay casos en los que falla"
   ]
  },
  {
   "cell_type": "code",
   "execution_count": 44,
   "id": "90f940a6-b9e9-4d7c-8210-bb8b72f86591",
   "metadata": {},
   "outputs": [
    {
     "data": {
      "text/plain": [
       "{0: <folium.folium.Map at 0x7fe4c7698950>,\n",
       " 3: <folium.folium.Map at 0x7fe4c78b3390>,\n",
       " 4: <folium.folium.Map at 0x7fe4f954f990>}"
      ]
     },
     "execution_count": 44,
     "metadata": {},
     "output_type": "execute_result"
    }
   ],
   "source": [
    "geo_clusters_img"
   ]
  },
  {
   "cell_type": "markdown",
   "id": "5ade8489-8f80-481d-b829-241ec82ae147",
   "metadata": {},
   "source": [
    "## Distance Estimation"
   ]
  },
  {
   "cell_type": "code",
   "execution_count": 101,
   "id": "b107f591-e28b-49c2-84f7-99c6934791f4",
   "metadata": {},
   "outputs": [],
   "source": [
    "cluster_0 = geo_clusters[0]\n",
    "cluster_1 = geo_clusters[3]\n",
    "cluster_2 = geo_clusters[4]"
   ]
  },
  {
   "cell_type": "code",
   "execution_count": 52,
   "id": "95ca6a17-bcf3-4758-a2cb-23056d535505",
   "metadata": {},
   "outputs": [
    {
     "data": {
      "text/html": [
       "<div>\n",
       "<style scoped>\n",
       "    .dataframe tbody tr th:only-of-type {\n",
       "        vertical-align: middle;\n",
       "    }\n",
       "\n",
       "    .dataframe tbody tr th {\n",
       "        vertical-align: top;\n",
       "    }\n",
       "\n",
       "    .dataframe thead th {\n",
       "        text-align: right;\n",
       "    }\n",
       "</style>\n",
       "<table border=\"1\" class=\"dataframe\">\n",
       "  <thead>\n",
       "    <tr style=\"text-align: right;\">\n",
       "      <th></th>\n",
       "      <th>cluster</th>\n",
       "      <th>lat</th>\n",
       "      <th>lng</th>\n",
       "      <th>sta_vector</th>\n",
       "    </tr>\n",
       "  </thead>\n",
       "  <tbody>\n",
       "    <tr>\n",
       "      <th>0</th>\n",
       "      <td>0</td>\n",
       "      <td>39.999859</td>\n",
       "      <td>116.326749</td>\n",
       "      <td>0.474359</td>\n",
       "    </tr>\n",
       "    <tr>\n",
       "      <th>1</th>\n",
       "      <td>1</td>\n",
       "      <td>39.987315</td>\n",
       "      <td>116.309833</td>\n",
       "      <td>0.384615</td>\n",
       "    </tr>\n",
       "    <tr>\n",
       "      <th>2</th>\n",
       "      <td>2</td>\n",
       "      <td>39.995477</td>\n",
       "      <td>116.288653</td>\n",
       "      <td>0.141026</td>\n",
       "    </tr>\n",
       "  </tbody>\n",
       "</table>\n",
       "</div>"
      ],
      "text/plain": [
       "   cluster        lat         lng  sta_vector\n",
       "0        0  39.999859  116.326749    0.474359\n",
       "1        1  39.987315  116.309833    0.384615\n",
       "2        2  39.995477  116.288653    0.141026"
      ]
     },
     "execution_count": 52,
     "metadata": {},
     "output_type": "execute_result"
    }
   ],
   "source": [
    "cluster_1"
   ]
  },
  {
   "cell_type": "code",
   "execution_count": 51,
   "id": "dd4c55b2-7451-46d9-81d9-a73d5de114a5",
   "metadata": {},
   "outputs": [
    {
     "data": {
      "text/html": [
       "<div>\n",
       "<style scoped>\n",
       "    .dataframe tbody tr th:only-of-type {\n",
       "        vertical-align: middle;\n",
       "    }\n",
       "\n",
       "    .dataframe tbody tr th {\n",
       "        vertical-align: top;\n",
       "    }\n",
       "\n",
       "    .dataframe thead th {\n",
       "        text-align: right;\n",
       "    }\n",
       "</style>\n",
       "<table border=\"1\" class=\"dataframe\">\n",
       "  <thead>\n",
       "    <tr style=\"text-align: right;\">\n",
       "      <th></th>\n",
       "      <th>cluster</th>\n",
       "      <th>lat</th>\n",
       "      <th>lng</th>\n",
       "      <th>sta_vector</th>\n",
       "    </tr>\n",
       "  </thead>\n",
       "  <tbody>\n",
       "    <tr>\n",
       "      <th>0</th>\n",
       "      <td>0</td>\n",
       "      <td>39.999944</td>\n",
       "      <td>116.326035</td>\n",
       "      <td>0.312925</td>\n",
       "    </tr>\n",
       "    <tr>\n",
       "      <th>1</th>\n",
       "      <td>1</td>\n",
       "      <td>39.939100</td>\n",
       "      <td>116.348471</td>\n",
       "      <td>0.136054</td>\n",
       "    </tr>\n",
       "    <tr>\n",
       "      <th>2</th>\n",
       "      <td>2</td>\n",
       "      <td>39.966866</td>\n",
       "      <td>116.378085</td>\n",
       "      <td>0.054422</td>\n",
       "    </tr>\n",
       "    <tr>\n",
       "      <th>3</th>\n",
       "      <td>3</td>\n",
       "      <td>39.986601</td>\n",
       "      <td>116.381269</td>\n",
       "      <td>0.108844</td>\n",
       "    </tr>\n",
       "    <tr>\n",
       "      <th>4</th>\n",
       "      <td>4</td>\n",
       "      <td>39.974776</td>\n",
       "      <td>116.331752</td>\n",
       "      <td>0.217687</td>\n",
       "    </tr>\n",
       "    <tr>\n",
       "      <th>5</th>\n",
       "      <td>5</td>\n",
       "      <td>39.974543</td>\n",
       "      <td>116.415310</td>\n",
       "      <td>0.013605</td>\n",
       "    </tr>\n",
       "    <tr>\n",
       "      <th>6</th>\n",
       "      <td>6</td>\n",
       "      <td>39.987192</td>\n",
       "      <td>116.398921</td>\n",
       "      <td>0.061224</td>\n",
       "    </tr>\n",
       "    <tr>\n",
       "      <th>7</th>\n",
       "      <td>7</td>\n",
       "      <td>39.987036</td>\n",
       "      <td>116.389978</td>\n",
       "      <td>0.095238</td>\n",
       "    </tr>\n",
       "  </tbody>\n",
       "</table>\n",
       "</div>"
      ],
      "text/plain": [
       "   cluster        lat         lng  sta_vector\n",
       "0        0  39.999944  116.326035    0.312925\n",
       "1        1  39.939100  116.348471    0.136054\n",
       "2        2  39.966866  116.378085    0.054422\n",
       "3        3  39.986601  116.381269    0.108844\n",
       "4        4  39.974776  116.331752    0.217687\n",
       "5        5  39.974543  116.415310    0.013605\n",
       "6        6  39.987192  116.398921    0.061224\n",
       "7        7  39.987036  116.389978    0.095238"
      ]
     },
     "execution_count": 51,
     "metadata": {},
     "output_type": "execute_result"
    }
   ],
   "source": [
    "cluster_2"
   ]
  },
  {
   "cell_type": "code",
   "execution_count": 100,
   "id": "0ec247e3-6731-4970-b5e6-28aa244c78df",
   "metadata": {},
   "outputs": [
    {
     "data": {
      "text/plain": [
       "2.245555609708128"
      ]
     },
     "execution_count": 100,
     "metadata": {},
     "output_type": "execute_result"
    }
   ],
   "source": [
    "get_mean_distance_bw_clusters(cluster_1=cluster_1, cluster_2=cluster_2)"
   ]
  },
  {
   "cell_type": "code",
   "execution_count": 102,
   "id": "28d3bdb8-e968-4427-aef6-c66cd0eab686",
   "metadata": {},
   "outputs": [
    {
     "data": {
      "text/plain": [
       "1.9047901696538245"
      ]
     },
     "execution_count": 102,
     "metadata": {},
     "output_type": "execute_result"
    }
   ],
   "source": [
    "get_mean_distance_bw_clusters(cluster_1=cluster_0, cluster_2=cluster_2)"
   ]
  },
  {
   "cell_type": "code",
   "execution_count": null,
   "id": "430504dc-df11-4228-b912-c29bb95cdca6",
   "metadata": {},
   "outputs": [],
   "source": []
  }
 ],
 "metadata": {
  "kernelspec": {
   "display_name": "Python 3",
   "language": "python",
   "name": "python3"
  },
  "language_info": {
   "codemirror_mode": {
    "name": "ipython",
    "version": 3
   },
   "file_extension": ".py",
   "mimetype": "text/x-python",
   "name": "python",
   "nbconvert_exporter": "python",
   "pygments_lexer": "ipython3",
   "version": "3.7.10"
  }
 },
 "nbformat": 4,
 "nbformat_minor": 5
}
