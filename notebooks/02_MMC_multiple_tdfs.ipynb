{
 "cells": [
  {
   "cell_type": "markdown",
   "id": "95096085-b860-42d3-8cb0-6612455b2ddf",
   "metadata": {},
   "source": [
    "# MMC Implementation"
   ]
  },
  {
   "cell_type": "markdown",
   "id": "d18b83e5-c0b9-495d-afef-313b031af35b",
   "metadata": {},
   "source": [
    "## Correct Implementation"
   ]
  },
  {
   "cell_type": "code",
   "execution_count": 1,
   "id": "30d91280-15df-4e09-8c77-6729023ac420",
   "metadata": {},
   "outputs": [],
   "source": [
    "import numpy as np\n",
    "#import seaborn as sns\n",
    "import matplotlib.pyplot as plt\n",
    "import pandas as pd\n",
    "import warnings\n",
    "import skmob\n",
    "from tqdm import tqdm\n",
    "import sys\n",
    "sys.path.append('../')\n",
    "from src.geo_utils import (get_clusters_from_tdf,\n",
    "                            assign_tdf_points_to_clusters,\n",
    "                            get_mmc_transitions,\n",
    "                            get_stationary_vector)\n"
   ]
  },
  {
   "cell_type": "code",
   "execution_count": 2,
   "id": "17b8b922-edea-444c-8fc8-68ea1fc498cd",
   "metadata": {},
   "outputs": [],
   "source": [
    "warnings.filterwarnings('ignore')"
   ]
  },
  {
   "cell_type": "code",
   "execution_count": 3,
   "id": "52fdad5a-d447-4c06-a557-e4df58e4d57e",
   "metadata": {},
   "outputs": [],
   "source": [
    "def get_distance_bw_clusters(cluster_1, cluster_2):\n",
    "    '''Get Distance Between Clusters\n",
    "    \n",
    "    Parameters\n",
    "    ----------\n",
    "        cluster_1 (pd.Dataframe): df with columns ['cluster', 'lat', 'lng', 'sta_vector']\n",
    "        cluster_2 (pd.Dataframe): df with columns ['cluster', 'lat', 'lng', 'sta_vector']\n",
    "    \n",
    "    Returns\n",
    "    -------\n",
    "        distance (float): Distance between clusters (one-way)\n",
    "    '''\n",
    "    valid_distances = []\n",
    "    valid_clusters = []\n",
    "    for i, row_i in cluster_1.iterrows():    \n",
    "        coord_i = (row_i['lat'], row_i['lng'])\n",
    "\n",
    "        clusters, distances = [], []    \n",
    "        for j, row_j in cluster_2.iterrows():\n",
    "            cluster_j = row_j['cluster']\n",
    "            coord_j = (row_j['lat'], row_j['lng'])\n",
    "\n",
    "            distance_ij = skmob.utils.utils.distance(coord_i, coord_j)    \n",
    "            clusters.append(cluster_j)\n",
    "            distances.append(distance_ij)\n",
    "\n",
    "        distances = np.array(distances)\n",
    "\n",
    "        idx_min = distances.argmin()\n",
    "        min_dist = distances.min()\n",
    "        cluster_min = clusters[idx_min]\n",
    "\n",
    "        valid_distances.append(min_dist)\n",
    "        valid_clusters.append(cluster_min)\n",
    "\n",
    "    cluster_est = cluster_1.copy()\n",
    "    cluster_est['cluster_other'] = valid_clusters\n",
    "    cluster_est['distance_other'] = valid_distances\n",
    "    distance = (cluster_est['distance_other'] * cluster_est['sta_vector']).sum()\n",
    "    return distance\n",
    "\n",
    "def get_mean_distance_bw_clusters(cluster_1, cluster_2):\n",
    "    '''Get Mean Distance Between Clusters\n",
    "    \n",
    "    Get the distances of cluster_1 to cluster_2 and viceversa and returns the average.\n",
    "\n",
    "    Parameters\n",
    "    ----------\n",
    "        cluster_1 (pd.Dataframe): df with columns ['cluster', 'lat', 'lng', 'sta_vector']\n",
    "        cluster_2 (pd.Dataframe): df with columns ['cluster', 'lat', 'lng', 'sta_vector']\n",
    "    \n",
    "    Returns\n",
    "    -------\n",
    "        mean_distance (float): Distance between clusters (two-way)\n",
    "    '''\n",
    "    d1 = get_distance_bw_clusters(cluster_1, cluster_2)\n",
    "    d2 = get_distance_bw_clusters(cluster_2, cluster_1)\n",
    "    mean_distance = (d1+d2)/2\n",
    "    return mean_distance"
   ]
  },
  {
   "cell_type": "code",
   "execution_count": 4,
   "id": "c15fbb96-717b-4229-9136-f3cccec409ce",
   "metadata": {
    "scrolled": true,
    "tags": []
   },
   "outputs": [],
   "source": [
    "def get_mmc_clusters_stavectors(geo):\n",
    "    '''Get MMC Clusters and Stationary Vectors\n",
    "    \n",
    "    Parameters\n",
    "    ----------\n",
    "        geo (pd.Dataframe): Dataframe of 1 user_id. Must contain only the columns: ['user', 'hour', 'lat', 'lng']\n",
    "    \n",
    "    Returns\n",
    "    -------\n",
    "        clusters (pd.Dataframe): Dataframe with the clusters and the stationary value\n",
    "        m (folium.folium.Map): Map generated with the clusters on it.\n",
    "    '''\n",
    "    # TDF Definition\n",
    "    trgeo = skmob.TrajDataFrame(\n",
    "        geo, \n",
    "        datetime='hour',\n",
    "        user_id='user'\n",
    "    )\n",
    "\n",
    "    # Cluster Generation\n",
    "    clusters, m = get_clusters_from_tdf(\n",
    "        trgeo,\n",
    "        verbose=True,\n",
    "        max_speed_kmh= 0.1,\n",
    "        detect_stops=False,\n",
    "        compress=False ,\n",
    "        minutes_for_a_stop=2,\n",
    "        spatial_radius_km=0.2,\n",
    "        spatial_radius_compress_km=.2,\n",
    "        cluster_radius_km=0.5,\n",
    "        min_samples=2\n",
    "    )\n",
    "\n",
    "    # Cluster Assignation\n",
    "    trgeo_cl, distances = assign_tdf_points_to_clusters(\n",
    "        tdf=trgeo, \n",
    "        clusters=clusters\n",
    "    )\n",
    "\n",
    "    # Generation of Transit Dataframe\n",
    "    transit_df = get_mmc_transitions(trgeo_cl)\n",
    "\n",
    "    # Generation of Transit Matrix\n",
    "    transit_matrix = pd.crosstab(transit_df['cluster'], \n",
    "                                 transit_df['cluster_next'],\n",
    "                                 normalize='index').values\n",
    "    display(transit_matrix)\n",
    "    \n",
    "################################## START FIX ANTHONY ################################\n",
    "\n",
    "    #Lógica adicional para remover clusters sin salida o entrada\n",
    "    ##Retiramos las filas que tienen solo ceros y una columna con 1\n",
    "#    if ((transit_matrix.shape[0]>2 )& (transit_matrix.shape[1]>2)):\n",
    "#        print('Revisando filas de la Matriz de transición...')\n",
    "#        print('mostrando clusters iniciales')\n",
    "#        display(clusters)\n",
    "#        rows_to_drop = (transit_matrix==0).sum(axis=1)==(transit_matrix.shape[1]-1)#todos los valores en 0 excepto 1\n",
    "#        rows_to_drop = [idx for idx,row in enumerate(rows_to_drop) if row]\n",
    "#        if len(rows_to_drop)>0: \n",
    "#            transit_matrix = np.delete(transit_matrix,rows_to_drop,0)\n",
    "#            clusters=clusters.drop(rows_to_drop, axis=0  )\n",
    "#            print('clusters {} eliminados'.format(rows_to_drop))\n",
    "#            print('Transit matrix actual:')\n",
    "#            display(transit_matrix)\n",
    "            \n",
    "        ##Retiramos las columnas que tienen solo ceros una fila con 1\n",
    "#        print('Revisando columnas de la Matriz de transición...')\n",
    "#        print('mostrando clusters iniciales')\n",
    "#        display(clusters)\n",
    "#        cols_to_drop = (transit_matrix==0).sum(axis=0)==(transit_matrix.shape[0]-1)\n",
    "#        cols_to_drop = [idx for idx,col in enumerate(cols_to_drop) if col]\n",
    "#        if len(cols_to_drop)>0: \n",
    "#            transit_matrix = np.delete(transit_matrix,cols_to_drop,1)\n",
    "#            clusters=clusters.drop(cols_to_drop, axis=0  )\n",
    "#            print('clusters {} eliminados'.format(cols_to_drop))\n",
    "#            print('Transit matrix actual:')\n",
    "#            display(transit_matrix)\n",
    "#    display(transit_matrix)\n",
    "\n",
    "################################## END FIX ANTHONY ################################\n",
    "\n",
    "\n",
    "    # Stationary Vector Assignation\n",
    "    try:\n",
    "        clusters['sta_vector'] = get_stationary_vector(transit_matrix)\n",
    "    except:\n",
    "        pass\n",
    "    \n",
    "    return clusters, m, transit_matrix, transit_df"
   ]
  },
  {
   "cell_type": "markdown",
   "id": "315c29dc-747a-4fe2-ba09-bbcb3f8d6117",
   "metadata": {},
   "source": [
    "## Reading for 10 users"
   ]
  },
  {
   "cell_type": "code",
   "execution_count": 5,
   "id": "c52024c5-ceed-425e-9a98-7b781c4215f1",
   "metadata": {},
   "outputs": [],
   "source": [
    "# Reading 10 frames\n",
    "data = pd.read_csv('../data/geo_000_009.csv.zip')\n",
    "\n",
    "geo_columns = ['user', 'hour', 'lat', 'lng']\n",
    "\n",
    "data['hour'] = data['date'] + ' ' + data['time']\n",
    "data['user'] = data['user_id'].map(int)\n",
    "\n",
    "data = data[geo_columns]"
   ]
  },
  {
   "cell_type": "code",
   "execution_count": 7,
   "id": "733ba4ff-9779-4519-98e3-2241eab30916",
   "metadata": {},
   "outputs": [],
   "source": [
    "data = pd.read_parquet('../data/geolife_consolidated.parquet')"
   ]
  },
  {
   "cell_type": "code",
   "execution_count": 9,
   "id": "89cc61e0-d2d4-4725-8578-94a98f515833",
   "metadata": {},
   "outputs": [],
   "source": [
    "data[(data['user']>=0) & (data['user']<10)].to_parquet('../data/geolife_sample.parquet')"
   ]
  },
  {
   "cell_type": "code",
   "execution_count": null,
   "id": "38d6c062-6b80-496f-afff-c0b620e51d8e",
   "metadata": {},
   "outputs": [],
   "source": []
  },
  {
   "cell_type": "code",
   "execution_count": 10,
   "id": "968503c7-eff6-4ac7-b57f-c0a9552c731a",
   "metadata": {},
   "outputs": [],
   "source": [
    "data = pd.read_parquet('../data/geolife_sample.parquet')"
   ]
  },
  {
   "cell_type": "code",
   "execution_count": null,
   "id": "06bc5651-0115-4341-b877-587553c43b4b",
   "metadata": {
    "scrolled": true,
    "tags": []
   },
   "outputs": [
    {
     "name": "stderr",
     "output_type": "stream",
     "text": [
      " 10%|█         | 1/10 [03:15<29:21, 195.74s/it]"
     ]
    },
    {
     "name": "stdout",
     "output_type": "stream",
     "text": [
      "INFO: Clusters generated\n",
      "(108607, 7) (108607, 7) (108607, 7) (108607, 7) (108607, 8)\n",
      "INFO: 3 clusters generated.\n"
     ]
    },
    {
     "name": "stderr",
     "output_type": "stream",
     "text": [
      "\n",
      "  0%|          | 0/3 [00:00<?, ?it/s]\u001b[A\n",
      " 33%|███▎      | 1/3 [00:01<00:02,  1.46s/it]\u001b[A\n",
      " 67%|██████▋   | 2/3 [00:02<00:01,  1.44s/it]\u001b[A\n",
      "100%|██████████| 3/3 [00:04<00:00,  1.62s/it]\u001b[A\n"
     ]
    },
    {
     "data": {
      "text/plain": [
       "array([[1., 0.],\n",
       "       [0., 1.]])"
      ]
     },
     "metadata": {},
     "output_type": "display_data"
    },
    {
     "name": "stderr",
     "output_type": "stream",
     "text": [
      " 20%|██        | 2/10 [04:18<15:39, 117.44s/it]"
     ]
    },
    {
     "name": "stdout",
     "output_type": "stream",
     "text": [
      "Shape of transitMatrix:  (2, 2)\n"
     ]
    },
    {
     "name": "stderr",
     "output_type": "stream",
     "text": [
      " 30%|███       | 3/10 [14:19<39:27, 338.28s/it]"
     ]
    }
   ],
   "source": [
    "# Extraction of clusters \n",
    "geo_clusters = {}\n",
    "geo_clusters_img = {}\n",
    "geo_clusters_transit = {}\n",
    "geo_clusters_transit_df = {}\n",
    "users = sorted(data['user'].unique())\n",
    "for user in tqdm(users):\n",
    "    try:\n",
    "        geo = data[data['user']==user].reset_index(drop=True).copy()\n",
    "\n",
    "        clusters, m, transit_matrix, transit_df = get_mmc_clusters_stavectors(geo)\n",
    "\n",
    "        geo_clusters[user] = clusters\n",
    "        geo_clusters_img[user] = m\n",
    "        geo_clusters_transit[user] = transit_matrix\n",
    "        geo_clusters_transit_df[user] = transit_df\n",
    "    except:\n",
    "        pass"
   ]
  },
  {
   "cell_type": "markdown",
   "id": "642da1bc-391e-4c9d-b07e-d6f618fed9c9",
   "metadata": {},
   "source": [
    "- Motivo por el que solo se generaban 3 vectores estacionarios:\n",
    "    - Solo 3 usuarios tenían más de 2 clusters generados. Los demás tenían o solo 1 o solo 2"
   ]
  },
  {
   "cell_type": "code",
   "execution_count": 70,
   "id": "742d1e7d-8c09-49fa-af37-8493e0382258",
   "metadata": {},
   "outputs": [
    {
     "data": {
      "text/plain": [
       "[0, 1, 2, 3, 4, 5, 6, 7, 8, 9]"
      ]
     },
     "execution_count": 70,
     "metadata": {},
     "output_type": "execute_result"
    }
   ],
   "source": [
    "list(geo_clusters)"
   ]
  },
  {
   "cell_type": "code",
   "execution_count": 71,
   "id": "90f940a6-b9e9-4d7c-8210-bb8b72f86591",
   "metadata": {
    "scrolled": true,
    "tags": []
   },
   "outputs": [
    {
     "data": {
      "text/plain": [
       "{0:     cluster        lat         lng  sta_vector\n",
       " 0         0  40.003246  116.324191    0.245846\n",
       " 1         1  39.991716  116.349004    0.021381\n",
       " 2         2  39.981235  116.332803    0.085540\n",
       " 3         3  39.988041  116.429559    0.075040\n",
       " 4         4  40.026428  116.316120    0.010689\n",
       " 5         5  39.987518  116.326923    0.198747\n",
       " 6         6  39.986203  116.368617    0.160799\n",
       " 7         7  40.015903  116.324611    0.032067\n",
       " 8         8  40.005311  116.303108    0.042016\n",
       " 9         9  39.967301  116.327827    0.054509\n",
       " 10       10  39.909989  116.304525    0.009171\n",
       " 11       11  39.984702  116.318417    0.064196,\n",
       " 1:    cluster        lat         lng\n",
       " 0        0  40.013800  116.306496\n",
       " 1        1  40.001162  116.309039\n",
       " 2        2  40.012005  116.321618\n",
       " 3        3  39.988112  116.309925\n",
       " 4        4  39.984094  116.319236,\n",
       " 2:    cluster        lat         lng\n",
       " 0        0  39.899802  116.384715\n",
       " 1        1  39.926184  116.337697\n",
       " 2        2  39.908563  116.346460\n",
       " 3        3  39.931604  116.348371\n",
       " 4        4  39.989500  116.222359\n",
       " 5        5  39.902659  116.411137\n",
       " 6        6  39.921228  116.367238\n",
       " 7        7  39.936781  116.326203,\n",
       " 3:     cluster        lat         lng  sta_vector\n",
       " 0         0  40.000261  116.326378    0.266187\n",
       " 1         1  39.991716  116.349004    0.064748\n",
       " 2         2  39.975917  116.332982    0.093525\n",
       " 3         3  39.988041  116.429559    0.032374\n",
       " 4         4  40.026428  116.316120    0.014388\n",
       " 5         5  39.986203  116.368617    0.071942\n",
       " 6         6  39.957514  116.309738    0.014388\n",
       " 7         7  39.974982  116.340292    0.010791\n",
       " 8         8  39.970471  116.313089    0.100719\n",
       " 9         9  39.980805  116.310843    0.136691\n",
       " 10       10  39.987294  116.309755    0.154676\n",
       " 11       11  39.670183  116.391223    0.003597\n",
       " 12       12  39.987544  116.319801    0.035971,\n",
       " 4:    cluster        lat         lng  sta_vector\n",
       " 0        0  40.002623  116.324369    0.415385\n",
       " 1        1  39.975826  116.333716    0.164103\n",
       " 2        2  40.032414  116.313825    0.015385\n",
       " 3        3  39.983769  116.308113    0.266667\n",
       " 4        4  39.986368  116.375761    0.051282\n",
       " 5        5  40.089947  116.584113    0.005128\n",
       " 6        6  39.956815  116.341584    0.082051,\n",
       " 5:    cluster        lat         lng  sta_vector\n",
       " 0        0  40.000718  116.326845         0.5\n",
       " 1        1  40.005502  116.333585         0.5,\n",
       " 6:    cluster        lat         lng\n",
       " 0        0  39.981983  116.344650\n",
       " 1        1  39.959561  116.340412\n",
       " 2        2  39.920292  116.304426\n",
       " 3        3  39.984071  116.320147,\n",
       " 7:    cluster        lat         lng  sta_vector\n",
       " 0        0  39.980072  116.340280    0.470588\n",
       " 1        1  39.968444  116.348370    0.176471\n",
       " 2        2  39.975043  116.325513    0.352941,\n",
       " 8:    cluster        lat         lng  sta_vector\n",
       " 0        0  39.981109  116.329055    0.250000\n",
       " 1        1  39.985782  116.350905    0.076087\n",
       " 2        2  39.965570  116.348777    0.228261\n",
       " 3        3  39.975389  116.361019    0.021739\n",
       " 4        4  39.966117  116.335676    0.119565\n",
       " 5        5  39.959649  116.361185    0.130435\n",
       " 6        6  39.985529  116.341442    0.173913,\n",
       " 9:    cluster        lat         lng\n",
       " 0        0  40.002778  116.343837\n",
       " 1        1  40.049928  116.300686}"
      ]
     },
     "execution_count": 71,
     "metadata": {},
     "output_type": "execute_result"
    }
   ],
   "source": [
    "geo_clusters"
   ]
  },
  {
   "cell_type": "code",
   "execution_count": 75,
   "id": "96d51d08-ee7c-4089-9369-c01c2d8278d6",
   "metadata": {},
   "outputs": [
    {
     "data": {
      "text/html": [
       "<div>\n",
       "<style scoped>\n",
       "    .dataframe tbody tr th:only-of-type {\n",
       "        vertical-align: middle;\n",
       "    }\n",
       "\n",
       "    .dataframe tbody tr th {\n",
       "        vertical-align: top;\n",
       "    }\n",
       "\n",
       "    .dataframe thead th {\n",
       "        text-align: right;\n",
       "    }\n",
       "</style>\n",
       "<table border=\"1\" class=\"dataframe\">\n",
       "  <thead>\n",
       "    <tr style=\"text-align: right;\">\n",
       "      <th></th>\n",
       "      <th>cluster</th>\n",
       "      <th>lat</th>\n",
       "      <th>lng</th>\n",
       "    </tr>\n",
       "  </thead>\n",
       "  <tbody>\n",
       "    <tr>\n",
       "      <th>0</th>\n",
       "      <td>0</td>\n",
       "      <td>39.981983</td>\n",
       "      <td>116.344650</td>\n",
       "    </tr>\n",
       "    <tr>\n",
       "      <th>1</th>\n",
       "      <td>1</td>\n",
       "      <td>39.959561</td>\n",
       "      <td>116.340412</td>\n",
       "    </tr>\n",
       "    <tr>\n",
       "      <th>2</th>\n",
       "      <td>2</td>\n",
       "      <td>39.920292</td>\n",
       "      <td>116.304426</td>\n",
       "    </tr>\n",
       "    <tr>\n",
       "      <th>3</th>\n",
       "      <td>3</td>\n",
       "      <td>39.984071</td>\n",
       "      <td>116.320147</td>\n",
       "    </tr>\n",
       "  </tbody>\n",
       "</table>\n",
       "</div>"
      ],
      "text/plain": [
       "   cluster        lat         lng\n",
       "0        0  39.981983  116.344650\n",
       "1        1  39.959561  116.340412\n",
       "2        2  39.920292  116.304426\n",
       "3        3  39.984071  116.320147"
      ]
     },
     "execution_count": 75,
     "metadata": {},
     "output_type": "execute_result"
    }
   ],
   "source": [
    "geo_clusters[6]"
   ]
  },
  {
   "cell_type": "code",
   "execution_count": 79,
   "id": "d4a455fb-798f-4a5f-ab28-2ab0596547f7",
   "metadata": {},
   "outputs": [
    {
     "data": {
      "text/plain": [
       "array([[0. , 0.5, 0.5],\n",
       "       [1. , 0. , 0. ],\n",
       "       [1. , 0. , 0. ],\n",
       "       [1. , 0. , 0. ]])"
      ]
     },
     "execution_count": 79,
     "metadata": {},
     "output_type": "execute_result"
    }
   ],
   "source": [
    "geo_clusters_transit[6]"
   ]
  },
  {
   "cell_type": "code",
   "execution_count": 141,
   "id": "e09ad24d-b6d7-4ecc-9aca-772b4e0ffc18",
   "metadata": {},
   "outputs": [
    {
     "data": {
      "text/html": [
       "<div>\n",
       "<style scoped>\n",
       "    .dataframe tbody tr th:only-of-type {\n",
       "        vertical-align: middle;\n",
       "    }\n",
       "\n",
       "    .dataframe tbody tr th {\n",
       "        vertical-align: top;\n",
       "    }\n",
       "\n",
       "    .dataframe thead th {\n",
       "        text-align: right;\n",
       "    }\n",
       "</style>\n",
       "<table border=\"1\" class=\"dataframe\">\n",
       "  <thead>\n",
       "    <tr style=\"text-align: right;\">\n",
       "      <th></th>\n",
       "      <th>uid</th>\n",
       "      <th>datetime</th>\n",
       "      <th>lat</th>\n",
       "      <th>lng</th>\n",
       "      <th>cluster</th>\n",
       "      <th>cluster_next</th>\n",
       "      <th>transition</th>\n",
       "    </tr>\n",
       "  </thead>\n",
       "  <tbody>\n",
       "    <tr>\n",
       "      <th>92</th>\n",
       "      <td>6</td>\n",
       "      <td>2008-10-23 07:07:05</td>\n",
       "      <td>39.984248</td>\n",
       "      <td>116.322444</td>\n",
       "      <td>d_cl_03</td>\n",
       "      <td>d_cl_00</td>\n",
       "      <td>d_cl_03-d_cl_00</td>\n",
       "    </tr>\n",
       "    <tr>\n",
       "      <th>365</th>\n",
       "      <td>6</td>\n",
       "      <td>2008-10-24 10:51:18</td>\n",
       "      <td>39.982554</td>\n",
       "      <td>116.346848</td>\n",
       "      <td>d_cl_00</td>\n",
       "      <td>d_cl_02</td>\n",
       "      <td>d_cl_00-d_cl_02</td>\n",
       "    </tr>\n",
       "    <tr>\n",
       "      <th>2048</th>\n",
       "      <td>6</td>\n",
       "      <td>2008-10-25 06:06:30</td>\n",
       "      <td>39.918977</td>\n",
       "      <td>116.303938</td>\n",
       "      <td>d_cl_02</td>\n",
       "      <td>d_cl_00</td>\n",
       "      <td>d_cl_02-d_cl_00</td>\n",
       "    </tr>\n",
       "    <tr>\n",
       "      <th>5371</th>\n",
       "      <td>6</td>\n",
       "      <td>2008-11-05 11:53:58</td>\n",
       "      <td>39.981906</td>\n",
       "      <td>116.342307</td>\n",
       "      <td>d_cl_00</td>\n",
       "      <td>d_cl_01</td>\n",
       "      <td>d_cl_00-d_cl_01</td>\n",
       "    </tr>\n",
       "    <tr>\n",
       "      <th>6028</th>\n",
       "      <td>6</td>\n",
       "      <td>2008-11-06 06:38:31</td>\n",
       "      <td>39.960441</td>\n",
       "      <td>116.340483</td>\n",
       "      <td>d_cl_01</td>\n",
       "      <td>d_cl_00</td>\n",
       "      <td>d_cl_01-d_cl_00</td>\n",
       "    </tr>\n",
       "    <tr>\n",
       "      <th>10789</th>\n",
       "      <td>6</td>\n",
       "      <td>2008-11-12 11:51:42</td>\n",
       "      <td>39.982794</td>\n",
       "      <td>116.342671</td>\n",
       "      <td>d_cl_00</td>\n",
       "      <td>d_cl_01</td>\n",
       "      <td>d_cl_00-d_cl_01</td>\n",
       "    </tr>\n",
       "    <tr>\n",
       "      <th>11157</th>\n",
       "      <td>6</td>\n",
       "      <td>2008-11-13 06:21:55</td>\n",
       "      <td>39.961223</td>\n",
       "      <td>116.339768</td>\n",
       "      <td>d_cl_01</td>\n",
       "      <td>d_cl_00</td>\n",
       "      <td>d_cl_01-d_cl_00</td>\n",
       "    </tr>\n",
       "    <tr>\n",
       "      <th>12929</th>\n",
       "      <td>6</td>\n",
       "      <td>2008-11-16 06:07:49</td>\n",
       "      <td>39.982195</td>\n",
       "      <td>116.346976</td>\n",
       "      <td>d_cl_00</td>\n",
       "      <td>d_cl_02</td>\n",
       "      <td>d_cl_00-d_cl_02</td>\n",
       "    </tr>\n",
       "    <tr>\n",
       "      <th>13444</th>\n",
       "      <td>6</td>\n",
       "      <td>2008-11-16 06:49:18</td>\n",
       "      <td>39.918702</td>\n",
       "      <td>116.303780</td>\n",
       "      <td>d_cl_02</td>\n",
       "      <td>d_cl_00</td>\n",
       "      <td>d_cl_02-d_cl_00</td>\n",
       "    </tr>\n",
       "    <tr>\n",
       "      <th>15763</th>\n",
       "      <td>6</td>\n",
       "      <td>2008-11-19 11:50:53</td>\n",
       "      <td>39.982055</td>\n",
       "      <td>116.342364</td>\n",
       "      <td>d_cl_00</td>\n",
       "      <td>d_cl_01</td>\n",
       "      <td>d_cl_00-d_cl_01</td>\n",
       "    </tr>\n",
       "    <tr>\n",
       "      <th>20818</th>\n",
       "      <td>6</td>\n",
       "      <td>2008-11-21 15:04:33</td>\n",
       "      <td>39.960821</td>\n",
       "      <td>116.340073</td>\n",
       "      <td>d_cl_01</td>\n",
       "      <td>d_cl_00</td>\n",
       "      <td>d_cl_01-d_cl_00</td>\n",
       "    </tr>\n",
       "    <tr>\n",
       "      <th>22058</th>\n",
       "      <td>6</td>\n",
       "      <td>2008-12-03 11:35:36</td>\n",
       "      <td>39.981717</td>\n",
       "      <td>116.342353</td>\n",
       "      <td>d_cl_00</td>\n",
       "      <td>d_cl_02</td>\n",
       "      <td>d_cl_00-d_cl_02</td>\n",
       "    </tr>\n",
       "    <tr>\n",
       "      <th>27511</th>\n",
       "      <td>6</td>\n",
       "      <td>2008-12-07 12:56:55</td>\n",
       "      <td>39.921823</td>\n",
       "      <td>116.304700</td>\n",
       "      <td>d_cl_02</td>\n",
       "      <td>d_cl_00</td>\n",
       "      <td>d_cl_02-d_cl_00</td>\n",
       "    </tr>\n",
       "  </tbody>\n",
       "</table>\n",
       "</div>"
      ],
      "text/plain": [
       "       uid            datetime        lat         lng  cluster cluster_next  \\\n",
       "92       6 2008-10-23 07:07:05  39.984248  116.322444  d_cl_03      d_cl_00   \n",
       "365      6 2008-10-24 10:51:18  39.982554  116.346848  d_cl_00      d_cl_02   \n",
       "2048     6 2008-10-25 06:06:30  39.918977  116.303938  d_cl_02      d_cl_00   \n",
       "5371     6 2008-11-05 11:53:58  39.981906  116.342307  d_cl_00      d_cl_01   \n",
       "6028     6 2008-11-06 06:38:31  39.960441  116.340483  d_cl_01      d_cl_00   \n",
       "10789    6 2008-11-12 11:51:42  39.982794  116.342671  d_cl_00      d_cl_01   \n",
       "11157    6 2008-11-13 06:21:55  39.961223  116.339768  d_cl_01      d_cl_00   \n",
       "12929    6 2008-11-16 06:07:49  39.982195  116.346976  d_cl_00      d_cl_02   \n",
       "13444    6 2008-11-16 06:49:18  39.918702  116.303780  d_cl_02      d_cl_00   \n",
       "15763    6 2008-11-19 11:50:53  39.982055  116.342364  d_cl_00      d_cl_01   \n",
       "20818    6 2008-11-21 15:04:33  39.960821  116.340073  d_cl_01      d_cl_00   \n",
       "22058    6 2008-12-03 11:35:36  39.981717  116.342353  d_cl_00      d_cl_02   \n",
       "27511    6 2008-12-07 12:56:55  39.921823  116.304700  d_cl_02      d_cl_00   \n",
       "\n",
       "            transition  \n",
       "92     d_cl_03-d_cl_00  \n",
       "365    d_cl_00-d_cl_02  \n",
       "2048   d_cl_02-d_cl_00  \n",
       "5371   d_cl_00-d_cl_01  \n",
       "6028   d_cl_01-d_cl_00  \n",
       "10789  d_cl_00-d_cl_01  \n",
       "11157  d_cl_01-d_cl_00  \n",
       "12929  d_cl_00-d_cl_02  \n",
       "13444  d_cl_02-d_cl_00  \n",
       "15763  d_cl_00-d_cl_01  \n",
       "20818  d_cl_01-d_cl_00  \n",
       "22058  d_cl_00-d_cl_02  \n",
       "27511  d_cl_02-d_cl_00  "
      ]
     },
     "execution_count": 141,
     "metadata": {},
     "output_type": "execute_result"
    }
   ],
   "source": [
    "geo_clusters_transit_df[6]"
   ]
  },
  {
   "cell_type": "markdown",
   "id": "43e7fc39-d3f5-4660-b90b-c0b08c4ec51a",
   "metadata": {},
   "source": [
    "- Este tipo de Clusters no debería existir"
   ]
  },
  {
   "cell_type": "code",
   "execution_count": 78,
   "id": "9272eaad-e1d3-4266-8e6e-3a68612176e8",
   "metadata": {},
   "outputs": [
    {
     "data": {
      "text/plain": [
       "d_cl_00    7\n",
       "d_cl_01    3\n",
       "d_cl_02    3\n",
       "Name: cluster_next, dtype: int64"
      ]
     },
     "execution_count": 78,
     "metadata": {},
     "output_type": "execute_result"
    }
   ],
   "source": [
    "dd['cluster_next'].value_counts()"
   ]
  },
  {
   "cell_type": "code",
   "execution_count": 55,
   "id": "07d39ff9-8045-4938-959e-ac4ad40356bd",
   "metadata": {},
   "outputs": [
    {
     "data": {
      "text/html": [
       "<div>\n",
       "<style scoped>\n",
       "    .dataframe tbody tr th:only-of-type {\n",
       "        vertical-align: middle;\n",
       "    }\n",
       "\n",
       "    .dataframe tbody tr th {\n",
       "        vertical-align: top;\n",
       "    }\n",
       "\n",
       "    .dataframe thead th {\n",
       "        text-align: right;\n",
       "    }\n",
       "</style>\n",
       "<table border=\"1\" class=\"dataframe\">\n",
       "  <thead>\n",
       "    <tr style=\"text-align: right;\">\n",
       "      <th></th>\n",
       "      <th>uid</th>\n",
       "      <th>datetime</th>\n",
       "      <th>lat</th>\n",
       "      <th>lng</th>\n",
       "      <th>cluster</th>\n",
       "      <th>cluster_next</th>\n",
       "      <th>transition</th>\n",
       "    </tr>\n",
       "  </thead>\n",
       "  <tbody>\n",
       "  </tbody>\n",
       "</table>\n",
       "</div>"
      ],
      "text/plain": [
       "Empty TrajDataFrame\n",
       "Columns: [uid, datetime, lat, lng, cluster, cluster_next, transition]\n",
       "Index: []"
      ]
     },
     "execution_count": 55,
     "metadata": {},
     "output_type": "execute_result"
    }
   ],
   "source": [
    "dd"
   ]
  },
  {
   "cell_type": "code",
   "execution_count": null,
   "id": "f2d03d2c-341a-40bd-865c-7b649d6fb68e",
   "metadata": {},
   "outputs": [],
   "source": []
  },
  {
   "cell_type": "code",
   "execution_count": 103,
   "id": "1d654f5c-9fb4-49a6-ac72-cc6f7117b057",
   "metadata": {},
   "outputs": [
    {
     "data": {
      "text/html": [
       "<div>\n",
       "<style scoped>\n",
       "    .dataframe tbody tr th:only-of-type {\n",
       "        vertical-align: middle;\n",
       "    }\n",
       "\n",
       "    .dataframe tbody tr th {\n",
       "        vertical-align: top;\n",
       "    }\n",
       "\n",
       "    .dataframe thead th {\n",
       "        text-align: right;\n",
       "    }\n",
       "</style>\n",
       "<table border=\"1\" class=\"dataframe\">\n",
       "  <thead>\n",
       "    <tr style=\"text-align: right;\">\n",
       "      <th></th>\n",
       "      <th>cluster</th>\n",
       "      <th>lat</th>\n",
       "      <th>lng</th>\n",
       "      <th>sta_vector</th>\n",
       "    </tr>\n",
       "  </thead>\n",
       "  <tbody>\n",
       "    <tr>\n",
       "      <th>0</th>\n",
       "      <td>0</td>\n",
       "      <td>40.000718</td>\n",
       "      <td>116.326845</td>\n",
       "      <td>0.5</td>\n",
       "    </tr>\n",
       "    <tr>\n",
       "      <th>1</th>\n",
       "      <td>1</td>\n",
       "      <td>40.005502</td>\n",
       "      <td>116.333585</td>\n",
       "      <td>0.5</td>\n",
       "    </tr>\n",
       "  </tbody>\n",
       "</table>\n",
       "</div>"
      ],
      "text/plain": [
       "   cluster        lat         lng  sta_vector\n",
       "0        0  40.000718  116.326845         0.5\n",
       "1        1  40.005502  116.333585         0.5"
      ]
     },
     "execution_count": 103,
     "metadata": {},
     "output_type": "execute_result"
    }
   ],
   "source": [
    "# 0, 3, 4, 7\n",
    "geo_clusters[]"
   ]
  },
  {
   "cell_type": "code",
   "execution_count": 142,
   "id": "c190f067-dc4c-4e14-8e63-23292d6f5b0f",
   "metadata": {},
   "outputs": [
    {
     "data": {
      "text/html": [
       "<div>\n",
       "<style scoped>\n",
       "    .dataframe tbody tr th:only-of-type {\n",
       "        vertical-align: middle;\n",
       "    }\n",
       "\n",
       "    .dataframe tbody tr th {\n",
       "        vertical-align: top;\n",
       "    }\n",
       "\n",
       "    .dataframe thead th {\n",
       "        text-align: right;\n",
       "    }\n",
       "</style>\n",
       "<table border=\"1\" class=\"dataframe\">\n",
       "  <thead>\n",
       "    <tr style=\"text-align: right;\">\n",
       "      <th></th>\n",
       "      <th>cluster</th>\n",
       "      <th>lat</th>\n",
       "      <th>lng</th>\n",
       "      <th>sta_vector</th>\n",
       "    </tr>\n",
       "  </thead>\n",
       "  <tbody>\n",
       "    <tr>\n",
       "      <th>0</th>\n",
       "      <td>0</td>\n",
       "      <td>40.003246</td>\n",
       "      <td>116.324191</td>\n",
       "      <td>0.245846</td>\n",
       "    </tr>\n",
       "    <tr>\n",
       "      <th>1</th>\n",
       "      <td>1</td>\n",
       "      <td>39.991716</td>\n",
       "      <td>116.349004</td>\n",
       "      <td>0.021381</td>\n",
       "    </tr>\n",
       "    <tr>\n",
       "      <th>2</th>\n",
       "      <td>2</td>\n",
       "      <td>39.981235</td>\n",
       "      <td>116.332803</td>\n",
       "      <td>0.085540</td>\n",
       "    </tr>\n",
       "    <tr>\n",
       "      <th>3</th>\n",
       "      <td>3</td>\n",
       "      <td>39.988041</td>\n",
       "      <td>116.429559</td>\n",
       "      <td>0.075040</td>\n",
       "    </tr>\n",
       "    <tr>\n",
       "      <th>4</th>\n",
       "      <td>4</td>\n",
       "      <td>40.026428</td>\n",
       "      <td>116.316120</td>\n",
       "      <td>0.010689</td>\n",
       "    </tr>\n",
       "    <tr>\n",
       "      <th>5</th>\n",
       "      <td>5</td>\n",
       "      <td>39.987518</td>\n",
       "      <td>116.326923</td>\n",
       "      <td>0.198747</td>\n",
       "    </tr>\n",
       "    <tr>\n",
       "      <th>6</th>\n",
       "      <td>6</td>\n",
       "      <td>39.986203</td>\n",
       "      <td>116.368617</td>\n",
       "      <td>0.160799</td>\n",
       "    </tr>\n",
       "    <tr>\n",
       "      <th>7</th>\n",
       "      <td>7</td>\n",
       "      <td>40.015903</td>\n",
       "      <td>116.324611</td>\n",
       "      <td>0.032067</td>\n",
       "    </tr>\n",
       "    <tr>\n",
       "      <th>8</th>\n",
       "      <td>8</td>\n",
       "      <td>40.005311</td>\n",
       "      <td>116.303108</td>\n",
       "      <td>0.042016</td>\n",
       "    </tr>\n",
       "    <tr>\n",
       "      <th>9</th>\n",
       "      <td>9</td>\n",
       "      <td>39.967301</td>\n",
       "      <td>116.327827</td>\n",
       "      <td>0.054509</td>\n",
       "    </tr>\n",
       "    <tr>\n",
       "      <th>10</th>\n",
       "      <td>10</td>\n",
       "      <td>39.909989</td>\n",
       "      <td>116.304525</td>\n",
       "      <td>0.009171</td>\n",
       "    </tr>\n",
       "    <tr>\n",
       "      <th>11</th>\n",
       "      <td>11</td>\n",
       "      <td>39.984702</td>\n",
       "      <td>116.318417</td>\n",
       "      <td>0.064196</td>\n",
       "    </tr>\n",
       "  </tbody>\n",
       "</table>\n",
       "</div>"
      ],
      "text/plain": [
       "    cluster        lat         lng  sta_vector\n",
       "0         0  40.003246  116.324191    0.245846\n",
       "1         1  39.991716  116.349004    0.021381\n",
       "2         2  39.981235  116.332803    0.085540\n",
       "3         3  39.988041  116.429559    0.075040\n",
       "4         4  40.026428  116.316120    0.010689\n",
       "5         5  39.987518  116.326923    0.198747\n",
       "6         6  39.986203  116.368617    0.160799\n",
       "7         7  40.015903  116.324611    0.032067\n",
       "8         8  40.005311  116.303108    0.042016\n",
       "9         9  39.967301  116.327827    0.054509\n",
       "10       10  39.909989  116.304525    0.009171\n",
       "11       11  39.984702  116.318417    0.064196"
      ]
     },
     "execution_count": 142,
     "metadata": {},
     "output_type": "execute_result"
    }
   ],
   "source": [
    "geo_clusters[0]"
   ]
  },
  {
   "cell_type": "code",
   "execution_count": 137,
   "id": "d2a02f7d-4edb-4beb-af9e-2c872aba882c",
   "metadata": {},
   "outputs": [],
   "source": [
    "cluster_list = [geo_clusters[0], geo_clusters[3], geo_clusters[4], geo_clusters[7],\n",
    "               geo_clusters[0], geo_clusters[3]]"
   ]
  },
  {
   "cell_type": "code",
   "execution_count": 1,
   "id": "d7b57e6e-a1e4-4158-aac4-a2f53e3bef84",
   "metadata": {},
   "outputs": [],
   "source": [
    "import sys"
   ]
  },
  {
   "cell_type": "code",
   "execution_count": 2,
   "id": "1b850fcc-1803-4364-a67e-6804609dc3d4",
   "metadata": {},
   "outputs": [],
   "source": [
    "sys.path.append('../')"
   ]
  },
  {
   "cell_type": "code",
   "execution_count": null,
   "id": "27403b5b-edf5-4c72-86d2-83f450804b18",
   "metadata": {},
   "outputs": [],
   "source": [
    "from src.geo_utils import get_mmc_distances_matrix"
   ]
  },
  {
   "cell_type": "code",
   "execution_count": 152,
   "id": "221cf954-9fca-4ade-8904-ca7c550b0ad0",
   "metadata": {},
   "outputs": [
    {
     "data": {
      "text/plain": [
       "array([[0.    , 0.5945, 0.8877, 1.7545, 0.    , 0.5945],\n",
       "       [0.5945, 0.    , 0.7266, 1.4086, 0.5945, 0.    ],\n",
       "       [0.8877, 0.7266, 0.    , 1.5542, 0.8877, 0.7266],\n",
       "       [1.7545, 1.4086, 1.5542, 0.    , 1.7545, 1.4086],\n",
       "       [0.    , 0.5945, 0.8877, 1.7545, 0.    , 0.5945],\n",
       "       [0.5945, 0.    , 0.7266, 1.4086, 0.5945, 0.    ]])"
      ]
     },
     "execution_count": 152,
     "metadata": {},
     "output_type": "execute_result"
    }
   ],
   "source": [
    "mmc_matrix = get_mmc_distances_matrix(cluster_list, cluster_list)\n",
    "mmc_matrix"
   ]
  },
  {
   "cell_type": "code",
   "execution_count": 149,
   "id": "65927f4d-be13-463d-b44e-5db12658bead",
   "metadata": {},
   "outputs": [
    {
     "name": "stdout",
     "output_type": "stream",
     "text": [
      "[[0.     0.5945 0.8877 1.7545 0.     0.5945]\n",
      " [0.5945 0.     0.7266 1.4086 0.5945 0.    ]\n",
      " [0.8877 0.7266 0.     1.5542 0.8877 0.7266]\n",
      " [1.7545 1.4086 1.5542 0.     1.7545 1.4086]\n",
      " [0.     0.5945 0.8877 1.7545 0.     0.5945]\n",
      " [0.5945 0.     0.7266 1.4086 0.5945 0.    ]]\n"
     ]
    }
   ],
   "source": [
    "print(get_mmc_distances_matrix(cluster_list, cluster_list))"
   ]
  },
  {
   "cell_type": "code",
   "execution_count": 153,
   "id": "78715b86-8342-4524-87e2-f1b75373f19e",
   "metadata": {},
   "outputs": [
    {
     "data": {
      "text/plain": [
       "array([[0.    , 0.5945, 0.8877, 1.7545, 0.    , 0.5945],\n",
       "       [0.5945, 0.    , 0.7266, 1.4086, 0.5945, 0.    ],\n",
       "       [0.8877, 0.7266, 0.    , 1.5542, 0.8877, 0.7266],\n",
       "       [1.7545, 1.4086, 1.5542, 0.    , 1.7545, 1.4086],\n",
       "       [0.    , 0.5945, 0.8877, 1.7545, 0.    , 0.5945],\n",
       "       [0.5945, 0.    , 0.7266, 1.4086, 0.5945, 0.    ]])"
      ]
     },
     "execution_count": 153,
     "metadata": {},
     "output_type": "execute_result"
    }
   ],
   "source": [
    "mmc_matrix"
   ]
  },
  {
   "cell_type": "code",
   "execution_count": null,
   "id": "8cbbe18b-bdc9-4622-8104-a6515888f22f",
   "metadata": {},
   "outputs": [],
   "source": []
  },
  {
   "cell_type": "code",
   "execution_count": null,
   "id": "6d9618d3-b0cf-4a37-b6c9-44d1871f0c0e",
   "metadata": {},
   "outputs": [],
   "source": []
  },
  {
   "cell_type": "code",
   "execution_count": 110,
   "id": "fd31e3f7-43a0-45cd-af3b-59c44c7cb81d",
   "metadata": {},
   "outputs": [],
   "source": []
  },
  {
   "cell_type": "code",
   "execution_count": 111,
   "id": "73aceff0-f157-4e1c-b15d-a6dd04112406",
   "metadata": {},
   "outputs": [
    {
     "data": {
      "text/plain": [
       "array([[0.        , 0.59449514, 0.88774429, 1.75452123],\n",
       "       [0.59449514, 0.        , 0.726551  , 1.40861446],\n",
       "       [0.88774429, 0.726551  , 0.        , 1.55416061],\n",
       "       [1.75452123, 1.40861446, 1.55416061, 0.        ]])"
      ]
     },
     "execution_count": 111,
     "metadata": {},
     "output_type": "execute_result"
    }
   ],
   "source": [
    "distance_matrix"
   ]
  },
  {
   "cell_type": "code",
   "execution_count": 109,
   "id": "84b0b9f9-ae62-42c4-bcd6-85ef03dd0d79",
   "metadata": {},
   "outputs": [
    {
     "data": {
      "text/plain": [
       "array([[0., 0., 0., 0.],\n",
       "       [0., 0., 0., 0.],\n",
       "       [0., 0., 0., 0.],\n",
       "       [0., 0., 0., 0.]])"
      ]
     },
     "execution_count": 109,
     "metadata": {},
     "output_type": "execute_result"
    }
   ],
   "source": [
    "distance_matrix"
   ]
  },
  {
   "cell_type": "code",
   "execution_count": null,
   "id": "c324b617-f2f1-4fbe-9d67-234e3788950f",
   "metadata": {},
   "outputs": [],
   "source": []
  },
  {
   "cell_type": "code",
   "execution_count": null,
   "id": "32b45a40-251e-4409-a918-2e0c526a40be",
   "metadata": {},
   "outputs": [],
   "source": []
  },
  {
   "cell_type": "markdown",
   "id": "5ade8489-8f80-481d-b829-241ec82ae147",
   "metadata": {},
   "source": [
    "## Distance Estimation"
   ]
  },
  {
   "cell_type": "code",
   "execution_count": 81,
   "id": "b107f591-e28b-49c2-84f7-99c6934791f4",
   "metadata": {},
   "outputs": [],
   "source": [
    "cluster_0 = geo_clusters[0]\n",
    "cluster_1 = geo_clusters[3]\n",
    "cluster_2 = geo_clusters[4]"
   ]
  },
  {
   "cell_type": "code",
   "execution_count": 84,
   "id": "0ec247e3-6731-4970-b5e6-28aa244c78df",
   "metadata": {},
   "outputs": [
    {
     "data": {
      "text/plain": [
       "0.7265510040177836"
      ]
     },
     "execution_count": 84,
     "metadata": {},
     "output_type": "execute_result"
    }
   ],
   "source": [
    "get_mean_distance_bw_clusters(cluster_1=cluster_1, cluster_2=cluster_2)"
   ]
  },
  {
   "cell_type": "code",
   "execution_count": 85,
   "id": "28d3bdb8-e968-4427-aef6-c66cd0eab686",
   "metadata": {},
   "outputs": [
    {
     "data": {
      "text/plain": [
       "0.8877442937799871"
      ]
     },
     "execution_count": 85,
     "metadata": {},
     "output_type": "execute_result"
    }
   ],
   "source": [
    "get_mean_distance_bw_clusters(cluster_1=cluster_0, cluster_2=cluster_2)"
   ]
  },
  {
   "cell_type": "code",
   "execution_count": null,
   "id": "430504dc-df11-4228-b912-c29bb95cdca6",
   "metadata": {},
   "outputs": [],
   "source": []
  },
  {
   "cell_type": "code",
   "execution_count": null,
   "id": "efb07acd-f88d-490f-90bc-fbfaf891fb97",
   "metadata": {},
   "outputs": [],
   "source": []
  },
  {
   "cell_type": "code",
   "execution_count": null,
   "id": "9705f654-63df-40aa-a020-378823c611b9",
   "metadata": {},
   "outputs": [],
   "source": []
  },
  {
   "cell_type": "markdown",
   "id": "eda62f39-0bc1-45e6-b818-7823fa2c7574",
   "metadata": {},
   "source": [
    "## Testing of Parameters"
   ]
  },
  {
   "cell_type": "markdown",
   "id": "e0feb692-a96e-4505-bcf1-dc5d78b22c76",
   "metadata": {},
   "source": [
    "We will test different parameters with cluster combinations to select the best params."
   ]
  },
  {
   "cell_type": "code",
   "execution_count": null,
   "id": "66251167-5618-4a4b-812f-942b93659ca6",
   "metadata": {},
   "outputs": [],
   "source": [
    "from IPython import display"
   ]
  },
  {
   "cell_type": "code",
   "execution_count": null,
   "id": "0ed9a98f-a092-40b3-8c7e-467424530f71",
   "metadata": {},
   "outputs": [],
   "source": [
    "def test_geo_parameters(geo,\n",
    "                        verbose=True,\n",
    "                        max_speed_kmh= 0.01,\n",
    "                        detect_stops=False,\n",
    "                        compress=False ,\n",
    "                        minutes_for_a_stop=2,\n",
    "                        spatial_radius_km=0.2,\n",
    "                        spatial_radius_compress_km=.2,\n",
    "                        cluster_radius_km=0.5,\n",
    "                        min_samples=2):\n",
    "\n",
    "    '''Test Parameters for generation of MMCs\n",
    "    \n",
    "    '''\n",
    "    # TDF Definition\n",
    "    trgeo = skmob.TrajDataFrame(\n",
    "        geo, \n",
    "        datetime='hour',\n",
    "        user_id='user'\n",
    "    )\n",
    "\n",
    "    # Cluster Generation\n",
    "    clusters, m = get_clusters_from_tdf(\n",
    "        trgeo,\n",
    "        verbose=verbose,\n",
    "        max_speed_kmh= max_speed_kmh,\n",
    "        detect_stops=detect_stops,\n",
    "        compress=compress ,\n",
    "        minutes_for_a_stop=minutes_for_a_stop,\n",
    "        spatial_radius_km=spatial_radius_km,\n",
    "        spatial_radius_compress_km=spatial_radius_compress_km,\n",
    "        cluster_radius_km=cluster_radius_km,\n",
    "        min_samples=min_samples\n",
    "    )\n",
    "    print(f'\\nUSER: {geo[\"user\"].values[0]}\\n')\n",
    "    display.display_html(m)"
   ]
  },
  {
   "cell_type": "code",
   "execution_count": null,
   "id": "83e71551-43a5-4cac-85cd-1cdec3697960",
   "metadata": {
    "scrolled": true,
    "tags": []
   },
   "outputs": [],
   "source": [
    "# TESTING PARAMETERS\n",
    "users = sorted(data['user'].unique())\n",
    "for user in tqdm(users):\n",
    "    geo = data[data['user']==user].reset_index(drop=True).copy()\n",
    "    test_geo_parameters(\n",
    "        geo,\n",
    "        verbose=True,\n",
    "        max_speed_kmh= 0.1,\n",
    "        detect_stops=False,\n",
    "        compress=False ,\n",
    "        minutes_for_a_stop=2,\n",
    "        spatial_radius_km=0.2,\n",
    "        spatial_radius_compress_km=.2,\n",
    "        cluster_radius_km=0.5,\n",
    "        min_samples=2\n",
    "    )"
   ]
  },
  {
   "cell_type": "code",
   "execution_count": null,
   "id": "9a187f15-d275-40a1-9168-7084cf9a61df",
   "metadata": {},
   "outputs": [],
   "source": []
  },
  {
   "cell_type": "code",
   "execution_count": null,
   "id": "1955a1d2-f8aa-46ba-93e9-5417db4c8b0b",
   "metadata": {},
   "outputs": [],
   "source": []
  },
  {
   "cell_type": "code",
   "execution_count": null,
   "id": "082813e0-8b2e-4370-967c-17b31fa1bd5e",
   "metadata": {},
   "outputs": [],
   "source": []
  },
  {
   "cell_type": "code",
   "execution_count": null,
   "id": "994b4f38-f8a1-4c1b-a00b-d8a8daba1b1d",
   "metadata": {},
   "outputs": [],
   "source": []
  },
  {
   "cell_type": "code",
   "execution_count": null,
   "id": "fd18eb70-bbe9-467b-b73a-e89f53fe36fa",
   "metadata": {},
   "outputs": [],
   "source": []
  },
  {
   "cell_type": "code",
   "execution_count": null,
   "id": "d2e3dff9-f7f7-4310-afff-0bbf194a14e7",
   "metadata": {},
   "outputs": [],
   "source": []
  }
 ],
 "metadata": {
  "kernelspec": {
   "display_name": "Python 3",
   "language": "python",
   "name": "python3"
  },
  "language_info": {
   "codemirror_mode": {
    "name": "ipython",
    "version": 3
   },
   "file_extension": ".py",
   "mimetype": "text/x-python",
   "name": "python",
   "nbconvert_exporter": "python",
   "pygments_lexer": "ipython3",
   "version": "3.7.10"
  }
 },
 "nbformat": 4,
 "nbformat_minor": 5
}
