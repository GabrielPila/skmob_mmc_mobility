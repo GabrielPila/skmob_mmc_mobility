{
 "cells": [
  {
   "cell_type": "markdown",
   "id": "95096085-b860-42d3-8cb0-6612455b2ddf",
   "metadata": {},
   "source": [
    "# MMC Implementation"
   ]
  },
  {
   "cell_type": "markdown",
   "id": "d18b83e5-c0b9-495d-afef-313b031af35b",
   "metadata": {},
   "source": [
    "## Correct Implementation"
   ]
  },
  {
   "cell_type": "code",
   "execution_count": 1,
   "id": "30d91280-15df-4e09-8c77-6729023ac420",
   "metadata": {},
   "outputs": [],
   "source": [
    "import numpy as np\n",
    "#import seaborn as sns\n",
    "import matplotlib.pyplot as plt\n",
    "import pandas as pd\n",
    "import warnings\n",
    "import skmob\n",
    "from tqdm import tqdm\n",
    "import sys\n",
    "sys.path.append('../')\n",
    "from src.geo_utils import (get_clusters_from_tdf,\n",
    "                            assign_tdf_points_to_clusters,\n",
    "                            get_mmc_transitions,\n",
    "                            get_stationary_vector)\n"
   ]
  },
  {
   "cell_type": "code",
   "execution_count": 2,
   "id": "17b8b922-edea-444c-8fc8-68ea1fc498cd",
   "metadata": {},
   "outputs": [],
   "source": [
    "warnings.filterwarnings('ignore')"
   ]
  },
  {
   "cell_type": "code",
   "execution_count": 3,
   "id": "52fdad5a-d447-4c06-a557-e4df58e4d57e",
   "metadata": {},
   "outputs": [],
   "source": [
    "def get_distance_bw_clusters(cluster_1, cluster_2):\n",
    "    '''Get Distance Between Clusters\n",
    "    \n",
    "    Parameters\n",
    "    ----------\n",
    "        cluster_1 (pd.Dataframe): df with columns ['cluster', 'lat', 'lng', 'sta_vector']\n",
    "        cluster_2 (pd.Dataframe): df with columns ['cluster', 'lat', 'lng', 'sta_vector']\n",
    "    \n",
    "    Returns\n",
    "    -------\n",
    "        distance (float): Distance between clusters (one-way)\n",
    "    '''\n",
    "    valid_distances = []\n",
    "    valid_clusters = []\n",
    "    for i, row_i in cluster_1.iterrows():    \n",
    "        coord_i = (row_i['lat'], row_i['lng'])\n",
    "\n",
    "        clusters, distances = [], []    \n",
    "        for j, row_j in cluster_2.iterrows():\n",
    "            cluster_j = row_j['cluster']\n",
    "            coord_j = (row_j['lat'], row_j['lng'])\n",
    "\n",
    "            distance_ij = skmob.utils.utils.distance(coord_i, coord_j)    \n",
    "            clusters.append(cluster_j)\n",
    "            distances.append(distance_ij)\n",
    "\n",
    "        distances = np.array(distances)\n",
    "\n",
    "        idx_min = distances.argmin()\n",
    "        min_dist = distances.min()\n",
    "        cluster_min = clusters[idx_min]\n",
    "\n",
    "        valid_distances.append(min_dist)\n",
    "        valid_clusters.append(cluster_min)\n",
    "\n",
    "    cluster_est = cluster_1.copy()\n",
    "    cluster_est['cluster_other'] = valid_clusters\n",
    "    cluster_est['distance_other'] = valid_distances\n",
    "    distance = (cluster_est['distance_other'] * cluster_est['sta_vector']).sum()\n",
    "    return distance\n",
    "\n",
    "def get_mean_distance_bw_clusters(cluster_1, cluster_2):\n",
    "    '''Get Mean Distance Between Clusters\n",
    "    \n",
    "    Get the distances of cluster_1 to cluster_2 and viceversa and returns the average.\n",
    "\n",
    "    Parameters\n",
    "    ----------\n",
    "        cluster_1 (pd.Dataframe): df with columns ['cluster', 'lat', 'lng', 'sta_vector']\n",
    "        cluster_2 (pd.Dataframe): df with columns ['cluster', 'lat', 'lng', 'sta_vector']\n",
    "    \n",
    "    Returns\n",
    "    -------\n",
    "        mean_distance (float): Distance between clusters (two-way)\n",
    "    '''\n",
    "    d1 = get_distance_bw_clusters(cluster_1, cluster_2)\n",
    "    d2 = get_distance_bw_clusters(cluster_2, cluster_1)\n",
    "    mean_distance = (d1+d2)/2\n",
    "    return mean_distance"
   ]
  },
  {
   "cell_type": "code",
   "execution_count": 74,
   "id": "c15fbb96-717b-4229-9136-f3cccec409ce",
   "metadata": {
    "scrolled": true,
    "tags": []
   },
   "outputs": [],
   "source": [
    "def get_mmc_clusters_stavectors(geo):\n",
    "    '''Get MMC Clusters and Stationary Vectors\n",
    "    \n",
    "    Parameters\n",
    "    ----------\n",
    "        geo (pd.Dataframe): Dataframe of 1 user_id. Must contain only the columns: ['user', 'hour', 'lat', 'lng']\n",
    "    \n",
    "    Returns\n",
    "    -------\n",
    "        clusters (pd.Dataframe): Dataframe with the clusters and the stationary value\n",
    "        m (folium.folium.Map): Map generated with the clusters on it.\n",
    "    '''\n",
    "    # TDF Definition\n",
    "    trgeo = skmob.TrajDataFrame(\n",
    "        geo, \n",
    "        datetime='hour',\n",
    "        user_id='user'\n",
    "    )\n",
    "\n",
    "    # Cluster Generation\n",
    "    clusters, m = get_clusters_from_tdf(\n",
    "        trgeo,\n",
    "        verbose=True,\n",
    "        max_speed_kmh= 0.01,\n",
    "        detect_stops=False,\n",
    "        compress=False ,\n",
    "        minutes_for_a_stop=2,\n",
    "        spatial_radius_km=0.2,\n",
    "        spatial_radius_compress_km=.2,\n",
    "        cluster_radius_km=0.5,\n",
    "        min_samples=2\n",
    "    )\n",
    "\n",
    "    # Cluster Assignation\n",
    "    trgeo_cl, distances = assign_tdf_points_to_clusters(\n",
    "        tdf=trgeo, \n",
    "        clusters=clusters\n",
    "    )\n",
    "\n",
    "    # Generation of Transit Dataframe\n",
    "    transit_df = get_mmc_transitions(trgeo_cl)\n",
    "\n",
    "    # Generation of Transit Matrix\n",
    "    transit_matrix = pd.crosstab(transit_df['cluster'], \n",
    "                                 transit_df['cluster_next'],\n",
    "                                 normalize='index').values\n",
    "    display(transit_matrix)\n",
    "    \n",
    "    #Lógica adicional para remover clusters sin salida o entrada\n",
    "    ##Retiramos las filas que tienen solo ceros y una columna con 1\n",
    "    if ((transit_matrix.shape[0]>2 )& (transit_matrix.shape[1]>2)):\n",
    "        print('Revisando filas de la Matriz de transición...')\n",
    "        print('mostrando clusters iniciales')\n",
    "        display(clusters)\n",
    "        rows_to_drop = (transit_matrix==0).sum(axis=1)==(transit_matrix.shape[1]-1)#todos los valores en 0 excepto 1\n",
    "        rows_to_drop = [idx for idx,row in enumerate(rows_to_drop) if row]\n",
    "        if len(rows_to_drop)>0: \n",
    "            transit_matrix = np.delete(transit_matrix,rows_to_drop,0)\n",
    "            clusters=clusters.drop(rows_to_drop, axis=0  )\n",
    "            print('clusters {} eliminados'.format(rows_to_drop))\n",
    "            print('Transit matrix actual:')\n",
    "            display(transit_matrix)\n",
    "            \n",
    "        ##Retiramos las columnas que tienen solo ceros una fila con 1\n",
    "        print('Revisando columnas de la Matriz de transición...')\n",
    "        print('mostrando clusters iniciales')\n",
    "        display(clusters)\n",
    "        cols_to_drop = (transit_matrix==0).sum(axis=0)==(transit_matrix.shape[0]-1)\n",
    "        cols_to_drop = [idx for idx,col in enumerate(cols_to_drop) if col]\n",
    "        if len(cols_to_drop)>0: \n",
    "            transit_matrix = np.delete(transit_matrix,cols_to_drop,1)\n",
    "            clusters=clusters.drop(cols_to_drop, axis=0  )\n",
    "            print('clusters {} eliminados'.format(cols_to_drop))\n",
    "            print('Transit matrix actual:')\n",
    "            display(transit_matrix)\n",
    "    display(transit_matrix)\n",
    "    # Stationary Vector Assignation\n",
    "    \n",
    "    clusters['sta_vector'] = get_stationary_vector(transit_matrix)\n",
    "    \n",
    "    return clusters, m"
   ]
  },
  {
   "cell_type": "markdown",
   "id": "315c29dc-747a-4fe2-ba09-bbcb3f8d6117",
   "metadata": {},
   "source": [
    "## Reading for 10 users"
   ]
  },
  {
   "cell_type": "code",
   "execution_count": 49,
   "id": "c52024c5-ceed-425e-9a98-7b781c4215f1",
   "metadata": {},
   "outputs": [],
   "source": [
    "# Reading 10 frames\n",
    "data = pd.read_csv('../data/geo_000_009.csv.zip')\n",
    "\n",
    "data['hour'] = data['date'] + ' ' + data['time']\n",
    "data['user'] = data['user_id'].map(int)\n",
    "\n",
    "data = data[geo_columns]"
   ]
  },
  {
   "cell_type": "code",
   "execution_count": 73,
   "id": "06bc5651-0115-4341-b877-587553c43b4b",
   "metadata": {
    "scrolled": true,
    "tags": []
   },
   "outputs": [
    {
     "name": "stdout",
     "output_type": "stream",
     "text": [
      "INFO: Noise Filtering applied\n",
      "INFO: Clusters generated\n",
      "(248217, 4) (155, 4) (155, 4) (155, 4) (155, 5)\n",
      "INFO: 6 clusters generated.\n"
     ]
    },
    {
     "name": "stderr",
     "output_type": "stream",
     "text": [
      "100%|██████████| 6/6 [00:26<00:00,  4.37s/it]\n"
     ]
    },
    {
     "data": {
      "text/plain": [
       "array([[0.        , 0.83333333, 0.01190476, 0.04761905, 0.02380952,\n",
       "        0.08333333],\n",
       "       [0.16      , 0.        , 0.        , 0.8       , 0.04      ,\n",
       "        0.        ],\n",
       "       [0.0625    , 0.03125   , 0.        , 0.        , 0.90625   ,\n",
       "        0.        ],\n",
       "       [0.046875  , 0.015625  , 0.        , 0.        , 0.        ,\n",
       "        0.9375    ],\n",
       "       [0.95522388, 0.02985075, 0.        , 0.        , 0.01492537,\n",
       "        0.        ]])"
      ]
     },
     "metadata": {},
     "output_type": "display_data"
    },
    {
     "name": "stdout",
     "output_type": "stream",
     "text": [
      "mostrando clusters\n"
     ]
    },
    {
     "data": {
      "text/html": [
       "<div>\n",
       "<style scoped>\n",
       "    .dataframe tbody tr th:only-of-type {\n",
       "        vertical-align: middle;\n",
       "    }\n",
       "\n",
       "    .dataframe tbody tr th {\n",
       "        vertical-align: top;\n",
       "    }\n",
       "\n",
       "    .dataframe thead th {\n",
       "        text-align: right;\n",
       "    }\n",
       "</style>\n",
       "<table border=\"1\" class=\"dataframe\">\n",
       "  <thead>\n",
       "    <tr style=\"text-align: right;\">\n",
       "      <th></th>\n",
       "      <th>cluster</th>\n",
       "      <th>lat</th>\n",
       "      <th>lng</th>\n",
       "    </tr>\n",
       "  </thead>\n",
       "  <tbody>\n",
       "    <tr>\n",
       "      <th>0</th>\n",
       "      <td>0</td>\n",
       "      <td>39.926178</td>\n",
       "      <td>116.337746</td>\n",
       "    </tr>\n",
       "    <tr>\n",
       "      <th>1</th>\n",
       "      <td>1</td>\n",
       "      <td>39.900250</td>\n",
       "      <td>116.385515</td>\n",
       "    </tr>\n",
       "    <tr>\n",
       "      <th>2</th>\n",
       "      <td>2</td>\n",
       "      <td>39.989500</td>\n",
       "      <td>116.222359</td>\n",
       "    </tr>\n",
       "    <tr>\n",
       "      <th>3</th>\n",
       "      <td>3</td>\n",
       "      <td>39.902306</td>\n",
       "      <td>116.367091</td>\n",
       "    </tr>\n",
       "    <tr>\n",
       "      <th>4</th>\n",
       "      <td>4</td>\n",
       "      <td>39.905830</td>\n",
       "      <td>116.356539</td>\n",
       "    </tr>\n",
       "    <tr>\n",
       "      <th>5</th>\n",
       "      <td>5</td>\n",
       "      <td>39.909956</td>\n",
       "      <td>116.346575</td>\n",
       "    </tr>\n",
       "  </tbody>\n",
       "</table>\n",
       "</div>"
      ],
      "text/plain": [
       "   cluster        lat         lng\n",
       "0        0  39.926178  116.337746\n",
       "1        1  39.900250  116.385515\n",
       "2        2  39.989500  116.222359\n",
       "3        3  39.902306  116.367091\n",
       "4        4  39.905830  116.356539\n",
       "5        5  39.909956  116.346575"
      ]
     },
     "metadata": {},
     "output_type": "display_data"
    },
    {
     "name": "stdout",
     "output_type": "stream",
     "text": [
      "columnas [2] eliminadas\n"
     ]
    },
    {
     "data": {
      "text/plain": [
       "array([[0.        , 0.83333333, 0.04761905, 0.02380952, 0.08333333],\n",
       "       [0.16      , 0.        , 0.8       , 0.04      , 0.        ],\n",
       "       [0.0625    , 0.03125   , 0.        , 0.90625   , 0.        ],\n",
       "       [0.046875  , 0.015625  , 0.        , 0.        , 0.9375    ],\n",
       "       [0.95522388, 0.02985075, 0.        , 0.01492537, 0.        ]])"
      ]
     },
     "metadata": {},
     "output_type": "display_data"
    },
    {
     "name": "stdout",
     "output_type": "stream",
     "text": [
      "Shape of transitMatrix:  (5, 5)\n"
     ]
    }
   ],
   "source": [
    "# Extraction of clusters \n",
    "geo_clusters = {}\n",
    "geo_clusters_img = {}\n",
    "users = sorted(data['user'].unique())\n",
    "for user in [2]:#users:#tqdm(users):\n",
    "    #try:\n",
    "    geo = data[data['user']==user].reset_index(drop=True).copy()\n",
    "\n",
    "    clusters, m = get_mmc_clusters_stavectors(geo)\n",
    "\n",
    "    geo_clusters[user] = clusters\n",
    "    geo_clusters_img[user] = m\n",
    "    #except:\n",
    "        #pass"
   ]
  },
  {
   "cell_type": "code",
   "execution_count": null,
   "id": "fc9a148e-54fa-4fe5-bbc4-6d7ede6b2ded",
   "metadata": {},
   "outputs": [],
   "source": [
    "# TODO: Corregir la función de vector estacionario. Hay casos en los que falla"
   ]
  },
  {
   "cell_type": "code",
   "execution_count": null,
   "id": "90f940a6-b9e9-4d7c-8210-bb8b72f86591",
   "metadata": {},
   "outputs": [],
   "source": [
    "geo_clusters"
   ]
  },
  {
   "cell_type": "markdown",
   "id": "5ade8489-8f80-481d-b829-241ec82ae147",
   "metadata": {},
   "source": [
    "## Distance Estimation"
   ]
  },
  {
   "cell_type": "code",
   "execution_count": null,
   "id": "b107f591-e28b-49c2-84f7-99c6934791f4",
   "metadata": {},
   "outputs": [],
   "source": [
    "transitMatrix.T cluster_0 = geo_clusters[0]\n",
    "cluster_1 = geo_clusters[3]\n",
    "cluster_2 = geo_clusters[4]"
   ]
  },
  {
   "cell_type": "code",
   "execution_count": null,
   "id": "95ca6a17-bcf3-4758-a2cb-23056d535505",
   "metadata": {},
   "outputs": [],
   "source": [
    "cluster_1"
   ]
  },
  {
   "cell_type": "code",
   "execution_count": null,
   "id": "dd4c55b2-7451-46d9-81d9-a73d5de114a5",
   "metadata": {},
   "outputs": [],
   "source": [
    "cluster_2"
   ]
  },
  {
   "cell_type": "code",
   "execution_count": null,
   "id": "0ec247e3-6731-4970-b5e6-28aa244c78df",
   "metadata": {},
   "outputs": [],
   "source": [
    "get_mean_distance_bw_clusters(cluster_1=cluster_1, cluster_2=cluster_2)"
   ]
  },
  {
   "cell_type": "code",
   "execution_count": null,
   "id": "28d3bdb8-e968-4427-aef6-c66cd0eab686",
   "metadata": {},
   "outputs": [],
   "source": [
    "get_mean_distance_bw_clusters(cluster_1=cluster_0, cluster_2=cluster_2)"
   ]
  },
  {
   "cell_type": "code",
   "execution_count": null,
   "id": "430504dc-df11-4228-b912-c29bb95cdca6",
   "metadata": {},
   "outputs": [],
   "source": []
  },
  {
   "cell_type": "code",
   "execution_count": null,
   "id": "b5fe4c55-9f8c-4cf9-b290-4b789a3cb9bb",
   "metadata": {},
   "outputs": [],
   "source": []
  },
  {
   "cell_type": "code",
   "execution_count": null,
   "id": "efb07acd-f88d-490f-90bc-fbfaf891fb97",
   "metadata": {},
   "outputs": [],
   "source": []
  },
  {
   "cell_type": "code",
   "execution_count": null,
   "id": "9705f654-63df-40aa-a020-378823c611b9",
   "metadata": {},
   "outputs": [],
   "source": []
  },
  {
   "cell_type": "markdown",
   "id": "eda62f39-0bc1-45e6-b818-7823fa2c7574",
   "metadata": {},
   "source": [
    "## Testing of Parameters"
   ]
  },
  {
   "cell_type": "markdown",
   "id": "e0feb692-a96e-4505-bcf1-dc5d78b22c76",
   "metadata": {},
   "source": [
    "We will test different parameters with cluster combinations to select the best params."
   ]
  },
  {
   "cell_type": "code",
   "execution_count": null,
   "id": "66251167-5618-4a4b-812f-942b93659ca6",
   "metadata": {},
   "outputs": [],
   "source": [
    "from IPython import display"
   ]
  },
  {
   "cell_type": "code",
   "execution_count": null,
   "id": "0ed9a98f-a092-40b3-8c7e-467424530f71",
   "metadata": {},
   "outputs": [],
   "source": [
    "def test_geo_parameters(geo,\n",
    "                        verbose=True,\n",
    "                        max_speed_kmh= 0.01,\n",
    "                        detect_stops=False,\n",
    "                        compress=False ,\n",
    "                        minutes_for_a_stop=2,\n",
    "                        spatial_radius_km=0.2,\n",
    "                        spatial_radius_compress_km=.2,\n",
    "                        cluster_radius_km=0.5,\n",
    "                        min_samples=2):\n",
    "\n",
    "    '''Test Parameters for generation of MMCs\n",
    "    \n",
    "    '''\n",
    "    # TDF Definition\n",
    "    trgeo = skmob.TrajDataFrame(\n",
    "        geo, \n",
    "        datetime='hour',\n",
    "        user_id='user'\n",
    "    )\n",
    "\n",
    "    # Cluster Generation\n",
    "    clusters, m = get_clusters_from_tdf(\n",
    "        trgeo,\n",
    "        verbose=verbose,\n",
    "        max_speed_kmh= max_speed_kmh,\n",
    "        detect_stops=detect_stops,\n",
    "        compress=compress ,\n",
    "        minutes_for_a_stop=minutes_for_a_stop,\n",
    "        spatial_radius_km=spatial_radius_km,\n",
    "        spatial_radius_compress_km=spatial_radius_compress_km,\n",
    "        cluster_radius_km=cluster_radius_km,\n",
    "        min_samples=min_samples\n",
    "    )\n",
    "    print(f'\\nUSER: {geo[\"user\"].values[0]}\\n')\n",
    "    display.display_html(m)"
   ]
  },
  {
   "cell_type": "code",
   "execution_count": null,
   "id": "83e71551-43a5-4cac-85cd-1cdec3697960",
   "metadata": {
    "scrolled": true,
    "tags": []
   },
   "outputs": [],
   "source": [
    "# TESTING PARAMETERS\n",
    "users = sorted(data['user'].unique())\n",
    "for user in tqdm(users):\n",
    "    geo = data[data['user']==user].reset_index(drop=True).copy()\n",
    "    test_geo_parameters(\n",
    "        geo,\n",
    "        verbose=True,\n",
    "        max_speed_kmh= 0.01,\n",
    "        detect_stops=False,\n",
    "        compress=False ,\n",
    "        minutes_for_a_stop=2,\n",
    "        spatial_radius_km=0.2,\n",
    "        spatial_radius_compress_km=.2,\n",
    "        cluster_radius_km=0.5,\n",
    "        min_samples=2\n",
    "    )"
   ]
  },
  {
   "cell_type": "code",
   "execution_count": null,
   "id": "9a187f15-d275-40a1-9168-7084cf9a61df",
   "metadata": {},
   "outputs": [],
   "source": []
  },
  {
   "cell_type": "code",
   "execution_count": null,
   "id": "1955a1d2-f8aa-46ba-93e9-5417db4c8b0b",
   "metadata": {},
   "outputs": [],
   "source": []
  },
  {
   "cell_type": "code",
   "execution_count": null,
   "id": "082813e0-8b2e-4370-967c-17b31fa1bd5e",
   "metadata": {},
   "outputs": [],
   "source": []
  },
  {
   "cell_type": "code",
   "execution_count": null,
   "id": "994b4f38-f8a1-4c1b-a00b-d8a8daba1b1d",
   "metadata": {},
   "outputs": [],
   "source": []
  },
  {
   "cell_type": "code",
   "execution_count": null,
   "id": "fd18eb70-bbe9-467b-b73a-e89f53fe36fa",
   "metadata": {},
   "outputs": [],
   "source": []
  },
  {
   "cell_type": "code",
   "execution_count": null,
   "id": "d2e3dff9-f7f7-4310-afff-0bbf194a14e7",
   "metadata": {},
   "outputs": [],
   "source": []
  }
 ],
 "metadata": {
  "kernelspec": {
   "display_name": "Python [conda env:skmob]",
   "language": "python",
   "name": "skmob"
  },
  "language_info": {
   "codemirror_mode": {
    "name": "ipython",
    "version": 3
   },
   "file_extension": ".py",
   "mimetype": "text/x-python",
   "name": "python",
   "nbconvert_exporter": "python",
   "pygments_lexer": "ipython3",
   "version": "3.7.10"
  }
 },
 "nbformat": 4,
 "nbformat_minor": 5
}
