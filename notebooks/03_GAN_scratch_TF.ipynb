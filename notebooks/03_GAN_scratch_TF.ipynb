{
 "cells": [
  {
   "cell_type": "code",
   "execution_count": 1,
   "metadata": {
    "colab": {
     "base_uri": "https://localhost:8080/"
    },
    "executionInfo": {
     "elapsed": 66762,
     "status": "ok",
     "timestamp": 1650659302949,
     "user": {
      "displayName": "Yuri Gabriel Pila Huancachoque",
      "userId": "01047346606913623595"
     },
     "user_tz": 300
    },
    "id": "yQIUXwgvVniL",
    "outputId": "2ea0d5bf-a234-437f-ec74-c7a7f0607855"
   },
   "outputs": [],
   "source": [
    "#!pip install --upgrade tensorflow-gpu==2.0.0 #beta1"
   ]
  },
  {
   "cell_type": "markdown",
   "metadata": {},
   "source": [
    "# Prueba con 1 Dimensión"
   ]
  },
  {
   "cell_type": "code",
   "execution_count": 445,
   "metadata": {
    "executionInfo": {
     "elapsed": 497,
     "status": "ok",
     "timestamp": 1650667967826,
     "user": {
      "displayName": "Yuri Gabriel Pila Huancachoque",
      "userId": "01047346606913623595"
     },
     "user_tz": 300
    },
    "id": "Ru3OJHUOVyKD"
   },
   "outputs": [],
   "source": [
    "import os\n",
    "\n",
    "import matplotlib\n",
    "import matplotlib.pyplot as plt\n",
    "import tensorflow as tf\n",
    "from IPython import display\n",
    "import pylab as pl\n",
    "import warnings\n",
    "import numpy as np\n",
    "import pandas as pd"
   ]
  },
  {
   "cell_type": "code",
   "execution_count": 425,
   "metadata": {},
   "outputs": [],
   "source": [
    "warnings.filterwarnings('ignore')"
   ]
  },
  {
   "cell_type": "code",
   "execution_count": 426,
   "metadata": {
    "executionInfo": {
     "elapsed": 8,
     "status": "ok",
     "timestamp": 1650667968400,
     "user": {
      "displayName": "Yuri Gabriel Pila Huancachoque",
      "userId": "01047346606913623595"
     },
     "user_tz": 300
    },
    "id": "flzhcnblWKDh"
   },
   "outputs": [],
   "source": [
    "def sample_dataset(dataset_shape = (2000, 1)):\n",
    "    return tf.random.normal(\n",
    "        mean=10.0, shape=dataset_shape, stddev=0.1, dtype=tf.float32\n",
    "    )"
   ]
  },
  {
   "cell_type": "code",
   "execution_count": 427,
   "metadata": {
    "executionInfo": {
     "elapsed": 7,
     "status": "ok",
     "timestamp": 1650667968403,
     "user": {
      "displayName": "Yuri Gabriel Pila Huancachoque",
      "userId": "01047346606913623595"
     },
     "user_tz": 300
    },
    "id": "rrMHhHqAkX6O"
   },
   "outputs": [],
   "source": [
    "def get_noise_vector():\n",
    "    noise_vector = tf.random.normal(\n",
    "                mean=0, stddev=1, shape=(real_data.shape[0], latent_space_shape[0])\n",
    "            )\n",
    "    return noise_vector"
   ]
  },
  {
   "cell_type": "code",
   "execution_count": 428,
   "metadata": {
    "executionInfo": {
     "elapsed": 384,
     "status": "ok",
     "timestamp": 1650668153990,
     "user": {
      "displayName": "Yuri Gabriel Pila Huancachoque",
      "userId": "01047346606913623595"
     },
     "user_tz": 300
    },
    "id": "jHN_bRj6j1yq"
   },
   "outputs": [],
   "source": [
    "def build_generator(input_shape):\n",
    "    inputs = tf.keras.layers.Input(input_shape)\n",
    "    net = tf.keras.layers.Dense(units=64, activation=tf.nn.elu, name='fc1')(inputs)\n",
    "    net = tf.keras.layers.Dense(units=64, activation=tf.nn.elu, name='fc2')(net)\n",
    "    net = tf.keras.layers.Dense(units=1, name='G')(net)\n",
    "    G = tf.keras.Model(inputs=inputs, outputs=net)\n",
    "    return G\n",
    "\n",
    "def build_discriminator(input_shape):\n",
    "    inputs = tf.keras.layers.Input(input_shape)\n",
    "    net = tf.keras.layers.Dense(units=32, activation=tf.nn.elu, name='fc1')(inputs)\n",
    "    net = tf.keras.layers.Dense(units=1, name='D')(net)\n",
    "    D = tf.keras.Model(inputs=inputs, outputs=net)\n",
    "    return D "
   ]
  },
  {
   "cell_type": "code",
   "execution_count": 429,
   "metadata": {
    "executionInfo": {
     "elapsed": 729,
     "status": "ok",
     "timestamp": 1650668285212,
     "user": {
      "displayName": "Yuri Gabriel Pila Huancachoque",
      "userId": "01047346606913623595"
     },
     "user_tz": 300
    },
    "id": "3fo5-ygYqCKn"
   },
   "outputs": [],
   "source": [
    "input_shape = (1,)\n",
    "D = build_discriminator(input_shape)\n",
    "\n",
    "# noise\n",
    "latent_space_shape = (100,)\n",
    "G = build_generator(latent_space_shape)"
   ]
  },
  {
   "cell_type": "code",
   "execution_count": 430,
   "metadata": {
    "colab": {
     "base_uri": "https://localhost:8080/"
    },
    "executionInfo": {
     "elapsed": 5,
     "status": "ok",
     "timestamp": 1650633229472,
     "user": {
      "displayName": "Yuri Gabriel Pila Huancachoque",
      "userId": "01047346606913623595"
     },
     "user_tz": 300
    },
    "id": "lkkRCQbkZ2Ho",
    "outputId": "7945eeb0-56d7-41fc-8fa6-027b18c2292a"
   },
   "outputs": [
    {
     "name": "stdout",
     "output_type": "stream",
     "text": [
      "Model: \"model_37\"\n",
      "_________________________________________________________________\n",
      " Layer (type)                Output Shape              Param #   \n",
      "=================================================================\n",
      " input_38 (InputLayer)       [(None, 100)]             0         \n",
      "                                                                 \n",
      " fc1 (Dense)                 (None, 64)                6464      \n",
      "                                                                 \n",
      " fc2 (Dense)                 (None, 64)                4160      \n",
      "                                                                 \n",
      " G (Dense)                   (None, 1)                 65        \n",
      "                                                                 \n",
      "=================================================================\n",
      "Total params: 10,689\n",
      "Trainable params: 10,689\n",
      "Non-trainable params: 0\n",
      "_________________________________________________________________\n"
     ]
    }
   ],
   "source": [
    "G.summary()"
   ]
  },
  {
   "cell_type": "code",
   "execution_count": 431,
   "metadata": {
    "executionInfo": {
     "elapsed": 379,
     "status": "ok",
     "timestamp": 1650667997018,
     "user": {
      "displayName": "Yuri Gabriel Pila Huancachoque",
      "userId": "01047346606913623595"
     },
     "user_tz": 300
    },
    "id": "5iiJNtGyj1vX"
   },
   "outputs": [],
   "source": [
    "def d_loss(real_output, generated_output):\n",
    "    '''Discriminator Loss Function'''\n",
    "    bce = tf.keras.losses.BinaryCrossentropy(from_logits=True)\n",
    "    d_loss = bce(tf.ones_like(real_output), real_output)\\\n",
    "            + bce(tf.zeros_like(generated_output), generated_output)\n",
    "    return d_loss\n",
    "\n",
    "def g_loss(generated_output):\n",
    "    '''Generator Loss Function'''\n",
    "    bce = tf.keras.losses.BinaryCrossentropy(from_logits=True)\n",
    "    g_loss = bce(tf.ones_like(generated_output), generated_output)\n",
    "    return g_loss"
   ]
  },
  {
   "cell_type": "code",
   "execution_count": 432,
   "metadata": {
    "executionInfo": {
     "elapsed": 379,
     "status": "ok",
     "timestamp": 1650668000125,
     "user": {
      "displayName": "Yuri Gabriel Pila Huancachoque",
      "userId": "01047346606913623595"
     },
     "user_tz": 300
    },
    "id": "CNzvJFuXj1rP"
   },
   "outputs": [],
   "source": [
    "if not os.path.exists('./gif/'):\n",
    "    os.makedirs('./gif/')"
   ]
  },
  {
   "cell_type": "code",
   "execution_count": 433,
   "metadata": {
    "colab": {
     "base_uri": "https://localhost:8080/",
     "height": 1000
    },
    "executionInfo": {
     "elapsed": 491802,
     "status": "error",
     "timestamp": 1650634883316,
     "user": {
      "displayName": "Yuri Gabriel Pila Huancachoque",
      "userId": "01047346606913623595"
     },
     "user_tz": 300
    },
    "id": "-WX1siZYXcOJ",
    "outputId": "1fcab8bf-4b52-424a-a7d2-fd52523f0d50",
    "scrolled": true,
    "tags": []
   },
   "outputs": [
    {
     "name": "stdout",
     "output_type": "stream",
     "text": [
      "G loss:  0.69067824  D loss:  1.2288632  step:  0\n"
     ]
    },
    {
     "ename": "KeyboardInterrupt",
     "evalue": "",
     "output_type": "error",
     "traceback": [
      "\u001b[0;31m---------------------------------------------------------------------------\u001b[0m",
      "\u001b[0;31mKeyboardInterrupt\u001b[0m                         Traceback (most recent call last)",
      "Input \u001b[0;32mIn [433]\u001b[0m, in \u001b[0;36m<module>\u001b[0;34m\u001b[0m\n\u001b[1;32m     81\u001b[0m             plt\u001b[38;5;241m.\u001b[39msavefig(\u001b[38;5;124m\"\u001b[39m\u001b[38;5;124m./gif/\u001b[39m\u001b[38;5;132;01m{}\u001b[39;00m\u001b[38;5;124m.png\u001b[39m\u001b[38;5;124m\"\u001b[39m\u001b[38;5;241m.\u001b[39mformat(step))\n\u001b[1;32m     82\u001b[0m             plt\u001b[38;5;241m.\u001b[39mgca()\u001b[38;5;241m.\u001b[39mclear()\n\u001b[0;32m---> 84\u001b[0m \u001b[43mtrain\u001b[49m\u001b[43m(\u001b[49m\u001b[43m)\u001b[49m\n",
      "Input \u001b[0;32mIn [433]\u001b[0m, in \u001b[0;36mtrain\u001b[0;34m()\u001b[0m\n\u001b[1;32m     75\u001b[0m axes\u001b[38;5;241m.\u001b[39mset_xlim([\u001b[38;5;241m-\u001b[39m\u001b[38;5;241m1\u001b[39m, \u001b[38;5;241m11\u001b[39m])\n\u001b[1;32m     76\u001b[0m axes\u001b[38;5;241m.\u001b[39mset_ylim([\u001b[38;5;241m0\u001b[39m, \u001b[38;5;241m60\u001b[39m])\n\u001b[0;32m---> 77\u001b[0m \u001b[43mdisplay\u001b[49m\u001b[38;5;241;43m.\u001b[39;49m\u001b[43mdisplay\u001b[49m\u001b[43m(\u001b[49m\u001b[43mpl\u001b[49m\u001b[38;5;241;43m.\u001b[39;49m\u001b[43mgcf\u001b[49m\u001b[43m(\u001b[49m\u001b[43m)\u001b[49m\u001b[43m)\u001b[49m\n\u001b[1;32m     78\u001b[0m \u001b[38;5;66;03m#display.clear_output(wait=True)\u001b[39;00m\n\u001b[1;32m     81\u001b[0m plt\u001b[38;5;241m.\u001b[39msavefig(\u001b[38;5;124m\"\u001b[39m\u001b[38;5;124m./gif/\u001b[39m\u001b[38;5;132;01m{}\u001b[39;00m\u001b[38;5;124m.png\u001b[39m\u001b[38;5;124m\"\u001b[39m\u001b[38;5;241m.\u001b[39mformat(step))\n",
      "File \u001b[0;32m~/Documents/CodingPersonal/mobility-research/skmob_mmc_mobility/venv/lib/python3.8/site-packages/IPython/core/display_functions.py:298\u001b[0m, in \u001b[0;36mdisplay\u001b[0;34m(include, exclude, metadata, transient, display_id, raw, clear, *objs, **kwargs)\u001b[0m\n\u001b[1;32m    296\u001b[0m     publish_display_data(data\u001b[38;5;241m=\u001b[39mobj, metadata\u001b[38;5;241m=\u001b[39mmetadata, \u001b[38;5;241m*\u001b[39m\u001b[38;5;241m*\u001b[39mkwargs)\n\u001b[1;32m    297\u001b[0m \u001b[38;5;28;01melse\u001b[39;00m:\n\u001b[0;32m--> 298\u001b[0m     format_dict, md_dict \u001b[38;5;241m=\u001b[39m \u001b[38;5;28;43mformat\u001b[39;49m\u001b[43m(\u001b[49m\u001b[43mobj\u001b[49m\u001b[43m,\u001b[49m\u001b[43m \u001b[49m\u001b[43minclude\u001b[49m\u001b[38;5;241;43m=\u001b[39;49m\u001b[43minclude\u001b[49m\u001b[43m,\u001b[49m\u001b[43m \u001b[49m\u001b[43mexclude\u001b[49m\u001b[38;5;241;43m=\u001b[39;49m\u001b[43mexclude\u001b[49m\u001b[43m)\u001b[49m\n\u001b[1;32m    299\u001b[0m     \u001b[38;5;28;01mif\u001b[39;00m \u001b[38;5;129;01mnot\u001b[39;00m format_dict:\n\u001b[1;32m    300\u001b[0m         \u001b[38;5;66;03m# nothing to display (e.g. _ipython_display_ took over)\u001b[39;00m\n\u001b[1;32m    301\u001b[0m         \u001b[38;5;28;01mcontinue\u001b[39;00m\n",
      "File \u001b[0;32m~/Documents/CodingPersonal/mobility-research/skmob_mmc_mobility/venv/lib/python3.8/site-packages/IPython/core/formatters.py:178\u001b[0m, in \u001b[0;36mDisplayFormatter.format\u001b[0;34m(self, obj, include, exclude)\u001b[0m\n\u001b[1;32m    176\u001b[0m md \u001b[38;5;241m=\u001b[39m \u001b[38;5;28;01mNone\u001b[39;00m\n\u001b[1;32m    177\u001b[0m \u001b[38;5;28;01mtry\u001b[39;00m:\n\u001b[0;32m--> 178\u001b[0m     data \u001b[38;5;241m=\u001b[39m \u001b[43mformatter\u001b[49m\u001b[43m(\u001b[49m\u001b[43mobj\u001b[49m\u001b[43m)\u001b[49m\n\u001b[1;32m    179\u001b[0m \u001b[38;5;28;01mexcept\u001b[39;00m:\n\u001b[1;32m    180\u001b[0m     \u001b[38;5;66;03m# FIXME: log the exception\u001b[39;00m\n\u001b[1;32m    181\u001b[0m     \u001b[38;5;28;01mraise\u001b[39;00m\n",
      "File \u001b[0;32m~/Documents/CodingPersonal/mobility-research/skmob_mmc_mobility/venv/lib/python3.8/site-packages/decorator.py:232\u001b[0m, in \u001b[0;36mdecorate.<locals>.fun\u001b[0;34m(*args, **kw)\u001b[0m\n\u001b[1;32m    230\u001b[0m \u001b[38;5;28;01mif\u001b[39;00m \u001b[38;5;129;01mnot\u001b[39;00m kwsyntax:\n\u001b[1;32m    231\u001b[0m     args, kw \u001b[38;5;241m=\u001b[39m fix(args, kw, sig)\n\u001b[0;32m--> 232\u001b[0m \u001b[38;5;28;01mreturn\u001b[39;00m \u001b[43mcaller\u001b[49m\u001b[43m(\u001b[49m\u001b[43mfunc\u001b[49m\u001b[43m,\u001b[49m\u001b[43m \u001b[49m\u001b[38;5;241;43m*\u001b[39;49m\u001b[43m(\u001b[49m\u001b[43mextras\u001b[49m\u001b[43m \u001b[49m\u001b[38;5;241;43m+\u001b[39;49m\u001b[43m \u001b[49m\u001b[43margs\u001b[49m\u001b[43m)\u001b[49m\u001b[43m,\u001b[49m\u001b[43m \u001b[49m\u001b[38;5;241;43m*\u001b[39;49m\u001b[38;5;241;43m*\u001b[39;49m\u001b[43mkw\u001b[49m\u001b[43m)\u001b[49m\n",
      "File \u001b[0;32m~/Documents/CodingPersonal/mobility-research/skmob_mmc_mobility/venv/lib/python3.8/site-packages/IPython/core/formatters.py:222\u001b[0m, in \u001b[0;36mcatch_format_error\u001b[0;34m(method, self, *args, **kwargs)\u001b[0m\n\u001b[1;32m    220\u001b[0m \u001b[38;5;124;03m\"\"\"show traceback on failed format call\"\"\"\u001b[39;00m\n\u001b[1;32m    221\u001b[0m \u001b[38;5;28;01mtry\u001b[39;00m:\n\u001b[0;32m--> 222\u001b[0m     r \u001b[38;5;241m=\u001b[39m \u001b[43mmethod\u001b[49m\u001b[43m(\u001b[49m\u001b[38;5;28;43mself\u001b[39;49m\u001b[43m,\u001b[49m\u001b[43m \u001b[49m\u001b[38;5;241;43m*\u001b[39;49m\u001b[43margs\u001b[49m\u001b[43m,\u001b[49m\u001b[43m \u001b[49m\u001b[38;5;241;43m*\u001b[39;49m\u001b[38;5;241;43m*\u001b[39;49m\u001b[43mkwargs\u001b[49m\u001b[43m)\u001b[49m\n\u001b[1;32m    223\u001b[0m \u001b[38;5;28;01mexcept\u001b[39;00m \u001b[38;5;167;01mNotImplementedError\u001b[39;00m:\n\u001b[1;32m    224\u001b[0m     \u001b[38;5;66;03m# don't warn on NotImplementedErrors\u001b[39;00m\n\u001b[1;32m    225\u001b[0m     \u001b[38;5;28;01mreturn\u001b[39;00m \u001b[38;5;28mself\u001b[39m\u001b[38;5;241m.\u001b[39m_check_return(\u001b[38;5;28;01mNone\u001b[39;00m, args[\u001b[38;5;241m0\u001b[39m])\n",
      "File \u001b[0;32m~/Documents/CodingPersonal/mobility-research/skmob_mmc_mobility/venv/lib/python3.8/site-packages/IPython/core/formatters.py:339\u001b[0m, in \u001b[0;36mBaseFormatter.__call__\u001b[0;34m(self, obj)\u001b[0m\n\u001b[1;32m    337\u001b[0m     \u001b[38;5;28;01mpass\u001b[39;00m\n\u001b[1;32m    338\u001b[0m \u001b[38;5;28;01melse\u001b[39;00m:\n\u001b[0;32m--> 339\u001b[0m     \u001b[38;5;28;01mreturn\u001b[39;00m \u001b[43mprinter\u001b[49m\u001b[43m(\u001b[49m\u001b[43mobj\u001b[49m\u001b[43m)\u001b[49m\n\u001b[1;32m    340\u001b[0m \u001b[38;5;66;03m# Finally look for special method names\u001b[39;00m\n\u001b[1;32m    341\u001b[0m method \u001b[38;5;241m=\u001b[39m get_real_method(obj, \u001b[38;5;28mself\u001b[39m\u001b[38;5;241m.\u001b[39mprint_method)\n",
      "File \u001b[0;32m~/Documents/CodingPersonal/mobility-research/skmob_mmc_mobility/venv/lib/python3.8/site-packages/IPython/core/pylabtools.py:151\u001b[0m, in \u001b[0;36mprint_figure\u001b[0;34m(fig, fmt, bbox_inches, base64, **kwargs)\u001b[0m\n\u001b[1;32m    148\u001b[0m     \u001b[38;5;28;01mfrom\u001b[39;00m \u001b[38;5;21;01mmatplotlib\u001b[39;00m\u001b[38;5;21;01m.\u001b[39;00m\u001b[38;5;21;01mbackend_bases\u001b[39;00m \u001b[38;5;28;01mimport\u001b[39;00m FigureCanvasBase\n\u001b[1;32m    149\u001b[0m     FigureCanvasBase(fig)\n\u001b[0;32m--> 151\u001b[0m \u001b[43mfig\u001b[49m\u001b[38;5;241;43m.\u001b[39;49m\u001b[43mcanvas\u001b[49m\u001b[38;5;241;43m.\u001b[39;49m\u001b[43mprint_figure\u001b[49m\u001b[43m(\u001b[49m\u001b[43mbytes_io\u001b[49m\u001b[43m,\u001b[49m\u001b[43m \u001b[49m\u001b[38;5;241;43m*\u001b[39;49m\u001b[38;5;241;43m*\u001b[39;49m\u001b[43mkw\u001b[49m\u001b[43m)\u001b[49m\n\u001b[1;32m    152\u001b[0m data \u001b[38;5;241m=\u001b[39m bytes_io\u001b[38;5;241m.\u001b[39mgetvalue()\n\u001b[1;32m    153\u001b[0m \u001b[38;5;28;01mif\u001b[39;00m fmt \u001b[38;5;241m==\u001b[39m \u001b[38;5;124m'\u001b[39m\u001b[38;5;124msvg\u001b[39m\u001b[38;5;124m'\u001b[39m:\n",
      "File \u001b[0;32m~/Documents/CodingPersonal/mobility-research/skmob_mmc_mobility/venv/lib/python3.8/site-packages/matplotlib/backend_bases.py:2319\u001b[0m, in \u001b[0;36mFigureCanvasBase.print_figure\u001b[0;34m(self, filename, dpi, facecolor, edgecolor, orientation, format, bbox_inches, pad_inches, bbox_extra_artists, backend, **kwargs)\u001b[0m\n\u001b[1;32m   2315\u001b[0m \u001b[38;5;28;01mtry\u001b[39;00m:\n\u001b[1;32m   2316\u001b[0m     \u001b[38;5;66;03m# _get_renderer may change the figure dpi (as vector formats\u001b[39;00m\n\u001b[1;32m   2317\u001b[0m     \u001b[38;5;66;03m# force the figure dpi to 72), so we need to set it again here.\u001b[39;00m\n\u001b[1;32m   2318\u001b[0m     \u001b[38;5;28;01mwith\u001b[39;00m cbook\u001b[38;5;241m.\u001b[39m_setattr_cm(\u001b[38;5;28mself\u001b[39m\u001b[38;5;241m.\u001b[39mfigure, dpi\u001b[38;5;241m=\u001b[39mdpi):\n\u001b[0;32m-> 2319\u001b[0m         result \u001b[38;5;241m=\u001b[39m \u001b[43mprint_method\u001b[49m\u001b[43m(\u001b[49m\n\u001b[1;32m   2320\u001b[0m \u001b[43m            \u001b[49m\u001b[43mfilename\u001b[49m\u001b[43m,\u001b[49m\n\u001b[1;32m   2321\u001b[0m \u001b[43m            \u001b[49m\u001b[43mfacecolor\u001b[49m\u001b[38;5;241;43m=\u001b[39;49m\u001b[43mfacecolor\u001b[49m\u001b[43m,\u001b[49m\n\u001b[1;32m   2322\u001b[0m \u001b[43m            \u001b[49m\u001b[43medgecolor\u001b[49m\u001b[38;5;241;43m=\u001b[39;49m\u001b[43medgecolor\u001b[49m\u001b[43m,\u001b[49m\n\u001b[1;32m   2323\u001b[0m \u001b[43m            \u001b[49m\u001b[43morientation\u001b[49m\u001b[38;5;241;43m=\u001b[39;49m\u001b[43morientation\u001b[49m\u001b[43m,\u001b[49m\n\u001b[1;32m   2324\u001b[0m \u001b[43m            \u001b[49m\u001b[43mbbox_inches_restore\u001b[49m\u001b[38;5;241;43m=\u001b[39;49m\u001b[43m_bbox_inches_restore\u001b[49m\u001b[43m,\u001b[49m\n\u001b[1;32m   2325\u001b[0m \u001b[43m            \u001b[49m\u001b[38;5;241;43m*\u001b[39;49m\u001b[38;5;241;43m*\u001b[39;49m\u001b[43mkwargs\u001b[49m\u001b[43m)\u001b[49m\n\u001b[1;32m   2326\u001b[0m \u001b[38;5;28;01mfinally\u001b[39;00m:\n\u001b[1;32m   2327\u001b[0m     \u001b[38;5;28;01mif\u001b[39;00m bbox_inches \u001b[38;5;129;01mand\u001b[39;00m restore_bbox:\n",
      "File \u001b[0;32m~/Documents/CodingPersonal/mobility-research/skmob_mmc_mobility/venv/lib/python3.8/site-packages/matplotlib/backend_bases.py:1648\u001b[0m, in \u001b[0;36m_check_savefig_extra_args.<locals>.wrapper\u001b[0;34m(*args, **kwargs)\u001b[0m\n\u001b[1;32m   1640\u001b[0m     _api\u001b[38;5;241m.\u001b[39mwarn_deprecated(\n\u001b[1;32m   1641\u001b[0m         \u001b[38;5;124m'\u001b[39m\u001b[38;5;124m3.3\u001b[39m\u001b[38;5;124m'\u001b[39m, name\u001b[38;5;241m=\u001b[39mname, removal\u001b[38;5;241m=\u001b[39m\u001b[38;5;124m'\u001b[39m\u001b[38;5;124m3.6\u001b[39m\u001b[38;5;124m'\u001b[39m,\n\u001b[1;32m   1642\u001b[0m         message\u001b[38;5;241m=\u001b[39m\u001b[38;5;124m'\u001b[39m\u001b[38;5;132;01m%(name)s\u001b[39;00m\u001b[38;5;124m() got unexpected keyword argument \u001b[39m\u001b[38;5;124m\"\u001b[39m\u001b[38;5;124m'\u001b[39m\n\u001b[1;32m   1643\u001b[0m                 \u001b[38;5;241m+\u001b[39m arg \u001b[38;5;241m+\u001b[39m \u001b[38;5;124m'\u001b[39m\u001b[38;5;124m\"\u001b[39m\u001b[38;5;124m which is no longer supported as of \u001b[39m\u001b[38;5;124m'\u001b[39m\n\u001b[1;32m   1644\u001b[0m                 \u001b[38;5;124m'\u001b[39m\u001b[38;5;132;01m%(since)s\u001b[39;00m\u001b[38;5;124m and will become an error \u001b[39m\u001b[38;5;124m'\u001b[39m\n\u001b[1;32m   1645\u001b[0m                 \u001b[38;5;124m'\u001b[39m\u001b[38;5;132;01m%(removal)s\u001b[39;00m\u001b[38;5;124m'\u001b[39m)\n\u001b[1;32m   1646\u001b[0m     kwargs\u001b[38;5;241m.\u001b[39mpop(arg)\n\u001b[0;32m-> 1648\u001b[0m \u001b[38;5;28;01mreturn\u001b[39;00m \u001b[43mfunc\u001b[49m\u001b[43m(\u001b[49m\u001b[38;5;241;43m*\u001b[39;49m\u001b[43margs\u001b[49m\u001b[43m,\u001b[49m\u001b[43m \u001b[49m\u001b[38;5;241;43m*\u001b[39;49m\u001b[38;5;241;43m*\u001b[39;49m\u001b[43mkwargs\u001b[49m\u001b[43m)\u001b[49m\n",
      "File \u001b[0;32m~/Documents/CodingPersonal/mobility-research/skmob_mmc_mobility/venv/lib/python3.8/site-packages/matplotlib/_api/deprecation.py:412\u001b[0m, in \u001b[0;36mdelete_parameter.<locals>.wrapper\u001b[0;34m(*inner_args, **inner_kwargs)\u001b[0m\n\u001b[1;32m    402\u001b[0m     deprecation_addendum \u001b[38;5;241m=\u001b[39m (\n\u001b[1;32m    403\u001b[0m         \u001b[38;5;124mf\u001b[39m\u001b[38;5;124m\"\u001b[39m\u001b[38;5;124mIf any parameter follows \u001b[39m\u001b[38;5;132;01m{\u001b[39;00mname\u001b[38;5;132;01m!r}\u001b[39;00m\u001b[38;5;124m, they should be passed as \u001b[39m\u001b[38;5;124m\"\u001b[39m\n\u001b[1;32m    404\u001b[0m         \u001b[38;5;124mf\u001b[39m\u001b[38;5;124m\"\u001b[39m\u001b[38;5;124mkeyword, not positionally.\u001b[39m\u001b[38;5;124m\"\u001b[39m)\n\u001b[1;32m    405\u001b[0m     warn_deprecated(\n\u001b[1;32m    406\u001b[0m         since,\n\u001b[1;32m    407\u001b[0m         name\u001b[38;5;241m=\u001b[39m\u001b[38;5;28mrepr\u001b[39m(name),\n\u001b[0;32m   (...)\u001b[0m\n\u001b[1;32m    410\u001b[0m                  \u001b[38;5;28;01melse\u001b[39;00m deprecation_addendum,\n\u001b[1;32m    411\u001b[0m         \u001b[38;5;241m*\u001b[39m\u001b[38;5;241m*\u001b[39mkwargs)\n\u001b[0;32m--> 412\u001b[0m \u001b[38;5;28;01mreturn\u001b[39;00m \u001b[43mfunc\u001b[49m\u001b[43m(\u001b[49m\u001b[38;5;241;43m*\u001b[39;49m\u001b[43minner_args\u001b[49m\u001b[43m,\u001b[49m\u001b[43m \u001b[49m\u001b[38;5;241;43m*\u001b[39;49m\u001b[38;5;241;43m*\u001b[39;49m\u001b[43minner_kwargs\u001b[49m\u001b[43m)\u001b[49m\n",
      "File \u001b[0;32m~/Documents/CodingPersonal/mobility-research/skmob_mmc_mobility/venv/lib/python3.8/site-packages/matplotlib/backends/backend_agg.py:540\u001b[0m, in \u001b[0;36mFigureCanvasAgg.print_png\u001b[0;34m(self, filename_or_obj, metadata, pil_kwargs, *args)\u001b[0m\n\u001b[1;32m    490\u001b[0m \u001b[38;5;129m@_check_savefig_extra_args\u001b[39m\n\u001b[1;32m    491\u001b[0m \u001b[38;5;129m@_api\u001b[39m\u001b[38;5;241m.\u001b[39mdelete_parameter(\u001b[38;5;124m\"\u001b[39m\u001b[38;5;124m3.5\u001b[39m\u001b[38;5;124m\"\u001b[39m, \u001b[38;5;124m\"\u001b[39m\u001b[38;5;124margs\u001b[39m\u001b[38;5;124m\"\u001b[39m)\n\u001b[1;32m    492\u001b[0m \u001b[38;5;28;01mdef\u001b[39;00m \u001b[38;5;21mprint_png\u001b[39m(\u001b[38;5;28mself\u001b[39m, filename_or_obj, \u001b[38;5;241m*\u001b[39margs,\n\u001b[1;32m    493\u001b[0m               metadata\u001b[38;5;241m=\u001b[39m\u001b[38;5;28;01mNone\u001b[39;00m, pil_kwargs\u001b[38;5;241m=\u001b[39m\u001b[38;5;28;01mNone\u001b[39;00m):\n\u001b[1;32m    494\u001b[0m     \u001b[38;5;124;03m\"\"\"\u001b[39;00m\n\u001b[1;32m    495\u001b[0m \u001b[38;5;124;03m    Write the figure to a PNG file.\u001b[39;00m\n\u001b[1;32m    496\u001b[0m \n\u001b[0;32m   (...)\u001b[0m\n\u001b[1;32m    538\u001b[0m \u001b[38;5;124;03m        *metadata*, including the default 'Software' key.\u001b[39;00m\n\u001b[1;32m    539\u001b[0m \u001b[38;5;124;03m    \"\"\"\u001b[39;00m\n\u001b[0;32m--> 540\u001b[0m     \u001b[43mFigureCanvasAgg\u001b[49m\u001b[38;5;241;43m.\u001b[39;49m\u001b[43mdraw\u001b[49m\u001b[43m(\u001b[49m\u001b[38;5;28;43mself\u001b[39;49m\u001b[43m)\u001b[49m\n\u001b[1;32m    541\u001b[0m     mpl\u001b[38;5;241m.\u001b[39mimage\u001b[38;5;241m.\u001b[39mimsave(\n\u001b[1;32m    542\u001b[0m         filename_or_obj, \u001b[38;5;28mself\u001b[39m\u001b[38;5;241m.\u001b[39mbuffer_rgba(), \u001b[38;5;28mformat\u001b[39m\u001b[38;5;241m=\u001b[39m\u001b[38;5;124m\"\u001b[39m\u001b[38;5;124mpng\u001b[39m\u001b[38;5;124m\"\u001b[39m, origin\u001b[38;5;241m=\u001b[39m\u001b[38;5;124m\"\u001b[39m\u001b[38;5;124mupper\u001b[39m\u001b[38;5;124m\"\u001b[39m,\n\u001b[1;32m    543\u001b[0m         dpi\u001b[38;5;241m=\u001b[39m\u001b[38;5;28mself\u001b[39m\u001b[38;5;241m.\u001b[39mfigure\u001b[38;5;241m.\u001b[39mdpi, metadata\u001b[38;5;241m=\u001b[39mmetadata, pil_kwargs\u001b[38;5;241m=\u001b[39mpil_kwargs)\n",
      "File \u001b[0;32m~/Documents/CodingPersonal/mobility-research/skmob_mmc_mobility/venv/lib/python3.8/site-packages/matplotlib/backends/backend_agg.py:436\u001b[0m, in \u001b[0;36mFigureCanvasAgg.draw\u001b[0;34m(self)\u001b[0m\n\u001b[1;32m    432\u001b[0m \u001b[38;5;66;03m# Acquire a lock on the shared font cache.\u001b[39;00m\n\u001b[1;32m    433\u001b[0m \u001b[38;5;28;01mwith\u001b[39;00m RendererAgg\u001b[38;5;241m.\u001b[39mlock, \\\n\u001b[1;32m    434\u001b[0m      (\u001b[38;5;28mself\u001b[39m\u001b[38;5;241m.\u001b[39mtoolbar\u001b[38;5;241m.\u001b[39m_wait_cursor_for_draw_cm() \u001b[38;5;28;01mif\u001b[39;00m \u001b[38;5;28mself\u001b[39m\u001b[38;5;241m.\u001b[39mtoolbar\n\u001b[1;32m    435\u001b[0m       \u001b[38;5;28;01melse\u001b[39;00m nullcontext()):\n\u001b[0;32m--> 436\u001b[0m     \u001b[38;5;28;43mself\u001b[39;49m\u001b[38;5;241;43m.\u001b[39;49m\u001b[43mfigure\u001b[49m\u001b[38;5;241;43m.\u001b[39;49m\u001b[43mdraw\u001b[49m\u001b[43m(\u001b[49m\u001b[38;5;28;43mself\u001b[39;49m\u001b[38;5;241;43m.\u001b[39;49m\u001b[43mrenderer\u001b[49m\u001b[43m)\u001b[49m\n\u001b[1;32m    437\u001b[0m     \u001b[38;5;66;03m# A GUI class may be need to update a window using this draw, so\u001b[39;00m\n\u001b[1;32m    438\u001b[0m     \u001b[38;5;66;03m# don't forget to call the superclass.\u001b[39;00m\n\u001b[1;32m    439\u001b[0m     \u001b[38;5;28msuper\u001b[39m()\u001b[38;5;241m.\u001b[39mdraw()\n",
      "File \u001b[0;32m~/Documents/CodingPersonal/mobility-research/skmob_mmc_mobility/venv/lib/python3.8/site-packages/matplotlib/artist.py:73\u001b[0m, in \u001b[0;36m_finalize_rasterization.<locals>.draw_wrapper\u001b[0;34m(artist, renderer, *args, **kwargs)\u001b[0m\n\u001b[1;32m     71\u001b[0m \u001b[38;5;129m@wraps\u001b[39m(draw)\n\u001b[1;32m     72\u001b[0m \u001b[38;5;28;01mdef\u001b[39;00m \u001b[38;5;21mdraw_wrapper\u001b[39m(artist, renderer, \u001b[38;5;241m*\u001b[39margs, \u001b[38;5;241m*\u001b[39m\u001b[38;5;241m*\u001b[39mkwargs):\n\u001b[0;32m---> 73\u001b[0m     result \u001b[38;5;241m=\u001b[39m \u001b[43mdraw\u001b[49m\u001b[43m(\u001b[49m\u001b[43martist\u001b[49m\u001b[43m,\u001b[49m\u001b[43m \u001b[49m\u001b[43mrenderer\u001b[49m\u001b[43m,\u001b[49m\u001b[43m \u001b[49m\u001b[38;5;241;43m*\u001b[39;49m\u001b[43margs\u001b[49m\u001b[43m,\u001b[49m\u001b[43m \u001b[49m\u001b[38;5;241;43m*\u001b[39;49m\u001b[38;5;241;43m*\u001b[39;49m\u001b[43mkwargs\u001b[49m\u001b[43m)\u001b[49m\n\u001b[1;32m     74\u001b[0m     \u001b[38;5;28;01mif\u001b[39;00m renderer\u001b[38;5;241m.\u001b[39m_rasterizing:\n\u001b[1;32m     75\u001b[0m         renderer\u001b[38;5;241m.\u001b[39mstop_rasterizing()\n",
      "File \u001b[0;32m~/Documents/CodingPersonal/mobility-research/skmob_mmc_mobility/venv/lib/python3.8/site-packages/matplotlib/artist.py:50\u001b[0m, in \u001b[0;36mallow_rasterization.<locals>.draw_wrapper\u001b[0;34m(artist, renderer)\u001b[0m\n\u001b[1;32m     47\u001b[0m     \u001b[38;5;28;01mif\u001b[39;00m artist\u001b[38;5;241m.\u001b[39mget_agg_filter() \u001b[38;5;129;01mis\u001b[39;00m \u001b[38;5;129;01mnot\u001b[39;00m \u001b[38;5;28;01mNone\u001b[39;00m:\n\u001b[1;32m     48\u001b[0m         renderer\u001b[38;5;241m.\u001b[39mstart_filter()\n\u001b[0;32m---> 50\u001b[0m     \u001b[38;5;28;01mreturn\u001b[39;00m \u001b[43mdraw\u001b[49m\u001b[43m(\u001b[49m\u001b[43martist\u001b[49m\u001b[43m,\u001b[49m\u001b[43m \u001b[49m\u001b[43mrenderer\u001b[49m\u001b[43m)\u001b[49m\n\u001b[1;32m     51\u001b[0m \u001b[38;5;28;01mfinally\u001b[39;00m:\n\u001b[1;32m     52\u001b[0m     \u001b[38;5;28;01mif\u001b[39;00m artist\u001b[38;5;241m.\u001b[39mget_agg_filter() \u001b[38;5;129;01mis\u001b[39;00m \u001b[38;5;129;01mnot\u001b[39;00m \u001b[38;5;28;01mNone\u001b[39;00m:\n",
      "File \u001b[0;32m~/Documents/CodingPersonal/mobility-research/skmob_mmc_mobility/venv/lib/python3.8/site-packages/matplotlib/figure.py:2810\u001b[0m, in \u001b[0;36mFigure.draw\u001b[0;34m(self, renderer)\u001b[0m\n\u001b[1;32m   2807\u001b[0m         \u001b[38;5;66;03m# ValueError can occur when resizing a window.\u001b[39;00m\n\u001b[1;32m   2809\u001b[0m \u001b[38;5;28mself\u001b[39m\u001b[38;5;241m.\u001b[39mpatch\u001b[38;5;241m.\u001b[39mdraw(renderer)\n\u001b[0;32m-> 2810\u001b[0m \u001b[43mmimage\u001b[49m\u001b[38;5;241;43m.\u001b[39;49m\u001b[43m_draw_list_compositing_images\u001b[49m\u001b[43m(\u001b[49m\n\u001b[1;32m   2811\u001b[0m \u001b[43m    \u001b[49m\u001b[43mrenderer\u001b[49m\u001b[43m,\u001b[49m\u001b[43m \u001b[49m\u001b[38;5;28;43mself\u001b[39;49m\u001b[43m,\u001b[49m\u001b[43m \u001b[49m\u001b[43martists\u001b[49m\u001b[43m,\u001b[49m\u001b[43m \u001b[49m\u001b[38;5;28;43mself\u001b[39;49m\u001b[38;5;241;43m.\u001b[39;49m\u001b[43msuppressComposite\u001b[49m\u001b[43m)\u001b[49m\n\u001b[1;32m   2813\u001b[0m \u001b[38;5;28;01mfor\u001b[39;00m sfig \u001b[38;5;129;01min\u001b[39;00m \u001b[38;5;28mself\u001b[39m\u001b[38;5;241m.\u001b[39msubfigs:\n\u001b[1;32m   2814\u001b[0m     sfig\u001b[38;5;241m.\u001b[39mdraw(renderer)\n",
      "File \u001b[0;32m~/Documents/CodingPersonal/mobility-research/skmob_mmc_mobility/venv/lib/python3.8/site-packages/matplotlib/image.py:132\u001b[0m, in \u001b[0;36m_draw_list_compositing_images\u001b[0;34m(renderer, parent, artists, suppress_composite)\u001b[0m\n\u001b[1;32m    130\u001b[0m \u001b[38;5;28;01mif\u001b[39;00m not_composite \u001b[38;5;129;01mor\u001b[39;00m \u001b[38;5;129;01mnot\u001b[39;00m has_images:\n\u001b[1;32m    131\u001b[0m     \u001b[38;5;28;01mfor\u001b[39;00m a \u001b[38;5;129;01min\u001b[39;00m artists:\n\u001b[0;32m--> 132\u001b[0m         \u001b[43ma\u001b[49m\u001b[38;5;241;43m.\u001b[39;49m\u001b[43mdraw\u001b[49m\u001b[43m(\u001b[49m\u001b[43mrenderer\u001b[49m\u001b[43m)\u001b[49m\n\u001b[1;32m    133\u001b[0m \u001b[38;5;28;01melse\u001b[39;00m:\n\u001b[1;32m    134\u001b[0m     \u001b[38;5;66;03m# Composite any adjacent images together\u001b[39;00m\n\u001b[1;32m    135\u001b[0m     image_group \u001b[38;5;241m=\u001b[39m []\n",
      "File \u001b[0;32m~/Documents/CodingPersonal/mobility-research/skmob_mmc_mobility/venv/lib/python3.8/site-packages/matplotlib/artist.py:50\u001b[0m, in \u001b[0;36mallow_rasterization.<locals>.draw_wrapper\u001b[0;34m(artist, renderer)\u001b[0m\n\u001b[1;32m     47\u001b[0m     \u001b[38;5;28;01mif\u001b[39;00m artist\u001b[38;5;241m.\u001b[39mget_agg_filter() \u001b[38;5;129;01mis\u001b[39;00m \u001b[38;5;129;01mnot\u001b[39;00m \u001b[38;5;28;01mNone\u001b[39;00m:\n\u001b[1;32m     48\u001b[0m         renderer\u001b[38;5;241m.\u001b[39mstart_filter()\n\u001b[0;32m---> 50\u001b[0m     \u001b[38;5;28;01mreturn\u001b[39;00m \u001b[43mdraw\u001b[49m\u001b[43m(\u001b[49m\u001b[43martist\u001b[49m\u001b[43m,\u001b[49m\u001b[43m \u001b[49m\u001b[43mrenderer\u001b[49m\u001b[43m)\u001b[49m\n\u001b[1;32m     51\u001b[0m \u001b[38;5;28;01mfinally\u001b[39;00m:\n\u001b[1;32m     52\u001b[0m     \u001b[38;5;28;01mif\u001b[39;00m artist\u001b[38;5;241m.\u001b[39mget_agg_filter() \u001b[38;5;129;01mis\u001b[39;00m \u001b[38;5;129;01mnot\u001b[39;00m \u001b[38;5;28;01mNone\u001b[39;00m:\n",
      "File \u001b[0;32m~/Documents/CodingPersonal/mobility-research/skmob_mmc_mobility/venv/lib/python3.8/site-packages/matplotlib/axes/_base.py:3082\u001b[0m, in \u001b[0;36m_AxesBase.draw\u001b[0;34m(self, renderer)\u001b[0m\n\u001b[1;32m   3079\u001b[0m         a\u001b[38;5;241m.\u001b[39mdraw(renderer)\n\u001b[1;32m   3080\u001b[0m     renderer\u001b[38;5;241m.\u001b[39mstop_rasterizing()\n\u001b[0;32m-> 3082\u001b[0m \u001b[43mmimage\u001b[49m\u001b[38;5;241;43m.\u001b[39;49m\u001b[43m_draw_list_compositing_images\u001b[49m\u001b[43m(\u001b[49m\n\u001b[1;32m   3083\u001b[0m \u001b[43m    \u001b[49m\u001b[43mrenderer\u001b[49m\u001b[43m,\u001b[49m\u001b[43m \u001b[49m\u001b[38;5;28;43mself\u001b[39;49m\u001b[43m,\u001b[49m\u001b[43m \u001b[49m\u001b[43martists\u001b[49m\u001b[43m,\u001b[49m\u001b[43m \u001b[49m\u001b[38;5;28;43mself\u001b[39;49m\u001b[38;5;241;43m.\u001b[39;49m\u001b[43mfigure\u001b[49m\u001b[38;5;241;43m.\u001b[39;49m\u001b[43msuppressComposite\u001b[49m\u001b[43m)\u001b[49m\n\u001b[1;32m   3085\u001b[0m renderer\u001b[38;5;241m.\u001b[39mclose_group(\u001b[38;5;124m'\u001b[39m\u001b[38;5;124maxes\u001b[39m\u001b[38;5;124m'\u001b[39m)\n\u001b[1;32m   3086\u001b[0m \u001b[38;5;28mself\u001b[39m\u001b[38;5;241m.\u001b[39mstale \u001b[38;5;241m=\u001b[39m \u001b[38;5;28;01mFalse\u001b[39;00m\n",
      "File \u001b[0;32m~/Documents/CodingPersonal/mobility-research/skmob_mmc_mobility/venv/lib/python3.8/site-packages/matplotlib/image.py:132\u001b[0m, in \u001b[0;36m_draw_list_compositing_images\u001b[0;34m(renderer, parent, artists, suppress_composite)\u001b[0m\n\u001b[1;32m    130\u001b[0m \u001b[38;5;28;01mif\u001b[39;00m not_composite \u001b[38;5;129;01mor\u001b[39;00m \u001b[38;5;129;01mnot\u001b[39;00m has_images:\n\u001b[1;32m    131\u001b[0m     \u001b[38;5;28;01mfor\u001b[39;00m a \u001b[38;5;129;01min\u001b[39;00m artists:\n\u001b[0;32m--> 132\u001b[0m         \u001b[43ma\u001b[49m\u001b[38;5;241;43m.\u001b[39;49m\u001b[43mdraw\u001b[49m\u001b[43m(\u001b[49m\u001b[43mrenderer\u001b[49m\u001b[43m)\u001b[49m\n\u001b[1;32m    133\u001b[0m \u001b[38;5;28;01melse\u001b[39;00m:\n\u001b[1;32m    134\u001b[0m     \u001b[38;5;66;03m# Composite any adjacent images together\u001b[39;00m\n\u001b[1;32m    135\u001b[0m     image_group \u001b[38;5;241m=\u001b[39m []\n",
      "File \u001b[0;32m~/Documents/CodingPersonal/mobility-research/skmob_mmc_mobility/venv/lib/python3.8/site-packages/matplotlib/artist.py:50\u001b[0m, in \u001b[0;36mallow_rasterization.<locals>.draw_wrapper\u001b[0;34m(artist, renderer)\u001b[0m\n\u001b[1;32m     47\u001b[0m     \u001b[38;5;28;01mif\u001b[39;00m artist\u001b[38;5;241m.\u001b[39mget_agg_filter() \u001b[38;5;129;01mis\u001b[39;00m \u001b[38;5;129;01mnot\u001b[39;00m \u001b[38;5;28;01mNone\u001b[39;00m:\n\u001b[1;32m     48\u001b[0m         renderer\u001b[38;5;241m.\u001b[39mstart_filter()\n\u001b[0;32m---> 50\u001b[0m     \u001b[38;5;28;01mreturn\u001b[39;00m \u001b[43mdraw\u001b[49m\u001b[43m(\u001b[49m\u001b[43martist\u001b[49m\u001b[43m,\u001b[49m\u001b[43m \u001b[49m\u001b[43mrenderer\u001b[49m\u001b[43m)\u001b[49m\n\u001b[1;32m     51\u001b[0m \u001b[38;5;28;01mfinally\u001b[39;00m:\n\u001b[1;32m     52\u001b[0m     \u001b[38;5;28;01mif\u001b[39;00m artist\u001b[38;5;241m.\u001b[39mget_agg_filter() \u001b[38;5;129;01mis\u001b[39;00m \u001b[38;5;129;01mnot\u001b[39;00m \u001b[38;5;28;01mNone\u001b[39;00m:\n",
      "File \u001b[0;32m~/Documents/CodingPersonal/mobility-research/skmob_mmc_mobility/venv/lib/python3.8/site-packages/matplotlib/patches.py:606\u001b[0m, in \u001b[0;36mPatch.draw\u001b[0;34m(self, renderer)\u001b[0m\n\u001b[1;32m    604\u001b[0m     \u001b[38;5;28;01mreturn\u001b[39;00m\n\u001b[1;32m    605\u001b[0m \u001b[38;5;66;03m# Patch has traditionally ignored the dashoffset.\u001b[39;00m\n\u001b[0;32m--> 606\u001b[0m \u001b[38;5;28;01mwith\u001b[39;00m cbook\u001b[38;5;241m.\u001b[39m_setattr_cm(\u001b[38;5;28mself\u001b[39m, _dashoffset\u001b[38;5;241m=\u001b[39m\u001b[38;5;241m0\u001b[39m), \\\n\u001b[1;32m    607\u001b[0m         \u001b[38;5;28mself\u001b[39m\u001b[38;5;241m.\u001b[39m_bind_draw_path_function(renderer) \u001b[38;5;28;01mas\u001b[39;00m draw_path:\n\u001b[1;32m    608\u001b[0m     path \u001b[38;5;241m=\u001b[39m \u001b[38;5;28mself\u001b[39m\u001b[38;5;241m.\u001b[39mget_path()\n\u001b[1;32m    609\u001b[0m     transform \u001b[38;5;241m=\u001b[39m \u001b[38;5;28mself\u001b[39m\u001b[38;5;241m.\u001b[39mget_transform()\n",
      "File \u001b[0;32m/Library/Developer/CommandLineTools/Library/Frameworks/Python3.framework/Versions/3.8/lib/python3.8/contextlib.py:113\u001b[0m, in \u001b[0;36m_GeneratorContextManager.__enter__\u001b[0;34m(self)\u001b[0m\n\u001b[1;32m    111\u001b[0m \u001b[38;5;28;01mdel\u001b[39;00m \u001b[38;5;28mself\u001b[39m\u001b[38;5;241m.\u001b[39margs, \u001b[38;5;28mself\u001b[39m\u001b[38;5;241m.\u001b[39mkwds, \u001b[38;5;28mself\u001b[39m\u001b[38;5;241m.\u001b[39mfunc\n\u001b[1;32m    112\u001b[0m \u001b[38;5;28;01mtry\u001b[39;00m:\n\u001b[0;32m--> 113\u001b[0m     \u001b[38;5;28;01mreturn\u001b[39;00m \u001b[38;5;28;43mnext\u001b[39;49m\u001b[43m(\u001b[49m\u001b[38;5;28;43mself\u001b[39;49m\u001b[38;5;241;43m.\u001b[39;49m\u001b[43mgen\u001b[49m\u001b[43m)\u001b[49m\n\u001b[1;32m    114\u001b[0m \u001b[38;5;28;01mexcept\u001b[39;00m \u001b[38;5;167;01mStopIteration\u001b[39;00m:\n\u001b[1;32m    115\u001b[0m     \u001b[38;5;28;01mraise\u001b[39;00m \u001b[38;5;167;01mRuntimeError\u001b[39;00m(\u001b[38;5;124m\"\u001b[39m\u001b[38;5;124mgenerator didn\u001b[39m\u001b[38;5;124m'\u001b[39m\u001b[38;5;124mt yield\u001b[39m\u001b[38;5;124m\"\u001b[39m) \u001b[38;5;28;01mfrom\u001b[39;00m \u001b[38;5;28mNone\u001b[39m\n",
      "File \u001b[0;32m~/Documents/CodingPersonal/mobility-research/skmob_mmc_mobility/venv/lib/python3.8/site-packages/matplotlib/patches.py:594\u001b[0m, in \u001b[0;36mPatch._bind_draw_path_function\u001b[0;34m(self, renderer)\u001b[0m\n\u001b[1;32m    588\u001b[0m     renderer \u001b[38;5;241m=\u001b[39m PathEffectRenderer(\u001b[38;5;28mself\u001b[39m\u001b[38;5;241m.\u001b[39mget_path_effects(), renderer)\n\u001b[1;32m    590\u001b[0m \u001b[38;5;66;03m# In `with _bind_draw_path_function(renderer) as draw_path: ...`\u001b[39;00m\n\u001b[1;32m    591\u001b[0m \u001b[38;5;66;03m# (in the implementations of `draw()` below), calls to `draw_path(...)`\u001b[39;00m\n\u001b[1;32m    592\u001b[0m \u001b[38;5;66;03m# will occur as if they took place here with `gc` inserted as\u001b[39;00m\n\u001b[1;32m    593\u001b[0m \u001b[38;5;66;03m# additional first argument.\u001b[39;00m\n\u001b[0;32m--> 594\u001b[0m \u001b[38;5;28;01myield\u001b[39;00m \u001b[43mfunctools\u001b[49m\u001b[38;5;241;43m.\u001b[39;49m\u001b[43mpartial\u001b[49m\u001b[43m(\u001b[49m\u001b[43mrenderer\u001b[49m\u001b[38;5;241;43m.\u001b[39;49m\u001b[43mdraw_path\u001b[49m\u001b[43m,\u001b[49m\u001b[43m \u001b[49m\u001b[43mgc\u001b[49m\u001b[43m)\u001b[49m\n\u001b[1;32m    596\u001b[0m gc\u001b[38;5;241m.\u001b[39mrestore()\n\u001b[1;32m    597\u001b[0m renderer\u001b[38;5;241m.\u001b[39mclose_group(\u001b[38;5;124m'\u001b[39m\u001b[38;5;124mpatch\u001b[39m\u001b[38;5;124m'\u001b[39m)\n",
      "\u001b[0;31mKeyboardInterrupt\u001b[0m: "
     ]
    },
    {
     "data": {
      "image/png": "[encoded data removed]",
      "text/plain": [
       "<Figure size 432x288 with 1 Axes>"
      ]
     },
     "metadata": {
      "needs_background": "light"
     },
     "output_type": "display_data"
    }
   ],
   "source": [
    "# Let's play the min-max game\n",
    "def train():\n",
    "    # Define the optimizers and the train operations\n",
    "    optimizer = tf.keras.optimizers.Adam(1e-3)\n",
    "\n",
    "    @tf.function\n",
    "    def train_step():\n",
    "        with tf.GradientTape(persistent=True) as tape:\n",
    "            real_data = sample_dataset()\n",
    "            noise_vector = tf.random.normal(\n",
    "                mean=0, stddev=1, shape=(real_data.shape[0], latent_space_shape[0])\n",
    "            )\n",
    "            # Sample from the Generator\n",
    "            fake_data = G(noise_vector)\n",
    "            # Compute the D loss\n",
    "            d_fake_data = D(fake_data)\n",
    "            d_real_data = D(real_data)\n",
    "            d_loss_value = d_loss(generated_output=d_fake_data, real_output=d_real_data)\n",
    "            # Compute the G loss\n",
    "            g_loss_value = g_loss(generated_output=d_fake_data)\n",
    "        # Now that we have computed the losses, we can compute the gradients \n",
    "        # (using the tape) and optimize the networks\n",
    "        d_gradients = tape.gradient(d_loss_value, D.trainable_variables)\n",
    "        g_gradients = tape.gradient(g_loss_value, G.trainable_variables)\n",
    "        del tape\n",
    "\n",
    "        # Apply gradients to variables\n",
    "        optimizer.apply_gradients(zip(d_gradients, D.trainable_variables))\n",
    "        optimizer.apply_gradients(zip(g_gradients, G.trainable_variables))\n",
    "        return real_data, fake_data, g_loss_value, d_loss_value\n",
    "\n",
    "    # 40000 training steps with logging every 200 steps\n",
    "    fig, ax = plt.subplots()\n",
    "    \n",
    "#    gloss_list = []\n",
    "#    dloss_list = []\n",
    "    \n",
    "    for step in range(40000):\n",
    "        real_data, fake_data, g_loss_value, d_loss_value = train_step()\n",
    "        \n",
    "#        gloss_list.append(g_loss_value.numpy())\n",
    "#        dloss_list.append(d_loss_value.numpy())\n",
    "        \n",
    "#        print(gloss_list)\n",
    "        \n",
    "        if step % 200 == 0:\n",
    "            print(\n",
    "                \"G loss: \",\n",
    "                g_loss_value.numpy(),\n",
    "                \" D loss: \",\n",
    "                d_loss_value.numpy(),\n",
    "                \" step: \",\n",
    "                step,\n",
    "            )\n",
    "\n",
    "            # Sample 5000 values from the Generator and draw the histogram\n",
    "            ax.hist(fake_data.numpy(), 100)\n",
    "            ax.hist(real_data.numpy(), 100)\n",
    "            # these are matplotlib.patch.Patch properties\n",
    "            props = dict(boxstyle=\"round\", facecolor=\"wheat\", alpha=0.5)\n",
    "\n",
    "            # place a text box in upper left in axes coords\n",
    "            textstr = f\"step={step}\"\n",
    "            ax.text(\n",
    "                0.05,\n",
    "                0.95,\n",
    "                textstr,\n",
    "                transform=ax.transAxes,\n",
    "                fontsize=14,\n",
    "                verticalalignment=\"top\",\n",
    "                bbox=props,\n",
    "            )\n",
    "\n",
    "            axes = plt.gca()\n",
    "            axes.set_xlim([-1, 11])\n",
    "            axes.set_ylim([0, 60])\n",
    "            display.display(pl.gcf())\n",
    "            #display.clear_output(wait=True)\n",
    "            \n",
    "            \n",
    "            plt.savefig(\"./gif/{}.png\".format(step))\n",
    "            plt.gca().clear()\n",
    "\n",
    "train()"
   ]
  },
  {
   "cell_type": "code",
   "execution_count": null,
   "metadata": {},
   "outputs": [],
   "source": []
  },
  {
   "cell_type": "markdown",
   "metadata": {
    "id": "ermU_yDKhIA9"
   },
   "source": [
    "# Prueba con 2 Dimensiones"
   ]
  },
  {
   "cell_type": "code",
   "execution_count": 439,
   "metadata": {
    "executionInfo": {
     "elapsed": 411,
     "status": "ok",
     "timestamp": 1650668273228,
     "user": {
      "displayName": "Yuri Gabriel Pila Huancachoque",
      "userId": "01047346606913623595"
     },
     "user_tz": 300
    },
    "id": "euyh8gGthZyb"
   },
   "outputs": [],
   "source": [
    "def sample_dataset_2d():\n",
    "    dataset_shape = (2000, 1)\n",
    "    rand_1 = tf.random.normal(\n",
    "            mean=10.0, shape=dataset_shape, stddev=0.1, dtype=tf.float32\n",
    "        )\n",
    "    rand_2 = tf.random.normal(\n",
    "            mean=5.0, shape=dataset_shape, stddev=0.5, dtype=tf.float32\n",
    "        )\n",
    "    return tf.concat([rand_1, rand_2], axis=1)\n",
    "\n",
    "def get_noise_vector_2d():\n",
    "    noise_vector = tf.random.normal(\n",
    "                mean=0, stddev=1, shape=(real_data.shape[0], latent_space_shape[0])\n",
    "            )\n",
    "    return noise_vector    "
   ]
  },
  {
   "cell_type": "code",
   "execution_count": 440,
   "metadata": {
    "executionInfo": {
     "elapsed": 382,
     "status": "ok",
     "timestamp": 1650668312779,
     "user": {
      "displayName": "Yuri Gabriel Pila Huancachoque",
      "userId": "01047346606913623595"
     },
     "user_tz": 300
    },
    "id": "EU2VI3mWfmJD"
   },
   "outputs": [],
   "source": [
    "def build_generator_2d(input_shape):\n",
    "    inputs = tf.keras.layers.Input(input_shape)\n",
    "    net = tf.keras.layers.Dense(units=64, activation=tf.nn.elu, name='fc1')(inputs)\n",
    "    net = tf.keras.layers.Dense(units=64, activation=tf.nn.elu, name='fc2')(net)\n",
    "    net = tf.keras.layers.Dense(units=2, name='G')(net)\n",
    "    G = tf.keras.Model(inputs=inputs, outputs=net)\n",
    "    return G\n",
    "\n",
    "def build_discriminator_2d(input_shape):\n",
    "    inputs = tf.keras.layers.Input(input_shape)\n",
    "    net = tf.keras.layers.Dense(units=32, activation=tf.nn.elu, name='fc1')(inputs)\n",
    "    net = tf.keras.layers.Dense(units=1, name='D')(net)\n",
    "    D = tf.keras.Model(inputs=inputs, outputs=net)\n",
    "    return D "
   ]
  },
  {
   "cell_type": "code",
   "execution_count": 446,
   "metadata": {
    "id": "Zwb6pTA-lbt7"
   },
   "outputs": [],
   "source": [
    "def d_loss(real_output, generated_output):\n",
    "    '''Discriminator Loss Function'''\n",
    "    bce = tf.keras.losses.BinaryCrossentropy(from_logits=True)\n",
    "    d_loss = bce(tf.ones_like(real_output), real_output)\\\n",
    "            + bce(tf.zeros_like(generated_output), generated_output)\n",
    "    return d_loss\n",
    "\n",
    "def g_loss(generated_output):\n",
    "    '''Generator Loss Function'''\n",
    "    bce = tf.keras.losses.BinaryCrossentropy(from_logits=True)\n",
    "    g_loss = bce(tf.ones_like(generated_output), generated_output)\n",
    "    return g_loss"
   ]
  },
  {
   "cell_type": "code",
   "execution_count": 447,
   "metadata": {
    "executionInfo": {
     "elapsed": 463,
     "status": "ok",
     "timestamp": 1650669832996,
     "user": {
      "displayName": "Yuri Gabriel Pila Huancachoque",
      "userId": "01047346606913623595"
     },
     "user_tz": 300
    },
    "id": "7POit43Tllfv"
   },
   "outputs": [],
   "source": [
    "real_data = sample_dataset_2d()\n",
    "noise_vector = tf.random.normal(\n",
    "    mean=0, stddev=1, shape=(real_data.shape[0], latent_space_shape[0])\n",
    ")\n",
    "# Sample from the Generator\n",
    "fake_data = G(noise_vector)\n",
    "# Compute the D loss\n",
    "d_fake_data = D(fake_data)\n",
    "d_real_data = D(real_data)\n"
   ]
  },
  {
   "cell_type": "code",
   "execution_count": 448,
   "metadata": {
    "executionInfo": {
     "elapsed": 382,
     "status": "ok",
     "timestamp": 1650668792711,
     "user": {
      "displayName": "Yuri Gabriel Pila Huancachoque",
      "userId": "01047346606913623595"
     },
     "user_tz": 300
    },
    "id": "lpz5yMlYhft2"
   },
   "outputs": [],
   "source": [
    "input_shape = (2,)\n",
    "D = build_discriminator_2d(input_shape)\n",
    "\n",
    "# noise\n",
    "latent_space_shape = (100,)\n",
    "G = build_generator_2d(latent_space_shape)"
   ]
  },
  {
   "cell_type": "code",
   "execution_count": 449,
   "metadata": {
    "colab": {
     "base_uri": "https://localhost:8080/",
     "height": 1000
    },
    "executionInfo": {
     "elapsed": 636536,
     "status": "ok",
     "timestamp": 1650669429733,
     "user": {
      "displayName": "Yuri Gabriel Pila Huancachoque",
      "userId": "01047346606913623595"
     },
     "user_tz": 300
    },
    "id": "Z312-tZOgDEf",
    "outputId": "77a87f62-395f-4042-d582-33f479554a78",
    "scrolled": true,
    "tags": []
   },
   "outputs": [
    {
     "name": "stdout",
     "output_type": "stream",
     "text": [
      "G loss:  0.7351233  D loss:  0.7617039  step:  0\n"
     ]
    },
    {
     "data": {
      "image/png": "[encoded data removed]",
      "text/plain": [
       "<Figure size 432x288 with 1 Axes>"
      ]
     },
     "metadata": {},
     "output_type": "display_data"
    },
    {
     "name": "stdout",
     "output_type": "stream",
     "text": [
      "G loss:  0.50379044  D loss:  1.0727885  step:  200\n"
     ]
    },
    {
     "data": {
      "image/png": "[encoded data removed]",
      "text/plain": [
       "<Figure size 432x288 with 1 Axes>"
      ]
     },
     "metadata": {},
     "output_type": "display_data"
    },
    {
     "name": "stdout",
     "output_type": "stream",
     "text": [
      "G loss:  0.6126364  D loss:  1.2832639  step:  400\n"
     ]
    },
    {
     "name": "stderr",
     "output_type": "stream",
     "text": [
      "\n",
      "KeyboardInterrupt\n",
      "\n"
     ]
    },
    {
     "name": "stdout",
     "output_type": "stream",
     "text": [
      "Error in callback <function flush_figures at 0x11d6c9160> (for post_execute):\n"
     ]
    },
    {
     "ename": "KeyboardInterrupt",
     "evalue": "",
     "output_type": "error",
     "traceback": [
      "\u001b[0;31m---------------------------------------------------------------------------\u001b[0m",
      "\u001b[0;31mKeyboardInterrupt\u001b[0m                         Traceback (most recent call last)",
      "File \u001b[0;32m~/Documents/CodingPersonal/mobility-research/skmob_mmc_mobility/venv/lib/python3.8/site-packages/matplotlib_inline/backend_inline.py:121\u001b[0m, in \u001b[0;36mflush_figures\u001b[0;34m()\u001b[0m\n\u001b[1;32m    118\u001b[0m \u001b[38;5;28;01mif\u001b[39;00m InlineBackend\u001b[38;5;241m.\u001b[39minstance()\u001b[38;5;241m.\u001b[39mclose_figures:\n\u001b[1;32m    119\u001b[0m     \u001b[38;5;66;03m# ignore the tracking, just draw and close all figures\u001b[39;00m\n\u001b[1;32m    120\u001b[0m     \u001b[38;5;28;01mtry\u001b[39;00m:\n\u001b[0;32m--> 121\u001b[0m         \u001b[38;5;28;01mreturn\u001b[39;00m \u001b[43mshow\u001b[49m\u001b[43m(\u001b[49m\u001b[38;5;28;43;01mTrue\u001b[39;49;00m\u001b[43m)\u001b[49m\n\u001b[1;32m    122\u001b[0m     \u001b[38;5;28;01mexcept\u001b[39;00m \u001b[38;5;167;01mException\u001b[39;00m \u001b[38;5;28;01mas\u001b[39;00m e:\n\u001b[1;32m    123\u001b[0m         \u001b[38;5;66;03m# safely show traceback if in IPython, else raise\u001b[39;00m\n\u001b[1;32m    124\u001b[0m         ip \u001b[38;5;241m=\u001b[39m get_ipython()\n",
      "File \u001b[0;32m~/Documents/CodingPersonal/mobility-research/skmob_mmc_mobility/venv/lib/python3.8/site-packages/matplotlib_inline/backend_inline.py:41\u001b[0m, in \u001b[0;36mshow\u001b[0;34m(close, block)\u001b[0m\n\u001b[1;32m     39\u001b[0m \u001b[38;5;28;01mtry\u001b[39;00m:\n\u001b[1;32m     40\u001b[0m     \u001b[38;5;28;01mfor\u001b[39;00m figure_manager \u001b[38;5;129;01min\u001b[39;00m Gcf\u001b[38;5;241m.\u001b[39mget_all_fig_managers():\n\u001b[0;32m---> 41\u001b[0m         \u001b[43mdisplay\u001b[49m\u001b[43m(\u001b[49m\n\u001b[1;32m     42\u001b[0m \u001b[43m            \u001b[49m\u001b[43mfigure_manager\u001b[49m\u001b[38;5;241;43m.\u001b[39;49m\u001b[43mcanvas\u001b[49m\u001b[38;5;241;43m.\u001b[39;49m\u001b[43mfigure\u001b[49m\u001b[43m,\u001b[49m\n\u001b[1;32m     43\u001b[0m \u001b[43m            \u001b[49m\u001b[43mmetadata\u001b[49m\u001b[38;5;241;43m=\u001b[39;49m\u001b[43m_fetch_figure_metadata\u001b[49m\u001b[43m(\u001b[49m\u001b[43mfigure_manager\u001b[49m\u001b[38;5;241;43m.\u001b[39;49m\u001b[43mcanvas\u001b[49m\u001b[38;5;241;43m.\u001b[39;49m\u001b[43mfigure\u001b[49m\u001b[43m)\u001b[49m\n\u001b[1;32m     44\u001b[0m \u001b[43m        \u001b[49m\u001b[43m)\u001b[49m\n\u001b[1;32m     45\u001b[0m \u001b[38;5;28;01mfinally\u001b[39;00m:\n\u001b[1;32m     46\u001b[0m     show\u001b[38;5;241m.\u001b[39m_to_draw \u001b[38;5;241m=\u001b[39m []\n",
      "File \u001b[0;32m~/Documents/CodingPersonal/mobility-research/skmob_mmc_mobility/venv/lib/python3.8/site-packages/IPython/core/display_functions.py:298\u001b[0m, in \u001b[0;36mdisplay\u001b[0;34m(include, exclude, metadata, transient, display_id, raw, clear, *objs, **kwargs)\u001b[0m\n\u001b[1;32m    296\u001b[0m     publish_display_data(data\u001b[38;5;241m=\u001b[39mobj, metadata\u001b[38;5;241m=\u001b[39mmetadata, \u001b[38;5;241m*\u001b[39m\u001b[38;5;241m*\u001b[39mkwargs)\n\u001b[1;32m    297\u001b[0m \u001b[38;5;28;01melse\u001b[39;00m:\n\u001b[0;32m--> 298\u001b[0m     format_dict, md_dict \u001b[38;5;241m=\u001b[39m \u001b[38;5;28;43mformat\u001b[39;49m\u001b[43m(\u001b[49m\u001b[43mobj\u001b[49m\u001b[43m,\u001b[49m\u001b[43m \u001b[49m\u001b[43minclude\u001b[49m\u001b[38;5;241;43m=\u001b[39;49m\u001b[43minclude\u001b[49m\u001b[43m,\u001b[49m\u001b[43m \u001b[49m\u001b[43mexclude\u001b[49m\u001b[38;5;241;43m=\u001b[39;49m\u001b[43mexclude\u001b[49m\u001b[43m)\u001b[49m\n\u001b[1;32m    299\u001b[0m     \u001b[38;5;28;01mif\u001b[39;00m \u001b[38;5;129;01mnot\u001b[39;00m format_dict:\n\u001b[1;32m    300\u001b[0m         \u001b[38;5;66;03m# nothing to display (e.g. _ipython_display_ took over)\u001b[39;00m\n\u001b[1;32m    301\u001b[0m         \u001b[38;5;28;01mcontinue\u001b[39;00m\n",
      "File \u001b[0;32m~/Documents/CodingPersonal/mobility-research/skmob_mmc_mobility/venv/lib/python3.8/site-packages/IPython/core/formatters.py:178\u001b[0m, in \u001b[0;36mDisplayFormatter.format\u001b[0;34m(self, obj, include, exclude)\u001b[0m\n\u001b[1;32m    176\u001b[0m md \u001b[38;5;241m=\u001b[39m \u001b[38;5;28;01mNone\u001b[39;00m\n\u001b[1;32m    177\u001b[0m \u001b[38;5;28;01mtry\u001b[39;00m:\n\u001b[0;32m--> 178\u001b[0m     data \u001b[38;5;241m=\u001b[39m \u001b[43mformatter\u001b[49m\u001b[43m(\u001b[49m\u001b[43mobj\u001b[49m\u001b[43m)\u001b[49m\n\u001b[1;32m    179\u001b[0m \u001b[38;5;28;01mexcept\u001b[39;00m:\n\u001b[1;32m    180\u001b[0m     \u001b[38;5;66;03m# FIXME: log the exception\u001b[39;00m\n\u001b[1;32m    181\u001b[0m     \u001b[38;5;28;01mraise\u001b[39;00m\n",
      "File \u001b[0;32m~/Documents/CodingPersonal/mobility-research/skmob_mmc_mobility/venv/lib/python3.8/site-packages/decorator.py:232\u001b[0m, in \u001b[0;36mdecorate.<locals>.fun\u001b[0;34m(*args, **kw)\u001b[0m\n\u001b[1;32m    230\u001b[0m \u001b[38;5;28;01mif\u001b[39;00m \u001b[38;5;129;01mnot\u001b[39;00m kwsyntax:\n\u001b[1;32m    231\u001b[0m     args, kw \u001b[38;5;241m=\u001b[39m fix(args, kw, sig)\n\u001b[0;32m--> 232\u001b[0m \u001b[38;5;28;01mreturn\u001b[39;00m \u001b[43mcaller\u001b[49m\u001b[43m(\u001b[49m\u001b[43mfunc\u001b[49m\u001b[43m,\u001b[49m\u001b[43m \u001b[49m\u001b[38;5;241;43m*\u001b[39;49m\u001b[43m(\u001b[49m\u001b[43mextras\u001b[49m\u001b[43m \u001b[49m\u001b[38;5;241;43m+\u001b[39;49m\u001b[43m \u001b[49m\u001b[43margs\u001b[49m\u001b[43m)\u001b[49m\u001b[43m,\u001b[49m\u001b[43m \u001b[49m\u001b[38;5;241;43m*\u001b[39;49m\u001b[38;5;241;43m*\u001b[39;49m\u001b[43mkw\u001b[49m\u001b[43m)\u001b[49m\n",
      "File \u001b[0;32m~/Documents/CodingPersonal/mobility-research/skmob_mmc_mobility/venv/lib/python3.8/site-packages/IPython/core/formatters.py:222\u001b[0m, in \u001b[0;36mcatch_format_error\u001b[0;34m(method, self, *args, **kwargs)\u001b[0m\n\u001b[1;32m    220\u001b[0m \u001b[38;5;124;03m\"\"\"show traceback on failed format call\"\"\"\u001b[39;00m\n\u001b[1;32m    221\u001b[0m \u001b[38;5;28;01mtry\u001b[39;00m:\n\u001b[0;32m--> 222\u001b[0m     r \u001b[38;5;241m=\u001b[39m \u001b[43mmethod\u001b[49m\u001b[43m(\u001b[49m\u001b[38;5;28;43mself\u001b[39;49m\u001b[43m,\u001b[49m\u001b[43m \u001b[49m\u001b[38;5;241;43m*\u001b[39;49m\u001b[43margs\u001b[49m\u001b[43m,\u001b[49m\u001b[43m \u001b[49m\u001b[38;5;241;43m*\u001b[39;49m\u001b[38;5;241;43m*\u001b[39;49m\u001b[43mkwargs\u001b[49m\u001b[43m)\u001b[49m\n\u001b[1;32m    223\u001b[0m \u001b[38;5;28;01mexcept\u001b[39;00m \u001b[38;5;167;01mNotImplementedError\u001b[39;00m:\n\u001b[1;32m    224\u001b[0m     \u001b[38;5;66;03m# don't warn on NotImplementedErrors\u001b[39;00m\n\u001b[1;32m    225\u001b[0m     \u001b[38;5;28;01mreturn\u001b[39;00m \u001b[38;5;28mself\u001b[39m\u001b[38;5;241m.\u001b[39m_check_return(\u001b[38;5;28;01mNone\u001b[39;00m, args[\u001b[38;5;241m0\u001b[39m])\n",
      "File \u001b[0;32m~/Documents/CodingPersonal/mobility-research/skmob_mmc_mobility/venv/lib/python3.8/site-packages/IPython/core/formatters.py:339\u001b[0m, in \u001b[0;36mBaseFormatter.__call__\u001b[0;34m(self, obj)\u001b[0m\n\u001b[1;32m    337\u001b[0m     \u001b[38;5;28;01mpass\u001b[39;00m\n\u001b[1;32m    338\u001b[0m \u001b[38;5;28;01melse\u001b[39;00m:\n\u001b[0;32m--> 339\u001b[0m     \u001b[38;5;28;01mreturn\u001b[39;00m \u001b[43mprinter\u001b[49m\u001b[43m(\u001b[49m\u001b[43mobj\u001b[49m\u001b[43m)\u001b[49m\n\u001b[1;32m    340\u001b[0m \u001b[38;5;66;03m# Finally look for special method names\u001b[39;00m\n\u001b[1;32m    341\u001b[0m method \u001b[38;5;241m=\u001b[39m get_real_method(obj, \u001b[38;5;28mself\u001b[39m\u001b[38;5;241m.\u001b[39mprint_method)\n",
      "File \u001b[0;32m~/Documents/CodingPersonal/mobility-research/skmob_mmc_mobility/venv/lib/python3.8/site-packages/IPython/core/pylabtools.py:151\u001b[0m, in \u001b[0;36mprint_figure\u001b[0;34m(fig, fmt, bbox_inches, base64, **kwargs)\u001b[0m\n\u001b[1;32m    148\u001b[0m     \u001b[38;5;28;01mfrom\u001b[39;00m \u001b[38;5;21;01mmatplotlib\u001b[39;00m\u001b[38;5;21;01m.\u001b[39;00m\u001b[38;5;21;01mbackend_bases\u001b[39;00m \u001b[38;5;28;01mimport\u001b[39;00m FigureCanvasBase\n\u001b[1;32m    149\u001b[0m     FigureCanvasBase(fig)\n\u001b[0;32m--> 151\u001b[0m \u001b[43mfig\u001b[49m\u001b[38;5;241;43m.\u001b[39;49m\u001b[43mcanvas\u001b[49m\u001b[38;5;241;43m.\u001b[39;49m\u001b[43mprint_figure\u001b[49m\u001b[43m(\u001b[49m\u001b[43mbytes_io\u001b[49m\u001b[43m,\u001b[49m\u001b[43m \u001b[49m\u001b[38;5;241;43m*\u001b[39;49m\u001b[38;5;241;43m*\u001b[39;49m\u001b[43mkw\u001b[49m\u001b[43m)\u001b[49m\n\u001b[1;32m    152\u001b[0m data \u001b[38;5;241m=\u001b[39m bytes_io\u001b[38;5;241m.\u001b[39mgetvalue()\n\u001b[1;32m    153\u001b[0m \u001b[38;5;28;01mif\u001b[39;00m fmt \u001b[38;5;241m==\u001b[39m \u001b[38;5;124m'\u001b[39m\u001b[38;5;124msvg\u001b[39m\u001b[38;5;124m'\u001b[39m:\n",
      "File \u001b[0;32m~/Documents/CodingPersonal/mobility-research/skmob_mmc_mobility/venv/lib/python3.8/site-packages/matplotlib/backend_bases.py:2299\u001b[0m, in \u001b[0;36mFigureCanvasBase.print_figure\u001b[0;34m(self, filename, dpi, facecolor, edgecolor, orientation, format, bbox_inches, pad_inches, bbox_extra_artists, backend, **kwargs)\u001b[0m\n\u001b[1;32m   2297\u001b[0m \u001b[38;5;28;01mif\u001b[39;00m bbox_inches:\n\u001b[1;32m   2298\u001b[0m     \u001b[38;5;28;01mif\u001b[39;00m bbox_inches \u001b[38;5;241m==\u001b[39m \u001b[38;5;124m\"\u001b[39m\u001b[38;5;124mtight\u001b[39m\u001b[38;5;124m\"\u001b[39m:\n\u001b[0;32m-> 2299\u001b[0m         bbox_inches \u001b[38;5;241m=\u001b[39m \u001b[38;5;28;43mself\u001b[39;49m\u001b[38;5;241;43m.\u001b[39;49m\u001b[43mfigure\u001b[49m\u001b[38;5;241;43m.\u001b[39;49m\u001b[43mget_tightbbox\u001b[49m\u001b[43m(\u001b[49m\n\u001b[1;32m   2300\u001b[0m \u001b[43m            \u001b[49m\u001b[43mrenderer\u001b[49m\u001b[43m,\u001b[49m\u001b[43m \u001b[49m\u001b[43mbbox_extra_artists\u001b[49m\u001b[38;5;241;43m=\u001b[39;49m\u001b[43mbbox_extra_artists\u001b[49m\u001b[43m)\u001b[49m\n\u001b[1;32m   2301\u001b[0m         \u001b[38;5;28;01mif\u001b[39;00m pad_inches \u001b[38;5;129;01mis\u001b[39;00m \u001b[38;5;28;01mNone\u001b[39;00m:\n\u001b[1;32m   2302\u001b[0m             pad_inches \u001b[38;5;241m=\u001b[39m rcParams[\u001b[38;5;124m'\u001b[39m\u001b[38;5;124msavefig.pad_inches\u001b[39m\u001b[38;5;124m'\u001b[39m]\n",
      "File \u001b[0;32m~/Documents/CodingPersonal/mobility-research/skmob_mmc_mobility/venv/lib/python3.8/site-packages/matplotlib/figure.py:1633\u001b[0m, in \u001b[0;36mFigureBase.get_tightbbox\u001b[0;34m(self, renderer, bbox_extra_artists)\u001b[0m\n\u001b[1;32m   1631\u001b[0m \u001b[38;5;28;01mfor\u001b[39;00m a \u001b[38;5;129;01min\u001b[39;00m artists:\n\u001b[1;32m   1632\u001b[0m     bbox \u001b[38;5;241m=\u001b[39m a\u001b[38;5;241m.\u001b[39mget_tightbbox(renderer)\n\u001b[0;32m-> 1633\u001b[0m     \u001b[38;5;28;01mif\u001b[39;00m \u001b[43mbbox\u001b[49m\u001b[43m \u001b[49m\u001b[38;5;129;43;01mis\u001b[39;49;00m\u001b[43m \u001b[49m\u001b[38;5;129;43;01mnot\u001b[39;49;00m\u001b[43m \u001b[49m\u001b[38;5;28;43;01mNone\u001b[39;49;00m \u001b[38;5;129;01mand\u001b[39;00m (bbox\u001b[38;5;241m.\u001b[39mwidth \u001b[38;5;241m!=\u001b[39m \u001b[38;5;241m0\u001b[39m \u001b[38;5;129;01mor\u001b[39;00m bbox\u001b[38;5;241m.\u001b[39mheight \u001b[38;5;241m!=\u001b[39m \u001b[38;5;241m0\u001b[39m):\n\u001b[1;32m   1634\u001b[0m         bb\u001b[38;5;241m.\u001b[39mappend(bbox)\n\u001b[1;32m   1636\u001b[0m \u001b[38;5;28;01mfor\u001b[39;00m ax \u001b[38;5;129;01min\u001b[39;00m \u001b[38;5;28mself\u001b[39m\u001b[38;5;241m.\u001b[39maxes:\n",
      "\u001b[0;31mKeyboardInterrupt\u001b[0m: "
     ]
    }
   ],
   "source": [
    "# Let's play the min-max game\n",
    "def train():\n",
    "    # Define the optimizers and the train operations\n",
    "    optimizer = tf.keras.optimizers.Adam(1e-4)\n",
    "\n",
    "    @tf.function\n",
    "    def train_step():\n",
    "        with tf.GradientTape(persistent=True) as tape:\n",
    "            real_data = sample_dataset_2d()\n",
    "            noise_vector = tf.random.normal(\n",
    "                mean=0, stddev=1, shape=(real_data.shape[0], latent_space_shape[0])\n",
    "            )\n",
    "            # Sample from the Generator\n",
    "            fake_data = G(noise_vector)\n",
    "            # Compute the D loss\n",
    "            d_fake_data = D(fake_data)\n",
    "            d_real_data = D(real_data)\n",
    "            d_loss_value = d_loss(generated_output=d_fake_data, real_output=d_real_data)\n",
    "            # Compute the G loss\n",
    "            g_loss_value = g_loss(generated_output=d_fake_data)\n",
    "        # Now that we have computed the losses, we can compute the gradients \n",
    "        # (using the tape) and optimize the networks\n",
    "        d_gradients = tape.gradient(d_loss_value, D.trainable_variables)\n",
    "        g_gradients = tape.gradient(g_loss_value, G.trainable_variables)\n",
    "        del tape\n",
    "\n",
    "        # Apply gradients to variables\n",
    "        optimizer.apply_gradients(zip(d_gradients, D.trainable_variables))\n",
    "        optimizer.apply_gradients(zip(g_gradients, G.trainable_variables))\n",
    "        return real_data, fake_data, g_loss_value, d_loss_value\n",
    "\n",
    "    # 40000 training steps with logging every 200 steps\n",
    "    fig, ax = plt.subplots()\n",
    "    for step in range(40000):\n",
    "        real_data, fake_data, g_loss_value, d_loss_value = train_step()\n",
    "        if step % 200 == 0:\n",
    "            print(\n",
    "                \"G loss: \",\n",
    "                g_loss_value.numpy(),\n",
    "                \" D loss: \",\n",
    "                d_loss_value.numpy(),\n",
    "                \" step: \",\n",
    "                step,\n",
    "            )\n",
    "\n",
    "            # Sample 5000 values from the Generator and draw the histogram\n",
    "            total_real_data = np.concatenate([real_data[:,0].numpy(),real_data[:,1].numpy()])\n",
    "            total_fake_data = np.concatenate([fake_data[:,0].numpy(),fake_data[:,1].numpy()])\n",
    "            \n",
    "            ax.hist(total_fake_data, 100)\n",
    "            ax.hist(total_real_data, 100)\n",
    "            # these are matplotlib.patch.Patch properties\n",
    "            props = dict(boxstyle=\"round\", facecolor=\"wheat\", alpha=0.5)\n",
    "\n",
    "            # place a text box in upper left in axes coords\n",
    "            textstr = f\"step={step}\"\n",
    "            ax.text(\n",
    "                0.05,\n",
    "                0.95,\n",
    "                textstr,\n",
    "                transform=ax.transAxes,\n",
    "                fontsize=14,\n",
    "                verticalalignment=\"top\",\n",
    "                bbox=props,\n",
    "            )\n",
    "\n",
    "            axes = plt.gca()\n",
    "            axes.set_xlim([-1, 11])\n",
    "            axes.set_ylim([0, 200])\n",
    "            display.display(pl.gcf())\n",
    "            #display.clear_output(wait=True)\n",
    "            plt.savefig(\"./gif/{}.png\".format(step))\n",
    "            plt.gca().clear()\n",
    "\n",
    "\n",
    "train()"
   ]
  },
  {
   "cell_type": "code",
   "execution_count": null,
   "metadata": {
    "id": "UhXgEGjPhLEx"
   },
   "outputs": [],
   "source": []
  },
  {
   "cell_type": "markdown",
   "metadata": {},
   "source": [
    "# Prueba con 3 Dimensiones"
   ]
  },
  {
   "cell_type": "code",
   "execution_count": 450,
   "metadata": {
    "executionInfo": {
     "elapsed": 379,
     "status": "ok",
     "timestamp": 1650668000125,
     "user": {
      "displayName": "Yuri Gabriel Pila Huancachoque",
      "userId": "01047346606913623595"
     },
     "user_tz": 300
    },
    "id": "CNzvJFuXj1rP"
   },
   "outputs": [],
   "source": [
    "if not os.path.exists('./gif/'):\n",
    "    os.makedirs('./gif/')"
   ]
  },
  {
   "cell_type": "code",
   "execution_count": 451,
   "metadata": {
    "executionInfo": {
     "elapsed": 384,
     "status": "ok",
     "timestamp": 1650668153990,
     "user": {
      "displayName": "Yuri Gabriel Pila Huancachoque",
      "userId": "01047346606913623595"
     },
     "user_tz": 300
    },
    "id": "jHN_bRj6j1yq"
   },
   "outputs": [],
   "source": [
    "def get_real_dataset():\n",
    "    dataset_shape = (2000, 1)\n",
    "    rand_1 = tf.random.normal(\n",
    "            mean=10.0, shape=dataset_shape, stddev=0.1, dtype=tf.float32\n",
    "        )\n",
    "    rand_2 = tf.random.normal(\n",
    "            mean=5.0, shape=dataset_shape, stddev=0.5, dtype=tf.float32\n",
    "        )\n",
    "    rand_3 = tf.random.normal(\n",
    "            mean=-4.0, shape=dataset_shape, stddev=1.5, dtype=tf.float32\n",
    "        )\n",
    "    return tf.concat([rand_1, rand_2, rand_3], axis=1)  \n",
    "\n",
    "\n",
    "def build_generator(input_shape, output_shape=3):\n",
    "    inputs = tf.keras.layers.Input(input_shape)\n",
    "    net = tf.keras.layers.Dense(units=64, activation=tf.nn.elu, name='fc1')(inputs)\n",
    "    net = tf.keras.layers.Dense(units=64, activation=tf.nn.elu, name='fc2')(net)\n",
    "    net = tf.keras.layers.Dense(units=output_shape, name='G')(net)\n",
    "    G = tf.keras.Model(inputs=inputs, outputs=net)\n",
    "    return G\n",
    "\n",
    "def build_discriminator(input_shape):\n",
    "    inputs = tf.keras.layers.Input(input_shape)\n",
    "    net = tf.keras.layers.Dense(units=32, activation=tf.nn.elu, name='fc1')(inputs)\n",
    "    net = tf.keras.layers.Dense(units=1, name='D')(net)\n",
    "    D = tf.keras.Model(inputs=inputs, outputs=net)\n",
    "    return D \n",
    "\n",
    "\n",
    "def d_loss(real_output, generated_output):\n",
    "    '''Discriminator Loss Function'''\n",
    "    bce = tf.keras.losses.BinaryCrossentropy(from_logits=True)\n",
    "    d_loss = bce(tf.ones_like(real_output), real_output)\\\n",
    "            + bce(tf.zeros_like(generated_output), generated_output)\n",
    "    return d_loss\n",
    "\n",
    "def g_loss(generated_output):\n",
    "    '''Generator Loss Function'''\n",
    "    bce = tf.keras.losses.BinaryCrossentropy(from_logits=True)\n",
    "    g_loss = bce(tf.ones_like(generated_output), generated_output)\n",
    "    return g_loss\n",
    "\n",
    "def add_norm_distance(data):\n",
    "    norm = tf.reduce_sum(tf.math.square(data), axis=1, keepdims=True) ** 0.5\n",
    "    combined = tf.concat([data,norm], axis=1)\n",
    "    return combined\n",
    "\n",
    "\n",
    "def get_noise_data(mean, stddev, shape):\n",
    "    noise_vector = tf.random.normal(mean=mean, stddev=stddev, shape=shape)\n",
    "    return noise_vector"
   ]
  },
  {
   "cell_type": "code",
   "execution_count": 452,
   "metadata": {},
   "outputs": [],
   "source": [
    "#@tf.function\n",
    "def train_step():\n",
    "    with tf.GradientTape(persistent=True) as tape:\n",
    "        real_data = get_real_dataset()\n",
    "        noise_vector = get_noise_data(\n",
    "            mean=0, \n",
    "            stddev=1, \n",
    "            shape=(len(real_data), noise_space)\n",
    "        )\n",
    "\n",
    "        # Sample from the Generator\n",
    "        fake_data = G(noise_vector)\n",
    "\n",
    "        # Adding Norm\n",
    "        real_data_norm = add_norm_distance(real_data) \n",
    "        fake_data_norm = add_norm_distance(fake_data) \n",
    "\n",
    "        # Compute the D loss\n",
    "        d_fake_data = D(fake_data_norm)\n",
    "        d_real_data = D(real_data_norm)\n",
    "        d_loss_value = d_loss(generated_output=d_fake_data, real_output=d_real_data)\n",
    "\n",
    "        # Compute the G loss\n",
    "        g_loss_value = g_loss(generated_output=d_fake_data)\n",
    "\n",
    "    # Now that we have computed the losses, we can compute the gradients \n",
    "    # (using the tape) and optimize the networks\n",
    "    d_gradients = tape.gradient(d_loss_value, D.trainable_variables)\n",
    "    g_gradients = tape.gradient(g_loss_value, G.trainable_variables)\n",
    "    del tape\n",
    "\n",
    "    # Apply gradients to variables\n",
    "    optimizer.apply_gradients(zip(d_gradients, D.trainable_variables))\n",
    "    optimizer.apply_gradients(zip(g_gradients, G.trainable_variables))\n",
    "\n",
    "    return real_data, fake_data, g_loss_value, d_loss_value"
   ]
  },
  {
   "cell_type": "code",
   "execution_count": 453,
   "metadata": {
    "executionInfo": {
     "elapsed": 729,
     "status": "ok",
     "timestamp": 1650668285212,
     "user": {
      "displayName": "Yuri Gabriel Pila Huancachoque",
      "userId": "01047346606913623595"
     },
     "user_tz": 300
    },
    "id": "3fo5-ygYqCKn"
   },
   "outputs": [],
   "source": [
    "input_space = 4\n",
    "input_shape = (input_space,)\n",
    "D = build_discriminator(input_shape)\n",
    "\n",
    "# noise\n",
    "noise_space = 100\n",
    "latent_space_shape = (noise_space,)\n",
    "G = build_generator(latent_space_shape)\n",
    "\n",
    "n_epochs = 40000\n",
    "optimizer = tf.keras.optimizers.Adam(1e-3)"
   ]
  },
  {
   "cell_type": "code",
   "execution_count": null,
   "metadata": {
    "scrolled": true,
    "tags": []
   },
   "outputs": [
    {
     "name": "stdout",
     "output_type": "stream",
     "text": [
      "G Loss: 0.548\tD Loss: 1.009\tstep: 0\n"
     ]
    },
    {
     "data": {
      "image/png": "[encoded data removed]",
      "text/plain": [
       "<Figure size 1008x1296 with 8 Axes>"
      ]
     },
     "metadata": {},
     "output_type": "display_data"
    },
    {
     "name": "stderr",
     "output_type": "stream",
     "text": [
      "\n",
      "KeyboardInterrupt\n",
      "\n"
     ]
    },
    {
     "name": "stdout",
     "output_type": "stream",
     "text": [
      "Error in callback <function flush_figures at 0x11d6c9160> (for post_execute):\n"
     ]
    },
    {
     "name": "stderr",
     "output_type": "stream",
     "text": [
      "\n",
      "KeyboardInterrupt\n",
      "\n"
     ]
    }
   ],
   "source": [
    "history = {'step':[], 'gloss':[], 'dloss':[]}\n",
    "for step in range(n_epochs):\n",
    "    real_data, fake_data, g_loss_value, d_loss_value = train_step()\n",
    "\n",
    "    g_loss_np = g_loss_value.numpy()\n",
    "    d_loss_np = d_loss_value.numpy()\n",
    "    \n",
    "    history['step'].append(step)\n",
    "    history['gloss'].append(g_loss_np)\n",
    "    history['dloss'].append(d_loss_np)\n",
    "    \n",
    "    if step % 200 == 0:\n",
    "        dfh = pd.DataFrame(history)\n",
    "        textstr = f\"step={step}\" \n",
    "        print(f'G Loss: {g_loss_np:.03f}\\tD Loss: {d_loss_np:.03f}\\tstep: {step}')\n",
    "\n",
    "        fig = plt.figure(figsize = (14, 18))\n",
    "        grid = plt.GridSpec(12, 6, wspace =0.5, hspace = 1.5, figure=fig)\n",
    "\n",
    "        g1 = plt.subplot(grid[0:2, :3]) # Dimension 1\n",
    "        g2 = plt.subplot(grid[0:2, 3:]) # Dimension 2\n",
    "        g3 = plt.subplot(grid[2:4, :3]) # Dimension 3\n",
    "        g4 = plt.subplot(grid[2:4, 3:]) # Dimension 2, 3\n",
    "        g5 = plt.subplot(grid[4:6, :])  # G Loss\n",
    "        g6 = plt.subplot(grid[6:8, :])  # D Loss\n",
    "        g7 = plt.subplot(grid[8:10, :])  # G Loss Last 1000 epochs\n",
    "        g8 = plt.subplot(grid[10:12, :])  # D Loss Last 1000 epochs\n",
    "\n",
    "        # Generación de Hora\n",
    "        g1.hist(fake_data[:,0].numpy(), 100, alpha=0.3)\n",
    "        g1.hist(real_data[:,0].numpy(), 100, alpha=0.3)\n",
    "        props = dict(boxstyle=\"round\", facecolor=\"wheat\", alpha=0.5)\n",
    "        g1.set_title(\"Eje 1: Hora\")\n",
    "        g1.set_ylabel('Frequency')\n",
    "        g1.set_xlabel('Hora')\n",
    "        g1.text(0.05,0.95,textstr,transform=g1.transAxes,fontsize=14,verticalalignment=\"top\",bbox=props,)\n",
    "\n",
    "        # Generación de Latitud        \n",
    "        g2.hist(fake_data[:,1].numpy(), 100, alpha=0.3)\n",
    "        g2.hist(real_data[:,1].numpy(), 100, alpha=0.3)\n",
    "        g2.set_title(\"Eje 2: Latitud\")\n",
    "        g2.set_ylabel('Frequency')\n",
    "        g2.set_xlabel('Latitud')\n",
    "        g2.text(0.05,0.95,textstr,transform=g2.transAxes,fontsize=14,verticalalignment=\"top\",bbox=props,)\n",
    "\n",
    "        # Generación de Longitud\n",
    "        g3.hist(fake_data[:,2].numpy(), 100, alpha=0.3)\n",
    "        g3.hist(real_data[:,2].numpy(), 100, alpha=0.3)\n",
    "        g3.set_title(\"Eje 3: Longitud\")\n",
    "        g3.set_ylabel('Frequency')\n",
    "        g3.set_xlabel('Longitud')\n",
    "        g3.text(0.05,0.95,textstr,transform=g3.transAxes,fontsize=14,verticalalignment=\"top\",bbox=props,)\n",
    "\n",
    "        # Generación de Latitud vs Longitud\n",
    "        g4.scatter(fake_data[:,1].numpy(), fake_data[:,2].numpy(), alpha=0.3)\n",
    "        g4.scatter(real_data[:,1].numpy(), real_data[:,2].numpy(), alpha=0.3)\n",
    "        g4.set_title('Combo: Latitud vs Longitud')\n",
    "        g4.set_ylabel('Longitud')\n",
    "        g4.set_xlabel('Latitud')\n",
    "        g4.text(0.05,0.95,textstr,transform=g4.transAxes,fontsize=14,verticalalignment=\"top\",bbox=props,)\n",
    "\n",
    "        # Evolución del Generador\n",
    "        g5.plot(history['gloss'])\n",
    "        g5.set_title('Generator Loss Evolution')\n",
    "        g5.set_ylabel('loss')\n",
    "        g5.set_xlabel('epochs')\n",
    "        g5.text(0.05,0.95,textstr,transform=g5.transAxes,fontsize=14,verticalalignment=\"top\",bbox=props,)\n",
    "\n",
    "        # Evolución del Discriminador\n",
    "        g6.plot(history['dloss'])\n",
    "        g6.set_title('Discriminator Loss Evolution')\n",
    "        g6.set_ylabel('loss')\n",
    "        g6.set_xlabel('epochs')\n",
    "        g6.text(0.05,0.95,textstr,transform=g6.transAxes,fontsize=14,verticalalignment=\"top\",bbox=props,)\n",
    "       \n",
    "        # Evolución del Generador - Last 1000 epochs\n",
    "        g7.plot(dfh.tail(1000).set_index('step')['gloss'])\n",
    "        g7.set_title('Generator Loss Evolution - Last 1000 epochs')\n",
    "        g7.set_ylabel('loss')\n",
    "        g7.set_xlabel('epochs')\n",
    "        g7.text(0.05,0.95,textstr,transform=g7.transAxes,fontsize=14,verticalalignment=\"top\",bbox=props,)\n",
    "\n",
    "        # Evolución del Discriminador - Last 1000 epochs\n",
    "        g8.plot(dfh.tail(1000).set_index('step')['dloss'])\n",
    "        g8.set_title('Discriminator Loss Evolution - Last 1000 epochs')\n",
    "        g8.set_ylabel('loss')\n",
    "        g8.set_xlabel('epochs')\n",
    "        g8.text(0.05,0.95,textstr,transform=g8.transAxes,fontsize=14,verticalalignment=\"top\",bbox=props,)\n",
    "\n",
    "        \n",
    "        display.display(pl.gcf())\n",
    "        #display.clear_output(wait=True)\n",
    "\n",
    "        plt.savefig(\"./gif/{}.png\".format(step))\n",
    "        plt.gca().clear()"
   ]
  },
  {
   "cell_type": "code",
   "execution_count": null,
   "metadata": {},
   "outputs": [],
   "source": []
  },
  {
   "cell_type": "code",
   "execution_count": null,
   "metadata": {},
   "outputs": [],
   "source": []
  },
  {
   "cell_type": "code",
   "execution_count": null,
   "metadata": {},
   "outputs": [],
   "source": []
  },
  {
   "cell_type": "markdown",
   "metadata": {
    "tags": []
   },
   "source": [
    "# Prueba con Data Real"
   ]
  },
  {
   "cell_type": "code",
   "execution_count": 455,
   "metadata": {},
   "outputs": [],
   "source": [
    "import sys\n",
    "sys.path.append('../programs/gan_utils/')\n",
    "\n",
    "from gan_utils import (get_optimizers, \n",
    "                        get_data, \n",
    "                        get_generated_data, \n",
    "                        get_data_user_conjoined, \n",
    "                        plot_user_geodata)"
   ]
  },
  {
   "cell_type": "code",
   "execution_count": 456,
   "metadata": {
    "executionInfo": {
     "elapsed": 729,
     "status": "ok",
     "timestamp": 1650668285212,
     "user": {
      "displayName": "Yuri Gabriel Pila Huancachoque",
      "userId": "01047346606913623595"
     },
     "user_tz": 300
    },
    "id": "3fo5-ygYqCKn"
   },
   "outputs": [],
   "source": [
    "input_space = 4\n",
    "input_shape = (input_space,)\n",
    "D = build_discriminator(input_shape)\n",
    "\n",
    "# noise\n",
    "noise_space = 3\n",
    "latent_space_shape = (noise_space,)\n",
    "G = build_generator(latent_space_shape)\n",
    "\n",
    "n_epochs = 40000\n",
    "optimizer = tf.keras.optimizers.Adam(1e-3)"
   ]
  },
  {
   "cell_type": "code",
   "execution_count": 457,
   "metadata": {},
   "outputs": [],
   "source": [
    "data_user = pd.read_csv('../data/users_cl/data_user_002.csv')\n",
    "data_user['hour'] = pd.to_datetime(data_user['time']).dt.hour\n",
    "data_formatted = data_user[['hour','lat','lon']]"
   ]
  },
  {
   "cell_type": "code",
   "execution_count": 458,
   "metadata": {},
   "outputs": [],
   "source": [
    "def get_real_dataset(n_sample=5000):\n",
    "    data_sample = data_formatted.sample(5000)\n",
    "    data_sample = tf.convert_to_tensor(data_sample, dtype=tf.float32)\n",
    "    return data_sample"
   ]
  },
  {
   "cell_type": "code",
   "execution_count": 459,
   "metadata": {},
   "outputs": [],
   "source": [
    "def get_noise_data_3d(real_data, shape):    \n",
    "    min_1, min_2, min_3 = real_data.numpy().min(axis=0)\n",
    "    max_1, max_2, max_3 = real_data.numpy().max(axis=0)\n",
    "    \n",
    "    n = shape[0] // 3\n",
    "    n3 = shape[0] - 2 * n\n",
    "    noise1 = tf.random.uniform(shape=(n,100), minval=min_1, maxval=max_1)\n",
    "    noise2 = tf.random.uniform(shape=(n,100), minval=min_2, maxval=max_2)\n",
    "    noise3 = tf.random.uniform(shape=(n3,100), minval=min_3, maxval=max_3)\n",
    "    noise_vector = tf.concat([noise1, noise2, noise3], axis=0)\n",
    "    return noise_vector"
   ]
  },
  {
   "cell_type": "markdown",
   "metadata": {},
   "source": [
    "- REAL SHAPE (2000, 3)\n",
    "\n",
    "- NOISE  (ANY) 1D\n",
    "\n",
    "- GENERADOR\n",
    "\n",
    "- OUTPUT GENERADOR  (2000, 3)\n",
    "\n",
    "- DISCRIMINADOR\n",
    "\n",
    "- OUTPUT DISCRIMINADOR  (2000, 1)"
   ]
  },
  {
   "cell_type": "code",
   "execution_count": 460,
   "metadata": {},
   "outputs": [
    {
     "data": {
      "text/plain": [
       "'\\ndef get_noise_data_3d(real_data, shape):    \\n    min_1, min_2, min_3 = real_data.numpy().min(axis=0)\\n    max_1, max_2, max_3 = real_data.numpy().max(axis=0)\\n    \\n    n = shape[0] // 3\\n    n3 = shape[0] - 2 * n\\n    noise1 = tf.random.uniform(shape=(n,100), minval=min_1, maxval=max_1)\\n    noise2 = tf.random.uniform(shape=(n,100), minval=min_2, maxval=max_2)\\n    noise3 = tf.random.uniform(shape=(n3,100), minval=min_3, maxval=max_3)\\n    noise_vector = tf.concat([noise1, noise2, noise3], axis=0)\\n    return noise_vector\\n'"
      ]
     },
     "execution_count": 460,
     "metadata": {},
     "output_type": "execute_result"
    }
   ],
   "source": [
    "\"\"\"\n",
    "def get_noise_data_3d(real_data, shape):    \n",
    "    min_1, min_2, min_3 = real_data.numpy().min(axis=0)\n",
    "    max_1, max_2, max_3 = real_data.numpy().max(axis=0)\n",
    "    \n",
    "    n = shape[0] // 3\n",
    "    n3 = shape[0] - 2 * n\n",
    "    noise1 = tf.random.uniform(shape=(n,100), minval=min_1, maxval=max_1)\n",
    "    noise2 = tf.random.uniform(shape=(n,100), minval=min_2, maxval=max_2)\n",
    "    noise3 = tf.random.uniform(shape=(n3,100), minval=min_3, maxval=max_3)\n",
    "    noise_vector = tf.concat([noise1, noise2, noise3], axis=0)\n",
    "    return noise_vector\n",
    "\"\"\""
   ]
  },
  {
   "cell_type": "code",
   "execution_count": 461,
   "metadata": {},
   "outputs": [],
   "source": [
    "def get_noise_data_3d(real_data):    \n",
    "    min_1, min_2, min_3 = real_data.numpy().min(axis=0)\n",
    "    max_1, max_2, max_3 = real_data.numpy().max(axis=0)\n",
    "    \n",
    "    noise1 = tf.random.uniform(shape=(len(real_data),1), minval=min_1, maxval=max_1)\n",
    "    noise2 = tf.random.uniform(shape=(len(real_data),1), minval=min_2, maxval=max_2)\n",
    "    noise3 = tf.random.uniform(shape=(len(real_data),1), minval=min_3, maxval=max_3)\n",
    "    noise_vector = tf.concat([noise1, noise2, noise3], axis=1)\n",
    "    return noise_vector"
   ]
  },
  {
   "cell_type": "code",
   "execution_count": 462,
   "metadata": {},
   "outputs": [],
   "source": [
    "#@tf.function\n",
    "def train_step():\n",
    "    with tf.GradientTape(persistent=True) as tape:\n",
    "        real_data = get_real_dataset()\n",
    "        #noise_vector = get_noise_data(\n",
    "        #    mean=0, \n",
    "        #    stddev=1, \n",
    "        #    shape=(len(real_data), noise_space)\n",
    "        #)\n",
    "        #noise_vector = get_noise_data_3d(\n",
    "        #    real_data, \n",
    "        #    shape=(len(real_data), noise_space)\n",
    "        #)\n",
    "        noise_vector = get_noise_data_3d(real_data)\n",
    "\n",
    "        # Sample from the Generator\n",
    "        fake_data = G(noise_vector)\n",
    "\n",
    "        # Adding Norm\n",
    "        real_data_norm = add_norm_distance(real_data) \n",
    "        fake_data_norm = add_norm_distance(fake_data) \n",
    "\n",
    "        # Compute the D loss\n",
    "        d_fake_data = D(fake_data_norm)\n",
    "        d_real_data = D(real_data_norm)\n",
    "        d_loss_value = d_loss(generated_output=d_fake_data, real_output=d_real_data)\n",
    "\n",
    "        # Compute the G loss\n",
    "        g_loss_value = g_loss(generated_output=d_fake_data)\n",
    "\n",
    "    # Now that we have computed the losses, we can compute the gradients \n",
    "    # (using the tape) and optimize the networks\n",
    "    d_gradients = tape.gradient(d_loss_value, D.trainable_variables)\n",
    "    g_gradients = tape.gradient(g_loss_value, G.trainable_variables)\n",
    "    del tape\n",
    "\n",
    "    # Apply gradients to variables\n",
    "    optimizer.apply_gradients(zip(d_gradients, D.trainable_variables))\n",
    "    optimizer.apply_gradients(zip(g_gradients, G.trainable_variables))\n",
    "\n",
    "    return real_data, fake_data, g_loss_value, d_loss_value"
   ]
  },
  {
   "cell_type": "code",
   "execution_count": 463,
   "metadata": {
    "scrolled": true,
    "tags": []
   },
   "outputs": [
    {
     "name": "stdout",
     "output_type": "stream",
     "text": [
      "G Loss: 0.926\tD Loss: 0.506\tstep: 0\n"
     ]
    },
    {
     "name": "stderr",
     "output_type": "stream",
     "text": [
      "\n",
      "KeyboardInterrupt\n",
      "\n"
     ]
    },
    {
     "name": "stdout",
     "output_type": "stream",
     "text": [
      "Error in callback <function flush_figures at 0x11d6c9160> (for post_execute):\n"
     ]
    },
    {
     "name": "stderr",
     "output_type": "stream",
     "text": [
      "\n",
      "KeyboardInterrupt\n",
      "\n"
     ]
    }
   ],
   "source": [
    "history = {'step':[], 'gloss':[], 'dloss':[]}\n",
    "for step in range(n_epochs):\n",
    "    real_data, fake_data, g_loss_value, d_loss_value = train_step()\n",
    "\n",
    "    g_loss_np = g_loss_value.numpy()\n",
    "    d_loss_np = d_loss_value.numpy()\n",
    "    \n",
    "    history['step'].append(step)\n",
    "    history['gloss'].append(g_loss_np)\n",
    "    history['dloss'].append(d_loss_np)\n",
    "    \n",
    "    if step % 200 == 0:\n",
    "        dfh = pd.DataFrame(history)\n",
    "        textstr = f\"step={step}\" \n",
    "        print(f'G Loss: {g_loss_np:.03f}\\tD Loss: {d_loss_np:.03f}\\tstep: {step}')\n",
    "\n",
    "        fig = plt.figure(figsize = (14, 18))\n",
    "        grid = plt.GridSpec(12, 6, wspace =0.5, hspace = 1.5, figure=fig)\n",
    "\n",
    "        g1 = plt.subplot(grid[0:2, :3]) # Dimension 1\n",
    "        g2 = plt.subplot(grid[0:2, 3:]) # Dimension 2\n",
    "        g3 = plt.subplot(grid[2:4, :3]) # Dimension 3\n",
    "        g4 = plt.subplot(grid[2:4, 3:]) # Dimension 2, 3\n",
    "        g5 = plt.subplot(grid[4:6, :])  # G Loss\n",
    "        g6 = plt.subplot(grid[6:8, :])  # D Loss\n",
    "        g7 = plt.subplot(grid[8:10, :])  # G Loss Last 1000 epochs\n",
    "        g8 = plt.subplot(grid[10:12, :])  # D Loss Last 1000 epochs\n",
    "\n",
    "        # Generación de Hora\n",
    "        g1.hist(fake_data[:,0].numpy(), 100, alpha=0.3)\n",
    "        g1.hist(real_data[:,0].numpy(), 100, alpha=0.3)\n",
    "        props = dict(boxstyle=\"round\", facecolor=\"wheat\", alpha=0.5)\n",
    "        g1.set_title(\"Eje 1: Hora\")\n",
    "        g1.set_ylabel('Frequency')\n",
    "        g1.set_xlabel('Hora')\n",
    "        g1.text(0.05,0.95,textstr,transform=g1.transAxes,fontsize=14,verticalalignment=\"top\",bbox=props,)\n",
    "\n",
    "        # Generación de Latitud        \n",
    "        g2.hist(fake_data[:,1].numpy(), 100, alpha=0.3)\n",
    "        g2.hist(real_data[:,1].numpy(), 100, alpha=0.3)\n",
    "        g2.set_title(\"Eje 2: Latitud\")\n",
    "        g2.set_ylabel('Frequency')\n",
    "        g2.set_xlabel('Latitud')\n",
    "        g2.text(0.05,0.95,textstr,transform=g2.transAxes,fontsize=14,verticalalignment=\"top\",bbox=props,)\n",
    "\n",
    "        # Generación de Longitud\n",
    "        g3.hist(fake_data[:,2].numpy(), 100, alpha=0.3)\n",
    "        g3.hist(real_data[:,2].numpy(), 100, alpha=0.3)\n",
    "        g3.set_title(\"Eje 3: Longitud\")\n",
    "        g3.set_ylabel('Frequency')\n",
    "        g3.set_xlabel('Longitud')\n",
    "        g3.text(0.05,0.95,textstr,transform=g3.transAxes,fontsize=14,verticalalignment=\"top\",bbox=props,)\n",
    "\n",
    "        # Generación de Latitud vs Longitud\n",
    "        g4.scatter(fake_data[:,1].numpy(), fake_data[:,2].numpy(), alpha=0.3)\n",
    "        g4.scatter(real_data[:,1].numpy(), real_data[:,2].numpy(), alpha=0.3)\n",
    "        g4.set_title('Combo: Latitud vs Longitud')\n",
    "        g4.set_ylabel('Longitud')\n",
    "        g4.set_xlabel('Latitud')\n",
    "        g4.text(0.05,0.95,textstr,transform=g4.transAxes,fontsize=14,verticalalignment=\"top\",bbox=props,)\n",
    "\n",
    "        # Evolución del Generador\n",
    "        g5.plot(history['gloss'])\n",
    "        g5.set_title('Generator Loss Evolution')\n",
    "        g5.set_ylabel('loss')\n",
    "        g5.set_xlabel('epochs')\n",
    "        g5.text(0.05,0.95,textstr,transform=g5.transAxes,fontsize=14,verticalalignment=\"top\",bbox=props,)\n",
    "\n",
    "        # Evolución del Discriminador\n",
    "        g6.plot(history['dloss'])\n",
    "        g6.set_title('Discriminator Loss Evolution')\n",
    "        g6.set_ylabel('loss')\n",
    "        g6.set_xlabel('epochs')\n",
    "        g6.text(0.05,0.95,textstr,transform=g6.transAxes,fontsize=14,verticalalignment=\"top\",bbox=props,)\n",
    "       \n",
    "        # Evolución del Generador - Last 1000 epochs\n",
    "        g7.plot(dfh.tail(1000).set_index('step')['gloss'])\n",
    "        g7.set_title('Generator Loss Evolution - Last 1000 epochs')\n",
    "        g7.set_ylabel('loss')\n",
    "        g7.set_xlabel('epochs')\n",
    "        g7.text(0.05,0.95,textstr,transform=g7.transAxes,fontsize=14,verticalalignment=\"top\",bbox=props,)\n",
    "\n",
    "        # Evolución del Discriminador - Last 1000 epochs\n",
    "        g8.plot(dfh.tail(1000).set_index('step')['dloss'])\n",
    "        g8.set_title('Discriminator Loss Evolution - Last 1000 epochs')\n",
    "        g8.set_ylabel('loss')\n",
    "        g8.set_xlabel('epochs')\n",
    "        g8.text(0.05,0.95,textstr,transform=g8.transAxes,fontsize=14,verticalalignment=\"top\",bbox=props,)\n",
    "\n",
    "        \n",
    "        display.display(pl.gcf())\n",
    "        #display.clear_output(wait=True)\n",
    "\n",
    "        plt.savefig(\"./gif/{}.png\".format(step))\n",
    "        plt.gca().clear()"
   ]
  },
  {
   "cell_type": "code",
   "execution_count": null,
   "metadata": {},
   "outputs": [],
   "source": []
  },
  {
   "cell_type": "code",
   "execution_count": null,
   "metadata": {},
   "outputs": [],
   "source": []
  },
  {
   "cell_type": "code",
   "execution_count": null,
   "metadata": {},
   "outputs": [],
   "source": []
  },
  {
   "cell_type": "code",
   "execution_count": null,
   "metadata": {},
   "outputs": [],
   "source": []
  },
  {
   "cell_type": "code",
   "execution_count": null,
   "metadata": {},
   "outputs": [],
   "source": []
  }
 ],
 "metadata": {
  "colab": {
   "authorship_tag": "ABX9TyN9ssKwBnBZ655aWibi52UP",
   "collapsed_sections": [],
   "name": "GAN_scratch_TF.ipynb",
   "provenance": []
  },
  "kernelspec": {
   "display_name": "Python 3 (ipykernel)",
   "language": "python",
   "name": "python3"
  },
  "language_info": {
   "codemirror_mode": {
    "name": "ipython",
    "version": 3
   },
   "file_extension": ".py",
   "mimetype": "text/x-python",
   "name": "python",
   "nbconvert_exporter": "python",
   "pygments_lexer": "ipython3",
   "version": "3.8.2"
  }
 },
 "nbformat": 4,
 "nbformat_minor": 4
}
